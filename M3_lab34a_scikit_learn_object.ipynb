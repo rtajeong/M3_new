{
  "nbformat": 4,
  "nbformat_minor": 0,
  "metadata": {
    "colab": {
      "name": "M3_lab34a_scikit_learn_object.ipynb",
      "provenance": [],
      "collapsed_sections": [],
      "include_colab_link": true
    },
    "kernelspec": {
      "name": "python3",
      "display_name": "Python 3"
    },
    "language_info": {
      "name": "python"
    }
  },
  "cells": [
    {
      "cell_type": "markdown",
      "metadata": {
        "id": "view-in-github",
        "colab_type": "text"
      },
      "source": [
        "<a href=\"https://colab.research.google.com/github/rtajeong/M3_new/blob/main/M3_lab34a_scikit_learn_object.ipynb\" target=\"_parent\"><img src=\"https://colab.research.google.com/assets/colab-badge.svg\" alt=\"Open In Colab\"/></a>"
      ]
    },
    {
      "cell_type": "markdown",
      "metadata": {
        "id": "iQQu179-mCEy"
      },
      "source": [
        "# Scikit-Learn API\n",
        "- to show how scikit-learn objects are made\n",
        "- all objects share a consistent and simple interface:\n",
        "   - fit(): estimators\n",
        "   - transform(): transformers\n",
        "   - fit_transform(): fit() + transform()\n",
        "   - predict(): prediction\n"
      ]
    },
    {
      "cell_type": "code",
      "metadata": {
        "id": "0Kok-wiOl210"
      },
      "source": [
        "import numpy as np\n",
        "from scipy import sparse\n",
        "from sklearn.base import BaseEstimator, TransformerMixin\n",
        "from sklearn.utils.validation import check_array, check_is_fitted\n",
        "from sklearn.utils.sparsefuncs import inplace_column_scale, mean_variance_axis"
      ],
      "execution_count": null,
      "outputs": []
    },
    {
      "cell_type": "code",
      "metadata": {
        "id": "nKqxwFJkmOkh"
      },
      "source": [
        "def _mean_and_std(X, axis=0):\n",
        "   \n",
        "    X = np.asarray(X)\n",
        "    mean_ = X.mean(axis)\n",
        "    std_ = X.std(axis)\n",
        "\n",
        "    return mean_, std_"
      ],
      "execution_count": null,
      "outputs": []
    },
    {
      "cell_type": "code",
      "metadata": {
        "colab": {
          "base_uri": "https://localhost:8080/"
        },
        "id": "KWh7F2cboEyi",
        "outputId": "15827159-3f3a-4aed-f209-6c7616082179"
      },
      "source": [
        "data = np.array([[1,2,3],[4,5,6]]); data"
      ],
      "execution_count": null,
      "outputs": [
        {
          "output_type": "execute_result",
          "data": {
            "text/plain": [
              "array([[1, 2, 3],\n",
              "       [4, 5, 6]])"
            ]
          },
          "metadata": {},
          "execution_count": 14
        }
      ]
    },
    {
      "cell_type": "code",
      "metadata": {
        "colab": {
          "base_uri": "https://localhost:8080/"
        },
        "id": "lMIClXDxuxef",
        "outputId": "f86516e4-a746-4d8c-ff5a-4b891132135a"
      },
      "source": [
        "_mean_and_std(data, 0), _mean_and_std(data, 1)"
      ],
      "execution_count": null,
      "outputs": [
        {
          "output_type": "execute_result",
          "data": {
            "text/plain": [
              "((array([2.5, 3.5, 4.5]), array([1.5, 1.5, 1.5])),\n",
              " (array([2., 5.]), array([0.81649658, 0.81649658])))"
            ]
          },
          "metadata": {},
          "execution_count": 15
        }
      ]
    },
    {
      "cell_type": "code",
      "metadata": {
        "id": "JEAq7b5koJ_L"
      },
      "source": [
        "class my_StandardScaler():\n",
        "\n",
        "    def __init__(self):\n",
        "        self.mean_, self.std_ = 0., 0.\n",
        "        \n",
        "    def fit(self, X, y=None):\n",
        "        X = X.astype(np.float32)\n",
        "        self.mean_, self.std_ = _mean_and_std(X, axis=0)\n",
        "        return self\n",
        "\n",
        "    def transform(self, X, y=None):\n",
        "        X = X.astype(np.float32)\n",
        "        X -= self.mean_\n",
        "        X /= self.std_\n",
        "        return X\n",
        "\n",
        "    def inverse_transform(self, X):\n",
        "        X = X.astype(np.float32)\n",
        "        X *= self.std_\n",
        "        X += self.mean_\n",
        "        return X"
      ],
      "execution_count": null,
      "outputs": []
    },
    {
      "cell_type": "code",
      "metadata": {
        "id": "vd0NcLoNqrJA"
      },
      "source": [
        "X = np.array([1,2,3,4,5,6,7,8,9,10])\n",
        "sc = my_StandardScaler()"
      ],
      "execution_count": null,
      "outputs": []
    },
    {
      "cell_type": "code",
      "metadata": {
        "id": "EtoOZkLIviQv"
      },
      "source": [
        "# dir(sc)"
      ],
      "execution_count": null,
      "outputs": []
    },
    {
      "cell_type": "code",
      "metadata": {
        "colab": {
          "base_uri": "https://localhost:8080/"
        },
        "id": "9j0xaZ37rGsg",
        "outputId": "694fd63c-5709-4ed7-9fa4-91a33ad90b3c"
      },
      "source": [
        "sc.fit(X)"
      ],
      "execution_count": null,
      "outputs": [
        {
          "output_type": "execute_result",
          "data": {
            "text/plain": [
              "<__main__.my_StandardScaler at 0x7f508240ff50>"
            ]
          },
          "metadata": {},
          "execution_count": 19
        }
      ]
    },
    {
      "cell_type": "code",
      "metadata": {
        "colab": {
          "base_uri": "https://localhost:8080/"
        },
        "id": "xxu4pcpQrI2f",
        "outputId": "3ca19ce7-bf59-470d-b7ee-5223f7cf83b3"
      },
      "source": [
        "sc.mean_, sc.std_"
      ],
      "execution_count": null,
      "outputs": [
        {
          "output_type": "execute_result",
          "data": {
            "text/plain": [
              "(5.5, 2.8722813)"
            ]
          },
          "metadata": {},
          "execution_count": 20
        }
      ]
    },
    {
      "cell_type": "code",
      "metadata": {
        "colab": {
          "base_uri": "https://localhost:8080/"
        },
        "id": "4rY9PS65rT3Y",
        "outputId": "2b5a4fa2-0623-4499-8661-221b656576ee"
      },
      "source": [
        "X_sc = sc.transform(X); X_sc"
      ],
      "execution_count": null,
      "outputs": [
        {
          "output_type": "execute_result",
          "data": {
            "text/plain": [
              "array([-1.5666989 , -1.2185436 , -0.87038827, -0.52223295, -0.17407766,\n",
              "        0.17407766,  0.52223295,  0.87038827,  1.2185436 ,  1.5666989 ],\n",
              "      dtype=float32)"
            ]
          },
          "metadata": {},
          "execution_count": 21
        }
      ]
    },
    {
      "cell_type": "code",
      "metadata": {
        "colab": {
          "base_uri": "https://localhost:8080/"
        },
        "id": "SG-q1S2Kr9Mw",
        "outputId": "407b4d98-827e-4078-8260-a810c51388ef"
      },
      "source": [
        "sc.inverse_transform(X_sc)"
      ],
      "execution_count": null,
      "outputs": [
        {
          "output_type": "execute_result",
          "data": {
            "text/plain": [
              "array([ 1.       ,  1.9999998,  3.       ,  4.       ,  5.       ,\n",
              "        6.       ,  7.       ,  8.       ,  9.       , 10.       ],\n",
              "      dtype=float32)"
            ]
          },
          "metadata": {},
          "execution_count": 22
        }
      ]
    }
  ]
}