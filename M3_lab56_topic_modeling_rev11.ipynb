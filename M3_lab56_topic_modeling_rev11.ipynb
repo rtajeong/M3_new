{
  "nbformat": 4,
  "nbformat_minor": 0,
  "metadata": {
    "colab": {
      "provenance": [],
      "toc_visible": true,
      "include_colab_link": true
    },
    "kernelspec": {
      "display_name": "Python 3",
      "language": "python",
      "name": "python3"
    },
    "language_info": {
      "codemirror_mode": {
        "name": "ipython",
        "version": 3
      },
      "file_extension": ".py",
      "mimetype": "text/x-python",
      "name": "python",
      "nbconvert_exporter": "python",
      "pygments_lexer": "ipython3",
      "version": "3.6.8"
    }
  },
  "cells": [
    {
      "cell_type": "markdown",
      "metadata": {
        "id": "view-in-github",
        "colab_type": "text"
      },
      "source": [
        "<a href=\"https://colab.research.google.com/github/rtajeong/M3_new/blob/main/M3_lab56_topic_modeling_rev11.ipynb\" target=\"_parent\"><img src=\"https://colab.research.google.com/assets/colab-badge.svg\" alt=\"Open In Colab\"/></a>"
      ]
    },
    {
      "cell_type": "markdown",
      "source": [
        "# LSA (Latent Semantic Analysis)\n",
        "- LDA (토픽 모델링) 에 아이디어 제공한 알고리즘\n",
        "- DTM(document-term matrix) 나 TfIdf matrix 에 Truncated SVD 이용"
      ],
      "metadata": {
        "id": "Y7rQTEIfqmOf"
      }
    },
    {
      "cell_type": "markdown",
      "source": [
        "![image.png](data:image/png;base64,iVBORw0KGgoAAAANSUhEUgAAAgAAAADPCAYAAACDWWmyAAAAAXNSR0IArs4c6QAAAARnQU1BAACxjwv8YQUAAAAJcEhZcwAAEnQAABJ0Ad5mH3gAAD27SURBVHhe7Z0JvJVz/sd/LbZKC1EhtO9FkWSXlIwkapBKZoaGLMP425dM1hdjLDNkYkYYe0iJKFtFhBZFK+1KUVJUcv/3/Z3za57OPeeuz3nuWT5vns69zz3n2c/vu39/FfLycUIIIYTIKSrGXoUQQgiRQ0gBEEIIIXIQKQBCCCFEDiIFQAghhMhBpAAIIYQQOYgUACGEECIHkQIghBBC5CBSAIQQQogcRAqAEEIIkYNIARBCCCFyECkAQgghRA4iBUAIIYTIQaQACCGEEDmIFAAhhBAiB9F0wEKInOODDz5wM2bMcMuWLXOVKlVy++67r+vZs6erW7du7B1CZD9SAETO8sMPP7gVK1a4bdu2uV9//TW2tvggNPbYY4/YbyKT+Mc//uGeeeYZN23aNFe5cmV3yCGHuPvvv9+1bt069o6S8d1337nly5fHfvsfFSpUMAVj7733dnvuuaetW7NmjVu5cqX9zN923nlnV6dOHbf77rvbumT8+OOPbu3ate6nn35yW7dutXU8g9WqVXPff/+927Bhg/2tMPzxsD89u0IKgMhZJk6c6O644w63fv16t3nz5tja4nPddde5Pn36xH4TmUTYCsDzzz/vbr311thv/2OnnXYywf6HP/zBnXXWWbbuiSeecPfcc4/9XKNGDbfffvu5Cy+80B1xxBG2Lhl4LTjmOXPmuG+//dbW3XDDDa5jx45uzJgxbtKkSW727Nm2PhkoGxwP+zv99NNja0WuUunmfGI/C5FTTJ8+3Y0cOdItXrzYXMGrVq0q0XLccce5Qw89NLY1URS//PKLKVuTJ092Y8eOdatXr7b1tWvXttco+fjjj93nn39uHqCKFSu6ffbZx5100klmqRcXrPiZM2e68ePHu1deecW9/fbbCZ8TztN7mQgxfPnll+6tt95yS5Yssf0jzA8++GB34IEHmoDGSk/Ehx9+6B577DH3xRdfmMeB9/IMYs1PmTLF/v7ZZ58lPAa/cCwsP//8s73y7HP+e+21V2wvIpdQEqDIWXbddVcb+BhAGZhZEAA1a9Y0NykwGFepUsXcpf49fmG9KD6bNm1y8+bNc0899ZRZrk8++aQJ0Exl4cKF7uWXX3bDhg1zL774oj0rPDvBZwTlhufsnXfecQ899JApDTxvBx10kFn/XBOUT5QBBHKiUBROWgT2N998Y9Y/oatatWq5Dh06JBXcVatW3eE4WAhBcCyEEl544QV3/fXXuwcffNCUB0IHKCkit5ACIHIW7/bFqsIty/LAAw+4iy++2AZMYCDt2rWru/rqq7e/xy9dunSx94jisXTpUnN9Y/1mA/Pnz3cTJkwwaxwQrn/60592eEZGjBjh7rrrLnfsscfaewCXf6dOnUxZ8JA/gBKQSAgjnD/66CMT/h4UC0IG/jmNp3v37jscB8tf/vIXd9ppp7nddtvN3rNx40bzgrz//vvu3XfftTwCkVtIARA5C9bTUUcdZW7UE044wRZ+b9OmzfZBkvhw/fr1zUXr3+MXBnJRfLA8Cbtg8WYyCGmscBQavAAIaCzyli1bmlAOPiMojwjjXr162SvvQ2hjveNtwo2Phf/VV1+ZQkGYJB7yU3D7f/311/Y7n2EbhJ+ShSz233//HY6DhRDHKaec4k499VTXqFEj2xfKC9UQhC+8IiNyBykAQpQS3LUIAwZSFh/nZQmu8++Nf188CIL47QVzdJP9ncWvCy7xn4/Hby+4zeBnEx0jBM8lfonfJz/zfr+f4N/8ev+5RPtLti///mTnF9xvos8n+1xx2LJli7njid2jCLA9svGx8uNd8rvssourV6+eJQDiRUJpRGi3bdvW8g7wMAGhESx8thUPGf/E6tknYQay/tkfYYSS5E+QY4ASQPgFRcXnGixYsMASYqkwKMt1EZmHqgCECECMlmzqa6+91gZG3LTnnHOOWU1YUUFGjx7t3nvvPYvdklmNpwDLjsGaARUOP/xwd9FFF1m8m+3idkUI4GXAIgwO4J988okbNWqUbY+vJYKC/R522GH2d7LAiSUvWrTIBAV5Ceeee65Z1n//+993EKD8rXnz5u6MM85I6iZmO+PGjTPLk316EFoNGzY0IXH88cfH1v4XbzE+++yzJvyC8DkEG1npPqMdax8XM58hQY1zoFyN7HgEI9esQYMGtnCeXBOffwHE2DlGYuUIcw8CkH0deeSR9tl4uI8IVD5Lop2H/SJ0SUbEgi9NFQDHwfFQQXLbbbfZOp6TAw44wIQ8zwnx9mTJfMD+//a3v7lXX33V7jtCvUePHpYnEF+exzW89NJLzUrnmnOsvXv3tnVcc7wQuPhJrOR8gFDEX//6V/s5CM8Nx/7444+7p59+2nIw8DDwTJITwLFzHiI3UBWAEAEQpsRifWyXuC6CBmGKUAzy0ksvWfkXWe0IU4QoAzSCHsFFfBXBQNyVAdeXna1bt86EUPv27XeIA5OZTj4CSVkILyyydu3amWsZ2A/75NhmzZplcWMEB271f/7znzaYs08WXMocC4N59erV7X0elAs+Q/Y62yP+Swa5/yxZ6libKDUtWrQwAYmQQJByjAhVEvk4F/8Z/zmuGQIcSxhXNVYy++EznBfWM6CseCHMuZLkxmeIjfMeBDj74pqhFH366ac7nB+f4zqSiMm5kVBHNjvHybETM2efJOexX/85XOlY2yhi7JOafM6vJFUA7AfBy3FzHzhenhuOh+MgJMC9IYzE74nw588zw3GxDZRBzp9ng+0Dx4nrH4ULhRQFhpAVoaqmTZvatSZ2z7VBkfPKDopnt27d7Ocg/tg5b/bNc8s+uAZsD8WKReQGCgEIEQIIEyx/LH2s9Chg4CapDus/aB0DghjB4oVnEKxAsr9vvPFGE45B6x98zBnLFMsdQYVQRZBjJZPYFm/9A59DKaAkDgXBx6xLCseOUoLnhGx19hV/fgi6N954w/3rX/+y/XH9gWNFAWP/KFMoEkFwp/MelIC5c+dub6hTGoijI4i9EocQ5/5fdtllbsCAAWaxJwPlyCuWHoQyniOeIw/Hz31EwQAEPl6KVq1a7eApKSkoTXgaEPzgFRK8MyJ3kAIgRAhg9SEAmzRpYiEDBCXLwIEDzeoKG/aFKxcXOh6G++67z/Y3ZMgQs/gZ0BGcuN2DAgWLFdcwwp3BHqGFIBo0aJC78847bRu4tUkWw3uAgGRbCGD2ifWI54L3+HNk6du3rwkVvAtYvygWCDTc/LTYxTV+xRVXbI+RYx2TWHneeeeZK/zyyy+3qgquFWGC1157zYQfn+dYyGAP7o+YOkIfRcUnFqIQYYUjeDlPHzYgTOA/d8stt7jf//7325PgyhIBRRD/9re/dSeeeKJZz2yLfSJIscrx+uCKJ5xEqCgI50lohrg8CXtY/XwGT0ywoyCeDjwh3EuuL+/lM3gqCgsxFAX7Q3HxSgTHzn0uy/UQmYcUACFCAEHJYErsu1+/flZKyIIbtiwDdTIYrIFM8DPPPNMEP/ujMyEuXEIXCHcECIKYgR0BTqe4f//73xYiQJgjSBCQZ599tnWHYxuDBw+27bBthARuZ7aHwEJoI5B5jz9HFmL3uNHZJkIYwYzQwsrs3LmzCWy26a1lLGCUJT6Hpc/fUES8F4FwB0oVQo/4NAlv5Bb4xcf98V4QA+d88FKgNODxQCHAuuWYjznmmO3HecEFF7j+/ftbaIUQR1mUM4QxiX/E7omdc71QyDhm7jnWPN6Zhx9+2OLzXBMUBGC/KGrcK8IshAq4Xrjygx4Zzod1KGtUEPBerjPHXpbnimvDffXb4JXfvUdA5AZSAIQICQZ04shRdAdE0GJNU2aGG9oLMgQDgjQ+8Q9LmHg8+Q245rGW+TxJfliwJOD5xkZsA8F88sknm6BEOLE99oWwJvGQ9wTBUkc54BqgeGAFl9S9jnBEcPuMd46ZuPZzzz1nCW+41f1CzoMH9zjufMIVKDicJ94BBDEKGAqDByHKcZKs2axZM1NEyoLfxzXXXOMeffRR84SQK+IFK14GBDu5IrQK5vyCoIChNBL/5/w5d97vwSvAOs6HBkLkCPg5BcqC95b40ArKK8pZ/H0V2Y0UACFCgIETIcggjVBINQh8rDUEGkLXw0COexdrLggeA2LrLAgTBn4EO8oClizH75UItsF2WdgW+0FQIiCwzrFoEWa40/1CkhpxdYQY3gYEn/dSFBeOi3a1CECUCLaDFwAPBslqbN8vKAgezoX9ItR49WELrgEWeTCxj3PhnLhHhCHKYkWDF5x4KbDOqdpASaLUjmQ9n9FPzgJhCbwAQQufZwbvAa8cMx4QzpUQDe9FYeOecU4IfsIOwftdWrimeIe4zsC9lwKQe0gBECIEGDgRNPGCN11AuCBMEbIevAgoLEW1NEaYY9HjZqfcDOFPEiHJgMS5WUjIw1pHCJcW9oOrO+g54Ni4ruQjYFknWhC+CC/OJwhCzQv6eLgeKA5hxrxRLvDGnH/++Y7iKkIlhCp4JhDsCPJ45cVn/vuwDQoJ15GcAZQtvDUoNZwL7yXXoCxCmvNG6JNngKLBcaHEcI1QMMJQLkTmIAVAiBzAW6rBAd67zgtrAYvAwFokhk1CI9n5WNXMbnf33XdvbzOLC5x4eHwNe0nwOQkIQg8Jh+QbMHuf31f8QvIiiYZ4MooL546ngfNLFeQtkF/hFRAUDtzuPqM/CIoCOREoEXgIsP4pM+Rn1hH3J/kPRSGRQlNcUADxRrBt9sHvPBfsn+uH10fkDlIAhIgAhJt3OWMJEtclVo11h2DAKiQ+zDqssrDBgsTCw4rEqkao0GeAjHtc0wgFb3kjFHzjHqx+6s8pReO9CCSUCOLoWK6dO3e2BcHN9oob90fwcu7Bc+X64ApHCHlrGM8DApNeCH5fLIQueC9w/dg/igmC0nthOA8qBDh+D9vjfEkc5Frz2dKChT5y5EhTohJ5PlAwuNd+H5wPx8a1j4djR8CjqGGdc9xcf5IACb9g+SOkuXe8pzTg8qdE8ol8pYnKAq4Fx4biQX4HykVZcyJEZiEFQIgIwG1LzB1BjLAlsxvBwc8ICYQSC4M0gjFsEBoIf4QmwhKFBIFNlz4y7jkefscFjzJCE53XX399+3GyzrvLOQcENMKD97MgUClhw8ItDIQgCwoA7+Xc+TznzDEiwAlL+GvFNSG8wHXy+2LhOrE/EgQ5ThQJBBjCDLc/20JxoHcB5+c/h0LDOp9tXxYFgGuE5wOvCEI7eHwsxPFRmlBEOBeuOUpYfI4I14NjxwIPKgB8np+51nSObNy4cewTRYObP9HxkKuBx4RGSRwTShedBU8//XS77iK3kAIgRAQgmGje4i0sLDtq9ynfoxaeOncECe7YVFphHAeufF9GB9TNE9enPp4SuT/+8Y/WSAcXMQIJwUScHUEFxI5vv/12Kxvk/SzU7fO+oPs+HixfvAe8B6HI9mnWQ1XB0KFDbRsIZKx7Otn5bSHsr7vuuu37YqHZDtcP5SQIigNud4QlSgZKwJgxY7Z/7s9//rPlLKBQIIgRgmUBBWb48OFWYhg8PhaaGHGfyW3g+iFoqT7g53g4Z/7mvRdeueI6IaSpZOD5KS4oRfHHw6yElCayTUDpoE8Bwt+XcIrcQq2AhQiAwChuK2DcqbjKsWRxzTKwk/mNhR0PwghBgEXHAIx7GCGE5Uw4gNg522Dg5+8IXlzhJJX5VsC44XEL8znehzClBj14XGTRT5061c6B4+L4KfE7+uij7e8IYaxQtg+cI5Y/x0DyGQIVgYtwpAQQYYpliEWJ9YylTc4A78G1zn5w+3PsbJe/kWyIYKVffbC3PlY+ngSOi+PkfbyyX7ZBqSFhBY6N48bjwLXgPSTDcWx+8YKVHAGUBUr6ODc+wyuf41hwzWPp+89x3fGCIOw4Ru4370cAFrcVsIfcCM7FtwQOHh8Lf0eZo+kQ15Fsf+4F1ykeKhPYFt4KHxrhHrOez9OnAeUtEZwnHg2uI8+GXxd/PISY2CbKEc80zyr9F1AseJbKqgyJzEN3XIgIQBBSb0/NePxkK1itWN80y0Hop9IDgPChTwFlaldddZUJ3XjLj3CF7wNArB8BhKClwVG8GxqPBe+jix+KSGEJaghekgf9REHJQCDRYQ/bhCY+iSCcwXlwTJTeeW8B58fvKB/BNr0eYumXXHKJ9T/AAkb4lxam+KWrIttMBgoFx0JlAFZ4YQoGzwGJg8H3cM0Q1vFhg9KCooPQHzZsmE1mhNeB/YrcRLMBChEA6wuLkwQvrEWEMUIPoc3gGcRbXbhqEUA01kFQJsukJukKqxlLDOvQ4+OwWGeUibE98Fa4d9f7Wng+y3v5O9Zv8Liw6GmGwzmwHY4fgYpgiQdvBDFqrGSsaQ/nwjnj0veJdhw778djgUXtwfLnvQhStsN7sKqxJhHeQe8E++A9HB/ufw/vRaCTBMex8jvvZTtY1pxzPJw7n0GxShS75hpzvTieYE4F7+UzJAByHlxL9ofiwLUsaRY815jQDdc7EVjWXB+S/DjewsAT4+8dzx6gwKCkcV3ilRkP7/XPFedVGGyD48FblcgTIXILKQBCCCFEDqIQgBBCCJGDSAEQQgghchApAEIIIUQOIgVACCGEyEGkAAghhBA5iBQAIYQQIgeRAiCEEELkIFIAhBBCiBxECoAQQgiRg0gBEEIIIXIQKQBCCCFEDiIFQAghhMhBpAAIIYQQOYgUACGEECIHkQIghBBC5CBSAIQQQogcRAqAEEIIkYNIARBCCCFykAp5+cR+FkIIIUSA7777zi1btszNmjXLbdiwIbY2Mbvvvrvbd9993aGHHuqqVq0aW5u+SAEQQgghkvD555+7N9980z3wwANu5cqVrlKlSu6XX35x27Ztc4jPnXfe2VWoUMHW7bfffu744493N998sykC6Y4UACGEECIJU6dOde+884579913XbNmzdwhhxxiP3/xxRduzZo17qyzznI1a9a091SuXNm1bt3aDR482O29996xLaQvygEIkbVr17oJEya4N954wx6aotxFQggh0hss/Lp167oTTzzRnXbaaa579+6uXr16JuDbtWvnunbtags/N27c2NajCGQCUgBCZP78+e6GG25w//d//7fdXSSEECJzqVOnjuvUqZP73e9+54444gi3ZcsWs/43bdrkDj/8cLfnnnuakrDXXnuZ8K9Vq5aFCTIBhQBC4vvvv3dvv/22Cf999tnHdevWzQ0cONBiQkKI7AMP3+LFi91LL73kli5dGlubHJLCWrZsaS7kgw8+OLZWpIKNGzeae37UqFEmrD01atRwrVq1siQ9XmHevHnuo48+crNnzzYvrqdhw4Zm8SPQd911V7t/CH3ef+WVV7pq1aq5iy++2LVp08ZVqVLFLV++3PIC+JlxH6Ug3al0M9kKokjIAp0zZ45btWqV3WQepCD8/dNPP3VvvfWWfbl79OjhGjRoYA+OEMlYsWKFJRl9/fXXtixZssQGoa1bt1pGMclFP//8sw0uX331lQ0+CB2eN55FBpvddtsttjURJQgD7teIESPcuHHj3CeffOJ++uknW7iHwWXatGm2cK/q16/vmjZtGtuKSAWbN2+27H0UgNdee81NmjTJzZ07161fv97c9wceeOD2JD2+S5999pl79dVXbfxGGfDfLZQ1LHvG+4oVK7rVq1ebHMDYIyzQp08ft8cee9h3NRM9AAoBFJPXX3/dXXrppe6aa66xByUeBnIGZgZuvtxHHnmkq169euyvQiSG7OKLLrrIDRo0yPXv398NGDDAMoh5xnA1wrfffutefvlld9NNN9l7WHBH4m1CeRDlA0Jh//33N2GCGxhl/7LLLnNPPPFEgeWUU06xuDDCAstRpBas9QMOOMDi9ccee6xde+7VUUcd5c4880yz2j3Nmze3RL4OHTqYAEfpxoN79tlnW0wf4e7Bq7BgwQJ7DwIfSz+TFXApAEWwbt060/amTJliGiRxfrTAeIj383Bg9aNZoj2iMQpRGGQM9+7d254VLBYgmah9+/bbE4lQJLFEmjRpYkKG5wzrg0ELa1KUD9wzBA2uZL73v/76q90bPAOMAdwbv9SuXdssQ96HkBGphXuzyy67mABv1KiRWeQobMTzUcKCnlnex9+IhvNKXB8Dju8h9zc4juPNwVPHd5L7uNNOO2X0OC8JVQQMyriQiCMxIOPewyUbD1YaMUEGdFxMQhSHgw46yCwN8kawNBisqCNmEPIKAIMSyUdYKAgTBh9+Pv/88836FOUHgsRnfxManDlzpi0oA0FQCLjXLVq0MMtRpB5vpbMgpLlXGGasD8J4zjhPeADl4OSTTzaFm3sW78rnfXh6UeZQJjIdKQBFwENB/IgvNO4jbnwiSDrhIePBkVUmissPP/xg3iNilgh2BEkyFzHKJ88ZlgcuZ1H+4P7t2LGjeQFQADAU8BTycxBCAIR2GB+oGRfpA3kcEydONO8NCnW/fv0sATARJHuTM4BSgRcu05ECUAjEV0ncwaLHdYd2SLcnH5sNwsAMbdu2lQdAFBssikWLFpnbGMFAPDJZ7gjKKC5IFABZkekBFiJGAYKDuDJewIULF5owCXoKERY0keEe4zYW0YBXje9TvNUfhLDu2LFjzaJHmcOAw/UfBMHPewgFo7AjG1D0+D6ivGcqUgASgLWPkMfyZ8Hy58vNegR9ohAAAwEPGl9yDc6iuDCAkNnPc4UgoUwMl38Q/zyiLPB+hImesfQCoXHccceZFxAXMYlieHdE+YHQ5zvFws98j1g8/Pzjjz+6L7/80r333nvmxSHUlkhZ4Lv3yiuvuBkzZtjf8fSgBBD6lQKQZWBpcaNJ9uBmd+7c2RKwCoM4LlUCyUIEQiQCgY6wwAOAW5/kv/hnCOWAwQbLg9pivFHyMqUX5HBgKJDsR8kmVRuUbYr0ge8RSplXArDqn3nmGRPmhGbIq+G7lUgB4Ps2ZMgQd//992+v7GC8pwqAvIJMRQpAAhiU0QgBy5+HAosLtxCWPhof1QGU/Hko/SMZiIxSIYoLgxCKJgl/CA+es/hniOeNuCPPHH9DGfU1zCI9YGxACSAngHvJ73L1pweM2b5UD08a2f54cVGo6d/PzzT8KSz8hpAnvHv00UdbS2AWkjrJ1/HJupmIFIAE0ASCzH9iQr169TKXLF9ocgD4UuM2QssnKUuIsuCTiogNJ3Pro2jigsSCQQEgzKRE0/QCoeKbqqKcMW6oQiM9YMxmDA925sPLi4eGig08bxdccEFO3i8pAAH4AuP6JyZE0whfsytNXoQNQv2bb74xZRPBTlw/WX04iiaJZWSWI/jlZUofSAqmLwgTgN16661Wxtm3b18TJmr4k76Q3E1zN9z+uP9zFSkAAVAAeDBI/MPdSnYoP/Pl/uCDD2wQZjDmS89rfKmPEMUFBYAEIix7niOsxmRxfVyUWCs8nygAwSYmonwhd4PMcKaHZbwgZIibGG9hYb3guecofySA0oaW50CkBkIAKM3E/skBYN4GcmrIvSHrH1d+IhjjeS85AhiF2ejxlQIQgAEWgf/cc8+Zdjhs2LDtrVdpw8qkH2j7PAiZnv0pyheUSO/WJ4aIxUgMOREoAGSWk5zE+6QApA+EcIYPH27zABAXpoETNeRFdYcjFo2xwVhz3333WUmZSA14cAmx8Z2j5p+4P8YcYV1m+SP2nwhywegCO3LkSPfUU0/Z79mGFIAYPBhk7vKw0AnqlltucUOHDnXXX3+9LfRrp5kHcVoUBbRJXoUoDd6qR6HkmaMBEGGneIhVEipg8MGlzPvie4+jjL7//vvuhRdeMMUVq1SkHqx+pv3mXmJJete/Twrj3qEY3HXXXXZ/guABYvY5vAZYqIkyz0U4cG29Qsb3bfTo0fY74zlet2QhXrzATAxEsmC23qOcVwAQ4ljyuOIYQMnEZrIIpnlkYg+/MElLly5dzLWH8EeD9+UkQpQUnwOAkEBgYP0nSgLETUyVAJ4CkpWoNolXANjOhAkT3Pjx482q5NkUqQMPIBYkM8cxCyBC/4QTTrD+8YwfHu7b5MmTrX4cF7KHe8p9QjnwJaAoArNmzTJPD82ERHgguAnHeK8b15r7RMvtZF0ZUc65Pywk6fI57g/hACZ+yxbvb84rAAhxLChiQnyhKbHiwSgsfscAQKcvDbQi1aCYkpiKlYJrmWYluC6D8CwSh0aQFNX1TJQdBAD14FxzcjLoAcKYEQ9WP14CvDbB8A5Kw+DBg20mSO4tOUY33nijGRqPPfaYCRkRHozlGG5UbzF2E6Zhynas/2QJtY888oiFfRH6eAHoF4BReMMNN7gXX3zRlO5soNLNNKjOYXgg+CLyZUXTY2Y2kkLiB1G+9HwxP/74Y3MHMdUkykJQ4xeiuCCsaQGMBcizRfIYz5JvAoT7ERcx5agICZ63Y445xgYu787E9cxgxMIgRYIToQK2S/ISzzYWjqoGwuPDDz80ix4h7q8xhgBzxNM7JLgg2FHODjvsMBtTfO8G1nGfKCVGMBFy5L6yoOCh6KmhWHjw/WLcJsxLGG3gwIEWsqHqJpmyjCzAMMQTwHcTD4+/R+QMEK7L5AZAnpxWABgwceXR1Wn69On2cNAKkpuL1sjDgYcAd48X/ngKCBvwxeVBwG2byY0gRPmA0MCtyKDEglsfKx8L3leg4JFC4CBkTjrpJHfooYfuMAEJSgSWKDFNYpt+m1gthAwYoAqbXEiUHAQ/ShnXmXEAtzL3ikz++IX3IPS7du1qxoIX6twXeoxQg46wJ8cIJYBWwowpEv7hgiDHk8b3hXDNhRdeaCXehUHfAMb/qVOnWpOgSy65xHIGSBrknmWD8IcK+Q9xzmay4dYhA9fH3bCs+vTpYze6W7dulm3Neh4e3vvcc8/ZQIsHgIGYxEAGZuKyRWX9ChGEHAAyyEnaGzVqlMWLUTZ9TBLrnr93797dck+YZhqhweQmHgQ+nis8AGSiDxo0yDLRsWwQIuQM8HNh4SxRMrAMieFzf4qTA+Q7BCJQfO4G3gIy0V999VWb+4GEY7w0MiRSA2M4XgAMPr4LNNIqqpKGajAUcO4R026TA8Y9yrZxPqcVAFz/DJ5B+ELirkPT42FBa8RCI5kHD4AHa42BmffinlXcVZQGksNw3yMUsPzjQcFkLgoEeryAwPrEimSQeuihhyxmiQLLe1FSRXqC0kYYAWUCV/Tll18e+4tIFzD2CONwjwgZ4AXIRnJaARAikyE0hUsaaxJX5XXXXed+85vfxP4q0hWE/+OPP27hQ5oGMf883hyGYh96FOULnmGav+FBQ/iTf8M9QrFOVjaYichvLUSGQjc5LBRcnMT6k01kItILPD2EHRH2hHQQ/CgEeHHI3RDlD2EekjUJyRHvJ2HztttuM+Utm5ACIESGQgyagYleAkxLSryZ7PKJEydaJYBITwjdIOhR3ugHQIdRKgpE+kCODooaVQCEbOizgaKdbd4ZKQBCZCgoAHQpY6DCnUxiEy1lCQUwYIn0hPvEQoyZLoEkmFElQHZ6fI8HUT5wH+gbQIIutf94Z2gJ37Nnz9g7sgPlAAiRoWCRXHXVVdaQBjclXgDKm8hyJomVhFaRftD7gd4O3D/iyliVlAASxhHpAR0AKRGncgBFm4oamj1lW4mmFAAhMhQqVOgcR4UKZU7Qvn17qytnwBJCiMKQAiBEhsJXF/c/jYKIKwOuZYS/ygCFEEUhBUAIIYTIQUqtAGBx4HZU2Ur6Qwc5WhdnMzzGvttXeUPHN9rv0jnMW+LU7HsrnfIvX0tMtjFxYKDRj+/bT4kfn+G82AafoQsZ8Ujez9+JHWfiPvhbmLXUJGtx79lXJsNzg/eG8+B6AteJawZcd64lcI1Zz/3h/Vx77hv3j+vLK9ec9/vrQpmovy9hwba59twDkZ74bpTxjcSg1AoANZJkRwa744n05IorrnBnnXVW7LfshAGQ5zEdst+Z0IUGLyTk0QIWaPXLdwaYQQ6lDJhVjHIwYDIgepWDL0FigEWZYFsM3rSgZVsMuHyhk+2DhEA/b0BJ94HQYD37QGiz3rcoLuk+KFFkWwgv9sF6thecHa+s0LaVe09SXSbDc3PeeedZC2jq0IEZ6/wkQvS0p38AkIzGdUTQc97cF+4bSgTrSQrlmnPtuQdAEhvVBmHCM8S1p2mOSE+YQ4R204mmGy+1AkD5EWURfPHpPy7SDwYFes3TwIKpRrMZBCPPI5Ow0D/fW01R4nv70951yJAhJuT9pCHMIeG9EwhIL1AZQL1AxUKj8xjgWUMIYNUR12dbWINYhr4XPcK5rPvgMygAhe2D9/vytJLug0RFtsU+EFZsHwHlFYQwGDt2rN172nK3bdcuf195rmIFl7+/CiYEOU+Oj1fOzVvG3suBEoOgRUFJZCWFTaIhl+eG63/33XfbMXO8gOfOe++47lx/4Fh5Px4A7hPXmHPjuWc9ihznxnruCxMTHXvssaFXGrBtrj1jDd87jkekD+PHj7fne+TIkQmV7jIrAMycRyaySD8YVLhH1IXnigLA4MnsjgyQUcOkURwD078yS5/YESxRZtNkQGrUqFFsbdnxCsDQoUPdRRcNcT9v2eYqVcwf3Nyvtk88E1jCWNAoAQhGvBskTyI0Udi4ZwyQKEKphgHXht38/7285PgR0jy7YVdwoAQwm2mLFi1MOQgTrwBwzBy7FID0Ao8Sc9kkUwDUCEgIEQkIXGqrvacgFSCAKudLfwQ90/QilB599FFr4UptN/X3zJ2AYoDQQhnBnY7gx0MhRC6hJ14IEQnetU1YIFUQMtm6dbObN/dLm84Vge/ngWfaboQ+YUtCEczi2a5dO/Ni4jHyiY7Zhg8R8CpEECkAQoisAfc+SXHvvf++e/Kpp9ymn35yRx55pHVMvPjii123bt0sPk5CVPPmza0DHx0TyVvIVgUAbwchAJ8MKIRHCoAQIhLIUCcJLVE2clgQ258+fbrFPavk7697vsDv3LmzJcch4PEQEIogDMGCwgDE5EkKJJGTsjZZyyIXkAIghIgE3O644FOZoLlx00Y3e/YXbt269a5e3bpWGdCwYUPL7vf9DVAACAsg5BH8/I6LfM6cOe6jjz5yU6dO3Z6Fnw2g/FBJUB6VMSK9kQIghMgafv7pZ7dw4SKz9qmrJ8EPxcMLep/9T8IfiX8kDVId8Omnn7pnnnnGjRgxwj355JM2zXK2QJ8IKgB8vwghPFIAhBCRQO09rnnK3VKFlfht/G+TpD1r1zarFyGP9U8THebd52+UwxGKwBPgExMRkCgF/BwMDWQ6vv+CqhxEPHoihBCRgAJA/5BUJqMh5HbZZdftLn8qD3D1I+RnzZplCgD10FQA0KyI96AgEJagQyPNjbJNUNLrgMRIXoUIIgVACJE1VKla1bVq1dJCAGS+0zmPRkAzZ860+n9KAKkEwCWOsCc2TmIi5YAoBFE0AooaOghyLXwHRyE8UgCEEJFA+R197X374FRQfffd3WEdO1ryHwJ+wYIFFt+fO3euWf5HHXWUO+GEE6z2H7c4ngKqE2h1TLggG93keEEIa/AqRBApAEKISEABYAIhEvNSRbVqVfOFf1t3+OGdXOvWrS3fgD71uMA7derkevbsaW1/E5UiZkO8PxF4Q7j22drnQJQeKQBCiCyigqtYoaLbv359m5ERgd+3b1/Xp08fmxWNSX9yrV89TY4IefAqRBApAEKISCAJjZh8qqftzctXAsgFINMfVz9tgFkICeDuTwYeAJICsw1CG4Rd1AdAxCMFQAgRCdTfMytfKicDAjz5tsR+LwpfLYCCws8oApQBss7/nsn488nWEIcoPVIAhBBZRXHFHAIRIU9p4GeffeZmz55tOQMkBvL7hx9+aL0DmFkwk6Hs8ssvv9RcAKIAUgCEEJFA1j1ld2TcpwoT/vn/lMTWxcon+5/EQPoDEDYgTJFqT0VU0H+Bboe8ChFECoAQIhKIvzdq1Mhi8ekAyYBY+5QmUhlAsmCvXr1s8iCSBZm3gNyBVCosQpQnUgCEEJGBpZ3KWnvL78//pyR5/igBNAAiSY7XKlWqWMY8gp9jzfSqAc6ladOmqgIQBZACIISIBBLRcK2neqpdk9clkNleKUHQI/zpCIgHgLr5hQsXWijAzxyYieB5oQlSYRUQIjeRAiCEiASqALxATS2lF9QIf7oItmzZ0rrnjRw50k2bNs1i6NlYIihyGykAQohIQICSiJbOk9IQDsALwILFTEiAdakMW6QapkCm/JJXIYJIARBCRAIudYRqJjSkIRxA85zmzZvbK0oLXgC8AsFQgC8lRLFBwBLiYNIdFsru+J2/+emFywPKGLOhnFGEjxQAIUQkYE1HUQWQl1ehLFEAA4u/bt26NnkQSguz6T3zzDPWKyDYVIefEfYI2BkzZriPPvrIffDBB27y5Mlu0qRJFj7gb7K+RToiBUAIEQl4AMisZ2KaVGFiOf+fMsp/A4UFZaVatWrWwwDwDLAg+BHs7733nhs9erR79dVX3YQJE+x13LhxburUqSb8URhof0z+Q3lBOINJmHgVIogUACFEJHh3eXm6w0sDCgBZ9Eyog0LAeeDanz59uhs1apR5Bl577TWz/sePH+8mTpxoHgPi7t988025T8W7++67u8aNG9urEEGkAAghIiG6KoBwQXDWr1/fHXzwwdYtkFyAl19+2b3xxhtu+fLl7sQTT3QXX3yxu+yyy9yRRx5pFQRMPXzmmWe6fv36WVUBTYWESDcq5GuzpfKWrVy50vXv39/aZj722GOxtSKdeP311+0eXXfddTY4ZTPUaXOuWFpPPPGEWW1RM2/ePDsGusrdf//9sbXCs2zZMrOY27Rp44477rjY2rIzduxYu+5Dhw51F100xP285RdXuVJFt9NOlUrUEKg4EO///PPP3fDhw02hadCggTv11FOt0Q5hgvvuu89CA61atTLFoHXr1vY5P8xuH25pVpD/Iy/A8TMPAc9u2MoCx8O8BigltDoOE5Q5jp3rcuGFF8bWinThkUcesedy5MiR5sUqAApAaVixYkVely5d8gYNGhRbI9KNcePG5dWuXTvv3nvvja3JXvIH47wzzjgjr1evXnkbNmyIrY2WuXPn5nXs2DEv3xqMrRFBli5dmpcvIPMmTpwYWxMOY8aMyatVq1ZevtKVt23br3mbft6St3nrL3m/xv4eJvPnz88bMWJEXr6Az8sXeHmfffZZXr7ws7/xDA4bNiyvd+/eeQMGDMh75513bD1s27Ytb+vWrXmbN2/O27Jlqx0ny6+//nfp169f3kknnZSXL1BjnwiPGTNm5N100032GjbffvttXvfu3dFq8ipUqKAlzRbuC3J6+fLlsTu2I/IAZDHyAESLPACFs3btWrNEsUK9ZRwG8R6AfOHvKuEBqBy+B4CkP2L8ZPjnC2w3cOBAV6NGDUtwJNP/zjvvdDNnzrSGQueee65VEcCCBQvMEgfGzMaNm9jP5gjIH4I5/lR5ADgePC/5iolr27ZtbG04YPnj9cATcMghh8TWinTh008/tRbQl156qU3EFY8UgCxGCkC0SAEoHIQFyXF16tSxSXbCIkoFgNj/W2+9ZZn9PXv2tDg/wp9af3ID7rjjDrdo0SLXvn17d9ppp5miw3oUBpIGqYAgmbBDhw6u9l57uWpVq5qLluNPlQLAVMDkK3Tr1s36GoQJCY4oF5RKomDkW52xv4h04M0337SEVe59okmtlAQohMgu8jCrYz+HDIomwh4Fk7I6ugQi9Giyg1HEwu8kDFIxgGWMwoDiwOJLBakcQBlicE41eChQOngVuQVxfzxuPKeJkAIghIgEBOeSJUvM0k0lKZL9BtY57n0EPp3+eMX1P3/+fLOyEf7NmjUzVzvvxeLH40E3QRbc5Icffrhr06atVRSksieCh6ZGdF9MRTtjvB8IGc5R1n/6wf1JJvxBCoAQIhJQALCQEZypwoR//j+pUgKYJZBuhgjUdevWWVkjy9y5c22hXBAhT4iD8kEEPAoD3gA+S5ngscce6w499FD7nWZDqYawGJ4GXsMGpYJzCztsIcIBjxXVKski/VIAhBCimFD2hwVPngdC9cUXX3TPPfecNf2h3p84eJcuXbZ3DqTpke/BjwcA70Cjxo3zlYK9XJXdqpiFlmpQuAg3pFLxEukJCjfJp8mUPykAQohIwBrGXYwgTBXmhK6QF3ryn4dkt3333dd17tzZFAFi/ST0UWNPxj9JdljE3h2OBbZixQqzwHCTk5HNNlAQKlbkPak60v/B4J+qboTM8EhCZKY1d8oV8LrxDMoDIIQoV1AAcJHXqlUrtiY1pFKk4vJGiJPl37VrV2sCRLY/WdZ4BXD3B2OuDL5Lly61AZiYP2zOX8f6bdt+zf8tVcGK/4GXgWufCm8DHg7aHaMElLKgTKQQFE3CVcnyM6QACCGyi2gM6wIkEoBbtmwx6xjrm8F46dJlVpZHySihgSgS51BYqALgVeQW5JlQqq8qACFEueLn1E9p6Vu+PMW1XjFNMtIR+jRg4dyJxX7xxRyLy0JUh4gFSNiF17DBI8L54dVRFUD6QakqJavyAAghyhWykWmSk8p4cYX8/5gHACUgCnHEwBpc4qESgHkBgKmB58yZY2WD5ANEUQIIeCaI1afCRU9YgamGsTRF+uHvfTKkAAghsgZkMNZ/NOK/aHC7kyRIy+Brr73WXkkYxCL3lQKpxndg5FXkFnib6L2RLAFUrYCzGLUCjha1Ai6cVatWWWtSZs7r2LFjbG3Z8a2AzzjjDNejR4/Y2szi3nvvtVatmTYXAFnmH3/8sYUXwrynIhzoPkn5J/ceb1Q8UgCyGCkA0SIFoHCwQHGD4/5u2LBhbG3Z8QoApW5RWdVhw/NLVUGmKQBcc4QMpY1UQ4j0QgpADiMFIFqkABROqiYDwgK95557bJthbjdqGEuPP/740LsDfv31127KlCnWuyDs66PJgNIbZt/kHtGzgnsUjxSALEYKQLRIASic77//3qYnpZFOmLPS0YVv3LhxJuDoxid2hNALihelgChfYUJiJ+MMSgvTI4v0gpJTwjR83xIlnSoJUAgRCQgL+uaHXQWAskeL3VQ3GBIFoQqA5k50eBSZhxQAUWqIvd5+++3upptucjfeeGORyy233OLuuusuN2PGjNgWRC5BORKeGmriw4RadKybwmY9y2UoO8RLwmvY4PInATAVPQZE2UHZplMjHRsTIQVAlBrcuSSZPP/88zYhSlELE6eMHj3aGqKI3ANr0ffBDxMGN7wLyUqdch06DvKd85MShQkRZFzMLCL9kAIgUsaAAQPcww8/7EaOHGlx96IWckUefPBBd8QRR8S2IHIJ4sRMpet74ocFli35F999911sjYgKBAtzHTDhkcg8pACIUnPAAQfYbGjMf8785kUtNEQhSUtzh+cmeACodQ+7Ax6WP+2F6bsvCkI7WBIveQ0bPABkmRc257woP2jTjMKdbCIoKQBCiEhAQCCsk7kjSws5AIQVeBUFof67SZMmCevAwwDhwqISwPSD2SlR/qQACCHKlVRWAdBdEGtHRAuJl5SCI2RE5iEFQJSaadOmWWLf008/7f7zn/8UuTz77LPupZdesoxkkXtg/a9bt85cxmGC9U8JYNgNdLIFKi/oBcBr2GD141koj74bomhovkX/jWQTAkkBEKWG5L/BgwdbMiANcIpazjvvPDdkyBA3efLk2BaEEKmGVrA0hOFV5BZFTQYkBUCUmn79+rkHHnjAPfroo5bhX9QyfPhwm/Skc+fOsS2IXIISwFRVAcyfP98sHZGYVCXoqQogveG+F3bvpQCIUkPL2zPPPNM8AExzWtRyzjnnuL59+4Y6EYzIHHDV165dO3R3MTXouLhTUeeeDdCkhxBJKpr14FpG8SK0oyqA9IOqG0I0yRJkpQAIIUQWU6NGDZsHgFeRW9CimSTNZF0ypQAIISIBS514ZNgNe7ByGjRo4GrWrBlbI4Jg/WH9p6JMkvKyevXq2SRDKgNMP7g/hXXelAIghIgEFACSksJORiP7nzI0ZaInhgQw8iSSJYKVBZQKcjpoMsS9Zfn222+tMRP75F6vXr3a1hOm4XfW83fe5z9DGIH1LGvXrt2+np/9et5DW1vWF3cflJz6bUW9DxRdvz64D8IlUe2D9xbWpEnTAWcxmg44WjQdcOEsW7bM5o5v06aNO+6442Jryw4DH9Pd4gVQPXpB5syZYxN3nXzyya5ly5axteHAxE5ce0p7ly9fbusINZDng9uZks9FixaZEMILwXpi0uQOsB4BBXQVpWkNsB2fVIhnARkD3Gc+A9WrV7dtYd2GuQ8EKp9BLBZnH7yP9d6rFeY+eJ75e3H3wTr+Bn4fjIt8J3r06JFwTKx0cz6xn0sEWgY13dzsU089NbZWpBMLFiywe3T00Ue7Tp06xdZmJwh+zpUvfe/eve0LFDUMUBzDfvvtp7nRE4AHgIGJuCRu47Bgm59//rk1AiLJUOwIxtrMmTNtymQEUdj4GQHxxNDmG48AC6EZ1tH6mfAM94b9I9TwGCD0+JnP1K1b1xIV/Xo+y3rezyvr2U5wHwi8RPtgfVH74HhLsg8qWBLtw09uVdQ+eD+f8/vgc0Xtw1+rsuyDdSgAfCZRHoA8AFmMPADRIg9A4dCUBGuRge3AAw+MrS07XHc8C3gVuPZiR2bPnm2zcPbs2dO1atUqtlYI5QAIIURWg+VIFQCvQgSRAiCEiATixT7pKUxw2eLixBUqCoKbGLcyr0IEkQIghIgEkptITAp7MiAEf+PGjS0uKgpClJfcmFJGe0UWIwVACCGyGJ97wasQQaQACCEigUxmn70cJlu2bLFKADwMoiAkyBJ6ScVsgCKzkQIghIgEypJSNRkQlQC+3lsIUTykAAghIoPWpGG3pCW2TfkncW5REBrWNGnSxF6FCCIFQAgRCUwdi7UetivaN0mh+YkoCCEXmsGEHXoRmY8UACFEJBCjX7hwYehVADR9atq0qaoAhCghUgCEEJGAix7rn34AYUJIgV4AyaY8zXXwutCrn1chgkgBEEJEAvF/39c8TAgt4F1IxWx32cDGjRvd4sWL7VWIIFIAhBCRgJXOzGdhVwEg2KgC8LOlCSGKhxQAIUQk4AEgXh92sh4hBdoL0w9AFERJgCIZUgCEEJFAuR7u+rDL9cgBIP4fdnlhtqAyQJEMfWOEEJFAAiBVAHSlCxO8Csx1v8cee8TWCCGKgxQAIUQk4KqnW9+mTZtia8LBtxgmx0AUBMVr9erVagUsCiAFQAghspj169fbZEC8ChFECoAQIhJSNRcAVQDz58/XXACFoKmARSKkAAghIgFXfe3atS1mHya4tletWqU69yTsvPPOFiLhVYggUgCEECKLqVGjhmvRooW9ChFECoAQIhI2b97slixZEnrDnqpVq7oGDRpIwCWB8kisf5VJinj0RAghIgEFYOXKlaEno5H9T6Mb1bknhhbJzAOgVskiHikAQgiRxagKQCRDCoAQIhJoAbzPPvuE7qonCXDZsmXWDlgUBMufBEl5AEQ8UgCEEJGAAlC/fv3QO/Yh3L7++mtZuEkg9s+1Vw6AiEdPhBBCZDF4XJo3b64kSVEAKQBCiEigFTDzAITtqicJsE6dOlYNIAqiPgAiGVIAhBCR8NNPP7lFixa5NWvWxNaEA4Kf2e4QcqIgdAFkBkZ1AxTxSAEQQogs5ocffrAqAF6FCCIFQAgRCX7WvipVqsTWhAOhBZoL4WEQBaFKgtCLZgMU8UgBEEJEArH6VEwGRJObefPmaTIgIUqIFAAhRCRUqFDBVapUKfRyNOLb1LjzKgpCh0RyJNQpUcQjBUAIEQnbtm0za52WwGFCaKF69epW6y4KQsiFVslhh15E5iMFQAgRCcToFy5caPHoMGF64aZNm6oKQIgSIgVACBEJuOhJRCNpL0wIKZBfULly5dgaEQSvC50SeRUiiBQAIUQkeEGNyz5MvGKhXveJ8a2SeRUiiBQAIUQk7LbbbimtAqAUUAhRfKQACCEigQoA4vVhJ+sRUqDJzZYtW2JrRBAlAYpkSAEQQkQCrWipBAi7XI/QAvF/zXaXGJUBimToGyOEiATi9KmqAmjWrFno0wwLke1IARBCRAKuerr1bdq0KbYmHHyLYRIMRUFQvFavXq1WwKIAUgCEECKLWb9+vU0GxKsQQaQACCEigSqAhg0bhl4FQHnb/PnzNRdAIWgqYJGICvkPRqmejJUrV7r+/ftb8s2VV14ZWyvSiY8//tjdcccd7uabb3aXXXZZbG12gnuT55Hn8uqrrzZhEzXLli2z692xY0c3dOhQy7r2Ne+4vX0LXNb7THiO289ixzqfqY27HMHG15PvGHPek+RGAh3rqXnn9+Lsg3Xe7V7SfdC/n/Vl2Qfr2SZZ+mvWrHH77befO/DAA+3vYUAJ4KhRo1ynTp1cu3btbF1xrivnxHrOmeREjtNfV87ZNxbi/b7CIHjO6biP+OeDfSxZssRNmjTJdevWzTVv3tw+LwSUWQGYMmWKq1mzZmytSCcYlNetW+fuueeenFEAxowZY88jgitqGHS53igAZ5xxhmVe+/a0CxYssDgsIPz22Wcf+3n58uVu8eLF9nOdOnWsTh6wZrFq2abP4ibGzXmyfsOGDSY8irOPFStWWCMYKOs+SOJbtWqV/ZxsH3vvvbdr3Lix/RzcB8l6DRo0sIS9VCgAbHP//fe3dShjCD6oW7eueR5g7dq1djwIyho1ati57bzzziaYuX70FOB31vN34P0+cZHjr1evnv1c2D7YFgI/uA8EOdtiHwht1vuxs6T7oOcBn2EfzIPAtlAQEu2D6849bdOmzfbtCgGlVgDQMhls/eAl0pcuXbq4Dh06xH7LThAwY8eOdXPnzo2tKT8YZBGAe+655/bENAZsvjPAoO9LshCyKA2AteYz2RmwESQIKgZ21iOMOU/WYy1i4YW1DwQU24piHyxeuIYBSgZKAMeCsAP6AviYN+u8AoOA5HgY9riuHAv9CbCoOTfOmd9Z761w3u+9G2yntPsIXld+5xr565qKfcTfO37m3gjhKbUCIIQQQojMRUmAQgghRA4iBUAIIYTIQaQACCGEEDmIFAAhhBAi53Du/wHPe/XjtuJCsgAAAABJRU5ErkJggg==)"
      ],
      "metadata": {
        "id": "CP9IfvDJrCwd"
      }
    },
    {
      "cell_type": "markdown",
      "source": [
        "- example from https://wikidocs.net/24949"
      ],
      "metadata": {
        "id": "BgTwLgBSsTsF"
      }
    },
    {
      "cell_type": "markdown",
      "source": [
        "## LSA exercise"
      ],
      "metadata": {
        "id": "2cRnrWzocS4j"
      }
    },
    {
      "cell_type": "code",
      "source": [
        "import numpy as np\n",
        "import pandas as pd\n",
        "from sklearn.feature_extraction.text import CountVectorizer\n",
        "from sklearn.decomposition import TruncatedSVD, LatentDirichletAllocation\n",
        "\n",
        "doc1 = \"사과 먹고 싶다\"\n",
        "doc2 = \"바나나 먹고 싶다\"\n",
        "doc3 = \"길고 노란 바나나 바나나\"\n",
        "doc4 = \"저는 과일이 좋아요\"\n",
        "corpus = np.array([doc1, doc2, doc3, doc4])\n",
        "vec = CountVectorizer()\n",
        "A = vec.fit_transform(corpus).toarray()\n",
        "A"
      ],
      "metadata": {
        "colab": {
          "base_uri": "https://localhost:8080/"
        },
        "id": "wMJyd0R6rIJL",
        "outputId": "1519b489-0131-47db-9673-c580cfbac41d"
      },
      "execution_count": null,
      "outputs": [
        {
          "output_type": "execute_result",
          "data": {
            "text/plain": [
              "array([[0, 0, 0, 1, 0, 1, 1, 0, 0],\n",
              "       [0, 0, 0, 1, 1, 0, 1, 0, 0],\n",
              "       [0, 1, 1, 0, 2, 0, 0, 0, 0],\n",
              "       [1, 0, 0, 0, 0, 0, 0, 1, 1]])"
            ]
          },
          "metadata": {},
          "execution_count": 44
        }
      ]
    },
    {
      "cell_type": "code",
      "source": [
        "vec.get_feature_names_out()"
      ],
      "metadata": {
        "colab": {
          "base_uri": "https://localhost:8080/"
        },
        "id": "vt6vMjDmtAr3",
        "outputId": "ebc3209a-2cca-40a0-b1bf-3724776fc13a"
      },
      "execution_count": null,
      "outputs": [
        {
          "output_type": "execute_result",
          "data": {
            "text/plain": [
              "array(['과일이', '길고', '노란', '먹고', '바나나', '사과', '싶다', '저는', '좋아요'],\n",
              "      dtype=object)"
            ]
          },
          "metadata": {},
          "execution_count": 45
        }
      ]
    },
    {
      "cell_type": "code",
      "source": [
        "A.shape"
      ],
      "metadata": {
        "colab": {
          "base_uri": "https://localhost:8080/"
        },
        "id": "EFSM2UExti0s",
        "outputId": "7222997b-fabe-4483-da66-ad1ecf93ee6b"
      },
      "execution_count": null,
      "outputs": [
        {
          "output_type": "execute_result",
          "data": {
            "text/plain": [
              "(4, 9)"
            ]
          },
          "metadata": {},
          "execution_count": 46
        }
      ]
    },
    {
      "cell_type": "code",
      "source": [
        "U, s, VT = np.linalg.svd(A, full_matrices = True)\n",
        "print('matrix U :')\n",
        "print(U.round(2))"
      ],
      "metadata": {
        "colab": {
          "base_uri": "https://localhost:8080/"
        },
        "id": "GK7C_cMqtZwk",
        "outputId": "e00c98c3-323c-41ea-d15b-c1ad32063ed9"
      },
      "execution_count": null,
      "outputs": [
        {
          "output_type": "stream",
          "name": "stdout",
          "text": [
            "matrix U :\n",
            "[[-0.24  0.75  0.   -0.62]\n",
            " [-0.51  0.44 -0.    0.74]\n",
            " [-0.83 -0.49 -0.   -0.27]\n",
            " [-0.   -0.    1.    0.  ]]\n"
          ]
        }
      ]
    },
    {
      "cell_type": "code",
      "source": [
        "print('singular vectors :')\n",
        "print(s.round(2))"
      ],
      "metadata": {
        "colab": {
          "base_uri": "https://localhost:8080/"
        },
        "id": "kf4-MZBVtufr",
        "outputId": "5d25ddf8-43aa-4544-b633-f80727cd1940"
      },
      "execution_count": null,
      "outputs": [
        {
          "output_type": "stream",
          "name": "stdout",
          "text": [
            "singular vectors :\n",
            "[2.69 2.05 1.73 0.77]\n"
          ]
        }
      ]
    },
    {
      "cell_type": "code",
      "source": [
        "S = np.zeros((4,9))\n",
        "S[:4, :4] = np.diag(s)\n",
        "print(S.round(2))"
      ],
      "metadata": {
        "colab": {
          "base_uri": "https://localhost:8080/"
        },
        "id": "TBzFIMDtt3x8",
        "outputId": "87306ddc-5262-4444-fec8-8127e6a5b607"
      },
      "execution_count": null,
      "outputs": [
        {
          "output_type": "stream",
          "name": "stdout",
          "text": [
            "[[2.69 0.   0.   0.   0.   0.   0.   0.   0.  ]\n",
            " [0.   2.05 0.   0.   0.   0.   0.   0.   0.  ]\n",
            " [0.   0.   1.73 0.   0.   0.   0.   0.   0.  ]\n",
            " [0.   0.   0.   0.77 0.   0.   0.   0.   0.  ]]\n"
          ]
        }
      ]
    },
    {
      "cell_type": "code",
      "source": [
        "print('matrix VT :')\n",
        "print(VT.round(2))"
      ],
      "metadata": {
        "colab": {
          "base_uri": "https://localhost:8080/"
        },
        "id": "L98Rx2B6uPGg",
        "outputId": "76ae1bb3-2cfc-492e-da09-a3e0e137a829"
      },
      "execution_count": null,
      "outputs": [
        {
          "output_type": "stream",
          "name": "stdout",
          "text": [
            "matrix VT :\n",
            "[[-0.   -0.31 -0.31 -0.28 -0.8  -0.09 -0.28 -0.   -0.  ]\n",
            " [ 0.   -0.24 -0.24  0.58 -0.26  0.37  0.58 -0.   -0.  ]\n",
            " [ 0.58 -0.    0.    0.   -0.    0.   -0.    0.58  0.58]\n",
            " [ 0.   -0.35 -0.35  0.16  0.25 -0.8   0.16 -0.   -0.  ]\n",
            " [-0.   -0.78 -0.01 -0.2   0.4   0.4  -0.2   0.    0.  ]\n",
            " [-0.29  0.31 -0.78 -0.24  0.23  0.23  0.01  0.14  0.14]\n",
            " [-0.29 -0.1   0.26 -0.59 -0.08 -0.08  0.66  0.14  0.14]\n",
            " [-0.5  -0.06  0.15  0.24 -0.05 -0.05 -0.19  0.75 -0.25]\n",
            " [-0.5  -0.06  0.15  0.24 -0.05 -0.05 -0.19 -0.25  0.75]]\n"
          ]
        }
      ]
    },
    {
      "cell_type": "code",
      "source": [
        "np.allclose(A, np.dot(np.dot(U,S), VT).round(2))"
      ],
      "metadata": {
        "colab": {
          "base_uri": "https://localhost:8080/"
        },
        "id": "lP_9iTyDub9r",
        "outputId": "b68cb3dc-5a40-4706-81f0-13989a00174b"
      },
      "execution_count": null,
      "outputs": [
        {
          "output_type": "execute_result",
          "data": {
            "text/plain": [
              "True"
            ]
          },
          "metadata": {},
          "execution_count": 51
        }
      ]
    },
    {
      "cell_type": "code",
      "source": [
        "# let's take the top 2 signular values. -> 2 topics\n",
        "S = S[:2, :2]; S.round(2)"
      ],
      "metadata": {
        "colab": {
          "base_uri": "https://localhost:8080/"
        },
        "id": "xOjBQAkYurjk",
        "outputId": "ea90f891-75ad-45ad-a9c4-40e67bef627e"
      },
      "execution_count": null,
      "outputs": [
        {
          "output_type": "execute_result",
          "data": {
            "text/plain": [
              "array([[2.69, 0.  ],\n",
              "       [0.  , 2.05]])"
            ]
          },
          "metadata": {},
          "execution_count": 52
        }
      ]
    },
    {
      "cell_type": "code",
      "source": [
        "U = U[:, :2]; U.round(2)   # (4,2) -> 문서의 수 x 토픽의 수\n",
        "                           # U의 각 행은 잠재 의미를 표현하기 위한 수치화 된 각각의 문서 벡터"
      ],
      "metadata": {
        "colab": {
          "base_uri": "https://localhost:8080/"
        },
        "id": "mJ8i_Oa5vP68",
        "outputId": "a17ceaf2-db35-41c1-a268-d26c89fdad4b"
      },
      "execution_count": null,
      "outputs": [
        {
          "output_type": "execute_result",
          "data": {
            "text/plain": [
              "array([[-0.24,  0.75],\n",
              "       [-0.51,  0.44],\n",
              "       [-0.83, -0.49],\n",
              "       [-0.  , -0.  ]])"
            ]
          },
          "metadata": {},
          "execution_count": 53
        }
      ]
    },
    {
      "cell_type": "code",
      "source": [
        "VT = VT[:2, :]; VT.round(2)   # (2,9) -> 토픽의 수 x 단어의 갯수\n",
        "                              # VT 의 각 열은 잠재 의미를 표현하기 위해 수치화된 각각의 단어 벡터"
      ],
      "metadata": {
        "colab": {
          "base_uri": "https://localhost:8080/"
        },
        "id": "2ovsH0vUvcLt",
        "outputId": "807abf35-55ee-47b0-8b91-644f74681329"
      },
      "execution_count": null,
      "outputs": [
        {
          "output_type": "execute_result",
          "data": {
            "text/plain": [
              "array([[-0.  , -0.31, -0.31, -0.28, -0.8 , -0.09, -0.28, -0.  , -0.  ],\n",
              "       [ 0.  , -0.24, -0.24,  0.58, -0.26,  0.37,  0.58, -0.  , -0.  ]])"
            ]
          },
          "metadata": {},
          "execution_count": 54
        }
      ]
    },
    {
      "cell_type": "code",
      "source": [
        "A_prime = U @ S @ VT; A_prime.round(2)"
      ],
      "metadata": {
        "colab": {
          "base_uri": "https://localhost:8080/"
        },
        "id": "AOgwwCG5vl0E",
        "outputId": "fb03faa7-2cab-40eb-8f06-04cdcf5f37f9"
      },
      "execution_count": null,
      "outputs": [
        {
          "output_type": "execute_result",
          "data": {
            "text/plain": [
              "array([[ 0.  , -0.17, -0.17,  1.08,  0.12,  0.62,  1.08, -0.  , -0.  ],\n",
              "       [ 0.  ,  0.2 ,  0.2 ,  0.91,  0.86,  0.45,  0.91,  0.  ,  0.  ],\n",
              "       [ 0.  ,  0.93,  0.93,  0.03,  2.05, -0.17,  0.03,  0.  ,  0.  ],\n",
              "       [ 0.  ,  0.  ,  0.  ,  0.  ,  0.  ,  0.  ,  0.  ,  0.  ,  0.  ]])"
            ]
          },
          "metadata": {},
          "execution_count": 55
        }
      ]
    },
    {
      "cell_type": "markdown",
      "source": [
        "- it is a little different from the original matrix because of the truncation."
      ],
      "metadata": {
        "id": "bnW_4F2xLs0I"
      }
    },
    {
      "cell_type": "markdown",
      "source": [
        "- Let's use the library function"
      ],
      "metadata": {
        "id": "KvaFl3UvNP1C"
      }
    },
    {
      "cell_type": "code",
      "source": [
        "svd_model = TruncatedSVD(n_components=2, algorithm='randomized', n_iter=100, random_state=122)\n",
        "svd_model.fit(A)\n",
        "svd_model.components_.round(2)      # VT matrix"
      ],
      "metadata": {
        "colab": {
          "base_uri": "https://localhost:8080/"
        },
        "id": "CtE9mWccNO_C",
        "outputId": "4ec8439d-78dd-4dda-9ea2-46aedd8ea67b"
      },
      "execution_count": null,
      "outputs": [
        {
          "output_type": "execute_result",
          "data": {
            "text/plain": [
              "array([[-0.  ,  0.31,  0.31,  0.28,  0.8 ,  0.09,  0.28, -0.  , -0.  ],\n",
              "       [ 0.  , -0.24, -0.24,  0.58, -0.26,  0.37,  0.58,  0.  ,  0.  ]])"
            ]
          },
          "metadata": {},
          "execution_count": 56
        }
      ]
    },
    {
      "cell_type": "code",
      "source": [
        "svd_model.singular_values_"
      ],
      "metadata": {
        "id": "-ZK6iSPON_gk",
        "colab": {
          "base_uri": "https://localhost:8080/"
        },
        "outputId": "7110d163-4f05-42dc-ea4d-d8b86dbb61c0"
      },
      "execution_count": null,
      "outputs": [
        {
          "output_type": "execute_result",
          "data": {
            "text/plain": [
              "array([2.68731789, 2.04508425])"
            ]
          },
          "metadata": {},
          "execution_count": 57
        }
      ]
    },
    {
      "cell_type": "markdown",
      "source": [
        "## LSA (sklearn) with newsgroup data\n",
        "  - Twenty Newsgroups이라고 불리는 20개의 다른 주제를 가진 뉴스그룹 데이터 (sklearn)\n",
        "  - 문서의 수를 원하는 토픽의 수로 압축한 뒤에 각 토픽당 가장 중요한 단어 5개를 출력하는 실습으로 토픽 모델링을 수행"
      ],
      "metadata": {
        "id": "zAGN0Ny0xDCU"
      }
    },
    {
      "cell_type": "code",
      "source": [
        "import pandas as pd\n",
        "from sklearn.datasets import fetch_20newsgroups\n",
        "import nltk\n",
        "from nltk.corpus import stopwords\n",
        "from sklearn.feature_extraction.text import TfidfVectorizer\n",
        "from sklearn.decomposition import TruncatedSVD, LatentDirichletAllocation"
      ],
      "metadata": {
        "id": "azgss9cyxVy7"
      },
      "execution_count": null,
      "outputs": []
    },
    {
      "cell_type": "code",
      "source": [
        "dataset = fetch_20newsgroups(shuffle=True, random_state=1, remove=('headers', 'footers', 'quotes'))\n",
        "documents = dataset.data\n",
        "print('샘플의 수 :',len(documents))"
      ],
      "metadata": {
        "colab": {
          "base_uri": "https://localhost:8080/"
        },
        "id": "opNJgBFnxZq7",
        "outputId": "7236b218-1385-4dc6-9adf-5937edfd851c"
      },
      "execution_count": null,
      "outputs": [
        {
          "output_type": "stream",
          "name": "stdout",
          "text": [
            "샘플의 수 : 11314\n"
          ]
        }
      ]
    },
    {
      "cell_type": "code",
      "source": [
        "# dir(dataset)"
      ],
      "metadata": {
        "id": "_-6nrdopVmWE"
      },
      "execution_count": null,
      "outputs": []
    },
    {
      "cell_type": "code",
      "source": [
        "dataset.target"
      ],
      "metadata": {
        "colab": {
          "base_uri": "https://localhost:8080/"
        },
        "id": "OSXZGDKqVzEc",
        "outputId": "64d4ca2a-0be6-40c4-f44d-358360cfdaff"
      },
      "execution_count": null,
      "outputs": [
        {
          "output_type": "execute_result",
          "data": {
            "text/plain": [
              "array([17,  0, 17, ...,  9,  4,  9])"
            ]
          },
          "metadata": {},
          "execution_count": 14
        }
      ]
    },
    {
      "cell_type": "code",
      "source": [
        "dataset.target_names      #  20개의 뉴스그룹 카테고리"
      ],
      "metadata": {
        "colab": {
          "base_uri": "https://localhost:8080/"
        },
        "id": "2twJOHfYV7ws",
        "outputId": "47cfa17d-f70c-409e-fc23-182ff2fe1039"
      },
      "execution_count": null,
      "outputs": [
        {
          "output_type": "execute_result",
          "data": {
            "text/plain": [
              "['alt.atheism',\n",
              " 'comp.graphics',\n",
              " 'comp.os.ms-windows.misc',\n",
              " 'comp.sys.ibm.pc.hardware',\n",
              " 'comp.sys.mac.hardware',\n",
              " 'comp.windows.x',\n",
              " 'misc.forsale',\n",
              " 'rec.autos',\n",
              " 'rec.motorcycles',\n",
              " 'rec.sport.baseball',\n",
              " 'rec.sport.hockey',\n",
              " 'sci.crypt',\n",
              " 'sci.electronics',\n",
              " 'sci.med',\n",
              " 'sci.space',\n",
              " 'soc.religion.christian',\n",
              " 'talk.politics.guns',\n",
              " 'talk.politics.mideast',\n",
              " 'talk.politics.misc',\n",
              " 'talk.religion.misc']"
            ]
          },
          "metadata": {},
          "execution_count": 15
        }
      ]
    },
    {
      "cell_type": "code",
      "source": [
        "documents[0]"
      ],
      "metadata": {
        "colab": {
          "base_uri": "https://localhost:8080/",
          "height": 122
        },
        "id": "3GNHqghxxif6",
        "outputId": "ea66d86a-bcd2-4a69-a6d3-c38481a5fbf8"
      },
      "execution_count": null,
      "outputs": [
        {
          "output_type": "execute_result",
          "data": {
            "text/plain": [
              "\"Well i'm not sure about the story nad it did seem biased. What\\nI disagree with is your statement that the U.S. Media is out to\\nruin Israels reputation. That is rediculous. The U.S. media is\\nthe most pro-israeli media in the world. Having lived in Europe\\nI realize that incidences such as the one described in the\\nletter have occured. The U.S. media as a whole seem to try to\\nignore them. The U.S. is subsidizing Israels existance and the\\nEuropeans are not (at least not to the same degree). So I think\\nthat might be a reason they report more clearly on the\\natrocities.\\n\\tWhat is a shame is that in Austria, daily reports of\\nthe inhuman acts commited by Israeli soldiers and the blessing\\nreceived from the Government makes some of the Holocaust guilt\\ngo away. After all, look how the Jews are treating other races\\nwhen they got power. It is unfortunate.\\n\""
            ],
            "application/vnd.google.colaboratory.intrinsic+json": {
              "type": "string"
            }
          },
          "metadata": {},
          "execution_count": 16
        }
      ]
    },
    {
      "cell_type": "code",
      "source": [
        "pd.DataFrame({'document':documents})"
      ],
      "metadata": {
        "colab": {
          "base_uri": "https://localhost:8080/",
          "height": 424
        },
        "id": "ZJavLmoAWkvl",
        "outputId": "edb4c24b-825d-420e-8e6e-0977587e9cee"
      },
      "execution_count": null,
      "outputs": [
        {
          "output_type": "execute_result",
          "data": {
            "text/plain": [
              "                                                document\n",
              "0      Well i'm not sure about the story nad it did s...\n",
              "1      \\n\\n\\n\\n\\n\\n\\nYeah, do you expect people to re...\n",
              "2      Although I realize that principle is not one o...\n",
              "3      Notwithstanding all the legitimate fuss about ...\n",
              "4      Well, I will have to change the scoring on my ...\n",
              "...                                                  ...\n",
              "11309  Danny Rubenstein, an Israeli journalist, will ...\n",
              "11310                                                 \\n\n",
              "11311  \\nI agree.  Home runs off Clemens are always m...\n",
              "11312  I used HP DeskJet with Orange Micros Grappler ...\n",
              "11313                                        ^^^^^^\\n...\n",
              "\n",
              "[11314 rows x 1 columns]"
            ],
            "text/html": [
              "\n",
              "  <div id=\"df-6fef0d58-7e2e-441b-b112-9091cffe1ffe\" class=\"colab-df-container\">\n",
              "    <div>\n",
              "<style scoped>\n",
              "    .dataframe tbody tr th:only-of-type {\n",
              "        vertical-align: middle;\n",
              "    }\n",
              "\n",
              "    .dataframe tbody tr th {\n",
              "        vertical-align: top;\n",
              "    }\n",
              "\n",
              "    .dataframe thead th {\n",
              "        text-align: right;\n",
              "    }\n",
              "</style>\n",
              "<table border=\"1\" class=\"dataframe\">\n",
              "  <thead>\n",
              "    <tr style=\"text-align: right;\">\n",
              "      <th></th>\n",
              "      <th>document</th>\n",
              "    </tr>\n",
              "  </thead>\n",
              "  <tbody>\n",
              "    <tr>\n",
              "      <th>0</th>\n",
              "      <td>Well i'm not sure about the story nad it did s...</td>\n",
              "    </tr>\n",
              "    <tr>\n",
              "      <th>1</th>\n",
              "      <td>\\n\\n\\n\\n\\n\\n\\nYeah, do you expect people to re...</td>\n",
              "    </tr>\n",
              "    <tr>\n",
              "      <th>2</th>\n",
              "      <td>Although I realize that principle is not one o...</td>\n",
              "    </tr>\n",
              "    <tr>\n",
              "      <th>3</th>\n",
              "      <td>Notwithstanding all the legitimate fuss about ...</td>\n",
              "    </tr>\n",
              "    <tr>\n",
              "      <th>4</th>\n",
              "      <td>Well, I will have to change the scoring on my ...</td>\n",
              "    </tr>\n",
              "    <tr>\n",
              "      <th>...</th>\n",
              "      <td>...</td>\n",
              "    </tr>\n",
              "    <tr>\n",
              "      <th>11309</th>\n",
              "      <td>Danny Rubenstein, an Israeli journalist, will ...</td>\n",
              "    </tr>\n",
              "    <tr>\n",
              "      <th>11310</th>\n",
              "      <td>\\n</td>\n",
              "    </tr>\n",
              "    <tr>\n",
              "      <th>11311</th>\n",
              "      <td>\\nI agree.  Home runs off Clemens are always m...</td>\n",
              "    </tr>\n",
              "    <tr>\n",
              "      <th>11312</th>\n",
              "      <td>I used HP DeskJet with Orange Micros Grappler ...</td>\n",
              "    </tr>\n",
              "    <tr>\n",
              "      <th>11313</th>\n",
              "      <td>^^^^^^\\n...</td>\n",
              "    </tr>\n",
              "  </tbody>\n",
              "</table>\n",
              "<p>11314 rows × 1 columns</p>\n",
              "</div>\n",
              "    <div class=\"colab-df-buttons\">\n",
              "\n",
              "  <div class=\"colab-df-container\">\n",
              "    <button class=\"colab-df-convert\" onclick=\"convertToInteractive('df-6fef0d58-7e2e-441b-b112-9091cffe1ffe')\"\n",
              "            title=\"Convert this dataframe to an interactive table.\"\n",
              "            style=\"display:none;\">\n",
              "\n",
              "  <svg xmlns=\"http://www.w3.org/2000/svg\" height=\"24px\" viewBox=\"0 -960 960 960\">\n",
              "    <path d=\"M120-120v-720h720v720H120Zm60-500h600v-160H180v160Zm220 220h160v-160H400v160Zm0 220h160v-160H400v160ZM180-400h160v-160H180v160Zm440 0h160v-160H620v160ZM180-180h160v-160H180v160Zm440 0h160v-160H620v160Z\"/>\n",
              "  </svg>\n",
              "    </button>\n",
              "\n",
              "  <style>\n",
              "    .colab-df-container {\n",
              "      display:flex;\n",
              "      gap: 12px;\n",
              "    }\n",
              "\n",
              "    .colab-df-convert {\n",
              "      background-color: #E8F0FE;\n",
              "      border: none;\n",
              "      border-radius: 50%;\n",
              "      cursor: pointer;\n",
              "      display: none;\n",
              "      fill: #1967D2;\n",
              "      height: 32px;\n",
              "      padding: 0 0 0 0;\n",
              "      width: 32px;\n",
              "    }\n",
              "\n",
              "    .colab-df-convert:hover {\n",
              "      background-color: #E2EBFA;\n",
              "      box-shadow: 0px 1px 2px rgba(60, 64, 67, 0.3), 0px 1px 3px 1px rgba(60, 64, 67, 0.15);\n",
              "      fill: #174EA6;\n",
              "    }\n",
              "\n",
              "    .colab-df-buttons div {\n",
              "      margin-bottom: 4px;\n",
              "    }\n",
              "\n",
              "    [theme=dark] .colab-df-convert {\n",
              "      background-color: #3B4455;\n",
              "      fill: #D2E3FC;\n",
              "    }\n",
              "\n",
              "    [theme=dark] .colab-df-convert:hover {\n",
              "      background-color: #434B5C;\n",
              "      box-shadow: 0px 1px 3px 1px rgba(0, 0, 0, 0.15);\n",
              "      filter: drop-shadow(0px 1px 2px rgba(0, 0, 0, 0.3));\n",
              "      fill: #FFFFFF;\n",
              "    }\n",
              "  </style>\n",
              "\n",
              "    <script>\n",
              "      const buttonEl =\n",
              "        document.querySelector('#df-6fef0d58-7e2e-441b-b112-9091cffe1ffe button.colab-df-convert');\n",
              "      buttonEl.style.display =\n",
              "        google.colab.kernel.accessAllowed ? 'block' : 'none';\n",
              "\n",
              "      async function convertToInteractive(key) {\n",
              "        const element = document.querySelector('#df-6fef0d58-7e2e-441b-b112-9091cffe1ffe');\n",
              "        const dataTable =\n",
              "          await google.colab.kernel.invokeFunction('convertToInteractive',\n",
              "                                                    [key], {});\n",
              "        if (!dataTable) return;\n",
              "\n",
              "        const docLinkHtml = 'Like what you see? Visit the ' +\n",
              "          '<a target=\"_blank\" href=https://colab.research.google.com/notebooks/data_table.ipynb>data table notebook</a>'\n",
              "          + ' to learn more about interactive tables.';\n",
              "        element.innerHTML = '';\n",
              "        dataTable['output_type'] = 'display_data';\n",
              "        await google.colab.output.renderOutput(dataTable, element);\n",
              "        const docLink = document.createElement('div');\n",
              "        docLink.innerHTML = docLinkHtml;\n",
              "        element.appendChild(docLink);\n",
              "      }\n",
              "    </script>\n",
              "  </div>\n",
              "\n",
              "\n",
              "<div id=\"df-81b80bb1-1541-4059-a655-d3d36f9ff405\">\n",
              "  <button class=\"colab-df-quickchart\" onclick=\"quickchart('df-81b80bb1-1541-4059-a655-d3d36f9ff405')\"\n",
              "            title=\"Suggest charts\"\n",
              "            style=\"display:none;\">\n",
              "\n",
              "<svg xmlns=\"http://www.w3.org/2000/svg\" height=\"24px\"viewBox=\"0 0 24 24\"\n",
              "     width=\"24px\">\n",
              "    <g>\n",
              "        <path d=\"M19 3H5c-1.1 0-2 .9-2 2v14c0 1.1.9 2 2 2h14c1.1 0 2-.9 2-2V5c0-1.1-.9-2-2-2zM9 17H7v-7h2v7zm4 0h-2V7h2v10zm4 0h-2v-4h2v4z\"/>\n",
              "    </g>\n",
              "</svg>\n",
              "  </button>\n",
              "\n",
              "<style>\n",
              "  .colab-df-quickchart {\n",
              "      --bg-color: #E8F0FE;\n",
              "      --fill-color: #1967D2;\n",
              "      --hover-bg-color: #E2EBFA;\n",
              "      --hover-fill-color: #174EA6;\n",
              "      --disabled-fill-color: #AAA;\n",
              "      --disabled-bg-color: #DDD;\n",
              "  }\n",
              "\n",
              "  [theme=dark] .colab-df-quickchart {\n",
              "      --bg-color: #3B4455;\n",
              "      --fill-color: #D2E3FC;\n",
              "      --hover-bg-color: #434B5C;\n",
              "      --hover-fill-color: #FFFFFF;\n",
              "      --disabled-bg-color: #3B4455;\n",
              "      --disabled-fill-color: #666;\n",
              "  }\n",
              "\n",
              "  .colab-df-quickchart {\n",
              "    background-color: var(--bg-color);\n",
              "    border: none;\n",
              "    border-radius: 50%;\n",
              "    cursor: pointer;\n",
              "    display: none;\n",
              "    fill: var(--fill-color);\n",
              "    height: 32px;\n",
              "    padding: 0;\n",
              "    width: 32px;\n",
              "  }\n",
              "\n",
              "  .colab-df-quickchart:hover {\n",
              "    background-color: var(--hover-bg-color);\n",
              "    box-shadow: 0 1px 2px rgba(60, 64, 67, 0.3), 0 1px 3px 1px rgba(60, 64, 67, 0.15);\n",
              "    fill: var(--button-hover-fill-color);\n",
              "  }\n",
              "\n",
              "  .colab-df-quickchart-complete:disabled,\n",
              "  .colab-df-quickchart-complete:disabled:hover {\n",
              "    background-color: var(--disabled-bg-color);\n",
              "    fill: var(--disabled-fill-color);\n",
              "    box-shadow: none;\n",
              "  }\n",
              "\n",
              "  .colab-df-spinner {\n",
              "    border: 2px solid var(--fill-color);\n",
              "    border-color: transparent;\n",
              "    border-bottom-color: var(--fill-color);\n",
              "    animation:\n",
              "      spin 1s steps(1) infinite;\n",
              "  }\n",
              "\n",
              "  @keyframes spin {\n",
              "    0% {\n",
              "      border-color: transparent;\n",
              "      border-bottom-color: var(--fill-color);\n",
              "      border-left-color: var(--fill-color);\n",
              "    }\n",
              "    20% {\n",
              "      border-color: transparent;\n",
              "      border-left-color: var(--fill-color);\n",
              "      border-top-color: var(--fill-color);\n",
              "    }\n",
              "    30% {\n",
              "      border-color: transparent;\n",
              "      border-left-color: var(--fill-color);\n",
              "      border-top-color: var(--fill-color);\n",
              "      border-right-color: var(--fill-color);\n",
              "    }\n",
              "    40% {\n",
              "      border-color: transparent;\n",
              "      border-right-color: var(--fill-color);\n",
              "      border-top-color: var(--fill-color);\n",
              "    }\n",
              "    60% {\n",
              "      border-color: transparent;\n",
              "      border-right-color: var(--fill-color);\n",
              "    }\n",
              "    80% {\n",
              "      border-color: transparent;\n",
              "      border-right-color: var(--fill-color);\n",
              "      border-bottom-color: var(--fill-color);\n",
              "    }\n",
              "    90% {\n",
              "      border-color: transparent;\n",
              "      border-bottom-color: var(--fill-color);\n",
              "    }\n",
              "  }\n",
              "</style>\n",
              "\n",
              "  <script>\n",
              "    async function quickchart(key) {\n",
              "      const quickchartButtonEl =\n",
              "        document.querySelector('#' + key + ' button');\n",
              "      quickchartButtonEl.disabled = true;  // To prevent multiple clicks.\n",
              "      quickchartButtonEl.classList.add('colab-df-spinner');\n",
              "      try {\n",
              "        const charts = await google.colab.kernel.invokeFunction(\n",
              "            'suggestCharts', [key], {});\n",
              "      } catch (error) {\n",
              "        console.error('Error during call to suggestCharts:', error);\n",
              "      }\n",
              "      quickchartButtonEl.classList.remove('colab-df-spinner');\n",
              "      quickchartButtonEl.classList.add('colab-df-quickchart-complete');\n",
              "    }\n",
              "    (() => {\n",
              "      let quickchartButtonEl =\n",
              "        document.querySelector('#df-81b80bb1-1541-4059-a655-d3d36f9ff405 button');\n",
              "      quickchartButtonEl.style.display =\n",
              "        google.colab.kernel.accessAllowed ? 'block' : 'none';\n",
              "    })();\n",
              "  </script>\n",
              "</div>\n",
              "\n",
              "    </div>\n",
              "  </div>\n"
            ],
            "application/vnd.google.colaboratory.intrinsic+json": {
              "type": "dataframe",
              "summary": "{\n  \"name\": \"pd\",\n  \"rows\": 11314,\n  \"fields\": [\n    {\n      \"column\": \"document\",\n      \"properties\": {\n        \"dtype\": \"string\",\n        \"num_unique_values\": 10994,\n        \"samples\": [\n          \"\\nWell, if you want to pick on Morgan, why not attack its ash (wood)\\nframe or its hand-bent metal skin (just try and get a replacement :-)).  \\nI thought the kingpost suspension was one of the Mog's better features.\",\n          \"I am writing a custom widget to support the display of graphics\\nand imagery.  The user of the widget will be able to specify,\\nwhen creating it, whether it is to operate in X or GL mode.\\n\\nI have set up translations and actions to handle mouse button\\npresses.  They work fine when the widget is in X mode.  In GL \\nmode they only work when the widget (my GL/X widget) is a child\\nof a manager.  Put another way, the translations do not work \\nwhen the widget is configured in GL mode and is a child of a \\nshell.  Does anyone know why this is happening?\",\n          \"long\\ndisk\\n\\n\\nI don't know how many times I've posted this the net.  No one EVER\\nlistens.  \\n\\nOnce and for all:  Floptical Media is only $1.40 a megabyte if you don't\\nknow where to buy it.  I am bying my flopticals at $30 per 2 disks.  I\\nsee that as $.75 a meagabyte, NOT $1.40.  No, I'm not buying in bulk, I'm\\nnot getting a special deal.  $.75 a meg is good in my book, Approching\\nfloppy price.\\n\\nAny questions on my source can be sent to ctr@po.cwru.edu.\\n\"\n        ],\n        \"semantic_type\": \"\",\n        \"description\": \"\"\n      }\n    }\n  ]\n}"
            }
          },
          "metadata": {},
          "execution_count": 17
        }
      ]
    },
    {
      "cell_type": "code",
      "source": [
        "# text preprocessing\n",
        "news_df = pd.DataFrame({'document':documents})\n",
        "# 특수 문자 제거\n",
        "news_df['clean_doc'] = news_df['document'].str.replace(\"[^a-zA-Z]\", \" \")\n",
        "# 길이가 3이하인 단어는 제거 (길이가 짧은 단어 제거)\n",
        "news_df['clean_doc'] = news_df['clean_doc'].apply(lambda x: ' '.join([w for w in x.split() if len(w)>3]))\n",
        "# 전체 단어에 대한 소문자 변환\n",
        "news_df['clean_doc'] = news_df['clean_doc'].apply(lambda x: x.lower())"
      ],
      "metadata": {
        "id": "4Jjqhds9x7Mc"
      },
      "execution_count": null,
      "outputs": []
    },
    {
      "cell_type": "code",
      "source": [
        "news_df['clean_doc'][0]"
      ],
      "metadata": {
        "id": "JWhpDvYFyMPT",
        "colab": {
          "base_uri": "https://localhost:8080/",
          "height": 105
        },
        "outputId": "68fde730-487f-466a-e564-518d88ec87e6"
      },
      "execution_count": null,
      "outputs": [
        {
          "output_type": "execute_result",
          "data": {
            "text/plain": [
              "'well sure about story seem biased. what disagree with your statement that u.s. media ruin israels reputation. that rediculous. u.s. media most pro-israeli media world. having lived europe realize that incidences such described letter have occured. u.s. media whole seem ignore them. u.s. subsidizing israels existance europeans least same degree). think that might reason they report more clearly atrocities. what shame that austria, daily reports inhuman acts commited israeli soldiers blessing received from government makes some holocaust guilt away. after all, look jews treating other races when they power. unfortunate.'"
            ],
            "application/vnd.google.colaboratory.intrinsic+json": {
              "type": "string"
            }
          },
          "metadata": {},
          "execution_count": 19
        }
      ]
    },
    {
      "cell_type": "code",
      "source": [
        "# NLTK로부터 불용어를 받아와 제거한다.\n",
        "nltk.download('stopwords')\n",
        "stop_words = stopwords.words('english')\n",
        "tokenized_doc = news_df['clean_doc'].apply(lambda x: x.split())   # split default - any whitespace\n",
        "tokenized_doc = tokenized_doc.apply(lambda x: [item for item in x if item not in stop_words])"
      ],
      "metadata": {
        "id": "2xeCUtAmyxmL",
        "colab": {
          "base_uri": "https://localhost:8080/"
        },
        "outputId": "7886a9ab-cad5-445b-bbcd-10acc36d7cbd"
      },
      "execution_count": null,
      "outputs": [
        {
          "output_type": "stream",
          "name": "stderr",
          "text": [
            "[nltk_data] Downloading package stopwords to /root/nltk_data...\n",
            "[nltk_data]   Unzipping corpora/stopwords.zip.\n"
          ]
        }
      ]
    },
    {
      "cell_type": "code",
      "source": [
        "print(tokenized_doc[:2])"
      ],
      "metadata": {
        "id": "vBYcxM89y936",
        "colab": {
          "base_uri": "https://localhost:8080/"
        },
        "outputId": "3dbabc90-343d-4144-bb46-9c4debde1ffd"
      },
      "execution_count": null,
      "outputs": [
        {
          "output_type": "stream",
          "name": "stdout",
          "text": [
            "0    [well, sure, story, seem, biased., disagree, s...\n",
            "1    [yeah,, expect, people, read, faq,, etc., actu...\n",
            "Name: clean_doc, dtype: object\n"
          ]
        }
      ]
    },
    {
      "cell_type": "code",
      "source": [
        "# tf-idf matrix\n",
        "detokenized_doc = []\n",
        "for i in range(len(news_df)):\n",
        "    t = ' '.join(tokenized_doc[i])\n",
        "    detokenized_doc.append(t)\n",
        "\n",
        "news_df['clean_doc'] = detokenized_doc"
      ],
      "metadata": {
        "id": "iCbw8N4vziuz"
      },
      "execution_count": null,
      "outputs": []
    },
    {
      "cell_type": "code",
      "source": [
        "news_df['clean_doc'][0]"
      ],
      "metadata": {
        "id": "Ix5dv0Koz7ca",
        "colab": {
          "base_uri": "https://localhost:8080/",
          "height": 87
        },
        "outputId": "a4146270-a4fc-4769-8f6b-c12c7a205709"
      },
      "execution_count": null,
      "outputs": [
        {
          "output_type": "execute_result",
          "data": {
            "text/plain": [
              "'well sure story seem biased. disagree statement u.s. media ruin israels reputation. rediculous. u.s. media pro-israeli media world. lived europe realize incidences described letter occured. u.s. media whole seem ignore them. u.s. subsidizing israels existance europeans least degree). think might reason report clearly atrocities. shame austria, daily reports inhuman acts commited israeli soldiers blessing received government makes holocaust guilt away. all, look jews treating races power. unfortunate.'"
            ],
            "application/vnd.google.colaboratory.intrinsic+json": {
              "type": "string"
            }
          },
          "metadata": {},
          "execution_count": 23
        }
      ]
    },
    {
      "cell_type": "code",
      "source": [
        "vectorizer = TfidfVectorizer(stop_words='english',\n",
        "                             max_features= 1000, # 상위 1,000개의 단어\n",
        "                             max_df = 0.5,       # ignore terms of df higher than 0.5\n",
        "                             smooth_idf=True)\n",
        "\n",
        "X = vectorizer.fit_transform(news_df['clean_doc'])\n",
        "\n",
        "print(X.shape)"
      ],
      "metadata": {
        "id": "tg3nXcYl0CNC",
        "colab": {
          "base_uri": "https://localhost:8080/"
        },
        "outputId": "e49cb7e3-16d4-4476-aa3e-c548f9cdbfcb"
      },
      "execution_count": null,
      "outputs": [
        {
          "output_type": "stream",
          "name": "stdout",
          "text": [
            "(11314, 1000)\n"
          ]
        }
      ]
    },
    {
      "cell_type": "code",
      "source": [
        "# topic modeling\n",
        "svd_model = TruncatedSVD(n_components=20,\n",
        "                         n_iter=100,\n",
        "                         random_state=122)\n",
        "svd_model.fit(X)\n",
        "\n",
        "document_topic_matrix = svd_model.transform(X)   # U matrix\n",
        "topic_word_matrix = svd_model.components_        # VT matrix\n",
        "\n",
        "print(document_topic_matrix.shape, topic_word_matrix.shape)"
      ],
      "metadata": {
        "id": "88x4vQGn0V1s",
        "colab": {
          "base_uri": "https://localhost:8080/"
        },
        "outputId": "beac72ea-d638-430b-becd-917f1c6dc1d6"
      },
      "execution_count": null,
      "outputs": [
        {
          "output_type": "stream",
          "name": "stdout",
          "text": [
            "(11314, 20) (20, 1000)\n"
          ]
        }
      ]
    },
    {
      "cell_type": "code",
      "source": [
        "svd_model.singular_values_  # singular values do not have any meaning."
      ],
      "metadata": {
        "id": "FcHITZWJX32P",
        "colab": {
          "base_uri": "https://localhost:8080/"
        },
        "outputId": "8c10594d-a06a-4958-ad69-ba714751d1bd"
      },
      "execution_count": null,
      "outputs": [
        {
          "output_type": "execute_result",
          "data": {
            "text/plain": [
              "array([16.99231375,  9.98707185,  8.2095276 ,  7.9667739 ,  7.69109387,\n",
              "        7.56906966,  7.23668778,  7.15771592,  6.89445453,  6.85388563,\n",
              "        6.77509223,  6.65763894,  6.58553344,  6.48628553,  6.41632537,\n",
              "        6.34373597,  6.24915387,  6.20902418,  6.15143178,  6.08720989])"
            ]
          },
          "metadata": {},
          "execution_count": 27
        }
      ]
    },
    {
      "cell_type": "markdown",
      "source": [
        "- 각 20개의 topic에 대해 각 1,000개의 열 (words) 중 가장 값이 큰 5개의 값을 찾아서 단어로 출력."
      ],
      "metadata": {
        "id": "xeZpjEyI1Ngq"
      }
    },
    {
      "cell_type": "code",
      "source": [
        "# first row 에 대해 먼저 확인\n",
        "idx_5 = svd_model.components_[0].argsort()[-5:]\n",
        "idx_5"
      ],
      "metadata": {
        "id": "LSJBUxzKiiOM",
        "colab": {
          "base_uri": "https://localhost:8080/"
        },
        "outputId": "275fbb9f-31d2-4d0c-f540-e6f13273368a"
      },
      "execution_count": null,
      "outputs": [
        {
          "output_type": "execute_result",
          "data": {
            "text/plain": [
              "array([404, 894, 653, 486, 512])"
            ]
          },
          "metadata": {},
          "execution_count": 28
        }
      ]
    },
    {
      "cell_type": "code",
      "source": [
        "[vectorizer.get_feature_names_out()[i] for i in idx_5][::-1]"
      ],
      "metadata": {
        "id": "dQUsaPrajENN",
        "colab": {
          "base_uri": "https://localhost:8080/"
        },
        "outputId": "c1e8a5e5-2905-4b8b-9a27-52de57c74762"
      },
      "execution_count": null,
      "outputs": [
        {
          "output_type": "execute_result",
          "data": {
            "text/plain": [
              "['like', 'know', 'people', 'think', 'good']"
            ]
          },
          "metadata": {},
          "execution_count": 29
        }
      ]
    },
    {
      "cell_type": "code",
      "source": [
        "# 모든 row 에 대해 확인\n",
        "terms = vectorizer.get_feature_names_out()       # 단어 집합. 1,000개의 단어가 저장됨.\n",
        "\n",
        "def get_topics(components, feature_names, n=5):\n",
        "    for idx, topic in enumerate(components, 1):\n",
        "        # print(\"Topic %d:\" % (idx), [(feature_names[i], topic[i].round(5)) for i in topic.argsort()[:-n - 1:-1]])\n",
        "        print(\"Topic %d:\" % (idx), [(feature_names[i], topic[i].round(5)) for i in topic.argsort()[-n:][::-1]])\n",
        "\n",
        "get_topics(svd_model.components_, terms)"
      ],
      "metadata": {
        "id": "pDYowmXP0xdk",
        "colab": {
          "base_uri": "https://localhost:8080/"
        },
        "outputId": "4384b1ec-ba4c-4016-f2d9-e2356115b601"
      },
      "execution_count": null,
      "outputs": [
        {
          "output_type": "stream",
          "name": "stdout",
          "text": [
            "Topic 1: [('like', 0.2085), ('know', 0.19656), ('people', 0.1912), ('think', 0.17523), ('good', 0.14902)]\n",
            "Topic 2: [('thanks', 0.31338), ('windows', 0.27934), ('card', 0.17289), ('drive', 0.16141), ('mail', 0.14507)]\n",
            "Topic 3: [('game', 0.36553), ('team', 0.3133), ('year', 0.28465), ('games', 0.23048), ('season', 0.17026)]\n",
            "Topic 4: [('edu', 0.50341), ('thanks', 0.25409), ('mail', 0.1758), ('com', 0.11498), ('email', 0.11166)]\n",
            "Topic 5: [('edu', 0.49934), ('drive', 0.24972), ('com', 0.10645), ('sale', 0.10616), ('soon', 0.09199)]\n",
            "Topic 6: [('drive', 0.40102), ('thanks', 0.34667), ('know', 0.27592), ('scsi', 0.13765), ('mail', 0.11332)]\n",
            "Topic 7: [('chip', 0.21565), ('government', 0.20249), ('like', 0.17148), ('encryption', 0.14654), ('clipper', 0.14478)]\n",
            "Topic 8: [('like', 0.64668), ('edu', 0.31439), ('bike', 0.12683), ('know', 0.12403), ('think', 0.11547)]\n",
            "Topic 9: [('card', 0.3572), ('sale', 0.17543), ('00', 0.17496), ('video', 0.16994), ('good', 0.15574)]\n",
            "Topic 10: [('card', 0.45093), ('people', 0.35248), ('know', 0.26213), ('video', 0.20438), ('edu', 0.18018)]\n",
            "Topic 11: [('like', 0.53784), ('people', 0.29344), ('windows', 0.14585), ('drive', 0.14199), ('game', 0.138)]\n",
            "Topic 12: [('think', 0.73098), ('thanks', 0.19253), ('people', 0.12027), ('mail', 0.11436), ('good', 0.11292)]\n",
            "Topic 13: [('know', 0.21625), ('chip', 0.21482), ('jesus', 0.19227), ('game', 0.1597), ('think', 0.15475)]\n",
            "Topic 14: [('know', 0.33277), ('good', 0.31777), ('people', 0.22055), ('windows', 0.21856), ('file', 0.20588)]\n",
            "Topic 15: [('good', 0.38909), ('chip', 0.22814), ('people', 0.15098), ('clipper', 0.14368), ('encryption', 0.14025)]\n",
            "Topic 16: [('com', 0.6569), ('ve', 0.34058), ('people', 0.20544), ('seen', 0.0979), ('list', 0.09405)]\n",
            "Topic 17: [('ve', 0.38594), ('space', 0.30952), ('people', 0.28754), ('seen', 0.13734), ('heard', 0.13676)]\n",
            "Topic 18: [('good', 0.32101), ('israel', 0.25517), ('card', 0.24702), ('com', 0.1984), ('israeli', 0.13667)]\n",
            "Topic 19: [('ve', 0.54441), ('israel', 0.20771), ('seen', 0.17641), ('00', 0.14313), ('heard', 0.13857)]\n",
            "Topic 20: [('time', 0.34123), ('bike', 0.28176), ('right', 0.25465), ('file', 0.20011), ('need', 0.19803)]\n"
          ]
        }
      ]
    },
    {
      "cell_type": "markdown",
      "source": [
        "- Pros and Cons of LSA:\n",
        "  - can be implemented easily and quickly.\n",
        "  - good performance in calculating the similarity of documents as it can derive the potential meaning of word\n",
        "  - But, if you add new data, you should recalculate it (difficult to update)\n",
        "  - that is why word embedding (like Word2Vec) is in the spotlight."
      ],
      "metadata": {
        "id": "iXTTWi-R1Zka"
      }
    },
    {
      "cell_type": "markdown",
      "source": [
        "## LDA in sklearn"
      ],
      "metadata": {
        "id": "BuRCWM-qQBhm"
      }
    },
    {
      "cell_type": "code",
      "source": [
        "lda = LatentDirichletAllocation(n_components=20,\n",
        "                                learning_method=\"batch\",\n",
        "                                max_iter=100,\n",
        "                                random_state=0)\n",
        "\n",
        "lda.fit(X)\n",
        "\n",
        "document_topic_matrix = lda.transform(X)  # document-topic distribution\n",
        "topic_word_matrix = lda.components_       # topic-term distribution\n",
        "\n",
        "print(document_topic_matrix.shape, topic_word_matrix.shape)"
      ],
      "metadata": {
        "id": "ByNnc-AEQEOr",
        "colab": {
          "base_uri": "https://localhost:8080/"
        },
        "outputId": "2e5dfa48-daba-42e7-a5df-5fcd4db129ab"
      },
      "execution_count": null,
      "outputs": [
        {
          "output_type": "stream",
          "name": "stdout",
          "text": [
            "(11314, 20) (20, 1000)\n"
          ]
        }
      ]
    },
    {
      "cell_type": "code",
      "source": [
        "lda.components_[0].argsort()[-5:]"
      ],
      "metadata": {
        "id": "ZyiyTlH5Y6el",
        "colab": {
          "base_uri": "https://localhost:8080/"
        },
        "outputId": "f2f91d23-5744-4535-f849-7ec59a6e456f"
      },
      "execution_count": null,
      "outputs": [
        {
          "output_type": "execute_result",
          "data": {
            "text/plain": [
              "array([103, 473, 474, 469, 468])"
            ]
          },
          "metadata": {},
          "execution_count": 34
        }
      ]
    },
    {
      "cell_type": "code",
      "source": [
        "lda.get_params()   # doc_topic_prior = alpha, topic_word_prior = beta\n",
        "                   # both are by default 1/n_components"
      ],
      "metadata": {
        "id": "JWMajngQVHL6",
        "colab": {
          "base_uri": "https://localhost:8080/"
        },
        "outputId": "21090dd1-18dd-4c90-96b9-05915e36fe94"
      },
      "execution_count": null,
      "outputs": [
        {
          "output_type": "execute_result",
          "data": {
            "text/plain": [
              "{'batch_size': 128,\n",
              " 'doc_topic_prior': None,\n",
              " 'evaluate_every': -1,\n",
              " 'learning_decay': 0.7,\n",
              " 'learning_method': 'batch',\n",
              " 'learning_offset': 10.0,\n",
              " 'max_doc_update_iter': 100,\n",
              " 'max_iter': 100,\n",
              " 'mean_change_tol': 0.001,\n",
              " 'n_components': 20,\n",
              " 'n_jobs': None,\n",
              " 'perp_tol': 0.1,\n",
              " 'random_state': 0,\n",
              " 'topic_word_prior': None,\n",
              " 'total_samples': 1000000.0,\n",
              " 'verbose': 0}"
            ]
          },
          "metadata": {},
          "execution_count": 35
        }
      ]
    },
    {
      "cell_type": "code",
      "source": [
        "# 모든 row 에 대해 확인\n",
        "get_topics(topic_word_matrix, terms)  # weights of the words (not normalized)"
      ],
      "metadata": {
        "id": "AfKFGVz6Qrzt",
        "colab": {
          "base_uri": "https://localhost:8080/"
        },
        "outputId": "f0e9fe97-8aed-413b-ce42-f99d36fc2956"
      },
      "execution_count": null,
      "outputs": [
        {
          "output_type": "stream",
          "name": "stdout",
          "text": [
            "Topic 1: [('israel', 55.91007), ('israeli', 37.40372), ('jews', 36.18425), ('jewish', 32.01102), ('arab', 22.87842)]\n",
            "Topic 2: [('chip', 45.6305), ('encryption', 41.82251), ('clipper', 40.13751), ('keys', 37.44909), ('key', 33.76178)]\n",
            "Topic 3: [('deleted', 33.87988), ('article', 22.90138), ('stuff', 20.62038), ('guess', 13.27093), ('option', 10.48642)]\n",
            "Topic 4: [('thought', 15.48351), ('think', 15.11633), ('wrong', 14.2117), ('different', 14.11492), ('idea', 12.42745)]\n",
            "Topic 5: [('thanks', 86.61173), ('mail', 69.51238), ('edu', 68.59203), ('email', 49.92426), ('address', 42.42177)]\n",
            "Topic 6: [('file', 81.46428), ('windows', 67.00844), ('window', 65.35554), ('files', 61.70281), ('program', 55.38014)]\n",
            "Topic 7: [('games', 23.72558), ('year', 17.09516), ('seen', 17.00454), ('mike', 16.68639), ('good', 15.16978)]\n",
            "Topic 8: [('game', 86.66358), ('team', 83.36534), ('year', 56.8159), ('players', 50.22618), ('season', 46.0765)]\n",
            "Topic 9: [('output', 23.77782), ('test', 23.35485), ('ground', 21.04171), ('line', 20.17549), ('power', 17.88789)]\n",
            "Topic 10: [('com', 21.22502), ('hear', 16.57662), ('heard', 12.93243), ('lib', 11.44015), ('dave', 11.4177)]\n",
            "Topic 11: [('version', 22.98411), ('answer', 15.05379), ('source', 14.11072), ('appreciate', 10.87434), ('mentioned', 10.3224)]\n",
            "Topic 12: [('people', 93.91061), ('government', 80.80195), ('think', 50.60396), ('like', 49.20399), ('right', 42.91821)]\n",
            "Topic 13: [('bike', 68.26365), ('cars', 42.33974), ('engine', 36.52681), ('car', 33.87612), ('like', 33.75447)]\n",
            "Topic 14: [('sale', 59.71483), ('00', 58.30312), ('offer', 44.36614), ('shipping', 38.88721), ('condition', 35.0875)]\n",
            "Topic 15: [('book', 16.95101), ('study', 14.79233), ('1993', 14.31895), ('april', 13.71662), ('books', 12.94061)]\n",
            "Topic 16: [('space', 57.5096), ('nasa', 30.24159), ('orbit', 22.33458), ('moon', 20.78055), ('launch', 19.94162)]\n",
            "Topic 17: [('drive', 87.08359), ('drives', 36.76553), ('disk', 36.12962), ('monitor', 36.10276), ('hard', 29.43606)]\n",
            "Topic 18: [('people', 69.06867), ('jesus', 68.77312), ('god', 65.52712), ('think', 53.38306), ('christian', 51.85284)]\n",
            "Topic 19: [('card', 86.38807), ('windows', 60.69143), ('memory', 56.70742), ('drivers', 47.00094), ('software', 46.63487)]\n",
            "Topic 20: [('soon', 32.7482), ('know', 30.10655), ('people', 29.40801), ('time', 28.95231), ('edu', 28.51744)]\n"
          ]
        }
      ]
    },
    {
      "cell_type": "markdown",
      "source": [
        "- try to compare the results with the target"
      ],
      "metadata": {
        "id": "EEEJnTqXRMKq"
      }
    },
    {
      "cell_type": "code",
      "source": [
        "dataset.target_names      #  20개의 뉴스그룹 카테고리"
      ],
      "metadata": {
        "id": "c0QxrkGURKdj",
        "colab": {
          "base_uri": "https://localhost:8080/"
        },
        "outputId": "57568992-9ed1-4122-825a-658c086873b3"
      },
      "execution_count": null,
      "outputs": [
        {
          "output_type": "execute_result",
          "data": {
            "text/plain": [
              "['alt.atheism',\n",
              " 'comp.graphics',\n",
              " 'comp.os.ms-windows.misc',\n",
              " 'comp.sys.ibm.pc.hardware',\n",
              " 'comp.sys.mac.hardware',\n",
              " 'comp.windows.x',\n",
              " 'misc.forsale',\n",
              " 'rec.autos',\n",
              " 'rec.motorcycles',\n",
              " 'rec.sport.baseball',\n",
              " 'rec.sport.hockey',\n",
              " 'sci.crypt',\n",
              " 'sci.electronics',\n",
              " 'sci.med',\n",
              " 'sci.space',\n",
              " 'soc.religion.christian',\n",
              " 'talk.politics.guns',\n",
              " 'talk.politics.mideast',\n",
              " 'talk.politics.misc',\n",
              " 'talk.religion.misc']"
            ]
          },
          "metadata": {},
          "execution_count": 42
        }
      ]
    },
    {
      "cell_type": "markdown",
      "source": [
        "- in LSA(TruncatedSVD)\n",
        "  - components_: term-topic distribution\n",
        "  - transform(): provides the document-topic distribution\n",
        "- in LDA\n",
        "  - components_: Represents the topic-term distribution (similar to the right singular vectors in SVD).\n",
        "  - transform(): Provides the topic-document distribution (similar to the left singular vectors in SVD)."
      ],
      "metadata": {
        "id": "2DG45wwfbaP_"
      }
    },
    {
      "cell_type": "markdown",
      "source": [
        "# LDA(Latent Dirichlet Allocation)\n",
        "- gensim:\n",
        "  - Topic Modeling Focus: designed for natural language processing and topic modeling. It is well-suited for text data and is optimized for large text corpora.\n",
        "  - Incremental Training: it allows for incremental training of LDA models, which can be useful if you want to update your model over time without reprocessing the entire dataset.\n",
        "  - Efficiency: known for its memory efficiency and scalability. It can handle very large text corpora efficiently.\n",
        "  - Customization: provides more flexibility in customizing LDA parameters and fine-tuning the model to suit your specific needs.\n",
        "- sklearn:\n",
        "  - General Machine Learning Focus: Scikit-learn is a general-purpose machine learning library. Its LDA implementation is part of its broader suite of machine learning algorithms and is designed for general data analysis tasks.\n",
        "  - Ease of Use: If you are already familiar with scikit-learn for other machine learning tasks, using scikit-learn's LDA can be convenient and consistent with your existing workflow.\n",
        "  - Integration with Other Machine Learning Algorithms: Scikit-learn allows for easy integration of LDA with other machine learning techniques and provides a consistent API for various algorithms."
      ],
      "metadata": {
        "id": "Pd9P8hzNvDK7"
      }
    },
    {
      "cell_type": "markdown",
      "source": [
        "## LDA algorithm\n",
        "- LDA는 문서들은 토픽들의 혼합으로 구성되어져 있으며, 토픽들은 확률 분포에 기반하여 단어들을 생성한다고 가정.\n",
        "- 데이터가 주어지면, LDA는 문서가 생성되던 과정을 역추적\n",
        "- https://wikidocs.net/30708"
      ],
      "metadata": {
        "id": "jFDv9L8j8MJo"
      }
    },
    {
      "cell_type": "markdown",
      "source": [
        "- LDA algorithm:\n",
        "  - (1) hyperparameter k is given\n",
        "  - (2) assign all words to one of k topics\n",
        "  - (3) iterate followings:\n",
        "     - assume the word w is mis-assigned and all others are well- assigned\n",
        "     - re-assign w based on:\n",
        "        - p(topic t | document d) : 문서 d의 단어들 중 토픽 t에 해당하는 단어들의 비율\n",
        "        - p(word w | topic t) : 각 토픽들 t에서 해당 단어 w의 분포\n",
        "- LSA and LDA\n",
        "  - LSA: DTM (document term matrix)을 차원 축소 하여 축소 차원에서 근접 단어들을 토픽으로 묶는다\n",
        "  - LDA: 단어가 특정 토픽에 존재할 확률과 문서에 특정 토픽이 존재할 확률을 결합확률로 추정하여 토픽을 추출"
      ],
      "metadata": {
        "id": "TzeM9JV59MKR"
      }
    },
    {
      "cell_type": "code",
      "source": [
        "# let's use the same dataset as we used in LSA\n",
        "print(tokenized_doc.shape)\n",
        "tokenized_doc[:5]"
      ],
      "metadata": {
        "colab": {
          "base_uri": "https://localhost:8080/"
        },
        "id": "sKxjkgLd83wY",
        "outputId": "454be298-7c95-474f-b4e6-c354907764bb"
      },
      "execution_count": null,
      "outputs": [
        {
          "output_type": "stream",
          "name": "stdout",
          "text": [
            "(11314,)\n"
          ]
        },
        {
          "output_type": "execute_result",
          "data": {
            "text/plain": [
              "0    [well, sure, story, seem, biased., disagree, s...\n",
              "1    [yeah,, expect, people, read, faq,, etc., actu...\n",
              "2    [although, realize, principle, strongest, poin...\n",
              "3    [notwithstanding, legitimate, fuss, proposal,,...\n",
              "4    [well,, change, scoring, playoff, pool., unfor...\n",
              "Name: clean_doc, dtype: object"
            ]
          },
          "metadata": {},
          "execution_count": 43
        }
      ]
    },
    {
      "cell_type": "markdown",
      "source": [
        "- record word frequency (word_id, word_freq)"
      ],
      "metadata": {
        "id": "hjIB7A8p_eDK"
      }
    },
    {
      "cell_type": "code",
      "source": [
        "from gensim import corpora\n",
        "\n",
        "dictionary = corpora.Dictionary(tokenized_doc)\n",
        "corpus = [dictionary.doc2bow(text) for text in tokenized_doc]\n",
        "print(corpus[:2])"
      ],
      "metadata": {
        "colab": {
          "base_uri": "https://localhost:8080/"
        },
        "id": "CfOH_jbn_RKP",
        "outputId": "4c62d3df-ca01-4f43-82a4-d3017fa0edcf"
      },
      "execution_count": null,
      "outputs": [
        {
          "output_type": "stream",
          "name": "stdout",
          "text": [
            "[[(0, 1), (1, 1), (2, 1), (3, 1), (4, 1), (5, 1), (6, 1), (7, 1), (8, 1), (9, 1), (10, 1), (11, 1), (12, 1), (13, 1), (14, 1), (15, 1), (16, 1), (17, 1), (18, 1), (19, 1), (20, 1), (21, 1), (22, 1), (23, 2), (24, 1), (25, 1), (26, 1), (27, 1), (28, 1), (29, 1), (30, 4), (31, 1), (32, 1), (33, 1), (34, 1), (35, 1), (36, 1), (37, 1), (38, 1), (39, 1), (40, 1), (41, 1), (42, 1), (43, 1), (44, 2), (45, 1), (46, 1), (47, 1), (48, 1), (49, 1), (50, 1), (51, 1), (52, 1), (53, 1), (54, 4), (55, 1), (56, 1), (57, 1), (58, 1)], [(59, 1), (60, 1), (61, 1), (62, 1), (63, 1), (64, 1), (65, 1), (66, 1), (67, 1), (68, 1), (69, 1), (70, 1), (71, 1), (72, 1), (73, 1), (74, 1), (75, 1), (76, 1), (77, 1), (78, 1), (79, 1), (80, 1), (81, 1), (82, 2), (83, 1), (84, 1), (85, 1), (86, 1), (87, 1), (88, 1), (89, 2), (90, 1), (91, 1), (92, 1), (93, 1), (94, 1), (95, 1), (96, 2), (97, 1), (98, 1), (99, 1), (100, 1), (101, 1), (102, 1)]]\n"
          ]
        }
      ]
    },
    {
      "cell_type": "code",
      "source": [
        "# LDA train\n",
        "import gensim\n",
        "\n",
        "NUM_TOPICS = 20      # 20개의 토픽, k=20\n",
        "# train the model\n",
        "ldamodel = gensim.models.ldamodel.LdaModel(corpus,\n",
        "                                           num_topics = NUM_TOPICS,\n",
        "                                           id2word=dictionary,\n",
        "                                           passes=15)   # The model is trained during the instantiation.\n",
        "\n",
        "topics = ldamodel.print_topics(num_words=5)  # 5 개의 단어만 출력\n",
        "for topic in topics:\n",
        "    print(topic)"
      ],
      "metadata": {
        "colab": {
          "base_uri": "https://localhost:8080/"
        },
        "id": "pglBZHme_0Ph",
        "outputId": "72c30583-3d46-4c6d-b002-d1826a99fca4"
      },
      "execution_count": null,
      "outputs": [
        {
          "output_type": "stream",
          "name": "stdout",
          "text": [
            "(0, '0.004*\"dept\" + 0.003*\"player.\" + 0.003*\"allocated\" + 0.003*\"strikes\" + 0.003*\"couples\"')\n",
            "(1, '0.017*\"greek\" + 0.014*\"turkey\" + 0.013*\"55.0\" + 0.005*\"greece\" + 0.004*\"cyprus\"')\n",
            "(2, '0.004*\"copies)\" + 0.004*\"annual\" + 0.003*\"skip\" + 0.003*\"(1st\" + 0.002*\"devils\"')\n",
            "(3, '0.009*\"available\" + 0.008*\"information\" + 0.007*\"also\" + 0.005*\"data\" + 0.005*\"send\"')\n",
            "(4, '0.014*\"period\" + 0.011*\"power\" + 0.009*\"---------------\" + 0.009*\"scorer\" + 0.008*\"play:\"')\n",
            "(5, '0.015*\"encryption\" + 0.012*\"government\" + 0.012*\"security\" + 0.010*\"chip\" + 0.009*\"clipper\"')\n",
            "(6, '0.003*\"accelerator\" + 0.003*\"1991.\" + 0.002*\"infrared\" + 0.002*\"rs/6000\" + 0.002*\"correction\"')\n",
            "(7, '0.040*\"space\" + 0.012*\"nasa\" + 0.011*\"launch\" + 0.009*\"satellite\" + 0.007*\"lunar\"')\n",
            "(8, '0.030*\"armenian\" + 0.023*\"armenians\" + 0.022*\"turkish\" + 0.009*\"turks\" + 0.008*\"armenia\"')\n",
            "(9, '0.006*\"------\" + 0.006*\"candida\" + 0.004*\"outlets\" + 0.004*\"hawks\" + 0.004*\"caps\"')\n",
            "(10, '0.009*\"drive\" + 0.009*\"like\" + 0.009*\"know\" + 0.009*\"would\" + 0.008*\"anyone\"')\n",
            "(11, '0.217*\"max>\\'ax>\\'ax>\\'ax>\\'ax>\\'ax>\\'ax>\\'ax>\\'ax>\\'ax>\\'ax>\\'ax>\\'ax>\\'ax>\\'ax>\\'\" + 0.009*\"henrik]\" + 0.004*\"picture\" + 0.003*\"part\" + 0.002*\"--------\"')\n",
            "(12, '0.010*\"water\" + 0.008*\"gordon\" + 0.007*\"----------------------------------------------------------------------------\" + 0.007*\"surrender\" + 0.007*\"banks\"')\n",
            "(13, '0.007*\"moral\" + 0.006*\"objective\" + 0.006*\"atheists\" + 0.005*\"science\" + 0.005*\"islamic\"')\n",
            "(14, '0.019*\"file\" + 0.013*\"window\" + 0.010*\"program\" + 0.009*\"entry\" + 0.008*\"using\"')\n",
            "(15, '0.005*\"helmet\" + 0.003*\"nolan\" + 0.003*\"pitcher\" + 0.003*\"tigers\" + 0.002*\"translations\"')\n",
            "(16, '0.012*\"would\" + 0.008*\"people\" + 0.006*\"like\" + 0.006*\"think\" + 0.005*\"know\"')\n",
            "(17, '0.004*\"neutral\" + 0.003*\"retail\" + 0.003*\"ground\" + 0.002*\"metal\" + 0.002*\"yassin\"')\n",
            "(18, '0.007*\"team\" + 0.006*\"last\" + 0.006*\"game\" + 0.006*\"first\" + 0.005*\"went\"')\n",
            "(19, '0.005*\"april\" + 0.004*\"sweden\" + 0.004*\"financial\" + 0.004*\"*******\" + 0.003*\"(205)\"')\n"
          ]
        }
      ]
    },
    {
      "cell_type": "code",
      "source": [
        "# see the topics as a list of words\n",
        "# - no natural ordering between the topics in LDA.\n",
        "\n",
        "ldamodel.show_topics(num_topics=20, num_words=5, log=False, formatted=True)   # 10 개 단어 출력"
      ],
      "metadata": {
        "colab": {
          "base_uri": "https://localhost:8080/"
        },
        "id": "bgs6524Dgdss",
        "outputId": "56d2d0a8-543d-47c4-f3e3-e37d51b1ea8e"
      },
      "execution_count": null,
      "outputs": [
        {
          "output_type": "execute_result",
          "data": {
            "text/plain": [
              "[(0,\n",
              "  '0.004*\"dept\" + 0.003*\"player.\" + 0.003*\"allocated\" + 0.003*\"strikes\" + 0.003*\"couples\"'),\n",
              " (1,\n",
              "  '0.017*\"greek\" + 0.014*\"turkey\" + 0.013*\"55.0\" + 0.005*\"greece\" + 0.004*\"cyprus\"'),\n",
              " (2,\n",
              "  '0.004*\"copies)\" + 0.004*\"annual\" + 0.003*\"skip\" + 0.003*\"(1st\" + 0.002*\"devils\"'),\n",
              " (3,\n",
              "  '0.009*\"available\" + 0.008*\"information\" + 0.007*\"also\" + 0.005*\"data\" + 0.005*\"send\"'),\n",
              " (4,\n",
              "  '0.014*\"period\" + 0.011*\"power\" + 0.009*\"---------------\" + 0.009*\"scorer\" + 0.008*\"play:\"'),\n",
              " (5,\n",
              "  '0.015*\"encryption\" + 0.012*\"government\" + 0.012*\"security\" + 0.010*\"chip\" + 0.009*\"clipper\"'),\n",
              " (6,\n",
              "  '0.003*\"accelerator\" + 0.003*\"1991.\" + 0.002*\"infrared\" + 0.002*\"rs/6000\" + 0.002*\"correction\"'),\n",
              " (7,\n",
              "  '0.040*\"space\" + 0.012*\"nasa\" + 0.011*\"launch\" + 0.009*\"satellite\" + 0.007*\"lunar\"'),\n",
              " (8,\n",
              "  '0.030*\"armenian\" + 0.023*\"armenians\" + 0.022*\"turkish\" + 0.009*\"turks\" + 0.008*\"armenia\"'),\n",
              " (9,\n",
              "  '0.006*\"------\" + 0.006*\"candida\" + 0.004*\"outlets\" + 0.004*\"hawks\" + 0.004*\"caps\"'),\n",
              " (10,\n",
              "  '0.009*\"drive\" + 0.009*\"like\" + 0.009*\"know\" + 0.009*\"would\" + 0.008*\"anyone\"'),\n",
              " (11,\n",
              "  '0.217*\"max>\\'ax>\\'ax>\\'ax>\\'ax>\\'ax>\\'ax>\\'ax>\\'ax>\\'ax>\\'ax>\\'ax>\\'ax>\\'ax>\\'ax>\\'\" + 0.009*\"henrik]\" + 0.004*\"picture\" + 0.003*\"part\" + 0.002*\"--------\"'),\n",
              " (12,\n",
              "  '0.010*\"water\" + 0.008*\"gordon\" + 0.007*\"----------------------------------------------------------------------------\" + 0.007*\"surrender\" + 0.007*\"banks\"'),\n",
              " (13,\n",
              "  '0.007*\"moral\" + 0.006*\"objective\" + 0.006*\"atheists\" + 0.005*\"science\" + 0.005*\"islamic\"'),\n",
              " (14,\n",
              "  '0.019*\"file\" + 0.013*\"window\" + 0.010*\"program\" + 0.009*\"entry\" + 0.008*\"using\"'),\n",
              " (15,\n",
              "  '0.005*\"helmet\" + 0.003*\"nolan\" + 0.003*\"pitcher\" + 0.003*\"tigers\" + 0.002*\"translations\"'),\n",
              " (16,\n",
              "  '0.012*\"would\" + 0.008*\"people\" + 0.006*\"like\" + 0.006*\"think\" + 0.005*\"know\"'),\n",
              " (17,\n",
              "  '0.004*\"neutral\" + 0.003*\"retail\" + 0.003*\"ground\" + 0.002*\"metal\" + 0.002*\"yassin\"'),\n",
              " (18,\n",
              "  '0.007*\"team\" + 0.006*\"last\" + 0.006*\"game\" + 0.006*\"first\" + 0.005*\"went\"'),\n",
              " (19,\n",
              "  '0.005*\"april\" + 0.004*\"sweden\" + 0.004*\"financial\" + 0.004*\"*******\" + 0.003*\"(205)\"')]"
            ]
          },
          "metadata": {},
          "execution_count": 47
        }
      ]
    },
    {
      "cell_type": "markdown",
      "source": [
        "- visualize LDA"
      ],
      "metadata": {
        "id": "qAmZyMvWAFkB"
      }
    },
    {
      "cell_type": "code",
      "source": [
        "!pip install pyLDAvis"
      ],
      "metadata": {
        "id": "Ka7QxIfCAMuR",
        "colab": {
          "base_uri": "https://localhost:8080/"
        },
        "outputId": "e2a8718c-ec76-4c63-f1c6-b97a29628732"
      },
      "execution_count": null,
      "outputs": [
        {
          "output_type": "stream",
          "name": "stdout",
          "text": [
            "Collecting pyLDAvis\n",
            "  Downloading pyLDAvis-3.4.1-py3-none-any.whl (2.6 MB)\n",
            "\u001b[2K     \u001b[90m━━━━━━━━━━━━━━━━━━━━━━━━━━━━━━━━━━━━━━━━\u001b[0m \u001b[32m2.6/2.6 MB\u001b[0m \u001b[31m21.1 MB/s\u001b[0m eta \u001b[36m0:00:00\u001b[0m\n",
            "\u001b[?25hRequirement already satisfied: numpy>=1.24.2 in /usr/local/lib/python3.10/dist-packages (from pyLDAvis) (1.25.2)\n",
            "Requirement already satisfied: scipy in /usr/local/lib/python3.10/dist-packages (from pyLDAvis) (1.11.4)\n",
            "Requirement already satisfied: pandas>=2.0.0 in /usr/local/lib/python3.10/dist-packages (from pyLDAvis) (2.0.3)\n",
            "Requirement already satisfied: joblib>=1.2.0 in /usr/local/lib/python3.10/dist-packages (from pyLDAvis) (1.4.2)\n",
            "Requirement already satisfied: jinja2 in /usr/local/lib/python3.10/dist-packages (from pyLDAvis) (3.1.4)\n",
            "Requirement already satisfied: numexpr in /usr/local/lib/python3.10/dist-packages (from pyLDAvis) (2.10.1)\n",
            "Collecting funcy (from pyLDAvis)\n",
            "  Downloading funcy-2.0-py2.py3-none-any.whl (30 kB)\n",
            "Requirement already satisfied: scikit-learn>=1.0.0 in /usr/local/lib/python3.10/dist-packages (from pyLDAvis) (1.2.2)\n",
            "Requirement already satisfied: gensim in /usr/local/lib/python3.10/dist-packages (from pyLDAvis) (4.3.2)\n",
            "Requirement already satisfied: setuptools in /usr/local/lib/python3.10/dist-packages (from pyLDAvis) (67.7.2)\n",
            "Requirement already satisfied: python-dateutil>=2.8.2 in /usr/local/lib/python3.10/dist-packages (from pandas>=2.0.0->pyLDAvis) (2.8.2)\n",
            "Requirement already satisfied: pytz>=2020.1 in /usr/local/lib/python3.10/dist-packages (from pandas>=2.0.0->pyLDAvis) (2023.4)\n",
            "Requirement already satisfied: tzdata>=2022.1 in /usr/local/lib/python3.10/dist-packages (from pandas>=2.0.0->pyLDAvis) (2024.1)\n",
            "Requirement already satisfied: threadpoolctl>=2.0.0 in /usr/local/lib/python3.10/dist-packages (from scikit-learn>=1.0.0->pyLDAvis) (3.5.0)\n",
            "Requirement already satisfied: smart-open>=1.8.1 in /usr/local/lib/python3.10/dist-packages (from gensim->pyLDAvis) (7.0.4)\n",
            "Requirement already satisfied: MarkupSafe>=2.0 in /usr/local/lib/python3.10/dist-packages (from jinja2->pyLDAvis) (2.1.5)\n",
            "Requirement already satisfied: six>=1.5 in /usr/local/lib/python3.10/dist-packages (from python-dateutil>=2.8.2->pandas>=2.0.0->pyLDAvis) (1.16.0)\n",
            "Requirement already satisfied: wrapt in /usr/local/lib/python3.10/dist-packages (from smart-open>=1.8.1->gensim->pyLDAvis) (1.14.1)\n",
            "Installing collected packages: funcy, pyLDAvis\n",
            "Successfully installed funcy-2.0 pyLDAvis-3.4.1\n"
          ]
        }
      ]
    },
    {
      "cell_type": "code",
      "source": [
        "import pyLDAvis\n",
        "import pyLDAvis.gensim_models  # Only needed if using gensim LDA\n",
        "\n",
        "pyLDAvis.enable_notebook()     # to enable the display in notebooks\n",
        "vis = pyLDAvis.gensim_models.prepare(ldamodel, corpus, dictionary)\n",
        "pyLDAvis.display(vis)"
      ],
      "metadata": {
        "colab": {
          "base_uri": "https://localhost:8080/",
          "height": 881
        },
        "id": "jMmY2smVAQpq",
        "outputId": "87bd62b7-1da8-44a9-980f-b1ac9cabe901"
      },
      "execution_count": null,
      "outputs": [
        {
          "output_type": "execute_result",
          "data": {
            "text/plain": [
              "<IPython.core.display.HTML object>"
            ],
            "text/html": [
              "\n",
              "<link rel=\"stylesheet\" type=\"text/css\" href=\"https://cdn.jsdelivr.net/gh/bmabey/pyLDAvis@3.4.0/pyLDAvis/js/ldavis.v1.0.0.css\">\n",
              "\n",
              "\n",
              "<div id=\"ldavis_el4231360748931502409049486455\" style=\"background-color:white;\"></div>\n",
              "<script type=\"text/javascript\">\n",
              "\n",
              "var ldavis_el4231360748931502409049486455_data = {\"mdsDat\": {\"x\": [0.4062930468339541, 0.32586506159987033, 0.2332923889971915, 0.29159079073353644, 0.1871132152884806, -0.005160455306568725, -0.05877157275884672, -0.1080737007659939, -0.06606620415583148, -0.0891522713246271, -0.1131811639024767, -0.10457905281298077, -0.10874248145977679, -0.11260011694448824, -0.10853551326864558, -0.11450951260599329, -0.11418360906174634, -0.11435023125116237, -0.11372708789923319, -0.112521529934662], \"y\": [-0.07769892874545227, 0.15878972408107467, -0.29082004143447654, 0.037463230893024724, 0.16693321041403258, 0.0752961310824019, -0.017925020872009947, 0.001194029101105887, -0.010417803589825856, -0.01703481611197635, -0.0026529860151994988, -0.01366680537460757, -0.0037256806632925913, -0.0029535990110660156, -0.0027478220307646677, -8.139175839480475e-05, -0.00019804551505674318, 0.00037411115246992123, 0.00045129335906599576, -0.0005787889610527232], \"topics\": [1, 2, 3, 4, 5, 6, 7, 8, 9, 10, 11, 12, 13, 14, 15, 16, 17, 18, 19, 20], \"cluster\": [1, 1, 1, 1, 1, 1, 1, 1, 1, 1, 1, 1, 1, 1, 1, 1, 1, 1, 1, 1], \"Freq\": [48.709138376218895, 14.958892466969411, 9.589456743742673, 8.374237727970673, 4.915809418887998, 2.226378697343565, 1.9456622658585503, 1.9083238021378408, 1.5907297204266184, 1.2650441084525164, 0.6463497541943114, 0.6245157112850684, 0.6243251340643422, 0.576161948199096, 0.5250190325884455, 0.4770166623828736, 0.3589328321594262, 0.2911846262004512, 0.20481760389595596, 0.18800336702126946]}, \"tinfo\": {\"Term\": [\"max>'ax>'ax>'ax>'ax>'ax>'ax>'ax>'ax>'ax>'ax>'ax>'ax>'ax>'ax>'\", \"file\", \"would\", \"know\", \"space\", \"government\", \"people\", \"like\", \"power\", \"available\", \"program\", \"anyone\", \"first\", \"using\", \"information\", \"drive\", \"system\", \"window\", \"need\", \"please\", \"also\", \"used\", \"problem\", \"last\", \"public\", \"number\", \"armenian\", \"second\", \"good\", \"i've\", \"believe\", \"people\", \"mean\", \"life\", \"certainly\", \"jews\", \"live\", \"israel\", \"agree\", \"you,\", \"taken\", \"love\", \"church\", \"fact,\", \"truth\", \"people.\", \"shall\", \"country\", \"continue\", \"food\", \"religion\", \"israeli\", \"serious\", \"arab\", \"christ\", \"neither\", \"guns\", \"god's\", \"learn\", \"stated\", \"understand\", \"that.\", \"saying\", \"claim\", \"force\", \"jesus\", \"fact\", \"perhaps\", \"reason\", \"person\", \"police\", \"think\", \"even\", \"that's\", \"nothing\", \"human\", \"things\", \"would\", \"said\", \"rather\", \"going\", \"something\", \"really\", \"state\", \"many\", \"could\", \"come\", \"enough\", \"like\", \"question\", \"make\", \"much\", \"might\", \"never\", \"know\", \"right\", \"time\", \"take\", \"made\", \"point\", \"since\", \"want\", \"still\", \"also\", \"must\", \"good\", \"first\", \"find\", \"available\", \"----------------------------------------------------------------------\", \"anonymous\", \"file:\", \"images\", \"entries\", \"jpeg\", \"inc.\", \"sites\", \"distributed\", \"files.\", \"postscript\", \"1991\", \"processing\", \"fax:\", \"1993.\", \"bytes\", \"newsletter\", \"smokeless\", \"cancer\", \"editor\", \"compression\", \"uuencode\", \"registration\", \"binaries\", \"characters\", \"updated\", \"copyright\", \"guidelines\", \"p.o.\", \"library\", \"image\", \"journal\", \"information\", \"archive\", \"internet\", \"requests\", \"mail\", \"page\", \"users\", \"mailing\", \"send\", \"package\", \"software\", \"technical\", \"list\", \"1993\", \"version\", \"email\", \"data\", \"include\", \"includes\", \"address\", \"files\", \"from:\", \"contact\", \"university\", \"graphics\", \"program\", \"research\", \"computer\", \"programs\", \"source\", \"also\", \"please\", \"systems\", \"number\", \"system\", \"file\", \"many\", \"using\", \"used\", \"games\", \"hockey\", \"players\", \"team\", \"teams\", \"season\", \"chicago\", \"kings\", \"game.\", \"toronto\", \"puck\", \"boston\", \"season.\", \"philadelphia\", \"game,\", \"detroit\", \"winning\", \"fans\", \"scored\", \"player\", \"score\", \"minnesota\", \"jose\", \"ball\", \"shots\", \"louis\", \"stats\", \"apartment\", \"sports\", \"pitching\", \"league\", \"game\", \"play\", \"baseball\", \"played\", \"pittsburgh\", \"beat\", \"went\", \"pick\", \"year.\", \"year\", \"bike\", \"home\", \"last\", \"miles\", \"division\", \"city\", \"left\", \"first\", \"he's\", \"took\", \"year,\", \"near\", \"back\", \"good\", \"next\", \"started\", \"came\", \"second\", \"three\", \"best\", \"card\", \"scsi\", \"apple\", \"monitor\", \"controller\", \"drives\", \"floppy\", \"printer\", \"drive.\", \"card.\", \"wire\", \"bios\", \"upgrade\", \"price:\", \"motherboard\", \"circuit\", \"brand\", \"simms\", \"drive,\", \"offer.\", \"card,\", \"wiring\", \"backup\", \"norton\", \"sony\", \"scsi-2\", \"boot\", \"vesa\", \"sale.\", \"scsi-1\", \"install\", \"disk\", \"cable\", \"modem\", \"drive\", \"drivers\", \"video\", \"driver\", \"----\", \"windows\", \"tape\", \"speed\", \"installed\", \"cards\", \"memory\", \"thanks\", \"port\", \"hard\", \"anyone\", \"price\", \"system\", \"need\", \"please\", \"know\", \"like\", \"i've\", \"sound\", \"problem\", \"would\", \"used\", \"using\", \"power\", \"work\", \"also\", \"could\", \"good\", \"want\", \"looking\", \"widget\", \"char\", \"bits\", \"contest\", \"x11r5\", \"xterm\", \"windows.\", \"x11r4\", \"xlib\", \"compile\", \"button\", \"voltage\", \"openwindows\", \"ansi\", \"#include\", \"nubus\", \"sunos\", \"allocation\", \"menu\", \"pixel\", \"icon\", \"sparc\", \"warning:\", \"loop\", \"pixmap\", \"#define\", \"colormap\", \"script\", \"display.\", \"simm\", \"window\", \"section.\", \"entry\", \"font\", \"stream\", \"output\", \"motif\", \"echo\", \"client\", \"file\", \"application\", \"input\", \"function\", \"server\", \"display\", \"manager\", \"program\", \"line\", \"error\", \"code\", \"size\", \"using\", \"write\", \"lines\", \"build\", \"open\", \"running\", \"number\", \"serial\", \"files\", \"subject:\", \"read\", \"problem\", \"name\", \"must\", \"encryption\", \"clipper\", \"enforcement\", \"escrow\", \"ripem\", \"secure\", \"encrypted\", \"agencies\", \"crypto\", \"cryptography\", \"keys.\", \"\\\"clipper\", \"francis\", \"chip\\\"\", \"unto\", \"telecommunications\", \"keys,\", \"present.\", \"balloon\", \"initiative\", \"plaintext\", \"infrastructure\", \"agencies.\", \"encrypt\", \"cryptanalysis\", \"countries.\", \"password\", \"ciphertext\", \"escrowed\", \"privacy,\", \"privacy\", \"key.\", \"activities.\", \"security\", \"keys\", \"cryptographic\", \"algorithm\", \"key,\", \"secret\", \"administration\", \"chip\", \"communications\", \"technology\", \"government\", \"agency\", \"private\", \"protect\", \"public\", \"clinton\", \"phone\", \"legal\", \"access\", \"u.s.\", \"strong\", \"system\", \"atheists\", \"islamic\", \"morality\", \"islam\", \"secular\", \"cipher\", \"'the\", \"cursor\", \"sabbath\", \"gaza\", \"scholars\", \"inner\", \"courts\", \"implied\", \"cryptography.\", \"ideas?\", \"arrest\", \"assertion\", \"proves\", \"all?\", \"justice,\", \"teacher\", \"commandments\", \"upgrading\", \"islam.\", \"prediction\", \"ceremonial\", \"cryptosystem\", \"lacking\", \"religions.\", \"surrounding\", \"instance\", \"objective\", \"moral\", \"hash\", \"atheism\", \"muslims\", \"humans\", \"science\", \"values\", \"atheist\", \"universe\", \"law.\", \"paul\", \"muslim\", \"religious\", \"defined\", \"law,\", \"existence\", \"theory\", \"max>'ax>'ax>'ax>'ax>'ax>'ax>'ax>'ax>'ax>'ax>'ax>'ax>'ax>'ax>'\", \"henrik]\", \"intentional\", \"christians.\", \"messiah\", \"scholarly\", \"bethesda,\", \"return.\", \"isaiah\", \"proceedings,\", \"nervous\", \"overtime\", \"revenues\", \"cares?\", \"libraries.\", \"journal,\", \"confess\", \"breathing\", \"seminar\", \"matthew,\", \"warfare\", \"\\\"yes,\", \"testament.\", \"videotape\", \"(frank\", \"tyranny\", \"tract\", \"reviewed\", \"co.,\", \"(london\", \"------------\", \"(301)\", \"--------\", \"picture\", \"part\", \"presentations\", \"planes\", \"----------\", \"reality\", \"nasa\", \"launch\", \"satellite\", \"lunar\", \"shuttle\", \"orbit\", \"launched\", \"satellites\", \"planetary\", \"probe\", \"kent\", \"saturn\", \"telescope\", \"orbital\", \"mars\", \"propulsion\", \"aerospace\", \"missions\", \"cleveland\", \"aircraft\", \"ozone\", \"engines\", \"ames\", \"titan\", \"orbit.\", \"redesign\", \"venus\", \"exploration\", \"probes\", \"liquid\", \"space\", \"spacecraft\", \"moon\", \"solar\", \"mission\", \"flight\", \"rocket\", \"station\", \"earth\", \"vehicle\", \"technology\", \"science\", \"russian\", \"armenian\", \"armenians\", \"turkish\", \"turks\", \"armenia\", \"genocide\", \"azerbaijan\", \"ottoman\", \"serdar\", \"azeri\", \"argic\", \"x-soviet\", \"azeris\", \"massacre\", \"karabakh\", \"armenians,\", \"armenians.\", \"saves\", \"prompt\", \"kurds\", \"azerbaijan,\", \"kurdish\", \"resources.\", \"hong\", \"zionism\", \"homeland\", \"latin\", \"armenia,\", \"inspired\", \"too?\", \"muslim\", \"villages\", \"source:\", \"professor\", \"russian\", \"azerbaijani\", \"killed\", \"soldiers\", \"population\", \"million\", \"army\", \"university\", \"government\", \"children\", \"turkey\", \"55.0\", \"greece\", \"cyprus\", \"[kk]\", \"turkey,\", \"pain,\", \"1980\", \"mexico\", \"greece,\", \"cypriot\", \"adjustable\", \"headache\", \"shock.\", \"temporarily\", \"archbishop\", \"etc?\", \"accusing\", \"greece.\", \"resources,\", \"bd's\", \"violating\", \"persons,\", \"1976\", \"turks.\", \"them.\\\"\", \"lens\", \"jokes\", \"snapped\", \"(compared\", \"schism\", \"greek\", \"summaries\", \"greeks\", \"saint\", \"scorer\", \"play:\", \"-----------------------------------------\", \"president's\", \"bandwidth\", \"(unassisted)\", \"decenso\", \"sea.\", \"twin\", \"countersteering\", \"approval\", \"suter\", \"bronx\", \"louis,\", \"calgary,\", \"manhattan\", \"shanahan\", \"sank\", \"fluke\", \"steer\", \"pricing\", \"goals:\", \"winnipeg,\", \"total:\", \"bobbe@vice.ico.tek.com\", \"awards\", \"affair\", \"millen\", \"queens\", \"stay,\", \"---------------\", \"hartford,\", \"period\", \"scoring.\", \"power\", \"philadelphia,\", \"third\", \"murphy\", \"chicago,\", \"second\", \"detroit,\", \"first\", \"blew\", \"copies)\", \"skip\", \"(1st\", \"fleet\", \"lost.\", \"(david\", \"disease,\", \"ghost\", \"canadiens\", \"cover)\", \"comics\", \"walls\", \"mint\", \"moncton\", \"maine\", \"projected\", \"answer:\", \"springfield\", \"murdering\", \"providence\", \"utica\", \"babies\", \"adirondack\", \"library,\", \"inspection\", \"2001\", \"spiderman\", \"print,\", \"card)\", \"binghamton\", \"bolt\", \"devils\", \"annual\", \"john's\", \"bullets\", \"comic\", \"rochester\", \"amazing\", \"baltimore\", \"gordon\", \"cubs\", \"intellect,\", \"shameful\", \"\\\"skepticism\", \"chastity\", \"n3jxp\", \"geb@cadre.dsl.pitt.edu\", \"soon.\\\"\", \"braves\", \"phillies\", \"reds\", \"cooling\", \"plants\", \"0.333\", \"suck\", \"third.\", \"==================================================================\", \"steam\", \"(first\", \"fossil\", \"insisted\", \"desirable\", \"0.500\", \"0.182\", \"verdict\", \"0.250\", \"(read:\", \"coverage.\", \"trends\", \"surrender\", \"----------------------------------------------------------------------------\", \"banks\", \"water\", \"temperature\", \"atlanta\", \"nuclear\", \"financial\", \"*******\", \"(205)\", \"vernon\", \"relay\", \"seal\", \"regulated\", \"chipset\", \"thursday,\", \"attend\", \"poor,\", \"huntsville,\", \"gifs\", \"intergraph\", \"measurement\", \"w4wg\", \"survivors\", \"else?\", \"afternoon\", \"bounced\", \"***************\", \"salary\", \"office)\", \"processor.\", \"galileo\", \"texas.\", \"shack\", \"ultraviolet\", \"<cpr>\", \"eggs\", \"sweden\", \"antenna\", \"uucp:\", \"forwards\", \"forwarded\", \"april\", \"finland\", \"germany\", \"insurance\", \"france\", \"internet:\", \"accelerator\", \"1991.\", \"infrared\", \"rs/6000\", \"bone\", \"wordperfect\", \"enhancement\", \"communications,\", \"jpeg,\", \"crashes\", \"nerve\", \"hemisphere\", \"then?\", \"sat,\", \"electricity\", \"upload\", \"(version\", \"albert\", \"normally,\", \"hockey.\", \"mpeg\", \"program?\", \"osf/motif\", \"judicial\", \"wont\", \"$20.\", \"signals.\", \"desired.\", \"tomb\", \"nationality\", \"distribution:\", \"correction\", \"rockwell\", \"taurus\", \"syndrome\", \"candida\", \"outlets\", \"alan\", \"mainstream\", \"wales\", \"methanol\", \"card?\", \"controller,\", \"campbell\", \"protein\", \"yeast\", \"nords\", \"proceeds\", \"cable,\", \"pentium\", \"era,\", \"math.\", \"offense,\", \"albicans\", \"elsewhere,\", \"ribbon\", \"isles\", \"compensate\", \"quantities\", \"rosicrucian\", \"cleveland,\", \"so).\", \"warranty.\", \"st506/st412\", \"maybe.\", \"caps\", \"hawks\", \"------\", \"quantum\", \"clone\", \"nolan\", \"pitcher\", \"tigers\", \"translations\", \"sega\", \"copper\", \"erzurum\", \"grasp\", \"shade\", \"kingman\", \"winfield\", \"inning.\", \"stats.\", \"nail\", \"ripped\", \"disagreement\", \"mozumder\", \"canal\", \"[more\", \"object,\", \"resembles\", \"helmet.\", \"ermeni\", \"'bout\", \"asserted\", \"helmets\", \"init\", \"satan,\", \"drawer\", \"\\\"drive\", \"helmet\", \"fuck\", \"massacres\", \"pitched\", \"february,\", \"player.\", \"allocated\", \"strikes\", \"couples\", \"deciding\", \"brains\", \"diff\", \"restaurants\", \"darn\", \"todd\", \"generous\", \"activity,\", \"_/_/_/\", \"augustine\", \"etc....\", \"\\\"history\", \"sentra\", \"protestant\", \"alternative,\", \"rainer\", \"protestants\", \"dortmund,\", \"grounds.\", \"secular,\", \"stainless\", \"gauge\", \"cursors\", \"part?\", \"propoganda\", \"klute\", \"dept\", \"_/_/_/_/\", \"retail\", \"yassin\", \"pipes\", \"impulse\", \"*are*\", \"irgun\", \"structural\", \"potential.\", \"==============================================================================\", \"minus\", \"neutral.\", \"transformer\", \"sentences\", \"frozen\", \"deir\", \"prescription\", \"volts\", \"williams,\", \"yassin,\", \"it..\", \"anti-semitism\", \"circumference\", \"possible?\", \"fools,\", \"examples.\", \"all;\", \"$50.\", \"navigation\", \"absurd.\", \"increases,\", \"conductor\", \"neutral\", \"metal\", \"ground\", \"austria\", \"grounded\"], \"Freq\": [4343.0, 1457.0, 7336.0, 3524.0, 754.0, 1003.0, 4169.0, 4373.0, 934.0, 1439.0, 1269.0, 1770.0, 2208.0, 1675.0, 1372.0, 862.0, 1527.0, 689.0, 1875.0, 1546.0, 3463.0, 1995.0, 1243.0, 1479.0, 792.0, 1395.0, 394.0, 923.0, 2527.0, 1509.0, 1477.5303810635567, 4166.561291816408, 728.9937618212851, 565.7414898513423, 501.5292695438308, 497.12799662768685, 484.8610741137014, 450.1696100037546, 449.080278814912, 418.5079505456487, 427.8740861634562, 413.7001348260861, 358.02123695297547, 308.7800751453007, 288.6060245391486, 287.11267972337066, 271.3750129539535, 261.43112416232043, 261.17055947451126, 259.2987308367699, 256.0878073937111, 412.2867119871787, 245.53385147930177, 238.58638220993086, 235.7912405032089, 234.18888818100302, 233.5375806040411, 232.51833735880186, 225.6347818669134, 220.24294954235197, 491.3615635109392, 454.81594524361634, 512.6972797533547, 398.94399681729044, 344.68810289870606, 756.2281722330132, 807.3862712848835, 559.5199537426977, 662.3925706727523, 643.5938862381892, 380.10618453478065, 3117.5548167423967, 2497.311716038368, 1096.9358571823875, 698.9757695271144, 568.4270587063048, 1108.5744727478998, 6235.696640469046, 1420.608913661736, 853.7459572027053, 1433.0690057490067, 1452.0518737415848, 1416.794796504932, 751.7705730688365, 2063.224573946241, 2388.0850936619822, 1021.4611842399659, 798.5160625429144, 3170.2635687736533, 786.4658160659995, 1876.6479984076675, 1797.4596612473529, 1226.173204874143, 1157.525166075228, 2594.0043348641384, 1326.1963623131207, 1732.2330923949726, 1294.2660150474417, 1079.3743268633582, 953.4252061499965, 1364.6611494509477, 1467.4642586602392, 1221.1227072322586, 1881.7250375251172, 1164.6714881262171, 1523.369651726179, 1212.214650108093, 1088.194190115802, 1439.0785239988868, 557.0535589395372, 463.1593129154495, 254.81982535451155, 254.55263143516484, 218.78443048990633, 218.2787175663603, 195.54150192952025, 185.550386593248, 166.86455815523558, 167.62341081728172, 161.08328222577566, 148.45645056526646, 143.86953328287814, 144.02466841176832, 125.7150954330275, 125.63871123426487, 123.17726492493424, 116.25312274701827, 116.13633049383186, 113.89729296709288, 110.38073222898768, 106.67990454889801, 97.92385746676608, 96.11358211135634, 95.52142409625696, 95.43419314023495, 92.46018043815481, 92.15815261933649, 91.17448789149803, 244.00676888768533, 636.4368358256102, 109.89835765256927, 1219.541034312901, 153.2986275926285, 222.9593994454113, 146.58260242952514, 493.6578357003502, 229.48569316708523, 303.9711519938228, 188.00710857780768, 734.391077005845, 392.84597200102826, 716.2319056932645, 266.6957726531686, 642.6305443937771, 503.7380644121857, 695.3827385803554, 539.897808622019, 847.115110873054, 439.51458830056015, 389.42658431826965, 409.67820202030595, 525.6652182650911, 259.84601346100783, 348.94235586878796, 422.0444190919038, 367.0340890444062, 720.264596628105, 369.7246696741068, 491.7285932575268, 367.7998500034094, 428.759576148908, 1131.0156315795664, 678.5315381583224, 349.68285950928663, 591.4874716725067, 555.3541178880862, 476.19578099923075, 457.7326446205371, 432.3264504889258, 418.0651669409326, 413.7354564812099, 357.533568586023, 335.97350107094996, 664.7612502381212, 274.7985399278133, 213.88261620395826, 173.0511605414854, 159.4955953150431, 156.6281530114804, 140.58728132519818, 137.19694896917235, 134.59833853457562, 133.27244419818817, 117.65235894116513, 117.49112542853943, 116.60267745855357, 119.89426864001108, 114.18102320581258, 110.26030265402461, 222.42717226369754, 108.99465121270484, 108.59296161716021, 107.92668128995312, 118.20701066000879, 105.07402438770809, 103.97704602306848, 101.6442213367225, 100.36017601262243, 96.81814684497927, 96.67538922607618, 333.1780995223019, 633.7232484127737, 448.001643313743, 165.55919149488605, 215.7586516573611, 139.1452360627701, 175.6263041307261, 524.6287781674013, 214.93931548006373, 229.31991078637105, 475.1212091778389, 208.0117808861434, 292.6389191424532, 641.0773804970099, 157.1695775369107, 182.86569119079022, 214.6234093301989, 315.0429495492212, 602.3332556229351, 275.8629716641958, 288.2258166087497, 177.9856886465389, 221.11703574408682, 381.4565353715803, 481.94081737164964, 293.6758420656076, 245.6958791830239, 265.6815240588953, 281.0877716417108, 265.36957786596025, 266.6152303531998, 530.0342460195785, 393.0469822746416, 311.68983077119964, 278.5374833648518, 252.01030569685952, 251.06686960885793, 206.25050423029364, 164.6547046325511, 141.0704598810678, 140.76870193221603, 166.80626725049987, 132.6534040926038, 126.79681985074383, 121.39995249759873, 118.33358058831509, 112.7671521554141, 112.54812339807299, 112.00734499756751, 110.35411168099267, 106.95843952956679, 103.21776229937133, 102.82687045039084, 99.89573406588926, 98.75119421974603, 98.0152768296681, 96.37303178315045, 95.84459216634048, 87.64060036664837, 91.81199936699066, 83.28096841238411, 158.36090183145092, 601.602710973898, 213.80519567371059, 224.21505710947397, 818.6676987109249, 259.48814063685967, 397.84216510842606, 293.88079158370397, 195.13319873366012, 694.8315730772667, 257.2845320880162, 319.19970971661803, 183.8211123381916, 175.64837674429532, 352.4392471019486, 513.6079486367656, 185.94068210654183, 473.53853638523566, 741.741459680824, 288.32330518807487, 605.7151477765311, 639.190124706141, 530.2317893326737, 762.5899525853124, 815.4457005671535, 478.6932423194016, 243.40178390667273, 404.8510853433413, 760.3853413824041, 455.50750140286016, 421.63068527886827, 346.0988720426544, 387.8535206915216, 372.0976510184924, 359.30542213775965, 347.41832386728714, 331.9853088031264, 289.62511848609813, 300.50551639480443, 227.45092882068903, 205.74111069557432, 160.78122505320252, 135.02065036358422, 130.08460684605387, 121.09532034032352, 116.54430013277555, 99.17972963383649, 93.15803185081236, 79.21141107391891, 79.09804456741072, 76.04801348218922, 75.71481468930047, 72.97856546988884, 70.84508180953007, 70.08217615037472, 67.05908132186487, 64.82525184720546, 61.85139901842336, 60.29805686382141, 59.12946174990223, 53.955274096110855, 53.87721000140893, 51.5502537493647, 51.50628488974685, 49.86756350985773, 49.47975648638911, 47.49201088742724, 46.605516757678245, 657.8356398314354, 101.38222056055353, 442.66432883966706, 147.3599904080547, 143.83113057392563, 353.19293061647653, 248.959887153281, 95.83748971159179, 122.38913751721664, 980.9012111384574, 289.11421246949755, 228.52508788097742, 185.27499689874577, 302.53900258041426, 277.8359867696906, 144.258567227252, 500.9725740906339, 343.2814932237849, 175.75490097480142, 267.18847186917714, 210.29722386760199, 402.37984464820966, 218.33550736212518, 173.3946002194655, 188.83292506787691, 221.1694057672391, 221.0638949182067, 248.28038479333517, 162.65590443837314, 192.96561349727688, 172.2723943244629, 191.34912579015176, 188.5765231344245, 175.888543245559, 179.75554469069803, 360.73714020309325, 202.58875618197482, 142.99597427428697, 124.21589406469914, 120.51089768079031, 124.11610043182868, 107.18722910483032, 105.68405758903764, 98.08951405794602, 69.70757163916626, 44.9021652385198, 44.82152084178672, 42.26438244115399, 37.859658280450944, 38.652787544529986, 36.53175123643035, 33.99946332178499, 33.53238516375012, 32.28735024720075, 31.475457995781426, 29.6999429971736, 28.45887665101122, 27.6739510937774, 26.969966420029355, 26.067800752569237, 26.0178876157623, 24.727841114042292, 24.55531574465518, 24.28666610596996, 23.972575112325792, 174.53585421732373, 74.40060876640071, 27.449029171021785, 275.2096012129997, 188.03509735211827, 54.416520334675425, 142.04227703315888, 56.97541861539067, 135.15905146283612, 165.1390302780232, 241.43002225923647, 87.66245033420691, 135.15389422537638, 286.26502100799206, 60.2761811525882, 115.15173370204646, 91.87165916191019, 129.81620785580026, 74.59584393301948, 88.01064002447298, 76.5637543535689, 90.6174984375141, 73.5792479793288, 67.85153192655122, 73.78077192917905, 112.86983769620531, 97.47429175288273, 93.53407951222897, 91.00561667906719, 63.29135576969579, 51.76395794294209, 47.37425535555847, 47.32195918423415, 46.06218720480801, 40.412189676285, 39.83540569435438, 34.298752985880725, 32.980433065558316, 32.493600875404205, 32.43565671757687, 32.263440671208514, 29.551363603428378, 28.80165044552043, 28.21683424709413, 26.584131138658226, 26.423301395046394, 25.261957941348697, 25.055509296651188, 24.757387840720856, 24.101275321088643, 23.88063064297528, 23.79796465870372, 23.293432591655026, 23.029914561450514, 22.7880923110495, 29.889672289922746, 32.188721327879556, 121.62429284305345, 143.61530830466606, 34.22231500019415, 45.335322719571394, 64.07903594798519, 52.40111547756794, 102.50477457330577, 59.527819012565125, 41.271857911501016, 44.226163713559274, 40.48583219390442, 43.831931403129644, 38.1822310119437, 43.28744268409047, 36.51690460099621, 33.736262498412515, 33.417098964820234, 33.05358827794494, 4343.06255267198, 180.0369210461342, 43.883647334835395, 34.66695207189822, 30.075681370820956, 28.10933852572901, 27.743438276062328, 27.688692777732257, 26.342775598907473, 26.22724140427145, 26.129710903605226, 25.453935885506546, 24.558365187323073, 23.42572486854429, 23.21518982980216, 22.99213007673657, 22.896275910694055, 22.83448467768686, 22.694619150459694, 22.401365507942057, 22.090166458472137, 20.054450405134748, 18.822100816975055, 18.361226535230323, 18.35442677176711, 17.6523339995204, 17.593145864715392, 17.35544324710988, 17.277609095402063, 17.09228785469624, 44.950546892300224, 34.48375364437027, 45.50494502512725, 70.27548661360565, 52.4548931491462, 20.164312107226284, 20.590998721718215, 21.356633668978247, 20.248767664123715, 192.11793268464535, 177.66227244383623, 141.9116433061855, 120.87362346616682, 115.54063813456641, 76.33623524220917, 64.78714746999756, 62.92980761946352, 56.70277125913486, 50.361439872395955, 49.42140652221105, 48.578153714879015, 48.48149755362264, 47.91629980526982, 44.26946249124353, 37.31341393304463, 35.99407890432825, 34.541468994960454, 33.73465610847848, 32.80066303957368, 32.3394502493586, 32.30420944483731, 31.246975591886372, 30.82799812753335, 30.822832404353644, 28.839536752737324, 28.177688673515462, 27.274254608101135, 27.16503784906055, 27.113265952979223, 663.5779940137022, 61.616909338366085, 61.71382981051503, 79.49946913518765, 91.8840514126495, 86.99105820482353, 70.83154889048815, 81.82751947690714, 70.18645151408265, 49.115237335497596, 48.548776336555306, 41.628588547397754, 34.78507812555852, 394.2721512741922, 300.500055425799, 297.7250485548006, 119.42926825909434, 107.15057319357706, 102.4375226127089, 62.44149994681829, 60.29351376314281, 57.53369045808175, 57.30706831778619, 57.21049564534827, 51.87199466451388, 48.4274117006022, 43.52672105395722, 41.11538098852981, 34.538260214983886, 33.14878464693825, 29.312767374846583, 28.606598640734926, 26.47582070452958, 26.295583863593965, 25.454580612750274, 25.260991692607323, 23.688746113372474, 22.040899543927317, 20.844825883455577, 19.507464999840106, 19.120834287235578, 19.017706901530108, 18.9872423994748, 79.72795885533728, 47.379337623500774, 43.97456824453885, 49.34679331014046, 85.0095029172055, 38.915074561154036, 56.97720287490351, 42.3329502755342, 42.50526458399884, 46.66933590450265, 36.997228208742506, 43.314951730096716, 42.431896925708266, 35.799111320036936, 93.89951692961523, 89.29936787212554, 31.468946945025188, 27.018431464413112, 18.271304632205773, 13.23769769127895, 13.105608281723224, 12.265883328792988, 10.454340065011277, 10.125873168938844, 9.408034259404808, 9.355584961598963, 9.111389610023533, 9.023476882850145, 9.018010765633505, 8.964331946806812, 8.8232647437469, 8.733790043176445, 8.679833259417613, 8.677296039738753, 8.57673038044138, 8.389085099093931, 8.210799023359256, 8.209169138075357, 8.185028831326916, 7.949739413003332, 7.864650556845072, 7.847195622583786, 7.523344365796425, 7.246304140861889, 10.508079688666875, 117.25425055814111, 10.32877730364907, 22.34065754093154, 8.75692983410381, 56.82522303013962, 54.20166521417464, 23.3061544759205, 18.92413153595388, 17.18335269446189, 15.321579232270315, 15.10607363478443, 14.292672498794534, 13.704753915859818, 12.678268173514459, 12.674598155444077, 11.477991434087356, 11.406052975927711, 11.159003534977018, 10.98720701341211, 10.922678787165054, 10.535096648024485, 10.11734100896472, 9.678620487052589, 9.610632830050625, 9.376598600793189, 9.301972865368704, 9.246003945299098, 9.231498599449612, 9.228142936357399, 9.127684393904032, 9.071999308911803, 9.018844323695332, 8.899549661469921, 8.828168954497272, 61.58359297076731, 19.27953120270554, 93.64896050033046, 15.23527810879739, 69.05397960781899, 13.468969370291894, 27.004002117840745, 12.463073879016665, 11.685300149217708, 24.21795940204286, 11.225443070011249, 15.99397537460556, 10.12608648653701, 27.239287931254726, 18.841825416030158, 17.256762265484813, 15.23178221137819, 15.113623859786708, 14.738336007858306, 14.388896725524324, 14.329780937023775, 14.240914274808027, 14.03641401210318, 13.708379432317548, 13.62274536683047, 13.473556222384877, 13.425978012486937, 12.59188186408103, 11.948664526662046, 11.376989177202493, 11.223771109698658, 10.895707544855055, 10.696030243243971, 10.311004937366022, 10.048993743054707, 9.63612600069967, 9.620084296641002, 9.592762828442746, 9.529025448724877, 9.319647305869053, 9.150092344374032, 8.964088362479355, 8.857738370953124, 12.455305033677096, 16.340587297781617, 24.099818668323234, 13.912318300215341, 13.956712730324357, 9.9570973795161, 9.917498450972243, 10.154111869617088, 9.987634663619987, 50.03016780431162, 37.760148731833304, 36.268305027848385, 35.89965843771918, 35.443356706538445, 35.443356706538445, 35.443356706538445, 34.9716982203773, 34.9716982203773, 33.163892239141504, 24.12531565851291, 19.30523882629599, 17.617320559019348, 15.482772444199245, 15.271273549447551, 14.66015551143418, 14.120284200528753, 13.700876411502081, 10.521760640326335, 9.336441735868508, 8.632496140430488, 8.272794282861604, 8.087555889636269, 7.829686859315298, 7.518230384623527, 7.434031498932917, 7.21565176993418, 7.152412855654305, 7.111603701215632, 7.074933606150116, 40.23812755500281, 41.33302420235539, 40.12008833932833, 57.685152569839914, 15.983210063593747, 10.652307136093032, 8.57237771087871, 22.26744679700725, 22.050173725985573, 15.678093514934165, 13.080032846409795, 12.018355163880836, 11.374734813601876, 10.902922396316391, 10.659868000622488, 10.651825007313576, 10.33257032187365, 9.853078606725953, 9.784585196683778, 9.525954116285067, 9.438213070847686, 9.317300691493964, 9.2261144816047, 9.134121983926194, 8.84252803701886, 8.613365909375391, 8.481355366672855, 8.463050645398718, 8.415163436811904, 8.330417266225732, 8.29614522439663, 8.244240047065338, 8.138931292819882, 8.104906204689156, 7.982819352032249, 7.553660649242549, 7.4447976860550185, 23.567049294123855, 13.100818009116704, 10.628515143939637, 9.960545800439029, 9.853278735437364, 24.88425028908106, 10.02165625705704, 13.418930293162328, 11.167965934176557, 9.368602275500136, 9.395923693236778, 16.598655136912818, 15.04716124236866, 11.768286938875049, 11.724893439572234, 11.399902017398428, 10.527465276117226, 10.304949603270689, 10.226581612574599, 9.988475098000524, 9.816049200303445, 9.548724427281028, 9.416940086802528, 8.853535018864816, 8.715298592233298, 8.711466154464148, 8.44530463353833, 8.342494361814547, 8.0872951514784, 7.981314493278923, 7.859012755437561, 7.293575493080594, 7.143340552338484, 6.924596706931413, 6.7868428317708265, 6.7746735597121885, 6.546396408796033, 6.2340917776496925, 6.117777058239363, 6.008268762294042, 5.93574384049599, 10.09604794293743, 11.422203121971766, 8.150884711981352, 6.693249992491822, 9.554809937497796, 22.61059639141629, 15.860664401745902, 12.573481178583556, 9.31823825833943, 8.660587087975351, 8.068757428779088, 7.8751729518441, 7.771282332310411, 7.712196543214426, 7.600859793421644, 7.56306958604781, 7.378265228079109, 6.9386251746789975, 6.68956220355446, 5.870241863329986, 5.772990929205777, 5.760664470109612, 5.5792744566755, 5.52376438878874, 5.329976436916165, 5.178238071875997, 5.1683199842393694, 4.846930443274259, 4.845802560646085, 4.642570126595057, 4.553757701574249, 3.9699876671148466, 3.8049208166156148, 3.7015726507409674, 3.6967173177475225, 13.968536047327055, 15.1336379251834, 23.32930670695209, 7.2473391917843255, 5.649362802202621, 9.27679725694917, 8.64880054237826, 8.074746609009454, 6.253356132588469, 5.957002397489006, 5.9212019364937465, 5.409587225951062, 5.357017294400472, 4.908976302029509, 4.702325964825525, 4.5476247707186745, 4.506976467743325, 4.192542313406016, 4.180354937567319, 4.157088711288763, 4.101099640582772, 4.015464274759086, 3.8701279146057024, 3.60180073260182, 3.5786383861103177, 3.5713635992422716, 3.5374375991990257, 3.4168648284190986, 3.335260852139581, 3.218269443744153, 3.173947994188893, 3.165880234562821, 3.1648787907252958, 3.110039512730808, 3.065845066887803, 15.752380714262003, 4.258150225489983, 4.897468058086313, 4.780727455341134, 3.3042356595745517, 6.174658811541644, 5.627985197335389, 5.6243012462749675, 5.425346368852528, 4.858396259983462, 4.580160113265338, 4.230608159155844, 3.6430810240913236, 3.4278083604543714, 3.3545144500109285, 3.194761045837673, 3.1575952295560556, 2.859796506961656, 2.497667771144734, 2.414803895726781, 2.3813623182464303, 2.3391610348279532, 2.321965676519371, 2.3085723799151787, 2.2185480467065757, 2.064242370869205, 1.96907134132619, 1.9298616103413044, 1.903402824216819, 1.8387668994217277, 1.7775033838401466, 1.7675464313425455, 1.7063278328384908, 1.685063662938926, 1.578303276690821, 8.66116362542477, 1.8088304805121451, 5.857020946014914, 4.477077050066432, 4.419457038599714, 3.901052879274998, 3.523328941043758, 2.9873150047969634, 2.86401578764874, 2.694068474251739, 2.6689078109439084, 2.645636821612338, 2.62510444694212, 2.487558140001081, 2.3730947048534388, 2.3713736246171293, 2.2463999546565883, 2.0570618345560665, 1.984181563014621, 1.815066422805415, 1.7396925028473815, 1.6169456943430023, 1.6087166430836748, 1.6059072833652308, 1.5850054495251074, 1.5614971886221891, 1.5557819986529042, 1.5443006271472102, 1.5390444761279138, 1.4716573974853684, 1.4473603751342334, 1.4040824309963928, 4.208900454590237, 7.758160215358795, 4.65564722121751, 5.730289445139055, 2.499137130497891, 2.132881011959461], \"Total\": [4343.0, 1457.0, 7336.0, 3524.0, 754.0, 1003.0, 4169.0, 4373.0, 934.0, 1439.0, 1269.0, 1770.0, 2208.0, 1675.0, 1372.0, 862.0, 1527.0, 689.0, 1875.0, 1546.0, 3463.0, 1995.0, 1243.0, 1479.0, 792.0, 1395.0, 394.0, 923.0, 2527.0, 1509.0, 1478.2141442383427, 4169.69534936025, 729.8158697731775, 566.4017362532165, 502.1977864269212, 497.7931980886991, 485.52131638994877, 450.82984976499563, 449.75453813909445, 419.1684867746442, 428.55446258018657, 414.36037084205697, 358.68147145859984, 309.44030814905733, 289.2663111970184, 287.77291371177927, 272.05301783099884, 262.0913571917719, 261.83094763674194, 259.9589678301418, 256.74804032543614, 413.3800385866717, 246.1940867717163, 239.24661808052986, 236.45162371678492, 234.84956613942165, 234.19781353576613, 233.18096368534927, 226.29506562105826, 220.90318376331098, 493.0521295846076, 456.5179589571293, 515.494065180429, 400.6405492237402, 346.14288057863484, 768.3998736110024, 822.7707283690538, 569.5444650224689, 680.740647600347, 660.9034010983428, 385.12229087671614, 3371.6855745759703, 2699.410256324864, 1157.517182713096, 724.0047840648856, 586.5144150762279, 1184.9530768076713, 7336.243524212074, 1541.701996368885, 904.5422974313656, 1633.8557817958767, 1661.5165625757984, 1624.9008520178268, 805.7733262055038, 2538.049529738402, 2998.829093746094, 1151.4499057462317, 868.2185442386093, 4373.210594664052, 854.8421683516535, 2380.063130878917, 2269.854182998993, 1441.8395340787454, 1347.2007113916852, 3524.9439723959026, 1591.149928591602, 2244.3502549749232, 1587.2723113634186, 1268.7905884894699, 1091.2476083202314, 1761.1911579025439, 1983.4906524188236, 1613.8194432829825, 3463.7566839051474, 1558.5346644779474, 2527.8798405718317, 2208.0135601567845, 1600.515900892904, 1439.8418186623976, 557.7121583226748, 463.8179122985869, 255.47842473764894, 255.21356381258795, 219.4430306980229, 218.9373169494977, 196.20010131265764, 186.2089859836498, 167.52315767580092, 168.30443365738557, 161.74188161477815, 149.11505649360487, 144.52813327584064, 144.6842398707961, 126.37387136391388, 126.29731063412814, 123.83588412383439, 116.91172213015567, 116.79827978349172, 114.55589235023028, 111.03933161712077, 107.33850394376559, 98.58245865896787, 96.77218527747816, 96.1800234982445, 96.09279252923744, 93.11878003056074, 92.81675200833898, 91.83308728189985, 249.57638518352232, 664.855941253153, 110.97219125357057, 1372.0887875042627, 158.157549631681, 235.49310252435922, 151.02277377582067, 559.3773669541482, 246.21242751474014, 334.6194239069448, 198.3021662170172, 913.7818762585143, 454.0544684577319, 911.6660739876282, 297.1722030208769, 822.2233326469012, 627.0010805563206, 912.3551531960422, 682.4443804613153, 1172.6596559382435, 539.4865507673339, 478.54497457706174, 511.90645903410575, 719.2662224413588, 295.3918297770368, 433.3245585910347, 568.4229398947936, 478.2703479875016, 1269.2602072963255, 489.0202623315828, 754.3228261430197, 490.07038503611767, 637.3166183728358, 3463.7566839051474, 1546.870145777527, 467.75105433227793, 1395.6681159122081, 1527.087608800748, 1457.7021441625143, 2538.049529738402, 1675.7803107859042, 1995.2867694525048, 414.397254334896, 358.19536631090597, 336.6352987958329, 666.1259819079529, 275.46033765269624, 214.6274176105434, 173.71295829542592, 160.15739303992598, 157.2899507508921, 141.24907905306154, 137.85874669405524, 135.26013626672292, 133.93424192307106, 118.31415666902849, 118.15292318974439, 117.26447518343647, 120.5878560909306, 114.84282097428193, 110.92210037890752, 223.77115831527615, 109.65644895938097, 109.25475934204312, 108.58847911802798, 118.94495247740453, 105.73582212711982, 104.63884374944162, 102.3060190616054, 101.02197374476974, 97.4799445916554, 97.33718698728113, 336.493217310215, 651.4373124251598, 463.8148948817667, 168.34398468167086, 228.53244363699952, 144.52562958031285, 188.77305201385735, 685.8130691729616, 276.32745872668147, 305.3694425919626, 858.6542472150542, 270.28127309915664, 448.2575472975988, 1479.3962510438096, 183.60563685942745, 233.6819659179244, 320.1192721105356, 648.3429428483156, 2208.0135601567845, 520.9328161447763, 579.5103359346053, 238.46081552504884, 387.0771579495764, 1428.5937957881195, 2527.8798405718317, 791.4347323765917, 511.84426022593544, 690.8175510781724, 923.8463399010293, 864.6875398622105, 992.1855768260676, 530.6984035676019, 393.71113966229285, 312.3541830913303, 279.23416646537936, 252.6744630845107, 251.73102699650912, 206.91466162240673, 165.31894746547263, 141.73461726871898, 141.43285931986722, 167.62958491496445, 133.317561480255, 127.46097800418529, 122.06410988524993, 118.99773797596629, 113.43188693344999, 113.21228212121859, 112.67150238521872, 111.01826906864387, 107.62259692167989, 103.88191968702253, 103.49401423035191, 100.55989238761326, 99.41535161335814, 98.6794342173193, 97.03718917080165, 96.50874955399168, 88.30475781035976, 92.54098242598018, 83.94512580003531, 160.62241856335416, 622.5627808118928, 217.96029366740166, 229.19431638953338, 862.9854193936267, 274.8297475545201, 447.9483480666825, 325.3623905816425, 208.69280104378927, 909.5409399586545, 293.5069975780503, 385.6654589473032, 202.11267695655067, 194.2487345993884, 456.4317573160684, 829.6520729058532, 218.16499858684872, 821.8201435372573, 1770.0768557948256, 426.57395023881327, 1527.087608800748, 1875.1833818696266, 1546.870145777527, 3524.9439723959026, 4373.210594664052, 1509.5199090193028, 369.3952362561986, 1243.8472125105136, 7336.243524212074, 1995.2867694525048, 1675.7803107859042, 934.9185647145935, 1375.2297966264327, 3463.7566839051474, 2998.829093746094, 2527.8798405718317, 1983.4906524188236, 797.1735855486651, 301.1737535221947, 228.11916589899843, 206.40948675654823, 161.44946213151192, 135.69091859867177, 130.7528444954857, 121.76355743661365, 117.21546043433304, 99.84796671214589, 93.82626893177807, 79.879648157224, 79.76628415200169, 76.71648584955558, 76.38305177207177, 73.64680254819824, 71.51332188230414, 70.75115530412495, 67.72731840017427, 65.49348892551487, 62.519636096732754, 60.966293942130804, 59.79769882821162, 54.62351117941594, 54.54544707971833, 52.218490827674096, 52.17452196805625, 50.53580058816713, 50.1479935646985, 48.160249473856815, 47.27375384098333, 689.8352396658565, 104.10911076300204, 472.00717332087316, 154.19655913495748, 151.9087776022099, 393.1532629963592, 284.3266834413723, 101.44586342445223, 133.9084378815847, 1457.7021441625143, 382.19592983906244, 309.81168860052577, 241.01036234294924, 471.0585532199281, 423.9913847339976, 199.11030697455172, 1269.2602072963255, 748.9725674017805, 286.5735880231906, 570.791336721142, 400.4971676170925, 1675.7803107859042, 518.6663456565274, 323.8338094306147, 393.77101980325097, 586.1830005973886, 599.0815089468335, 1395.6681159122081, 321.45683875648905, 719.2662224413588, 452.33503402671056, 1169.9247022931104, 1243.8472125105136, 808.6658022647725, 1558.5346644779474, 361.4147239123265, 203.26634130456682, 143.67364554311487, 124.89347774809686, 121.18848329618814, 124.82822090743497, 107.86481329989037, 106.36164149036762, 98.76709858921424, 70.38541802651301, 45.57974914848569, 45.49910452518444, 42.94196616075861, 38.537241963848665, 39.357480398896925, 37.21055745260182, 34.67704769469606, 34.20996887789517, 32.964933944928546, 32.15304281622269, 30.37758121920098, 29.136462288534833, 28.351534784439522, 27.647556877229796, 26.74538447842191, 26.695471306424423, 25.40542482255587, 25.234970730644665, 24.96424978936767, 24.650158809109186, 185.07227537724808, 80.10660946286642, 28.42566145850632, 342.9126943800185, 240.5741287671636, 63.02095072952749, 201.2798782981193, 68.20863160978433, 195.7969856169285, 256.97154597712324, 413.6149594719423, 154.28061200120482, 302.92906272678334, 1003.5617979747144, 100.30127566668418, 341.86400380005387, 246.32562594216697, 792.4753902554572, 208.1101912307114, 367.23873123278946, 250.76155722355563, 471.64287699015955, 443.52766983922993, 326.60401435494055, 1527.087608800748, 113.5499301401872, 98.1543549794134, 94.2141427169664, 91.68567990559785, 63.9716524089378, 52.444021150335836, 48.05431857057897, 48.00202708391353, 46.74225040954545, 41.09225288102244, 40.515468906356226, 34.97881620946829, 33.660496280578826, 33.17366412384971, 33.115719952870315, 32.94350390785003, 30.231426823807155, 29.48171365025786, 28.896897462114637, 27.264194353678732, 27.10336460704823, 25.942021162089834, 25.735572501388617, 25.437451075768013, 24.781338525826072, 24.560693868955468, 24.47802786344115, 23.973495796392456, 23.71025930093249, 23.468155523051337, 30.843944185306693, 33.3901846656293, 132.9927159073158, 201.3292929581765, 37.93099586111609, 57.13680403344954, 108.93938987551813, 87.84884036217217, 331.2812812537097, 136.22743289836896, 74.41279530155037, 96.03795427275338, 106.57608444984112, 240.00606489840646, 118.55412975980232, 298.4863224515266, 111.23347292828444, 118.40672731472101, 173.95878216027987, 186.49174331240704, 4343.716691882318, 180.6910602594914, 44.53778657379857, 35.32109129414393, 30.729820588423895, 28.76347775495905, 28.39757754182921, 28.342832083896766, 26.9969314415275, 26.881380649888502, 26.78385013668589, 26.108075191083124, 25.21250444500169, 24.07986410570188, 23.86932939289354, 23.646269341385235, 23.550415141498185, 23.48862390849099, 23.348758377577347, 23.055504732755853, 22.744305705123143, 20.708589698036363, 19.476240034577994, 19.01536575855389, 19.008566018455546, 18.306473224241543, 18.247285095157164, 18.009582591683657, 17.9317483362895, 17.746427065034773, 67.4405286693717, 50.563666247922605, 94.15437451266054, 226.8694402132705, 1182.6468258924929, 38.91037187456137, 50.0212493619156, 79.35690678905367, 140.978003725962, 192.79772142741996, 178.34205980456684, 142.5914579786856, 121.55341437908132, 116.22042822203052, 77.01602259453225, 65.46693481019369, 63.609594958400905, 57.382558959485664, 51.041227212736544, 50.10119387553667, 49.257941074466494, 49.16128496395033, 48.59608738514949, 44.94924982571902, 37.993201312139064, 36.67386623880374, 35.22128388609337, 34.41444346732745, 33.48045052375742, 33.01923758383409, 32.98399679647469, 31.926763359792474, 31.507785462008844, 31.50261973882914, 29.519324127257224, 28.85747601245285, 27.95404194257663, 27.844825277235817, 27.79305328745472, 754.3878671299309, 65.34008043406261, 68.18876144672602, 92.27503541573155, 117.20040620893727, 109.95706921266424, 89.94087238318374, 159.19892242991975, 221.43803489918696, 113.48396543789136, 302.92906272678334, 331.2812812537097, 284.3308401952325, 394.95770880247716, 301.1856137625181, 298.41887256535693, 120.11526897623297, 107.8361307071414, 103.12308014980206, 63.12705755655552, 60.9790712493851, 58.21924793705963, 57.99262579676407, 57.89605313049546, 52.557552143491755, 49.11297252197624, 44.21227856925714, 41.800942634118705, 35.22381804837401, 33.834342244960055, 29.998324910870338, 29.292156190010598, 27.16137818350746, 26.981144503273878, 26.140138091728154, 25.94654923852587, 24.374304505190562, 22.726457032825916, 21.530384045484446, 20.193022491803024, 19.806391780742278, 19.70326440656437, 19.672799902298493, 118.55412975980232, 68.24553140349634, 63.18834509316922, 96.22496709142914, 284.3308401952325, 75.6832891014853, 335.73633316404425, 154.53299311023235, 194.7767829970729, 308.3981161971744, 147.70359791720273, 568.4229398947936, 1003.5617979747144, 443.3842558803067, 94.59501943569582, 89.99487019782299, 32.16444928073671, 27.71393379312921, 18.966806957903202, 13.933200026032388, 13.801110641052171, 12.961385701719419, 11.149842584177504, 10.821375497654945, 10.103536585102239, 10.051087334519263, 9.8068919731558, 9.718979230271913, 9.713513178628023, 9.659834272504243, 9.518767095627782, 9.42929238325649, 9.375335585115044, 9.372798434340119, 9.27223270613881, 9.084587444894606, 8.906301381102386, 8.90467148055365, 8.880531160043017, 8.645241782149435, 8.560152885198814, 8.542697948281218, 8.218846731597546, 7.941806527439687, 11.879135470201073, 173.52868001494937, 12.440293511212742, 36.420514934490456, 14.261684096522048, 57.522137806346024, 54.898579990381045, 24.003069252126913, 19.621046391054094, 17.8802675002229, 16.01849400847673, 15.802988418255254, 14.989587287940338, 14.40166871622564, 13.375182949720875, 13.371513005894911, 12.174906216014401, 12.102967752134127, 11.855918323236978, 11.684121789618526, 11.61959356337147, 11.23201142995153, 10.814255790891766, 10.375535268979634, 10.307547613521448, 10.073513452074389, 9.99888764729575, 9.942918721505514, 9.928413383913746, 9.925057712563815, 9.824599268235408, 9.768914173004239, 9.715759105622377, 9.596464437676337, 9.525083730703688, 75.93114012510307, 22.32109181950761, 275.52208072837, 20.856813454972098, 934.9185647145935, 31.57153841253002, 379.316482450555, 33.118910091628315, 25.486534843874438, 923.8463399010293, 35.578744082165095, 2208.0135601567845, 26.282422898362896, 27.935263258478958, 19.53780086636707, 17.952737592709045, 15.927757567434334, 15.809599217245232, 15.4343113739245, 15.084872082137949, 15.025756264248011, 14.936889607752892, 14.732389339327415, 14.404354759541784, 14.31872072917691, 14.16953155726111, 14.121953339711173, 13.287857197025895, 12.644639889172824, 12.072964520430435, 11.919746445180612, 11.591682922310746, 11.392005570468207, 11.006980264590258, 10.744969095021947, 10.332101327923906, 10.316060213964388, 10.288738194329504, 10.22500078420683, 10.015622633093288, 9.84606768692094, 9.660063779032818, 9.55371369817736, 14.342616354180917, 37.64438905277403, 100.38871737993037, 28.143012883432824, 35.974645007685616, 14.722038408848649, 22.921570977166215, 58.495039777011925, 50.312565978440915, 50.72770378886204, 38.457684583785635, 36.96584087408009, 36.597194286969554, 36.14089255277015, 36.14089255277015, 36.14089255277015, 35.669234066609, 35.669234066609, 33.86148092513727, 24.822851510465245, 20.002774678248326, 18.314856405251053, 16.1803083161356, 15.968809395679259, 15.357691357665887, 14.817820074205425, 14.398412359691283, 11.219296486558042, 10.03397769152988, 9.330031993926605, 8.97033015086986, 8.785091757255197, 8.527222705547006, 8.215766230855234, 8.131567404390879, 7.913187616165886, 7.849948734998254, 7.809139581116432, 7.772469716025044, 54.04519182646666, 58.14705829123159, 61.44941185041647, 171.66112153982246, 35.17834659943423, 39.172914290219126, 168.3059181675879, 22.967284461597583, 22.750011348128528, 16.37793111991523, 13.77987046879304, 12.718192784384032, 12.074572425847354, 11.602760015680074, 11.359705628578224, 11.351662633537401, 11.032407948855324, 10.55291646664499, 10.484422809922567, 10.225791765380519, 10.138050680290648, 10.01713830680202, 9.925952091581454, 9.833959623022983, 9.542365667289177, 9.313203534869064, 9.181192989191768, 9.16288837243856, 9.115001067616845, 9.030254873863111, 8.995982878299204, 8.944077655842232, 8.838775749283585, 8.80474381466591, 8.682656969066862, 8.253522718156617, 8.144635331797227, 26.87911018380207, 20.594434442953364, 16.297106833644033, 14.488079712314706, 14.999886845335645, 577.3813917697631, 20.354571352842168, 112.90735816245551, 140.16136306083882, 33.794483265198714, 117.38621689058637, 17.299566870184275, 15.748072979161952, 12.46919868609285, 12.425805213862711, 12.10081374982321, 11.228377020968782, 11.005861356348491, 10.927493364024494, 10.689386857787165, 10.516960943032482, 10.24963616844511, 10.117851835768587, 9.554446765296566, 9.416210330810227, 9.412377938205752, 9.146216375733575, 9.043406126066962, 8.788206897788148, 8.682226247793137, 8.559924496553908, 7.994487225818259, 7.8442523318429185, 7.625508480107616, 7.487754584239912, 7.475585297764216, 7.247308146529384, 6.935003519034406, 6.818688823194161, 6.709180484704722, 6.636655617817123, 12.900510171292629, 18.62970736651456, 12.08989019977207, 8.204466851565737, 22.03136501977049, 23.315599871033623, 16.565667887256154, 13.27848474062688, 10.023241791874272, 9.365590598319478, 8.773760914117053, 8.580176436457121, 8.476285821919117, 8.41720006105136, 8.305863295092268, 8.268073065665146, 8.083268713417073, 7.643628679359052, 7.39456623153923, 6.575245368261362, 6.477994413332008, 6.465667968137247, 6.284278102907177, 6.228767868406073, 6.0349800251545265, 5.883246201640047, 5.873323469577332, 5.551933940872315, 5.55080605870554, 5.34757360621239, 5.2587617856194315, 4.6749911706650265, 4.509924345011284, 4.4065761303583, 4.401720824797364, 17.344480125445774, 20.069052987890803, 85.90427507364795, 45.405612636208204, 29.88975178051404, 9.984144984868264, 9.356148268807123, 8.782094343183697, 6.960703879771859, 6.664350125698544, 6.628550099984566, 6.116934952696633, 6.0643650307500545, 5.616324055824054, 5.409673691254389, 5.254972497147538, 5.214324196921882, 4.8998900398348795, 4.887702757830023, 4.864436461310256, 4.808447403423887, 4.722812206135168, 4.577475641034566, 4.309148470090917, 4.2859861230106295, 4.278711788812006, 4.244785319907259, 4.124212552146001, 4.0426085908285385, 3.925617488665657, 3.881295736520909, 3.873227961136147, 3.8722265186979383, 3.8173872394763793, 3.773192804851816, 27.074505078178426, 7.331919359310077, 20.92004334609328, 30.761786694954353, 7.804613236345442, 6.885707895796238, 6.339034292654948, 6.335350315358167, 6.1363954375272405, 5.569445374038213, 5.291209179056608, 4.947364188932253, 4.354130106151717, 4.138857476695374, 4.065563593568048, 3.9058101188697156, 3.8686442996283428, 3.5708455581894363, 3.2087168296369226, 3.125852957281547, 3.092411606093492, 3.050210096238257, 3.0330147350115597, 3.019621440912985, 2.9295972083319697, 2.775291422096985, 2.680120411411907, 2.640910730085915, 2.614451882709008, 2.5498159791644803, 2.488552612795944, 2.4785955969928963, 2.4173769020469944, 2.39611276147552, 2.2893525186928123, 39.83384730139949, 20.71649962109842, 6.568817975059262, 5.188874047210583, 5.131254138837872, 4.6128498871354635, 4.235125950095088, 3.6991120019411143, 3.5758128033775964, 3.4058654893766134, 3.3807048080880593, 3.357433896284781, 3.3369014490819566, 3.1993551421409174, 3.084891733161066, 3.0831708745437014, 2.958196951800739, 2.768858919711637, 2.695978581735864, 2.526863452926432, 2.451489499991532, 2.3287427002786636, 2.3205137115713437, 2.317704280509382, 2.2968024539336667, 2.2732941960494175, 2.2675791023159366, 2.256097729700733, 2.2508414930566305, 2.1834549465949915, 2.1591574296280673, 2.115879440599597, 7.373670888769063, 72.8971932975025, 56.80760306663747, 254.33574499726856, 14.362523761699217, 32.093801200650226], \"Category\": [\"Default\", \"Default\", \"Default\", \"Default\", \"Default\", \"Default\", \"Default\", \"Default\", \"Default\", \"Default\", \"Default\", \"Default\", \"Default\", \"Default\", \"Default\", \"Default\", \"Default\", \"Default\", \"Default\", \"Default\", \"Default\", \"Default\", \"Default\", \"Default\", \"Default\", \"Default\", \"Default\", \"Default\", \"Default\", \"Default\", \"Topic1\", \"Topic1\", \"Topic1\", \"Topic1\", \"Topic1\", \"Topic1\", \"Topic1\", \"Topic1\", \"Topic1\", \"Topic1\", \"Topic1\", \"Topic1\", \"Topic1\", \"Topic1\", \"Topic1\", \"Topic1\", \"Topic1\", \"Topic1\", \"Topic1\", \"Topic1\", \"Topic1\", \"Topic1\", \"Topic1\", \"Topic1\", \"Topic1\", \"Topic1\", \"Topic1\", \"Topic1\", \"Topic1\", \"Topic1\", \"Topic1\", \"Topic1\", \"Topic1\", \"Topic1\", \"Topic1\", \"Topic1\", \"Topic1\", \"Topic1\", \"Topic1\", \"Topic1\", \"Topic1\", \"Topic1\", \"Topic1\", \"Topic1\", \"Topic1\", \"Topic1\", \"Topic1\", \"Topic1\", \"Topic1\", \"Topic1\", \"Topic1\", \"Topic1\", \"Topic1\", \"Topic1\", \"Topic1\", \"Topic1\", \"Topic1\", \"Topic1\", \"Topic1\", \"Topic1\", \"Topic1\", \"Topic1\", \"Topic1\", \"Topic1\", \"Topic1\", \"Topic1\", \"Topic1\", \"Topic1\", \"Topic1\", \"Topic1\", \"Topic1\", \"Topic1\", \"Topic1\", \"Topic1\", \"Topic1\", \"Topic1\", \"Topic1\", \"Topic1\", \"Topic2\", \"Topic2\", \"Topic2\", \"Topic2\", \"Topic2\", \"Topic2\", \"Topic2\", \"Topic2\", \"Topic2\", \"Topic2\", \"Topic2\", \"Topic2\", \"Topic2\", \"Topic2\", \"Topic2\", \"Topic2\", \"Topic2\", \"Topic2\", \"Topic2\", \"Topic2\", \"Topic2\", \"Topic2\", \"Topic2\", \"Topic2\", \"Topic2\", \"Topic2\", \"Topic2\", \"Topic2\", \"Topic2\", \"Topic2\", \"Topic2\", \"Topic2\", \"Topic2\", \"Topic2\", \"Topic2\", \"Topic2\", \"Topic2\", \"Topic2\", \"Topic2\", \"Topic2\", \"Topic2\", \"Topic2\", \"Topic2\", \"Topic2\", \"Topic2\", \"Topic2\", \"Topic2\", \"Topic2\", \"Topic2\", \"Topic2\", \"Topic2\", \"Topic2\", \"Topic2\", \"Topic2\", \"Topic2\", \"Topic2\", \"Topic2\", \"Topic2\", \"Topic2\", \"Topic2\", \"Topic2\", \"Topic2\", \"Topic2\", \"Topic2\", \"Topic2\", \"Topic2\", \"Topic2\", \"Topic2\", \"Topic2\", \"Topic2\", \"Topic2\", \"Topic2\", \"Topic3\", \"Topic3\", \"Topic3\", \"Topic3\", \"Topic3\", \"Topic3\", \"Topic3\", \"Topic3\", \"Topic3\", \"Topic3\", \"Topic3\", \"Topic3\", \"Topic3\", \"Topic3\", \"Topic3\", \"Topic3\", \"Topic3\", \"Topic3\", \"Topic3\", \"Topic3\", \"Topic3\", \"Topic3\", \"Topic3\", \"Topic3\", \"Topic3\", \"Topic3\", \"Topic3\", \"Topic3\", \"Topic3\", \"Topic3\", \"Topic3\", \"Topic3\", \"Topic3\", \"Topic3\", \"Topic3\", \"Topic3\", \"Topic3\", \"Topic3\", \"Topic3\", \"Topic3\", \"Topic3\", \"Topic3\", \"Topic3\", \"Topic3\", \"Topic3\", \"Topic3\", \"Topic3\", \"Topic3\", \"Topic3\", \"Topic3\", \"Topic3\", \"Topic3\", \"Topic3\", \"Topic3\", \"Topic3\", \"Topic3\", \"Topic3\", \"Topic3\", \"Topic3\", \"Topic3\", \"Topic3\", \"Topic4\", \"Topic4\", \"Topic4\", \"Topic4\", \"Topic4\", \"Topic4\", \"Topic4\", \"Topic4\", \"Topic4\", \"Topic4\", \"Topic4\", \"Topic4\", \"Topic4\", \"Topic4\", \"Topic4\", \"Topic4\", \"Topic4\", \"Topic4\", \"Topic4\", \"Topic4\", \"Topic4\", \"Topic4\", \"Topic4\", \"Topic4\", \"Topic4\", \"Topic4\", \"Topic4\", \"Topic4\", \"Topic4\", \"Topic4\", \"Topic4\", \"Topic4\", \"Topic4\", \"Topic4\", \"Topic4\", \"Topic4\", \"Topic4\", \"Topic4\", \"Topic4\", \"Topic4\", \"Topic4\", \"Topic4\", \"Topic4\", \"Topic4\", \"Topic4\", \"Topic4\", \"Topic4\", \"Topic4\", \"Topic4\", \"Topic4\", \"Topic4\", \"Topic4\", \"Topic4\", \"Topic4\", \"Topic4\", \"Topic4\", \"Topic4\", \"Topic4\", \"Topic4\", \"Topic4\", \"Topic4\", \"Topic4\", \"Topic4\", \"Topic4\", \"Topic4\", \"Topic4\", \"Topic4\", \"Topic4\", \"Topic5\", \"Topic5\", \"Topic5\", \"Topic5\", \"Topic5\", \"Topic5\", \"Topic5\", \"Topic5\", \"Topic5\", \"Topic5\", \"Topic5\", \"Topic5\", \"Topic5\", \"Topic5\", \"Topic5\", \"Topic5\", \"Topic5\", \"Topic5\", \"Topic5\", \"Topic5\", \"Topic5\", \"Topic5\", \"Topic5\", \"Topic5\", \"Topic5\", \"Topic5\", \"Topic5\", \"Topic5\", \"Topic5\", \"Topic5\", \"Topic5\", \"Topic5\", \"Topic5\", \"Topic5\", \"Topic5\", \"Topic5\", \"Topic5\", \"Topic5\", \"Topic5\", \"Topic5\", \"Topic5\", \"Topic5\", \"Topic5\", \"Topic5\", \"Topic5\", \"Topic5\", \"Topic5\", \"Topic5\", \"Topic5\", \"Topic5\", \"Topic5\", \"Topic5\", \"Topic5\", \"Topic5\", \"Topic5\", \"Topic5\", \"Topic5\", \"Topic5\", \"Topic5\", \"Topic5\", \"Topic5\", \"Topic5\", \"Topic5\", \"Topic5\", \"Topic5\", \"Topic6\", \"Topic6\", \"Topic6\", \"Topic6\", \"Topic6\", \"Topic6\", \"Topic6\", \"Topic6\", \"Topic6\", \"Topic6\", \"Topic6\", \"Topic6\", \"Topic6\", \"Topic6\", \"Topic6\", \"Topic6\", \"Topic6\", \"Topic6\", \"Topic6\", \"Topic6\", \"Topic6\", \"Topic6\", \"Topic6\", \"Topic6\", \"Topic6\", \"Topic6\", \"Topic6\", \"Topic6\", \"Topic6\", \"Topic6\", \"Topic6\", \"Topic6\", \"Topic6\", \"Topic6\", \"Topic6\", \"Topic6\", \"Topic6\", \"Topic6\", \"Topic6\", \"Topic6\", \"Topic6\", \"Topic6\", \"Topic6\", \"Topic6\", \"Topic6\", \"Topic6\", \"Topic6\", \"Topic6\", \"Topic6\", \"Topic6\", \"Topic6\", \"Topic6\", \"Topic6\", \"Topic6\", \"Topic6\", \"Topic7\", \"Topic7\", \"Topic7\", \"Topic7\", \"Topic7\", \"Topic7\", \"Topic7\", \"Topic7\", \"Topic7\", \"Topic7\", \"Topic7\", \"Topic7\", \"Topic7\", \"Topic7\", \"Topic7\", \"Topic7\", \"Topic7\", \"Topic7\", \"Topic7\", \"Topic7\", \"Topic7\", \"Topic7\", \"Topic7\", \"Topic7\", \"Topic7\", \"Topic7\", \"Topic7\", \"Topic7\", \"Topic7\", \"Topic7\", \"Topic7\", \"Topic7\", \"Topic7\", \"Topic7\", \"Topic7\", \"Topic7\", \"Topic7\", \"Topic7\", \"Topic7\", \"Topic7\", \"Topic7\", \"Topic7\", \"Topic7\", \"Topic7\", \"Topic7\", \"Topic7\", \"Topic7\", \"Topic7\", \"Topic7\", \"Topic7\", \"Topic8\", \"Topic8\", \"Topic8\", \"Topic8\", \"Topic8\", \"Topic8\", \"Topic8\", \"Topic8\", \"Topic8\", \"Topic8\", \"Topic8\", \"Topic8\", \"Topic8\", \"Topic8\", \"Topic8\", \"Topic8\", \"Topic8\", \"Topic8\", \"Topic8\", \"Topic8\", \"Topic8\", \"Topic8\", \"Topic8\", \"Topic8\", \"Topic8\", \"Topic8\", \"Topic8\", \"Topic8\", \"Topic8\", \"Topic8\", \"Topic8\", \"Topic8\", \"Topic8\", \"Topic8\", \"Topic8\", \"Topic8\", \"Topic8\", \"Topic8\", \"Topic8\", \"Topic9\", \"Topic9\", \"Topic9\", \"Topic9\", \"Topic9\", \"Topic9\", \"Topic9\", \"Topic9\", \"Topic9\", \"Topic9\", \"Topic9\", \"Topic9\", \"Topic9\", \"Topic9\", \"Topic9\", \"Topic9\", \"Topic9\", \"Topic9\", \"Topic9\", \"Topic9\", \"Topic9\", \"Topic9\", \"Topic9\", \"Topic9\", \"Topic9\", \"Topic9\", \"Topic9\", \"Topic9\", \"Topic9\", \"Topic9\", \"Topic9\", \"Topic9\", \"Topic9\", \"Topic9\", \"Topic9\", \"Topic9\", \"Topic9\", \"Topic9\", \"Topic9\", \"Topic9\", \"Topic9\", \"Topic9\", \"Topic9\", \"Topic10\", \"Topic10\", \"Topic10\", \"Topic10\", \"Topic10\", \"Topic10\", \"Topic10\", \"Topic10\", \"Topic10\", \"Topic10\", \"Topic10\", \"Topic10\", \"Topic10\", \"Topic10\", \"Topic10\", \"Topic10\", \"Topic10\", \"Topic10\", \"Topic10\", \"Topic10\", \"Topic10\", \"Topic10\", \"Topic10\", \"Topic10\", \"Topic10\", \"Topic10\", \"Topic10\", \"Topic10\", \"Topic10\", \"Topic10\", \"Topic10\", \"Topic10\", \"Topic10\", \"Topic10\", \"Topic10\", \"Topic10\", \"Topic10\", \"Topic10\", \"Topic10\", \"Topic10\", \"Topic10\", \"Topic10\", \"Topic10\", \"Topic10\", \"Topic11\", \"Topic11\", \"Topic11\", \"Topic11\", \"Topic11\", \"Topic11\", \"Topic11\", \"Topic11\", \"Topic11\", \"Topic11\", \"Topic11\", \"Topic11\", \"Topic11\", \"Topic11\", \"Topic11\", \"Topic11\", \"Topic11\", \"Topic11\", \"Topic11\", \"Topic11\", \"Topic11\", \"Topic11\", \"Topic11\", \"Topic11\", \"Topic11\", \"Topic11\", \"Topic11\", \"Topic11\", \"Topic11\", \"Topic11\", \"Topic11\", \"Topic11\", \"Topic11\", \"Topic11\", \"Topic11\", \"Topic12\", \"Topic12\", \"Topic12\", \"Topic12\", \"Topic12\", \"Topic12\", \"Topic12\", \"Topic12\", \"Topic12\", \"Topic12\", \"Topic12\", \"Topic12\", \"Topic12\", \"Topic12\", \"Topic12\", \"Topic12\", \"Topic12\", \"Topic12\", \"Topic12\", \"Topic12\", \"Topic12\", \"Topic12\", \"Topic12\", \"Topic12\", \"Topic12\", \"Topic12\", \"Topic12\", \"Topic12\", \"Topic12\", \"Topic12\", \"Topic12\", \"Topic12\", \"Topic12\", \"Topic12\", \"Topic12\", \"Topic12\", \"Topic12\", \"Topic12\", \"Topic12\", \"Topic12\", \"Topic12\", \"Topic12\", \"Topic12\", \"Topic13\", \"Topic13\", \"Topic13\", \"Topic13\", \"Topic13\", \"Topic13\", \"Topic13\", \"Topic13\", \"Topic13\", \"Topic13\", \"Topic13\", \"Topic13\", \"Topic13\", \"Topic13\", \"Topic13\", \"Topic13\", \"Topic13\", \"Topic13\", \"Topic13\", \"Topic13\", \"Topic13\", \"Topic13\", \"Topic13\", \"Topic13\", \"Topic13\", \"Topic13\", \"Topic13\", \"Topic13\", \"Topic13\", \"Topic13\", \"Topic13\", \"Topic13\", \"Topic13\", \"Topic13\", \"Topic13\", \"Topic13\", \"Topic13\", \"Topic13\", \"Topic13\", \"Topic14\", \"Topic14\", \"Topic14\", \"Topic14\", \"Topic14\", \"Topic14\", \"Topic14\", \"Topic14\", \"Topic14\", \"Topic14\", \"Topic14\", \"Topic14\", \"Topic14\", \"Topic14\", \"Topic14\", \"Topic14\", \"Topic14\", \"Topic14\", \"Topic14\", \"Topic14\", \"Topic14\", \"Topic14\", \"Topic14\", \"Topic14\", \"Topic14\", \"Topic14\", \"Topic14\", \"Topic14\", \"Topic14\", \"Topic14\", \"Topic14\", \"Topic14\", \"Topic14\", \"Topic14\", \"Topic14\", \"Topic14\", \"Topic14\", \"Topic15\", \"Topic15\", \"Topic15\", \"Topic15\", \"Topic15\", \"Topic15\", \"Topic15\", \"Topic15\", \"Topic15\", \"Topic15\", \"Topic15\", \"Topic15\", \"Topic15\", \"Topic15\", \"Topic15\", \"Topic15\", \"Topic15\", \"Topic15\", \"Topic15\", \"Topic15\", \"Topic15\", \"Topic15\", \"Topic15\", \"Topic15\", \"Topic15\", \"Topic15\", \"Topic15\", \"Topic15\", \"Topic15\", \"Topic15\", \"Topic15\", \"Topic15\", \"Topic15\", \"Topic15\", \"Topic15\", \"Topic15\", \"Topic15\", \"Topic15\", \"Topic15\", \"Topic15\", \"Topic15\", \"Topic16\", \"Topic16\", \"Topic16\", \"Topic16\", \"Topic16\", \"Topic16\", \"Topic16\", \"Topic16\", \"Topic16\", \"Topic16\", \"Topic16\", \"Topic16\", \"Topic16\", \"Topic16\", \"Topic16\", \"Topic16\", \"Topic16\", \"Topic16\", \"Topic16\", \"Topic16\", \"Topic16\", \"Topic16\", \"Topic16\", \"Topic16\", \"Topic16\", \"Topic16\", \"Topic16\", \"Topic16\", \"Topic16\", \"Topic16\", \"Topic16\", \"Topic16\", \"Topic16\", \"Topic16\", \"Topic16\", \"Topic17\", \"Topic17\", \"Topic17\", \"Topic17\", \"Topic17\", \"Topic17\", \"Topic17\", \"Topic17\", \"Topic17\", \"Topic17\", \"Topic17\", \"Topic17\", \"Topic17\", \"Topic17\", \"Topic17\", \"Topic17\", \"Topic17\", \"Topic17\", \"Topic17\", \"Topic17\", \"Topic17\", \"Topic17\", \"Topic17\", \"Topic17\", \"Topic17\", \"Topic17\", \"Topic17\", \"Topic17\", \"Topic17\", \"Topic17\", \"Topic17\", \"Topic17\", \"Topic17\", \"Topic17\", \"Topic17\", \"Topic18\", \"Topic18\", \"Topic18\", \"Topic18\", \"Topic18\", \"Topic18\", \"Topic18\", \"Topic18\", \"Topic18\", \"Topic18\", \"Topic18\", \"Topic18\", \"Topic18\", \"Topic18\", \"Topic18\", \"Topic18\", \"Topic18\", \"Topic18\", \"Topic18\", \"Topic18\", \"Topic18\", \"Topic18\", \"Topic18\", \"Topic18\", \"Topic18\", \"Topic18\", \"Topic18\", \"Topic18\", \"Topic18\", \"Topic18\", \"Topic18\", \"Topic18\", \"Topic18\", \"Topic18\", \"Topic18\", \"Topic19\", \"Topic19\", \"Topic19\", \"Topic19\", \"Topic19\", \"Topic19\", \"Topic19\", \"Topic19\", \"Topic19\", \"Topic19\", \"Topic19\", \"Topic19\", \"Topic19\", \"Topic19\", \"Topic19\", \"Topic19\", \"Topic19\", \"Topic19\", \"Topic19\", \"Topic19\", \"Topic19\", \"Topic19\", \"Topic19\", \"Topic19\", \"Topic19\", \"Topic19\", \"Topic19\", \"Topic19\", \"Topic19\", \"Topic19\", \"Topic19\", \"Topic19\", \"Topic20\", \"Topic20\", \"Topic20\", \"Topic20\", \"Topic20\", \"Topic20\", \"Topic20\", \"Topic20\", \"Topic20\", \"Topic20\", \"Topic20\", \"Topic20\", \"Topic20\", \"Topic20\", \"Topic20\", \"Topic20\", \"Topic20\", \"Topic20\", \"Topic20\", \"Topic20\", \"Topic20\", \"Topic20\", \"Topic20\", \"Topic20\", \"Topic20\", \"Topic20\", \"Topic20\", \"Topic20\", \"Topic20\", \"Topic20\", \"Topic20\", \"Topic20\", \"Topic20\", \"Topic20\", \"Topic20\", \"Topic20\"], \"logprob\": [30.0, 29.0, 28.0, 27.0, 26.0, 25.0, 24.0, 23.0, 22.0, 21.0, 20.0, 19.0, 18.0, 17.0, 16.0, 15.0, 14.0, 13.0, 12.0, 11.0, 10.0, 9.0, 8.0, 7.0, 6.0, 5.0, 4.0, 3.0, 2.0, 1.0, -5.8464, -4.8096, -6.5528, -6.8064, -6.9268, -6.9356, -6.9606, -7.0349, -7.0373, -7.1078, -7.0857, -7.1193, -7.2639, -7.4119, -7.4794, -7.4846, -7.541, -7.5783, -7.5793, -7.5865, -7.599, -7.1228, -7.6411, -7.6698, -7.6815, -7.6884, -7.6911, -7.6955, -7.7256, -7.7498, -6.9473, -7.0246, -6.9048, -7.1557, -7.3019, -6.5161, -6.4507, -6.8174, -6.6486, -6.6774, -7.204, -5.0997, -5.3215, -6.1442, -6.5949, -6.8016, -6.1337, -4.4064, -5.8857, -6.3949, -5.8769, -5.8638, -5.8883, -6.5221, -5.5125, -5.3662, -6.2155, -6.4617, -5.0829, -6.4769, -5.6072, -5.6504, -6.0328, -6.0905, -5.2835, -5.9544, -5.6873, -5.9788, -6.1604, -6.2844, -5.9258, -5.8532, -6.037, -5.6045, -6.0843, -5.8158, -6.0443, -6.1522, -4.6922, -5.6413, -5.8259, -6.4234, -6.4244, -6.5758, -6.5782, -6.6882, -6.7406, -6.8467, -6.8422, -6.882, -6.9636, -6.995, -6.9939, -7.1299, -7.1305, -7.1503, -7.2082, -7.2092, -7.2286, -7.26, -7.2941, -7.3797, -7.3984, -7.4046, -7.4055, -7.4372, -7.4404, -7.4512, -6.4667, -5.508, -7.2644, -4.8577, -6.9315, -6.5569, -6.9763, -5.7621, -6.5281, -6.247, -6.7275, -5.3649, -5.9905, -5.3899, -6.3778, -5.4984, -5.7419, -5.4195, -5.6726, -5.2221, -5.8783, -5.9993, -5.9486, -5.6993, -6.4038, -6.109, -5.9188, -6.0585, -5.3843, -6.0512, -5.766, -6.0564, -5.903, -4.9331, -5.444, -6.1069, -5.5813, -5.6443, -5.7981, -5.8376, -5.8947, -5.9283, -5.4941, -5.6401, -5.7023, -5.0199, -5.9033, -6.1539, -6.3657, -6.4473, -6.4654, -6.5735, -6.5979, -6.617, -6.6269, -6.7516, -6.7529, -6.7605, -6.7327, -6.7815, -6.8164, -6.1147, -6.828, -6.8317, -6.8378, -6.7469, -6.8646, -6.8751, -6.8978, -6.9105, -6.9465, -6.9479, -5.7106, -5.0677, -5.4145, -6.41, -6.1451, -6.5838, -6.3509, -5.2566, -6.1489, -6.0842, -5.3557, -6.1817, -5.8403, -5.0561, -6.462, -6.3105, -6.1504, -5.7666, -5.1185, -5.8994, -5.8555, -6.3376, -6.1206, -5.5753, -5.3415, -5.8368, -6.0152, -5.937, -5.8806, -5.9382, -5.9335, -5.1108, -5.4099, -5.6418, -5.7542, -5.8543, -5.8581, -6.0547, -6.2799, -6.4345, -6.4367, -6.267, -6.496, -6.5412, -6.5847, -6.6103, -6.6585, -6.6604, -6.6652, -6.6801, -6.7113, -6.7469, -6.7507, -6.7797, -6.7912, -6.7987, -6.8156, -6.8211, -6.9105, -6.864, -6.9616, -6.3189, -4.9842, -6.0187, -5.9712, -4.6761, -5.8251, -5.3977, -5.7006, -6.1101, -4.8401, -5.8336, -5.618, -6.1698, -6.2153, -5.5189, -5.1423, -6.1584, -5.2236, -4.7748, -5.7197, -4.9774, -4.9236, -5.1105, -4.7471, -4.68, -5.2127, -5.8891, -5.3803, -4.75, -5.2624, -5.3397, -5.5371, -5.4232, -5.4646, -5.4996, -5.5333, -5.5787, -5.7152, -5.1456, -5.4241, -5.5245, -5.771, -5.9457, -5.9829, -6.0545, -6.0928, -6.2541, -6.3168, -6.479, -6.4804, -6.5197, -6.5241, -6.5609, -6.5906, -6.6014, -6.6455, -6.6794, -6.7263, -6.7518, -6.7714, -6.8629, -6.8644, -6.9085, -6.9094, -6.9417, -6.9495, -6.9905, -7.0094, -4.3621, -6.2322, -4.7583, -5.8582, -5.8824, -4.9841, -5.3338, -6.2884, -6.0439, -3.9626, -5.1843, -5.4194, -5.6292, -5.1389, -5.2241, -5.8795, -4.6345, -5.0125, -5.682, -5.2631, -5.5026, -4.8537, -5.465, -5.6955, -5.6102, -5.4522, -5.4526, -5.3365, -5.7594, -5.5886, -5.702, -5.597, -5.6116, -5.6812, -5.6595, -4.1709, -4.7478, -5.0962, -5.237, -5.2673, -5.2378, -5.3844, -5.3985, -5.4731, -5.8147, -6.2545, -6.2563, -6.3151, -6.4251, -6.4044, -6.4608, -6.5327, -6.5465, -6.5843, -6.6098, -6.6679, -6.7105, -6.7385, -6.7643, -6.7983, -6.8002, -6.8511, -6.8581, -6.8691, -6.8821, -4.8969, -5.7495, -6.7467, -4.4415, -4.8224, -6.0623, -5.1029, -6.0164, -5.1525, -4.9522, -4.5724, -5.5855, -5.1526, -4.4021, -5.9601, -5.3128, -5.5386, -5.1929, -5.7469, -5.5815, -5.7209, -5.5524, -5.7606, -5.8417, -5.7579, -5.198, -5.3446, -5.3859, -5.4133, -5.7765, -5.9775, -6.0661, -6.0673, -6.0942, -6.2251, -6.2395, -6.3891, -6.4283, -6.4432, -6.445, -6.4503, -6.5381, -6.5638, -6.5843, -6.6439, -6.65, -6.6949, -6.7031, -6.7151, -6.742, -6.7512, -6.7546, -6.7761, -6.7874, -6.798, -6.5267, -6.4526, -5.1233, -4.9571, -6.3913, -6.1101, -5.7641, -5.9653, -5.2943, -5.8378, -6.204, -6.1349, -6.2233, -6.1439, -6.2819, -6.1564, -6.3265, -6.4057, -6.4152, -6.4261, -1.5285, -4.7117, -6.1233, -6.3591, -6.5011, -6.5687, -6.5819, -6.5838, -6.6337, -6.6381, -6.6418, -6.668, -6.7038, -6.751, -6.76, -6.7697, -6.7739, -6.7766, -6.7827, -6.7957, -6.8097, -6.9064, -6.9698, -6.9946, -6.995, -7.034, -7.0373, -7.0509, -7.0554, -7.0662, -6.0993, -6.3644, -6.087, -5.6524, -5.9449, -6.9009, -6.88, -6.8435, -6.8968, -4.4647, -4.5429, -4.7676, -4.9281, -4.9732, -5.3877, -5.5517, -5.5808, -5.685, -5.8036, -5.8224, -5.8396, -5.8416, -5.8534, -5.9325, -6.1035, -6.1395, -6.1807, -6.2043, -6.2324, -6.2465, -6.2476, -6.2809, -6.2944, -6.2946, -6.3611, -6.3843, -6.4169, -6.4209, -6.4228, -3.2252, -5.6019, -5.6003, -5.3471, -5.2023, -5.257, -5.4625, -5.3182, -5.4717, -5.8286, -5.8402, -5.994, -6.1736, -3.5167, -3.7883, -3.7976, -4.711, -4.8195, -4.8645, -5.3595, -5.3945, -5.4414, -5.4453, -5.447, -5.545, -5.6137, -5.7204, -5.7773, -5.9517, -5.9927, -6.1157, -6.1401, -6.2175, -6.2243, -6.2568, -6.2645, -6.3287, -6.4008, -6.4566, -6.5229, -6.543, -6.5484, -6.55, -5.1151, -5.6355, -5.7101, -5.5949, -5.051, -5.8323, -5.4511, -5.7482, -5.7441, -5.6506, -5.8829, -5.7252, -5.7458, -5.9158, -4.28, -4.3302, -5.3732, -5.5257, -5.9169, -6.2391, -6.2492, -6.3154, -6.4752, -6.5071, -6.5806, -6.5862, -6.6127, -6.6224, -6.623, -6.629, -6.6448, -6.655, -6.6612, -6.6615, -6.6732, -6.6953, -6.7168, -6.717, -6.7199, -6.7491, -6.7598, -6.7621, -6.8042, -6.8417, -6.4701, -4.0579, -6.4873, -5.7158, -6.6524, -4.7479, -4.7951, -5.6391, -5.8474, -5.9439, -6.0586, -6.0727, -6.1281, -6.1701, -6.248, -6.2482, -6.3474, -6.3537, -6.3756, -6.3911, -6.397, -6.4331, -6.4736, -6.5179, -6.525, -6.5496, -6.5576, -6.5637, -6.5652, -6.5656, -6.5765, -6.5827, -6.5885, -6.6018, -6.6099, -4.6675, -5.8288, -4.2483, -6.0642, -4.553, -6.1875, -5.4919, -6.2651, -6.3295, -5.6008, -6.3697, -6.0156, -6.4727, -5.4829, -5.8515, -5.9393, -6.0642, -6.0719, -6.0971, -6.1211, -6.1252, -6.1314, -6.1459, -6.1695, -6.1758, -6.1868, -6.1903, -6.2545, -6.3069, -6.3559, -6.3695, -6.3992, -6.4177, -6.4543, -6.4801, -6.522, -6.5237, -6.5265, -6.5332, -6.5554, -6.5738, -6.5943, -6.6062, -6.2654, -5.9939, -5.6053, -6.1548, -6.1516, -6.4893, -6.4932, -6.4697, -6.4862, -4.7946, -5.076, -5.1163, -5.1265, -5.1393, -5.1393, -5.1393, -5.1527, -5.1527, -5.2058, -5.524, -5.7469, -5.8384, -5.9675, -5.9813, -6.0221, -6.0596, -6.0898, -6.3538, -6.4733, -6.5517, -6.5943, -6.6169, -6.6493, -6.6899, -6.7012, -6.731, -6.7398, -6.7455, -6.7507, -5.0124, -4.9856, -5.0154, -4.6523, -5.9357, -6.3415, -6.5587, -5.5112, -5.521, -5.862, -6.0432, -6.1279, -6.1829, -6.2253, -6.2478, -6.2486, -6.279, -6.3265, -6.3335, -6.3603, -6.3695, -6.3824, -6.3923, -6.4023, -6.4347, -6.461, -6.4764, -6.4786, -6.4843, -6.4944, -6.4985, -6.5048, -6.5176, -6.5218, -6.537, -6.5923, -6.6068, -5.4545, -6.0416, -6.2508, -6.3157, -6.3265, -5.4001, -6.3096, -6.0176, -6.2013, -6.3769, -6.374, -5.7091, -5.8072, -6.053, -6.0567, -6.0848, -6.1644, -6.1858, -6.1934, -6.217, -6.2344, -6.262, -6.2759, -6.3376, -6.3533, -6.3538, -6.3848, -6.3971, -6.4281, -6.4413, -6.4568, -6.5314, -6.5522, -6.5833, -6.6034, -6.6052, -6.6395, -6.6884, -6.7072, -6.7253, -6.7374, -6.2063, -6.0829, -6.4203, -6.6173, -6.2614, -5.1156, -5.4702, -5.7024, -6.002, -6.0752, -6.146, -6.1703, -6.1836, -6.1912, -6.2057, -6.2107, -6.2355, -6.2969, -6.3335, -6.4641, -6.4808, -6.483, -6.5149, -6.5249, -6.5607, -6.5895, -6.5915, -6.6557, -6.6559, -6.6987, -6.7181, -6.8552, -6.8977, -6.9252, -6.9266, -5.5972, -5.5171, -5.0843, -6.2534, -6.5025, -5.7973, -5.8674, -5.9361, -6.1917, -6.2403, -6.2463, -6.3367, -6.3464, -6.4338, -6.4768, -6.5102, -6.5192, -6.5915, -6.5944, -6.6, -6.6136, -6.6347, -6.6715, -6.7434, -6.7498, -6.7519, -6.7614, -6.7961, -6.8203, -6.856, -6.8699, -6.8724, -6.8727, -6.8902, -6.9045, -5.2678, -6.576, -6.4361, -6.4602, -6.8296, -5.8525, -5.9452, -5.9459, -5.9819, -6.0923, -6.1513, -6.2306, -6.3802, -6.4411, -6.4627, -6.5115, -6.5232, -6.6222, -6.7576, -6.7914, -6.8053, -6.8232, -6.8306, -6.8364, -6.8761, -6.9482, -6.9954, -7.0155, -7.0293, -7.0639, -7.0978, -7.1034, -7.1386, -7.1512, -7.2166, -5.5141, -7.0803, -5.8197, -6.0884, -6.1013, -6.2261, -6.3279, -6.493, -6.5351, -6.5963, -6.6057, -6.6144, -6.6222, -6.676, -6.7231, -6.7239, -6.778, -6.8661, -6.9021, -6.9912, -7.0336, -7.1068, -7.1119, -7.1136, -7.1267, -7.1417, -7.1454, -7.1528, -7.1562, -7.2009, -7.2176, -7.2479, -6.1501, -5.5386, -6.0492, -5.8416, -6.6714, -6.8299], \"loglift\": [30.0, 29.0, 28.0, 27.0, 26.0, 25.0, 24.0, 23.0, 22.0, 21.0, 20.0, 19.0, 18.0, 17.0, 16.0, 15.0, 14.0, 13.0, 12.0, 11.0, 10.0, 9.0, 8.0, 7.0, 6.0, 5.0, 4.0, 3.0, 2.0, 1.0, 0.7188, 0.7186, 0.7182, 0.7181, 0.718, 0.718, 0.7179, 0.7178, 0.7178, 0.7177, 0.7177, 0.7177, 0.7175, 0.7172, 0.717, 0.717, 0.7168, 0.7168, 0.7168, 0.7168, 0.7167, 0.7167, 0.7166, 0.7165, 0.7165, 0.7165, 0.7165, 0.7165, 0.7164, 0.7163, 0.7159, 0.7156, 0.7139, 0.7151, 0.7151, 0.7033, 0.7004, 0.7015, 0.692, 0.6928, 0.7062, 0.6409, 0.6415, 0.6655, 0.6841, 0.688, 0.6527, 0.5568, 0.6375, 0.6615, 0.5882, 0.5846, 0.5823, 0.6499, 0.5122, 0.4916, 0.5995, 0.6356, 0.3976, 0.6359, 0.4817, 0.486, 0.5573, 0.5676, 0.4126, 0.5372, 0.4603, 0.5152, 0.5576, 0.5843, 0.4642, 0.418, 0.4405, 0.1091, 0.428, 0.2128, 0.1197, 0.3335, 1.8993, 1.8987, 1.8984, 1.8973, 1.8973, 1.8969, 1.8969, 1.8965, 1.8963, 1.8959, 1.8958, 1.8958, 1.8954, 1.8953, 1.8953, 1.8946, 1.8946, 1.8945, 1.8942, 1.8942, 1.8941, 1.8939, 1.8937, 1.8932, 1.893, 1.893, 1.893, 1.8928, 1.8927, 1.8927, 1.8773, 1.8562, 1.8901, 1.782, 1.8687, 1.8452, 1.87, 1.7749, 1.8295, 1.8038, 1.8466, 1.6813, 1.7551, 1.6586, 1.7917, 1.6534, 1.681, 1.6283, 1.6656, 1.5747, 1.6949, 1.6938, 1.6771, 1.5863, 1.7717, 1.6833, 1.6021, 1.6351, 1.3333, 1.6202, 1.472, 1.6129, 1.5035, 0.7806, 1.0758, 1.609, 1.0414, 0.8884, 0.7811, 0.187, 0.545, 0.337, 2.3429, 2.3427, 2.3425, 2.3425, 2.3421, 2.341, 2.3407, 2.3404, 2.3403, 2.3398, 2.3397, 2.3396, 2.3396, 2.3389, 2.3389, 2.3388, 2.3387, 2.3387, 2.3385, 2.3385, 2.3385, 2.3384, 2.3384, 2.3383, 2.3382, 2.3382, 2.338, 2.3379, 2.3377, 2.3377, 2.3346, 2.3169, 2.3098, 2.3278, 2.287, 2.3066, 2.2723, 2.0766, 2.0933, 2.0581, 1.7527, 2.0826, 1.9181, 1.5083, 2.189, 2.0993, 1.9447, 1.6228, 1.0455, 1.7088, 1.6461, 2.052, 1.7846, 1.0241, 0.6872, 1.3531, 1.6106, 1.3889, 1.1546, 1.1633, 1.0304, 2.4788, 2.4783, 2.4779, 2.4775, 2.4774, 2.4774, 2.4768, 2.476, 2.4753, 2.4753, 2.4751, 2.475, 2.4748, 2.4746, 2.4744, 2.4741, 2.4741, 2.4741, 2.474, 2.4738, 2.4736, 2.4735, 2.4734, 2.4733, 2.4733, 2.4731, 2.4731, 2.4725, 2.4721, 2.4721, 2.4658, 2.4458, 2.4608, 2.458, 2.4273, 2.4226, 2.3614, 2.3782, 2.4128, 2.2107, 2.3483, 2.2909, 2.3851, 2.3794, 2.2214, 2.0005, 2.3202, 1.9287, 1.6102, 2.0883, 1.5553, 1.4038, 1.4093, 0.9491, 0.8005, 1.3315, 2.0629, 1.3576, 0.2133, 1.0029, 1.1001, 1.4863, 1.2143, 0.2491, 0.3582, 0.4954, 0.6925, 1.4675, 3.0105, 3.0098, 3.0095, 3.0086, 3.0078, 3.0076, 3.0072, 3.007, 3.006, 3.0056, 3.0043, 3.0043, 3.004, 3.0039, 3.0036, 3.0033, 3.0032, 3.0028, 3.0025, 3.002, 3.0017, 3.0015, 3.0004, 3.0004, 2.9998, 2.9998, 2.9994, 2.9993, 2.9987, 2.9985, 2.9652, 2.9862, 2.9485, 2.9674, 2.9581, 2.9055, 2.8799, 2.9558, 2.9228, 2.6166, 2.7336, 2.7084, 2.7497, 2.5699, 2.59, 2.6905, 2.0831, 2.2326, 2.5238, 2.2536, 2.3685, 1.5861, 2.1475, 2.3881, 2.2778, 2.038, 2.0158, 1.2861, 2.3315, 1.697, 2.0474, 1.2021, 1.1263, 1.4872, 0.8528, 3.8029, 3.8015, 3.8001, 3.7994, 3.7992, 3.7991, 3.7985, 3.7984, 3.7979, 3.7951, 3.7898, 3.7898, 3.7889, 3.7871, 3.7867, 3.7864, 3.7851, 3.7848, 3.784, 3.7835, 3.7822, 3.7813, 3.7806, 3.78, 3.7791, 3.7791, 3.7778, 3.7775, 3.7773, 3.7769, 3.7462, 3.7309, 3.7698, 3.5849, 3.5584, 3.658, 3.4562, 3.6248, 3.4342, 3.3626, 3.2664, 3.2395, 2.9977, 2.5504, 3.2956, 2.7166, 2.8185, 1.9958, 2.7788, 2.3762, 2.6184, 2.1552, 2.0084, 2.2334, 0.7748, 3.9336, 3.9326, 3.9323, 3.9321, 3.9289, 3.9265, 3.9253, 3.9253, 3.9249, 3.9229, 3.9226, 3.9199, 3.9192, 3.9189, 3.9188, 3.9187, 3.9168, 3.9162, 3.9158, 3.9143, 3.9142, 3.913, 3.9128, 3.9125, 3.9117, 3.9115, 3.9114, 3.9108, 3.9105, 3.9102, 3.9081, 3.9029, 3.8502, 3.6018, 3.8367, 3.7082, 3.4089, 3.4229, 2.7665, 3.1117, 3.3501, 3.1641, 2.9717, 2.2393, 2.8066, 2.0087, 2.8257, 2.684, 2.2898, 2.2093, 3.9588, 3.9553, 3.9441, 3.9403, 3.9374, 3.9359, 3.9356, 3.9356, 3.9344, 3.9343, 3.9342, 3.9336, 3.9327, 3.9314, 3.9312, 3.9309, 3.9308, 3.9307, 3.9305, 3.9302, 3.9298, 3.9268, 3.9248, 3.9239, 3.9239, 3.9226, 3.9224, 3.9219, 3.9218, 3.9214, 3.5533, 3.5762, 3.2318, 2.787, 0.8434, 3.3016, 3.0714, 2.6464, 2.0184, 4.1374, 4.1372, 4.1362, 4.1354, 4.1351, 4.1321, 4.1305, 4.1302, 4.1291, 4.1276, 4.1273, 4.1271, 4.1271, 4.1269, 4.1257, 4.1229, 4.1223, 4.1215, 4.121, 4.1205, 4.1202, 4.1202, 4.1195, 4.1192, 4.1192, 4.1177, 4.1171, 4.1164, 4.1163, 4.1162, 4.0127, 4.0823, 4.0412, 3.992, 3.8976, 3.9067, 3.9021, 3.4754, 2.992, 3.3035, 2.31, 2.0668, 2.04, 4.3683, 4.3678, 4.3677, 4.3643, 4.3637, 4.3634, 4.3591, 4.3588, 4.3582, 4.3582, 4.3582, 4.3569, 4.356, 4.3544, 4.3535, 4.3504, 4.3496, 4.3469, 4.3464, 4.3445, 4.3443, 4.3435, 4.3433, 4.3415, 4.3394, 4.3377, 4.3355, 4.3348, 4.3346, 4.3346, 3.9733, 4.0051, 4.0076, 3.7022, 3.1627, 3.7049, 2.5964, 3.0752, 2.8478, 2.4818, 2.9857, 1.7957, 1.2067, 1.8535, 5.0342, 5.0338, 5.0197, 5.0162, 5.0042, 4.9904, 4.9899, 4.9864, 4.9772, 4.9752, 4.9703, 4.9699, 4.968, 4.9673, 4.9673, 4.9669, 4.9657, 4.965, 4.9645, 4.9645, 4.9636, 4.9619, 4.9603, 4.9603, 4.96, 4.9577, 4.9568, 4.9567, 4.9532, 4.9499, 4.9189, 4.6496, 4.8556, 4.5529, 4.5539, 5.0638, 5.0632, 5.0465, 5.0398, 5.0362, 5.0315, 5.0308, 5.0283, 5.0263, 5.0224, 5.0224, 5.017, 5.0166, 5.0154, 5.0144, 5.0141, 5.0119, 5.0093, 5.0064, 5.0059, 5.0043, 5.0037, 5.0033, 5.0032, 5.0031, 5.0024, 5.0019, 5.0015, 5.0006, 5.0, 4.8665, 4.9295, 3.9968, 4.7619, 2.4704, 4.2241, 2.4336, 4.0986, 4.2961, 1.4345, 3.9224, 0.1483, 4.1222, 5.051, 5.04, 5.0367, 5.0316, 5.0312, 5.0301, 5.029, 5.0288, 5.0285, 5.0279, 5.0267, 5.0264, 5.0259, 5.0257, 5.0225, 5.0196, 5.0169, 5.0161, 5.0143, 5.0132, 5.0109, 5.0093, 5.0065, 5.0064, 5.0062, 5.0058, 5.0042, 5.0029, 5.0015, 5.0006, 4.9352, 4.2417, 3.6494, 4.3717, 4.1294, 4.6852, 4.2385, 3.3252, 3.4593, 5.1427, 5.1382, 5.1375, 5.1373, 5.137, 5.137, 5.137, 5.1368, 5.1368, 5.1357, 5.128, 5.121, 5.1177, 5.1125, 5.1119, 5.1101, 5.1083, 5.1069, 5.0923, 5.0845, 5.0788, 5.0756, 5.0738, 5.0712, 5.0678, 5.0669, 5.0643, 5.0635, 5.063, 5.0625, 4.8615, 4.8152, 4.7302, 4.066, 4.3676, 3.8543, 2.1793, 5.2185, 5.2182, 5.2058, 5.1974, 5.1929, 5.1898, 5.1873, 5.1859, 5.1859, 5.184, 5.1809, 5.1804, 5.1786, 5.178, 5.1771, 5.1764, 5.1757, 5.1733, 5.1714, 5.1702, 5.17, 5.1696, 5.1688, 5.1685, 5.168, 5.167, 5.1667, 5.1655, 5.1609, 5.1596, 5.118, 4.7971, 4.822, 4.8748, 4.8293, 2.1052, 4.5409, 3.1196, 2.7197, 3.9666, 2.7243, 5.304, 5.2998, 5.2875, 5.2873, 5.2857, 5.2809, 5.2796, 5.2791, 5.2776, 5.2764, 5.2745, 5.2736, 5.2692, 5.268, 5.268, 5.2656, 5.2647, 5.2623, 5.2612, 5.2599, 5.2536, 5.2518, 5.249, 5.2471, 5.2469, 5.2437, 5.2388, 5.2369, 5.235, 5.2338, 5.1003, 4.8562, 4.9511, 5.1418, 4.51, 5.5991, 5.5863, 5.5752, 5.5569, 5.5515, 5.546, 5.5441, 5.543, 5.5423, 5.5411, 5.5407, 5.5385, 5.533, 5.5296, 5.5164, 5.5146, 5.5143, 5.5108, 5.5097, 5.5056, 5.5021, 5.5019, 5.494, 5.494, 5.4884, 5.4858, 5.4663, 5.4598, 5.4555, 5.4552, 5.4133, 5.3475, 4.3263, 3.7948, 3.9638, 5.7655, 5.7604, 5.755, 5.7318, 5.7268, 5.7261, 5.7161, 5.7149, 5.7044, 5.6988, 5.6944, 5.6932, 5.6831, 5.6826, 5.6818, 5.6798, 5.6767, 5.6711, 5.6597, 5.6586, 5.6583, 5.6567, 5.6508, 5.6466, 5.6403, 5.6378, 5.6373, 5.6373, 5.634, 5.6314, 5.2974, 5.2956, 4.387, 3.9773, 4.9795, 6.0818, 6.0718, 6.0718, 6.0676, 6.0542, 6.0465, 6.0343, 6.0125, 6.0023, 5.9986, 5.9899, 5.9877, 5.9688, 5.9403, 5.9327, 5.9295, 5.9254, 5.9237, 5.9223, 5.9128, 5.8948, 5.8825, 5.8771, 5.8734, 5.8639, 5.8543, 5.8527, 5.8425, 5.8388, 5.8189, 4.6649, 3.7526, 6.1618, 6.1289, 6.1271, 6.1089, 6.0925, 6.0627, 6.0545, 6.042, 6.0401, 6.0382, 6.0365, 6.0248, 6.0141, 6.014, 6.0012, 5.9793, 5.9699, 5.9456, 5.9335, 5.9117, 5.9101, 5.9096, 5.9055, 5.9009, 5.8997, 5.8974, 5.8963, 5.8819, 5.8765, 5.8664, 5.7158, 4.0362, 3.7749, 2.4836, 4.5278, 3.5653]}, \"token.table\": {\"Topic\": [6, 18, 19, 14, 8, 5, 5, 16, 20, 18, 7, 13, 15, 6, 8, 11, 13, 14, 8, 8, 14, 12, 16, 15, 15, 20, 3, 4, 2, 17, 2, 3, 8, 2, 3, 5, 8, 2, 8, 2, 12, 12, 2, 2, 14, 14, 14, 14, 14, 11, 11, 2, 16, 1, 2, 3, 6, 9, 2, 13, 11, 15, 14, 20, 11, 18, 19, 1, 19, 20, 16, 1, 2, 4, 5, 6, 11, 6, 19, 1, 2, 4, 5, 13, 11, 1, 2, 6, 9, 9, 12, 15, 6, 6, 1, 6, 9, 1, 9, 17, 16, 17, 2, 5, 6, 20, 7, 19, 5, 1, 2, 3, 4, 5, 6, 19, 1, 13, 9, 1, 2, 13, 2, 5, 13, 3, 15, 20, 1, 2, 3, 4, 5, 3, 4, 2, 5, 12, 1, 2, 3, 6, 9, 11, 15, 1, 11, 2, 10, 10, 10, 10, 10, 10, 10, 10, 1, 10, 7, 18, 7, 1, 7, 1, 7, 7, 1, 14, 16, 15, 19, 3, 7, 20, 2, 12, 10, 10, 3, 10, 10, 10, 13, 1, 2, 3, 4, 5, 4, 3, 6, 3, 13, 12, 4, 6, 14, 1, 3, 11, 1, 3, 1, 1, 2, 3, 4, 5, 8, 1, 3, 4, 2, 13, 4, 5, 1, 12, 12, 13, 16, 16, 4, 3, 15, 19, 4, 14, 8, 12, 1, 2, 5, 6, 1, 13, 5, 2, 4, 13, 17, 12, 1, 3, 4, 17, 13, 18, 2, 17, 5, 13, 17, 4, 13, 4, 4, 17, 1, 4, 8, 7, 1, 5, 2, 14, 3, 1, 3, 12, 1, 10, 4, 6, 6, 15, 1, 8, 1, 7, 6, 4, 20, 1, 3, 10, 1, 7, 9, 17, 2, 5, 1, 6, 12, 6, 6, 7, 17, 8, 1, 2, 5, 7, 5, 1, 3, 4, 1, 13, 13, 7, 1, 2, 5, 6, 16, 17, 5, 2, 2, 4, 6, 7, 20, 8, 1, 2, 3, 4, 5, 1, 4, 17, 14, 13, 18, 2, 1, 16, 1, 2, 3, 4, 5, 12, 6, 1, 19, 7, 13, 14, 16, 6, 6, 2, 6, 6, 7, 7, 14, 7, 19, 11, 11, 19, 2, 4, 5, 6, 12, 19, 1, 2, 5, 7, 20, 1, 19, 14, 16, 3, 3, 12, 1, 13, 17, 19, 18, 13, 4, 5, 2, 4, 5, 5, 2, 15, 16, 2, 3, 19, 18, 1, 3, 4, 4, 4, 1, 3, 4, 12, 1, 4, 4, 1, 2, 9, 1, 5, 2, 15, 16, 15, 17, 2, 4, 6, 6, 6, 6, 9, 16, 1, 2, 3, 5, 2, 2, 3, 5, 17, 18, 1, 2, 4, 5, 18, 6, 6, 19, 11, 1, 2, 3, 4, 20, 1, 5, 7, 9, 1, 6, 7, 1, 3, 2, 8, 9, 18, 2, 5, 2, 2, 5, 2, 15, 1, 2, 4, 5, 2, 15, 1, 2, 3, 4, 5, 9, 12, 13, 13, 1, 2, 9, 13, 4, 12, 2, 5, 1, 20, 1, 3, 6, 15, 2, 15, 14, 1, 15, 6, 1, 2, 20, 13, 18, 1, 2, 5, 6, 7, 15, 3, 4, 3, 3, 3, 19, 7, 14, 19, 10, 1, 2, 15, 13, 15, 12, 1, 1, 3, 4, 1, 2, 3, 4, 14, 1, 6, 10, 2, 4, 5, 18, 11, 11, 11, 1, 11, 1, 11, 1, 3, 4, 9, 20, 1, 20, 19, 2, 1, 1, 3, 4, 3, 12, 3, 7, 13, 17, 1, 3, 11, 1, 18, 18, 18, 16, 8, 3, 16, 1, 3, 4, 10, 10, 1, 7, 1, 7, 15, 1, 2, 3, 4, 5, 5, 7, 2, 5, 10, 2, 7, 20, 2, 1, 2, 3, 4, 5, 1, 2, 4, 20, 1, 2, 5, 6, 16, 6, 18, 6, 7, 18, 1, 4, 5, 14, 13, 10, 2, 4, 4, 5, 7, 11, 1, 3, 15, 14, 8, 15, 2, 4, 15, 1, 2, 4, 15, 20, 8, 7, 7, 7, 17, 1, 1, 20, 1, 7, 1, 1, 13, 11, 3, 2, 8, 2, 16, 16, 7, 10, 9, 3, 5, 6, 5, 6, 4, 5, 6, 6, 6, 1, 3, 10, 18, 3, 19, 1, 2, 3, 4, 5, 10, 10, 7, 1, 2, 3, 4, 10, 9, 9, 1, 7, 1, 6, 7, 3, 14, 1, 1, 3, 4, 1, 6, 11, 8, 2, 5, 13, 1, 1, 2, 3, 4, 5, 1, 2, 3, 4, 5, 1, 2, 3, 5, 9, 1, 2, 3, 4, 11, 1, 1, 2, 3, 4, 5, 13, 3, 12, 1, 9, 1, 2, 3, 4, 2, 4, 2, 3, 13, 17, 1, 2, 3, 4, 5, 3, 5, 9, 12, 1, 2, 3, 9, 10, 7, 18, 17, 8, 8, 17, 1, 15, 1, 4, 5, 5, 8, 1, 20, 17, 11, 1, 2, 3, 4, 5, 1, 3, 12, 1, 4, 10, 3, 13, 20, 1, 9, 9, 2, 4, 13, 4, 1, 9, 1, 7, 7, 4, 2, 5, 18, 16, 1, 2, 3, 4, 5, 13, 3, 12, 7, 10, 1, 7, 10, 1, 2, 4, 5, 6, 7, 14, 18, 1, 2, 3, 5, 9, 16, 20, 1, 2, 3, 4, 13, 1, 2, 3, 4, 5, 6, 1, 16, 8, 1, 3, 7, 20, 20, 1, 3, 4, 2, 1, 2, 3, 4, 5, 18, 17, 16, 4, 1, 4, 5, 5, 1, 2, 14, 1, 2, 3, 5, 18, 3, 7, 17, 4, 15, 1, 2, 3, 5, 5, 9, 9, 9, 16, 10, 17, 4, 5, 8, 9, 2, 1, 2, 1, 2, 10, 11, 1, 2, 3, 5, 8, 19, 6, 1, 2, 3, 7, 17, 1, 2, 1, 1, 5, 7, 1, 2, 3, 6, 12, 1, 5, 7, 11, 3, 3, 12, 14, 1, 2, 4, 6, 1, 2, 3, 1, 2, 4, 8, 20, 1, 18, 18, 3, 3, 9, 5, 5, 6, 1, 8, 9, 14, 1, 3, 6, 12, 1, 3, 3, 11, 19, 3, 1, 2, 4, 5, 1, 2, 3, 5, 1, 3, 15, 1, 10, 1, 2, 4, 5, 20, 2, 20, 1, 3, 4, 9, 12, 7, 20, 6, 2, 8, 12, 1, 2, 4, 11, 13, 4, 12, 13, 4, 2, 6, 6, 1, 2, 6, 9, 9, 1, 2, 4, 5, 8, 17, 2, 15, 1, 10, 1, 2, 5, 9, 16, 1, 2, 4, 5, 13, 10, 19, 9, 1, 4, 6, 17, 19, 19, 7, 13, 1, 2, 6, 3, 17, 1, 17, 12, 1, 4, 5, 19, 1, 2, 5, 7, 1, 2, 4, 5, 1, 2, 7, 8, 1, 2, 3, 4, 1, 4, 9, 14, 2, 15, 15, 1, 7, 1, 7, 2, 5, 6, 1, 2, 9, 18, 11, 10, 19, 20, 8, 8, 8, 17, 1, 3, 4, 5, 6, 18, 3, 13, 1, 9, 7, 16, 17, 16, 1, 2, 3, 4, 5, 1, 9, 10, 7, 1, 3, 1, 11, 15, 4, 12, 16, 18, 9, 9, 9, 10, 1, 6, 1, 11, 8, 7, 1, 2, 7, 9, 3, 3, 12, 3, 12, 5, 4, 4, 4, 12, 15, 3, 3, 1, 2, 3, 4, 5, 12, 1, 6, 2, 5, 7, 19, 6, 1, 2, 6, 18, 8, 1, 2, 3, 4, 20, 19, 10, 4, 5, 1, 2, 5, 15, 18, 1, 14, 12, 11, 3, 9, 16, 5, 4, 1, 2, 3, 4, 5, 2, 1, 2, 3, 4, 5, 13, 2, 11, 17, 2, 4, 2, 9, 1, 3, 10, 1, 3, 4, 5, 4, 14, 1, 4, 1, 2, 5, 1, 10, 2, 5, 9, 9, 15, 5, 1, 3, 4, 13, 3, 13, 17, 19, 1, 2, 3, 1, 2, 3, 6, 1, 1, 3, 4, 9, 3, 18, 12, 14, 12, 1, 2, 3, 4, 5, 1, 5, 19, 1, 3, 6, 20, 1, 2, 5, 14, 11, 18, 5, 1, 14, 7, 15, 12, 1, 15, 3, 16, 1, 2, 4, 5, 6, 7, 1, 2, 4, 6, 1, 2, 3, 4, 5, 1, 2, 3, 4, 9, 16, 7, 3, 11, 3, 1, 2, 5, 6, 2, 6, 9, 6, 9, 3, 14, 11, 8, 15, 1, 2, 3, 4, 5, 1, 3, 1, 3, 11, 16, 1, 2, 7, 1, 2, 3, 4, 1, 3, 4, 1, 3, 4, 5, 12, 14, 1, 2, 3, 4, 9, 15, 18, 1, 2, 3, 4, 5, 9, 19, 16, 10, 1, 3, 3, 12, 8, 20, 18, 14, 1, 11, 11, 10, 10, 11, 12, 8, 1, 2, 6, 15, 1, 6, 1, 7, 1, 2, 3, 9, 10, 12, 6, 2, 4, 7, 16, 1, 2, 3, 4, 5, 6, 2, 5, 6, 1, 2, 4, 5, 6, 13, 2, 15, 2, 1, 2, 5, 7, 1, 3, 9, 9, 14, 15, 1, 2, 4, 5, 4, 2, 3, 4, 8, 1, 10, 11, 5, 20, 15, 17, 13, 1, 2, 3, 4, 5, 8, 5, 17, 1, 3, 14, 1, 3, 5, 20, 3, 5, 2, 4, 5, 5, 18, 3, 12, 4, 4, 16, 16, 1, 2, 3, 4, 5, 1, 2, 3, 4, 5, 6, 1, 2, 5, 10, 5, 5, 5, 5, 20, 20, 1, 2, 3, 4, 5, 9, 1, 2, 3, 1, 3, 5, 17, 1, 10], \"Freq\": [0.989030453887105, 0.7950826144220368, 0.6467444359796956, 0.9684320869744901, 0.9657828124286246, 0.9966550346515278, 0.9912175067237313, 0.9658758615572576, 0.888556571473192, 0.7420950934518115, 0.9780598580535388, 0.9469307904831199, 0.9769243674827967, 0.29665570384972373, 0.6724195953927071, 0.8814115498551045, 0.9718606575050541, 0.8969523629295383, 0.9469414990338396, 0.9579393044977806, 0.8917255687022722, 0.9364176177899272, 0.8846224407572032, 0.9670324846589483, 0.8730871396473123, 0.9444819462595182, 0.06229251768618629, 0.9343877652927943, 0.7217335801605427, 0.26773987651116904, 0.39297165098818393, 0.11682940975324388, 0.4885593498772017, 0.44104541641267486, 0.2268233570122328, 0.06300648805895355, 0.26462724984760494, 0.3262133383896701, 0.6672545557970525, 0.18437758180548586, 0.8165292908528659, 0.958210792062018, 0.9987230719071706, 0.2751643930095902, 0.705108757087075, 0.9737375401402124, 0.8845992714364145, 0.9393311441276647, 0.938171814698349, 0.8984048448581954, 0.9258269351870392, 0.9925221736836971, 0.9524974909532226, 0.060605956159252, 0.8038263659016581, 0.121211912318504, 0.012759148665105684, 0.0015948935831382105, 0.9970415453773885, 0.9779950350170771, 0.9889452565947803, 0.9692830895589708, 0.9723294242630077, 0.8873889234051864, 0.9490263722275959, 0.9282576424932525, 0.840137147102246, 0.8688726536440625, 0.09654140596045138, 0.4631436255077789, 0.9826835624017514, 0.021202482827295283, 0.49613809815870963, 0.27351202847210915, 0.016961986261836228, 0.1929425937283871, 0.9544724709121566, 0.9498459706702905, 0.7754654518866486, 0.1406506964882875, 0.8009275772249707, 0.044930083600425184, 0.013674373269694621, 0.9678573295611844, 0.8954255097446593, 0.2957525889141277, 0.050589258630048164, 0.6420944364583036, 0.007782962866161256, 0.981625437732258, 0.9212896992043309, 0.9663699463137023, 0.9965998880301188, 0.9876008552231021, 0.20936922148214818, 0.5981977756632806, 0.17945933269898415, 0.998322333461678, 0.9856498190364406, 0.9790273705120264, 0.9103108396336769, 0.9632723721225119, 0.22356929257155886, 0.06955489102226275, 0.705485323225808, 0.8864864201894729, 0.9903098419028441, 0.9465164129104353, 0.9892610778434069, 0.5433407054095308, 0.3265240902328264, 0.013857786322878575, 0.10739784400230896, 0.007217597043165925, 0.001443519408633185, 0.6623346797389603, 0.8205823978063796, 0.17095466620966243, 0.9709722107014578, 0.009961278778126107, 0.7470959083594582, 0.2390706906750266, 0.9982365659520704, 0.9949851208719076, 0.9111266732694596, 0.33989765630078445, 0.6312385045585998, 0.8618781220843093, 0.4248403099210774, 0.1401069107186532, 0.004519577765117845, 0.41919083771468013, 0.011298944412794613, 0.9898836490034164, 0.9988660850070104, 0.2407142327202175, 0.7561566658276397, 0.972216083121549, 0.17146378704126525, 0.5057315738994894, 0.24074208483571585, 0.03290719145236404, 0.0017319574448612651, 0.0034639148897225303, 0.04329893612153163, 0.9989691888541269, 0.9316930028103696, 0.9673897980609085, 0.025291236550611985, 0.9845230705368501, 0.992246284230912, 0.9592862854744532, 0.9975751611346416, 0.9993837230131967, 0.9936458322585408, 0.9753403734312482, 0.7447347359924299, 0.25050168392472644, 0.9923448262910004, 0.7642109830267032, 0.9836605953109634, 0.19252039357259607, 0.7875834282515294, 0.44347211882406534, 0.550980511266263, 0.9951569310565999, 0.6637239141151109, 0.2808062713563931, 0.025527842850581187, 0.9064204339033309, 0.6233021192544145, 0.2088769390237773, 0.5570051707300728, 0.1392512926825182, 0.9994153394827915, 0.9160678979649096, 0.982146204810104, 0.9636359197752035, 0.4756664308249982, 0.5153053000604148, 0.9828835859193075, 0.9773385224956965, 0.9306681025851359, 0.5900907609184582, 0.0027999561609416764, 0.2666958243296947, 0.12319807108143375, 0.01609974792541464, 0.9944322495348829, 0.9920555479007481, 0.9707284732758582, 0.7950300133199352, 0.1987575033299838, 0.9507687734419004, 0.17900903635622753, 0.16273548759657047, 0.6509419503862819, 0.011880436380200273, 0.9860762195566227, 0.9706400049732817, 0.06886576161859005, 0.9323364649901421, 0.9998551331421247, 0.3769456125298655, 0.09877184499445674, 0.26910288381142805, 0.24390598457814827, 0.012094511631974295, 0.9859995965767296, 0.08879638505770708, 0.7695686705001281, 0.14059427634136956, 0.9920205865428786, 0.9420420460911451, 0.9976180071347762, 0.9980161437200258, 0.608771880045984, 0.38048242502874, 0.9067957346592742, 0.8366674324731529, 0.0697222860394294, 0.909029774973663, 0.9947284618613045, 0.9980767706295227, 0.8713464589425051, 0.9449635859778031, 0.9981249196885609, 0.9745586754742984, 0.9791974229569764, 0.9088679921550944, 0.3656947636013186, 0.13967508331994807, 0.47997437722673064, 0.012697734847268006, 0.5837444676803222, 0.38916297845354814, 0.9889878313498249, 0.9976459464367423, 0.9818302058564625, 0.018351966464606777, 0.9466410578816199, 0.9414485913501538, 0.534149717858347, 0.3850510161255293, 0.07961581160490266, 0.950434817038286, 0.937276793739802, 0.8738440821273166, 0.9931653121521011, 0.9864640038094962, 0.11531046105359112, 0.05765523052679556, 0.8071732273751377, 0.9986839915799504, 0.9316708673843865, 0.9915103639817247, 0.996939471336797, 0.9323817591918093, 0.0926646963086918, 0.9060548083516532, 0.9551548920308824, 0.98047114472996, 0.9996061583060164, 0.9950939418238363, 0.998128265187544, 0.9684320869744901, 0.9958957679241556, 0.23541842925116477, 0.313891239001553, 0.47083685850232954, 0.9179396755798908, 0.08119368137807388, 0.4158456943133549, 0.5826675135437124, 0.9860591485931286, 0.9683349515965191, 0.9980899952823928, 0.990909360883842, 0.9981000650637776, 0.9915334266786483, 0.9906886862222779, 0.9961925438681685, 0.8629228572509875, 0.2780213743871964, 0.6716246684634519, 0.04998137067634991, 0.9959051842682454, 0.0024960029680908403, 0.9879572811421193, 0.9507941610272138, 0.08214568233353081, 0.9110702949718872, 0.6294742185632473, 0.3603860029942255, 0.009610293413179347, 0.9986896930261181, 0.3011065486956419, 0.4683879646376652, 0.20073769913042794, 0.9480391806300412, 0.03153516677985923, 0.4922989925078024, 0.4677716405679119, 0.008759768549960897, 0.9893976036407627, 0.8867081363286146, 0.04863433460764193, 0.06426679930295541, 0.2717015055194944, 0.679253763798736, 0.97192829763694, 0.97141806340819, 0.0064816958335127085, 0.37593835834373707, 0.045371870834588955, 0.5703892333491183, 0.9151229533501262, 0.9005870842934425, 0.9911936290211129, 0.9906399687211327, 0.6522406361685742, 0.30888631753511747, 0.03844507814814767, 0.2712353222932999, 0.5424706445865998, 0.9766282191549015, 0.050770258836779374, 0.8054009242743637, 0.016154173266247983, 0.12923338612998386, 0.9972160815800934, 0.9968263964048483, 0.9973307034028005, 0.9438096081319636, 0.9828086882973988, 0.9665203348962503, 0.9051753263528883, 0.9879854522343016, 0.37574395895138707, 0.590454792637894, 0.7963108017659469, 0.040349081664019924, 0.037681373785407035, 0.11971339105275333, 0.005668879242052386, 0.9719493220293705, 0.9739479667378244, 0.9958359664986077, 0.8148105921307495, 0.9803777022455871, 0.9502871311327391, 0.89638556556563, 0.9508450258746116, 0.9721303509761363, 0.9922332578341224, 0.12694191229095064, 0.8568579079639168, 0.9945241779146949, 0.9663084494476283, 0.9593928309554692, 0.9880990083324308, 0.979125317308749, 0.8069085583894596, 0.8907771970926087, 0.9742391751940243, 0.7248377159378094, 0.7222897075983367, 0.12450330260845001, 0.09550938282292055, 0.057135077224425686, 0.9491875588969197, 0.8977554611285598, 0.28768318706214774, 0.23374258948799503, 0.14384159353107387, 0.3326336850406083, 0.676087506202906, 0.7782326363165748, 0.22593850731771525, 0.910633630365121, 0.8799345674186885, 0.9977446265544381, 0.6745600672293184, 0.30917336414677093, 0.5047232928488683, 0.4250301413464154, 0.05312876766830193, 0.8085113299215769, 0.8318693466734758, 0.928082115895265, 0.9669707514717205, 0.03212527413527311, 0.3301953884931713, 0.014151230935421626, 0.6556737000078687, 0.9759085659536161, 0.996877102347764, 0.15503262843438387, 0.7751631421719194, 0.2139660191730901, 0.7831156301735098, 0.7462351286472183, 0.7858778299923017, 0.04287442078221658, 0.008111376904743678, 0.9490310978550103, 0.9908279143857461, 0.994816952394021, 0.01229398392619779, 0.07683739953873618, 0.9036078185755375, 0.006146991963098895, 0.05457924454493171, 0.9424016224758208, 0.9970959996261436, 0.636746980093968, 0.04515936029035234, 0.3161155220324664, 0.04928737191658437, 0.9463175407984199, 0.9951474137311875, 0.8594614387057342, 0.9561876986970668, 0.9431623471370015, 0.8285031564577505, 0.7912732750982191, 0.20807556493323537, 0.9765781519103007, 0.9919824336274891, 0.9988524985705145, 0.9953112796674132, 0.9701674480947118, 0.9086067574558094, 0.9202752064005831, 0.01036605363905538, 0.04261599829389434, 0.02764280970414768, 0.9979811129266047, 0.012711671218439653, 0.04872807300401867, 0.9385450582947943, 0.9262125925350794, 0.7274115875620848, 0.24077585263864673, 0.003489505110705025, 0.13958020442820102, 0.6141528994840845, 0.817402839602825, 0.9928460816032447, 0.9613747740267226, 0.6398253620155361, 0.9455005999814761, 0.9250168603121346, 0.00222270771400593, 0.03371106699575661, 0.03889738499510378, 0.881997897210002, 0.7760459019287423, 0.02874244081217564, 0.18970010936035925, 0.9658710556227815, 0.9808321713142183, 0.017015675834447408, 0.0012154054167462433, 0.9985770821141853, 0.9926610913322071, 0.9952708057808707, 0.12812934731257178, 0.38438804193771536, 0.38438804193771536, 0.32654133212754083, 0.6729769891115915, 0.9981273380006933, 0.7313008502118065, 0.26832901918417995, 0.9981911726817292, 0.9578842477779674, 0.6797808127948126, 0.23492425148056023, 0.07060223515240241, 0.014370366446949162, 0.49129012970364866, 0.49129012970364866, 0.5489096724179264, 0.0760864892460492, 0.2726432531316763, 0.023097684235407794, 0.06793436539825821, 0.00317027038525205, 0.007246332309147543, 0.00045289576932172143, 0.941752154155635, 0.10003904322627291, 0.07275566780092575, 0.7912178873350676, 0.02728337542534716, 0.9955795224212972, 0.9638056968393337, 0.03891137411664691, 0.9533286658578494, 0.9963110800210271, 0.8797805420326351, 0.9966982404008301, 0.0028889804069589277, 0.26666867832031926, 0.6666716958007982, 0.27608903867363765, 0.6902225966840941, 0.9646269172344275, 0.7101750842485882, 0.26631565659322054, 0.9780642051360144, 0.11848668944709194, 0.880186835892683, 0.6486828273168587, 0.2727798686793245, 0.545559737358649, 0.10787917891680905, 0.09958078053859297, 0.7676018499849875, 0.016596796756432164, 0.004149199189108041, 0.8944466168375043, 0.9732325550094076, 0.026096141064921023, 0.9902421103209366, 0.9981565843875728, 0.9990413683229307, 0.8036800145257751, 0.9734194938353727, 0.9812377786032841, 0.7680864938893026, 0.989109323071318, 0.7882568634007301, 0.08856818689895844, 0.11513864296864597, 0.9317334684385454, 0.977919385553602, 0.9001001228805783, 0.9992239345678601, 0.8770663947003308, 0.08323868086479064, 0.03978319306037788, 0.602481168430649, 0.06922797404817044, 0.19067361994981802, 0.13726918282694367, 0.9856547067083723, 0.6716078684543371, 0.28498494121356144, 0.04185093542297056, 0.7673484286539767, 0.20281416234178676, 0.027181279489105443, 0.8244886273578403, 0.963797008598742, 0.924096941480966, 0.9599656373142574, 0.32271322524423995, 0.6742401313138585, 0.35694168584335195, 0.6040551606579803, 0.3302720976200263, 0.14940880606620238, 0.44822641819860715, 0.04718172823143233, 0.023590864115716165, 0.9036012848304318, 0.06231732998830564, 0.7573145041274967, 0.9912003814972367, 0.9991553570343819, 0.4003309027981799, 0.021902602584702852, 0.5767685347305084, 0.08960135176954434, 0.8512128418106713, 0.07909098962190357, 0.8963645490482405, 0.19931184607532335, 0.7474194227824625, 0.468390534130198, 0.5298188009013715, 0.9177219474462971, 0.406286281807818, 0.5909618644477354, 0.9423326973076209, 0.7729377516306245, 0.8895168802712883, 0.9961754596021576, 0.9994545816912205, 0.9345876827792903, 0.325705614730164, 0.6536420898351922, 0.020077743373777233, 0.97536578797833, 0.9846434795663256, 0.9684331457159128, 0.028984794854173445, 0.3984116336164074, 0.5919258556586624, 0.9537959486463953, 0.6326514769986966, 0.026498491183191482, 0.01722401926907446, 0.317319431918718, 0.005962160516218083, 0.9841503578510445, 0.9713599406277726, 0.9565982050205284, 0.03609804547247277, 0.004512255684059096, 0.9991631956805213, 0.9646206062897368, 0.8671428938443003, 0.9989801161603951, 0.15199637485562525, 0.8155903041033551, 0.016682528947568626, 0.007414457310030501, 0.009268071637538126, 0.0752280389775628, 0.8128807545075536, 0.11075239071696746, 0.4726167194651792, 0.0590340805476106, 0.8891552872603077, 0.011661052947676167, 0.040084869507636824, 0.9623713842481187, 0.9609951861251862, 0.7745477493454839, 0.9641389207605283, 0.9720168857743293, 0.9588970327068651, 0.019366603071378816, 0.2420825383922352, 0.7391586838909582, 0.8918289366667551, 0.9719364815319493, 0.964307213665058, 0.012451561979258466, 0.9836733963614188, 0.9103832712064645, 0.08411149788320595, 0.9583654693871667, 0.02994892091834896, 0.7705404516729851, 0.14269267623573798, 0.07848097192965589, 0.9738720707755543, 0.9879251616398255, 0.8877446250586289, 0.9469491785940229, 0.04671049759880831, 0.004246408872618937, 0.059632213946587756, 0.6644732411191208, 0.18741552954641866, 0.07666998935989855, 0.8110054516937432, 0.9630724164453005, 0.992521406763806, 0.9684706891432925, 0.9882393911135628, 0.8513067645429412, 0.9981592838951808, 0.9966615741984302, 0.8588325364415205, 0.9838627334063309, 0.015616868784227475, 0.9984065710585347, 0.49745917603020723, 0.49745917603020723, 0.9364723004878795, 0.9945806486764739, 0.9912393254328995, 0.9726692895164588, 0.9957187885438739, 0.9355073525770143, 0.9348596994262434, 0.9592904931529681, 0.980839125061621, 0.9780206060903, 0.10262630747449081, 0.05864360427113761, 0.8356713608637109, 0.06241682220139101, 0.923768968580587, 0.01662689176304301, 0.19952270115651607, 0.7814639128630213, 0.9804756246651409, 0.9872805542084703, 0.7654816432227701, 0.0625490836874637, 0.16977608429454433, 0.9242701658851084, 0.992773402351539, 0.8736094523101106, 0.7358982214508389, 0.028369245237117924, 0.01872370185649783, 0.21645734115920978, 0.0005673849047423585, 0.9563836239989512, 0.9572415591115824, 0.9700442204398602, 0.4907407325709796, 0.03650137680280014, 0.4332848616776831, 0.039205182491896445, 0.9904411292622797, 0.9980820014922913, 0.9928676237623243, 0.709419151301521, 0.28714584695537754, 0.5535951175591154, 0.06568077665955606, 0.37531872376889175, 0.9896187586242055, 0.005943656207953186, 0.9986961022758121, 0.4781420132963901, 0.4858539812527835, 0.03393265900813091, 0.6938862636144735, 0.3070646109098532, 0.9345627475687539, 0.9635796473966981, 0.9776565992835348, 0.02003394670662981, 0.9693623139639539, 0.9992907220661539, 0.7248679045705819, 0.03727238752208355, 0.03795838238445318, 0.18636193761041775, 0.013491232293269506, 0.22297211843062625, 0.12550526426634054, 0.13885688812446187, 0.05340649543248533, 0.45796069833356173, 0.179104214294299, 0.15748818843119397, 0.1296961551786303, 0.5342246391881678, 0.9714657731465334, 0.14716196341750218, 0.7820259708880488, 0.05959451411121989, 0.00972971658958692, 0.001216214573698365, 0.9989262749701188, 0.3186257103905183, 0.2596674096489657, 0.05770386881088126, 0.36378525989468624, 0.9900001355031309, 0.9487906552139466, 0.9938947743825292, 0.9278066616265884, 0.9991302960721735, 0.9954471506875535, 0.8504161441523452, 0.037831302056823515, 0.09221379876350731, 0.018915651028411758, 0.883124754742701, 0.1162006256240396, 0.9480481408067789, 0.05042809259610526, 0.978336823405182, 0.8979130890862274, 0.788634543196699, 0.04411647684371518, 0.03067145532944008, 0.10209813212402656, 0.03445286763032995, 0.26116176902206334, 0.7232172065226369, 0.015067025135888269, 0.9466768299603335, 0.812828897083279, 0.18045353119929314, 0.006698056834908261, 0.978881742645327, 0.9951986512315892, 0.7170157227614531, 0.23900524092048436, 0.9279783665922756, 0.9542189709142972, 0.9998350049201742, 0.9087355057744133, 0.9988820881992727, 0.8984601913591086, 0.03505452840109977, 0.771199624824195, 0.19279990620604875, 0.9924650689158413, 0.976250411670193, 0.9153704291836082, 0.0880163874215008, 0.9118096650124047, 0.8968736486191096, 0.8503026661585786, 0.039532831950276494, 0.022193870568576277, 0.08392057308742905, 0.0034677922763400432, 0.14160785281285332, 0.8550935727545375, 0.9263300893073628, 0.8041553659862214, 0.04215330547508419, 0.15240041210222743, 0.9976682082906289, 0.9174615228079444, 0.8935395580891988, 0.21330984088426813, 0.7849802144541067, 0.9937173248195891, 0.017452439759464592, 0.9773366265300173, 0.9205525388222165, 0.9991613975168459, 0.08799103947191698, 0.9092407412098088, 0.28311826442385113, 0.7152461417023607, 0.9977270639970718, 0.9916154878829058, 0.12309783793900209, 0.8757531899089006, 0.8469530071095779, 0.8756033754602103, 0.7916808108024608, 0.03260121313265559, 0.05242627517278399, 0.12027204304344562, 0.0026433416053504534, 0.9489562536970433, 0.6038846068504994, 0.3623307641102996, 0.32052869079289137, 0.6747972437745081, 0.11015299437340388, 0.587482636658154, 0.293741318329077, 0.7474970089229506, 0.08020354172993031, 0.049405381705637075, 0.11549310009109966, 0.006416283338394425, 0.0006416283338394425, 0.9684320869744901, 0.8183803717589133, 0.544106105102656, 0.18549071764863273, 0.05193740094161717, 0.21764244204106242, 0.9958623918295618, 0.904069812495932, 0.45798975681154264, 0.33843381690082847, 0.06458660627878406, 0.570945599504451, 0.0206677140092109, 0.0025834642511513625, 0.4634213423615002, 0.12425451411994194, 0.006932655294245688, 0.34076667177099956, 0.046928743530278504, 0.017598278823854438, 0.9963825092232987, 0.9756443873379966, 0.9707342248151154, 0.24692308696357848, 0.4801282246514026, 0.16461539130905234, 0.10974359420603488, 0.8990376388926187, 0.8595601161788008, 0.04305223379824736, 0.09723866599259318, 0.9932500653607115, 0.41317367891860757, 0.1680492333216355, 0.37147725260572056, 0.011371752630787364, 0.035378785962449574, 0.9014292173881878, 0.8659863043252537, 0.9214226595435074, 0.9958220575935445, 0.9654632336481292, 0.02486171417119646, 0.009668444399909736, 0.992822010378025, 0.8674680105700315, 0.07724030231103021, 0.05347405544609784, 0.37544742480379284, 0.4234531069829038, 0.022928087010918648, 0.17769267433461952, 0.9332741369657672, 0.08271129681768458, 0.9173434737961381, 0.9547636023975982, 0.9942149981557036, 0.8859107646180565, 0.4571951075464093, 0.12453448824958163, 0.03923689355808736, 0.37701536853640466, 0.9906606012824852, 0.9868076465090736, 0.9840451447214206, 0.9877338399607116, 0.9179715711103913, 0.9839441429768419, 0.9658529984359207, 0.09919795578642103, 0.8978686767335031, 0.9575581431042618, 0.9691320073261444, 0.990928244856426, 0.13434511548184117, 0.8655349243338292, 0.02436920045248648, 0.930091150603234, 0.040615334087477466, 0.9419531759517076, 0.6705298510411651, 0.2308381454404011, 0.006764487778473292, 0.04650585347700389, 0.043969170560076404, 0.8273430586295556, 0.9840418010961219, 0.4624883127307046, 0.1999949460457101, 0.15416277091023486, 0.18332870054190092, 0.9125134750045885, 0.9993535860214192, 0.00071947702377352, 0.9973141540605404, 0.9832419317390919, 0.0070231566552792285, 0.008778945819099035, 0.3012462731864584, 0.12340208781132032, 0.2322862829389559, 0.003629473170921186, 0.3411704780665915, 0.9744237946570538, 0.024209286823777734, 0.0015130804264861083, 0.898240431990613, 0.9973447246054645, 0.5384596650904122, 0.41176327330443285, 0.9668510481111192, 0.11436702185254137, 0.32676291957868964, 0.3185938465892224, 0.2396261410243724, 0.13389910713360234, 0.08685347489747179, 0.7780623792898514, 0.35703354283351374, 0.1630893961091359, 0.16749721762559905, 0.30854750615241927, 0.7795365210474493, 0.8126966176545454, 0.16253932353090908, 0.9619343068777029, 0.9965358872829848, 0.9617671301875058, 0.03459593993480237, 0.991688433759775, 0.9958158341190837, 0.9875703988254891, 0.5797536121134865, 0.4198215811856281, 0.9933331840471638, 0.9270527920065309, 0.00431206505455119, 0.9659025722194667, 0.02802842285458274, 0.9836319993970976, 0.052508955879633334, 0.9451612058334, 0.9920849571114937, 0.004468851158159881, 0.8713701032341253, 0.9981127980395834, 0.21010166941753233, 0.4389508724138599, 0.34262733781936044, 0.008404066776701294, 0.8733123378542498, 0.09347099523728591, 0.03207338071867654, 0.0009163823062479012, 0.9866995731016882, 0.010386311295807244, 0.9476053403442911, 0.7803804830388037, 0.22076553138597738, 0.004583686688870546, 0.06417161364418765, 0.8525657241299216, 0.07792267371079928, 0.8707758024964917, 0.9954131755648479, 0.8808333768193235, 0.3850602753940379, 0.15830255766199336, 0.3700857091287142, 0.011765730637040048, 0.07380321945052393, 0.9771710900373144, 0.7223192145189868, 0.9938623481756266, 0.4626015926557605, 0.5140017696175117, 0.9683479474704647, 0.2625570547317713, 0.051573707179455086, 0.6751467121674121, 0.0023442594172479584, 0.009377037668991834, 0.991282368861328, 0.8934320724162704, 0.9140704986169437, 0.9980707143956428, 0.05403294458673605, 0.9455765302678809, 0.9736245590081583, 0.5938033772012121, 0.06727821515087624, 0.33639107575438126, 0.9796002708085999, 0.9696595231313413, 0.5217682633947409, 0.000803957262549678, 0.32560269133261954, 0.15194792262188914, 0.9672122253924424, 0.9157954021108959, 0.996345809885798, 0.889285818817887, 0.4780464092681126, 0.5092233490029895, 0.01812079183431798, 0.5672595704656063, 0.39471811778231775, 0.018908652348853545, 0.8923731292508573, 0.05509412693446091, 0.7509125448845043, 0.03876994117610212, 0.15303924148461365, 0.9490187229669698, 0.9900261289023773, 0.8346852586221382, 0.9738584463051886, 0.6008307070525738, 0.024358001637266508, 0.37348935843808645, 0.9631750145378634, 0.6594099187560912, 0.720645040760735, 0.9689621536952014, 0.965589415485855, 0.396226815193316, 0.4391303556919553, 0.1640429489653856, 0.9937708218401186, 0.9007700768356535, 0.8369009422790459, 0.1541659630514032, 0.9378453969636381, 0.9194679779491948, 0.05732052279835947, 0.021056518578989193, 0.6826877067986912, 0.9441238982688915, 0.043115728375277246, 0.012160846464821788, 0.0011055314968019807, 0.6829499355248423, 0.132487158956634, 0.02051414074167236, 0.1632583700691425, 0.7164238202459396, 0.11349288241519835, 0.02127991545284969, 0.14186610301899794, 0.8720532075790025, 0.00123084432968102, 0.043694973703676206, 0.08246657008862833, 0.9724702092251889, 0.026441788166243808, 0.9824073164745091, 0.9498682210654117, 0.9940916602518223, 0.9480502902011677, 0.9435302800830428, 0.9970864808763955, 0.9800514564260708, 0.8543105020881195, 0.14406020231289857, 0.9733631314321368, 0.00662151790089889, 0.019864553702696672, 0.17586183359757646, 0.7566148654779452, 0.06748186638046538, 0.9348608173280605, 0.9602254932769857, 0.9635192630116526, 0.9186680008364045, 0.9134063423253663, 0.9879040992487286, 0.9915714662355243, 0.9439419216661993, 0.8498709434608009, 0.8333595572440505, 0.11941049462772971, 0.043993340126005684, 0.0025139051500574676, 0.9984447095048835, 0.8222946340885258, 0.52352432614475, 0.4362702717872916, 0.20013148108362647, 0.7894075087187489, 0.24814121141121356, 0.6617098970965695, 0.9350034928348426, 0.9657321834252105, 0.06009198992518876, 0.08012265323358501, 0.1352069773316747, 0.3538750517816671, 0.3688980492629643, 0.5767928652670645, 0.12309603831919061, 0.29894752163232, 0.9841203535764322, 0.9217086073358081, 0.07783605410295354, 0.35058973163059576, 0.6310615169350723, 0.877674060667075, 0.994154131371872, 0.92470533279067, 0.9557985308114487, 0.7747480643277991, 0.9958520798716146, 0.9904166193983853, 0.9947634621171731, 0.9667206447747827, 0.9951617965193139, 0.003879773085845279, 0.08418121019905109, 0.9259933121895619, 0.9734566952764457, 0.9872772321221893, 0.15394772625544745, 0.41052727001452655, 0.31091403537864876, 0.12678048044566262, 0.9940135854697965, 0.9916869552978383, 0.990922837254348, 0.2397298135112792, 0.7191894405338376, 0.9771078864158859, 0.9981937527525819, 0.9887411473742181, 0.9893114260659794, 0.9339816854906674, 0.9110053434648272, 0.997076712670131, 0.9930246223097476, 0.5195669228406771, 0.033555363766793724, 0.30416313607964635, 0.06061614099807899, 0.05520398555182194, 0.025978346142033853, 0.3064398556032337, 0.6894896751072759, 0.019210614569102186, 0.9701360357396603, 0.9848112035198571, 0.7649786990639379, 0.9933651148641369, 0.08456963091562303, 0.1108153784411612, 0.8019533966136666, 0.9003128417373018, 0.9850630867844231, 0.0809821270509254, 0.8032551520997195, 0.010943530682557486, 0.10286918841604037, 0.6483209697445734, 0.655692538185008, 0.9962340987761186, 0.49151233058596905, 0.5070665182627403, 0.9992116513671742, 0.3566435612974934, 0.6432321373401221, 0.9086011096284866, 0.8902620201936292, 0.9961293653737266, 0.983681965281634, 0.9793437327411506, 0.926023174529225, 0.9930409381388723, 0.9981033607825863, 0.8651762012134363, 0.99420917911651, 0.9940401754569413, 0.7750436367314154, 0.02782207926728158, 0.055076360998496186, 0.12094087518226482, 0.021008508834477926, 0.9988776804591581, 0.10237275894844604, 0.10736655206788244, 0.0674162071123913, 0.1972548282177375, 0.5243482775408213, 0.9724738280400402, 0.9922016191914386, 0.9733725741890058, 0.8556165892033102, 0.785375282057185, 0.21389410614685903, 0.13004600806638297, 0.8561362197703546, 0.6406398918927348, 0.08412443024854094, 0.27178662080297844, 0.873900406836155, 0.0018055793529672625, 0.07643619260894745, 0.04754692296147124, 0.9931147333513993, 0.9812377786032841, 0.3383909366749514, 0.6578319808961055, 0.13337169869666612, 0.6731348087161149, 0.19299669340811684, 0.3006883622602412, 0.6963309441816112, 0.059651012378025815, 0.06097659043087083, 0.880183827089092, 0.9488815989837474, 0.0459136257572781, 0.9866600413754504, 0.05963717897573682, 0.1089026746513455, 0.8271417431852193, 0.8985961561952722, 0.9950764786165411, 0.9228384219907225, 0.9077342321270093, 0.7843703296013372, 0.509920732303984, 0.007814877123432706, 0.48061494309111147, 0.93326494628616, 0.060811146765986486, 0.0024820876231014893, 0.0024820876231014893, 0.9959114044989107, 0.07537739462578628, 0.3391982758160383, 0.06909594507363742, 0.5150788632762062, 0.9970087873185534, 0.816344850084594, 0.9448735837343767, 0.9804536330044595, 0.9701628723870257, 0.7565902152697624, 0.009294720089309122, 0.12207065717292646, 0.1078187530359858, 0.0037178880357236484, 0.04608028654098107, 0.9479373231287535, 0.9470668078850809, 0.7195257549547788, 0.07042166963387196, 0.20820319717840408, 0.8389700929439867, 0.03316126072851179, 0.5858489395370415, 0.3802491230202685, 0.9767093015912615, 0.8038395549901419, 0.08038395549901418, 0.9893831372661535, 0.24053943673179312, 0.7401213437901326, 0.9726382533882055, 0.9151959480217368, 0.903497719393602, 0.11161083754207997, 0.8928867003366397, 0.544678007433105, 0.45389833952758746, 0.1807361924812868, 0.36343690879389196, 0.3968338139263036, 0.005238730216848893, 0.048458254505852255, 0.005238730216848893, 0.1004807997003732, 0.7482612743644813, 0.13682491874093372, 0.014965225487289626, 0.8152350360654206, 0.006930127818175909, 0.10143187079330195, 0.06174113874374901, 0.013860255636351819, 0.9987062027616086, 0.11243343522405982, 0.010221221384005438, 0.8756179652297992, 0.1218848242173299, 0.8531937695213093, 0.9636874414601724, 0.9983096562233952, 0.0015012175281554814, 0.9983288423421718, 0.09085641162105326, 0.8984689593637489, 0.003365052282261232, 0.003365052282261232, 0.3928312421688243, 0.44564888817471665, 0.16175404089304532, 0.9943414593326095, 0.9763780591821004, 0.5401049746978608, 0.4548252418508301, 0.9265442723444369, 0.9755476399072674, 0.9051027231512724, 0.11450583094099057, 0.19405725033157348, 0.03254376247796574, 0.61953681161757, 0.039775709695291456, 0.9477181128566488, 0.05183508365669911, 0.9966749195133595, 0.00219049432860079, 0.9253645186093324, 0.9419697676991184, 0.6649087932664012, 0.15550286294133575, 0.1769515336918648, 0.9359020384062017, 0.012658729103780906, 0.0033756610943415748, 0.04725925532078205, 0.9247600142525525, 0.043598371422426306, 0.03143828143385843, 0.44026560333235437, 0.4244476774641261, 0.028999530758418553, 0.031635851736456604, 0.07118066640702736, 0.9448083408956308, 0.5053848700880282, 0.1341525055611242, 0.30646908598015443, 0.043946510442437234, 0.008095409818343701, 0.9690210460890154, 0.9109444384652133, 0.7717155538271152, 0.0347539337173874, 0.08376589152395938, 0.06772561442362673, 0.04188294576197969, 0.9838838098405515, 0.7379050729267081, 0.8942970029914267, 0.965800500912944, 0.5021480756347335, 0.4969712913498393, 0.9982365969765511, 0.9064892497911112, 0.9864481157680387, 0.6251259741866784, 0.8619817914444385, 0.9006146380432478, 0.9990793563345957, 0.9937098227872314, 0.9330232807762162, 0.9985963603382182, 0.9907150107913953, 0.9008470164481973, 0.9721095711795468, 0.9832587511265846, 0.5907185003699315, 0.2412476318304682, 0.1668441565930341, 0.921376950454346, 0.9958379054435147, 0.002028183106809602, 0.5310400495949449, 0.45815219965054066, 0.06157386963741816, 0.7424049424854419, 0.06861088331026595, 0.04398133545529869, 0.07564789698311375, 0.005277760254635843, 0.9909170913566168, 0.9886277367898851, 0.9963833793573265, 0.9828028730368848, 0.8746786289930034, 0.46710077682504525, 0.20949369604385076, 0.007016535274195959, 0.22853857750238266, 0.05512992001153968, 0.03257677091590981, 0.9084947802807173, 0.03287316639173648, 0.05976939343952087, 0.23213066623128392, 0.2577903542722742, 0.251822984960416, 0.23988824633669958, 0.017902107935574597, 0.908514393558991, 0.3068029222019894, 0.6749664288443766, 0.9968463884689233, 0.1247913113996846, 0.044043992258712215, 0.3890552649519579, 0.4404399225871221, 0.2907899796474822, 0.27316634451733174, 0.43177906068868566, 0.9702858277666826, 0.8608426459356586, 0.9434050943686884, 0.02520948110988296, 0.7617647552768981, 0.132623791925906, 0.08001270091397635, 0.9965487951281827, 0.0892960096239612, 0.0223240024059903, 0.8884952957584139, 0.9466028804574985, 0.29305948079957894, 0.6886897798790106, 0.8806123611585547, 0.9903933828666073, 0.741845656174411, 0.9067140277287066, 0.9609644907620585, 0.9777409773397242, 0.7396051996569913, 0.04386206705532259, 0.0005041616902910643, 0.16738168117663335, 0.047895360577651105, 0.967275074703402, 0.9885852965883507, 0.8869328383356709, 0.5242887800842052, 0.13981034135578804, 0.33787499160982115, 0.2347578476364613, 0.7655147205536781, 0.9994230788036385, 0.7914950836317425, 0.044938266730206226, 0.9538509518863129, 0.07256407831735447, 0.7641217337963842, 0.162719448348007, 0.9937291792988955, 0.9514797656341798, 0.9951250805015779, 0.9051668078643671, 0.9962441897396344, 0.9952266395885239, 0.9363815301650757, 0.9796607274103557, 0.5410004944810689, 0.13088721640671022, 0.0007271512022595012, 0.2821346664766865, 0.04581052574234858, 0.8500263083441956, 0.02712559899943793, 0.017175002381553662, 0.10359525246016495, 0.001908333597950407, 0.00013630954271074336, 0.2622109592012401, 0.31619556844855423, 0.4203087434255172, 0.989391588444425, 0.9981618428700901, 0.9949081441425327, 0.9915074213319685, 0.9942422323706182, 0.7708801492590297, 0.8158305389465907, 0.2958117319326372, 0.0698767870707017, 0.5531912309763884, 0.018633809885520453, 0.05706604277440639, 0.005823065589225141, 0.15516176072170387, 0.0964519053134916, 0.7464538759044133, 0.18665914806729342, 0.749911314165091, 0.06221971602243114, 0.9675773226075646, 0.9995980452253446, 0.9680347433048351], \"Term\": [\"\\\"clipper\", \"\\\"drive\", \"\\\"history\", \"\\\"skepticism\", \"\\\"yes,\", \"#define\", \"#include\", \"$20.\", \"$50.\", \"'bout\", \"'the\", \"(1st\", \"(205)\", \"(301)\", \"(301)\", \"(compared\", \"(david\", \"(first\", \"(frank\", \"(london\", \"(read:\", \"(unassisted)\", \"(version\", \"*******\", \"***************\", \"*are*\", \"----\", \"----\", \"------\", \"------\", \"--------\", \"--------\", \"--------\", \"----------\", \"----------\", \"----------\", \"----------\", \"------------\", \"------------\", \"---------------\", \"---------------\", \"-----------------------------------------\", \"----------------------------------------------------------------------\", \"----------------------------------------------------------------------------\", \"----------------------------------------------------------------------------\", \"0.182\", \"0.250\", \"0.333\", \"0.500\", \"1976\", \"1980\", \"1991\", \"1991.\", \"1993\", \"1993\", \"1993\", \"1993\", \"1993\", \"1993.\", \"2001\", \"55.0\", \"<cpr>\", \"==================================================================\", \"==============================================================================\", \"[kk]\", \"[more\", \"_/_/_/\", \"_/_/_/_/\", \"_/_/_/_/\", \"absurd.\", \"accelerator\", \"access\", \"access\", \"access\", \"access\", \"access\", \"accusing\", \"activities.\", \"activity,\", \"address\", \"address\", \"address\", \"address\", \"adirondack\", \"adjustable\", \"administration\", \"administration\", \"administration\", \"administration\", \"aerospace\", \"affair\", \"afternoon\", \"agencies\", \"agencies.\", \"agency\", \"agency\", \"agency\", \"agree\", \"aircraft\", \"alan\", \"albert\", \"albicans\", \"algorithm\", \"algorithm\", \"algorithm\", \"all;\", \"all?\", \"allocated\", \"allocation\", \"also\", \"also\", \"also\", \"also\", \"also\", \"also\", \"alternative,\", \"amazing\", \"amazing\", \"ames\", \"annual\", \"annual\", \"annual\", \"anonymous\", \"ansi\", \"answer:\", \"antenna\", \"antenna\", \"anti-semitism\", \"anyone\", \"anyone\", \"anyone\", \"anyone\", \"anyone\", \"apartment\", \"apple\", \"application\", \"application\", \"approval\", \"april\", \"april\", \"april\", \"april\", \"april\", \"april\", \"april\", \"arab\", \"archbishop\", \"archive\", \"archive\", \"argic\", \"armenia\", \"armenia,\", \"armenian\", \"armenians\", \"armenians,\", \"armenians.\", \"army\", \"army\", \"arrest\", \"asserted\", \"assertion\", \"atheism\", \"atheism\", \"atheist\", \"atheist\", \"atheists\", \"atlanta\", \"atlanta\", \"atlanta\", \"attend\", \"augustine\", \"austria\", \"austria\", \"austria\", \"available\", \"awards\", \"azerbaijan\", \"azerbaijan,\", \"azerbaijani\", \"azerbaijani\", \"azeri\", \"azeris\", \"babies\", \"back\", \"back\", \"back\", \"back\", \"back\", \"backup\", \"ball\", \"balloon\", \"baltimore\", \"baltimore\", \"bandwidth\", \"banks\", \"banks\", \"banks\", \"baseball\", \"baseball\", \"bd's\", \"beat\", \"beat\", \"believe\", \"best\", \"best\", \"best\", \"best\", \"best\", \"bethesda,\", \"bike\", \"bike\", \"bike\", \"binaries\", \"binghamton\", \"bios\", \"bits\", \"blew\", \"blew\", \"bobbe@vice.ico.tek.com\", \"bolt\", \"bolt\", \"bone\", \"boot\", \"boston\", \"bounced\", \"brains\", \"brand\", \"braves\", \"breathing\", \"bronx\", \"build\", \"build\", \"build\", \"build\", \"bullets\", \"bullets\", \"button\", \"bytes\", \"cable\", \"cable\", \"cable,\", \"calgary,\", \"came\", \"came\", \"came\", \"campbell\", \"canadiens\", \"canal\", \"cancer\", \"candida\", \"caps\", \"caps\", \"caps\", \"card\", \"card)\", \"card,\", \"card.\", \"card?\", \"cards\", \"cards\", \"cares?\", \"ceremonial\", \"certainly\", \"char\", \"characters\", \"chastity\", \"chicago\", \"chicago,\", \"chicago,\", \"chicago,\", \"children\", \"children\", \"chip\", \"chip\", \"chip\\\"\", \"chipset\", \"christ\", \"christians.\", \"church\", \"cipher\", \"ciphertext\", \"circuit\", \"circumference\", \"city\", \"city\", \"city\", \"claim\", \"claim\", \"cleveland\", \"cleveland,\", \"client\", \"client\", \"clinton\", \"clinton\", \"clinton\", \"clipper\", \"clone\", \"clone\", \"clone\", \"co.,\", \"code\", \"code\", \"code\", \"code\", \"colormap\", \"come\", \"come\", \"come\", \"comic\", \"comic\", \"comics\", \"commandments\", \"communications\", \"communications\", \"communications\", \"communications\", \"communications,\", \"compensate\", \"compile\", \"compression\", \"computer\", \"computer\", \"computer\", \"conductor\", \"conductor\", \"confess\", \"contact\", \"contact\", \"contact\", \"contact\", \"contest\", \"continue\", \"controller\", \"controller,\", \"cooling\", \"copies)\", \"copper\", \"copyright\", \"correction\", \"correction\", \"could\", \"could\", \"could\", \"could\", \"could\", \"countersteering\", \"countries.\", \"country\", \"couples\", \"courts\", \"cover)\", \"coverage.\", \"crashes\", \"cryptanalysis\", \"crypto\", \"cryptographic\", \"cryptographic\", \"cryptography\", \"cryptography.\", \"cryptosystem\", \"cubs\", \"cursor\", \"cursors\", \"cypriot\", \"cyprus\", \"darn\", \"data\", \"data\", \"data\", \"data\", \"decenso\", \"deciding\", \"defined\", \"defined\", \"defined\", \"defined\", \"deir\", \"dept\", \"dept\", \"desirable\", \"desired.\", \"detroit\", \"detroit,\", \"detroit,\", \"devils\", \"devils\", \"devils\", \"diff\", \"disagreement\", \"disease,\", \"disk\", \"disk\", \"display\", \"display\", \"display\", \"display.\", \"distributed\", \"distribution:\", \"distribution:\", \"division\", \"division\", \"dortmund,\", \"drawer\", \"drive\", \"drive\", \"drive\", \"drive,\", \"drive.\", \"driver\", \"driver\", \"driver\", \"driver\", \"drivers\", \"drivers\", \"drives\", \"earth\", \"earth\", \"earth\", \"echo\", \"echo\", \"editor\", \"eggs\", \"electricity\", \"else?\", \"elsewhere,\", \"email\", \"email\", \"encrypt\", \"encrypted\", \"encryption\", \"enforcement\", \"engines\", \"enhancement\", \"enough\", \"enough\", \"enough\", \"enough\", \"entries\", \"entry\", \"entry\", \"entry\", \"era,\", \"ermeni\", \"error\", \"error\", \"error\", \"error\", \"erzurum\", \"escrow\", \"escrowed\", \"etc....\", \"etc?\", \"even\", \"even\", \"even\", \"even\", \"examples.\", \"existence\", \"existence\", \"existence\", \"exploration\", \"fact\", \"fact\", \"fact\", \"fact,\", \"fans\", \"fax:\", \"february,\", \"february,\", \"february,\", \"file\", \"file\", \"file:\", \"files\", \"files\", \"files.\", \"financial\", \"find\", \"find\", \"find\", \"find\", \"finland\", \"finland\", \"first\", \"first\", \"first\", \"first\", \"first\", \"first\", \"first\", \"first\", \"fleet\", \"flight\", \"flight\", \"flight\", \"flight\", \"floppy\", \"fluke\", \"font\", \"font\", \"food\", \"fools,\", \"force\", \"force\", \"forwarded\", \"forwarded\", \"forwards\", \"forwards\", \"fossil\", \"france\", \"france\", \"francis\", \"from:\", \"from:\", \"frozen\", \"fuck\", \"fuck\", \"function\", \"function\", \"function\", \"function\", \"function\", \"galileo\", \"game\", \"game\", \"game,\", \"game.\", \"games\", \"gauge\", \"gaza\", \"geb@cadre.dsl.pitt.edu\", \"generous\", \"genocide\", \"germany\", \"germany\", \"germany\", \"ghost\", \"gifs\", \"goals:\", \"god's\", \"going\", \"going\", \"going\", \"good\", \"good\", \"good\", \"good\", \"gordon\", \"government\", \"government\", \"government\", \"graphics\", \"graphics\", \"graphics\", \"grasp\", \"greece\", \"greece,\", \"greece.\", \"greek\", \"greek\", \"greeks\", \"greeks\", \"ground\", \"ground\", \"ground\", \"ground\", \"ground\", \"grounded\", \"grounded\", \"grounds.\", \"guidelines\", \"guns\", \"hard\", \"hard\", \"hard\", \"hartford,\", \"hartford,\", \"hash\", \"hash\", \"hawks\", \"hawks\", \"he's\", \"he's\", \"headache\", \"helmet\", \"helmet\", \"helmet.\", \"helmets\", \"hemisphere\", \"henrik]\", \"hockey\", \"hockey.\", \"home\", \"home\", \"home\", \"homeland\", \"hong\", \"human\", \"human\", \"humans\", \"humans\", \"huntsville,\", \"i've\", \"i've\", \"i've\", \"i've\", \"i've\", \"icon\", \"ideas?\", \"image\", \"image\", \"image\", \"images\", \"implied\", \"impulse\", \"inc.\", \"include\", \"include\", \"include\", \"include\", \"include\", \"includes\", \"includes\", \"includes\", \"increases,\", \"information\", \"information\", \"information\", \"information\", \"infrared\", \"infrastructure\", \"init\", \"initiative\", \"inner\", \"inning.\", \"input\", \"input\", \"input\", \"insisted\", \"inspection\", \"inspired\", \"install\", \"install\", \"installed\", \"installed\", \"instance\", \"instance\", \"insurance\", \"insurance\", \"insurance\", \"intellect,\", \"intentional\", \"intergraph\", \"internet\", \"internet\", \"internet\", \"internet:\", \"internet:\", \"internet:\", \"internet:\", \"irgun\", \"isaiah\", \"islam\", \"islam.\", \"islamic\", \"isles\", \"israel\", \"israeli\", \"it..\", \"jesus\", \"jesus\", \"jews\", \"john's\", \"john's\", \"jokes\", \"jose\", \"journal\", \"journal,\", \"jpeg\", \"jpeg,\", \"judicial\", \"justice,\", \"karabakh\", \"kent\", \"key,\", \"key,\", \"key,\", \"key.\", \"key.\", \"keys\", \"keys\", \"keys\", \"keys,\", \"keys.\", \"killed\", \"killed\", \"killed\", \"kingman\", \"kings\", \"klute\", \"know\", \"know\", \"know\", \"know\", \"know\", \"kurdish\", \"kurds\", \"lacking\", \"last\", \"last\", \"last\", \"last\", \"latin\", \"launch\", \"launched\", \"law,\", \"law,\", \"law.\", \"law.\", \"law.\", \"league\", \"league\", \"learn\", \"left\", \"left\", \"left\", \"legal\", \"legal\", \"lens\", \"libraries.\", \"library\", \"library\", \"library,\", \"life\", \"like\", \"like\", \"like\", \"like\", \"like\", \"line\", \"line\", \"line\", \"line\", \"line\", \"lines\", \"lines\", \"lines\", \"lines\", \"liquid\", \"list\", \"list\", \"list\", \"list\", \"list\", \"live\", \"looking\", \"looking\", \"looking\", \"looking\", \"loop\", \"lost.\", \"louis\", \"louis,\", \"love\", \"lunar\", \"made\", \"made\", \"made\", \"made\", \"mail\", \"mail\", \"mailing\", \"mailing\", \"maine\", \"mainstream\", \"make\", \"make\", \"make\", \"make\", \"make\", \"manager\", \"manager\", \"manager\", \"manhattan\", \"many\", \"many\", \"many\", \"mars\", \"massacre\", \"massacres\", \"massacres\", \"math.\", \"matthew,\", \"max>'ax>'ax>'ax>'ax>'ax>'ax>'ax>'ax>'ax>'ax>'ax>'ax>'ax>'ax>'\", \"maybe.\", \"mean\", \"measurement\", \"memory\", \"memory\", \"memory\", \"menu\", \"messiah\", \"metal\", \"metal\", \"methanol\", \"mexico\", \"might\", \"might\", \"might\", \"might\", \"might\", \"miles\", \"miles\", \"millen\", \"million\", \"million\", \"million\", \"minnesota\", \"mint\", \"minus\", \"mission\", \"mission\", \"missions\", \"modem\", \"modem\", \"moncton\", \"monitor\", \"moon\", \"moon\", \"moral\", \"moral\", \"morality\", \"motherboard\", \"motif\", \"motif\", \"mozumder\", \"mpeg\", \"much\", \"much\", \"much\", \"much\", \"much\", \"murdering\", \"murphy\", \"murphy\", \"muslim\", \"muslim\", \"muslims\", \"muslims\", \"muslims\", \"must\", \"must\", \"must\", \"must\", \"must\", \"must\", \"n3jxp\", \"nail\", \"name\", \"name\", \"name\", \"name\", \"nasa\", \"nationality\", \"navigation\", \"near\", \"near\", \"near\", \"near\", \"near\", \"need\", \"need\", \"need\", \"need\", \"need\", \"need\", \"neither\", \"nerve\", \"nervous\", \"neutral\", \"neutral\", \"neutral\", \"neutral\", \"neutral.\", \"never\", \"never\", \"never\", \"newsletter\", \"next\", \"next\", \"next\", \"next\", \"next\", \"nolan\", \"nords\", \"normally,\", \"norton\", \"nothing\", \"nothing\", \"nothing\", \"nubus\", \"nuclear\", \"nuclear\", \"nuclear\", \"number\", \"number\", \"number\", \"number\", \"object,\", \"objective\", \"objective\", \"offense,\", \"offer.\", \"office)\", \"open\", \"open\", \"open\", \"open\", \"openwindows\", \"orbit\", \"orbit.\", \"orbital\", \"osf/motif\", \"ottoman\", \"outlets\", \"output\", \"output\", \"overtime\", \"ozone\", \"p.o.\", \"package\", \"package\", \"page\", \"page\", \"page\", \"pain,\", \"part\", \"part\", \"part\", \"part\", \"part\", \"part?\", \"password\", \"paul\", \"paul\", \"paul\", \"paul\", \"pentium\", \"people\", \"people\", \"people.\", \"perhaps\", \"perhaps\", \"perhaps\", \"period\", \"period\", \"period\", \"period\", \"period\", \"person\", \"person\", \"person\", \"persons,\", \"philadelphia\", \"philadelphia,\", \"philadelphia,\", \"phillies\", \"phone\", \"phone\", \"phone\", \"phone\", \"pick\", \"pick\", \"pick\", \"picture\", \"picture\", \"picture\", \"picture\", \"pipes\", \"pitched\", \"pitched\", \"pitcher\", \"pitching\", \"pittsburgh\", \"pittsburgh\", \"pixel\", \"pixmap\", \"plaintext\", \"planes\", \"planes\", \"planetary\", \"plants\", \"play\", \"play\", \"play\", \"play:\", \"played\", \"played\", \"player\", \"player\", \"player.\", \"players\", \"please\", \"please\", \"please\", \"please\", \"point\", \"point\", \"point\", \"point\", \"police\", \"police\", \"poor,\", \"population\", \"population\", \"port\", \"port\", \"port\", \"port\", \"possible?\", \"postscript\", \"potential.\", \"power\", \"power\", \"power\", \"power\", \"power\", \"prediction\", \"prescription\", \"present.\", \"presentations\", \"presentations\", \"president's\", \"price\", \"price\", \"price\", \"price\", \"price\", \"price:\", \"pricing\", \"print,\", \"printer\", \"privacy\", \"privacy\", \"privacy,\", \"private\", \"private\", \"private\", \"probe\", \"probes\", \"problem\", \"problem\", \"problem\", \"problem\", \"proceedings,\", \"proceeds\", \"processing\", \"processor.\", \"professor\", \"professor\", \"program\", \"program\", \"program\", \"program\", \"program?\", \"programs\", \"programs\", \"programs\", \"programs\", \"projected\", \"prompt\", \"propoganda\", \"propulsion\", \"protect\", \"protect\", \"protect\", \"protein\", \"protestant\", \"protestants\", \"proves\", \"providence\", \"public\", \"public\", \"public\", \"puck\", \"quantities\", \"quantum\", \"quantum\", \"queens\", \"question\", \"question\", \"question\", \"rainer\", \"rather\", \"rather\", \"rather\", \"rather\", \"read\", \"read\", \"read\", \"read\", \"reality\", \"reality\", \"reality\", \"reality\", \"really\", \"really\", \"really\", \"really\", \"reason\", \"reason\", \"redesign\", \"reds\", \"registration\", \"regulated\", \"relay\", \"religion\", \"religions.\", \"religious\", \"religious\", \"requests\", \"requests\", \"requests\", \"research\", \"research\", \"research\", \"resembles\", \"resources,\", \"resources.\", \"restaurants\", \"retail\", \"return.\", \"revenues\", \"reviewed\", \"ribbon\", \"right\", \"right\", \"right\", \"right\", \"ripem\", \"ripped\", \"rochester\", \"rochester\", \"rocket\", \"rocket\", \"rockwell\", \"rockwell\", \"rosicrucian\", \"rs/6000\", \"running\", \"running\", \"running\", \"running\", \"running\", \"russian\", \"russian\", \"russian\", \"sabbath\", \"said\", \"said\", \"saint\", \"saint\", \"salary\", \"sale.\", \"sank\", \"sat,\", \"satan,\", \"satellite\", \"satellites\", \"saturn\", \"saves\", \"saying\", \"saying\", \"schism\", \"schism\", \"scholarly\", \"scholars\", \"science\", \"science\", \"science\", \"science\", \"score\", \"scored\", \"scorer\", \"scoring.\", \"scoring.\", \"script\", \"scsi\", \"scsi-1\", \"scsi-2\", \"sea.\", \"seal\", \"season\", \"season.\", \"second\", \"second\", \"second\", \"second\", \"second\", \"second\", \"secret\", \"secret\", \"section.\", \"section.\", \"secular\", \"secular,\", \"secure\", \"security\", \"security\", \"security\", \"sega\", \"seminar\", \"send\", \"send\", \"send\", \"send\", \"sentences\", \"sentra\", \"serdar\", \"serial\", \"serial\", \"serious\", \"server\", \"server\", \"shack\", \"shade\", \"shall\", \"shameful\", \"shanahan\", \"shock.\", \"shots\", \"shuttle\", \"signals.\", \"simm\", \"simms\", \"since\", \"since\", \"since\", \"since\", \"since\", \"sites\", \"size\", \"size\", \"size\", \"size\", \"size\", \"skip\", \"smokeless\", \"snapped\", \"so).\", \"software\", \"software\", \"solar\", \"solar\", \"soldiers\", \"soldiers\", \"soldiers\", \"something\", \"something\", \"something\", \"something\", \"sony\", \"soon.\\\"\", \"sound\", \"sound\", \"source\", \"source\", \"source\", \"source:\", \"source:\", \"space\", \"space\", \"space\", \"spacecraft\", \"spacecraft\", \"sparc\", \"speed\", \"speed\", \"speed\", \"spiderman\", \"sports\", \"springfield\", \"st506/st412\", \"stainless\", \"started\", \"started\", \"started\", \"state\", \"state\", \"state\", \"state\", \"stated\", \"station\", \"station\", \"station\", \"station\", \"stats\", \"stats.\", \"stay,\", \"steam\", \"steer\", \"still\", \"still\", \"still\", \"still\", \"still\", \"stream\", \"stream\", \"strikes\", \"strong\", \"strong\", \"strong\", \"structural\", \"subject:\", \"subject:\", \"subject:\", \"suck\", \"summaries\", \"summaries\", \"sunos\", \"surrender\", \"surrender\", \"surrounding\", \"survivors\", \"suter\", \"sweden\", \"sweden\", \"syndrome\", \"syndrome\", \"system\", \"system\", \"system\", \"system\", \"system\", \"system\", \"systems\", \"systems\", \"systems\", \"systems\", \"take\", \"take\", \"take\", \"take\", \"take\", \"taken\", \"tape\", \"tape\", \"tape\", \"taurus\", \"taurus\", \"teacher\", \"team\", \"team\", \"teams\", \"technical\", \"technical\", \"technical\", \"technical\", \"technology\", \"technology\", \"technology\", \"telecommunications\", \"telescope\", \"temperature\", \"temperature\", \"temporarily\", \"testament.\", \"texas.\", \"thanks\", \"thanks\", \"thanks\", \"thanks\", \"thanks\", \"that's\", \"that's\", \"that.\", \"that.\", \"them.\\\"\", \"then?\", \"theory\", \"theory\", \"theory\", \"things\", \"things\", \"things\", \"things\", \"think\", \"think\", \"think\", \"third\", \"third\", \"third\", \"third\", \"third\", \"third.\", \"three\", \"three\", \"three\", \"three\", \"three\", \"thursday,\", \"tigers\", \"time\", \"time\", \"time\", \"time\", \"time\", \"titan\", \"todd\", \"tomb\", \"too?\", \"took\", \"took\", \"toronto\", \"total:\", \"tract\", \"transformer\", \"translations\", \"trends\", \"truth\", \"turkey\", \"turkey,\", \"turkish\", \"turks\", \"turks.\", \"twin\", \"tyranny\", \"u.s.\", \"u.s.\", \"u.s.\", \"ultraviolet\", \"understand\", \"understand\", \"universe\", \"universe\", \"university\", \"university\", \"university\", \"university\", \"university\", \"university\", \"unto\", \"updated\", \"upgrade\", \"upgrading\", \"upload\", \"used\", \"used\", \"used\", \"used\", \"used\", \"used\", \"users\", \"users\", \"users\", \"using\", \"using\", \"using\", \"using\", \"using\", \"utica\", \"uucp:\", \"uucp:\", \"uuencode\", \"values\", \"values\", \"values\", \"values\", \"vehicle\", \"vehicle\", \"vehicle\", \"venus\", \"verdict\", \"vernon\", \"version\", \"version\", \"version\", \"version\", \"vesa\", \"video\", \"video\", \"video\", \"videotape\", \"villages\", \"villages\", \"violating\", \"voltage\", \"volts\", \"w4wg\", \"wales\", \"walls\", \"want\", \"want\", \"want\", \"want\", \"want\", \"warfare\", \"warning:\", \"warranty.\", \"water\", \"water\", \"water\", \"went\", \"went\", \"widget\", \"williams,\", \"window\", \"window\", \"windows\", \"windows\", \"windows\", \"windows.\", \"winfield\", \"winning\", \"winnipeg,\", \"wire\", \"wiring\", \"wont\", \"wordperfect\", \"work\", \"work\", \"work\", \"work\", \"work\", \"would\", \"would\", \"would\", \"would\", \"would\", \"would\", \"write\", \"write\", \"write\", \"x-soviet\", \"x11r4\", \"x11r5\", \"xlib\", \"xterm\", \"yassin\", \"yassin,\", \"year\", \"year\", \"year\", \"year\", \"year\", \"year\", \"year,\", \"year,\", \"year,\", \"year.\", \"year.\", \"year.\", \"yeast\", \"you,\", \"zionism\"]}, \"R\": 30, \"lambda.step\": 0.01, \"plot.opts\": {\"xlab\": \"PC1\", \"ylab\": \"PC2\"}, \"topic.order\": [17, 4, 19, 11, 15, 6, 14, 12, 8, 9, 2, 5, 3, 13, 20, 7, 10, 16, 1, 18]};\n",
              "\n",
              "function LDAvis_load_lib(url, callback){\n",
              "  var s = document.createElement('script');\n",
              "  s.src = url;\n",
              "  s.async = true;\n",
              "  s.onreadystatechange = s.onload = callback;\n",
              "  s.onerror = function(){console.warn(\"failed to load library \" + url);};\n",
              "  document.getElementsByTagName(\"head\")[0].appendChild(s);\n",
              "}\n",
              "\n",
              "if(typeof(LDAvis) !== \"undefined\"){\n",
              "   // already loaded: just create the visualization\n",
              "   !function(LDAvis){\n",
              "       new LDAvis(\"#\" + \"ldavis_el4231360748931502409049486455\", ldavis_el4231360748931502409049486455_data);\n",
              "   }(LDAvis);\n",
              "}else if(typeof define === \"function\" && define.amd){\n",
              "   // require.js is available: use it to load d3/LDAvis\n",
              "   require.config({paths: {d3: \"https://d3js.org/d3.v5\"}});\n",
              "   require([\"d3\"], function(d3){\n",
              "      window.d3 = d3;\n",
              "      LDAvis_load_lib(\"https://cdn.jsdelivr.net/gh/bmabey/pyLDAvis@3.4.0/pyLDAvis/js/ldavis.v3.0.0.js\", function(){\n",
              "        new LDAvis(\"#\" + \"ldavis_el4231360748931502409049486455\", ldavis_el4231360748931502409049486455_data);\n",
              "      });\n",
              "    });\n",
              "}else{\n",
              "    // require.js not available: dynamically load d3 & LDAvis\n",
              "    LDAvis_load_lib(\"https://d3js.org/d3.v5.js\", function(){\n",
              "         LDAvis_load_lib(\"https://cdn.jsdelivr.net/gh/bmabey/pyLDAvis@3.4.0/pyLDAvis/js/ldavis.v3.0.0.js\", function(){\n",
              "                 new LDAvis(\"#\" + \"ldavis_el4231360748931502409049486455\", ldavis_el4231360748931502409049486455_data);\n",
              "            })\n",
              "         });\n",
              "}\n",
              "</script>"
            ]
          },
          "metadata": {},
          "execution_count": 50
        }
      ]
    },
    {
      "cell_type": "markdown",
      "source": [
        "- 문서 별 토픽 분포 보기"
      ],
      "metadata": {
        "id": "ARWlLKqPAbJZ"
      }
    },
    {
      "cell_type": "code",
      "source": [
        "len(ldamodel[corpus])"
      ],
      "metadata": {
        "id": "wQ2fQdl8rPtB",
        "colab": {
          "base_uri": "https://localhost:8080/"
        },
        "outputId": "64ae257d-7df2-46e8-c428-bb9b8d351d78"
      },
      "execution_count": null,
      "outputs": [
        {
          "output_type": "stream",
          "name": "stderr",
          "text": [
            "/usr/local/lib/python3.10/dist-packages/ipykernel/ipkernel.py:283: DeprecationWarning: `should_run_async` will not call `transform_cell` automatically in the future. Please pass the result to `transformed_cell` argument and any exception that happen during thetransform in `preprocessing_exc_tuple` in IPython 7.17 and above.\n",
            "  and should_run_async(code)\n"
          ]
        },
        {
          "output_type": "execute_result",
          "data": {
            "text/plain": [
              "11314"
            ]
          },
          "metadata": {},
          "execution_count": 51
        }
      ]
    },
    {
      "cell_type": "code",
      "source": [
        "ldamodel[corpus][0]"
      ],
      "metadata": {
        "id": "3xaeu2Ajro6N",
        "colab": {
          "base_uri": "https://localhost:8080/"
        },
        "outputId": "776a5e2e-9331-470b-9bec-beabc948ce72"
      },
      "execution_count": null,
      "outputs": [
        {
          "output_type": "stream",
          "name": "stderr",
          "text": [
            "/usr/local/lib/python3.10/dist-packages/ipykernel/ipkernel.py:283: DeprecationWarning: `should_run_async` will not call `transform_cell` automatically in the future. Please pass the result to `transformed_cell` argument and any exception that happen during thetransform in `preprocessing_exc_tuple` in IPython 7.17 and above.\n",
            "  and should_run_async(code)\n"
          ]
        },
        {
          "output_type": "execute_result",
          "data": {
            "text/plain": [
              "[(5, 0.20522818), (16, 0.779749)]"
            ]
          },
          "metadata": {},
          "execution_count": 52
        }
      ]
    },
    {
      "cell_type": "code",
      "source": [
        "for i, topic_list in enumerate(ldamodel[corpus]):\n",
        "    if i==10:\n",
        "        break\n",
        "    print(i,'번째 문서의 topic 비율은',topic_list)"
      ],
      "metadata": {
        "id": "C2z0uU5CAZOn",
        "colab": {
          "base_uri": "https://localhost:8080/"
        },
        "outputId": "6ddede90-1256-4d2e-98f8-af0c63f08d24"
      },
      "execution_count": null,
      "outputs": [
        {
          "output_type": "stream",
          "name": "stdout",
          "text": [
            "0 번째 문서의 topic 비율은 [(5, 0.20522884), (16, 0.7797484)]\n",
            "1 번째 문서의 topic 비율은 [(10, 0.05543333), (13, 0.20755973), (16, 0.6920698), (19, 0.025384733)]\n",
            "2 번째 문서의 topic 비율은 [(5, 0.11836882), (11, 0.033888083), (16, 0.77676886), (18, 0.057805218)]\n",
            "3 번째 문서의 topic 비율은 [(5, 0.1429419), (15, 0.013489912), (16, 0.82471246)]\n",
            "4 번째 문서의 topic 비율은 [(4, 0.038360164), (8, 0.27964765), (16, 0.36280733), (18, 0.28949928)]\n",
            "5 번째 문서의 topic 비율은 [(6, 0.14448866), (13, 0.19603781), (16, 0.61889374)]\n",
            "6 번째 문서의 topic 비율은 [(3, 0.12556998), (4, 0.015841184), (7, 0.047695015), (9, 0.08914241), (10, 0.25483128), (14, 0.10089577), (16, 0.3435696), (19, 0.014193248)]\n",
            "7 번째 문서의 topic 비율은 [(2, 0.05197061), (7, 0.17809449), (16, 0.73152304), (18, 0.025036125)]\n",
            "8 번째 문서의 topic 비율은 [(16, 0.9741167)]\n",
            "9 번째 문서의 topic 비율은 [(5, 0.07202798), (7, 0.0637253), (10, 0.32191142), (16, 0.45912537), (18, 0.07214334)]\n"
          ]
        },
        {
          "output_type": "stream",
          "name": "stderr",
          "text": [
            "/usr/local/lib/python3.10/dist-packages/ipykernel/ipkernel.py:283: DeprecationWarning: `should_run_async` will not call `transform_cell` automatically in the future. Please pass the result to `transformed_cell` argument and any exception that happen during thetransform in `preprocessing_exc_tuple` in IPython 7.17 and above.\n",
            "  and should_run_async(code)\n"
          ]
        }
      ]
    },
    {
      "cell_type": "code",
      "source": [
        "doc = ldamodel[corpus][0]\n",
        "doc = sorted(doc, key=lambda x: (x[1]), reverse=True) # topic ratio value 값으로 정렬\n",
        "doc"
      ],
      "metadata": {
        "id": "w_QSEjdHumtg",
        "colab": {
          "base_uri": "https://localhost:8080/"
        },
        "outputId": "cb7949a0-32f0-4ab1-f928-f93ca453b53c"
      },
      "execution_count": null,
      "outputs": [
        {
          "output_type": "stream",
          "name": "stderr",
          "text": [
            "/usr/local/lib/python3.10/dist-packages/ipykernel/ipkernel.py:283: DeprecationWarning: `should_run_async` will not call `transform_cell` automatically in the future. Please pass the result to `transformed_cell` argument and any exception that happen during thetransform in `preprocessing_exc_tuple` in IPython 7.17 and above.\n",
            "  and should_run_async(code)\n"
          ]
        },
        {
          "output_type": "execute_result",
          "data": {
            "text/plain": [
              "[(16, 0.7797484), (5, 0.20522882)]"
            ]
          },
          "metadata": {},
          "execution_count": 55
        }
      ]
    },
    {
      "cell_type": "code",
      "source": [
        "def make_topictable_per_doc(ldamodel, corpus):\n",
        "    topic_table = pd.DataFrame()\n",
        "\n",
        "    # 몇 번째 문서인지를 의미하는 문서 번호와 해당 문서의 토픽 비중을 한 줄씩 꺼내온다.\n",
        "    for i, topic_list in enumerate(ldamodel[corpus]):\n",
        "        doc = topic_list[0] if ldamodel.per_word_topics else topic_list\n",
        "        doc = sorted(doc, key=lambda x: (x[1]), reverse=True)\n",
        "        # 각 문서에 대해서 비중이 높은 토픽순으로 토픽을 정렬한다.\n",
        "        # EX) 정렬 전 0번 문서 : (2번 토픽, 48.5%), (8번 토픽, 25%), (10번 토픽, 5%), (12번 토픽, 21.5%),\n",
        "        # Ex) 정렬 후 0번 문서 : (2번 토픽, 48.5%), (8번 토픽, 25%), (12번 토픽, 21.5%), (10번 토픽, 5%)\n",
        "        # 48 > 25 > 21 > 5 순으로 정렬이 된 것.\n",
        "\n",
        "        # 모든 문서에 대해서 각각 아래를 수행\n",
        "        for j, (topic_num, prop_topic) in enumerate(doc): #  몇 번 토픽인지와 비중을 나눠서 저장한다.\n",
        "            if j == 0:  # 정렬을 한 상태이므로 가장 앞에 있는 것이 가장 비중이 높은 토픽\n",
        "                # topic_table = topic_table.append(pd.Series([int(topic_num), round(prop_topic,4), topic_list]), ignore_index=True)\n",
        "                new_data = pd.Series([int(topic_num), round(prop_topic,4), topic_list])\n",
        "                # print(new_data)\n",
        "                topic_table = pd.concat([topic_table, new_data.to_frame().T], ignore_index=True)\n",
        "                # 가장 비중이 높은 토픽과, 가장 비중이 높은 토픽의 비중과, 전체 토픽의 비중을 저장한다.\n",
        "            else:\n",
        "                break\n",
        "        # break\n",
        "    return(topic_table)"
      ],
      "metadata": {
        "id": "WWyODIC4BHuy",
        "colab": {
          "base_uri": "https://localhost:8080/"
        },
        "outputId": "973829a7-ab23-4265-deaf-02ec865fa5f0"
      },
      "execution_count": null,
      "outputs": [
        {
          "output_type": "stream",
          "name": "stderr",
          "text": [
            "/usr/local/lib/python3.10/dist-packages/ipykernel/ipkernel.py:283: DeprecationWarning: `should_run_async` will not call `transform_cell` automatically in the future. Please pass the result to `transformed_cell` argument and any exception that happen during thetransform in `preprocessing_exc_tuple` in IPython 7.17 and above.\n",
            "  and should_run_async(code)\n"
          ]
        }
      ]
    },
    {
      "cell_type": "code",
      "source": [
        "topictable = make_topictable_per_doc(ldamodel, corpus)\n",
        "topictable.head()"
      ],
      "metadata": {
        "id": "2NDJK_PiBNQo",
        "colab": {
          "base_uri": "https://localhost:8080/",
          "height": 261
        },
        "outputId": "080d3c55-da3d-4ef9-af39-f6908226183e"
      },
      "execution_count": null,
      "outputs": [
        {
          "output_type": "stream",
          "name": "stderr",
          "text": [
            "/usr/local/lib/python3.10/dist-packages/ipykernel/ipkernel.py:283: DeprecationWarning: `should_run_async` will not call `transform_cell` automatically in the future. Please pass the result to `transformed_cell` argument and any exception that happen during thetransform in `preprocessing_exc_tuple` in IPython 7.17 and above.\n",
            "  and should_run_async(code)\n"
          ]
        },
        {
          "output_type": "execute_result",
          "data": {
            "text/plain": [
              "    0       1                                                  2\n",
              "0  16  0.7797                 [(5, 0.20522892), (16, 0.7797483)]\n",
              "1  16  0.6921  [(10, 0.055371534), (13, 0.20755945), (16, 0.6...\n",
              "2  16  0.7768  [(5, 0.11836818), (11, 0.033888057), (16, 0.77...\n",
              "3  16  0.8247  [(5, 0.14294231), (15, 0.013489971), (16, 0.82...\n",
              "4  16  0.3628  [(4, 0.03836017), (8, 0.27964333), (16, 0.3627..."
            ],
            "text/html": [
              "\n",
              "  <div id=\"df-e0db1e06-aa26-4278-b903-cbd363717916\" class=\"colab-df-container\">\n",
              "    <div>\n",
              "<style scoped>\n",
              "    .dataframe tbody tr th:only-of-type {\n",
              "        vertical-align: middle;\n",
              "    }\n",
              "\n",
              "    .dataframe tbody tr th {\n",
              "        vertical-align: top;\n",
              "    }\n",
              "\n",
              "    .dataframe thead th {\n",
              "        text-align: right;\n",
              "    }\n",
              "</style>\n",
              "<table border=\"1\" class=\"dataframe\">\n",
              "  <thead>\n",
              "    <tr style=\"text-align: right;\">\n",
              "      <th></th>\n",
              "      <th>0</th>\n",
              "      <th>1</th>\n",
              "      <th>2</th>\n",
              "    </tr>\n",
              "  </thead>\n",
              "  <tbody>\n",
              "    <tr>\n",
              "      <th>0</th>\n",
              "      <td>16</td>\n",
              "      <td>0.7797</td>\n",
              "      <td>[(5, 0.20522892), (16, 0.7797483)]</td>\n",
              "    </tr>\n",
              "    <tr>\n",
              "      <th>1</th>\n",
              "      <td>16</td>\n",
              "      <td>0.6921</td>\n",
              "      <td>[(10, 0.055371534), (13, 0.20755945), (16, 0.6...</td>\n",
              "    </tr>\n",
              "    <tr>\n",
              "      <th>2</th>\n",
              "      <td>16</td>\n",
              "      <td>0.7768</td>\n",
              "      <td>[(5, 0.11836818), (11, 0.033888057), (16, 0.77...</td>\n",
              "    </tr>\n",
              "    <tr>\n",
              "      <th>3</th>\n",
              "      <td>16</td>\n",
              "      <td>0.8247</td>\n",
              "      <td>[(5, 0.14294231), (15, 0.013489971), (16, 0.82...</td>\n",
              "    </tr>\n",
              "    <tr>\n",
              "      <th>4</th>\n",
              "      <td>16</td>\n",
              "      <td>0.3628</td>\n",
              "      <td>[(4, 0.03836017), (8, 0.27964333), (16, 0.3627...</td>\n",
              "    </tr>\n",
              "  </tbody>\n",
              "</table>\n",
              "</div>\n",
              "    <div class=\"colab-df-buttons\">\n",
              "\n",
              "  <div class=\"colab-df-container\">\n",
              "    <button class=\"colab-df-convert\" onclick=\"convertToInteractive('df-e0db1e06-aa26-4278-b903-cbd363717916')\"\n",
              "            title=\"Convert this dataframe to an interactive table.\"\n",
              "            style=\"display:none;\">\n",
              "\n",
              "  <svg xmlns=\"http://www.w3.org/2000/svg\" height=\"24px\" viewBox=\"0 -960 960 960\">\n",
              "    <path d=\"M120-120v-720h720v720H120Zm60-500h600v-160H180v160Zm220 220h160v-160H400v160Zm0 220h160v-160H400v160ZM180-400h160v-160H180v160Zm440 0h160v-160H620v160ZM180-180h160v-160H180v160Zm440 0h160v-160H620v160Z\"/>\n",
              "  </svg>\n",
              "    </button>\n",
              "\n",
              "  <style>\n",
              "    .colab-df-container {\n",
              "      display:flex;\n",
              "      gap: 12px;\n",
              "    }\n",
              "\n",
              "    .colab-df-convert {\n",
              "      background-color: #E8F0FE;\n",
              "      border: none;\n",
              "      border-radius: 50%;\n",
              "      cursor: pointer;\n",
              "      display: none;\n",
              "      fill: #1967D2;\n",
              "      height: 32px;\n",
              "      padding: 0 0 0 0;\n",
              "      width: 32px;\n",
              "    }\n",
              "\n",
              "    .colab-df-convert:hover {\n",
              "      background-color: #E2EBFA;\n",
              "      box-shadow: 0px 1px 2px rgba(60, 64, 67, 0.3), 0px 1px 3px 1px rgba(60, 64, 67, 0.15);\n",
              "      fill: #174EA6;\n",
              "    }\n",
              "\n",
              "    .colab-df-buttons div {\n",
              "      margin-bottom: 4px;\n",
              "    }\n",
              "\n",
              "    [theme=dark] .colab-df-convert {\n",
              "      background-color: #3B4455;\n",
              "      fill: #D2E3FC;\n",
              "    }\n",
              "\n",
              "    [theme=dark] .colab-df-convert:hover {\n",
              "      background-color: #434B5C;\n",
              "      box-shadow: 0px 1px 3px 1px rgba(0, 0, 0, 0.15);\n",
              "      filter: drop-shadow(0px 1px 2px rgba(0, 0, 0, 0.3));\n",
              "      fill: #FFFFFF;\n",
              "    }\n",
              "  </style>\n",
              "\n",
              "    <script>\n",
              "      const buttonEl =\n",
              "        document.querySelector('#df-e0db1e06-aa26-4278-b903-cbd363717916 button.colab-df-convert');\n",
              "      buttonEl.style.display =\n",
              "        google.colab.kernel.accessAllowed ? 'block' : 'none';\n",
              "\n",
              "      async function convertToInteractive(key) {\n",
              "        const element = document.querySelector('#df-e0db1e06-aa26-4278-b903-cbd363717916');\n",
              "        const dataTable =\n",
              "          await google.colab.kernel.invokeFunction('convertToInteractive',\n",
              "                                                    [key], {});\n",
              "        if (!dataTable) return;\n",
              "\n",
              "        const docLinkHtml = 'Like what you see? Visit the ' +\n",
              "          '<a target=\"_blank\" href=https://colab.research.google.com/notebooks/data_table.ipynb>data table notebook</a>'\n",
              "          + ' to learn more about interactive tables.';\n",
              "        element.innerHTML = '';\n",
              "        dataTable['output_type'] = 'display_data';\n",
              "        await google.colab.output.renderOutput(dataTable, element);\n",
              "        const docLink = document.createElement('div');\n",
              "        docLink.innerHTML = docLinkHtml;\n",
              "        element.appendChild(docLink);\n",
              "      }\n",
              "    </script>\n",
              "  </div>\n",
              "\n",
              "\n",
              "<div id=\"df-4fed6f34-121b-4385-a3ac-b2bf6f912140\">\n",
              "  <button class=\"colab-df-quickchart\" onclick=\"quickchart('df-4fed6f34-121b-4385-a3ac-b2bf6f912140')\"\n",
              "            title=\"Suggest charts\"\n",
              "            style=\"display:none;\">\n",
              "\n",
              "<svg xmlns=\"http://www.w3.org/2000/svg\" height=\"24px\"viewBox=\"0 0 24 24\"\n",
              "     width=\"24px\">\n",
              "    <g>\n",
              "        <path d=\"M19 3H5c-1.1 0-2 .9-2 2v14c0 1.1.9 2 2 2h14c1.1 0 2-.9 2-2V5c0-1.1-.9-2-2-2zM9 17H7v-7h2v7zm4 0h-2V7h2v10zm4 0h-2v-4h2v4z\"/>\n",
              "    </g>\n",
              "</svg>\n",
              "  </button>\n",
              "\n",
              "<style>\n",
              "  .colab-df-quickchart {\n",
              "      --bg-color: #E8F0FE;\n",
              "      --fill-color: #1967D2;\n",
              "      --hover-bg-color: #E2EBFA;\n",
              "      --hover-fill-color: #174EA6;\n",
              "      --disabled-fill-color: #AAA;\n",
              "      --disabled-bg-color: #DDD;\n",
              "  }\n",
              "\n",
              "  [theme=dark] .colab-df-quickchart {\n",
              "      --bg-color: #3B4455;\n",
              "      --fill-color: #D2E3FC;\n",
              "      --hover-bg-color: #434B5C;\n",
              "      --hover-fill-color: #FFFFFF;\n",
              "      --disabled-bg-color: #3B4455;\n",
              "      --disabled-fill-color: #666;\n",
              "  }\n",
              "\n",
              "  .colab-df-quickchart {\n",
              "    background-color: var(--bg-color);\n",
              "    border: none;\n",
              "    border-radius: 50%;\n",
              "    cursor: pointer;\n",
              "    display: none;\n",
              "    fill: var(--fill-color);\n",
              "    height: 32px;\n",
              "    padding: 0;\n",
              "    width: 32px;\n",
              "  }\n",
              "\n",
              "  .colab-df-quickchart:hover {\n",
              "    background-color: var(--hover-bg-color);\n",
              "    box-shadow: 0 1px 2px rgba(60, 64, 67, 0.3), 0 1px 3px 1px rgba(60, 64, 67, 0.15);\n",
              "    fill: var(--button-hover-fill-color);\n",
              "  }\n",
              "\n",
              "  .colab-df-quickchart-complete:disabled,\n",
              "  .colab-df-quickchart-complete:disabled:hover {\n",
              "    background-color: var(--disabled-bg-color);\n",
              "    fill: var(--disabled-fill-color);\n",
              "    box-shadow: none;\n",
              "  }\n",
              "\n",
              "  .colab-df-spinner {\n",
              "    border: 2px solid var(--fill-color);\n",
              "    border-color: transparent;\n",
              "    border-bottom-color: var(--fill-color);\n",
              "    animation:\n",
              "      spin 1s steps(1) infinite;\n",
              "  }\n",
              "\n",
              "  @keyframes spin {\n",
              "    0% {\n",
              "      border-color: transparent;\n",
              "      border-bottom-color: var(--fill-color);\n",
              "      border-left-color: var(--fill-color);\n",
              "    }\n",
              "    20% {\n",
              "      border-color: transparent;\n",
              "      border-left-color: var(--fill-color);\n",
              "      border-top-color: var(--fill-color);\n",
              "    }\n",
              "    30% {\n",
              "      border-color: transparent;\n",
              "      border-left-color: var(--fill-color);\n",
              "      border-top-color: var(--fill-color);\n",
              "      border-right-color: var(--fill-color);\n",
              "    }\n",
              "    40% {\n",
              "      border-color: transparent;\n",
              "      border-right-color: var(--fill-color);\n",
              "      border-top-color: var(--fill-color);\n",
              "    }\n",
              "    60% {\n",
              "      border-color: transparent;\n",
              "      border-right-color: var(--fill-color);\n",
              "    }\n",
              "    80% {\n",
              "      border-color: transparent;\n",
              "      border-right-color: var(--fill-color);\n",
              "      border-bottom-color: var(--fill-color);\n",
              "    }\n",
              "    90% {\n",
              "      border-color: transparent;\n",
              "      border-bottom-color: var(--fill-color);\n",
              "    }\n",
              "  }\n",
              "</style>\n",
              "\n",
              "  <script>\n",
              "    async function quickchart(key) {\n",
              "      const quickchartButtonEl =\n",
              "        document.querySelector('#' + key + ' button');\n",
              "      quickchartButtonEl.disabled = true;  // To prevent multiple clicks.\n",
              "      quickchartButtonEl.classList.add('colab-df-spinner');\n",
              "      try {\n",
              "        const charts = await google.colab.kernel.invokeFunction(\n",
              "            'suggestCharts', [key], {});\n",
              "      } catch (error) {\n",
              "        console.error('Error during call to suggestCharts:', error);\n",
              "      }\n",
              "      quickchartButtonEl.classList.remove('colab-df-spinner');\n",
              "      quickchartButtonEl.classList.add('colab-df-quickchart-complete');\n",
              "    }\n",
              "    (() => {\n",
              "      let quickchartButtonEl =\n",
              "        document.querySelector('#df-4fed6f34-121b-4385-a3ac-b2bf6f912140 button');\n",
              "      quickchartButtonEl.style.display =\n",
              "        google.colab.kernel.accessAllowed ? 'block' : 'none';\n",
              "    })();\n",
              "  </script>\n",
              "</div>\n",
              "\n",
              "    </div>\n",
              "  </div>\n"
            ],
            "application/vnd.google.colaboratory.intrinsic+json": {
              "type": "dataframe",
              "variable_name": "topictable",
              "summary": "{\n  \"name\": \"topictable\",\n  \"rows\": 11314,\n  \"fields\": [\n    {\n      \"column\": 0,\n      \"properties\": {\n        \"dtype\": \"date\",\n        \"min\": 0,\n        \"max\": 19,\n        \"num_unique_values\": 20,\n        \"samples\": [\n          16,\n          17,\n          9\n        ],\n        \"semantic_type\": \"\",\n        \"description\": \"\"\n      }\n    },\n    {\n      \"column\": 1,\n      \"properties\": {\n        \"dtype\": \"date\",\n        \"min\": \"0.05\",\n        \"max\": \"0.9986\",\n        \"num_unique_values\": 5241,\n        \"samples\": [\n          \"0.4638\",\n          \"0.6217\",\n          \"0.5299\"\n        ],\n        \"semantic_type\": \"\",\n        \"description\": \"\"\n      }\n    },\n    {\n      \"column\": 2,\n      \"properties\": {\n        \"dtype\": \"object\",\n        \"semantic_type\": \"\",\n        \"description\": \"\"\n      }\n    }\n  ]\n}"
            }
          },
          "metadata": {},
          "execution_count": 57
        }
      ]
    },
    {
      "cell_type": "code",
      "source": [
        "topictable = topictable.reset_index() # 문서 번호을 의미하는 열(column)로 사용하기 위해서 인덱스 열을 하나 더 만든다.\n",
        "topictable.columns = ['문서 번호', '가장 비중이 높은 토픽', '가장 높은 토픽의 비중', '각 토픽의 비중']\n",
        "topictable[:10]"
      ],
      "metadata": {
        "id": "ednR52hmzWwT",
        "colab": {
          "base_uri": "https://localhost:8080/",
          "height": 418
        },
        "outputId": "88decbcb-72aa-4d54-b75a-b2a447f99c4b"
      },
      "execution_count": null,
      "outputs": [
        {
          "output_type": "stream",
          "name": "stderr",
          "text": [
            "/usr/local/lib/python3.10/dist-packages/ipykernel/ipkernel.py:283: DeprecationWarning: `should_run_async` will not call `transform_cell` automatically in the future. Please pass the result to `transformed_cell` argument and any exception that happen during thetransform in `preprocessing_exc_tuple` in IPython 7.17 and above.\n",
            "  and should_run_async(code)\n"
          ]
        },
        {
          "output_type": "execute_result",
          "data": {
            "text/plain": [
              "   문서 번호 가장 비중이 높은 토픽 가장 높은 토픽의 비중  \\\n",
              "0      0           16       0.7797   \n",
              "1      1           16       0.6921   \n",
              "2      2           16       0.7768   \n",
              "3      3           16       0.8247   \n",
              "4      4           16       0.3628   \n",
              "5      5           16       0.6189   \n",
              "6      6           16       0.3436   \n",
              "7      7           16       0.7315   \n",
              "8      8           16       0.9741   \n",
              "9      9           16       0.4591   \n",
              "\n",
              "                                            각 토픽의 비중  \n",
              "0                 [(5, 0.20522892), (16, 0.7797483)]  \n",
              "1  [(10, 0.055371534), (13, 0.20755945), (16, 0.6...  \n",
              "2  [(5, 0.11836818), (11, 0.033888057), (16, 0.77...  \n",
              "3  [(5, 0.14294231), (15, 0.013489971), (16, 0.82...  \n",
              "4  [(4, 0.03836017), (8, 0.27964333), (16, 0.3627...  \n",
              "5  [(6, 0.14448866), (13, 0.1960342), (16, 0.6188...  \n",
              "6  [(3, 0.12556094), (4, 0.015841002), (7, 0.0476...  \n",
              "7  [(2, 0.051970553), (7, 0.17809683), (16, 0.731...  \n",
              "8                                  [(16, 0.9741167)]  \n",
              "9  [(5, 0.07203038), (7, 0.06372519), (10, 0.3219...  "
            ],
            "text/html": [
              "\n",
              "  <div id=\"df-e919a492-e37a-410e-8320-fdfde683b547\" class=\"colab-df-container\">\n",
              "    <div>\n",
              "<style scoped>\n",
              "    .dataframe tbody tr th:only-of-type {\n",
              "        vertical-align: middle;\n",
              "    }\n",
              "\n",
              "    .dataframe tbody tr th {\n",
              "        vertical-align: top;\n",
              "    }\n",
              "\n",
              "    .dataframe thead th {\n",
              "        text-align: right;\n",
              "    }\n",
              "</style>\n",
              "<table border=\"1\" class=\"dataframe\">\n",
              "  <thead>\n",
              "    <tr style=\"text-align: right;\">\n",
              "      <th></th>\n",
              "      <th>문서 번호</th>\n",
              "      <th>가장 비중이 높은 토픽</th>\n",
              "      <th>가장 높은 토픽의 비중</th>\n",
              "      <th>각 토픽의 비중</th>\n",
              "    </tr>\n",
              "  </thead>\n",
              "  <tbody>\n",
              "    <tr>\n",
              "      <th>0</th>\n",
              "      <td>0</td>\n",
              "      <td>16</td>\n",
              "      <td>0.7797</td>\n",
              "      <td>[(5, 0.20522892), (16, 0.7797483)]</td>\n",
              "    </tr>\n",
              "    <tr>\n",
              "      <th>1</th>\n",
              "      <td>1</td>\n",
              "      <td>16</td>\n",
              "      <td>0.6921</td>\n",
              "      <td>[(10, 0.055371534), (13, 0.20755945), (16, 0.6...</td>\n",
              "    </tr>\n",
              "    <tr>\n",
              "      <th>2</th>\n",
              "      <td>2</td>\n",
              "      <td>16</td>\n",
              "      <td>0.7768</td>\n",
              "      <td>[(5, 0.11836818), (11, 0.033888057), (16, 0.77...</td>\n",
              "    </tr>\n",
              "    <tr>\n",
              "      <th>3</th>\n",
              "      <td>3</td>\n",
              "      <td>16</td>\n",
              "      <td>0.8247</td>\n",
              "      <td>[(5, 0.14294231), (15, 0.013489971), (16, 0.82...</td>\n",
              "    </tr>\n",
              "    <tr>\n",
              "      <th>4</th>\n",
              "      <td>4</td>\n",
              "      <td>16</td>\n",
              "      <td>0.3628</td>\n",
              "      <td>[(4, 0.03836017), (8, 0.27964333), (16, 0.3627...</td>\n",
              "    </tr>\n",
              "    <tr>\n",
              "      <th>5</th>\n",
              "      <td>5</td>\n",
              "      <td>16</td>\n",
              "      <td>0.6189</td>\n",
              "      <td>[(6, 0.14448866), (13, 0.1960342), (16, 0.6188...</td>\n",
              "    </tr>\n",
              "    <tr>\n",
              "      <th>6</th>\n",
              "      <td>6</td>\n",
              "      <td>16</td>\n",
              "      <td>0.3436</td>\n",
              "      <td>[(3, 0.12556094), (4, 0.015841002), (7, 0.0476...</td>\n",
              "    </tr>\n",
              "    <tr>\n",
              "      <th>7</th>\n",
              "      <td>7</td>\n",
              "      <td>16</td>\n",
              "      <td>0.7315</td>\n",
              "      <td>[(2, 0.051970553), (7, 0.17809683), (16, 0.731...</td>\n",
              "    </tr>\n",
              "    <tr>\n",
              "      <th>8</th>\n",
              "      <td>8</td>\n",
              "      <td>16</td>\n",
              "      <td>0.9741</td>\n",
              "      <td>[(16, 0.9741167)]</td>\n",
              "    </tr>\n",
              "    <tr>\n",
              "      <th>9</th>\n",
              "      <td>9</td>\n",
              "      <td>16</td>\n",
              "      <td>0.4591</td>\n",
              "      <td>[(5, 0.07203038), (7, 0.06372519), (10, 0.3219...</td>\n",
              "    </tr>\n",
              "  </tbody>\n",
              "</table>\n",
              "</div>\n",
              "    <div class=\"colab-df-buttons\">\n",
              "\n",
              "  <div class=\"colab-df-container\">\n",
              "    <button class=\"colab-df-convert\" onclick=\"convertToInteractive('df-e919a492-e37a-410e-8320-fdfde683b547')\"\n",
              "            title=\"Convert this dataframe to an interactive table.\"\n",
              "            style=\"display:none;\">\n",
              "\n",
              "  <svg xmlns=\"http://www.w3.org/2000/svg\" height=\"24px\" viewBox=\"0 -960 960 960\">\n",
              "    <path d=\"M120-120v-720h720v720H120Zm60-500h600v-160H180v160Zm220 220h160v-160H400v160Zm0 220h160v-160H400v160ZM180-400h160v-160H180v160Zm440 0h160v-160H620v160ZM180-180h160v-160H180v160Zm440 0h160v-160H620v160Z\"/>\n",
              "  </svg>\n",
              "    </button>\n",
              "\n",
              "  <style>\n",
              "    .colab-df-container {\n",
              "      display:flex;\n",
              "      gap: 12px;\n",
              "    }\n",
              "\n",
              "    .colab-df-convert {\n",
              "      background-color: #E8F0FE;\n",
              "      border: none;\n",
              "      border-radius: 50%;\n",
              "      cursor: pointer;\n",
              "      display: none;\n",
              "      fill: #1967D2;\n",
              "      height: 32px;\n",
              "      padding: 0 0 0 0;\n",
              "      width: 32px;\n",
              "    }\n",
              "\n",
              "    .colab-df-convert:hover {\n",
              "      background-color: #E2EBFA;\n",
              "      box-shadow: 0px 1px 2px rgba(60, 64, 67, 0.3), 0px 1px 3px 1px rgba(60, 64, 67, 0.15);\n",
              "      fill: #174EA6;\n",
              "    }\n",
              "\n",
              "    .colab-df-buttons div {\n",
              "      margin-bottom: 4px;\n",
              "    }\n",
              "\n",
              "    [theme=dark] .colab-df-convert {\n",
              "      background-color: #3B4455;\n",
              "      fill: #D2E3FC;\n",
              "    }\n",
              "\n",
              "    [theme=dark] .colab-df-convert:hover {\n",
              "      background-color: #434B5C;\n",
              "      box-shadow: 0px 1px 3px 1px rgba(0, 0, 0, 0.15);\n",
              "      filter: drop-shadow(0px 1px 2px rgba(0, 0, 0, 0.3));\n",
              "      fill: #FFFFFF;\n",
              "    }\n",
              "  </style>\n",
              "\n",
              "    <script>\n",
              "      const buttonEl =\n",
              "        document.querySelector('#df-e919a492-e37a-410e-8320-fdfde683b547 button.colab-df-convert');\n",
              "      buttonEl.style.display =\n",
              "        google.colab.kernel.accessAllowed ? 'block' : 'none';\n",
              "\n",
              "      async function convertToInteractive(key) {\n",
              "        const element = document.querySelector('#df-e919a492-e37a-410e-8320-fdfde683b547');\n",
              "        const dataTable =\n",
              "          await google.colab.kernel.invokeFunction('convertToInteractive',\n",
              "                                                    [key], {});\n",
              "        if (!dataTable) return;\n",
              "\n",
              "        const docLinkHtml = 'Like what you see? Visit the ' +\n",
              "          '<a target=\"_blank\" href=https://colab.research.google.com/notebooks/data_table.ipynb>data table notebook</a>'\n",
              "          + ' to learn more about interactive tables.';\n",
              "        element.innerHTML = '';\n",
              "        dataTable['output_type'] = 'display_data';\n",
              "        await google.colab.output.renderOutput(dataTable, element);\n",
              "        const docLink = document.createElement('div');\n",
              "        docLink.innerHTML = docLinkHtml;\n",
              "        element.appendChild(docLink);\n",
              "      }\n",
              "    </script>\n",
              "  </div>\n",
              "\n",
              "\n",
              "<div id=\"df-391abdec-2062-46ad-9b66-0895d8347a95\">\n",
              "  <button class=\"colab-df-quickchart\" onclick=\"quickchart('df-391abdec-2062-46ad-9b66-0895d8347a95')\"\n",
              "            title=\"Suggest charts\"\n",
              "            style=\"display:none;\">\n",
              "\n",
              "<svg xmlns=\"http://www.w3.org/2000/svg\" height=\"24px\"viewBox=\"0 0 24 24\"\n",
              "     width=\"24px\">\n",
              "    <g>\n",
              "        <path d=\"M19 3H5c-1.1 0-2 .9-2 2v14c0 1.1.9 2 2 2h14c1.1 0 2-.9 2-2V5c0-1.1-.9-2-2-2zM9 17H7v-7h2v7zm4 0h-2V7h2v10zm4 0h-2v-4h2v4z\"/>\n",
              "    </g>\n",
              "</svg>\n",
              "  </button>\n",
              "\n",
              "<style>\n",
              "  .colab-df-quickchart {\n",
              "      --bg-color: #E8F0FE;\n",
              "      --fill-color: #1967D2;\n",
              "      --hover-bg-color: #E2EBFA;\n",
              "      --hover-fill-color: #174EA6;\n",
              "      --disabled-fill-color: #AAA;\n",
              "      --disabled-bg-color: #DDD;\n",
              "  }\n",
              "\n",
              "  [theme=dark] .colab-df-quickchart {\n",
              "      --bg-color: #3B4455;\n",
              "      --fill-color: #D2E3FC;\n",
              "      --hover-bg-color: #434B5C;\n",
              "      --hover-fill-color: #FFFFFF;\n",
              "      --disabled-bg-color: #3B4455;\n",
              "      --disabled-fill-color: #666;\n",
              "  }\n",
              "\n",
              "  .colab-df-quickchart {\n",
              "    background-color: var(--bg-color);\n",
              "    border: none;\n",
              "    border-radius: 50%;\n",
              "    cursor: pointer;\n",
              "    display: none;\n",
              "    fill: var(--fill-color);\n",
              "    height: 32px;\n",
              "    padding: 0;\n",
              "    width: 32px;\n",
              "  }\n",
              "\n",
              "  .colab-df-quickchart:hover {\n",
              "    background-color: var(--hover-bg-color);\n",
              "    box-shadow: 0 1px 2px rgba(60, 64, 67, 0.3), 0 1px 3px 1px rgba(60, 64, 67, 0.15);\n",
              "    fill: var(--button-hover-fill-color);\n",
              "  }\n",
              "\n",
              "  .colab-df-quickchart-complete:disabled,\n",
              "  .colab-df-quickchart-complete:disabled:hover {\n",
              "    background-color: var(--disabled-bg-color);\n",
              "    fill: var(--disabled-fill-color);\n",
              "    box-shadow: none;\n",
              "  }\n",
              "\n",
              "  .colab-df-spinner {\n",
              "    border: 2px solid var(--fill-color);\n",
              "    border-color: transparent;\n",
              "    border-bottom-color: var(--fill-color);\n",
              "    animation:\n",
              "      spin 1s steps(1) infinite;\n",
              "  }\n",
              "\n",
              "  @keyframes spin {\n",
              "    0% {\n",
              "      border-color: transparent;\n",
              "      border-bottom-color: var(--fill-color);\n",
              "      border-left-color: var(--fill-color);\n",
              "    }\n",
              "    20% {\n",
              "      border-color: transparent;\n",
              "      border-left-color: var(--fill-color);\n",
              "      border-top-color: var(--fill-color);\n",
              "    }\n",
              "    30% {\n",
              "      border-color: transparent;\n",
              "      border-left-color: var(--fill-color);\n",
              "      border-top-color: var(--fill-color);\n",
              "      border-right-color: var(--fill-color);\n",
              "    }\n",
              "    40% {\n",
              "      border-color: transparent;\n",
              "      border-right-color: var(--fill-color);\n",
              "      border-top-color: var(--fill-color);\n",
              "    }\n",
              "    60% {\n",
              "      border-color: transparent;\n",
              "      border-right-color: var(--fill-color);\n",
              "    }\n",
              "    80% {\n",
              "      border-color: transparent;\n",
              "      border-right-color: var(--fill-color);\n",
              "      border-bottom-color: var(--fill-color);\n",
              "    }\n",
              "    90% {\n",
              "      border-color: transparent;\n",
              "      border-bottom-color: var(--fill-color);\n",
              "    }\n",
              "  }\n",
              "</style>\n",
              "\n",
              "  <script>\n",
              "    async function quickchart(key) {\n",
              "      const quickchartButtonEl =\n",
              "        document.querySelector('#' + key + ' button');\n",
              "      quickchartButtonEl.disabled = true;  // To prevent multiple clicks.\n",
              "      quickchartButtonEl.classList.add('colab-df-spinner');\n",
              "      try {\n",
              "        const charts = await google.colab.kernel.invokeFunction(\n",
              "            'suggestCharts', [key], {});\n",
              "      } catch (error) {\n",
              "        console.error('Error during call to suggestCharts:', error);\n",
              "      }\n",
              "      quickchartButtonEl.classList.remove('colab-df-spinner');\n",
              "      quickchartButtonEl.classList.add('colab-df-quickchart-complete');\n",
              "    }\n",
              "    (() => {\n",
              "      let quickchartButtonEl =\n",
              "        document.querySelector('#df-391abdec-2062-46ad-9b66-0895d8347a95 button');\n",
              "      quickchartButtonEl.style.display =\n",
              "        google.colab.kernel.accessAllowed ? 'block' : 'none';\n",
              "    })();\n",
              "  </script>\n",
              "</div>\n",
              "\n",
              "    </div>\n",
              "  </div>\n"
            ],
            "application/vnd.google.colaboratory.intrinsic+json": {
              "type": "dataframe",
              "summary": "{\n  \"name\": \"topictable[:10]\",\n  \"rows\": 10,\n  \"fields\": [\n    {\n      \"column\": \"\\ubb38\\uc11c \\ubc88\\ud638\",\n      \"properties\": {\n        \"dtype\": \"number\",\n        \"std\": 3,\n        \"min\": 0,\n        \"max\": 9,\n        \"num_unique_values\": 10,\n        \"samples\": [\n          8,\n          1,\n          5\n        ],\n        \"semantic_type\": \"\",\n        \"description\": \"\"\n      }\n    },\n    {\n      \"column\": \"\\uac00\\uc7a5 \\ube44\\uc911\\uc774 \\ub192\\uc740 \\ud1a0\\ud53d\",\n      \"properties\": {\n        \"dtype\": \"date\",\n        \"min\": 16,\n        \"max\": 16,\n        \"num_unique_values\": 1,\n        \"samples\": [\n          16\n        ],\n        \"semantic_type\": \"\",\n        \"description\": \"\"\n      }\n    },\n    {\n      \"column\": \"\\uac00\\uc7a5 \\ub192\\uc740 \\ud1a0\\ud53d\\uc758 \\ube44\\uc911\",\n      \"properties\": {\n        \"dtype\": \"date\",\n        \"min\": \"0.3436\",\n        \"max\": \"0.9741\",\n        \"num_unique_values\": 10,\n        \"samples\": [\n          \"0.9741\"\n        ],\n        \"semantic_type\": \"\",\n        \"description\": \"\"\n      }\n    },\n    {\n      \"column\": \"\\uac01 \\ud1a0\\ud53d\\uc758 \\ube44\\uc911\",\n      \"properties\": {\n        \"dtype\": \"object\",\n        \"semantic_type\": \"\",\n        \"description\": \"\"\n      }\n    }\n  ]\n}"
            }
          },
          "metadata": {},
          "execution_count": 58
        }
      ]
    },
    {
      "cell_type": "markdown",
      "source": [
        "## Sklearn LDA - 한국말 예제"
      ],
      "metadata": {
        "id": "zcGptCJfxvGO"
      }
    },
    {
      "cell_type": "code",
      "source": [
        "!pip install konlpy"
      ],
      "metadata": {
        "id": "YCR2yPYMyGb0",
        "colab": {
          "base_uri": "https://localhost:8080/"
        },
        "outputId": "c6c2214b-c361-432d-80b1-12c4fc3ecb3c"
      },
      "execution_count": null,
      "outputs": [
        {
          "output_type": "stream",
          "name": "stderr",
          "text": [
            "/usr/local/lib/python3.10/dist-packages/ipykernel/ipkernel.py:283: DeprecationWarning: `should_run_async` will not call `transform_cell` automatically in the future. Please pass the result to `transformed_cell` argument and any exception that happen during thetransform in `preprocessing_exc_tuple` in IPython 7.17 and above.\n",
            "  and should_run_async(code)\n"
          ]
        },
        {
          "output_type": "stream",
          "name": "stdout",
          "text": [
            "Collecting konlpy\n",
            "  Downloading konlpy-0.6.0-py2.py3-none-any.whl (19.4 MB)\n",
            "\u001b[2K     \u001b[90m━━━━━━━━━━━━━━━━━━━━━━━━━━━━━━━━━━━━━━━━\u001b[0m \u001b[32m19.4/19.4 MB\u001b[0m \u001b[31m35.4 MB/s\u001b[0m eta \u001b[36m0:00:00\u001b[0m\n",
            "\u001b[?25hCollecting JPype1>=0.7.0 (from konlpy)\n",
            "  Downloading JPype1-1.5.0-cp310-cp310-manylinux_2_17_x86_64.manylinux2014_x86_64.whl (488 kB)\n",
            "\u001b[2K     \u001b[90m━━━━━━━━━━━━━━━━━━━━━━━━━━━━━━━━━━━━━━━━\u001b[0m \u001b[32m488.6/488.6 kB\u001b[0m \u001b[31m35.8 MB/s\u001b[0m eta \u001b[36m0:00:00\u001b[0m\n",
            "\u001b[?25hRequirement already satisfied: lxml>=4.1.0 in /usr/local/lib/python3.10/dist-packages (from konlpy) (4.9.4)\n",
            "Requirement already satisfied: numpy>=1.6 in /usr/local/lib/python3.10/dist-packages (from konlpy) (1.25.2)\n",
            "Requirement already satisfied: packaging in /usr/local/lib/python3.10/dist-packages (from JPype1>=0.7.0->konlpy) (24.1)\n",
            "Installing collected packages: JPype1, konlpy\n",
            "Successfully installed JPype1-1.5.0 konlpy-0.6.0\n"
          ]
        }
      ]
    },
    {
      "cell_type": "code",
      "source": [
        "import konlpy\n",
        "import numpy as np\n",
        "import pandas as pd\n",
        "import sklearn\n",
        "from sklearn.feature_extraction.text import CountVectorizer\n",
        "from sklearn.decomposition import LatentDirichletAllocation\n",
        "from konlpy.tag import Okt"
      ],
      "metadata": {
        "id": "qcpp7MrWyQs2",
        "colab": {
          "base_uri": "https://localhost:8080/"
        },
        "outputId": "d8603ff2-01b0-4903-a7ed-37a52575f72f"
      },
      "execution_count": null,
      "outputs": [
        {
          "output_type": "stream",
          "name": "stderr",
          "text": [
            "/usr/local/lib/python3.10/dist-packages/ipykernel/ipkernel.py:283: DeprecationWarning: `should_run_async` will not call `transform_cell` automatically in the future. Please pass the result to `transformed_cell` argument and any exception that happen during thetransform in `preprocessing_exc_tuple` in IPython 7.17 and above.\n",
            "  and should_run_async(code)\n"
          ]
        }
      ]
    },
    {
      "cell_type": "code",
      "metadata": {
        "id": "ARdial6_xvGP",
        "colab": {
          "base_uri": "https://localhost:8080/"
        },
        "outputId": "20a0efe8-4927-412e-89cc-1f95bd57a4cb"
      },
      "source": [
        "list_doc = [\"나는 학교에 갑니다.\",\n",
        "      \"우리는 학교에서 공부를 합니다.\",\n",
        "      \"학교에서는 운동도 합니다.\",\n",
        "      \"지금은 골프하기에 아주 좋은 날씨입니다.\",\n",
        "      \"축구를 학교에서 시청하기도 합니다.\",\n",
        "      \"공부를 열시히 해서 좋은 데이터 엔지니어가 될 것입니다.\",\n",
        "      \"학교에서는 많은 친구를 사귑니다.\"]\n",
        "\n",
        "okt = Okt()\n",
        "results = []\n",
        "for line in list_doc:\n",
        "    word_list = okt.pos(line, norm=True, stem=True)\n",
        "    words = []\n",
        "    for word in word_list:\n",
        "        if not word[1] in [\"Josa\", \"eomi\", \"Punctuation\", \"Verb\"]:\n",
        "            words.append(word[0])\n",
        "    words = (\" \".join(words)).strip()\n",
        "    results.append(words)\n"
      ],
      "execution_count": null,
      "outputs": [
        {
          "output_type": "stream",
          "name": "stderr",
          "text": [
            "/usr/local/lib/python3.10/dist-packages/ipykernel/ipkernel.py:283: DeprecationWarning: `should_run_async` will not call `transform_cell` automatically in the future. Please pass the result to `transformed_cell` argument and any exception that happen during thetransform in `preprocessing_exc_tuple` in IPython 7.17 and above.\n",
            "  and should_run_async(code)\n"
          ]
        }
      ]
    },
    {
      "cell_type": "code",
      "source": [
        "results"
      ],
      "metadata": {
        "id": "jArHacpsyaXM",
        "colab": {
          "base_uri": "https://localhost:8080/"
        },
        "outputId": "73af983d-272a-48fb-b489-5e57432c5561"
      },
      "execution_count": null,
      "outputs": [
        {
          "output_type": "stream",
          "name": "stderr",
          "text": [
            "/usr/local/lib/python3.10/dist-packages/ipykernel/ipkernel.py:283: DeprecationWarning: `should_run_async` will not call `transform_cell` automatically in the future. Please pass the result to `transformed_cell` argument and any exception that happen during thetransform in `preprocessing_exc_tuple` in IPython 7.17 and above.\n",
            "  and should_run_async(code)\n"
          ]
        },
        {
          "output_type": "execute_result",
          "data": {
            "text/plain": [
              "['나 학교',\n",
              " '우리 학교 공부',\n",
              " '학교 운동',\n",
              " '지금 골프 아주 좋다 날씨 이다',\n",
              " '축구 학교 시청',\n",
              " '공부 좋다 데이터 엔지니어 것 이다',\n",
              " '학교 많다 친구']"
            ]
          },
          "metadata": {},
          "execution_count": 110
        }
      ]
    },
    {
      "cell_type": "code",
      "metadata": {
        "id": "ftOe9f8GxvGQ",
        "colab": {
          "base_uri": "https://localhost:8080/"
        },
        "outputId": "f8168352-b527-4411-9eaa-c492af56b881"
      },
      "source": [
        "vect = CountVectorizer(max_features=10)\n",
        "X = vect.fit_transform(results)\n",
        "\n",
        "lda = LatentDirichletAllocation(n_components=5, learning_method=\"batch\",\n",
        "                                max_iter=25, random_state=0)\n",
        "\n",
        "document_topics = lda.fit_transform(X)"
      ],
      "execution_count": null,
      "outputs": [
        {
          "output_type": "stream",
          "name": "stderr",
          "text": [
            "/usr/local/lib/python3.10/dist-packages/ipykernel/ipkernel.py:283: DeprecationWarning: `should_run_async` will not call `transform_cell` automatically in the future. Please pass the result to `transformed_cell` argument and any exception that happen during thetransform in `preprocessing_exc_tuple` in IPython 7.17 and above.\n",
            "  and should_run_async(code)\n"
          ]
        }
      ]
    },
    {
      "cell_type": "code",
      "metadata": {
        "id": "VIDV5tSgxvGR",
        "colab": {
          "base_uri": "https://localhost:8080/"
        },
        "outputId": "29d7955e-7890-49b5-d023-e199bf53d9de"
      },
      "source": [
        "X.toarray().shape        # no_documents x no_words"
      ],
      "execution_count": null,
      "outputs": [
        {
          "output_type": "stream",
          "name": "stderr",
          "text": [
            "/usr/local/lib/python3.10/dist-packages/ipykernel/ipkernel.py:283: DeprecationWarning: `should_run_async` will not call `transform_cell` automatically in the future. Please pass the result to `transformed_cell` argument and any exception that happen during thetransform in `preprocessing_exc_tuple` in IPython 7.17 and above.\n",
            "  and should_run_async(code)\n"
          ]
        },
        {
          "output_type": "execute_result",
          "data": {
            "text/plain": [
              "(7, 10)"
            ]
          },
          "metadata": {},
          "execution_count": 112
        }
      ]
    },
    {
      "cell_type": "code",
      "source": [
        " document_topics.shape   # no_documents x no_topics"
      ],
      "metadata": {
        "id": "Zed156ZkxvGS",
        "colab": {
          "base_uri": "https://localhost:8080/"
        },
        "outputId": "cc59a58d-a86b-4b7b-cd98-477963a13720"
      },
      "execution_count": null,
      "outputs": [
        {
          "output_type": "stream",
          "name": "stderr",
          "text": [
            "/usr/local/lib/python3.10/dist-packages/ipykernel/ipkernel.py:283: DeprecationWarning: `should_run_async` will not call `transform_cell` automatically in the future. Please pass the result to `transformed_cell` argument and any exception that happen during thetransform in `preprocessing_exc_tuple` in IPython 7.17 and above.\n",
            "  and should_run_async(code)\n"
          ]
        },
        {
          "output_type": "execute_result",
          "data": {
            "text/plain": [
              "(7, 5)"
            ]
          },
          "metadata": {},
          "execution_count": 113
        }
      ]
    },
    {
      "cell_type": "code",
      "source": [
        "lda.components_.shape    # no_topics x no_words"
      ],
      "metadata": {
        "id": "FXFgwCX3xvGS",
        "colab": {
          "base_uri": "https://localhost:8080/"
        },
        "outputId": "03b2ff9d-c10a-4c7a-ee64-2fe062cdc696"
      },
      "execution_count": null,
      "outputs": [
        {
          "output_type": "stream",
          "name": "stderr",
          "text": [
            "/usr/local/lib/python3.10/dist-packages/ipykernel/ipkernel.py:283: DeprecationWarning: `should_run_async` will not call `transform_cell` automatically in the future. Please pass the result to `transformed_cell` argument and any exception that happen during thetransform in `preprocessing_exc_tuple` in IPython 7.17 and above.\n",
            "  and should_run_async(code)\n"
          ]
        },
        {
          "output_type": "execute_result",
          "data": {
            "text/plain": [
              "(5, 10)"
            ]
          },
          "metadata": {},
          "execution_count": 114
        }
      ]
    },
    {
      "cell_type": "code",
      "metadata": {
        "id": "l6gUqwBAxvGT",
        "colab": {
          "base_uri": "https://localhost:8080/"
        },
        "outputId": "339316f5-6a52-4310-ba72-454f34e80d8f"
      },
      "source": [
        "lda.components_.round(2)    # no of topics x number of words"
      ],
      "execution_count": null,
      "outputs": [
        {
          "output_type": "stream",
          "name": "stderr",
          "text": [
            "/usr/local/lib/python3.10/dist-packages/ipykernel/ipkernel.py:283: DeprecationWarning: `should_run_async` will not call `transform_cell` automatically in the future. Please pass the result to `transformed_cell` argument and any exception that happen during thetransform in `preprocessing_exc_tuple` in IPython 7.17 and above.\n",
            "  and should_run_async(code)\n"
          ]
        },
        {
          "output_type": "execute_result",
          "data": {
            "text/plain": [
              "array([[1.2, 0.2, 1.2, 0.2, 0.2, 0.2, 1.2, 1.2, 1.2, 0.2],\n",
              "       [0.2, 0.2, 0.2, 0.2, 1.2, 0.2, 0.2, 0.2, 0.2, 1.2],\n",
              "       [0.2, 1.2, 0.2, 0.2, 0.2, 0.2, 0.2, 0.2, 0.2, 3.2],\n",
              "       [0.2, 1.2, 0.2, 1.2, 0.2, 0.2, 0.2, 1.2, 1.2, 0.2],\n",
              "       [0.2, 0.2, 0.2, 0.2, 0.2, 1.2, 0.2, 0.2, 0.2, 1.2]])"
            ]
          },
          "metadata": {},
          "execution_count": 115
        }
      ]
    },
    {
      "cell_type": "code",
      "metadata": {
        "id": "U6D8yUY0xvGU",
        "colab": {
          "base_uri": "https://localhost:8080/"
        },
        "outputId": "6e0f706d-4263-487e-89ef-5cebf64b1741"
      },
      "source": [
        "feature_names = np.array(vect.get_feature_names_out())\n",
        "N=7\n",
        "for i in range(0, lda.components_.shape[0]):\n",
        "    print (\"topic {}:\".format(i))\n",
        "    topic_idx = lda.components_.argsort(axis=1)[:,::-1][i]\n",
        "    print(topic_idx)\n",
        "    topic_words = [topic_idx[j] for j in range(0,N)]\n",
        "    print (feature_names[topic_words])"
      ],
      "execution_count": null,
      "outputs": [
        {
          "output_type": "stream",
          "name": "stdout",
          "text": [
            "topic 0:\n",
            "[6 2 0 8 7 9 1 4 5 3]\n",
            "['아주' '날씨' '골프' '좋다' '이다' '학교' '공부']\n",
            "topic 1:\n",
            "[4 9 1 8 7 5 3 6 2 0]\n",
            "['많다' '학교' '공부' '좋다' '이다' '시청' '데이터']\n",
            "topic 2:\n",
            "[9 1 8 7 4 5 3 6 2 0]\n",
            "['학교' '공부' '좋다' '이다' '많다' '시청' '데이터']\n",
            "topic 3:\n",
            "[1 8 7 3 9 4 5 6 2 0]\n",
            "['공부' '좋다' '이다' '데이터' '학교' '많다' '시청']\n",
            "topic 4:\n",
            "[5 9 1 8 7 4 3 6 2 0]\n",
            "['시청' '학교' '공부' '좋다' '이다' '많다' '데이터']\n"
          ]
        },
        {
          "output_type": "stream",
          "name": "stderr",
          "text": [
            "/usr/local/lib/python3.10/dist-packages/ipykernel/ipkernel.py:283: DeprecationWarning: `should_run_async` will not call `transform_cell` automatically in the future. Please pass the result to `transformed_cell` argument and any exception that happen during thetransform in `preprocessing_exc_tuple` in IPython 7.17 and above.\n",
            "  and should_run_async(code)\n"
          ]
        }
      ]
    },
    {
      "cell_type": "code",
      "metadata": {
        "id": "3wsx49RTxvGV",
        "colab": {
          "base_uri": "https://localhost:8080/",
          "height": 502
        },
        "outputId": "ef9d6c53-4005-493e-b9ee-e566f15512de"
      },
      "source": [
        "import matplotlib.pyplot as plt\n",
        "plt.bar(np.arange(5), np.sum(document_topics, axis=0), width=0.5)"
      ],
      "execution_count": null,
      "outputs": [
        {
          "output_type": "stream",
          "name": "stderr",
          "text": [
            "/usr/local/lib/python3.10/dist-packages/ipykernel/ipkernel.py:283: DeprecationWarning: `should_run_async` will not call `transform_cell` automatically in the future. Please pass the result to `transformed_cell` argument and any exception that happen during thetransform in `preprocessing_exc_tuple` in IPython 7.17 and above.\n",
            "  and should_run_async(code)\n"
          ]
        },
        {
          "output_type": "execute_result",
          "data": {
            "text/plain": [
              "<BarContainer object of 5 artists>"
            ]
          },
          "metadata": {},
          "execution_count": 117
        },
        {
          "output_type": "display_data",
          "data": {
            "text/plain": [
              "<Figure size 640x480 with 1 Axes>"
            ],
            "image/png": "[encoded data removed]"
          },
          "metadata": {}
        }
      ]
    },
    {
      "cell_type": "markdown",
      "metadata": {
        "id": "3BsFbov-mYgH"
      },
      "source": [
        "## Sklearn LDA - 한국말 예제\n",
        "- 한국어 기사 예제\n",
        "- 주어진 문서의 주제(카테고리)를 구분 - 비지도 학습\n",
        "- 빅카인즈 뉴스기사 데이터 활용(https://www.bigkinds.or.kr/)\n",
        "- LDA(Latent Dirichlet Allocation) 사용하여 관련된 단어나 문서의 집합을 찾는다. 관련성이 높은 단어들이 발생하면 같은 토픽으로 분류.\n",
        "- 각 문서들의 토픽들이 디리클레 분포를 따른다고 가정.\n",
        "- 문서마다 토픽이 어떻게 분포되어 있는지, 그리고 토픽마다 단어의 분포가 어떻게 되어 있는지 파악, 토픽에 따라 단어의 분포를 결정하고 그 중 가장 확률이 높은 단어를 선택.\n",
        "- LDA:\n",
        "  - 말뭉치로부터 대표적인 토픽 선정\n",
        "  - 해당 토픽으로부터 단어들을 뽑아 문서를 생성\n"
      ]
    },
    {
      "cell_type": "code",
      "metadata": {
        "id": "jwLxNFThoTc9",
        "colab": {
          "base_uri": "https://localhost:8080/"
        },
        "outputId": "43ab2221-ec01-42cc-c74c-5b8cd419f81b"
      },
      "source": [
        "!pip install konlpy"
      ],
      "execution_count": null,
      "outputs": [
        {
          "output_type": "stream",
          "name": "stderr",
          "text": [
            "/usr/local/lib/python3.10/dist-packages/ipykernel/ipkernel.py:283: DeprecationWarning: `should_run_async` will not call `transform_cell` automatically in the future. Please pass the result to `transformed_cell` argument and any exception that happen during thetransform in `preprocessing_exc_tuple` in IPython 7.17 and above.\n",
            "  and should_run_async(code)\n"
          ]
        },
        {
          "output_type": "stream",
          "name": "stdout",
          "text": [
            "Requirement already satisfied: konlpy in /usr/local/lib/python3.10/dist-packages (0.6.0)\n",
            "Requirement already satisfied: JPype1>=0.7.0 in /usr/local/lib/python3.10/dist-packages (from konlpy) (1.5.0)\n",
            "Requirement already satisfied: lxml>=4.1.0 in /usr/local/lib/python3.10/dist-packages (from konlpy) (4.9.4)\n",
            "Requirement already satisfied: numpy>=1.6 in /usr/local/lib/python3.10/dist-packages (from konlpy) (1.25.2)\n",
            "Requirement already satisfied: packaging in /usr/local/lib/python3.10/dist-packages (from JPype1>=0.7.0->konlpy) (24.1)\n"
          ]
        }
      ]
    },
    {
      "cell_type": "code",
      "metadata": {
        "id": "RAKKV201mYgJ",
        "colab": {
          "base_uri": "https://localhost:8080/"
        },
        "outputId": "e1328100-7245-497b-f012-a4ec81d73856"
      },
      "source": [
        "import konlpy\n",
        "import numpy as np\n",
        "import pandas as pd\n",
        "import sklearn\n",
        "from sklearn.feature_extraction.text import CountVectorizer\n",
        "from sklearn.decomposition import LatentDirichletAllocation\n",
        "from konlpy.tag import Okt"
      ],
      "execution_count": null,
      "outputs": [
        {
          "output_type": "stream",
          "name": "stderr",
          "text": [
            "/usr/local/lib/python3.10/dist-packages/ipykernel/ipkernel.py:283: DeprecationWarning: `should_run_async` will not call `transform_cell` automatically in the future. Please pass the result to `transformed_cell` argument and any exception that happen during thetransform in `preprocessing_exc_tuple` in IPython 7.17 and above.\n",
            "  and should_run_async(code)\n"
          ]
        }
      ]
    },
    {
      "cell_type": "code",
      "metadata": {
        "id": "ohsJ-x4nnakl",
        "scrolled": true,
        "colab": {
          "base_uri": "https://localhost:8080/"
        },
        "outputId": "648f0c92-262f-43cd-aa00-600ef3930b83"
      },
      "source": [
        "!wget https://bit.ly/2QA9xhg -O news_1500.xlsx"
      ],
      "execution_count": null,
      "outputs": [
        {
          "output_type": "stream",
          "name": "stderr",
          "text": [
            "/usr/local/lib/python3.10/dist-packages/ipykernel/ipkernel.py:283: DeprecationWarning: `should_run_async` will not call `transform_cell` automatically in the future. Please pass the result to `transformed_cell` argument and any exception that happen during thetransform in `preprocessing_exc_tuple` in IPython 7.17 and above.\n",
            "  and should_run_async(code)\n"
          ]
        },
        {
          "output_type": "stream",
          "name": "stdout",
          "text": [
            "--2024-07-11 15:44:39--  https://bit.ly/2QA9xhg\n",
            "Resolving bit.ly (bit.ly)... 67.199.248.11, 67.199.248.10\n",
            "Connecting to bit.ly (bit.ly)|67.199.248.11|:443... connected.\n",
            "HTTP request sent, awaiting response... 301 Moved Permanently\n",
            "Location: https://www.dropbox.com/s/yj1gxuy0hkjwjpu/news_1500.xlsx [following]\n",
            "--2024-07-11 15:44:39--  https://www.dropbox.com/s/yj1gxuy0hkjwjpu/news_1500.xlsx\n",
            "Resolving www.dropbox.com (www.dropbox.com)... 162.125.3.18, 2620:100:601d:18::a27d:512\n",
            "Connecting to www.dropbox.com (www.dropbox.com)|162.125.3.18|:443... connected.\n",
            "HTTP request sent, awaiting response... 302 Found\n",
            "Location: https://www.dropbox.com/scl/fi/w1zjnxovu6lrzinc1ld0d/news_1500.xlsx?rlkey=tmxmdpq2x9t6p1opop5rw88wf [following]\n",
            "--2024-07-11 15:44:39--  https://www.dropbox.com/scl/fi/w1zjnxovu6lrzinc1ld0d/news_1500.xlsx?rlkey=tmxmdpq2x9t6p1opop5rw88wf\n",
            "Reusing existing connection to www.dropbox.com:443.\n",
            "HTTP request sent, awaiting response... 302 Found\n",
            "Location: https://uc87f17a84780f31dd1d19a2a87e.dl.dropboxusercontent.com/cd/0/inline/CWhyXgRraEtVcay4Q70vNY0sGo3DJ5G49MO9fK1zCUfseDxcKw_UWqTAssVyGgGNlkn6POL_vl9QPvcO_LPLMvwxSg68e_D9M5ywGUtwA2OvxIUY8IkrA407kiwhUgoFRY4/file# [following]\n",
            "--2024-07-11 15:44:40--  https://uc87f17a84780f31dd1d19a2a87e.dl.dropboxusercontent.com/cd/0/inline/CWhyXgRraEtVcay4Q70vNY0sGo3DJ5G49MO9fK1zCUfseDxcKw_UWqTAssVyGgGNlkn6POL_vl9QPvcO_LPLMvwxSg68e_D9M5ywGUtwA2OvxIUY8IkrA407kiwhUgoFRY4/file\n",
            "Resolving uc87f17a84780f31dd1d19a2a87e.dl.dropboxusercontent.com (uc87f17a84780f31dd1d19a2a87e.dl.dropboxusercontent.com)... 162.125.8.15, 2620:100:6018:15::a27d:30f\n",
            "Connecting to uc87f17a84780f31dd1d19a2a87e.dl.dropboxusercontent.com (uc87f17a84780f31dd1d19a2a87e.dl.dropboxusercontent.com)|162.125.8.15|:443... connected.\n",
            "HTTP request sent, awaiting response... 302 Found\n",
            "Location: /cd/0/inline2/CWjThWzTHIiTQegc0LwUoQ-xaXhmkalrpXEtStSLTf245yaPyUmtASn-bynHZHgM10l3h04-QD2HmPpzGGQRG99Uiygs_c9L7s_iSOzyoEGrSmWCzV_JY0kOejTdhcArcbVPLyhaE02siX_CuRnJKjzpHeNqZkClfwIO-9q49Gk7igcR16NcjlrYVLwH126-ZJ_xqwVEOuAGI4ADS3f9EYBUrkNkPOKfUv_t-znhOCXGuIX-hndjexs2wU57Xjmygi5gu9Xy2IswgsBls-m1ZxEKK5sStLvf2nBJ5o02YkpSPP1PUyDkt3CWKYm5u7sXffaFQVcbD-bYUi0N9j5EJoVzMQfgLCTGhe2k4FSnLfr93A/file [following]\n",
            "--2024-07-11 15:44:40--  https://uc87f17a84780f31dd1d19a2a87e.dl.dropboxusercontent.com/cd/0/inline2/CWjThWzTHIiTQegc0LwUoQ-xaXhmkalrpXEtStSLTf245yaPyUmtASn-bynHZHgM10l3h04-QD2HmPpzGGQRG99Uiygs_c9L7s_iSOzyoEGrSmWCzV_JY0kOejTdhcArcbVPLyhaE02siX_CuRnJKjzpHeNqZkClfwIO-9q49Gk7igcR16NcjlrYVLwH126-ZJ_xqwVEOuAGI4ADS3f9EYBUrkNkPOKfUv_t-znhOCXGuIX-hndjexs2wU57Xjmygi5gu9Xy2IswgsBls-m1ZxEKK5sStLvf2nBJ5o02YkpSPP1PUyDkt3CWKYm5u7sXffaFQVcbD-bYUi0N9j5EJoVzMQfgLCTGhe2k4FSnLfr93A/file\n",
            "Reusing existing connection to uc87f17a84780f31dd1d19a2a87e.dl.dropboxusercontent.com:443.\n",
            "HTTP request sent, awaiting response... 200 OK\n",
            "Length: 316462 (309K) [application/vnd.openxmlformats-officedocument.spreadsheetml.sheet]\n",
            "Saving to: ‘news_1500.xlsx’\n",
            "\n",
            "news_1500.xlsx      100%[===================>] 309.04K  --.-KB/s    in 0.06s   \n",
            "\n",
            "2024-07-11 15:44:41 (4.99 MB/s) - ‘news_1500.xlsx’ saved [316462/316462]\n",
            "\n"
          ]
        }
      ]
    },
    {
      "cell_type": "code",
      "metadata": {
        "id": "NWAqESDNmYgM",
        "colab": {
          "base_uri": "https://localhost:8080/"
        },
        "outputId": "bc57ea3d-1ae9-47d8-b091-178e5a131927"
      },
      "source": [
        "df_train = pd.read_excel('news_1500.xlsx', names=['기사'],\n",
        "                         keep_default_na=False) # no strings parsed as NaN values\n",
        "#Countvectorizer적용을 위해 list로 변환\n",
        "list_train = df_train['기사'].tolist()"
      ],
      "execution_count": null,
      "outputs": [
        {
          "output_type": "stream",
          "name": "stderr",
          "text": [
            "/usr/local/lib/python3.10/dist-packages/ipykernel/ipkernel.py:283: DeprecationWarning: `should_run_async` will not call `transform_cell` automatically in the future. Please pass the result to `transformed_cell` argument and any exception that happen during thetransform in `preprocessing_exc_tuple` in IPython 7.17 and above.\n",
            "  and should_run_async(code)\n"
          ]
        }
      ]
    },
    {
      "cell_type": "code",
      "metadata": {
        "id": "Zmxak2j1_CwW",
        "colab": {
          "base_uri": "https://localhost:8080/",
          "height": 198
        },
        "outputId": "7782c245-a2b9-4637-e944-d69bdc05d53c"
      },
      "source": [
        "df_train.head(3)"
      ],
      "execution_count": null,
      "outputs": [
        {
          "output_type": "stream",
          "name": "stderr",
          "text": [
            "/usr/local/lib/python3.10/dist-packages/ipykernel/ipkernel.py:283: DeprecationWarning: `should_run_async` will not call `transform_cell` automatically in the future. Please pass the result to `transformed_cell` argument and any exception that happen during thetransform in `preprocessing_exc_tuple` in IPython 7.17 and above.\n",
            "  and should_run_async(code)\n"
          ]
        },
        {
          "output_type": "execute_result",
          "data": {
            "text/plain": [
              "                                                  기사\n",
              "0  호주 브리즈번에서 발생한 한국인 워킹홀리데이 참가자 살해범이 같은 한국인 것으로 드...\n",
              "1  호주 경찰이 한국인 워킹홀리데이 참가자를 살해한 혐의로 또 다른 한국인 남성을 기소...\n",
              "2    \\n \\n호주 괴물 가재가 공개돼 네티즌들의 폭발적인 관심을 끌고 있다. \\n ..."
            ],
            "text/html": [
              "\n",
              "  <div id=\"df-af360e08-b82a-4d48-9f8b-8e18ed8aa1f1\" class=\"colab-df-container\">\n",
              "    <div>\n",
              "<style scoped>\n",
              "    .dataframe tbody tr th:only-of-type {\n",
              "        vertical-align: middle;\n",
              "    }\n",
              "\n",
              "    .dataframe tbody tr th {\n",
              "        vertical-align: top;\n",
              "    }\n",
              "\n",
              "    .dataframe thead th {\n",
              "        text-align: right;\n",
              "    }\n",
              "</style>\n",
              "<table border=\"1\" class=\"dataframe\">\n",
              "  <thead>\n",
              "    <tr style=\"text-align: right;\">\n",
              "      <th></th>\n",
              "      <th>기사</th>\n",
              "    </tr>\n",
              "  </thead>\n",
              "  <tbody>\n",
              "    <tr>\n",
              "      <th>0</th>\n",
              "      <td>호주 브리즈번에서 발생한 한국인 워킹홀리데이 참가자 살해범이 같은 한국인 것으로 드...</td>\n",
              "    </tr>\n",
              "    <tr>\n",
              "      <th>1</th>\n",
              "      <td>호주 경찰이 한국인 워킹홀리데이 참가자를 살해한 혐의로 또 다른 한국인 남성을 기소...</td>\n",
              "    </tr>\n",
              "    <tr>\n",
              "      <th>2</th>\n",
              "      <td>\\n \\n호주 괴물 가재가 공개돼 네티즌들의 폭발적인 관심을 끌고 있다. \\n ...</td>\n",
              "    </tr>\n",
              "  </tbody>\n",
              "</table>\n",
              "</div>\n",
              "    <div class=\"colab-df-buttons\">\n",
              "\n",
              "  <div class=\"colab-df-container\">\n",
              "    <button class=\"colab-df-convert\" onclick=\"convertToInteractive('df-af360e08-b82a-4d48-9f8b-8e18ed8aa1f1')\"\n",
              "            title=\"Convert this dataframe to an interactive table.\"\n",
              "            style=\"display:none;\">\n",
              "\n",
              "  <svg xmlns=\"http://www.w3.org/2000/svg\" height=\"24px\" viewBox=\"0 -960 960 960\">\n",
              "    <path d=\"M120-120v-720h720v720H120Zm60-500h600v-160H180v160Zm220 220h160v-160H400v160Zm0 220h160v-160H400v160ZM180-400h160v-160H180v160Zm440 0h160v-160H620v160ZM180-180h160v-160H180v160Zm440 0h160v-160H620v160Z\"/>\n",
              "  </svg>\n",
              "    </button>\n",
              "\n",
              "  <style>\n",
              "    .colab-df-container {\n",
              "      display:flex;\n",
              "      gap: 12px;\n",
              "    }\n",
              "\n",
              "    .colab-df-convert {\n",
              "      background-color: #E8F0FE;\n",
              "      border: none;\n",
              "      border-radius: 50%;\n",
              "      cursor: pointer;\n",
              "      display: none;\n",
              "      fill: #1967D2;\n",
              "      height: 32px;\n",
              "      padding: 0 0 0 0;\n",
              "      width: 32px;\n",
              "    }\n",
              "\n",
              "    .colab-df-convert:hover {\n",
              "      background-color: #E2EBFA;\n",
              "      box-shadow: 0px 1px 2px rgba(60, 64, 67, 0.3), 0px 1px 3px 1px rgba(60, 64, 67, 0.15);\n",
              "      fill: #174EA6;\n",
              "    }\n",
              "\n",
              "    .colab-df-buttons div {\n",
              "      margin-bottom: 4px;\n",
              "    }\n",
              "\n",
              "    [theme=dark] .colab-df-convert {\n",
              "      background-color: #3B4455;\n",
              "      fill: #D2E3FC;\n",
              "    }\n",
              "\n",
              "    [theme=dark] .colab-df-convert:hover {\n",
              "      background-color: #434B5C;\n",
              "      box-shadow: 0px 1px 3px 1px rgba(0, 0, 0, 0.15);\n",
              "      filter: drop-shadow(0px 1px 2px rgba(0, 0, 0, 0.3));\n",
              "      fill: #FFFFFF;\n",
              "    }\n",
              "  </style>\n",
              "\n",
              "    <script>\n",
              "      const buttonEl =\n",
              "        document.querySelector('#df-af360e08-b82a-4d48-9f8b-8e18ed8aa1f1 button.colab-df-convert');\n",
              "      buttonEl.style.display =\n",
              "        google.colab.kernel.accessAllowed ? 'block' : 'none';\n",
              "\n",
              "      async function convertToInteractive(key) {\n",
              "        const element = document.querySelector('#df-af360e08-b82a-4d48-9f8b-8e18ed8aa1f1');\n",
              "        const dataTable =\n",
              "          await google.colab.kernel.invokeFunction('convertToInteractive',\n",
              "                                                    [key], {});\n",
              "        if (!dataTable) return;\n",
              "\n",
              "        const docLinkHtml = 'Like what you see? Visit the ' +\n",
              "          '<a target=\"_blank\" href=https://colab.research.google.com/notebooks/data_table.ipynb>data table notebook</a>'\n",
              "          + ' to learn more about interactive tables.';\n",
              "        element.innerHTML = '';\n",
              "        dataTable['output_type'] = 'display_data';\n",
              "        await google.colab.output.renderOutput(dataTable, element);\n",
              "        const docLink = document.createElement('div');\n",
              "        docLink.innerHTML = docLinkHtml;\n",
              "        element.appendChild(docLink);\n",
              "      }\n",
              "    </script>\n",
              "  </div>\n",
              "\n",
              "\n",
              "<div id=\"df-c22f48cd-044d-4412-b43d-e6172be5312c\">\n",
              "  <button class=\"colab-df-quickchart\" onclick=\"quickchart('df-c22f48cd-044d-4412-b43d-e6172be5312c')\"\n",
              "            title=\"Suggest charts\"\n",
              "            style=\"display:none;\">\n",
              "\n",
              "<svg xmlns=\"http://www.w3.org/2000/svg\" height=\"24px\"viewBox=\"0 0 24 24\"\n",
              "     width=\"24px\">\n",
              "    <g>\n",
              "        <path d=\"M19 3H5c-1.1 0-2 .9-2 2v14c0 1.1.9 2 2 2h14c1.1 0 2-.9 2-2V5c0-1.1-.9-2-2-2zM9 17H7v-7h2v7zm4 0h-2V7h2v10zm4 0h-2v-4h2v4z\"/>\n",
              "    </g>\n",
              "</svg>\n",
              "  </button>\n",
              "\n",
              "<style>\n",
              "  .colab-df-quickchart {\n",
              "      --bg-color: #E8F0FE;\n",
              "      --fill-color: #1967D2;\n",
              "      --hover-bg-color: #E2EBFA;\n",
              "      --hover-fill-color: #174EA6;\n",
              "      --disabled-fill-color: #AAA;\n",
              "      --disabled-bg-color: #DDD;\n",
              "  }\n",
              "\n",
              "  [theme=dark] .colab-df-quickchart {\n",
              "      --bg-color: #3B4455;\n",
              "      --fill-color: #D2E3FC;\n",
              "      --hover-bg-color: #434B5C;\n",
              "      --hover-fill-color: #FFFFFF;\n",
              "      --disabled-bg-color: #3B4455;\n",
              "      --disabled-fill-color: #666;\n",
              "  }\n",
              "\n",
              "  .colab-df-quickchart {\n",
              "    background-color: var(--bg-color);\n",
              "    border: none;\n",
              "    border-radius: 50%;\n",
              "    cursor: pointer;\n",
              "    display: none;\n",
              "    fill: var(--fill-color);\n",
              "    height: 32px;\n",
              "    padding: 0;\n",
              "    width: 32px;\n",
              "  }\n",
              "\n",
              "  .colab-df-quickchart:hover {\n",
              "    background-color: var(--hover-bg-color);\n",
              "    box-shadow: 0 1px 2px rgba(60, 64, 67, 0.3), 0 1px 3px 1px rgba(60, 64, 67, 0.15);\n",
              "    fill: var(--button-hover-fill-color);\n",
              "  }\n",
              "\n",
              "  .colab-df-quickchart-complete:disabled,\n",
              "  .colab-df-quickchart-complete:disabled:hover {\n",
              "    background-color: var(--disabled-bg-color);\n",
              "    fill: var(--disabled-fill-color);\n",
              "    box-shadow: none;\n",
              "  }\n",
              "\n",
              "  .colab-df-spinner {\n",
              "    border: 2px solid var(--fill-color);\n",
              "    border-color: transparent;\n",
              "    border-bottom-color: var(--fill-color);\n",
              "    animation:\n",
              "      spin 1s steps(1) infinite;\n",
              "  }\n",
              "\n",
              "  @keyframes spin {\n",
              "    0% {\n",
              "      border-color: transparent;\n",
              "      border-bottom-color: var(--fill-color);\n",
              "      border-left-color: var(--fill-color);\n",
              "    }\n",
              "    20% {\n",
              "      border-color: transparent;\n",
              "      border-left-color: var(--fill-color);\n",
              "      border-top-color: var(--fill-color);\n",
              "    }\n",
              "    30% {\n",
              "      border-color: transparent;\n",
              "      border-left-color: var(--fill-color);\n",
              "      border-top-color: var(--fill-color);\n",
              "      border-right-color: var(--fill-color);\n",
              "    }\n",
              "    40% {\n",
              "      border-color: transparent;\n",
              "      border-right-color: var(--fill-color);\n",
              "      border-top-color: var(--fill-color);\n",
              "    }\n",
              "    60% {\n",
              "      border-color: transparent;\n",
              "      border-right-color: var(--fill-color);\n",
              "    }\n",
              "    80% {\n",
              "      border-color: transparent;\n",
              "      border-right-color: var(--fill-color);\n",
              "      border-bottom-color: var(--fill-color);\n",
              "    }\n",
              "    90% {\n",
              "      border-color: transparent;\n",
              "      border-bottom-color: var(--fill-color);\n",
              "    }\n",
              "  }\n",
              "</style>\n",
              "\n",
              "  <script>\n",
              "    async function quickchart(key) {\n",
              "      const quickchartButtonEl =\n",
              "        document.querySelector('#' + key + ' button');\n",
              "      quickchartButtonEl.disabled = true;  // To prevent multiple clicks.\n",
              "      quickchartButtonEl.classList.add('colab-df-spinner');\n",
              "      try {\n",
              "        const charts = await google.colab.kernel.invokeFunction(\n",
              "            'suggestCharts', [key], {});\n",
              "      } catch (error) {\n",
              "        console.error('Error during call to suggestCharts:', error);\n",
              "      }\n",
              "      quickchartButtonEl.classList.remove('colab-df-spinner');\n",
              "      quickchartButtonEl.classList.add('colab-df-quickchart-complete');\n",
              "    }\n",
              "    (() => {\n",
              "      let quickchartButtonEl =\n",
              "        document.querySelector('#df-c22f48cd-044d-4412-b43d-e6172be5312c button');\n",
              "      quickchartButtonEl.style.display =\n",
              "        google.colab.kernel.accessAllowed ? 'block' : 'none';\n",
              "    })();\n",
              "  </script>\n",
              "</div>\n",
              "\n",
              "    </div>\n",
              "  </div>\n"
            ],
            "application/vnd.google.colaboratory.intrinsic+json": {
              "type": "dataframe",
              "variable_name": "df_train",
              "summary": "{\n  \"name\": \"df_train\",\n  \"rows\": 1499,\n  \"fields\": [\n    {\n      \"column\": \"\\uae30\\uc0ac\",\n      \"properties\": {\n        \"dtype\": \"string\",\n        \"num_unique_values\": 1459,\n        \"samples\": [\n          \"\\uc560\\ub2c8\\uba54\\uc774\\uc158 \\uc18d \\uc8fc\\uc778\\uacf5\\ub4e4\\uc774 \\uba85\\ud654 \\uc18d\\uc5d0 \\ub4f1\\uc7a5\\ud588\\ub2e4. \\n \\n\\uc0ac\\uc9c4\\uc740 \\ud638\\uc8fc \\ub514\\uc790\\uc778 \\ud074\\ub77c\\uc6b0\\ub4dc\\uac00 \\uc774\\ubbf8\\uc9c0 \\ud3b8\\uc9d1 \\ud234\\uc744 \\uc0ac\\uc6a9\\ud574 \\uba85\\ud654\\uc640 \\ud569\\uc131\\ud574 \\ub9cc\\ub4e4\\uc5c8\\ub2e4. \\n \\n\\uc774\\ub3d9\\uc900 \\uae30\\uc790 blondie@segye.com \\n\\uc0ac\\uc9c4= \\ub514\\uc790\\uc778 \\ud074\\ub77c\\uc6b0\\ub4dc\",\n          \"\\uc720\\ub7fd\\ub0a8\\ubd80\\ucc9c\\ubb38\\ub300(ESO)\\uac00 \\uc9c0\\uae08\\uae4c\\uc9c0 \\ubc1c\\uacac\\ub41c \\uc678\\uacc4\\ud589\\uc131 \\uc911 \\ud0dc\\uc591\\uacfc \\ucd5c\\ub2e8 \\uac70\\ub9ac\\uc778, \\uc9c0\\uad6c\\ub97c \\ub2ee\\uc740 \\uc678\\uacc4\\ud589\\uc131\\uc744 \\uad00\\uce21\\ud588\\ub2e4\\uace0 \\ub3c5\\uc77c \\uc8fc\\uac04\\uc9c0 \\uc288\\ud53c\\uac94\\uc774 13\\uc77c(\\ud604\\uc9c0\\uc2dc\\uac04) \\ubcf4\\ub3c4\\ud588\\ub2e4. \\n \\n\\uc288\\ud53c\\uac94\\uc740 \\uc774\\ub0a0 \\ubc1c\\ub9e4\\ub41c \\ucd5c\\uadfc\\ud638\\uc5d0\\uc11c \\uc544\\uc9c1 \\uc774\\ub984\\uc774 \\ubd99\\uc5ec\\uc9c0\\uc9c0 \\uc54a\\uc740 \\uc774 \\ud589\\uc131\\uc740 \\ud0dc\\uc591\\uc5d0\\uc11c \\uac00\\uc7a5 \\uac00\\uae4c\\uc6b4 \\ud56d\\uc131\\uc778 \\ucf04\\ud0c0\\uc6b0\\ub8e8\\uc2a4 \\ud504\\ub85d\\uc2dc\\ub9c8 \\uc8fc\\uc704\\ub97c \\uacf5\\uc804\\ud558\\uace0 \\uc0dd\\uba85\\uccb4\\uc758 \\uc874\\uc7ac\\uc5d0 \\ud544\\uc218\\uc801\\uc778 \\uc561\\uccb4 \\uc0c1\\ud0dc\\uc758 \\ubb3c\\uc774 \\ud45c\\uba74\\uc5d0 \\uc874\\uc7ac\\ud560..\",\n          \"\\u00a0\\ud55c\\uad6d\\uccad\\uc18c\\ub144\\uc57c\\uad6c\\ub300\\ud45c\\ud300\\uc758 \\uc120\\ubc1c\\ud22c\\uc218 \\uc548\\uaddc\\ud604(\\ub4a4\\ucabd)\\uc774 3\\uc77c \\uc624\\ud6c4 \\ub300\\ub9cc \\ud0c0\\uc774\\uc911\\uc2dc \\ud0c0\\uc774\\uc911\\uad6c\\uc7a5\\uc5d0\\uc11c \\uc5f4\\ub9b0 \\uc81c26\\ud68c \\uc138\\uacc4\\uccad\\uc18c\\ub144\\uc57c\\uad6c\\uc120\\uc218\\uad8c\\ub300\\ud68c \\ud638\\uc8fc\\uc640\\uc758 \\uacbd\\uae30 2\\ud68c\\ucd08 1\\uc0ac \\uc0c1\\ud669 \\ud22c\\uc218 \\uc55e \\ub545\\ubcfc\\uc744 \\uce5c \\ucf54\\ub12c \\ub9e5\\ub3c4\\ub0a0\\ub4dc\\ub97c \\uc544\\uc6c3\\uc2dc\\ud0a4\\ub824 \\uc1a1\\uad6c\\ud558\\uace0 \\uc788\\ub2e4. \\ud0c0\\uc774\\uc911(\\ub300\\ub9cc)= \\uae40\\uc7ac\\uc6d0\\uae30\\uc790 jkim@sportsworldi.com\\u00a0 2013.09.03\\u00a0\"\n        ],\n        \"semantic_type\": \"\",\n        \"description\": \"\"\n      }\n    }\n  ]\n}"
            }
          },
          "metadata": {},
          "execution_count": 122
        }
      ]
    },
    {
      "cell_type": "code",
      "metadata": {
        "id": "F-9QTOBPn0wS",
        "colab": {
          "base_uri": "https://localhost:8080/"
        },
        "outputId": "28cb8a3f-6589-42bb-9430-79e6b967408d"
      },
      "source": [
        "list_train[:5], len(list_train)"
      ],
      "execution_count": null,
      "outputs": [
        {
          "output_type": "stream",
          "name": "stderr",
          "text": [
            "/usr/local/lib/python3.10/dist-packages/ipykernel/ipkernel.py:283: DeprecationWarning: `should_run_async` will not call `transform_cell` automatically in the future. Please pass the result to `transformed_cell` argument and any exception that happen during thetransform in `preprocessing_exc_tuple` in IPython 7.17 and above.\n",
            "  and should_run_async(code)\n"
          ]
        },
        {
          "output_type": "execute_result",
          "data": {
            "text/plain": [
              "(['호주 브리즈번에서 발생한 한국인 워킹홀리데이 참가자 살해범이 같은 한국인 것으로 드라나 충격을 주고 있다. \\n \\n20일 호주 국영 ABC방송은 퀸즐랜드주 경찰이 김모(28)씨를 살해하고 암매장한 혐의로\\xa0한국인 홍모(28)씨를\\xa0체포했다고 보도했다. \\n \\n경찰에 따르면 홍씨는\\xa0지난 16일 오후 브리즈번 캐넌힐에서 1만 5000 호주달러를 원화로 환전해줄 사..',\n",
              "  '호주 경찰이 한국인 워킹홀리데이 참가자를 살해한 혐의로 또 다른 한국인 남성을 기소했다고 호주 언론이 보도했다. \\n \\n퀸즐랜드주 경찰은 20일(현지시간) 금품을 빼앗기 위해 김민태(28)씨를 살해한 혐의로 황모(28)씨를 기소했다고 시드니모닝헤럴드가 보도했다. \\n \\n그는 이날 브리즈번 법원에서 열린 심리에 출석해 기자들로부터 고개를 돌린 채 아래쪽만 쳐..',\n",
              "  '\\xa0 \\n \\n호주 괴물 가재가 공개돼 네티즌들의 폭발적인 관심을 끌고 있다. \\n \\n최근 각종 온라인 커뮤니티 게시판에는 ‘호주 괴물 가재’라는 제목의 사진 한 장이 게재됐다. \\n \\n공개된 사진에는 웬만한 성인 남성 팔 크기와 비슷한 가재의 모습이 담겨 있다. 사진 속 남성도 가재가 무거운지 엉거주춤한 자세를 취하고 있다. 호주에서 잡힌 것으로 알려진 가재의..',\n",
              "  '최근 인기를 끌고 있는 tvN의 드라마 ‘응답하라 1994’가 같은 장면을 내보내고 다른 프로그램의 화면이 나오는 등 방송사고를 냈다. \\n▶ 방송사고 이후 사과 자막이 나오는 tvN ‘응답하라 1994’의 한 장면.20일 밤 10시쯤 드라마 ‘응답하라 1994’가 방송되는 도중에 방송사고가 발생했다. 이날 방송에서 성나정이 호주로 떠났다가 한국으로 돌아..',\n",
              "  '호주 워킹홀리데이 한국인 참가자가 19일 또다시 숨진 채 발견됐다. 지난달 호주에서 한국인 여대생이 무참히 살해된 지 한 달도 지나지 않아 발생한 이번 사건으로 호주 교민사회 및 어학연수 희망자들의 불안감이 커지고 있다. \\n \\n호주 ABC방송 등에 따르면 퀸즐랜드주 경찰은 이날 브리즈번 남서부 앨지스터 한 주택 뒷마당에서 발견된 변사체가 사흘 전 행방불..'],\n",
              " 1499)"
            ]
          },
          "metadata": {},
          "execution_count": 123
        }
      ]
    },
    {
      "cell_type": "code",
      "metadata": {
        "id": "fiT5TWoImYgQ",
        "colab": {
          "base_uri": "https://localhost:8080/"
        },
        "outputId": "8a697a91-9123-4df0-899e-242fd1c31767"
      },
      "source": [
        "okt = Okt()\n",
        "results = []\n",
        "for line in list_train:\n",
        "    word_list = okt.pos(line, norm=True, stem=True)  # part of speech (품사)\n",
        "    words = []\n",
        "    for word in word_list:\n",
        "        if not word[1] in [\"Josa\", \"eomi\", \"Punctuation\", \"Verb\"]:\n",
        "            words.append(word[0])\n",
        "    words = (\" \".join(words)).strip()\n",
        "    results.append(words)"
      ],
      "execution_count": null,
      "outputs": [
        {
          "output_type": "stream",
          "name": "stderr",
          "text": [
            "/usr/local/lib/python3.10/dist-packages/ipykernel/ipkernel.py:283: DeprecationWarning: `should_run_async` will not call `transform_cell` automatically in the future. Please pass the result to `transformed_cell` argument and any exception that happen during thetransform in `preprocessing_exc_tuple` in IPython 7.17 and above.\n",
            "  and should_run_async(code)\n"
          ]
        }
      ]
    },
    {
      "cell_type": "code",
      "metadata": {
        "id": "jNjcdbhL_gYx",
        "colab": {
          "base_uri": "https://localhost:8080/"
        },
        "outputId": "382a0e6b-febf-4b03-ccaf-e8f5d7b39fde"
      },
      "source": [
        "results[:5]"
      ],
      "execution_count": null,
      "outputs": [
        {
          "output_type": "stream",
          "name": "stderr",
          "text": [
            "/usr/local/lib/python3.10/dist-packages/ipykernel/ipkernel.py:283: DeprecationWarning: `should_run_async` will not call `transform_cell` automatically in the future. Please pass the result to `transformed_cell` argument and any exception that happen during thetransform in `preprocessing_exc_tuple` in IPython 7.17 and above.\n",
            "  and should_run_async(code)\n"
          ]
        },
        {
          "output_type": "execute_result",
          "data": {
            "text/plain": [
              "['호주 브리즈번 발생 한국인 워킹홀리데이 참가자 살해 범 같다 한국인 것 드라 충격 있다 20일 호주 국영 ABC 방송 퀸즐랜드 주 경찰 김모 28 씨 살해 암매장 혐의 \\xa0 한국인 홍모 28 씨 \\xa0 체포 보도 경찰 홍씨 \\xa0 지난 16일 오후 브리즈번 캐넌 힐 1만 5000 호주달러 원화로 환전 사',\n",
              " '호주 경찰 한국인 워킹홀리데이 참가자 살해 혐의 또 다른 한국인 남성 기소 호주 언론 보도 퀸즐랜드 주 경찰 20일 현지 시간 금품 위해 김민 태 28 씨 살해 혐의 황모 28 씨 기소 시드니 모닝 헤럴드 보도 그 이 날 브리즈번 법원 심리 출석 기자 들 로부터 고개 채 아래쪽',\n",
              " '호주 괴물 가재 공개 네티즌 들 폭발 적 관심 끌 있다 최근 각종 온라인 커뮤니티 게시판 ‘ 호주 괴물 가재 제목 사진 장이 게재 공개 사진 웬만하다 성인 남성 팔 크기 비슷하다 가재 모습 있다 사진 속 남성 가재 무겁다 엉거주춤 자세 취하 있다 호주 것 가재',\n",
              " '최근 인기 끌 있다 tvN 의 드라마 ‘ 응답 하 1994 같다 장면 다른 프로그램 화면 등 방송사고 ▶ 방송사고 이후 사과 자막 tvN ‘ 응답 하 1994 의 장면 20일 밤 10시 쯤 드라마 ‘ 응답 하 1994 방송 도중 방송사고 발생 이 날 방송 정이 호주 한국',\n",
              " '호주 워킹홀리데이 한국인 참가자 19일 또다시 채 발견 지난달 호주 한국인 여대생 무참 히 살해 달도 발생 이번 사건 호주 교민 사회 및 어학 연수 희망 자 들 불안감 있다 호주 ABC 방송 등 퀸즐랜드 주 경찰 이 날 브리즈번 남 서부 앨 지스 터 주택 뒷마당 발견 변 사체 사흘 전 행방 불']"
            ]
          },
          "metadata": {},
          "execution_count": 125
        }
      ]
    },
    {
      "cell_type": "markdown",
      "source": [
        "- LDA"
      ],
      "metadata": {
        "id": "6Dh1-cSFRoLP"
      }
    },
    {
      "cell_type": "code",
      "metadata": {
        "id": "fOJsf8t2mYgT",
        "colab": {
          "base_uri": "https://localhost:8080/"
        },
        "outputId": "208b3efc-6df7-4dac-f858-9ef7508ac53a"
      },
      "source": [
        "# max_df = 0.50 means \"ignore terms that appear in more than 50% of the documents\".\n",
        "# max_df = 25 means \"ignore terms that appear in more than 25 documents\".\n",
        "\n",
        "vect = CountVectorizer(max_features=10000, max_df=.10)\n",
        "X = vect.fit_transform(results)\n",
        "\n",
        "# n_components: number of topics\n",
        "lda = LatentDirichletAllocation(n_components=10, learning_method=\"batch\",\n",
        "                                max_iter=25, random_state=0)\n",
        "\n",
        "document_topics = lda.fit_transform(X)    # need to fit and transform in sklearn"
      ],
      "execution_count": null,
      "outputs": [
        {
          "output_type": "stream",
          "name": "stderr",
          "text": [
            "/usr/local/lib/python3.10/dist-packages/ipykernel/ipkernel.py:283: DeprecationWarning: `should_run_async` will not call `transform_cell` automatically in the future. Please pass the result to `transformed_cell` argument and any exception that happen during thetransform in `preprocessing_exc_tuple` in IPython 7.17 and above.\n",
            "  and should_run_async(code)\n"
          ]
        }
      ]
    },
    {
      "cell_type": "code",
      "source": [
        "X.shape, document_topics.shape    # no_documents x no_topics"
      ],
      "metadata": {
        "id": "uztqlxIWSC7N",
        "colab": {
          "base_uri": "https://localhost:8080/"
        },
        "outputId": "a6a7b13e-c872-4c5b-81f9-cb5118870204"
      },
      "execution_count": null,
      "outputs": [
        {
          "output_type": "stream",
          "name": "stderr",
          "text": [
            "/usr/local/lib/python3.10/dist-packages/ipykernel/ipkernel.py:283: DeprecationWarning: `should_run_async` will not call `transform_cell` automatically in the future. Please pass the result to `transformed_cell` argument and any exception that happen during thetransform in `preprocessing_exc_tuple` in IPython 7.17 and above.\n",
            "  and should_run_async(code)\n"
          ]
        },
        {
          "output_type": "execute_result",
          "data": {
            "text/plain": [
              "((1499, 10000), (1499, 10))"
            ]
          },
          "metadata": {},
          "execution_count": 127
        }
      ]
    },
    {
      "cell_type": "code",
      "metadata": {
        "id": "ok1qMP4NSTcy",
        "colab": {
          "base_uri": "https://localhost:8080/"
        },
        "outputId": "37653da9-a2a2-47e9-9072-7e20f58d0350"
      },
      "source": [
        "document_topics[0]"
      ],
      "execution_count": null,
      "outputs": [
        {
          "output_type": "stream",
          "name": "stderr",
          "text": [
            "/usr/local/lib/python3.10/dist-packages/ipykernel/ipkernel.py:283: DeprecationWarning: `should_run_async` will not call `transform_cell` automatically in the future. Please pass the result to `transformed_cell` argument and any exception that happen during thetransform in `preprocessing_exc_tuple` in IPython 7.17 and above.\n",
            "  and should_run_async(code)\n"
          ]
        },
        {
          "output_type": "execute_result",
          "data": {
            "text/plain": [
              "array([0.0028581 , 0.00285819, 0.00285742, 0.3137773 , 0.00285793,\n",
              "       0.66336031, 0.00285772, 0.00285763, 0.00285744, 0.00285798])"
            ]
          },
          "metadata": {},
          "execution_count": 128
        }
      ]
    },
    {
      "cell_type": "markdown",
      "metadata": {
        "id": "1yCBOQqP2HOJ"
      },
      "source": [
        "- components_[i, j] can be viewed as pseudocount that represents the number of times (word j was assigned to topic i).\n",
        "-  It can also be viewed as distribution over the words for each topic after normalization:"
      ]
    },
    {
      "cell_type": "code",
      "metadata": {
        "id": "6y4q5t_S6PoQ",
        "colab": {
          "base_uri": "https://localhost:8080/"
        },
        "outputId": "69b1793c-01c2-464f-8219-406839322d5a"
      },
      "source": [
        "lda.components_.shape     # no_topics x no_vocabularies"
      ],
      "execution_count": null,
      "outputs": [
        {
          "output_type": "stream",
          "name": "stderr",
          "text": [
            "/usr/local/lib/python3.10/dist-packages/ipykernel/ipkernel.py:283: DeprecationWarning: `should_run_async` will not call `transform_cell` automatically in the future. Please pass the result to `transformed_cell` argument and any exception that happen during thetransform in `preprocessing_exc_tuple` in IPython 7.17 and above.\n",
            "  and should_run_async(code)\n"
          ]
        },
        {
          "output_type": "execute_result",
          "data": {
            "text/plain": [
              "(10, 10000)"
            ]
          },
          "metadata": {},
          "execution_count": 129
        }
      ]
    },
    {
      "cell_type": "code",
      "metadata": {
        "id": "9CDlvyGlmYgV",
        "colab": {
          "base_uri": "https://localhost:8080/"
        },
        "outputId": "bcf8fb5f-309b-4371-e151-4ed1bd1146e2"
      },
      "source": [
        "lda.components_[0]"
      ],
      "execution_count": null,
      "outputs": [
        {
          "output_type": "stream",
          "name": "stderr",
          "text": [
            "/usr/local/lib/python3.10/dist-packages/ipykernel/ipkernel.py:283: DeprecationWarning: `should_run_async` will not call `transform_cell` automatically in the future. Please pass the result to `transformed_cell` argument and any exception that happen during thetransform in `preprocessing_exc_tuple` in IPython 7.17 and above.\n",
            "  and should_run_async(code)\n"
          ]
        },
        {
          "output_type": "execute_result",
          "data": {
            "text/plain": [
              "array([0.1       , 0.1       , 1.10000029, ..., 0.1       , 0.1       ,\n",
              "       0.1       ])"
            ]
          },
          "metadata": {},
          "execution_count": 130
        }
      ]
    },
    {
      "cell_type": "code",
      "metadata": {
        "id": "W7dVkl142HOK",
        "colab": {
          "base_uri": "https://localhost:8080/"
        },
        "outputId": "edf8cd6b-2315-4164-c10b-d89d22c3140d"
      },
      "source": [
        "lda.components_.argsort(axis=1)[:,::-1]"
      ],
      "execution_count": null,
      "outputs": [
        {
          "output_type": "stream",
          "name": "stderr",
          "text": [
            "/usr/local/lib/python3.10/dist-packages/ipykernel/ipkernel.py:283: DeprecationWarning: `should_run_async` will not call `transform_cell` automatically in the future. Please pass the result to `transformed_cell` argument and any exception that happen during thetransform in `preprocessing_exc_tuple` in IPython 7.17 and above.\n",
            "  and should_run_async(code)\n"
          ]
        },
        {
          "output_type": "execute_result",
          "data": {
            "text/plain": [
              "array([[4166, 6205, 5187, ..., 6066, 5206, 8109],\n",
              "       [4339, 9353, 7862, ..., 5982, 5206, 8109],\n",
              "       [2554, 4573, 4202, ..., 5982, 6066, 8109],\n",
              "       ...,\n",
              "       [2499, 2554, 4655, ..., 6066, 5206, 8109],\n",
              "       [3471, 3823, 2499, ..., 6066, 5206, 8109],\n",
              "       [5945, 8843, 6884, ..., 5982, 6066, 5206]])"
            ]
          },
          "metadata": {},
          "execution_count": 131
        }
      ]
    },
    {
      "cell_type": "code",
      "metadata": {
        "id": "Xwof2b3HmYgZ",
        "colab": {
          "base_uri": "https://localhost:8080/"
        },
        "outputId": "494ec75c-ab05-41b4-e0ee-2791d6eacf07"
      },
      "source": [
        "# 토픽마다(components_의 행) 특성을 오름차순으로 정렬합니다\n",
        "# 내림차순이 되도록 [:, ::-1] 사용해 행의 정렬을 반대로 바꿉니다\n",
        "sorting = np.argsort(lda.components_, axis=1)[:, ::-1]\n",
        "\n",
        "# CountVectorizer 객체에서 특성 이름을 구합니다.\n",
        "feature_names = np.array(vect.get_feature_names_out())"
      ],
      "execution_count": null,
      "outputs": [
        {
          "output_type": "stream",
          "name": "stderr",
          "text": [
            "/usr/local/lib/python3.10/dist-packages/ipykernel/ipkernel.py:283: DeprecationWarning: `should_run_async` will not call `transform_cell` automatically in the future. Please pass the result to `transformed_cell` argument and any exception that happen during thetransform in `preprocessing_exc_tuple` in IPython 7.17 and above.\n",
            "  and should_run_async(code)\n"
          ]
        }
      ]
    },
    {
      "cell_type": "code",
      "metadata": {
        "scrolled": true,
        "id": "ElzlUCPT2HON",
        "colab": {
          "base_uri": "https://localhost:8080/"
        },
        "outputId": "720f3270-5bd9-4efb-a802-eec5def69041"
      },
      "source": [
        "N = 10 # number of words to print for each topic\n",
        "for i in range(0, lda.components_.shape[0]):\n",
        "    print (\"topic {}:\".format(i))\n",
        "    topic_idx = lda.components_.argsort(axis=1)[:,::-1][i]\n",
        "    topic_words = [topic_idx[j] for j in range(0,N)]\n",
        "    print (feature_names[topic_words])"
      ],
      "execution_count": null,
      "outputs": [
        {
          "output_type": "stream",
          "name": "stderr",
          "text": [
            "/usr/local/lib/python3.10/dist-packages/ipykernel/ipkernel.py:283: DeprecationWarning: `should_run_async` will not call `transform_cell` automatically in the future. Please pass the result to `transformed_cell` argument and any exception that happen during thetransform in `preprocessing_exc_tuple` in IPython 7.17 and above.\n",
            "  and should_run_async(code)\n"
          ]
        },
        {
          "output_type": "stream",
          "name": "stdout",
          "text": [
            "topic 0:\n",
            "['박태환' '올림픽' '수영' '출전' '리우' '국가대표' '27' '정부' '선수' '대학']\n",
            "topic 1:\n",
            "['보도' '필리핀' '지역' '통해' '결과' '정부' '같다' '발견' '조사' '방송']\n",
            "topic 2:\n",
            "['국제' '사드' '발표' '개최' '내년' '독도' '평화' '위성' '소녀' '기업']\n",
            "topic 3:\n",
            "['리그' '포켓몬' '축구' 'acl' '감독' '게임' '시즌' '해밍턴' '지난해' '전북']\n",
            "topic 4:\n",
            "['올림픽' '경기' '대표팀' '예선' '대회' '시드니' '오후' '2016' '출전' '리우']\n",
            "topic 5:\n",
            "['축구' '브라질' '월드컵' '선수' 'fifa' '본선' '대표팀' '연맹' '2014' '국제']\n",
            "topic 6:\n",
            "['골프' '투어' '프로' '대회' '여자' '랭킹' 'lpga' '상금' '라운드' 'pga']\n",
            "topic 7:\n",
            "['국가' '국제' '삼성' '대만' '2013' '해외' '시리즈' '대통령' '정보' '보도']\n",
            "topic 8:\n",
            "['대통령' '마약' '국가' '개국' '없다' '20' '개발' '전자' '유엔' '우리나라']\n",
            "topic 9:\n",
            "['여성' '통화' '일리' '시드니' '수출' '메일' '해외' '밉다' '정부' '소녀']\n"
          ]
        }
      ]
    },
    {
      "cell_type": "code",
      "metadata": {
        "id": "XOiDo2XumYgc",
        "scrolled": true,
        "colab": {
          "base_uri": "https://localhost:8080/"
        },
        "outputId": "d5e88160-3fc9-453f-dc2d-f95c760ab4d5"
      },
      "source": [
        "### text 에 있는 포맷 (위와 동일한 정보) ###\n",
        "\n",
        "%matplotlib inline\n",
        "import matplotlib.pyplot as plt\n",
        "\n",
        "def print_topics(topics, feature_names, sorting, topics_per_chunk=6, n_words=20):\n",
        "    for i in range(0, len(topics), topics_per_chunk):\n",
        "        # for each chunk:\n",
        "        these_topics = topics[i: i + topics_per_chunk]\n",
        "        # maybe we have less than topics_per_chunk left\n",
        "        len_this_chunk = len(these_topics)\n",
        "        # print topic headers\n",
        "        print((\"topic {:<8}\" * len_this_chunk).format(*these_topics))\n",
        "        print((\"-------- {0:<5}\" * len_this_chunk).format(\"\"))\n",
        "        # print top n_words frequent words\n",
        "        for i in range(n_words):\n",
        "            try:\n",
        "                print((\"{:<14}\" * len_this_chunk).format(\n",
        "                    *feature_names[sorting[these_topics, i]]))\n",
        "            except:\n",
        "                pass\n",
        "        print(\"\\n\")\n"
      ],
      "execution_count": null,
      "outputs": [
        {
          "output_type": "stream",
          "name": "stderr",
          "text": [
            "/usr/local/lib/python3.10/dist-packages/ipykernel/ipkernel.py:283: DeprecationWarning: `should_run_async` will not call `transform_cell` automatically in the future. Please pass the result to `transformed_cell` argument and any exception that happen during thetransform in `preprocessing_exc_tuple` in IPython 7.17 and above.\n",
            "  and should_run_async(code)\n"
          ]
        }
      ]
    },
    {
      "cell_type": "code",
      "metadata": {
        "id": "rfk58_4C-Ds4",
        "colab": {
          "base_uri": "https://localhost:8080/"
        },
        "outputId": "d8ff91b2-c611-4920-b146-e4ebdc7dba98"
      },
      "source": [
        "print_topics(topics=range(10), feature_names=feature_names, sorting=sorting,\n",
        "             topics_per_chunk=4, n_words=10)"
      ],
      "execution_count": null,
      "outputs": [
        {
          "output_type": "stream",
          "name": "stderr",
          "text": [
            "/usr/local/lib/python3.10/dist-packages/ipykernel/ipkernel.py:283: DeprecationWarning: `should_run_async` will not call `transform_cell` automatically in the future. Please pass the result to `transformed_cell` argument and any exception that happen during thetransform in `preprocessing_exc_tuple` in IPython 7.17 and above.\n",
            "  and should_run_async(code)\n"
          ]
        },
        {
          "output_type": "stream",
          "name": "stdout",
          "text": [
            "topic 0       topic 1       topic 2       topic 3       \n",
            "--------      --------      --------      --------      \n",
            "박태환           보도            국제            리그            \n",
            "올림픽           필리핀           사드            포켓몬           \n",
            "수영            지역            발표            축구            \n",
            "출전            통해            개최            acl           \n",
            "리우            결과            내년            감독            \n",
            "국가대표          정부            독도            게임            \n",
            "27            같다            평화            시즌            \n",
            "정부            발견            위성            해밍턴           \n",
            "선수            조사            소녀            지난해           \n",
            "대학            방송            기업            전북            \n",
            "\n",
            "\n",
            "topic 4       topic 5       topic 6       topic 7       \n",
            "--------      --------      --------      --------      \n",
            "올림픽           축구            골프            국가            \n",
            "경기            브라질           투어            국제            \n",
            "대표팀           월드컵           프로            삼성            \n",
            "예선            선수            대회            대만            \n",
            "대회            fifa          여자            2013          \n",
            "시드니           본선            랭킹            해외            \n",
            "오후            대표팀           lpga          시리즈           \n",
            "2016          연맹            상금            대통령           \n",
            "출전            2014          라운드           정보            \n",
            "리우            국제            pga           보도            \n",
            "\n",
            "\n",
            "topic 8       topic 9       \n",
            "--------      --------      \n",
            "대통령           여성            \n",
            "마약            통화            \n",
            "국가            일리            \n",
            "개국            시드니           \n",
            "없다            수출            \n",
            "20            메일            \n",
            "개발            해외            \n",
            "전자            밉다            \n",
            "유엔            정부            \n",
            "우리나라          소녀            \n",
            "\n",
            "\n"
          ]
        }
      ]
    },
    {
      "cell_type": "code",
      "metadata": {
        "id": "ybisFleNmYgf",
        "colab": {
          "base_uri": "https://localhost:8080/"
        },
        "outputId": "78510254-ece5-4aed-9931-cd1258fa80b7"
      },
      "source": [
        "# 100개 토픽으로 학습\n",
        "lda100 = LatentDirichletAllocation(n_components=100, learning_method=\"batch\",\n",
        "                                   max_iter=25, random_state=0)\n",
        "document_topics100 = lda100.fit_transform(X)"
      ],
      "execution_count": null,
      "outputs": [
        {
          "output_type": "stream",
          "name": "stderr",
          "text": [
            "/usr/local/lib/python3.10/dist-packages/ipykernel/ipkernel.py:283: DeprecationWarning: `should_run_async` will not call `transform_cell` automatically in the future. Please pass the result to `transformed_cell` argument and any exception that happen during thetransform in `preprocessing_exc_tuple` in IPython 7.17 and above.\n",
            "  and should_run_async(code)\n"
          ]
        }
      ]
    },
    {
      "cell_type": "code",
      "metadata": {
        "id": "j1LVxI1PmYgi",
        "colab": {
          "base_uri": "https://localhost:8080/"
        },
        "outputId": "cea29309-2550-4039-b76f-603ce1abe82d"
      },
      "source": [
        "topics = np.array([7, 16, 24, 41, 45, 51, 54, 81, 89, 97])"
      ],
      "execution_count": null,
      "outputs": [
        {
          "output_type": "stream",
          "name": "stderr",
          "text": [
            "/usr/local/lib/python3.10/dist-packages/ipykernel/ipkernel.py:283: DeprecationWarning: `should_run_async` will not call `transform_cell` automatically in the future. Please pass the result to `transformed_cell` argument and any exception that happen during thetransform in `preprocessing_exc_tuple` in IPython 7.17 and above.\n",
            "  and should_run_async(code)\n"
          ]
        }
      ]
    },
    {
      "cell_type": "code",
      "metadata": {
        "id": "aXLkPbtdmYgk",
        "colab": {
          "base_uri": "https://localhost:8080/"
        },
        "outputId": "dbd7e500-43d6-409e-f8f6-72e40dec6153"
      },
      "source": [
        "sorting = np.argsort(lda100.components_, axis=1)[:, ::-1]\n",
        "feature_names = np.array(vect.get_feature_names_out())\n",
        "print_topics(topics=topics, feature_names=feature_names,\n",
        "                           sorting=sorting, topics_per_chunk=5, n_words=10)"
      ],
      "execution_count": null,
      "outputs": [
        {
          "output_type": "stream",
          "name": "stderr",
          "text": [
            "/usr/local/lib/python3.10/dist-packages/ipykernel/ipkernel.py:283: DeprecationWarning: `should_run_async` will not call `transform_cell` automatically in the future. Please pass the result to `transformed_cell` argument and any exception that happen during thetransform in `preprocessing_exc_tuple` in IPython 7.17 and above.\n",
            "  and should_run_async(code)\n"
          ]
        },
        {
          "output_type": "stream",
          "name": "stdout",
          "text": [
            "topic 7       topic 16      topic 24      topic 41      topic 45      \n",
            "--------      --------      --------      --------      --------      \n",
            "엘니뇨           남중국해          사이트           태풍            리그            \n",
            "피해자           보도            경쟁            이름            전북            \n",
            "옥스팜           페이스북          이행            의미            축구            \n",
            "보고서           위해            도박            손흥민           연맹            \n",
            "wff           커플            수준            독일            acl           \n",
            "노예            합동            포트            지역            챔피언스리그        \n",
            "2013          인도            발표            매장            클래식           \n",
            "트러블메이커        순찰            국가            물이            현대            \n",
            "가장            이케아           대학            게시            서울            \n",
            "항공            올해            등급            말레이시아         시즌            \n",
            "\n",
            "\n",
            "topic 51      topic 54      topic 81      topic 89      topic 97      \n",
            "--------      --------      --------      --------      --------      \n",
            "브라질           fta           여성            강아지           독도            \n",
            "네이마르          체결            이혼            유산            우즈            \n",
            "축구            축산물           자신            도시            중앙            \n",
            "감독            수입            소주            시드니           감독            \n",
            "월드컵           소방관           보도            혼자            연맹            \n",
            "치료            자유무역          크루즈           도둑            마무리           \n",
            "연금            협정            가운데           흉기            평균            \n",
            "포켓몬           감독            아이            지구            투수            \n",
            "지역            올해            옥스퍼드          도주            식목일           \n",
            "안보            수출입           정부            방송            바다            \n",
            "\n",
            "\n"
          ]
        }
      ]
    },
    {
      "cell_type": "code",
      "metadata": {
        "id": "QUuY_Ge82HOW",
        "colab": {
          "base_uri": "https://localhost:8080/"
        },
        "outputId": "9a571b99-b30b-4814-c41a-09a501e27948"
      },
      "source": [
        "document_topics100.shape"
      ],
      "execution_count": null,
      "outputs": [
        {
          "output_type": "stream",
          "name": "stderr",
          "text": [
            "/usr/local/lib/python3.10/dist-packages/ipykernel/ipkernel.py:283: DeprecationWarning: `should_run_async` will not call `transform_cell` automatically in the future. Please pass the result to `transformed_cell` argument and any exception that happen during thetransform in `preprocessing_exc_tuple` in IPython 7.17 and above.\n",
            "  and should_run_async(code)\n"
          ]
        },
        {
          "output_type": "execute_result",
          "data": {
            "text/plain": [
              "(1499, 100)"
            ]
          },
          "metadata": {},
          "execution_count": 139
        }
      ]
    },
    {
      "cell_type": "code",
      "metadata": {
        "id": "ExxK6n7P2HOX",
        "colab": {
          "base_uri": "https://localhost:8080/"
        },
        "outputId": "72ebe608-92a5-46c9-c6ed-9ffe084121ec"
      },
      "source": [
        "np.argsort(document_topics100[:, 77])[::-1]"
      ],
      "execution_count": null,
      "outputs": [
        {
          "output_type": "stream",
          "name": "stderr",
          "text": [
            "/usr/local/lib/python3.10/dist-packages/ipykernel/ipkernel.py:283: DeprecationWarning: `should_run_async` will not call `transform_cell` automatically in the future. Please pass the result to `transformed_cell` argument and any exception that happen during thetransform in `preprocessing_exc_tuple` in IPython 7.17 and above.\n",
            "  and should_run_async(code)\n"
          ]
        },
        {
          "output_type": "execute_result",
          "data": {
            "text/plain": [
              "array([  26,  428,  273, ...,  839, 1193,  805])"
            ]
          },
          "metadata": {},
          "execution_count": 140
        }
      ]
    },
    {
      "cell_type": "code",
      "metadata": {
        "id": "lkML7dNemYgo",
        "colab": {
          "base_uri": "https://localhost:8080/"
        },
        "outputId": "8d4ff53c-dabe-4d1f-9d51-df68a25a1f11"
      },
      "source": [
        "# 관련 토픽 77를 가중치로 정렬\n",
        "topic77 = np.argsort(document_topics100[:, 77])[::-1]\n",
        "\n",
        "# 이 토픽이 가장 비중이 큰 문서 다섯개를 출력\n",
        "for i in topic77[:5]:\n",
        "    # 첫 두 문장을 출력합니다\n",
        "    print(list_train[i], \"\\n\")\n",
        "    print(\"***\")"
      ],
      "execution_count": null,
      "outputs": [
        {
          "output_type": "stream",
          "name": "stdout",
          "text": [
            "해외 한국인 유학생 수가 6년 연속 20만 명 이상을 기록하면서 어학연수 해외유학 교환학생 교수 해외 주재원 등 소량화물이사 운송 서비스의 수요가 크게 늘고 있다. \n",
            " \n",
            "한국교육개발원과 교육부 등에서 집계한 해외 유학생 현황 통계자료(2012년 기준)에 따르면, 국외 한국인 유학생 수는 2007년 처음으로 20만 명 이상을 돌파한 이래 여전히 높은 수치.. \n",
            "\n",
            "***\n",
            "화학무기 참사가 발생한 시리아에 대한 공습이 초읽기에 들어갔다는 관측 속에 미국의 움직임이 긴박하다.미국은 버락 오바마 대통령을 비롯해 척 헤이글 국방장관, 존 케리 국무장관 등 국방 안보 라인이 모두 나서 주요 우방과 전방위로 접촉하며 군사 행동에 착수할  경우에 대비한 공조 체제 가동 등의 약속을 받아내고 있다.오바마 대통령은 27일(현지시간) 케빈.. \n",
            "\n",
            "***\n",
            "윤상직 산업통상자원부 장관은 14일 미국 주도의 다자 FTA(자유무역협정)인 환태평양경제동반자협정(TPP) 참여 문제와 관련, \"가입 여부 자체를 확정하지 않았다\"고 말했다.윤 장관은 이날 정부과천청사에서 진행된 국회 산업통상자원위의 산업부 국정감사 답변을 통해 이같이 밝혔다고 연합뉴스가 전했다. 윤 장관은 한-중 FTA와의 연관성에 대한 질의에는 \"별.. \n",
            "\n",
            "***\n",
            "동북아허브 공항을 표방하고 있는 인천국제공항의 경쟁력이 세계 최하위 수준으로 나타났다. \n",
            " \n",
            "한국 항공사의 정시운항률 역시 세계 최하위권이라 항공산업 전반의 경쟁력 제고가 시급하다는 지적이다. \n",
            " \n",
            "11일 글로벌 항공정보 제공업체 OAG(Official Airline Guide)가 최근 공개한 ‘OAG 메가허브 2016’에 따르면 인천공항은 조사대상 세.. \n",
            "\n",
            "***\n",
            "일본과 호주의 국방장관이 25일 양국 안보협력을 강화하기로 했으며 중국의 해양 진출이 인근 지역 긴장을 고조시킨다는데 의견을 함께했다고 일본 언론이 보도했다. \n",
            " \n",
            "보도에 따르면 이나다 도모미(稻田朋美) 방위상은 이날 일본을 방문 중인 머리스 페인 호주 국방장관과 만나 상호군수지원협정(ACSA) 개정 협의를 가속하기로 했다. \n",
            " \n",
            "이는 일본의 안보관련법.. \n",
            "\n",
            "***\n"
          ]
        },
        {
          "output_type": "stream",
          "name": "stderr",
          "text": [
            "/usr/local/lib/python3.10/dist-packages/ipykernel/ipkernel.py:283: DeprecationWarning: `should_run_async` will not call `transform_cell` automatically in the future. Please pass the result to `transformed_cell` argument and any exception that happen during thetransform in `preprocessing_exc_tuple` in IPython 7.17 and above.\n",
            "  and should_run_async(code)\n"
          ]
        }
      ]
    },
    {
      "cell_type": "code",
      "metadata": {
        "id": "wWD5U4a-tDyp",
        "colab": {
          "base_uri": "https://localhost:8080/"
        },
        "outputId": "ec5b7222-2c1e-4535-9d5f-7e809b18f609"
      },
      "source": [
        "#한글 폰트 설치 (should restart the kernel after installing)\n",
        "\n",
        "import matplotlib\n",
        "!apt-get install fonts-nanum*\n",
        "!apt-get install fontconfig\n",
        "!fc-cache -fv\n",
        "!cp /usr/share/fonts/truetype/nanum/Nanum* /usr/local/lib/python3.6/dist-packages/matplotlib/mpl-data/fonts/ttf/\n",
        "!rm -rf /content/.cache/matplotlib/*\n",
        "import matplotlib.font_manager\n",
        "matplotlib.font_manager._load_fontmanager(try_read_cache=False)\n",
        "# matplotlib.font_manager._rebuild()\n"
      ],
      "execution_count": null,
      "outputs": [
        {
          "output_type": "stream",
          "name": "stdout",
          "text": [
            "Reading package lists... Done\n",
            "Building dependency tree... Done\n",
            "Reading state information... Done\n",
            "Note, selecting 'fonts-nanum-extra' for glob 'fonts-nanum*'\n",
            "Note, selecting 'fonts-nanum-coding' for glob 'fonts-nanum*'\n",
            "Note, selecting 'fonts-nanum-eco' for glob 'fonts-nanum*'\n",
            "Note, selecting 'fonts-nanum' for glob 'fonts-nanum*'\n",
            "The following NEW packages will be installed:\n",
            "  fonts-nanum fonts-nanum-coding fonts-nanum-eco fonts-nanum-extra\n",
            "0 upgraded, 4 newly installed, 0 to remove and 45 not upgraded.\n",
            "Need to get 46.0 MB of archives.\n",
            "After this operation, 177 MB of additional disk space will be used.\n",
            "Get:1 http://archive.ubuntu.com/ubuntu jammy/universe amd64 fonts-nanum all 20200506-1 [10.3 MB]\n",
            "Get:2 http://archive.ubuntu.com/ubuntu jammy/universe amd64 fonts-nanum-coding all 2.5-3 [4,988 B]\n",
            "Get:3 http://archive.ubuntu.com/ubuntu jammy/universe amd64 fonts-nanum-eco all 1.000-7 [14.7 MB]\n",
            "Get:4 http://archive.ubuntu.com/ubuntu jammy/universe amd64 fonts-nanum-extra all 20200506-1 [21.0 MB]\n",
            "Fetched 46.0 MB in 3s (17.0 MB/s)\n",
            "Selecting previously unselected package fonts-nanum.\n",
            "(Reading database ... 121926 files and directories currently installed.)\n",
            "Preparing to unpack .../fonts-nanum_20200506-1_all.deb ...\n",
            "Unpacking fonts-nanum (20200506-1) ...\n",
            "Selecting previously unselected package fonts-nanum-coding.\n",
            "Preparing to unpack .../fonts-nanum-coding_2.5-3_all.deb ...\n",
            "Unpacking fonts-nanum-coding (2.5-3) ...\n",
            "Selecting previously unselected package fonts-nanum-eco.\n",
            "Preparing to unpack .../fonts-nanum-eco_1.000-7_all.deb ...\n",
            "Unpacking fonts-nanum-eco (1.000-7) ...\n",
            "Selecting previously unselected package fonts-nanum-extra.\n",
            "Preparing to unpack .../fonts-nanum-extra_20200506-1_all.deb ...\n",
            "Unpacking fonts-nanum-extra (20200506-1) ...\n",
            "Setting up fonts-nanum-extra (20200506-1) ...\n",
            "Setting up fonts-nanum (20200506-1) ...\n",
            "Setting up fonts-nanum-coding (2.5-3) ...\n",
            "Setting up fonts-nanum-eco (1.000-7) ...\n",
            "Processing triggers for fontconfig (2.13.1-4.2ubuntu5) ...\n",
            "Reading package lists... Done\n",
            "Building dependency tree... Done\n",
            "Reading state information... Done\n",
            "fontconfig is already the newest version (2.13.1-4.2ubuntu5).\n",
            "fontconfig set to manually installed.\n",
            "0 upgraded, 0 newly installed, 0 to remove and 45 not upgraded.\n",
            "/usr/share/fonts: caching, new cache contents: 0 fonts, 1 dirs\n",
            "/usr/share/fonts/truetype: caching, new cache contents: 0 fonts, 3 dirs\n",
            "/usr/share/fonts/truetype/humor-sans: caching, new cache contents: 1 fonts, 0 dirs\n",
            "/usr/share/fonts/truetype/liberation: caching, new cache contents: 16 fonts, 0 dirs\n",
            "/usr/share/fonts/truetype/nanum: caching, new cache contents: 39 fonts, 0 dirs\n",
            "/usr/local/share/fonts: caching, new cache contents: 0 fonts, 0 dirs\n",
            "/root/.local/share/fonts: skipping, no such directory\n",
            "/root/.fonts: skipping, no such directory\n",
            "/usr/share/fonts/truetype: skipping, looped directory detected\n",
            "/usr/share/fonts/truetype/humor-sans: skipping, looped directory detected\n",
            "/usr/share/fonts/truetype/liberation: skipping, looped directory detected\n",
            "/usr/share/fonts/truetype/nanum: skipping, looped directory detected\n",
            "/var/cache/fontconfig: cleaning cache directory\n",
            "/root/.cache/fontconfig: not cleaning non-existent cache directory\n",
            "/root/.fontconfig: not cleaning non-existent cache directory\n",
            "fc-cache: succeeded\n",
            "cp: target '/usr/local/lib/python3.6/dist-packages/matplotlib/mpl-data/fonts/ttf/' is not a directory\n"
          ]
        },
        {
          "output_type": "execute_result",
          "data": {
            "text/plain": [
              "<matplotlib.font_manager.FontManager at 0x7bc2aec72a40>"
            ]
          },
          "metadata": {},
          "execution_count": 1
        }
      ]
    },
    {
      "cell_type": "code",
      "metadata": {
        "id": "zgdc2cEtmYgs"
      },
      "source": [
        "import platform\n",
        "from matplotlib import font_manager, rc\n",
        "\n",
        "import matplotlib.pyplot as plt\n",
        "import matplotlib\n",
        "\n",
        "if platform.system() == 'Windows':\n",
        "    path = \"c:\\Windows\\Fonts\\malgun.ttf\"\n",
        "    font_name = font_manager.FontProperties(fname=path).get_name()\n",
        "    rc('font', family=font_name)\n",
        "# 맥\n",
        "elif platform.system() == 'Darwin':\n",
        "    rc('font', family='AppleGothic')\n",
        "# 리눅스\n",
        "elif platform.system() == 'Linux':\n",
        "    # rc('font', family='NanumBarunGothic')\n",
        "    rc('font', family='NanumBarunGothic')\n",
        "else:\n",
        "    print('system error...')"
      ],
      "execution_count": null,
      "outputs": []
    },
    {
      "cell_type": "code",
      "metadata": {
        "id": "pTkre3cNVSJe"
      },
      "source": [
        "sorting"
      ],
      "execution_count": null,
      "outputs": []
    },
    {
      "cell_type": "code",
      "source": [
        "feature_names.shape, feature_names[:10]"
      ],
      "metadata": {
        "id": "BqkjitjFW3qd"
      },
      "execution_count": null,
      "outputs": []
    },
    {
      "cell_type": "code",
      "source": [
        "feature_names[sorting[:, :2]].shape   # 각 topic 별 가장 많이 할당된 단어 2개씩"
      ],
      "metadata": {
        "id": "5Px-efecXeGE"
      },
      "execution_count": null,
      "outputs": []
    },
    {
      "cell_type": "code",
      "metadata": {
        "id": "aeAikJ2a2HOb"
      },
      "source": [
        "fig, ax = plt.subplots(1, 2, figsize=(10, 10))\n",
        "topic_names = [\"{:>2} \".format(i) + \" \".join(words)\n",
        "               for i, words in enumerate(feature_names[sorting[:, :2]])]\n",
        "\n",
        "# 두 개의 열이 있는 막대 그래프\n",
        "for col in [0, 1]:\n",
        "    start = col * 50\n",
        "    end = (col + 1) * 50\n",
        "    ax[col].barh(np.arange(50), np.sum(document_topics100, axis=0)[start:end])\n",
        "    ax[col].set_yticks(np.arange(50))\n",
        "    ax[col].set_yticklabels(topic_names[start:end], ha=\"left\", va=\"top\")\n",
        "    ax[col].invert_yaxis()\n",
        "    ax[col].set_xlim(0, 100)\n",
        "    yax = ax[col].get_yaxis()\n",
        "    yax.set_tick_params(pad=130)\n",
        "plt.tight_layout()"
      ],
      "execution_count": null,
      "outputs": []
    },
    {
      "cell_type": "markdown",
      "source": [],
      "metadata": {
        "id": "HbB2pZ32Tn2i"
      }
    },
    {
      "cell_type": "code",
      "source": [],
      "metadata": {
        "id": "WXCymTwFTsVD"
      },
      "execution_count": null,
      "outputs": []
    },
    {
      "cell_type": "markdown",
      "source": [
        "# Example (Direct sampling and Gibbs sampling)\n",
        "- Dirichlet distribution by direct sampling, and\n",
        "- by Gibbs sampling"
      ],
      "metadata": {
        "id": "L8Bwh2UJUC8C"
      }
    },
    {
      "cell_type": "markdown",
      "source": [
        "## Direct from the function"
      ],
      "metadata": {
        "id": "QChErI8CXJfn"
      }
    },
    {
      "cell_type": "code",
      "source": [
        "# direct sampling from the library function\n",
        "\n",
        "import numpy as np\n",
        "import matplotlib.pyplot as plt\n",
        "\n",
        "# Parameters\n",
        "alpha = [1, 2, 3]\n",
        "num_samples = 1000\n",
        "\n",
        "# Direct sampling from Dirichlet distribution\n",
        "direct_samples = np.random.dirichlet(alpha, num_samples)\n",
        "\n",
        "# Visualize the samples\n",
        "plt.figure(figsize=(8, 4))\n",
        "plt.subplot(1,3,1)\n",
        "plt.scatter(direct_samples[:, 0], direct_samples[:, 1], alpha=0.5, s=10, label='Component 1 vs 2')\n",
        "plt.xlabel('Component 1')\n",
        "plt.ylabel('Component 2')\n",
        "plt.subplot(1,3,2)\n",
        "plt.scatter(direct_samples[:, 0], direct_samples[:, 2], alpha=0.5, s=10, label='Component 1 vs 3')\n",
        "plt.xlabel('Component 1')\n",
        "plt.ylabel('Component 3')\n",
        "plt.subplot(1,3,3)\n",
        "plt.scatter(direct_samples[:, 1], direct_samples[:, 2], alpha=0.5, s=10, label='Component 2 vs 3')\n",
        "plt.xlabel('Component 2')\n",
        "plt.ylabel('Component 3')\n",
        "plt.legend()\n",
        "plt.title('Direct Sampling from Dirichlet Distribution')\n",
        "plt.show()"
      ],
      "metadata": {
        "id": "2le0pRMEUC8D"
      },
      "execution_count": null,
      "outputs": []
    },
    {
      "cell_type": "code",
      "source": [
        "!pip install python-ternary"
      ],
      "metadata": {
        "id": "SRKv-YK2UC8D"
      },
      "execution_count": null,
      "outputs": []
    },
    {
      "cell_type": "code",
      "source": [
        "import numpy as np\n",
        "import matplotlib.pyplot as plt\n",
        "import ternary\n",
        "\n",
        "# Parameters\n",
        "alpha = [1, 2, 3]\n",
        "num_samples = 1000\n",
        "\n",
        "# Direct sampling from Dirichlet distribution\n",
        "direct_samples = np.random.dirichlet(alpha, num_samples)\n",
        "print(direct_samples[:5])\n",
        "\n",
        "# Create a ternary plot\n",
        "figure, tax = ternary.figure(scale=1.0)\n",
        "tax.boundary(linewidth=2.0)\n",
        "tax.gridlines(multiple=0.1, color=\"black\")\n",
        "\n",
        "# Plot the samples\n",
        "tax.scatter(direct_samples, marker='o', color='blue', alpha=0.5)\n",
        "\n",
        "# Set labels and title\n",
        "tax.right_corner_label(\"X\")\n",
        "tax.top_corner_label(\"Y\")\n",
        "tax.left_corner_label(\"Z\")\n",
        "tax.left_axis_label(\"Component 3\")\n",
        "tax.right_axis_label(\"Component 2\")\n",
        "tax.bottom_axis_label(\"Component 1\")\n",
        "tax.set_title(\"Direct Sampling from Dirichlet Distribution\")\n",
        "\n",
        "# set ticks\n",
        "tax.ticks(axis='lbr', multiple=1, linewidth=1, offset=0.025)\n",
        "tax.get_axes().axis('off')\n",
        "tax.clear_matplotlib_ticks()  # Remove default Matplotlib Axes\n",
        "\n",
        "# Show the plot\n",
        "tax.show()"
      ],
      "metadata": {
        "id": "WOxG17Y3UC8E"
      },
      "execution_count": null,
      "outputs": []
    },
    {
      "cell_type": "code",
      "source": [
        "direct_samples[:3]"
      ],
      "metadata": {
        "id": "DKn8Wi9DUC8E"
      },
      "execution_count": null,
      "outputs": []
    },
    {
      "cell_type": "markdown",
      "source": [
        "## Gibbs Sampling for Document-Topic Distributions in LDA"
      ],
      "metadata": {
        "id": "yzcv_PlyUC8E"
      }
    },
    {
      "cell_type": "code",
      "source": [
        "import numpy as np\n",
        "import matplotlib.pyplot as plt\n",
        "import ternary\n",
        "\n",
        "# Parameters\n",
        "D = 7  # Number of documents\n",
        "V = 4  # Vocabulary size\n",
        "K = 3  # Number of topics\n",
        "alpha = 0.3  # assuming symmetric (meaning all topics are treated equally)\n",
        "beta = 0.3   # assuming symmetric (meaning all words are treated equally)\n",
        "iterations = 100\n",
        "\n",
        "# Generate synthetic data\n",
        "np.random.seed(42)\n",
        "doc_lengths = np.random.randint(5, 15, size=D)\n",
        "documents = [np.random.randint(0, V, size=l) for l in doc_lengths]\n",
        "documents"
      ],
      "metadata": {
        "id": "CLqLSCbiUC8F"
      },
      "execution_count": null,
      "outputs": []
    },
    {
      "cell_type": "code",
      "source": [
        "# Initialize topic assignments randomly\n",
        "topic_assignments = [np.random.randint(0, K, size=len(doc)) for doc in documents]\n",
        "topic_assignments"
      ],
      "metadata": {
        "id": "FZ_bKRdBUC8F"
      },
      "execution_count": null,
      "outputs": []
    },
    {
      "cell_type": "code",
      "source": [
        "# Count matrices\n",
        "ndk = np.zeros((D, K))  # Document-topic counts\n",
        "nkv = np.zeros((K, V))  # Topic-word counts\n",
        "nk = np.zeros(K)        # Topic counts\n",
        "\n",
        "# Initialize count matrices\n",
        "for d, doc in enumerate(documents):\n",
        "    for i, word in enumerate(doc):\n",
        "        topic = topic_assignments[d][i]\n",
        "        ndk[d, topic] += 1\n",
        "        nkv[topic, word] += 1\n",
        "        nk[topic] += 1\n",
        "\n",
        "# Gibbs sampling\n",
        "for it in range(iterations):\n",
        "    for d, doc in enumerate(documents):\n",
        "        for i, word in enumerate(doc):\n",
        "            topic = topic_assignments[d][i]\n",
        "\n",
        "            # Decrement counts for the current word-topic assignment\n",
        "            ndk[d, topic] -= 1\n",
        "            nkv[topic, word] -= 1\n",
        "            nk[topic] -= 1\n",
        "\n",
        "            # Calculate conditional distribution\n",
        "            p = (ndk[d, :] + alpha) * (nkv[:, word] + beta) / (nk + V * beta)\n",
        "            p /= p.sum()\n",
        "\n",
        "            # Sample a new topic\n",
        "            new_topic = np.random.choice(K, p=p)\n",
        "            topic_assignments[d][i] = new_topic\n",
        "\n",
        "            # Increment counts for the new word-topic assignment\n",
        "            ndk[d, new_topic] += 1\n",
        "            nkv[new_topic, word] += 1\n",
        "            nk[new_topic] += 1\n",
        "\n",
        "# Aggregate document-topic distributions\n",
        "document_topic_distributions = (ndk + alpha) / (ndk.sum(axis=1, keepdims=True) + K * alpha)\n",
        "# Aggregate topic-word distributions\n",
        "topic_word_distributions = (nkv + beta) / (nkv.sum(axis=1, keepdims=True) + V * beta)\n"
      ],
      "metadata": {
        "id": "MyvqSOy2UC8F"
      },
      "execution_count": null,
      "outputs": []
    },
    {
      "cell_type": "code",
      "source": [
        "document_topic_distributions.round(2)       # P(k|z=d)"
      ],
      "metadata": {
        "id": "Bre3-E1BUC8F"
      },
      "execution_count": null,
      "outputs": []
    },
    {
      "cell_type": "code",
      "source": [
        "document_topic_distributions.sum(axis=1)"
      ],
      "metadata": {
        "id": "wDXKTPYEUC8G"
      },
      "execution_count": null,
      "outputs": []
    },
    {
      "cell_type": "code",
      "source": [
        "topic_word_distributions.round(2)   # P(w|z=k)"
      ],
      "metadata": {
        "id": "DMbh1tn1UC8G"
      },
      "execution_count": null,
      "outputs": []
    },
    {
      "cell_type": "code",
      "source": [
        "topic_word_distributions.sum(axis=1)"
      ],
      "metadata": {
        "id": "iL-gFe0eUC8G"
      },
      "execution_count": null,
      "outputs": []
    },
    {
      "cell_type": "code",
      "source": [
        "# Create a ternary plot for document-topic distributions\n",
        "figure, tax = ternary.figure(scale=1.0)\n",
        "tax.boundary(linewidth=2.0)\n",
        "tax.gridlines(multiple=0.1, color=\"black\")\n",
        "\n",
        "# Plot the document-topic distributions\n",
        "tax.scatter(document_topic_distributions, marker='o', color='red', alpha=0.5)\n",
        "\n",
        "# Set labels and title\n",
        "tax.right_corner_label(\"X1\")\n",
        "tax.top_corner_label(\"X2\")\n",
        "tax.left_corner_label(\"X0\")\n",
        "\n",
        "tax.get_axes().axis('off')\n",
        "tax.left_axis_label(\"Topic 3\")\n",
        "tax.right_axis_label(\"Topic 2\")\n",
        "tax.bottom_axis_label(\"Topic 1\")\n",
        "tax.set_title(\"Document-Topic Distributions (Gibbs Sampling in LDA)\")\n",
        "\n",
        "# Draw an arbitrary line, ternary will project the points for you\n",
        "# just for reference to see the exat location for the values\n",
        "# p1 = (0.03, 0.11, 0.87)\n",
        "# p2 = (0.93, 0.03, 0.03)\n",
        "# tax.line(p1, p2, linewidth=3., marker='s', color='green', linestyle=\":\")\n",
        "\n",
        "# Show the plot\n",
        "tax.show()"
      ],
      "metadata": {
        "id": "FQzylLoNUC8G"
      },
      "execution_count": null,
      "outputs": []
    },
    {
      "cell_type": "code",
      "source": [
        "document_topic_distributions.round(2)       # P(k|z=d)"
      ],
      "metadata": {
        "id": "AQ6Wro5FUC8G"
      },
      "execution_count": null,
      "outputs": []
    },
    {
      "cell_type": "markdown",
      "source": [
        "# Exercise"
      ],
      "metadata": {
        "id": "Y0Fcg1mcZlMc"
      }
    },
    {
      "cell_type": "markdown",
      "source": [
        "## string replacement"
      ],
      "metadata": {
        "id": "EvNu9vBAWF1q"
      }
    },
    {
      "cell_type": "code",
      "source": [
        "# for reference\n",
        "# in Pandas dataframes, it support regular expressions in the first argument.\n",
        "# But, in regular Python strings, str.replace() method does not directly support regular expressions in its first argument.\n",
        "# - you will have to use re.sub()\n",
        "\n",
        "x = \"aa kk3abb bc'cc cdddd\"\n",
        "print(x.replace(\"[^a-zA-Z]\", \" \"))\n",
        "\n",
        "import re\n",
        "\n",
        "x2 = re.sub(r'[^a-zA-Z]', ' ', x)\n",
        "print(x2)\n",
        "\n",
        "df = pd.DataFrame(columns=['a'])\n",
        "\n",
        "df['a'] = [x]\n",
        "df['a'] = df['a'].str.replace(\"[^a-zA-Z]\", \" \", regex=True)  # default: True will change to False in the futue version.\n",
        "df\n"
      ],
      "metadata": {
        "id": "Qw4Yb-k7WGPQ"
      },
      "execution_count": null,
      "outputs": []
    },
    {
      "cell_type": "markdown",
      "source": [
        "## corpora.dictionary:\n",
        "- it implements the concept of a Dictionary – a mapping between words and their integer ids."
      ],
      "metadata": {
        "id": "HFlouckhmMG0"
      }
    },
    {
      "cell_type": "code",
      "source": [
        "from gensim.corpora import Dictionary\n",
        "\n",
        "texts = [['human', 'interface', 'computer', 'play'],\n",
        "         ['men', 'data', 'science']]\n",
        "dct = Dictionary(texts)  # initialize a Dictionary"
      ],
      "metadata": {
        "id": "7q_cC0lSl0H7"
      },
      "execution_count": null,
      "outputs": []
    },
    {
      "cell_type": "code",
      "source": [
        "dct.token2id    # token -> token_id"
      ],
      "metadata": {
        "id": "L2yQc7qdmbuC"
      },
      "execution_count": null,
      "outputs": []
    },
    {
      "cell_type": "code",
      "source": [
        "dct.add_documents([[\"cat\", \"say\", \"meow\"],\n",
        "                   [\"dog\", \"say\", \"walwal\"],\n",
        "                   ['rabbit']])  # add more document (extend the vocabulary)\n",
        "dct.token2id"
      ],
      "metadata": {
        "id": "AxR9HTW0l5FV"
      },
      "execution_count": null,
      "outputs": []
    },
    {
      "cell_type": "code",
      "source": [
        "len(dct)"
      ],
      "metadata": {
        "id": "VKOEZf-atNTo"
      },
      "execution_count": null,
      "outputs": []
    },
    {
      "cell_type": "code",
      "source": [
        "# convert document into BoW format(id, counts)\n",
        "dct.doc2bow([\"dog\", \"play\", \"computer\", \"computer\", \"any_non_existent_word\"])"
      ],
      "metadata": {
        "id": "NF7DyH96nIw6"
      },
      "execution_count": null,
      "outputs": []
    },
    {
      "cell_type": "markdown",
      "source": [
        "## some python gramma exercises"
      ],
      "metadata": {
        "id": "66QFysy3pSMC"
      }
    },
    {
      "cell_type": "code",
      "metadata": {
        "id": "nTQeGHQ78fLS"
      },
      "source": [
        "try:\n",
        "    for i in range(5,-1,-1):\n",
        "        print (5 // i)\n",
        "except ZeroDivisionError:\n",
        "    print(\"divide-by-zero error.\")\n",
        "finally:\n",
        "    print(\"Done...\")"
      ],
      "execution_count": null,
      "outputs": []
    },
    {
      "cell_type": "code",
      "metadata": {
        "id": "3-DNRMoy88el"
      },
      "source": [
        "list(range(10,-1,-1))"
      ],
      "execution_count": null,
      "outputs": []
    },
    {
      "cell_type": "code",
      "source": [
        "(\"{}\").format(list(range(5)))"
      ],
      "metadata": {
        "id": "GhWmM51VcF4A"
      },
      "execution_count": null,
      "outputs": []
    },
    {
      "cell_type": "code",
      "source": [
        "(\"{}\").format(*range(5))"
      ],
      "metadata": {
        "id": "j108My_QcT__"
      },
      "execution_count": null,
      "outputs": []
    },
    {
      "cell_type": "code",
      "metadata": {
        "id": "_mLNIx3d9SBz"
      },
      "source": [
        "(\"{}\" * 5).format(*range(5))"
      ],
      "execution_count": null,
      "outputs": []
    },
    {
      "cell_type": "code",
      "source": [
        "(\"{:<5}\" * 5).format(*range(5))"
      ],
      "metadata": {
        "id": "IPLB_eO8MQcO"
      },
      "execution_count": null,
      "outputs": []
    },
    {
      "cell_type": "code",
      "source": [
        "a = [1,2,3]\n",
        "print(a)\n",
        "print(*a)"
      ],
      "metadata": {
        "id": "PXhFCwPjJheE"
      },
      "execution_count": null,
      "outputs": []
    },
    {
      "cell_type": "code",
      "source": [
        "d = {\"A\":12, \"B\": 56}\n",
        "print(d)\n",
        "print(*d)"
      ],
      "metadata": {
        "id": "0ObD58q2MxB-"
      },
      "execution_count": null,
      "outputs": []
    },
    {
      "cell_type": "markdown",
      "source": [
        "## Dirichlet distribution\n",
        "- can be seen as a multivariate generalization of a Beta distribution"
      ],
      "metadata": {
        "id": "rmgZ68CuhSnL"
      }
    },
    {
      "cell_type": "markdown",
      "source": [
        "- (Example) [Wikipedia] this distribution can be used if one wanted to cut strings (each of initial length 1.0) into K pieces with different lengths, where each piece had a designated average length (on average), but allowing some variation in the relative sizes of the pieces.\n",
        "- Let's draw some samples from Dirichlet distribution based on some belief.\n",
        "- **alpha**: Higher alpha values concentrate the distribution more around the mean, while lower alpha values result in a more spread-out distribution"
      ],
      "metadata": {
        "id": "_ZPxecqd3KO-"
      }
    },
    {
      "cell_type": "code",
      "source": [
        "import matplotlib.pyplot as plt\n",
        "%matplotlib inline\n",
        "\n",
        "alpha = (10, 10, 10)       # your belief\n",
        "\n",
        "s = np.random.dirichlet(alpha, 20).transpose()\n",
        "print('average length per class:', s.mean(axis=1))\n",
        "\n",
        "plt.barh(range(20), s[0])\n",
        "plt.barh(range(20), s[1], left=s[0], color='g')\n",
        "plt.barh(range(20), s[2], left=s[0]+s[1], color='r')\n",
        "plt.title(\"Lengths of Strings\")\n",
        "plt.plot()"
      ],
      "metadata": {
        "id": "g8oDb2aG7kst"
      },
      "execution_count": null,
      "outputs": []
    },
    {
      "cell_type": "code",
      "source": [
        "alpha = (6, 3, 1)       # your belief\n",
        "\n",
        "s = np.random.dirichlet(alpha, 20).transpose()\n",
        "print('average length per class:', s.mean(axis=1))\n",
        "\n",
        "plt.barh(range(20), s[0])\n",
        "plt.barh(range(20), s[1], left=s[0], color='g')\n",
        "plt.barh(range(20), s[2], left=s[0]+s[1], color='r')\n",
        "plt.title(\"Lengths of Strings\")\n",
        "plt.plot()"
      ],
      "metadata": {
        "id": "UGxzu1_I23uW"
      },
      "execution_count": null,
      "outputs": []
    },
    {
      "cell_type": "markdown",
      "source": [
        "- Let's plot the distribution of samples.\n",
        "  - The distribution of each class or category in a Dirichlet distribution is not normally distributed.\n",
        "  - The Dirichlet distribution is appropriate for modeling probabilities or proportions in a constrained space."
      ],
      "metadata": {
        "id": "iJNWSySx46uw"
      }
    },
    {
      "cell_type": "code",
      "source": [
        "import numpy as np\n",
        "import matplotlib.pyplot as plt\n",
        "import seaborn as sns\n",
        "\n",
        "# Define the parameters (alpha values)\n",
        "alpha = [6, 3, 1]             # your belief\n",
        "\n",
        "num_samples = 100000           # Number of samples to generate\n",
        "\n",
        "# Generate multiple random samples from the Dirichlet distribution\n",
        "samples = np.random.dirichlet(alpha, size=num_samples)\n",
        "print('average length per class:', samples.mean(axis=0))\n",
        "\n",
        "# Plot the distribution of samples\n",
        "plt.figure(figsize=(5, 3))\n",
        "\n",
        "# For each category, create a histogram\n",
        "sns.displot(samples, kde=True)\n",
        "\n",
        "plt.xlabel('Probability')\n",
        "plt.ylabel('Frequency')\n",
        "plt.title('Distribution of Dirichlet Samples')\n",
        "plt.legend()\n",
        "plt.show()\n"
      ],
      "metadata": {
        "id": "VgMwhLMl4UD0"
      },
      "execution_count": null,
      "outputs": []
    },
    {
      "cell_type": "code",
      "source": [
        "labels = ['class 1', 'class 2', 'class 3']\n",
        "plt.boxplot(samples, labels=labels)\n",
        "plt.legend()"
      ],
      "metadata": {
        "id": "Ix_x4a409nW2"
      },
      "execution_count": null,
      "outputs": []
    },
    {
      "cell_type": "code",
      "source": [
        "num_samples = 100000           # Number of samples to generate\n",
        "alphas = [[1,1,1], [50,50,50], [1,5,10], [10,50,100]]\n",
        "samples = np.random.dirichlet(alphas[0], size=num_samples)\n",
        "sns.displot(samples, kde=True)"
      ],
      "metadata": {
        "id": "jNbLdkUcL5Cr"
      },
      "execution_count": null,
      "outputs": []
    },
    {
      "cell_type": "code",
      "source": [
        "num_samples = 100000           # Number of samples to generate\n",
        "alphas = [[1,1,1], [50,50,50], [1,5,10], [10,50,100]]\n",
        "\n",
        "samples = np.random.dirichlet(alphas[1], size=num_samples)\n",
        "plt.figure(figsize=(4,4))\n",
        "sns.displot(samples, kde=True)"
      ],
      "metadata": {
        "id": "pfzBBE8UFYnr"
      },
      "execution_count": null,
      "outputs": []
    },
    {
      "cell_type": "code",
      "source": [
        "samples = np.random.dirichlet(alphas[2], size=num_samples)\n",
        "plt.figure(figsize=(4,4))\n",
        "sns.displot(samples, kde=True)"
      ],
      "metadata": {
        "id": "j115UAIvPdR6"
      },
      "execution_count": null,
      "outputs": []
    },
    {
      "cell_type": "markdown",
      "source": [
        "- nice Visualization of the Drichlet Distribution\n",
        "  - https://blog.bogatron.net/blog/2014/02/02/visualizing-dirichlet-distributions/"
      ],
      "metadata": {
        "id": "ImKkiyY4DB8S"
      }
    },
    {
      "cell_type": "code",
      "source": [
        "%matplotlib inline\n",
        "import numpy as np\n",
        "import matplotlib.pyplot as plt\n",
        "import matplotlib.tri as tri\n",
        "\n",
        "corners = np.array([[0, 0], [1, 0], [0.5, 0.75**0.5]])\n",
        "AREA = 0.5 * 1 * 0.75**0.5\n",
        "triangle = tri.Triangulation(corners[:, 0], corners[:, 1])"
      ],
      "metadata": {
        "id": "w7lDEXO-DBbD"
      },
      "execution_count": null,
      "outputs": []
    },
    {
      "cell_type": "code",
      "source": [
        "refiner = tri.UniformTriRefiner(triangle)\n",
        "trimesh = refiner.refine_triangulation(subdiv=4)\n",
        "\n",
        "plt.figure(figsize=(8, 4))\n",
        "for (i, mesh) in enumerate((triangle, trimesh)):\n",
        "    plt.subplot(1, 2, i+ 1)\n",
        "    plt.triplot(mesh)\n",
        "    plt.axis('off')\n",
        "    plt.axis('equal')"
      ],
      "metadata": {
        "id": "hbPn867xDMFb"
      },
      "execution_count": null,
      "outputs": []
    },
    {
      "cell_type": "code",
      "source": [
        "# For each corner of the triangle, the pair of other corners\n",
        "pairs = [corners[np.roll(range(3), -i)[1:]] for i in range(3)]\n",
        "# The area of the triangle formed by point xy and another pair or points\n",
        "tri_area = lambda xy, pair: 0.5 * np.linalg.norm(np.cross(*(pair - xy)))\n",
        "\n",
        "def xy2bc(xy, tol=1.e-4):\n",
        "    '''Converts 2D Cartesian coordinates to barycentric.'''\n",
        "    coords = np.array([tri_area(xy, p) for p in pairs]) / AREA\n",
        "    return np.clip(coords, tol, 1.0 - tol)"
      ],
      "metadata": {
        "id": "NDF-FNFqDPUG"
      },
      "execution_count": null,
      "outputs": []
    },
    {
      "cell_type": "code",
      "source": [
        "class Dirichlet(object):\n",
        "    def __init__(self, alpha):\n",
        "        from math import gamma\n",
        "        from operator import mul\n",
        "        self._alpha = np.array(alpha)\n",
        "        self._coef = gamma(np.sum(self._alpha)) / \\\n",
        "                           np.multiply.reduce([gamma(a) for a in self._alpha])\n",
        "    def pdf(self, x):\n",
        "        '''Returns pdf value for `x`.'''\n",
        "        from operator import mul\n",
        "        return self._coef * np.multiply.reduce([xx ** (aa - 1)\n",
        "                                               for (xx, aa)in zip(x, self._alpha)])"
      ],
      "metadata": {
        "id": "kZLm3719DSdl"
      },
      "execution_count": null,
      "outputs": []
    },
    {
      "cell_type": "code",
      "source": [
        "def draw_pdf_contours(dist, nlevels=200, subdiv=8, **kwargs):\n",
        "    import math\n",
        "\n",
        "    refiner = tri.UniformTriRefiner(triangle)\n",
        "    trimesh = refiner.refine_triangulation(subdiv=subdiv)\n",
        "    pvals = [dist.pdf(xy2bc(xy)) for xy in zip(trimesh.x, trimesh.y)]\n",
        "\n",
        "    plt.tricontourf(trimesh, pvals, nlevels, cmap='jet', **kwargs)\n",
        "    plt.axis('equal')\n",
        "    plt.xlim(0, 1)\n",
        "    plt.ylim(0, 0.75**0.5)\n",
        "    plt.axis('off')"
      ],
      "metadata": {
        "id": "SV12sP_eDVbm"
      },
      "execution_count": null,
      "outputs": []
    },
    {
      "cell_type": "code",
      "source": [
        "draw_pdf_contours(Dirichlet([1, 1, 1]))"
      ],
      "metadata": {
        "id": "8yjq0vopDXzj"
      },
      "execution_count": null,
      "outputs": []
    },
    {
      "cell_type": "code",
      "source": [
        "draw_pdf_contours(Dirichlet([0.999, 0.999, 0.999]))"
      ],
      "metadata": {
        "id": "lXsQQw2pDZ7l"
      },
      "execution_count": null,
      "outputs": []
    },
    {
      "cell_type": "code",
      "source": [
        "draw_pdf_contours(Dirichlet([5, 5, 5]))"
      ],
      "metadata": {
        "id": "EqP0HjNADcbU"
      },
      "execution_count": null,
      "outputs": []
    },
    {
      "cell_type": "code",
      "source": [
        "draw_pdf_contours(Dirichlet([50, 50, 50]))"
      ],
      "metadata": {
        "id": "QeU23WosDef1"
      },
      "execution_count": null,
      "outputs": []
    },
    {
      "cell_type": "code",
      "source": [
        "draw_pdf_contours(Dirichlet([6, 3, 1]))"
      ],
      "metadata": {
        "id": "p7L9dq07EAHv"
      },
      "execution_count": null,
      "outputs": []
    },
    {
      "cell_type": "code",
      "source": [
        "draw_pdf_contours(Dirichlet([10, 1, 1]))"
      ],
      "metadata": {
        "id": "kwHkYf8SEh7L"
      },
      "execution_count": null,
      "outputs": []
    },
    {
      "cell_type": "markdown",
      "source": [
        "## Gibbs sampling\n",
        "- idea of breaking down a multivariate distribution into its conditional distributions. This is because directly sampling from a high-dimensional joint distribution can be challenging, but sampling from lower-dimensional conditional distributions is often more manageable.\n",
        "- The idea of Gibbs sampling is to iteratively sample each variable from its conditional distribution given the current values of the other variables.\n",
        "- example: try to sample from a bivariate normal distribution with correlated variables"
      ],
      "metadata": {
        "id": "VDak080UEsDN"
      }
    },
    {
      "cell_type": "markdown",
      "source": [
        "\n",
        "- ![image.png](data:image/png;base64,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)"
      ],
      "metadata": {
        "id": "SSjTZMFAf0ia"
      }
    },
    {
      "cell_type": "markdown",
      "source": [
        "- Gibbs Sampling Algorithm\n",
        "  - Initialization: Start with an initial value for Y, say y0.\n",
        "  - Iterative Sampling:\n",
        "    - Sample X from P(X∣Y=y), which is X ~ N(ρy,1−ρ^2)\n",
        "    - Sample Y from P(Y∣X=x). which is Y ~ N(ρx,1−ρ^2)\n",
        "    - (*) This result comes from properties of the multivariate normal distribution, where the mean of the conditional distribution X∣Y=y shifts to ρy and the variance reduces to 1−ρ^2.\n",
        "  - Repeat the process for a large number of iterations.\n",
        "  - LDA 에서 샘플링: 모델의 현재 상태를 기반으로 각 단어에 대한 주제 할당을 반복적으로 업데이트한다. 이는 분포에 새 표본을 추가하는 것과 유사함."
      ],
      "metadata": {
        "id": "uLyndStMFTss"
      }
    },
    {
      "cell_type": "code",
      "source": [
        "import numpy as np\n",
        "import matplotlib.pyplot as plt\n",
        "\n",
        "# Parameters\n",
        "rho = 0.8  # Correlation between X and Y\n",
        "num_samples = 10000  # Number of samples\n",
        "burn_in = 1000  # Burn-in period\n",
        "\n",
        "# Initialize\n",
        "x_samples = np.zeros(num_samples)\n",
        "y_samples = np.zeros(num_samples)\n",
        "y_current = 0  # Starting value for y\n",
        "\n",
        "# Gibbs sampling\n",
        "for i in range(num_samples):\n",
        "    # Sample X given Y\n",
        "    x_current = np.random.normal(rho * y_current, np.sqrt(1 - rho**2))\n",
        "    x_samples[i] = x_current\n",
        "\n",
        "    # Sample Y given X\n",
        "    y_current = np.random.normal(rho * x_current, np.sqrt(1 - rho**2))\n",
        "    y_samples[i] = y_current\n",
        "\n",
        "# Discard burn-in samples\n",
        "# (discard the initial set of samples to allow the chain to converge to the\n",
        "# target distribution.)\n",
        "x_samples = x_samples[burn_in:]\n",
        "y_samples = y_samples[burn_in:]\n",
        "\n",
        "# Plot the results\n",
        "plt.figure(figsize=(8, 4))\n",
        "plt.scatter(x_samples, y_samples, alpha=0.5, s=10)\n",
        "plt.xlabel('X')\n",
        "plt.ylabel('Y')\n",
        "plt.title('Gibbs Sampling from a Bivariate Normal Distribution')\n",
        "plt.show()"
      ],
      "metadata": {
        "id": "ODZ-RQeTEvr6"
      },
      "execution_count": null,
      "outputs": []
    },
    {
      "cell_type": "markdown",
      "source": [
        "# Simple example for LDA\n",
        "- sklearn\n",
        "- gensim\n",
        "- example: generated using GPT"
      ],
      "metadata": {
        "id": "09tzTtjJjNhG"
      }
    },
    {
      "cell_type": "code",
      "source": [
        "# sklearn library\n",
        "\n",
        "from sklearn.decomposition import LatentDirichletAllocation\n",
        "import numpy as np\n",
        "\n",
        "# Sample data\n",
        "documents = [\n",
        "    \"I love programming and machine learning.\",\n",
        "    \"Python and R are popular programming languages.\",\n",
        "    \"Data science includes statistics and programming.\",\n",
        "    \"Machine learning can be applied to various fields.\",\n",
        "    \"Statistics is a fundamental aspect of data science.\"\n",
        "]\n",
        "\n",
        "# Preprocess the documents (convert to count vectors)\n",
        "from sklearn.feature_extraction.text import CountVectorizer\n",
        "vectorizer = CountVectorizer()\n",
        "X = vectorizer.fit_transform(documents)\n",
        "\n",
        "# Parameters\n",
        "n_topics = 3\n",
        "alpha = 0.1  # doc_topic_prior\n",
        "beta = 0.01  # topic_word_prior\n",
        "n_iterations = 100  # Number of iterations\n",
        "\n",
        "# Create the LDA model\n",
        "lda = LatentDirichletAllocation(n_components=n_topics,\n",
        "                                doc_topic_prior=alpha,\n",
        "                                topic_word_prior=beta,\n",
        "                                max_iter=n_iterations,\n",
        "                                random_state=0)\n",
        "lda.fit(X)\n",
        "\n",
        "# Get the topic-word matrix\n",
        "topic_word_matrix = lda.components_\n",
        "\n",
        "# Normalize the topic-word matrix to get the probability distribution\n",
        "topic_word_prob = topic_word_matrix / topic_word_matrix.sum(axis=1)[:, np.newaxis]\n",
        "\n",
        "# Display normalized topics\n",
        "# Print the most probable 10 words for each topic.\n",
        "\n",
        "terms = vectorizer.get_feature_names_out()\n",
        "for index, topic in enumerate(topic_word_prob):\n",
        "    print(f\"Topic {index + 1}:\")\n",
        "    print(\" \".join([terms[i] for i in topic.argsort()[:-11:-1]]))"
      ],
      "metadata": {
        "colab": {
          "base_uri": "https://localhost:8080/"
        },
        "id": "u8Jw-UW_bkk7",
        "outputId": "a8e71f1e-22ff-494b-cade-dd52fd5b16eb"
      },
      "execution_count": null,
      "outputs": [
        {
          "output_type": "stream",
          "name": "stdout",
          "text": [
            "Topic 1:\n",
            "and programming are popular languages python love includes statistics science\n",
            "Topic 2:\n",
            "machine learning various applied be can fields to includes are\n",
            "Topic 3:\n",
            "statistics science data fundamental aspect of is various applied are\n"
          ]
        }
      ]
    },
    {
      "cell_type": "code",
      "source": [
        "topic_word_prob[0].argsort()[:-11:-1]"
      ],
      "metadata": {
        "colab": {
          "base_uri": "https://localhost:8080/"
        },
        "id": "F7dw4O4yf3mh",
        "outputId": "49c4c4fe-7c7e-481e-ba21-df803674f75d"
      },
      "execution_count": null,
      "outputs": [
        {
          "output_type": "execute_result",
          "data": {
            "text/plain": [
              "array([ 0,  5,  4, 16, 20, 17, 21, 10,  6,  9])"
            ]
          },
          "metadata": {},
          "execution_count": 11
        }
      ]
    },
    {
      "cell_type": "code",
      "source": [
        "a = np.array([1,2])\n",
        "a[:].shape, a[:,np.newaxis].shape"
      ],
      "metadata": {
        "colab": {
          "base_uri": "https://localhost:8080/"
        },
        "id": "hAsZAph6fBmH",
        "outputId": "133a571a-f1a6-4fcd-eb2c-960d0d0945eb"
      },
      "execution_count": null,
      "outputs": [
        {
          "output_type": "execute_result",
          "data": {
            "text/plain": [
              "((2,), (2, 1))"
            ]
          },
          "metadata": {},
          "execution_count": 8
        }
      ]
    },
    {
      "cell_type": "code",
      "source": [
        "# gensim library\n",
        "\n",
        "from gensim import corpora\n",
        "from gensim.models.ldamodel import LdaModel\n",
        "\n",
        "# Sample data\n",
        "documents = [\n",
        "    \"I love programming and machine learning.\",\n",
        "    \"Python and R are popular programming languages.\",\n",
        "    \"Data science includes statistics and programming.\",\n",
        "    \"Machine learning can be applied to various fields.\",\n",
        "    \"Statistics is a fundamental aspect of data science.\"\n",
        "]\n",
        "\n",
        "# Preprocess the documents (convert to bag-of-words format)\n",
        "texts = [doc.lower().split() for doc in documents]\n",
        "dictionary = corpora.Dictionary(texts)\n",
        "corpus = [dictionary.doc2bow(text) for text in texts]\n",
        "n_iterations =    1000  # Number of iterations\n",
        "\n",
        "# Parameters\n",
        "n_topics = 3\n",
        "alpha = [0.1] * n_topics  # Can also be a single scalar value\n",
        "beta = 0.01               # Can also be a list of values for each word\n",
        "\n",
        "# Create the LDA model\n",
        "lda = LdaModel(corpus=corpus,\n",
        "               num_topics=n_topics,\n",
        "               id2word=dictionary,\n",
        "               alpha=alpha,\n",
        "               eta=beta,\n",
        "               iterations=n_iterations,\n",
        "               random_state=0)\n",
        "\n",
        "# Extract the topic-word distributions\n",
        "topic_word_prob = lda.get_topics()\n",
        "\n",
        "# Display normalized topics\n",
        "for i, topic in enumerate(topic_word_prob):\n",
        "    print(f\"Topic {i + 1}:\")\n",
        "    print(\" \".join([dictionary.get(id) for id in topic.argsort()[:-11:-1]]))"
      ],
      "metadata": {
        "colab": {
          "base_uri": "https://localhost:8080/"
        },
        "id": "JdPUK5CncSZu",
        "outputId": "2e718b70-6fcb-4564-e190-ac8d35dcc19d"
      },
      "execution_count": null,
      "outputs": [
        {
          "output_type": "stream",
          "name": "stderr",
          "text": [
            "WARNING:gensim.models.ldamodel:too few updates, training might not converge; consider increasing the number of passes or iterations to improve accuracy\n"
          ]
        },
        {
          "output_type": "stream",
          "name": "stdout",
          "text": [
            "Topic 1:\n",
            "and programming machine applied learning be to r are python\n",
            "Topic 2:\n",
            "and machine data programming statistics fields. science various science. love\n",
            "Topic 3:\n",
            "statistics data fundamental a programming. and is aspect of includes\n"
          ]
        }
      ]
    },
    {
      "cell_type": "code",
      "source": [],
      "metadata": {
        "id": "gBuMjUIjc5nd"
      },
      "execution_count": null,
      "outputs": []
    }
  ]
}