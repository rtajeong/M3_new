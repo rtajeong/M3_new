{
  "nbformat": 4,
  "nbformat_minor": 0,
  "metadata": {
    "colab": {
      "name": "M3_lab3_1_decisiontree_rev1.ipynb",
      "provenance": [],
      "collapsed_sections": [],
      "include_colab_link": true
    },
    "kernelspec": {
      "display_name": "Python 3",
      "language": "python",
      "name": "python3"
    },
    "language_info": {
      "codemirror_mode": {
        "name": "ipython",
        "version": 3
      },
      "file_extension": ".py",
      "mimetype": "text/x-python",
      "name": "python",
      "nbconvert_exporter": "python",
      "pygments_lexer": "ipython3",
      "version": "3.6.8"
    }
  },
  "cells": [
    {
      "cell_type": "markdown",
      "metadata": {
        "id": "view-in-github",
        "colab_type": "text"
      },
      "source": [
        "<a href=\"https://colab.research.google.com/github/rtajeong/M3_new/blob/main/M3_lab3_1_decisiontree_rev1.ipynb\" target=\"_parent\"><img src=\"https://colab.research.google.com/assets/colab-badge.svg\" alt=\"Open In Colab\"/></a>"
      ]
    },
    {
      "cell_type": "markdown",
      "metadata": {
        "id": "jLiegAgrN9rn"
      },
      "source": [
        "결정트리\n",
        "==\n",
        "데이터\n",
        "--\n",
        "- 붓꽃(iris) 분류 데이터\n"
      ]
    },
    {
      "cell_type": "code",
      "metadata": {
        "id": "IxARNEkiN9rp"
      },
      "source": [
        "from sklearn.datasets import load_iris\n",
        "iris = load_iris()\n",
        "\n",
        "X = iris.data[:, :2] \n",
        "y = iris.target"
      ],
      "execution_count": 1,
      "outputs": []
    },
    {
      "cell_type": "code",
      "metadata": {
        "colab": {
          "base_uri": "https://localhost:8080/"
        },
        "id": "Oq-0Op8FN9rs",
        "outputId": "06634d1b-3f28-4930-cc57-e2ab5a285bae"
      },
      "source": [
        "from sklearn.tree import DecisionTreeClassifier\n",
        "clf = DecisionTreeClassifier(max_depth = 2)\n",
        "clf.fit(X, y)"
      ],
      "execution_count": 2,
      "outputs": [
        {
          "output_type": "execute_result",
          "data": {
            "text/plain": [
              "DecisionTreeClassifier(max_depth=2)"
            ]
          },
          "metadata": {},
          "execution_count": 2
        }
      ]
    },
    {
      "cell_type": "markdown",
      "metadata": {
        "id": "LXbeJAz3N9ry"
      },
      "source": [
        "# 결정 트리 그리기 (옵션)\n",
        "- using tree.plot_tree\n",
        "- using graphviz library"
      ]
    },
    {
      "cell_type": "code",
      "metadata": {
        "colab": {
          "base_uri": "https://localhost:8080/",
          "height": 369
        },
        "id": "Fciur_TJ9OBs",
        "outputId": "18a583ab-7cde-49b9-9e62-4892f6f03c56"
      },
      "source": [
        "from sklearn import tree\n",
        "tree.plot_tree(clf, filled=True) # filled=True -> paint to indicate majority class"
      ],
      "execution_count": 3,
      "outputs": [
        {
          "output_type": "execute_result",
          "data": {
            "text/plain": [
              "[Text(0.5, 0.8333333333333334, 'X[0] <= 5.45\\ngini = 0.667\\nsamples = 150\\nvalue = [50, 50, 50]'),\n",
              " Text(0.25, 0.5, 'X[1] <= 2.8\\ngini = 0.237\\nsamples = 52\\nvalue = [45, 6, 1]'),\n",
              " Text(0.125, 0.16666666666666666, 'gini = 0.449\\nsamples = 7\\nvalue = [1, 5, 1]'),\n",
              " Text(0.375, 0.16666666666666666, 'gini = 0.043\\nsamples = 45\\nvalue = [44, 1, 0]'),\n",
              " Text(0.75, 0.5, 'X[0] <= 6.15\\ngini = 0.546\\nsamples = 98\\nvalue = [5, 44, 49]'),\n",
              " Text(0.625, 0.16666666666666666, 'gini = 0.508\\nsamples = 43\\nvalue = [5, 28, 10]'),\n",
              " Text(0.875, 0.16666666666666666, 'gini = 0.413\\nsamples = 55\\nvalue = [0, 16, 39]')]"
            ]
          },
          "metadata": {},
          "execution_count": 3
        },
        {
          "output_type": "display_data",
          "data": {
            "text/plain": [
              "<Figure size 432x288 with 1 Axes>"
            ],
            "image/png": "[encoded data removed]"
          },
          "metadata": {
            "needs_background": "light"
          }
        }
      ]
    },
    {
      "cell_type": "markdown",
      "metadata": {
        "id": "QtnLyNAmN9rz"
      },
      "source": [
        "Graphbiz 설치\n",
        "--\n",
        "\n",
        "- graphviz.org 사이트에서 다운로드 후 설치\n",
        "- 윈도우 버전:\n",
        "- https://graphviz.gitlab.io/_pages/Download/Download_windows.html"
      ]
    },
    {
      "cell_type": "code",
      "metadata": {
        "id": "EYYj6m8IN9rz"
      },
      "source": [
        "# !pip install graphviz   or\n",
        "# conda install python-graphviz (in cmd 창)\n",
        "# note that the above two commands install graphviz library in different places."
      ],
      "execution_count": 4,
      "outputs": []
    },
    {
      "cell_type": "markdown",
      "metadata": {
        "id": "iq8t-iS29OBv"
      },
      "source": [
        "- export_graphviz(): Export a decision tree in DOT format. This function generates a GraphViz representation of the decision tree, which is then written into out_file\n",
        "- dot file: DOT is a graph description language. DOT graphs are typically files with the filename extension gv or dot."
      ]
    },
    {
      "cell_type": "code",
      "metadata": {
        "id": "dj5vH3YQ9OBv"
      },
      "source": [
        "# graphvis 실행시 path 문제가 있는 경우\n",
        "# - 내 PC (오른쪽 마우스 클릭) -> 속성 -> 고급시스템 -> 환경변수 (시스템변수) -> path 에 graphviz path 추가"
      ],
      "execution_count": 5,
      "outputs": []
    },
    {
      "cell_type": "code",
      "metadata": {
        "id": "dgOBFPSH9OBw"
      },
      "source": [
        "# export_graphviz(): Export a decision tree in DOT format."
      ],
      "execution_count": 6,
      "outputs": []
    },
    {
      "cell_type": "code",
      "metadata": {
        "id": "WjvXWXrJN9r2",
        "scrolled": true
      },
      "source": [
        "from sklearn.tree import export_graphviz\n",
        "import graphviz\n",
        "export_graphviz(\n",
        "    clf,\n",
        "    out_file = \"./iris.dot\",\n",
        "    feature_names = iris.feature_names[:2],\n",
        "    class_names = iris.target_names,\n",
        "    filled = True\n",
        "    )"
      ],
      "execution_count": 7,
      "outputs": []
    },
    {
      "cell_type": "code",
      "metadata": {
        "colab": {
          "base_uri": "https://localhost:8080/",
          "height": 440
        },
        "id": "NgbjTOpxN9r5",
        "scrolled": true,
        "outputId": "047c52dc-83e1-45cf-c656-e61d47d75b2e"
      },
      "source": [
        "with open(\"./iris.dot\") as f:\n",
        "    dot_graph = str(open(\"./iris.dot\", \"rb\").read(), \"utf8\")\n",
        "graphviz.Source(dot_graph)"
      ],
      "execution_count": 8,
      "outputs": [
        {
          "output_type": "execute_result",
          "data": {
            "text/plain": [
              "<graphviz.files.Source at 0x7fd97d9f03d0>"
            ],
            "image/svg+xml": "<?xml version=\"1.0\" encoding=\"UTF-8\" standalone=\"no\"?>\n<!DOCTYPE svg PUBLIC \"-//W3C//DTD SVG 1.1//EN\"\n \"http://www.w3.org/Graphics/SVG/1.1/DTD/svg11.dtd\">\n<!-- Generated by graphviz version 2.40.1 (20161225.0304)\n -->\n<!-- Title: Tree Pages: 1 -->\n<svg width=\"599pt\" height=\"314pt\"\n viewBox=\"0.00 0.00 598.50 314.00\" xmlns=\"http://www.w3.org/2000/svg\" xmlns:xlink=\"http://www.w3.org/1999/xlink\">\n<g id=\"graph0\" class=\"graph\" transform=\"scale(1 1) rotate(0) translate(4 310)\">\n<title>Tree</title>\n<polygon fill=\"#ffffff\" stroke=\"transparent\" points=\"-4,4 -4,-310 594.5,-310 594.5,4 -4,4\"/>\n<!-- 0 -->\n<g id=\"node1\" class=\"node\">\n<title>0</title>\n<polygon fill=\"#ffffff\" stroke=\"#000000\" points=\"381,-306 201,-306 201,-223 381,-223 381,-306\"/>\n<text text-anchor=\"middle\" x=\"291\" y=\"-290.8\" font-family=\"Helvetica,sans-Serif\" font-size=\"14.00\" fill=\"#000000\">sepal length (cm) &lt;= 5.45</text>\n<text text-anchor=\"middle\" x=\"291\" y=\"-275.8\" font-family=\"Helvetica,sans-Serif\" font-size=\"14.00\" fill=\"#000000\">gini = 0.667</text>\n<text text-anchor=\"middle\" x=\"291\" y=\"-260.8\" font-family=\"Helvetica,sans-Serif\" font-size=\"14.00\" fill=\"#000000\">samples = 150</text>\n<text text-anchor=\"middle\" x=\"291\" y=\"-245.8\" font-family=\"Helvetica,sans-Serif\" font-size=\"14.00\" fill=\"#000000\">value = [50, 50, 50]</text>\n<text text-anchor=\"middle\" x=\"291\" y=\"-230.8\" font-family=\"Helvetica,sans-Serif\" font-size=\"14.00\" fill=\"#000000\">class = setosa</text>\n</g>\n<!-- 1 -->\n<g id=\"node2\" class=\"node\">\n<title>1</title>\n<polygon fill=\"#e99457\" stroke=\"#000000\" points=\"279,-187 113,-187 113,-104 279,-104 279,-187\"/>\n<text text-anchor=\"middle\" x=\"196\" y=\"-171.8\" font-family=\"Helvetica,sans-Serif\" font-size=\"14.00\" fill=\"#000000\">sepal width (cm) &lt;= 2.8</text>\n<text text-anchor=\"middle\" x=\"196\" y=\"-156.8\" font-family=\"Helvetica,sans-Serif\" font-size=\"14.00\" fill=\"#000000\">gini = 0.237</text>\n<text text-anchor=\"middle\" x=\"196\" y=\"-141.8\" font-family=\"Helvetica,sans-Serif\" font-size=\"14.00\" fill=\"#000000\">samples = 52</text>\n<text text-anchor=\"middle\" x=\"196\" y=\"-126.8\" font-family=\"Helvetica,sans-Serif\" font-size=\"14.00\" fill=\"#000000\">value = [45, 6, 1]</text>\n<text text-anchor=\"middle\" x=\"196\" y=\"-111.8\" font-family=\"Helvetica,sans-Serif\" font-size=\"14.00\" fill=\"#000000\">class = setosa</text>\n</g>\n<!-- 0&#45;&gt;1 -->\n<g id=\"edge1\" class=\"edge\">\n<title>0&#45;&gt;1</title>\n<path fill=\"none\" stroke=\"#000000\" d=\"M257.7736,-222.8796C250.6556,-213.9633 243.0661,-204.4565 235.7308,-195.268\"/>\n<polygon fill=\"#000000\" stroke=\"#000000\" points=\"238.3425,-192.9295 229.3682,-187.2981 232.8719,-197.2968 238.3425,-192.9295\"/>\n<text text-anchor=\"middle\" x=\"226.5819\" y=\"-208.4423\" font-family=\"Helvetica,sans-Serif\" font-size=\"14.00\" fill=\"#000000\">True</text>\n</g>\n<!-- 4 -->\n<g id=\"node5\" class=\"node\">\n<title>4</title>\n<polygon fill=\"#f3edfd\" stroke=\"#000000\" points=\"477,-187 297,-187 297,-104 477,-104 477,-187\"/>\n<text text-anchor=\"middle\" x=\"387\" y=\"-171.8\" font-family=\"Helvetica,sans-Serif\" font-size=\"14.00\" fill=\"#000000\">sepal length (cm) &lt;= 6.15</text>\n<text text-anchor=\"middle\" x=\"387\" y=\"-156.8\" font-family=\"Helvetica,sans-Serif\" font-size=\"14.00\" fill=\"#000000\">gini = 0.546</text>\n<text text-anchor=\"middle\" x=\"387\" y=\"-141.8\" font-family=\"Helvetica,sans-Serif\" font-size=\"14.00\" fill=\"#000000\">samples = 98</text>\n<text text-anchor=\"middle\" x=\"387\" y=\"-126.8\" font-family=\"Helvetica,sans-Serif\" font-size=\"14.00\" fill=\"#000000\">value = [5, 44, 49]</text>\n<text text-anchor=\"middle\" x=\"387\" y=\"-111.8\" font-family=\"Helvetica,sans-Serif\" font-size=\"14.00\" fill=\"#000000\">class = virginica</text>\n</g>\n<!-- 0&#45;&gt;4 -->\n<g id=\"edge4\" class=\"edge\">\n<title>0&#45;&gt;4</title>\n<path fill=\"none\" stroke=\"#000000\" d=\"M324.5761,-222.8796C331.7691,-213.9633 339.4384,-204.4565 346.851,-195.268\"/>\n<polygon fill=\"#000000\" stroke=\"#000000\" points=\"349.7258,-197.2788 353.2805,-187.2981 344.2776,-192.8836 349.7258,-197.2788\"/>\n<text text-anchor=\"middle\" x=\"355.9398\" y=\"-208.4562\" font-family=\"Helvetica,sans-Serif\" font-size=\"14.00\" fill=\"#000000\">False</text>\n</g>\n<!-- 2 -->\n<g id=\"node3\" class=\"node\">\n<title>2</title>\n<polygon fill=\"#7beeab\" stroke=\"#000000\" points=\"128,-68 0,-68 0,0 128,0 128,-68\"/>\n<text text-anchor=\"middle\" x=\"64\" y=\"-52.8\" font-family=\"Helvetica,sans-Serif\" font-size=\"14.00\" fill=\"#000000\">gini = 0.449</text>\n<text text-anchor=\"middle\" x=\"64\" y=\"-37.8\" font-family=\"Helvetica,sans-Serif\" font-size=\"14.00\" fill=\"#000000\">samples = 7</text>\n<text text-anchor=\"middle\" x=\"64\" y=\"-22.8\" font-family=\"Helvetica,sans-Serif\" font-size=\"14.00\" fill=\"#000000\">value = [1, 5, 1]</text>\n<text text-anchor=\"middle\" x=\"64\" y=\"-7.8\" font-family=\"Helvetica,sans-Serif\" font-size=\"14.00\" fill=\"#000000\">class = versicolor</text>\n</g>\n<!-- 1&#45;&gt;2 -->\n<g id=\"edge2\" class=\"edge\">\n<title>1&#45;&gt;2</title>\n<path fill=\"none\" stroke=\"#000000\" d=\"M146.8481,-103.9815C135.5324,-94.4232 123.5087,-84.2668 112.2325,-74.7419\"/>\n<polygon fill=\"#000000\" stroke=\"#000000\" points=\"114.4612,-72.0429 104.5633,-68.2637 109.9441,-77.3904 114.4612,-72.0429\"/>\n</g>\n<!-- 3 -->\n<g id=\"node4\" class=\"node\">\n<title>3</title>\n<polygon fill=\"#e6843d\" stroke=\"#000000\" points=\"269.5,-68 146.5,-68 146.5,0 269.5,0 269.5,-68\"/>\n<text text-anchor=\"middle\" x=\"208\" y=\"-52.8\" font-family=\"Helvetica,sans-Serif\" font-size=\"14.00\" fill=\"#000000\">gini = 0.043</text>\n<text text-anchor=\"middle\" x=\"208\" y=\"-37.8\" font-family=\"Helvetica,sans-Serif\" font-size=\"14.00\" fill=\"#000000\">samples = 45</text>\n<text text-anchor=\"middle\" x=\"208\" y=\"-22.8\" font-family=\"Helvetica,sans-Serif\" font-size=\"14.00\" fill=\"#000000\">value = [44, 1, 0]</text>\n<text text-anchor=\"middle\" x=\"208\" y=\"-7.8\" font-family=\"Helvetica,sans-Serif\" font-size=\"14.00\" fill=\"#000000\">class = setosa</text>\n</g>\n<!-- 1&#45;&gt;3 -->\n<g id=\"edge3\" class=\"edge\">\n<title>1&#45;&gt;3</title>\n<path fill=\"none\" stroke=\"#000000\" d=\"M200.4684,-103.9815C201.3685,-95.618 202.3179,-86.7965 203.2279,-78.3409\"/>\n<polygon fill=\"#000000\" stroke=\"#000000\" points=\"206.7222,-78.5808 204.3124,-68.2637 199.7624,-77.8317 206.7222,-78.5808\"/>\n</g>\n<!-- 5 -->\n<g id=\"node6\" class=\"node\">\n<title>5</title>\n<polygon fill=\"#93f1ba\" stroke=\"#000000\" points=\"441.5,-68 310.5,-68 310.5,0 441.5,0 441.5,-68\"/>\n<text text-anchor=\"middle\" x=\"376\" y=\"-52.8\" font-family=\"Helvetica,sans-Serif\" font-size=\"14.00\" fill=\"#000000\">gini = 0.508</text>\n<text text-anchor=\"middle\" x=\"376\" y=\"-37.8\" font-family=\"Helvetica,sans-Serif\" font-size=\"14.00\" fill=\"#000000\">samples = 43</text>\n<text text-anchor=\"middle\" x=\"376\" y=\"-22.8\" font-family=\"Helvetica,sans-Serif\" font-size=\"14.00\" fill=\"#000000\">value = [5, 28, 10]</text>\n<text text-anchor=\"middle\" x=\"376\" y=\"-7.8\" font-family=\"Helvetica,sans-Serif\" font-size=\"14.00\" fill=\"#000000\">class = versicolor</text>\n</g>\n<!-- 4&#45;&gt;5 -->\n<g id=\"edge5\" class=\"edge\">\n<title>4&#45;&gt;5</title>\n<path fill=\"none\" stroke=\"#000000\" d=\"M382.904,-103.9815C382.0789,-95.618 381.2086,-86.7965 380.3744,-78.3409\"/>\n<polygon fill=\"#000000\" stroke=\"#000000\" points=\"383.8452,-77.8717 379.3803,-68.2637 376.8791,-78.559 383.8452,-77.8717\"/>\n</g>\n<!-- 6 -->\n<g id=\"node7\" class=\"node\">\n<title>6</title>\n<polygon fill=\"#b58af0\" stroke=\"#000000\" points=\"590.5,-68 459.5,-68 459.5,0 590.5,0 590.5,-68\"/>\n<text text-anchor=\"middle\" x=\"525\" y=\"-52.8\" font-family=\"Helvetica,sans-Serif\" font-size=\"14.00\" fill=\"#000000\">gini = 0.413</text>\n<text text-anchor=\"middle\" x=\"525\" y=\"-37.8\" font-family=\"Helvetica,sans-Serif\" font-size=\"14.00\" fill=\"#000000\">samples = 55</text>\n<text text-anchor=\"middle\" x=\"525\" y=\"-22.8\" font-family=\"Helvetica,sans-Serif\" font-size=\"14.00\" fill=\"#000000\">value = [0, 16, 39]</text>\n<text text-anchor=\"middle\" x=\"525\" y=\"-7.8\" font-family=\"Helvetica,sans-Serif\" font-size=\"14.00\" fill=\"#000000\">class = virginica</text>\n</g>\n<!-- 4&#45;&gt;6 -->\n<g id=\"edge6\" class=\"edge\">\n<title>4&#45;&gt;6</title>\n<path fill=\"none\" stroke=\"#000000\" d=\"M438.3861,-103.9815C450.2161,-94.4232 462.7864,-84.2668 474.5751,-74.7419\"/>\n<polygon fill=\"#000000\" stroke=\"#000000\" points=\"477.0142,-77.2708 482.5929,-68.2637 472.6149,-71.826 477.0142,-77.2708\"/>\n</g>\n</g>\n</svg>\n"
          },
          "metadata": {},
          "execution_count": 8
        }
      ]
    },
    {
      "cell_type": "markdown",
      "metadata": {
        "id": "QxRW-8amN9r9"
      },
      "source": [
        "결정 경계선 그리기\n",
        "--"
      ]
    },
    {
      "cell_type": "code",
      "metadata": {
        "colab": {
          "base_uri": "https://localhost:8080/",
          "height": 300
        },
        "id": "ARBB0fJPN9r-",
        "scrolled": true,
        "outputId": "00f951be-9022-42c5-f50c-7a04512dd2ea"
      },
      "source": [
        "%matplotlib inline\n",
        "import matplotlib.pyplot as plt\n",
        "import numpy as np\n",
        "\n",
        "plt.xlim(4, 8.5)\n",
        "plt.ylim(1.5, 4.5)\n",
        "\n",
        "markers = ['o', '+', '^']\n",
        "for i in range(3):\n",
        "    xs = X[:, 0][y == i]\n",
        "    ys = X[:, 1][y == i]\n",
        "    plt.scatter(xs, ys, marker=markers[i])\n",
        "\n",
        "plt.legend(iris.target_names)\n",
        "plt.xlabel(\"Sepal length\")\n",
        "plt.ylabel(\"Sepal width\")\n",
        "\n",
        "\n",
        "# 결정 트리 경계선: 실선은 루트 노드 점선은 자식 노드\n",
        "xx = np.linspace(5.45, 5.45, 3)\n",
        "yy = np.linspace(1.5, 4.5, 3)\n",
        "plt.plot(xx, yy, '-k') # 검정색 실선\n",
        "\n",
        "xx = np.linspace(4, 5.45, 3)\n",
        "yy = np.linspace(2.8, 2.8, 3)\n",
        "plt.plot(xx, yy, '--b') # 파란색 점선\n",
        "\n",
        "xx = np.linspace(6.15, 6.15, 3)\n",
        "yy = np.linspace(1.5, 4.5, 3)\n",
        "plt.plot(xx, yy, '--r') # 붉은색 점선\n"
      ],
      "execution_count": 9,
      "outputs": [
        {
          "output_type": "execute_result",
          "data": {
            "text/plain": [
              "[<matplotlib.lines.Line2D at 0x7fd97c692050>]"
            ]
          },
          "metadata": {},
          "execution_count": 9
        },
        {
          "output_type": "display_data",
          "data": {
            "text/plain": [
              "<Figure size 432x288 with 1 Axes>"
            ],
            "image/png": "[encoded data removed]"
          },
          "metadata": {
            "needs_background": "light"
          }
        }
      ]
    },
    {
      "cell_type": "code",
      "metadata": {
        "colab": {
          "base_uri": "https://localhost:8080/"
        },
        "id": "aVOw8N1sN9sC",
        "outputId": "42949447-ee25-4fef-bba3-596b0bf077f6"
      },
      "source": [
        "print(clf.predict([[5.5, 4]]))   # prediction"
      ],
      "execution_count": 10,
      "outputs": [
        {
          "output_type": "stream",
          "name": "stdout",
          "text": [
            "[1]\n"
          ]
        }
      ]
    },
    {
      "cell_type": "code",
      "metadata": {
        "colab": {
          "base_uri": "https://localhost:8080/"
        },
        "id": "qsQnDe9TN9sI",
        "scrolled": true,
        "outputId": "22876ebd-e3f2-43f1-bd0b-d84f1dc62ef9"
      },
      "source": [
        "print(clf.predict_proba([[5.5, 4]]))   # prediction probability"
      ],
      "execution_count": 11,
      "outputs": [
        {
          "output_type": "stream",
          "name": "stdout",
          "text": [
            "[[0.11627907 0.65116279 0.23255814]]\n"
          ]
        }
      ]
    },
    {
      "cell_type": "markdown",
      "metadata": {
        "id": "ArMKRYIqN9sM"
      },
      "source": [
        "## 트리 내부 변수\n",
        "### 유방암 분류"
      ]
    },
    {
      "cell_type": "code",
      "metadata": {
        "id": "wtGHC8gsN9sN"
      },
      "source": [
        "from sklearn.datasets import load_breast_cancer\n",
        "from sklearn.tree import DecisionTreeClassifier\n",
        "from sklearn.ensemble import RandomForestClassifier \n",
        "from sklearn.model_selection import train_test_split \n",
        "import matplotlib.pyplot as plt\n",
        "import numpy as np\n",
        "import pandas as pd"
      ],
      "execution_count": 12,
      "outputs": []
    },
    {
      "cell_type": "code",
      "metadata": {
        "id": "6PX_5WDeN9sP"
      },
      "source": [
        "cancer = load_breast_cancer() "
      ],
      "execution_count": 13,
      "outputs": []
    },
    {
      "cell_type": "code",
      "metadata": {
        "colab": {
          "base_uri": "https://localhost:8080/"
        },
        "id": "hKaNxmYn9OB2",
        "outputId": "f8cbbe0a-622d-4f31-aa37-93d0009a0e4e"
      },
      "source": [
        "cancer"
      ],
      "execution_count": 14,
      "outputs": [
        {
          "output_type": "execute_result",
          "data": {
            "text/plain": [
              "{'DESCR': '.. _breast_cancer_dataset:\\n\\nBreast cancer wisconsin (diagnostic) dataset\\n--------------------------------------------\\n\\n**Data Set Characteristics:**\\n\\n    :Number of Instances: 569\\n\\n    :Number of Attributes: 30 numeric, predictive attributes and the class\\n\\n    :Attribute Information:\\n        - radius (mean of distances from center to points on the perimeter)\\n        - texture (standard deviation of gray-scale values)\\n        - perimeter\\n        - area\\n        - smoothness (local variation in radius lengths)\\n        - compactness (perimeter^2 / area - 1.0)\\n        - concavity (severity of concave portions of the contour)\\n        - concave points (number of concave portions of the contour)\\n        - symmetry\\n        - fractal dimension (\"coastline approximation\" - 1)\\n\\n        The mean, standard error, and \"worst\" or largest (mean of the three\\n        worst/largest values) of these features were computed for each image,\\n        resulting in 30 features.  For instance, field 0 is Mean Radius, field\\n        10 is Radius SE, field 20 is Worst Radius.\\n\\n        - class:\\n                - WDBC-Malignant\\n                - WDBC-Benign\\n\\n    :Summary Statistics:\\n\\n    ===================================== ====== ======\\n                                           Min    Max\\n    ===================================== ====== ======\\n    radius (mean):                        6.981  28.11\\n    texture (mean):                       9.71   39.28\\n    perimeter (mean):                     43.79  188.5\\n    area (mean):                          143.5  2501.0\\n    smoothness (mean):                    0.053  0.163\\n    compactness (mean):                   0.019  0.345\\n    concavity (mean):                     0.0    0.427\\n    concave points (mean):                0.0    0.201\\n    symmetry (mean):                      0.106  0.304\\n    fractal dimension (mean):             0.05   0.097\\n    radius (standard error):              0.112  2.873\\n    texture (standard error):             0.36   4.885\\n    perimeter (standard error):           0.757  21.98\\n    area (standard error):                6.802  542.2\\n    smoothness (standard error):          0.002  0.031\\n    compactness (standard error):         0.002  0.135\\n    concavity (standard error):           0.0    0.396\\n    concave points (standard error):      0.0    0.053\\n    symmetry (standard error):            0.008  0.079\\n    fractal dimension (standard error):   0.001  0.03\\n    radius (worst):                       7.93   36.04\\n    texture (worst):                      12.02  49.54\\n    perimeter (worst):                    50.41  251.2\\n    area (worst):                         185.2  4254.0\\n    smoothness (worst):                   0.071  0.223\\n    compactness (worst):                  0.027  1.058\\n    concavity (worst):                    0.0    1.252\\n    concave points (worst):               0.0    0.291\\n    symmetry (worst):                     0.156  0.664\\n    fractal dimension (worst):            0.055  0.208\\n    ===================================== ====== ======\\n\\n    :Missing Attribute Values: None\\n\\n    :Class Distribution: 212 - Malignant, 357 - Benign\\n\\n    :Creator:  Dr. William H. Wolberg, W. Nick Street, Olvi L. Mangasarian\\n\\n    :Donor: Nick Street\\n\\n    :Date: November, 1995\\n\\nThis is a copy of UCI ML Breast Cancer Wisconsin (Diagnostic) datasets.\\nhttps://goo.gl/U2Uwz2\\n\\nFeatures are computed from a digitized image of a fine needle\\naspirate (FNA) of a breast mass.  They describe\\ncharacteristics of the cell nuclei present in the image.\\n\\nSeparating plane described above was obtained using\\nMultisurface Method-Tree (MSM-T) [K. P. Bennett, \"Decision Tree\\nConstruction Via Linear Programming.\" Proceedings of the 4th\\nMidwest Artificial Intelligence and Cognitive Science Society,\\npp. 97-101, 1992], a classification method which uses linear\\nprogramming to construct a decision tree.  Relevant features\\nwere selected using an exhaustive search in the space of 1-4\\nfeatures and 1-3 separating planes.\\n\\nThe actual linear program used to obtain the separating plane\\nin the 3-dimensional space is that described in:\\n[K. P. Bennett and O. L. Mangasarian: \"Robust Linear\\nProgramming Discrimination of Two Linearly Inseparable Sets\",\\nOptimization Methods and Software 1, 1992, 23-34].\\n\\nThis database is also available through the UW CS ftp server:\\n\\nftp ftp.cs.wisc.edu\\ncd math-prog/cpo-dataset/machine-learn/WDBC/\\n\\n.. topic:: References\\n\\n   - W.N. Street, W.H. Wolberg and O.L. Mangasarian. Nuclear feature extraction \\n     for breast tumor diagnosis. IS&T/SPIE 1993 International Symposium on \\n     Electronic Imaging: Science and Technology, volume 1905, pages 861-870,\\n     San Jose, CA, 1993.\\n   - O.L. Mangasarian, W.N. Street and W.H. Wolberg. Breast cancer diagnosis and \\n     prognosis via linear programming. Operations Research, 43(4), pages 570-577, \\n     July-August 1995.\\n   - W.H. Wolberg, W.N. Street, and O.L. Mangasarian. Machine learning techniques\\n     to diagnose breast cancer from fine-needle aspirates. Cancer Letters 77 (1994) \\n     163-171.',\n",
              " 'data': array([[1.799e+01, 1.038e+01, 1.228e+02, ..., 2.654e-01, 4.601e-01,\n",
              "         1.189e-01],\n",
              "        [2.057e+01, 1.777e+01, 1.329e+02, ..., 1.860e-01, 2.750e-01,\n",
              "         8.902e-02],\n",
              "        [1.969e+01, 2.125e+01, 1.300e+02, ..., 2.430e-01, 3.613e-01,\n",
              "         8.758e-02],\n",
              "        ...,\n",
              "        [1.660e+01, 2.808e+01, 1.083e+02, ..., 1.418e-01, 2.218e-01,\n",
              "         7.820e-02],\n",
              "        [2.060e+01, 2.933e+01, 1.401e+02, ..., 2.650e-01, 4.087e-01,\n",
              "         1.240e-01],\n",
              "        [7.760e+00, 2.454e+01, 4.792e+01, ..., 0.000e+00, 2.871e-01,\n",
              "         7.039e-02]]),\n",
              " 'data_module': 'sklearn.datasets.data',\n",
              " 'feature_names': array(['mean radius', 'mean texture', 'mean perimeter', 'mean area',\n",
              "        'mean smoothness', 'mean compactness', 'mean concavity',\n",
              "        'mean concave points', 'mean symmetry', 'mean fractal dimension',\n",
              "        'radius error', 'texture error', 'perimeter error', 'area error',\n",
              "        'smoothness error', 'compactness error', 'concavity error',\n",
              "        'concave points error', 'symmetry error',\n",
              "        'fractal dimension error', 'worst radius', 'worst texture',\n",
              "        'worst perimeter', 'worst area', 'worst smoothness',\n",
              "        'worst compactness', 'worst concavity', 'worst concave points',\n",
              "        'worst symmetry', 'worst fractal dimension'], dtype='<U23'),\n",
              " 'filename': 'breast_cancer.csv',\n",
              " 'frame': None,\n",
              " 'target': array([0, 0, 0, 0, 0, 0, 0, 0, 0, 0, 0, 0, 0, 0, 0, 0, 0, 0, 0, 1, 1, 1,\n",
              "        0, 0, 0, 0, 0, 0, 0, 0, 0, 0, 0, 0, 0, 0, 0, 1, 0, 0, 0, 0, 0, 0,\n",
              "        0, 0, 1, 0, 1, 1, 1, 1, 1, 0, 0, 1, 0, 0, 1, 1, 1, 1, 0, 1, 0, 0,\n",
              "        1, 1, 1, 1, 0, 1, 0, 0, 1, 0, 1, 0, 0, 1, 1, 1, 0, 0, 1, 0, 0, 0,\n",
              "        1, 1, 1, 0, 1, 1, 0, 0, 1, 1, 1, 0, 0, 1, 1, 1, 1, 0, 1, 1, 0, 1,\n",
              "        1, 1, 1, 1, 1, 1, 1, 0, 0, 0, 1, 0, 0, 1, 1, 1, 0, 0, 1, 0, 1, 0,\n",
              "        0, 1, 0, 0, 1, 1, 0, 1, 1, 0, 1, 1, 1, 1, 0, 1, 1, 1, 1, 1, 1, 1,\n",
              "        1, 1, 0, 1, 1, 1, 1, 0, 0, 1, 0, 1, 1, 0, 0, 1, 1, 0, 0, 1, 1, 1,\n",
              "        1, 0, 1, 1, 0, 0, 0, 1, 0, 1, 0, 1, 1, 1, 0, 1, 1, 0, 0, 1, 0, 0,\n",
              "        0, 0, 1, 0, 0, 0, 1, 0, 1, 0, 1, 1, 0, 1, 0, 0, 0, 0, 1, 1, 0, 0,\n",
              "        1, 1, 1, 0, 1, 1, 1, 1, 1, 0, 0, 1, 1, 0, 1, 1, 0, 0, 1, 0, 1, 1,\n",
              "        1, 1, 0, 1, 1, 1, 1, 1, 0, 1, 0, 0, 0, 0, 0, 0, 0, 0, 0, 0, 0, 0,\n",
              "        0, 0, 1, 1, 1, 1, 1, 1, 0, 1, 0, 1, 1, 0, 1, 1, 0, 1, 0, 0, 1, 1,\n",
              "        1, 1, 1, 1, 1, 1, 1, 1, 1, 1, 1, 0, 1, 1, 0, 1, 0, 1, 1, 1, 1, 1,\n",
              "        1, 1, 1, 1, 1, 1, 1, 1, 1, 0, 1, 1, 1, 0, 1, 0, 1, 1, 1, 1, 0, 0,\n",
              "        0, 1, 1, 1, 1, 0, 1, 0, 1, 0, 1, 1, 1, 0, 1, 1, 1, 1, 1, 1, 1, 0,\n",
              "        0, 0, 1, 1, 1, 1, 1, 1, 1, 1, 1, 1, 1, 0, 0, 1, 0, 0, 0, 1, 0, 0,\n",
              "        1, 1, 1, 1, 1, 0, 1, 1, 1, 1, 1, 0, 1, 1, 1, 0, 1, 1, 0, 0, 1, 1,\n",
              "        1, 1, 1, 1, 0, 1, 1, 1, 1, 1, 1, 1, 0, 1, 1, 1, 1, 1, 0, 1, 1, 0,\n",
              "        1, 1, 1, 1, 1, 1, 1, 1, 1, 1, 1, 1, 0, 1, 0, 0, 1, 0, 1, 1, 1, 1,\n",
              "        1, 0, 1, 1, 0, 1, 0, 1, 1, 0, 1, 0, 1, 1, 1, 1, 1, 1, 1, 1, 0, 0,\n",
              "        1, 1, 1, 1, 1, 1, 0, 1, 1, 1, 1, 1, 1, 1, 1, 1, 1, 0, 1, 1, 1, 1,\n",
              "        1, 1, 1, 0, 1, 0, 1, 1, 0, 1, 1, 1, 1, 1, 0, 0, 1, 0, 1, 0, 1, 1,\n",
              "        1, 1, 1, 0, 1, 1, 0, 1, 0, 1, 0, 0, 1, 1, 1, 0, 1, 1, 1, 1, 1, 1,\n",
              "        1, 1, 1, 1, 1, 0, 1, 0, 0, 1, 1, 1, 1, 1, 1, 1, 1, 1, 1, 1, 1, 1,\n",
              "        1, 1, 1, 1, 1, 1, 1, 1, 1, 1, 1, 1, 0, 0, 0, 0, 0, 0, 1]),\n",
              " 'target_names': array(['malignant', 'benign'], dtype='<U9')}"
            ]
          },
          "metadata": {},
          "execution_count": 14
        }
      ]
    },
    {
      "cell_type": "code",
      "source": [
        "cancer.data.dtype"
      ],
      "metadata": {
        "colab": {
          "base_uri": "https://localhost:8080/"
        },
        "id": "jJ1XPm6tNCHU",
        "outputId": "3e787fb3-968b-410a-f3e5-24f33bdfcf23"
      },
      "execution_count": 19,
      "outputs": [
        {
          "output_type": "execute_result",
          "data": {
            "text/plain": [
              "dtype('float64')"
            ]
          },
          "metadata": {},
          "execution_count": 19
        }
      ]
    },
    {
      "cell_type": "code",
      "metadata": {
        "colab": {
          "base_uri": "https://localhost:8080/"
        },
        "id": "eTitxvAR9OB3",
        "outputId": "63b1c9bb-9b08-4927-ea84-a2cc9a2d8442"
      },
      "source": [
        "# dir(cancer)\n",
        "cancer.feature_names"
      ],
      "execution_count": 15,
      "outputs": [
        {
          "output_type": "execute_result",
          "data": {
            "text/plain": [
              "array(['mean radius', 'mean texture', 'mean perimeter', 'mean area',\n",
              "       'mean smoothness', 'mean compactness', 'mean concavity',\n",
              "       'mean concave points', 'mean symmetry', 'mean fractal dimension',\n",
              "       'radius error', 'texture error', 'perimeter error', 'area error',\n",
              "       'smoothness error', 'compactness error', 'concavity error',\n",
              "       'concave points error', 'symmetry error',\n",
              "       'fractal dimension error', 'worst radius', 'worst texture',\n",
              "       'worst perimeter', 'worst area', 'worst smoothness',\n",
              "       'worst compactness', 'worst concavity', 'worst concave points',\n",
              "       'worst symmetry', 'worst fractal dimension'], dtype='<U23')"
            ]
          },
          "metadata": {},
          "execution_count": 15
        }
      ]
    },
    {
      "cell_type": "code",
      "metadata": {
        "id": "8IsAxDhWN9sU"
      },
      "source": [
        "np.random.seed(9)\n",
        "# X_train, X_test, y_train, y_test = train_test_split(\n",
        "#    cancer.data, cancer.target, stratify=cancer.target) \n",
        "# stratify: If not None, data is split in a stratified fashion, using this as the class labels."
      ],
      "execution_count": 16,
      "outputs": []
    },
    {
      "cell_type": "code",
      "metadata": {
        "id": "Z_SEYau39OB4"
      },
      "source": [
        "X_train, X_test, y_train, y_test = train_test_split(cancer.data, cancer.target) "
      ],
      "execution_count": 17,
      "outputs": []
    },
    {
      "cell_type": "code",
      "metadata": {
        "colab": {
          "base_uri": "https://localhost:8080/"
        },
        "id": "8MjjZaYw9OB5",
        "outputId": "a7649474-a212-4a27-c579-de117ca22187"
      },
      "source": [
        "X_train.shape, y_train.shape"
      ],
      "execution_count": 20,
      "outputs": [
        {
          "output_type": "execute_result",
          "data": {
            "text/plain": [
              "((426, 30), (426,))"
            ]
          },
          "metadata": {},
          "execution_count": 20
        }
      ]
    },
    {
      "cell_type": "code",
      "metadata": {
        "colab": {
          "base_uri": "https://localhost:8080/"
        },
        "id": "Q66GQ37x9OB6",
        "outputId": "81ec9aac-a99e-43d5-fec7-826e32f063e8"
      },
      "source": [
        "clf = DecisionTreeClassifier()\n",
        "clf.fit(X_train, y_train)\n",
        "print(clf.score(X_test, y_test))"
      ],
      "execution_count": 21,
      "outputs": [
        {
          "output_type": "stream",
          "name": "stdout",
          "text": [
            "0.9370629370629371\n"
          ]
        }
      ]
    },
    {
      "cell_type": "code",
      "metadata": {
        "id": "pOEbvljF9OB6"
      },
      "source": [
        "# feature importance: is calculated as the decrease in node impurity \n",
        "# weighted by the probability of reaching that node. The node probability \n",
        "# can be calculated by the number of samples that reach the node, \n",
        "# divided by the total number of samples. The higher the value the more \n",
        "# important the feature. 결정트리를 만드는데 기여한 정도"
      ],
      "execution_count": 22,
      "outputs": []
    },
    {
      "cell_type": "code",
      "metadata": {
        "colab": {
          "base_uri": "https://localhost:8080/"
        },
        "id": "va92V7Z7N9sY",
        "outputId": "370a86c0-72ec-487a-9672-d43f58440070"
      },
      "source": [
        "list(zip(cancer.feature_names, clf.feature_importances_.round(4)))"
      ],
      "execution_count": 23,
      "outputs": [
        {
          "output_type": "execute_result",
          "data": {
            "text/plain": [
              "[('mean radius', 0.0074),\n",
              " ('mean texture', 0.043),\n",
              " ('mean perimeter', 0.0),\n",
              " ('mean area', 0.0),\n",
              " ('mean smoothness', 0.0),\n",
              " ('mean compactness', 0.0),\n",
              " ('mean concavity', 0.0),\n",
              " ('mean concave points', 0.0),\n",
              " ('mean symmetry', 0.0),\n",
              " ('mean fractal dimension', 0.0),\n",
              " ('radius error', 0.0),\n",
              " ('texture error', 0.0),\n",
              " ('perimeter error', 0.0),\n",
              " ('area error', 0.0033),\n",
              " ('smoothness error', 0.0),\n",
              " ('compactness error', 0.0188),\n",
              " ('concavity error', 0.0),\n",
              " ('concave points error', 0.0),\n",
              " ('symmetry error', 0.0093),\n",
              " ('fractal dimension error', 0.0),\n",
              " ('worst radius', 0.7116),\n",
              " ('worst texture', 0.0591),\n",
              " ('worst perimeter', 0.0),\n",
              " ('worst area', 0.0),\n",
              " ('worst smoothness', 0.0),\n",
              " ('worst compactness', 0.0211),\n",
              " ('worst concavity', 0.0106),\n",
              " ('worst concave points', 0.1157),\n",
              " ('worst symmetry', 0.0),\n",
              " ('worst fractal dimension', 0.0)]"
            ]
          },
          "metadata": {},
          "execution_count": 23
        }
      ]
    },
    {
      "cell_type": "code",
      "metadata": {
        "id": "KR52om1VN9sb"
      },
      "source": [
        "df = pd.DataFrame({'feature':cancer.feature_names,'importance':clf.feature_importances_ })"
      ],
      "execution_count": 24,
      "outputs": []
    },
    {
      "cell_type": "code",
      "metadata": {
        "colab": {
          "base_uri": "https://localhost:8080/",
          "height": 990
        },
        "id": "zRlDpyLAN9se",
        "outputId": "def5b0b2-dc5f-4078-a696-abdac81e8c9c"
      },
      "source": [
        "df"
      ],
      "execution_count": 25,
      "outputs": [
        {
          "output_type": "execute_result",
          "data": {
            "text/plain": [
              "                    feature  importance\n",
              "0               mean radius    0.007389\n",
              "1              mean texture    0.043044\n",
              "2            mean perimeter    0.000000\n",
              "3                 mean area    0.000000\n",
              "4           mean smoothness    0.000000\n",
              "5          mean compactness    0.000000\n",
              "6            mean concavity    0.000000\n",
              "7       mean concave points    0.000000\n",
              "8             mean symmetry    0.000000\n",
              "9    mean fractal dimension    0.000000\n",
              "10             radius error    0.000000\n",
              "11            texture error    0.000000\n",
              "12          perimeter error    0.000000\n",
              "13               area error    0.003323\n",
              "14         smoothness error    0.000000\n",
              "15        compactness error    0.018815\n",
              "16          concavity error    0.000000\n",
              "17     concave points error    0.000000\n",
              "18           symmetry error    0.009318\n",
              "19  fractal dimension error    0.000000\n",
              "20             worst radius    0.711625\n",
              "21            worst texture    0.059071\n",
              "22          worst perimeter    0.000000\n",
              "23               worst area    0.000000\n",
              "24         worst smoothness    0.000000\n",
              "25        worst compactness    0.021073\n",
              "26          worst concavity    0.010635\n",
              "27     worst concave points    0.115708\n",
              "28           worst symmetry    0.000000\n",
              "29  worst fractal dimension    0.000000"
            ],
            "text/html": [
              "\n",
              "  <div id=\"df-92c3bbaa-9350-4d9b-8984-24d7f8116d37\">\n",
              "    <div class=\"colab-df-container\">\n",
              "      <div>\n",
              "<style scoped>\n",
              "    .dataframe tbody tr th:only-of-type {\n",
              "        vertical-align: middle;\n",
              "    }\n",
              "\n",
              "    .dataframe tbody tr th {\n",
              "        vertical-align: top;\n",
              "    }\n",
              "\n",
              "    .dataframe thead th {\n",
              "        text-align: right;\n",
              "    }\n",
              "</style>\n",
              "<table border=\"1\" class=\"dataframe\">\n",
              "  <thead>\n",
              "    <tr style=\"text-align: right;\">\n",
              "      <th></th>\n",
              "      <th>feature</th>\n",
              "      <th>importance</th>\n",
              "    </tr>\n",
              "  </thead>\n",
              "  <tbody>\n",
              "    <tr>\n",
              "      <th>0</th>\n",
              "      <td>mean radius</td>\n",
              "      <td>0.007389</td>\n",
              "    </tr>\n",
              "    <tr>\n",
              "      <th>1</th>\n",
              "      <td>mean texture</td>\n",
              "      <td>0.043044</td>\n",
              "    </tr>\n",
              "    <tr>\n",
              "      <th>2</th>\n",
              "      <td>mean perimeter</td>\n",
              "      <td>0.000000</td>\n",
              "    </tr>\n",
              "    <tr>\n",
              "      <th>3</th>\n",
              "      <td>mean area</td>\n",
              "      <td>0.000000</td>\n",
              "    </tr>\n",
              "    <tr>\n",
              "      <th>4</th>\n",
              "      <td>mean smoothness</td>\n",
              "      <td>0.000000</td>\n",
              "    </tr>\n",
              "    <tr>\n",
              "      <th>5</th>\n",
              "      <td>mean compactness</td>\n",
              "      <td>0.000000</td>\n",
              "    </tr>\n",
              "    <tr>\n",
              "      <th>6</th>\n",
              "      <td>mean concavity</td>\n",
              "      <td>0.000000</td>\n",
              "    </tr>\n",
              "    <tr>\n",
              "      <th>7</th>\n",
              "      <td>mean concave points</td>\n",
              "      <td>0.000000</td>\n",
              "    </tr>\n",
              "    <tr>\n",
              "      <th>8</th>\n",
              "      <td>mean symmetry</td>\n",
              "      <td>0.000000</td>\n",
              "    </tr>\n",
              "    <tr>\n",
              "      <th>9</th>\n",
              "      <td>mean fractal dimension</td>\n",
              "      <td>0.000000</td>\n",
              "    </tr>\n",
              "    <tr>\n",
              "      <th>10</th>\n",
              "      <td>radius error</td>\n",
              "      <td>0.000000</td>\n",
              "    </tr>\n",
              "    <tr>\n",
              "      <th>11</th>\n",
              "      <td>texture error</td>\n",
              "      <td>0.000000</td>\n",
              "    </tr>\n",
              "    <tr>\n",
              "      <th>12</th>\n",
              "      <td>perimeter error</td>\n",
              "      <td>0.000000</td>\n",
              "    </tr>\n",
              "    <tr>\n",
              "      <th>13</th>\n",
              "      <td>area error</td>\n",
              "      <td>0.003323</td>\n",
              "    </tr>\n",
              "    <tr>\n",
              "      <th>14</th>\n",
              "      <td>smoothness error</td>\n",
              "      <td>0.000000</td>\n",
              "    </tr>\n",
              "    <tr>\n",
              "      <th>15</th>\n",
              "      <td>compactness error</td>\n",
              "      <td>0.018815</td>\n",
              "    </tr>\n",
              "    <tr>\n",
              "      <th>16</th>\n",
              "      <td>concavity error</td>\n",
              "      <td>0.000000</td>\n",
              "    </tr>\n",
              "    <tr>\n",
              "      <th>17</th>\n",
              "      <td>concave points error</td>\n",
              "      <td>0.000000</td>\n",
              "    </tr>\n",
              "    <tr>\n",
              "      <th>18</th>\n",
              "      <td>symmetry error</td>\n",
              "      <td>0.009318</td>\n",
              "    </tr>\n",
              "    <tr>\n",
              "      <th>19</th>\n",
              "      <td>fractal dimension error</td>\n",
              "      <td>0.000000</td>\n",
              "    </tr>\n",
              "    <tr>\n",
              "      <th>20</th>\n",
              "      <td>worst radius</td>\n",
              "      <td>0.711625</td>\n",
              "    </tr>\n",
              "    <tr>\n",
              "      <th>21</th>\n",
              "      <td>worst texture</td>\n",
              "      <td>0.059071</td>\n",
              "    </tr>\n",
              "    <tr>\n",
              "      <th>22</th>\n",
              "      <td>worst perimeter</td>\n",
              "      <td>0.000000</td>\n",
              "    </tr>\n",
              "    <tr>\n",
              "      <th>23</th>\n",
              "      <td>worst area</td>\n",
              "      <td>0.000000</td>\n",
              "    </tr>\n",
              "    <tr>\n",
              "      <th>24</th>\n",
              "      <td>worst smoothness</td>\n",
              "      <td>0.000000</td>\n",
              "    </tr>\n",
              "    <tr>\n",
              "      <th>25</th>\n",
              "      <td>worst compactness</td>\n",
              "      <td>0.021073</td>\n",
              "    </tr>\n",
              "    <tr>\n",
              "      <th>26</th>\n",
              "      <td>worst concavity</td>\n",
              "      <td>0.010635</td>\n",
              "    </tr>\n",
              "    <tr>\n",
              "      <th>27</th>\n",
              "      <td>worst concave points</td>\n",
              "      <td>0.115708</td>\n",
              "    </tr>\n",
              "    <tr>\n",
              "      <th>28</th>\n",
              "      <td>worst symmetry</td>\n",
              "      <td>0.000000</td>\n",
              "    </tr>\n",
              "    <tr>\n",
              "      <th>29</th>\n",
              "      <td>worst fractal dimension</td>\n",
              "      <td>0.000000</td>\n",
              "    </tr>\n",
              "  </tbody>\n",
              "</table>\n",
              "</div>\n",
              "      <button class=\"colab-df-convert\" onclick=\"convertToInteractive('df-92c3bbaa-9350-4d9b-8984-24d7f8116d37')\"\n",
              "              title=\"Convert this dataframe to an interactive table.\"\n",
              "              style=\"display:none;\">\n",
              "        \n",
              "  <svg xmlns=\"http://www.w3.org/2000/svg\" height=\"24px\"viewBox=\"0 0 24 24\"\n",
              "       width=\"24px\">\n",
              "    <path d=\"M0 0h24v24H0V0z\" fill=\"none\"/>\n",
              "    <path d=\"M18.56 5.44l.94 2.06.94-2.06 2.06-.94-2.06-.94-.94-2.06-.94 2.06-2.06.94zm-11 1L8.5 8.5l.94-2.06 2.06-.94-2.06-.94L8.5 2.5l-.94 2.06-2.06.94zm10 10l.94 2.06.94-2.06 2.06-.94-2.06-.94-.94-2.06-.94 2.06-2.06.94z\"/><path d=\"M17.41 7.96l-1.37-1.37c-.4-.4-.92-.59-1.43-.59-.52 0-1.04.2-1.43.59L10.3 9.45l-7.72 7.72c-.78.78-.78 2.05 0 2.83L4 21.41c.39.39.9.59 1.41.59.51 0 1.02-.2 1.41-.59l7.78-7.78 2.81-2.81c.8-.78.8-2.07 0-2.86zM5.41 20L4 18.59l7.72-7.72 1.47 1.35L5.41 20z\"/>\n",
              "  </svg>\n",
              "      </button>\n",
              "      \n",
              "  <style>\n",
              "    .colab-df-container {\n",
              "      display:flex;\n",
              "      flex-wrap:wrap;\n",
              "      gap: 12px;\n",
              "    }\n",
              "\n",
              "    .colab-df-convert {\n",
              "      background-color: #E8F0FE;\n",
              "      border: none;\n",
              "      border-radius: 50%;\n",
              "      cursor: pointer;\n",
              "      display: none;\n",
              "      fill: #1967D2;\n",
              "      height: 32px;\n",
              "      padding: 0 0 0 0;\n",
              "      width: 32px;\n",
              "    }\n",
              "\n",
              "    .colab-df-convert:hover {\n",
              "      background-color: #E2EBFA;\n",
              "      box-shadow: 0px 1px 2px rgba(60, 64, 67, 0.3), 0px 1px 3px 1px rgba(60, 64, 67, 0.15);\n",
              "      fill: #174EA6;\n",
              "    }\n",
              "\n",
              "    [theme=dark] .colab-df-convert {\n",
              "      background-color: #3B4455;\n",
              "      fill: #D2E3FC;\n",
              "    }\n",
              "\n",
              "    [theme=dark] .colab-df-convert:hover {\n",
              "      background-color: #434B5C;\n",
              "      box-shadow: 0px 1px 3px 1px rgba(0, 0, 0, 0.15);\n",
              "      filter: drop-shadow(0px 1px 2px rgba(0, 0, 0, 0.3));\n",
              "      fill: #FFFFFF;\n",
              "    }\n",
              "  </style>\n",
              "\n",
              "      <script>\n",
              "        const buttonEl =\n",
              "          document.querySelector('#df-92c3bbaa-9350-4d9b-8984-24d7f8116d37 button.colab-df-convert');\n",
              "        buttonEl.style.display =\n",
              "          google.colab.kernel.accessAllowed ? 'block' : 'none';\n",
              "\n",
              "        async function convertToInteractive(key) {\n",
              "          const element = document.querySelector('#df-92c3bbaa-9350-4d9b-8984-24d7f8116d37');\n",
              "          const dataTable =\n",
              "            await google.colab.kernel.invokeFunction('convertToInteractive',\n",
              "                                                     [key], {});\n",
              "          if (!dataTable) return;\n",
              "\n",
              "          const docLinkHtml = 'Like what you see? Visit the ' +\n",
              "            '<a target=\"_blank\" href=https://colab.research.google.com/notebooks/data_table.ipynb>data table notebook</a>'\n",
              "            + ' to learn more about interactive tables.';\n",
              "          element.innerHTML = '';\n",
              "          dataTable['output_type'] = 'display_data';\n",
              "          await google.colab.output.renderOutput(dataTable, element);\n",
              "          const docLink = document.createElement('div');\n",
              "          docLink.innerHTML = docLinkHtml;\n",
              "          element.appendChild(docLink);\n",
              "        }\n",
              "      </script>\n",
              "    </div>\n",
              "  </div>\n",
              "  "
            ]
          },
          "metadata": {},
          "execution_count": 25
        }
      ]
    },
    {
      "cell_type": "code",
      "metadata": {
        "colab": {
          "base_uri": "https://localhost:8080/"
        },
        "id": "yHLpdf83N9sj",
        "outputId": "ce69f4ab-890d-4276-8a0f-6a3e43dd0b80"
      },
      "source": [
        "df=df.sort_values(by='importance', ascending=False) \n",
        "print(df.head(20))"
      ],
      "execution_count": 26,
      "outputs": [
        {
          "output_type": "stream",
          "name": "stdout",
          "text": [
            "                   feature  importance\n",
            "20            worst radius    0.711625\n",
            "27    worst concave points    0.115708\n",
            "21           worst texture    0.059071\n",
            "1             mean texture    0.043044\n",
            "25       worst compactness    0.021073\n",
            "15       compactness error    0.018815\n",
            "26         worst concavity    0.010635\n",
            "18          symmetry error    0.009318\n",
            "0              mean radius    0.007389\n",
            "13              area error    0.003323\n",
            "9   mean fractal dimension    0.000000\n",
            "6           mean concavity    0.000000\n",
            "28          worst symmetry    0.000000\n",
            "2           mean perimeter    0.000000\n",
            "3                mean area    0.000000\n",
            "4          mean smoothness    0.000000\n",
            "24        worst smoothness    0.000000\n",
            "23              worst area    0.000000\n",
            "22         worst perimeter    0.000000\n",
            "5         mean compactness    0.000000\n"
          ]
        }
      ]
    },
    {
      "cell_type": "code",
      "metadata": {
        "colab": {
          "base_uri": "https://localhost:8080/"
        },
        "id": "48E7yVkQ9OB9",
        "outputId": "3628354f-fe56-4ef0-fc90-c0a53d2ef1fb"
      },
      "source": [
        "df.shape"
      ],
      "execution_count": 27,
      "outputs": [
        {
          "output_type": "execute_result",
          "data": {
            "text/plain": [
              "(30, 2)"
            ]
          },
          "metadata": {},
          "execution_count": 27
        }
      ]
    },
    {
      "cell_type": "code",
      "metadata": {
        "colab": {
          "base_uri": "https://localhost:8080/"
        },
        "id": "PMcgfzxe9OB9",
        "outputId": "580c8ad9-620e-4821-9321-a5c17c07bb62"
      },
      "source": [
        "len(df.feature)"
      ],
      "execution_count": 28,
      "outputs": [
        {
          "output_type": "execute_result",
          "data": {
            "text/plain": [
              "30"
            ]
          },
          "metadata": {},
          "execution_count": 28
        }
      ]
    },
    {
      "cell_type": "code",
      "metadata": {
        "colab": {
          "base_uri": "https://localhost:8080/",
          "height": 442
        },
        "id": "_i_E1kzaN9sp",
        "outputId": "f3b3661c-f99e-4721-b024-937aa9839bd0"
      },
      "source": [
        "x = df.feature\n",
        "y = df.importance\n",
        "ypos = np.arange(len(x))\n",
        "plt.figure(figsize=(10,7)) \n",
        "plt.barh(x, y) \n",
        "plt.yticks(ypos, x) \n",
        "plt.xlabel('Importance') \n",
        "plt.ylabel('Variable') \n",
        "plt.xlim(0, 1) \n",
        "plt.ylim(-1, len(x)) \n",
        "plt.show()"
      ],
      "execution_count": 29,
      "outputs": [
        {
          "output_type": "display_data",
          "data": {
            "text/plain": [
              "<Figure size 720x504 with 1 Axes>"
            ],
            "image/png": "[encoded data removed]"
          },
          "metadata": {
            "needs_background": "light"
          }
        }
      ]
    },
    {
      "cell_type": "code",
      "metadata": {
        "colab": {
          "base_uri": "https://localhost:8080/",
          "height": 555
        },
        "id": "Uzq6NlY39OB-",
        "outputId": "7a6195ff-7304-4423-fef2-b36dc40e325a"
      },
      "source": [
        "x = df.feature\n",
        "y = df.importance\n",
        "\n",
        "plt.figure(figsize=(10,7)) \n",
        "plt.bar(x, y) \n",
        "plt.ylabel('Importance') \n",
        "plt.xlabel('Variable') \n",
        "plt.xticks(rotation=90)\n",
        "plt.ylim(0, 1) \n",
        "plt.xlim(-1, len(x)) \n",
        "plt.show()"
      ],
      "execution_count": 30,
      "outputs": [
        {
          "output_type": "display_data",
          "data": {
            "text/plain": [
              "<Figure size 720x504 with 1 Axes>"
            ],
            "image/png": "[encoded data removed]"
          },
          "metadata": {
            "needs_background": "light"
          }
        }
      ]
    },
    {
      "cell_type": "code",
      "metadata": {
        "colab": {
          "base_uri": "https://localhost:8080/"
        },
        "id": "gytYsnUY9OB_",
        "outputId": "c1f119e5-bd40-493c-da47-7e27f94002cb"
      },
      "source": [
        "# exercise for tree regressor() ********************추후에*********\n",
        "from sklearn.tree import DecisionTreeRegressor\n",
        "from sklearn.model_selection import train_test_split\n",
        "X = iris.data[:,:2]\n",
        "y = iris.data[:,2]\n",
        "X_train, X_test, y_train, y_test = train_test_split(X, y, test_size=0.2)\n",
        "\n",
        "tr_reg1 = DecisionTreeRegressor(max_depth=2)\n",
        "tr_reg2 = DecisionTreeRegressor(max_depth=5)\n",
        "tr_reg1.fit(X_train,y_train)\n",
        "tr_reg2.fit(X_train,y_train)\n",
        "tr_reg1.score(X_test, y_test), tr_reg2.score(X_test, y_test)"
      ],
      "execution_count": 31,
      "outputs": [
        {
          "output_type": "execute_result",
          "data": {
            "text/plain": [
              "(0.8273026760637123, 0.8239910886453354)"
            ]
          },
          "metadata": {},
          "execution_count": 31
        }
      ]
    },
    {
      "cell_type": "code",
      "metadata": {
        "colab": {
          "base_uri": "https://localhost:8080/",
          "height": 369
        },
        "id": "XemW_fCr9OB_",
        "outputId": "918f1bc2-d7af-47bb-9404-8291d4e5ffce"
      },
      "source": [
        "tree.plot_tree(tr_reg1, filled=True)"
      ],
      "execution_count": 32,
      "outputs": [
        {
          "output_type": "execute_result",
          "data": {
            "text/plain": [
              "[Text(0.5, 0.8333333333333334, 'X[0] <= 5.55\\nsquared_error = 3.341\\nsamples = 120\\nvalue = 3.702'),\n",
              " Text(0.25, 0.5, 'X[1] <= 2.8\\nsquared_error = 0.893\\nsamples = 48\\nvalue = 1.831'),\n",
              " Text(0.125, 0.16666666666666666, 'squared_error = 1.017\\nsamples = 7\\nvalue = 3.6'),\n",
              " Text(0.375, 0.16666666666666666, 'squared_error = 0.247\\nsamples = 41\\nvalue = 1.529'),\n",
              " Text(0.75, 0.5, 'X[0] <= 5.85\\nsquared_error = 1.081\\nsamples = 72\\nvalue = 4.95'),\n",
              " Text(0.625, 0.16666666666666666, 'squared_error = 1.361\\nsamples = 18\\nvalue = 3.856'),\n",
              " Text(0.875, 0.16666666666666666, 'squared_error = 0.456\\nsamples = 54\\nvalue = 5.315')]"
            ]
          },
          "metadata": {},
          "execution_count": 32
        },
        {
          "output_type": "display_data",
          "data": {
            "text/plain": [
              "<Figure size 432x288 with 1 Axes>"
            ],
            "image/png": "[encoded data removed]"
          },
          "metadata": {
            "needs_background": "light"
          }
        }
      ]
    },
    {
      "cell_type": "code",
      "metadata": {
        "colab": {
          "base_uri": "https://localhost:8080/",
          "height": 1000
        },
        "id": "qdbonI5l9OCA",
        "outputId": "24ea2dc4-4221-4284-cb4d-3199017fb59e"
      },
      "source": [
        "tree.plot_tree(tr_reg2, filled=True)"
      ],
      "execution_count": 33,
      "outputs": [
        {
          "output_type": "execute_result",
          "data": {
            "text/plain": [
              "[Text(0.4427083333333333, 0.9166666666666666, 'X[0] <= 5.55\\nsquared_error = 3.341\\nsamples = 120\\nvalue = 3.702'),\n",
              " Text(0.18229166666666666, 0.75, 'X[1] <= 2.8\\nsquared_error = 0.893\\nsamples = 48\\nvalue = 1.831'),\n",
              " Text(0.0625, 0.5833333333333334, 'X[0] <= 4.7\\nsquared_error = 1.017\\nsamples = 7\\nvalue = 3.6'),\n",
              " Text(0.041666666666666664, 0.4166666666666667, 'squared_error = 0.0\\nsamples = 1\\nvalue = 1.3'),\n",
              " Text(0.08333333333333333, 0.4166666666666667, 'X[1] <= 2.45\\nsquared_error = 0.158\\nsamples = 6\\nvalue = 3.983'),\n",
              " Text(0.041666666666666664, 0.25, 'X[0] <= 5.25\\nsquared_error = 0.087\\nsamples = 3\\nvalue = 3.7'),\n",
              " Text(0.020833333333333332, 0.08333333333333333, 'squared_error = 0.0\\nsamples = 1\\nvalue = 3.3'),\n",
              " Text(0.0625, 0.08333333333333333, 'squared_error = 0.01\\nsamples = 2\\nvalue = 3.9'),\n",
              " Text(0.125, 0.25, 'X[1] <= 2.65\\nsquared_error = 0.069\\nsamples = 3\\nvalue = 4.267'),\n",
              " Text(0.10416666666666667, 0.08333333333333333, 'squared_error = 0.002\\nsamples = 2\\nvalue = 4.45'),\n",
              " Text(0.14583333333333334, 0.08333333333333333, 'squared_error = -0.0\\nsamples = 1\\nvalue = 3.9'),\n",
              " Text(0.3020833333333333, 0.5833333333333334, 'X[0] <= 5.35\\nsquared_error = 0.247\\nsamples = 41\\nvalue = 1.529'),\n",
              " Text(0.25, 0.4166666666666667, 'X[0] <= 4.65\\nsquared_error = 0.027\\nsamples = 33\\nvalue = 1.448'),\n",
              " Text(0.20833333333333334, 0.25, 'X[1] <= 3.5\\nsquared_error = 0.022\\nsamples = 7\\nvalue = 1.271'),\n",
              " Text(0.1875, 0.08333333333333333, 'squared_error = 0.011\\nsamples = 6\\nvalue = 1.317'),\n",
              " Text(0.22916666666666666, 0.08333333333333333, 'squared_error = 0.0\\nsamples = 1\\nvalue = 1.0'),\n",
              " Text(0.2916666666666667, 0.25, 'X[1] <= 3.75\\nsquared_error = 0.018\\nsamples = 26\\nvalue = 1.496'),\n",
              " Text(0.2708333333333333, 0.08333333333333333, 'squared_error = 0.013\\nsamples = 22\\nvalue = 1.473'),\n",
              " Text(0.3125, 0.08333333333333333, 'squared_error = 0.027\\nsamples = 4\\nvalue = 1.625'),\n",
              " Text(0.3541666666666667, 0.4166666666666667, 'X[1] <= 3.2\\nsquared_error = 1.015\\nsamples = 8\\nvalue = 1.862'),\n",
              " Text(0.3333333333333333, 0.25, 'squared_error = 0.0\\nsamples = 1\\nvalue = 4.5'),\n",
              " Text(0.375, 0.25, 'X[0] <= 5.45\\nsquared_error = 0.024\\nsamples = 7\\nvalue = 1.486'),\n",
              " Text(0.3541666666666667, 0.08333333333333333, 'squared_error = 0.022\\nsamples = 5\\nvalue = 1.54'),\n",
              " Text(0.3958333333333333, 0.08333333333333333, 'squared_error = 0.002\\nsamples = 2\\nvalue = 1.35'),\n",
              " Text(0.703125, 0.75, 'X[0] <= 5.85\\nsquared_error = 1.081\\nsamples = 72\\nvalue = 4.95'),\n",
              " Text(0.5729166666666666, 0.5833333333333334, 'X[1] <= 3.4\\nsquared_error = 1.361\\nsamples = 18\\nvalue = 3.856'),\n",
              " Text(0.5, 0.4166666666666667, 'X[1] <= 2.65\\nsquared_error = 0.256\\nsamples = 15\\nvalue = 4.333'),\n",
              " Text(0.4583333333333333, 0.25, 'X[0] <= 5.75\\nsquared_error = 0.062\\nsamples = 2\\nvalue = 3.75'),\n",
              " Text(0.4375, 0.08333333333333333, 'squared_error = 0.0\\nsamples = 1\\nvalue = 3.5'),\n",
              " Text(0.4791666666666667, 0.08333333333333333, 'squared_error = 0.0\\nsamples = 1\\nvalue = 4.0'),\n",
              " Text(0.5416666666666666, 0.25, 'X[0] <= 5.75\\nsquared_error = 0.225\\nsamples = 13\\nvalue = 4.423'),\n",
              " Text(0.5208333333333334, 0.08333333333333333, 'squared_error = 0.114\\nsamples = 9\\nvalue = 4.256'),\n",
              " Text(0.5625, 0.08333333333333333, 'squared_error = 0.27\\nsamples = 4\\nvalue = 4.8'),\n",
              " Text(0.6458333333333334, 0.4166666666666667, 'X[0] <= 5.75\\nsquared_error = 0.042\\nsamples = 3\\nvalue = 1.467'),\n",
              " Text(0.625, 0.25, 'X[1] <= 4.1\\nsquared_error = 0.01\\nsamples = 2\\nvalue = 1.6'),\n",
              " Text(0.6041666666666666, 0.08333333333333333, 'squared_error = 0.0\\nsamples = 1\\nvalue = 1.7'),\n",
              " Text(0.6458333333333334, 0.08333333333333333, 'squared_error = -0.0\\nsamples = 1\\nvalue = 1.5'),\n",
              " Text(0.6666666666666666, 0.25, 'squared_error = 0.0\\nsamples = 1\\nvalue = 1.2'),\n",
              " Text(0.8333333333333334, 0.5833333333333334, 'X[0] <= 7.05\\nsquared_error = 0.456\\nsamples = 54\\nvalue = 5.315'),\n",
              " Text(0.75, 0.4166666666666667, 'X[1] <= 2.95\\nsquared_error = 0.22\\nsamples = 44\\nvalue = 5.073'),\n",
              " Text(0.7083333333333334, 0.25, 'X[1] <= 2.85\\nsquared_error = 0.211\\nsamples = 19\\nvalue = 4.879'),\n",
              " Text(0.6875, 0.08333333333333333, 'squared_error = 0.219\\nsamples = 15\\nvalue = 4.973'),\n",
              " Text(0.7291666666666666, 0.08333333333333333, 'squared_error = 0.022\\nsamples = 4\\nvalue = 4.525'),\n",
              " Text(0.7916666666666666, 0.25, 'X[0] <= 6.15\\nsquared_error = 0.177\\nsamples = 25\\nvalue = 5.22'),\n",
              " Text(0.7708333333333334, 0.08333333333333333, 'squared_error = 0.033\\nsamples = 4\\nvalue = 4.85'),\n",
              " Text(0.8125, 0.08333333333333333, 'squared_error = 0.173\\nsamples = 21\\nvalue = 5.29'),\n",
              " Text(0.9166666666666666, 0.4166666666666667, 'X[0] <= 7.5\\nsquared_error = 0.1\\nsamples = 10\\nvalue = 6.38'),\n",
              " Text(0.875, 0.25, 'X[0] <= 7.15\\nsquared_error = 0.02\\nsamples = 4\\nvalue = 6.1'),\n",
              " Text(0.8541666666666666, 0.08333333333333333, 'squared_error = 0.0\\nsamples = 1\\nvalue = 5.9'),\n",
              " Text(0.8958333333333334, 0.08333333333333333, 'squared_error = 0.009\\nsamples = 3\\nvalue = 6.167'),\n",
              " Text(0.9583333333333334, 0.25, 'X[1] <= 2.9\\nsquared_error = 0.066\\nsamples = 6\\nvalue = 6.567'),\n",
              " Text(0.9375, 0.08333333333333333, 'squared_error = 0.01\\nsamples = 2\\nvalue = 6.8'),\n",
              " Text(0.9791666666666666, 0.08333333333333333, 'squared_error = 0.052\\nsamples = 4\\nvalue = 6.45')]"
            ]
          },
          "metadata": {},
          "execution_count": 33
        },
        {
          "output_type": "display_data",
          "data": {
            "text/plain": [
              "<Figure size 432x288 with 1 Axes>"
            ],
            "image/png": "[encoded data removed]"
          },
          "metadata": {
            "needs_background": "light"
          }
        }
      ]
    },
    {
      "cell_type": "code",
      "metadata": {
        "id": "jtJ_-zzh9OCA"
      },
      "source": [
        ""
      ],
      "execution_count": null,
      "outputs": []
    }
  ]
}