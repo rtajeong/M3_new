{
  "nbformat": 4,
  "nbformat_minor": 0,
  "metadata": {
    "accelerator": "GPU",
    "colab": {
      "provenance": [],
      "toc_visible": true,
      "include_colab_link": true
    },
    "kernelspec": {
      "display_name": "Python 3",
      "language": "python",
      "name": "python3"
    },
    "language_info": {
      "codemirror_mode": {
        "name": "ipython",
        "version": 3
      },
      "file_extension": ".py",
      "mimetype": "text/x-python",
      "name": "python",
      "nbconvert_exporter": "python",
      "pygments_lexer": "ipython3",
      "version": "3.6.8"
    }
  },
  "cells": [
    {
      "cell_type": "markdown",
      "metadata": {
        "id": "view-in-github",
        "colab_type": "text"
      },
      "source": [
        "<a href=\"https://colab.research.google.com/github/rtajeong/M3_new/blob/main/M3_lab56_topic_modeling_rev5.ipynb\" target=\"_parent\"><img src=\"https://colab.research.google.com/assets/colab-badge.svg\" alt=\"Open In Colab\"/></a>"
      ]
    },
    {
      "cell_type": "markdown",
      "source": [
        "# LSA (Latent Semantic Analysis)\n",
        "- LDA (토픽 모델링) 에 아이디어 제공한 알고리즘\n",
        "- DTM(document-term matrix) 나 TfIdf matrix 에 Truncated SVD 이용"
      ],
      "metadata": {
        "id": "Y7rQTEIfqmOf"
      }
    },
    {
      "cell_type": "markdown",
      "source": [
        "![image.png](data:image/png;base64,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)"
      ],
      "metadata": {
        "id": "CP9IfvDJrCwd"
      }
    },
    {
      "cell_type": "markdown",
      "source": [
        "- example from https://wikidocs.net/24949"
      ],
      "metadata": {
        "id": "BgTwLgBSsTsF"
      }
    },
    {
      "cell_type": "code",
      "source": [
        "import numpy as np\n",
        "import pandas as pd\n",
        "from sklearn.feature_extraction.text import CountVectorizer\n",
        "\n",
        "doc1 = \"사과 먹고 싶다\"\n",
        "doc2 = \"바나나 먹고 싶다\"\n",
        "doc3 = \"길고 노란 바나나 바나나\"\n",
        "doc4 = \"저는 과일이 좋아요\"\n",
        "corpus = np.array([doc1, doc2, doc3, doc4])\n",
        "vec = CountVectorizer()\n",
        "A = vec.fit_transform(corpus).toarray()\n",
        "A"
      ],
      "metadata": {
        "colab": {
          "base_uri": "https://localhost:8080/"
        },
        "id": "wMJyd0R6rIJL",
        "outputId": "999bc71c-45cf-4832-c142-c01b36a6f49b"
      },
      "execution_count": null,
      "outputs": [
        {
          "output_type": "execute_result",
          "data": {
            "text/plain": [
              "array([[0, 0, 0, 1, 0, 1, 1, 0, 0],\n",
              "       [0, 0, 0, 1, 1, 0, 1, 0, 0],\n",
              "       [0, 1, 1, 0, 2, 0, 0, 0, 0],\n",
              "       [1, 0, 0, 0, 0, 0, 0, 1, 1]])"
            ]
          },
          "metadata": {},
          "execution_count": 1
        }
      ]
    },
    {
      "cell_type": "code",
      "source": [
        "vec.get_feature_names()"
      ],
      "metadata": {
        "colab": {
          "base_uri": "https://localhost:8080/"
        },
        "id": "vt6vMjDmtAr3",
        "outputId": "a5e739ff-6d0c-4738-d15f-a38262cfb677"
      },
      "execution_count": null,
      "outputs": [
        {
          "output_type": "stream",
          "name": "stderr",
          "text": [
            "/usr/local/lib/python3.8/dist-packages/sklearn/utils/deprecation.py:87: FutureWarning: Function get_feature_names is deprecated; get_feature_names is deprecated in 1.0 and will be removed in 1.2. Please use get_feature_names_out instead.\n",
            "  warnings.warn(msg, category=FutureWarning)\n"
          ]
        },
        {
          "output_type": "execute_result",
          "data": {
            "text/plain": [
              "['과일이', '길고', '노란', '먹고', '바나나', '사과', '싶다', '저는', '좋아요']"
            ]
          },
          "metadata": {},
          "execution_count": 2
        }
      ]
    },
    {
      "cell_type": "code",
      "source": [
        "A.shape"
      ],
      "metadata": {
        "colab": {
          "base_uri": "https://localhost:8080/"
        },
        "id": "EFSM2UExti0s",
        "outputId": "8d2af14a-9f70-4591-ee08-04679d26ba16"
      },
      "execution_count": null,
      "outputs": [
        {
          "output_type": "execute_result",
          "data": {
            "text/plain": [
              "(4, 9)"
            ]
          },
          "metadata": {},
          "execution_count": 3
        }
      ]
    },
    {
      "cell_type": "code",
      "source": [
        "U, s, VT = np.linalg.svd(A, full_matrices = True)\n",
        "print('matrix U :')\n",
        "print(U.round(2))"
      ],
      "metadata": {
        "colab": {
          "base_uri": "https://localhost:8080/"
        },
        "id": "GK7C_cMqtZwk",
        "outputId": "c6450758-3598-4fa4-95cf-ba25c64d68b9"
      },
      "execution_count": null,
      "outputs": [
        {
          "output_type": "stream",
          "name": "stdout",
          "text": [
            "matrix U :\n",
            "[[-0.24  0.75  0.   -0.62]\n",
            " [-0.51  0.44 -0.    0.74]\n",
            " [-0.83 -0.49 -0.   -0.27]\n",
            " [-0.   -0.    1.    0.  ]]\n"
          ]
        }
      ]
    },
    {
      "cell_type": "code",
      "source": [
        "print('singular vectors :')\n",
        "print(s.round(2))"
      ],
      "metadata": {
        "colab": {
          "base_uri": "https://localhost:8080/"
        },
        "id": "kf4-MZBVtufr",
        "outputId": "d883187e-f2ef-43a7-e338-4e21ddecb3cb"
      },
      "execution_count": null,
      "outputs": [
        {
          "output_type": "stream",
          "name": "stdout",
          "text": [
            "singular vectors :\n",
            "[2.69 2.05 1.73 0.77]\n"
          ]
        }
      ]
    },
    {
      "cell_type": "code",
      "source": [
        "S = np.zeros((4,9))\n",
        "S[:4, :4] = np.diag(s)\n",
        "print(S.round(2))"
      ],
      "metadata": {
        "colab": {
          "base_uri": "https://localhost:8080/"
        },
        "id": "TBzFIMDtt3x8",
        "outputId": "847b89b8-cec6-4aeb-b548-075b7700125f"
      },
      "execution_count": null,
      "outputs": [
        {
          "output_type": "stream",
          "name": "stdout",
          "text": [
            "[[2.69 0.   0.   0.   0.   0.   0.   0.   0.  ]\n",
            " [0.   2.05 0.   0.   0.   0.   0.   0.   0.  ]\n",
            " [0.   0.   1.73 0.   0.   0.   0.   0.   0.  ]\n",
            " [0.   0.   0.   0.77 0.   0.   0.   0.   0.  ]]\n"
          ]
        }
      ]
    },
    {
      "cell_type": "code",
      "source": [
        "print('matrix VT :')\n",
        "print(VT.round(2))"
      ],
      "metadata": {
        "colab": {
          "base_uri": "https://localhost:8080/"
        },
        "id": "L98Rx2B6uPGg",
        "outputId": "e5168081-dcc2-43ea-caee-d1333dbcf638"
      },
      "execution_count": null,
      "outputs": [
        {
          "output_type": "stream",
          "name": "stdout",
          "text": [
            "matrix VT :\n",
            "[[-0.   -0.31 -0.31 -0.28 -0.8  -0.09 -0.28 -0.   -0.  ]\n",
            " [ 0.   -0.24 -0.24  0.58 -0.26  0.37  0.58 -0.   -0.  ]\n",
            " [ 0.58 -0.    0.    0.   -0.    0.   -0.    0.58  0.58]\n",
            " [ 0.   -0.35 -0.35  0.16  0.25 -0.8   0.16 -0.   -0.  ]\n",
            " [-0.   -0.78 -0.01 -0.2   0.4   0.4  -0.2   0.    0.  ]\n",
            " [-0.29  0.31 -0.78 -0.24  0.23  0.23  0.01  0.14  0.14]\n",
            " [-0.29 -0.1   0.26 -0.59 -0.08 -0.08  0.66  0.14  0.14]\n",
            " [-0.5  -0.06  0.15  0.24 -0.05 -0.05 -0.19  0.75 -0.25]\n",
            " [-0.5  -0.06  0.15  0.24 -0.05 -0.05 -0.19 -0.25  0.75]]\n"
          ]
        }
      ]
    },
    {
      "cell_type": "code",
      "source": [
        "np.allclose(A, np.dot(np.dot(U,S), VT).round(2))"
      ],
      "metadata": {
        "colab": {
          "base_uri": "https://localhost:8080/"
        },
        "id": "lP_9iTyDub9r",
        "outputId": "02c20714-069e-4931-ddc5-1512b5c847cf"
      },
      "execution_count": null,
      "outputs": [
        {
          "output_type": "execute_result",
          "data": {
            "text/plain": [
              "True"
            ]
          },
          "metadata": {},
          "execution_count": 8
        }
      ]
    },
    {
      "cell_type": "code",
      "source": [
        "# let's take the top 2 signular values.\n",
        "S = S[:2, :2]; S.round(2)"
      ],
      "metadata": {
        "colab": {
          "base_uri": "https://localhost:8080/"
        },
        "id": "xOjBQAkYurjk",
        "outputId": "8a07def2-6899-43e2-f97b-6a771e881ddc"
      },
      "execution_count": null,
      "outputs": [
        {
          "output_type": "execute_result",
          "data": {
            "text/plain": [
              "array([[2.69, 0.  ],\n",
              "       [0.  , 2.05]])"
            ]
          },
          "metadata": {},
          "execution_count": 9
        }
      ]
    },
    {
      "cell_type": "code",
      "source": [
        "U = U[:, :2]; U.round(2)   # (4,2) -> 문서의 수 x 토픽의 수\n",
        "                           # U의 각 행은 잠재 의미를 표현하기 위한 수치화 된 각각의 문서 벡터"
      ],
      "metadata": {
        "colab": {
          "base_uri": "https://localhost:8080/"
        },
        "id": "mJ8i_Oa5vP68",
        "outputId": "ee523f12-324b-4c81-e58f-13707ce08789"
      },
      "execution_count": null,
      "outputs": [
        {
          "output_type": "execute_result",
          "data": {
            "text/plain": [
              "array([[-0.24,  0.75],\n",
              "       [-0.51,  0.44],\n",
              "       [-0.83, -0.49],\n",
              "       [-0.  , -0.  ]])"
            ]
          },
          "metadata": {},
          "execution_count": 10
        }
      ]
    },
    {
      "cell_type": "code",
      "source": [
        "VT = VT[:2, :]; VT.round(2)   # (2,9) -> 토픽의 수 x 단어의 갯수\n",
        "                              # VT 의 각 열은 잠재 의미를 표현하기 위해 수치화된 각각의 단어 벡터"
      ],
      "metadata": {
        "colab": {
          "base_uri": "https://localhost:8080/"
        },
        "id": "2ovsH0vUvcLt",
        "outputId": "1aed4079-5979-4ff3-ebba-1551f5417828"
      },
      "execution_count": null,
      "outputs": [
        {
          "output_type": "execute_result",
          "data": {
            "text/plain": [
              "array([[-0.  , -0.31, -0.31, -0.28, -0.8 , -0.09, -0.28, -0.  , -0.  ],\n",
              "       [ 0.  , -0.24, -0.24,  0.58, -0.26,  0.37,  0.58, -0.  , -0.  ]])"
            ]
          },
          "metadata": {},
          "execution_count": 11
        }
      ]
    },
    {
      "cell_type": "code",
      "source": [
        "A_prime = U @ S @ VT; A_prime.round(2)"
      ],
      "metadata": {
        "colab": {
          "base_uri": "https://localhost:8080/"
        },
        "id": "AOgwwCG5vl0E",
        "outputId": "f29e16f6-adad-434d-afba-cdaba21916e3"
      },
      "execution_count": null,
      "outputs": [
        {
          "output_type": "execute_result",
          "data": {
            "text/plain": [
              "array([[ 0.  , -0.17, -0.17,  1.08,  0.12,  0.62,  1.08, -0.  , -0.  ],\n",
              "       [ 0.  ,  0.2 ,  0.2 ,  0.91,  0.86,  0.45,  0.91,  0.  ,  0.  ],\n",
              "       [ 0.  ,  0.93,  0.93,  0.03,  2.05, -0.17,  0.03,  0.  ,  0.  ],\n",
              "       [ 0.  ,  0.  ,  0.  ,  0.  ,  0.  , -0.  ,  0.  ,  0.  ,  0.  ]])"
            ]
          },
          "metadata": {},
          "execution_count": 12
        }
      ]
    },
    {
      "cell_type": "markdown",
      "source": [
        "- example\n",
        "  - Twenty Newsgroups이라고 불리는 20개의 다른 주제를 가진 뉴스그룹 데이터 (sklearn)\n",
        "  - 문서의 수를 원하는 토픽의 수로 압축한 뒤에 각 토픽당 가장 중요한 단어 5개를 출력하는 실습으로 토픽 모델링을 수행"
      ],
      "metadata": {
        "id": "zAGN0Ny0xDCU"
      }
    },
    {
      "cell_type": "code",
      "source": [
        "import pandas as pd\n",
        "from sklearn.datasets import fetch_20newsgroups\n",
        "import nltk\n",
        "from nltk.corpus import stopwords\n",
        "from sklearn.feature_extraction.text import TfidfVectorizer\n",
        "from sklearn.decomposition import TruncatedSVD"
      ],
      "metadata": {
        "id": "azgss9cyxVy7"
      },
      "execution_count": null,
      "outputs": []
    },
    {
      "cell_type": "code",
      "source": [
        "dataset = fetch_20newsgroups(shuffle=True, random_state=1, remove=('headers', 'footers', 'quotes'))\n",
        "documents = dataset.data\n",
        "print('샘플의 수 :',len(documents))"
      ],
      "metadata": {
        "colab": {
          "base_uri": "https://localhost:8080/"
        },
        "id": "opNJgBFnxZq7",
        "outputId": "afdf462d-b92e-42f6-c45f-b7f3699e5cf2"
      },
      "execution_count": null,
      "outputs": [
        {
          "output_type": "stream",
          "name": "stdout",
          "text": [
            "샘플의 수 : 11314\n"
          ]
        }
      ]
    },
    {
      "cell_type": "code",
      "source": [
        "documents[0]"
      ],
      "metadata": {
        "colab": {
          "base_uri": "https://localhost:8080/",
          "height": 122
        },
        "id": "3GNHqghxxif6",
        "outputId": "846660ff-b8f6-4aac-f3d9-a2264d3f1d12"
      },
      "execution_count": null,
      "outputs": [
        {
          "output_type": "execute_result",
          "data": {
            "text/plain": [
              "\"Well i'm not sure about the story nad it did seem biased. What\\nI disagree with is your statement that the U.S. Media is out to\\nruin Israels reputation. That is rediculous. The U.S. media is\\nthe most pro-israeli media in the world. Having lived in Europe\\nI realize that incidences such as the one described in the\\nletter have occured. The U.S. media as a whole seem to try to\\nignore them. The U.S. is subsidizing Israels existance and the\\nEuropeans are not (at least not to the same degree). So I think\\nthat might be a reason they report more clearly on the\\natrocities.\\n\\tWhat is a shame is that in Austria, daily reports of\\nthe inhuman acts commited by Israeli soldiers and the blessing\\nreceived from the Government makes some of the Holocaust guilt\\ngo away. After all, look how the Jews are treating other races\\nwhen they got power. It is unfortunate.\\n\""
            ],
            "application/vnd.google.colaboratory.intrinsic+json": {
              "type": "string"
            }
          },
          "metadata": {},
          "execution_count": 15
        }
      ]
    },
    {
      "cell_type": "code",
      "source": [
        "print(dataset.target_names)  #  20개의 뉴스그룹 카테고리"
      ],
      "metadata": {
        "colab": {
          "base_uri": "https://localhost:8080/"
        },
        "id": "oyHGZ1lYxsYG",
        "outputId": "171dcc58-65a3-42c6-dcab-3cf3d9306c48"
      },
      "execution_count": null,
      "outputs": [
        {
          "output_type": "stream",
          "name": "stdout",
          "text": [
            "['alt.atheism', 'comp.graphics', 'comp.os.ms-windows.misc', 'comp.sys.ibm.pc.hardware', 'comp.sys.mac.hardware', 'comp.windows.x', 'misc.forsale', 'rec.autos', 'rec.motorcycles', 'rec.sport.baseball', 'rec.sport.hockey', 'sci.crypt', 'sci.electronics', 'sci.med', 'sci.space', 'soc.religion.christian', 'talk.politics.guns', 'talk.politics.mideast', 'talk.politics.misc', 'talk.religion.misc']\n"
          ]
        }
      ]
    },
    {
      "cell_type": "code",
      "source": [
        "# text preprocessing\n",
        "news_df = pd.DataFrame({'document':documents})\n",
        "# 특수 문자 제거\n",
        "news_df['clean_doc'] = news_df['document'].str.replace(\"[^a-zA-Z]\", \" \")\n",
        "# 길이가 3이하인 단어는 제거 (길이가 짧은 단어 제거)\n",
        "news_df['clean_doc'] = news_df['clean_doc'].apply(lambda x: ' '.join([w for w in x.split() if len(w)>3]))\n",
        "# 전체 단어에 대한 소문자 변환\n",
        "news_df['clean_doc'] = news_df['clean_doc'].apply(lambda x: x.lower())"
      ],
      "metadata": {
        "colab": {
          "base_uri": "https://localhost:8080/"
        },
        "id": "4Jjqhds9x7Mc",
        "outputId": "72773c24-0977-46c7-8551-a0e0beb31bc0"
      },
      "execution_count": null,
      "outputs": [
        {
          "output_type": "stream",
          "name": "stderr",
          "text": [
            "<ipython-input-17-f494c22217f3>:4: FutureWarning: The default value of regex will change from True to False in a future version.\n",
            "  news_df['clean_doc'] = news_df['document'].str.replace(\"[^a-zA-Z]\", \" \")\n"
          ]
        }
      ]
    },
    {
      "cell_type": "code",
      "source": [
        "news_df['clean_doc'][0]"
      ],
      "metadata": {
        "colab": {
          "base_uri": "https://localhost:8080/",
          "height": 105
        },
        "id": "JWhpDvYFyMPT",
        "outputId": "b12a3e34-a2f7-4968-bc1d-e96513f615c7"
      },
      "execution_count": null,
      "outputs": [
        {
          "output_type": "execute_result",
          "data": {
            "text/plain": [
              "'well sure about story seem biased what disagree with your statement that media ruin israels reputation that rediculous media most israeli media world having lived europe realize that incidences such described letter have occured media whole seem ignore them subsidizing israels existance europeans least same degree think that might reason they report more clearly atrocities what shame that austria daily reports inhuman acts commited israeli soldiers blessing received from government makes some holocaust guilt away after look jews treating other races when they power unfortunate'"
            ],
            "application/vnd.google.colaboratory.intrinsic+json": {
              "type": "string"
            }
          },
          "metadata": {},
          "execution_count": 18
        }
      ]
    },
    {
      "cell_type": "code",
      "source": [
        "# NLTK로부터 불용어를 받아와 제거한다.\n",
        "nltk.download('stopwords')\n",
        "stop_words = stopwords.words('english')\n",
        "tokenized_doc = news_df['clean_doc'].apply(lambda x: x.split()) # split default - any whitespace\n",
        "tokenized_doc = tokenized_doc.apply(lambda x: [item for item in x if item not in stop_words])"
      ],
      "metadata": {
        "colab": {
          "base_uri": "https://localhost:8080/"
        },
        "id": "2xeCUtAmyxmL",
        "outputId": "c7e142e7-bfc1-4102-953b-e5c539a198d9"
      },
      "execution_count": null,
      "outputs": [
        {
          "output_type": "stream",
          "name": "stderr",
          "text": [
            "[nltk_data] Downloading package stopwords to /root/nltk_data...\n",
            "[nltk_data]   Unzipping corpora/stopwords.zip.\n"
          ]
        }
      ]
    },
    {
      "cell_type": "code",
      "source": [
        "print(tokenized_doc[0])"
      ],
      "metadata": {
        "colab": {
          "base_uri": "https://localhost:8080/"
        },
        "id": "vBYcxM89y936",
        "outputId": "bc349c8a-f911-4cc4-b380-5c34445717a0"
      },
      "execution_count": null,
      "outputs": [
        {
          "output_type": "stream",
          "name": "stdout",
          "text": [
            "['well', 'sure', 'story', 'seem', 'biased', 'disagree', 'statement', 'media', 'ruin', 'israels', 'reputation', 'rediculous', 'media', 'israeli', 'media', 'world', 'lived', 'europe', 'realize', 'incidences', 'described', 'letter', 'occured', 'media', 'whole', 'seem', 'ignore', 'subsidizing', 'israels', 'existance', 'europeans', 'least', 'degree', 'think', 'might', 'reason', 'report', 'clearly', 'atrocities', 'shame', 'austria', 'daily', 'reports', 'inhuman', 'acts', 'commited', 'israeli', 'soldiers', 'blessing', 'received', 'government', 'makes', 'holocaust', 'guilt', 'away', 'look', 'jews', 'treating', 'races', 'power', 'unfortunate']\n"
          ]
        }
      ]
    },
    {
      "cell_type": "code",
      "source": [
        "# tf-idf matrix\n",
        "detokenized_doc = []\n",
        "for i in range(len(news_df)):\n",
        "    t = ' '.join(tokenized_doc[i])\n",
        "    detokenized_doc.append(t)\n",
        "\n",
        "news_df['clean_doc'] = detokenized_doc"
      ],
      "metadata": {
        "id": "iCbw8N4vziuz"
      },
      "execution_count": null,
      "outputs": []
    },
    {
      "cell_type": "code",
      "source": [
        "news_df['clean_doc'][0]"
      ],
      "metadata": {
        "colab": {
          "base_uri": "https://localhost:8080/",
          "height": 88
        },
        "id": "Ix5dv0Koz7ca",
        "outputId": "c79735d2-3006-4120-818b-c78dd41f77af"
      },
      "execution_count": null,
      "outputs": [
        {
          "output_type": "execute_result",
          "data": {
            "text/plain": [
              "'well sure story seem biased disagree statement media ruin israels reputation rediculous media israeli media world lived europe realize incidences described letter occured media whole seem ignore subsidizing israels existance europeans least degree think might reason report clearly atrocities shame austria daily reports inhuman acts commited israeli soldiers blessing received government makes holocaust guilt away look jews treating races power unfortunate'"
            ],
            "application/vnd.google.colaboratory.intrinsic+json": {
              "type": "string"
            }
          },
          "metadata": {},
          "execution_count": 22
        }
      ]
    },
    {
      "cell_type": "code",
      "source": [
        "vectorizer = TfidfVectorizer(stop_words='english', \n",
        "                             max_features= 1000, # 상위 1,000개의 단어\n",
        "                             max_df = 0.5,       # ignore terms of df higher than 0.5\n",
        "                             smooth_idf=True)\n",
        "\n",
        "X = vectorizer.fit_transform(news_df['clean_doc'])\n",
        "\n",
        "print(X.shape)"
      ],
      "metadata": {
        "colab": {
          "base_uri": "https://localhost:8080/"
        },
        "id": "tg3nXcYl0CNC",
        "outputId": "cc943b35-2ccc-4908-c2ed-903517fd6f83"
      },
      "execution_count": null,
      "outputs": [
        {
          "output_type": "stream",
          "name": "stdout",
          "text": [
            "(11314, 1000)\n"
          ]
        }
      ]
    },
    {
      "cell_type": "code",
      "source": [
        "# topic modeling\n",
        "svd_model = TruncatedSVD(n_components=20, algorithm='randomized', n_iter=100, random_state=122)\n",
        "svd_model.fit(X)\n",
        "len(svd_model.components_)   # VT matrix"
      ],
      "metadata": {
        "colab": {
          "base_uri": "https://localhost:8080/"
        },
        "id": "88x4vQGn0V1s",
        "outputId": "0d6c94f9-ce72-47d2-97d3-f587b5e443af"
      },
      "execution_count": null,
      "outputs": [
        {
          "output_type": "execute_result",
          "data": {
            "text/plain": [
              "20"
            ]
          },
          "metadata": {},
          "execution_count": 24
        }
      ]
    },
    {
      "cell_type": "code",
      "source": [
        "np.shape(svd_model.components_)  # 정확하게 토픽의 수 t × 단어의 수의 크기를 가지고 있다."
      ],
      "metadata": {
        "colab": {
          "base_uri": "https://localhost:8080/"
        },
        "id": "Qk6hfq_g0jsz",
        "outputId": "6172e2c5-4a1f-49f0-9779-329604f61725"
      },
      "execution_count": null,
      "outputs": [
        {
          "output_type": "execute_result",
          "data": {
            "text/plain": [
              "(20, 1000)"
            ]
          },
          "metadata": {},
          "execution_count": 25
        }
      ]
    },
    {
      "cell_type": "markdown",
      "source": [
        "- 각 20개의 행에 대해 각 1,000개의 열 중 가장 값이 큰 5개의 값을 찾아서 단어로 출력."
      ],
      "metadata": {
        "id": "xeZpjEyI1Ngq"
      }
    },
    {
      "cell_type": "code",
      "source": [
        "# first row 에 대해 먼저 확인\n",
        "idx_5 = svd_model.components_[0].argsort()[-5:]\n",
        "idx_5"
      ],
      "metadata": {
        "colab": {
          "base_uri": "https://localhost:8080/"
        },
        "id": "LSJBUxzKiiOM",
        "outputId": "97b60bfa-c442-4b6b-8feb-9df93cbd4b30"
      },
      "execution_count": null,
      "outputs": [
        {
          "output_type": "execute_result",
          "data": {
            "text/plain": [
              "array([365, 894, 626, 456, 481])"
            ]
          },
          "metadata": {},
          "execution_count": 26
        }
      ]
    },
    {
      "cell_type": "code",
      "source": [
        "[vectorizer.get_feature_names()[i] for i in idx_5][::-1]"
      ],
      "metadata": {
        "colab": {
          "base_uri": "https://localhost:8080/"
        },
        "id": "dQUsaPrajENN",
        "outputId": "2f1e13ce-c2a1-4657-f78e-e8e5d1163b7c"
      },
      "execution_count": null,
      "outputs": [
        {
          "output_type": "execute_result",
          "data": {
            "text/plain": [
              "['like', 'know', 'people', 'think', 'good']"
            ]
          },
          "metadata": {},
          "execution_count": 27
        }
      ]
    },
    {
      "cell_type": "code",
      "source": [
        "# 모든 row 에 대해 확인\n",
        "terms = vectorizer.get_feature_names() # 단어 집합. 1,000개의 단어가 저장됨.\n",
        "\n",
        "def get_topics(components, feature_names, n=5):\n",
        "    for idx, topic in enumerate(components):\n",
        "        # print(\"Topic %d:\" % (idx+1), [(feature_names[i], topic[i].round(5)) for i in topic.argsort()[:-n - 1:-1]])\n",
        "        print(\"Topic %d:\" % (idx+1), [(feature_names[i], topic[i].round(5)) for i in topic.argsort()[-n:][::-1]])\n",
        "\n",
        "get_topics(svd_model.components_, terms)"
      ],
      "metadata": {
        "colab": {
          "base_uri": "https://localhost:8080/"
        },
        "id": "pDYowmXP0xdk",
        "outputId": "f7c43a69-2121-40d3-950c-dcd173857e92"
      },
      "execution_count": null,
      "outputs": [
        {
          "output_type": "stream",
          "name": "stdout",
          "text": [
            "Topic 1: [('like', 0.21386), ('know', 0.20046), ('people', 0.19293), ('think', 0.17805), ('good', 0.15128)]\n",
            "Topic 2: [('thanks', 0.32888), ('windows', 0.29088), ('card', 0.18069), ('drive', 0.17455), ('mail', 0.15111)]\n",
            "Topic 3: [('game', 0.37064), ('team', 0.32443), ('year', 0.28154), ('games', 0.2537), ('season', 0.18419)]\n",
            "Topic 4: [('drive', 0.53324), ('scsi', 0.20165), ('hard', 0.15628), ('disk', 0.15578), ('card', 0.13994)]\n",
            "Topic 5: [('windows', 0.40399), ('file', 0.25436), ('window', 0.18044), ('files', 0.16078), ('program', 0.13894)]\n",
            "Topic 6: [('chip', 0.16114), ('government', 0.16009), ('mail', 0.15625), ('space', 0.1507), ('information', 0.13562)]\n",
            "Topic 7: [('like', 0.67086), ('bike', 0.14236), ('chip', 0.11169), ('know', 0.11139), ('sounds', 0.10371)]\n",
            "Topic 8: [('card', 0.46633), ('video', 0.22137), ('sale', 0.21266), ('monitor', 0.15463), ('offer', 0.14643)]\n",
            "Topic 9: [('know', 0.46047), ('card', 0.33605), ('chip', 0.17558), ('government', 0.1522), ('video', 0.14356)]\n",
            "Topic 10: [('good', 0.42756), ('know', 0.23039), ('time', 0.1882), ('bike', 0.11406), ('jesus', 0.09027)]\n",
            "Topic 11: [('think', 0.78469), ('chip', 0.10899), ('good', 0.10635), ('thanks', 0.09123), ('clipper', 0.07946)]\n",
            "Topic 12: [('thanks', 0.36824), ('good', 0.22729), ('right', 0.21559), ('bike', 0.21037), ('problem', 0.20894)]\n",
            "Topic 13: [('good', 0.36212), ('people', 0.33985), ('windows', 0.28385), ('know', 0.26232), ('file', 0.18422)]\n",
            "Topic 14: [('space', 0.39946), ('think', 0.23258), ('know', 0.18074), ('nasa', 0.15174), ('problem', 0.12957)]\n",
            "Topic 15: [('space', 0.31613), ('good', 0.3094), ('card', 0.22603), ('people', 0.17476), ('time', 0.14496)]\n",
            "Topic 16: [('people', 0.48156), ('problem', 0.19961), ('window', 0.15281), ('time', 0.14664), ('game', 0.12871)]\n",
            "Topic 17: [('time', 0.34465), ('bike', 0.27303), ('right', 0.25557), ('windows', 0.1997), ('file', 0.19118)]\n",
            "Topic 18: [('time', 0.5973), ('problem', 0.15504), ('file', 0.14956), ('think', 0.12847), ('israel', 0.10903)]\n",
            "Topic 19: [('file', 0.44163), ('need', 0.26633), ('card', 0.18388), ('files', 0.17453), ('right', 0.15448)]\n",
            "Topic 20: [('problem', 0.33006), ('file', 0.27651), ('thanks', 0.23578), ('used', 0.19206), ('space', 0.13185)]\n"
          ]
        }
      ]
    },
    {
      "cell_type": "markdown",
      "source": [
        "- Pros and Cons of LSA:\n",
        "  - can be implemented easily and quickly.\n",
        "  - good performance in calculating the similarity of documents as it can derive the potential meaning of word\n",
        "  - But, if you add new data, you should recalculate it (difficult to update)\n",
        "  - that is why word embedding (like Word2Vec) is in the spotlight."
      ],
      "metadata": {
        "id": "iXTTWi-R1Zka"
      }
    },
    {
      "cell_type": "markdown",
      "source": [
        "# LDA (Latent Dirichlet Allocation)\n",
        "- LDA는 문서들은 토픽들의 혼합으로 구성되어져 있으며, 토픽들은 확률 분포에 기반하여 단어들을 생성한다고 가정.\n",
        "- 데이터가 주어지면, LDA는 문서가 생성되던 과정을 역추적\n",
        "- https://wikidocs.net/30708"
      ],
      "metadata": {
        "id": "jFDv9L8j8MJo"
      }
    },
    {
      "cell_type": "markdown",
      "source": [
        "- LDA algorithm:\n",
        "  - (1) hyperparameter k is given\n",
        "  - (2) assign all words to one of k topics\n",
        "  - (3) iterate followings:\n",
        "     - assume the word w is mis-assigned and all others are well- assigned\n",
        "     - re-assign w based on:\n",
        "        - p(topic t | document d) : 문서 d의 단어들 중 토픽 t에 해당하는 단어들의 비율\n",
        "        - p(word w | topic t) : 각 토픽들 t에서 해당 단어 w의 분포\n",
        "- LSA and LDA\n",
        "  - LSA: DTM을 차원 축소 하여 축소 차원에서 근접 단어들을 토픽으로 묶는다\n",
        "  - LDA: 단어가 특정 토픽에 존재할 확률과 문서에 특정 토픽이 존재할 확률을 결합확률로 추정하여 토픽을 추출"
      ],
      "metadata": {
        "id": "TzeM9JV59MKR"
      }
    },
    {
      "cell_type": "code",
      "source": [
        "# let's use the same dataset as we used in LSA\n",
        "print(tokenized_doc.shape)\n",
        "tokenized_doc[:5]"
      ],
      "metadata": {
        "colab": {
          "base_uri": "https://localhost:8080/"
        },
        "id": "sKxjkgLd83wY",
        "outputId": "1d172de7-6d3d-48ba-ed18-eeb3b2e83c95"
      },
      "execution_count": null,
      "outputs": [
        {
          "output_type": "stream",
          "name": "stdout",
          "text": [
            "(11314,)\n"
          ]
        },
        {
          "output_type": "execute_result",
          "data": {
            "text/plain": [
              "0    [well, sure, story, seem, biased, disagree, st...\n",
              "1    [yeah, expect, people, read, actually, accept,...\n",
              "2    [although, realize, principle, strongest, poin...\n",
              "3    [notwithstanding, legitimate, fuss, proposal, ...\n",
              "4    [well, change, scoring, playoff, pool, unfortu...\n",
              "Name: clean_doc, dtype: object"
            ]
          },
          "metadata": {},
          "execution_count": 29
        }
      ]
    },
    {
      "cell_type": "markdown",
      "source": [
        "- record word frequency (word_id, word_freq)"
      ],
      "metadata": {
        "id": "hjIB7A8p_eDK"
      }
    },
    {
      "cell_type": "code",
      "source": [
        "from gensim import corpora\n",
        "\n",
        "dictionary = corpora.Dictionary(tokenized_doc)\n",
        "corpus = [dictionary.doc2bow(text) for text in tokenized_doc]\n",
        "print(corpus[-1])"
      ],
      "metadata": {
        "colab": {
          "base_uri": "https://localhost:8080/"
        },
        "id": "CfOH_jbn_RKP",
        "outputId": "225e008c-a309-424b-93c2-fb9b0b9aaada"
      },
      "execution_count": null,
      "outputs": [
        {
          "output_type": "stream",
          "name": "stdout",
          "text": [
            "[(24, 1), (30, 1), (52, 2), (56, 1), (65, 1), (107, 1), (108, 1), (109, 1), (128, 1), (136, 1), (137, 1), (146, 1), (190, 1), (194, 3), (198, 1), (206, 1), (224, 1), (257, 1), (277, 1), (331, 1), (403, 1), (432, 1), (437, 1), (500, 1), (510, 1), (514, 2), (524, 1), (682, 1), (761, 1), (787, 1), (1016, 1), (1350, 1), (1607, 1), (1671, 1), (1769, 1), (2016, 2), (2054, 1), (2081, 1), (2123, 1), (2399, 1), (2461, 1), (2518, 2), (2535, 1), (2610, 1), (2754, 1), (2838, 2), (3084, 1), (3106, 1), (3177, 1), (3178, 1), (3600, 1), (3664, 1), (3770, 1), (3850, 1), (3910, 1), (3925, 1), (4106, 1), (4303, 1), (4554, 1), (4601, 1), (5256, 1), (6057, 2), (6701, 1), (7175, 1), (7894, 1), (8035, 4), (8600, 1), (8672, 1), (9476, 1), (9609, 1), (9881, 1), (10114, 1), (12075, 1), (13336, 1), (14732, 1), (15949, 1), (19000, 1), (29319, 1), (41046, 2), (47866, 1), (64276, 1), (64277, 1), (64278, 1), (64279, 1), (64280, 1)]\n"
          ]
        }
      ]
    },
    {
      "cell_type": "code",
      "source": [
        "# LDA train\n",
        "import gensim\n",
        "\n",
        "NUM_TOPICS = 20      # 20개의 토픽, k=20\n",
        "ldamodel = gensim.models.ldamodel.LdaModel(corpus, num_topics = NUM_TOPICS, id2word=dictionary, passes=15)\n",
        "topics = ldamodel.print_topics(num_words=4)  # 4 개의 단어만 출력\n",
        "for topic in topics:\n",
        "    print(topic)"
      ],
      "metadata": {
        "colab": {
          "base_uri": "https://localhost:8080/"
        },
        "id": "pglBZHme_0Ph",
        "outputId": "4fc45ce3-2d83-4fec-b8df-a7d777fe7df2"
      },
      "execution_count": null,
      "outputs": [
        {
          "output_type": "stream",
          "name": "stdout",
          "text": [
            "(0, '0.013*\"period\" + 0.011*\"play\" + 0.008*\"power\" + 0.005*\"scorer\"')\n",
            "(1, '0.010*\"nrhj\" + 0.007*\"wwiz\" + 0.006*\"bxom\" + 0.006*\"gizw\"')\n",
            "(2, '0.012*\"wire\" + 0.012*\"ground\" + 0.010*\"food\" + 0.009*\"neutral\"')\n",
            "(3, '0.007*\"health\" + 0.006*\"research\" + 0.006*\"university\" + 0.005*\"medical\"')\n",
            "(4, '0.011*\"government\" + 0.008*\"state\" + 0.007*\"right\" + 0.007*\"people\"')\n",
            "(5, '0.007*\"contest\" + 0.004*\"much\" + 0.004*\"also\" + 0.004*\"stuff\"')\n",
            "(6, '0.011*\"armenian\" + 0.011*\"people\" + 0.011*\"said\" + 0.010*\"israel\"')\n",
            "(7, '0.008*\"fire\" + 0.006*\"koresh\" + 0.005*\"children\" + 0.005*\"henrik\"')\n",
            "(8, '0.019*\"space\" + 0.009*\"encryption\" + 0.008*\"chip\" + 0.007*\"clipper\"')\n",
            "(9, '0.032*\"jesus\" + 0.013*\"church\" + 0.013*\"christ\" + 0.009*\"bible\"')\n",
            "(10, '0.006*\"wiring\" + 0.006*\"order\" + 0.005*\"compass\" + 0.003*\"aircraft\"')\n",
            "(11, '0.017*\"sale\" + 0.014*\"offer\" + 0.014*\"price\" + 0.012*\"shipping\"')\n",
            "(12, '0.013*\"thanks\" + 0.013*\"windows\" + 0.013*\"would\" + 0.011*\"know\"')\n",
            "(13, '0.011*\"year\" + 0.010*\"game\" + 0.010*\"team\" + 0.007*\"think\"')\n",
            "(14, '0.010*\"available\" + 0.007*\"information\" + 0.007*\"file\" + 0.006*\"version\"')\n",
            "(15, '0.012*\"like\" + 0.008*\"good\" + 0.008*\"would\" + 0.008*\"time\"')\n",
            "(16, '0.015*\"would\" + 0.013*\"people\" + 0.009*\"think\" + 0.008*\"know\"')\n",
            "(17, '0.012*\"pain\" + 0.009*\"puck\" + 0.006*\"flyers\" + 0.006*\"goal\"')\n",
            "(18, '0.015*\"greek\" + 0.009*\"water\" + 0.008*\"island\" + 0.007*\"greece\"')\n",
            "(19, '0.029*\"file\" + 0.018*\"output\" + 0.017*\"entry\" + 0.017*\"program\"')\n"
          ]
        }
      ]
    },
    {
      "cell_type": "code",
      "source": [
        "ldamodel.print_topics()  # 10 개 단어 출력"
      ],
      "metadata": {
        "colab": {
          "base_uri": "https://localhost:8080/"
        },
        "id": "F8Tp6QzyADDw",
        "outputId": "12677640-a64b-4b27-a94b-4ee19fbb01a8"
      },
      "execution_count": null,
      "outputs": [
        {
          "output_type": "execute_result",
          "data": {
            "text/plain": [
              "[(0,\n",
              "  '0.013*\"period\" + 0.011*\"play\" + 0.008*\"power\" + 0.005*\"scorer\" + 0.005*\"philadelphia\" + 0.005*\"kings\" + 0.005*\"first\" + 0.005*\"calgary\" + 0.005*\"cover\" + 0.004*\"second\"'),\n",
              " (1,\n",
              "  '0.010*\"nrhj\" + 0.007*\"wwiz\" + 0.006*\"bxom\" + 0.006*\"gizw\" + 0.005*\"nist\" + 0.005*\"tbxn\" + 0.005*\"bhjn\" + 0.005*\"bxlt\" + 0.004*\"wmbxn\" + 0.004*\"nriz\"'),\n",
              " (2,\n",
              "  '0.012*\"wire\" + 0.012*\"ground\" + 0.010*\"food\" + 0.009*\"neutral\" + 0.006*\"pens\" + 0.006*\"electrical\" + 0.005*\"circuit\" + 0.005*\"panel\" + 0.004*\"station\" + 0.004*\"outlets\"'),\n",
              " (3,\n",
              "  '0.007*\"health\" + 0.006*\"research\" + 0.006*\"university\" + 0.005*\"medical\" + 0.004*\"years\" + 0.004*\"study\" + 0.004*\"among\" + 0.004*\"national\" + 0.004*\"center\" + 0.004*\"number\"'),\n",
              " (4,\n",
              "  '0.011*\"government\" + 0.008*\"state\" + 0.007*\"right\" + 0.007*\"people\" + 0.007*\"guns\" + 0.007*\"would\" + 0.006*\"rights\" + 0.006*\"police\" + 0.006*\"public\" + 0.006*\"control\"'),\n",
              " (5,\n",
              "  '0.007*\"contest\" + 0.004*\"much\" + 0.004*\"also\" + 0.004*\"stuff\" + 0.004*\"bytes\" + 0.004*\"type\" + 0.004*\"font\" + 0.004*\"like\" + 0.003*\"small\" + 0.003*\"comments\"'),\n",
              " (6,\n",
              "  '0.011*\"armenian\" + 0.011*\"people\" + 0.011*\"said\" + 0.010*\"israel\" + 0.010*\"armenians\" + 0.008*\"jews\" + 0.007*\"turkish\" + 0.006*\"israeli\" + 0.005*\"turkey\" + 0.004*\"killed\"'),\n",
              " (7,\n",
              "  '0.008*\"fire\" + 0.006*\"koresh\" + 0.005*\"children\" + 0.005*\"henrik\" + 0.004*\"picture\" + 0.004*\"military\" + 0.003*\"compound\" + 0.003*\"smokeless\" + 0.003*\"fired\" + 0.003*\"kent\"'),\n",
              " (8,\n",
              "  '0.019*\"space\" + 0.009*\"encryption\" + 0.008*\"chip\" + 0.007*\"clipper\" + 0.007*\"nasa\" + 0.007*\"government\" + 0.006*\"technology\" + 0.006*\"keys\" + 0.005*\"system\" + 0.005*\"data\"'),\n",
              " (9,\n",
              "  '0.032*\"jesus\" + 0.013*\"church\" + 0.013*\"christ\" + 0.009*\"bible\" + 0.007*\"father\" + 0.007*\"matthew\" + 0.007*\"john\" + 0.007*\"spirit\" + 0.006*\"holy\" + 0.006*\"lord\"'),\n",
              " (10,\n",
              "  '0.006*\"wiring\" + 0.006*\"order\" + 0.005*\"compass\" + 0.003*\"aircraft\" + 0.003*\"bank\" + 0.003*\"shock\" + 0.003*\"analog\" + 0.003*\"exhaust\" + 0.003*\"model\" + 0.003*\"crack\"'),\n",
              " (11,\n",
              "  '0.017*\"sale\" + 0.014*\"offer\" + 0.014*\"price\" + 0.012*\"shipping\" + 0.011*\"condition\" + 0.010*\"asking\" + 0.009*\"model\" + 0.009*\"best\" + 0.009*\"drive\" + 0.008*\"sell\"'),\n",
              " (12,\n",
              "  '0.013*\"thanks\" + 0.013*\"windows\" + 0.013*\"would\" + 0.011*\"know\" + 0.011*\"anyone\" + 0.010*\"drive\" + 0.009*\"card\" + 0.009*\"like\" + 0.009*\"please\" + 0.009*\"system\"'),\n",
              " (13,\n",
              "  '0.011*\"year\" + 0.010*\"game\" + 0.010*\"team\" + 0.007*\"think\" + 0.007*\"would\" + 0.007*\"last\" + 0.006*\"president\" + 0.006*\"games\" + 0.006*\"good\" + 0.006*\"season\"'),\n",
              " (14,\n",
              "  '0.010*\"available\" + 0.007*\"information\" + 0.007*\"file\" + 0.006*\"version\" + 0.006*\"software\" + 0.006*\"files\" + 0.006*\"also\" + 0.006*\"data\" + 0.006*\"server\" + 0.006*\"image\"'),\n",
              " (15,\n",
              "  '0.012*\"like\" + 0.008*\"good\" + 0.008*\"would\" + 0.008*\"time\" + 0.007*\"back\" + 0.007*\"know\" + 0.006*\"right\" + 0.005*\"much\" + 0.005*\"well\" + 0.005*\"think\"'),\n",
              " (16,\n",
              "  '0.015*\"would\" + 0.013*\"people\" + 0.009*\"think\" + 0.008*\"know\" + 0.007*\"like\" + 0.006*\"even\" + 0.006*\"many\" + 0.005*\"believe\" + 0.005*\"time\" + 0.005*\"could\"'),\n",
              " (17,\n",
              "  '0.012*\"pain\" + 0.009*\"puck\" + 0.006*\"flyers\" + 0.006*\"goal\" + 0.006*\"shot\" + 0.005*\"doctor\" + 0.005*\"easter\" + 0.005*\"brad\" + 0.005*\"resurrection\" + 0.004*\"penalty\"'),\n",
              " (18,\n",
              "  '0.015*\"greek\" + 0.009*\"water\" + 0.008*\"island\" + 0.007*\"greece\" + 0.006*\"south\" + 0.005*\"nuclear\" + 0.004*\"ships\" + 0.004*\"cyprus\" + 0.004*\"greeks\" + 0.003*\"john\"'),\n",
              " (19,\n",
              "  '0.029*\"file\" + 0.018*\"output\" + 0.017*\"entry\" + 0.017*\"program\" + 0.015*\"window\" + 0.010*\"line\" + 0.008*\"build\" + 0.007*\"mouse\" + 0.007*\"check\" + 0.006*\"section\"')]"
            ]
          },
          "metadata": {},
          "execution_count": 32
        }
      ]
    },
    {
      "cell_type": "markdown",
      "source": [
        "- visualize LDA"
      ],
      "metadata": {
        "id": "qAmZyMvWAFkB"
      }
    },
    {
      "cell_type": "code",
      "source": [
        "!pip install pyLDAvis"
      ],
      "metadata": {
        "colab": {
          "base_uri": "https://localhost:8080/"
        },
        "id": "Ka7QxIfCAMuR",
        "outputId": "62f46042-d1b0-4bef-c398-a0bb033e2291"
      },
      "execution_count": null,
      "outputs": [
        {
          "output_type": "stream",
          "name": "stdout",
          "text": [
            "Looking in indexes: https://pypi.org/simple, https://us-python.pkg.dev/colab-wheels/public/simple/\n",
            "Collecting pyLDAvis\n",
            "  Downloading pyLDAvis-3.3.1.tar.gz (1.7 MB)\n",
            "\u001b[2K     \u001b[90m━━━━━━━━━━━━━━━━━━━━━━━━━━━━━━━━━━━━━━━━\u001b[0m \u001b[32m1.7/1.7 MB\u001b[0m \u001b[31m56.8 MB/s\u001b[0m eta \u001b[36m0:00:00\u001b[0m\n",
            "\u001b[?25h  Installing build dependencies ... \u001b[?25l\u001b[?25hdone\n",
            "  Getting requirements to build wheel ... \u001b[?25l\u001b[?25hdone\n",
            "  Installing backend dependencies ... \u001b[?25l\u001b[?25hdone\n",
            "  Preparing metadata (pyproject.toml) ... \u001b[?25l\u001b[?25hdone\n",
            "Requirement already satisfied: jinja2 in /usr/local/lib/python3.8/dist-packages (from pyLDAvis) (2.11.3)\n",
            "Requirement already satisfied: numexpr in /usr/local/lib/python3.8/dist-packages (from pyLDAvis) (2.8.4)\n",
            "Requirement already satisfied: scikit-learn in /usr/local/lib/python3.8/dist-packages (from pyLDAvis) (1.0.2)\n",
            "Requirement already satisfied: setuptools in /usr/local/lib/python3.8/dist-packages (from pyLDAvis) (57.4.0)\n",
            "Requirement already satisfied: future in /usr/local/lib/python3.8/dist-packages (from pyLDAvis) (0.16.0)\n",
            "Collecting funcy\n",
            "  Downloading funcy-1.17-py2.py3-none-any.whl (33 kB)\n",
            "Requirement already satisfied: joblib in /usr/local/lib/python3.8/dist-packages (from pyLDAvis) (1.2.0)\n",
            "Collecting sklearn\n",
            "  Downloading sklearn-0.0.post1.tar.gz (3.6 kB)\n",
            "  Preparing metadata (setup.py) ... \u001b[?25l\u001b[?25hdone\n",
            "Requirement already satisfied: pandas>=1.2.0 in /usr/local/lib/python3.8/dist-packages (from pyLDAvis) (1.3.5)\n",
            "Requirement already satisfied: gensim in /usr/local/lib/python3.8/dist-packages (from pyLDAvis) (3.6.0)\n",
            "Requirement already satisfied: numpy>=1.20.0 in /usr/local/lib/python3.8/dist-packages (from pyLDAvis) (1.21.6)\n",
            "Requirement already satisfied: scipy in /usr/local/lib/python3.8/dist-packages (from pyLDAvis) (1.7.3)\n",
            "Requirement already satisfied: pytz>=2017.3 in /usr/local/lib/python3.8/dist-packages (from pandas>=1.2.0->pyLDAvis) (2022.7)\n",
            "Requirement already satisfied: python-dateutil>=2.7.3 in /usr/local/lib/python3.8/dist-packages (from pandas>=1.2.0->pyLDAvis) (2.8.2)\n",
            "Requirement already satisfied: six>=1.5.0 in /usr/local/lib/python3.8/dist-packages (from gensim->pyLDAvis) (1.15.0)\n",
            "Requirement already satisfied: smart-open>=1.2.1 in /usr/local/lib/python3.8/dist-packages (from gensim->pyLDAvis) (6.3.0)\n",
            "Requirement already satisfied: MarkupSafe>=0.23 in /usr/local/lib/python3.8/dist-packages (from jinja2->pyLDAvis) (2.0.1)\n",
            "Requirement already satisfied: threadpoolctl>=2.0.0 in /usr/local/lib/python3.8/dist-packages (from scikit-learn->pyLDAvis) (3.1.0)\n",
            "Building wheels for collected packages: pyLDAvis, sklearn\n",
            "  Building wheel for pyLDAvis (pyproject.toml) ... \u001b[?25l\u001b[?25hdone\n",
            "  Created wheel for pyLDAvis: filename=pyLDAvis-3.3.1-py2.py3-none-any.whl size=136898 sha256=cbc21915dddbb51bfc2bd3c548670d9cc70e3ea0ea6dc1710de5fec39f07eaef\n",
            "  Stored in directory: /root/.cache/pip/wheels/90/61/ec/9dbe9efc3acf9c4e37ba70fbbcc3f3a0ebd121060aa593181a\n",
            "  Building wheel for sklearn (setup.py) ... \u001b[?25l\u001b[?25hdone\n",
            "  Created wheel for sklearn: filename=sklearn-0.0.post1-py3-none-any.whl size=2344 sha256=9eeb71ce788e01d6fd057e2ff3c06c9ac19a3d5e95004bf5e0920d26279ba876\n",
            "  Stored in directory: /root/.cache/pip/wheels/14/25/f7/1cc0956978ae479e75140219088deb7a36f60459df242b1a72\n",
            "Successfully built pyLDAvis sklearn\n",
            "Installing collected packages: sklearn, funcy, pyLDAvis\n",
            "Successfully installed funcy-1.17 pyLDAvis-3.3.1 sklearn-0.0.post1\n"
          ]
        }
      ]
    },
    {
      "cell_type": "code",
      "source": [
        "import pyLDAvis.gensim_models\n",
        "\n",
        "pyLDAvis.enable_notebook()\n",
        "vis = pyLDAvis.gensim_models.prepare(ldamodel, corpus, dictionary)\n",
        "pyLDAvis.display(vis)"
      ],
      "metadata": {
        "colab": {
          "base_uri": "https://localhost:8080/",
          "height": 951
        },
        "id": "jMmY2smVAQpq",
        "outputId": "cef2a119-43aa-46a0-9766-1feebdd1f500"
      },
      "execution_count": null,
      "outputs": [
        {
          "output_type": "stream",
          "name": "stderr",
          "text": [
            "/usr/local/lib/python3.8/dist-packages/past/types/oldstr.py:5: DeprecationWarning: Using or importing the ABCs from 'collections' instead of from 'collections.abc' is deprecated since Python 3.3, and in 3.10 it will stop working\n",
            "  from collections import Iterable\n",
            "/usr/local/lib/python3.8/dist-packages/pyLDAvis/_prepare.py:246: FutureWarning: In a future version of pandas all arguments of DataFrame.drop except for the argument 'labels' will be keyword-only\n",
            "  default_term_info = default_term_info.sort_values(\n"
          ]
        },
        {
          "output_type": "execute_result",
          "data": {
            "text/plain": [
              "<IPython.core.display.HTML object>"
            ],
            "text/html": [
              "\n",
              "<link rel=\"stylesheet\" type=\"text/css\" href=\"https://cdn.jsdelivr.net/gh/bmabey/pyLDAvis@3.3.1/pyLDAvis/js/ldavis.v1.0.0.css\">\n",
              "\n",
              "\n",
              "<div id=\"ldavis_el1751403494419904323707754551\"></div>\n",
              "<script type=\"text/javascript\">\n",
              "\n",
              "var ldavis_el1751403494419904323707754551_data = {\"mdsDat\": {\"x\": [0.2534844613151092, 0.13771545710116737, 0.22467194413061709, 0.21381517784311968, 0.1632862582555927, 0.07080500503935197, 0.09101523384779203, 0.09171986111218626, 0.11117677881668216, 0.040904803284087875, -0.06210988602983288, -0.12027282492990671, 0.017197323791185104, -0.1690792182599515, -0.07221046548001414, -0.14196980054743916, -0.20251306077544337, -0.24953451828105147, -0.19398119764354055, -0.20412133258971124], \"y\": [-0.05674899143007284, 0.21614385182521623, -0.0362513077970558, 0.1340283239383163, -0.1143050693647294, -0.013224333483505272, 0.012489880983923634, -0.22017192125568608, -0.09046991731090022, 0.19332333125299694, -0.17431066301842205, -0.04828534369649041, 0.04560445426281883, -0.025300789809428254, 0.14165122757117302, 0.0256490366762074, -0.01021455324404929, 0.025840515007024174, 0.03512133084235283, -0.04056906194968804], \"topics\": [1, 2, 3, 4, 5, 6, 7, 8, 9, 10, 11, 12, 13, 14, 15, 16, 17, 18, 19, 20], \"cluster\": [1, 1, 1, 1, 1, 1, 1, 1, 1, 1, 1, 1, 1, 1, 1, 1, 1, 1, 1, 1], \"Freq\": [20.65553124417288, 10.38205357553791, 8.80742402312614, 7.931123306818022, 7.787089853576208, 6.039983178477964, 5.7808901802727295, 5.579425799284261, 5.228434215560523, 3.2717396911593437, 3.0365052021808587, 2.566293282082492, 2.517241938100764, 2.0927714781765605, 1.794182890805602, 1.695607420835634, 1.4252099533467586, 1.2428158372352278, 1.1605326068296042, 1.0051443224205123]}, \"tinfo\": {\"Term\": [\"file\", \"people\", \"jesus\", \"space\", \"would\", \"know\", \"program\", \"windows\", \"drive\", \"think\", \"thanks\", \"government\", \"like\", \"output\", \"window\", \"system\", \"anyone\", \"entry\", \"game\", \"please\", \"said\", \"team\", \"armenian\", \"good\", \"problem\", \"card\", \"year\", \"available\", \"israel\", \"play\", \"christians\", \"moral\", \"christianity\", \"atheism\", \"atheists\", \"morality\", \"judas\", \"religions\", \"atheist\", \"reasoning\", \"testament\", \"claiming\", \"imply\", \"sabbath\", \"homosexuality\", \"gods\", \"religion\", \"believing\", \"notion\", \"prophecy\", \"arguing\", \"spiritual\", \"prophet\", \"beings\", \"ignorant\", \"fallacy\", \"verse\", \"truth\", \"allah\", \"analogy\", \"christian\", \"claim\", \"beliefs\", \"absolute\", \"existence\", \"argument\", \"conclusion\", \"merely\", \"matters\", \"prove\", \"islam\", \"agree\", \"quote\", \"belief\", \"believe\", \"sense\", \"life\", \"evidence\", \"religious\", \"explain\", \"therefore\", \"people\", \"true\", \"question\", \"certainly\", \"words\", \"fact\", \"mean\", \"meaning\", \"think\", \"perhaps\", \"would\", \"reason\", \"things\", \"even\", \"exist\", \"whether\", \"point\", \"many\", \"know\", \"wrong\", \"must\", \"something\", \"like\", \"seems\", \"make\", \"could\", \"much\", \"time\", \"really\", \"well\", \"want\", \"good\", \"might\", \"never\", \"also\", \"find\", \"said\", \"take\", \"server\", \"export\", \"jpeg\", \"contrib\", \"entries\", \"ripem\", \"client\", \"uuencode\", \"servers\", \"clients\", \"toolkit\", \"binaries\", \"database\", \"pixel\", \"platforms\", \"imake\", \"openwindows\", \"compiled\", \"sunos\", \"ansi\", \"anonymity\", \"borland\", \"proceedings\", \"tiff\", \"interactive\", \"anonymous\", \"workstation\", \"online\", \"stdin\", \"readme\", \"visual\", \"sparc\", \"libraries\", \"comp\", \"image\", \"requests\", \"directory\", \"formats\", \"motif\", \"archive\", \"displays\", \"user\", \"unix\", \"format\", \"available\", \"graphics\", \"images\", \"files\", \"version\", \"request\", \"software\", \"internet\", \"list\", \"code\", \"send\", \"information\", \"users\", \"data\", \"mail\", \"file\", \"message\", \"email\", \"based\", \"program\", \"number\", \"also\", \"system\", \"subject\", \"using\", \"source\", \"info\", \"bike\", \"engine\", \"ride\", \"riding\", \"motorcycle\", \"voltage\", \"bikes\", \"rear\", \"honda\", \"helmet\", \"wheel\", \"tires\", \"motorcycles\", \"tire\", \"yankees\", \"outlet\", \"lane\", \"brake\", \"steering\", \"cylinder\", \"screw\", \"mounted\", \"riders\", \"garage\", \"cars\", \"sockets\", \"valve\", \"torque\", \"bolt\", \"harley\", \"shop\", \"lock\", \"gear\", \"ford\", \"metal\", \"miles\", \"front\", \"tank\", \"driving\", \"plastic\", \"side\", \"road\", \"plug\", \"back\", \"around\", \"like\", \"good\", \"little\", \"light\", \"turn\", \"enough\", \"left\", \"time\", \"right\", \"really\", \"much\", \"thing\", \"know\", \"going\", \"well\", \"would\", \"sure\", \"still\", \"take\", \"think\", \"look\", \"long\", \"want\", \"something\", \"even\", \"also\", \"used\", \"work\", \"could\", \"first\", \"never\", \"scsi\", \"keyboard\", \"motherboard\", \"simms\", \"cache\", \"adapter\", \"adaptec\", \"connector\", \"diamond\", \"swap\", \"pixmap\", \"centris\", \"slower\", \"ethernet\", \"pins\", \"thanx\", \"megs\", \"floppies\", \"sync\", \"cmos\", \"batteries\", \"dram\", \"upgraded\", \"printer\", \"keyboards\", \"clip\", \"technician\", \"expos\", \"uart\", \"horizontal\", \"card\", \"monitor\", \"appreciated\", \"memory\", \"svga\", \"apple\", \"upgrade\", \"modem\", \"video\", \"thanks\", \"advance\", \"port\", \"disk\", \"hello\", \"windows\", \"controller\", \"drive\", \"microsoft\", \"gateway\", \"drives\", \"floppy\", \"drivers\", \"board\", \"installed\", \"mode\", \"screen\", \"anyone\", \"driver\", \"please\", \"problem\", \"system\", \"need\", \"hard\", \"know\", \"help\", \"using\", \"would\", \"computer\", \"like\", \"work\", \"mail\", \"could\", \"also\", \"looking\", \"used\", \"software\", \"season\", \"players\", \"hockey\", \"teams\", \"stephanopoulos\", \"jobs\", \"baseball\", \"fans\", \"stats\", \"score\", \"pitching\", \"playoffs\", \"quebec\", \"braves\", \"leafs\", \"espn\", \"defensive\", \"coach\", \"wins\", \"devils\", \"jets\", \"bruins\", \"hawks\", \"hitter\", \"traded\", \"senator\", \"maine\", \"mets\", \"republicans\", \"league\", \"team\", \"myers\", \"game\", \"sports\", \"playing\", \"games\", \"scored\", \"president\", \"player\", \"year\", \"winning\", \"played\", \"play\", \"career\", \"last\", \"division\", \"toronto\", \"average\", \"going\", \"pick\", \"think\", \"points\", \"good\", \"runs\", \"first\", \"well\", \"would\", \"better\", \"next\", \"time\", \"back\", \"like\", \"years\", \"know\", \"best\", \"said\", \"also\", \"disease\", \"patients\", \"medicine\", \"newsletter\", \"cancer\", \"diseases\", \"aids\", \"patient\", \"ncsl\", \"coli\", \"hicnet\", \"prevention\", \"genetic\", \"illness\", \"clinical\", \"prevalence\", \"tyre\", \"reilly\", \"smoking\", \"infectious\", \"protein\", \"diagnosed\", \"immune\", \"gonorrhea\", \"examination\", \"genes\", \"psychology\", \"objectively\", \"clinic\", \"athens\", \"medical\", \"health\", \"symptoms\", \"avenue\", \"students\", \"treatment\", \"studies\", \"infection\", \"study\", \"acid\", \"research\", \"education\", \"university\", \"infections\", \"increased\", \"percent\", \"among\", \"center\", \"washington\", \"page\", \"school\", \"department\", \"national\", \"april\", \"reported\", \"states\", \"report\", \"community\", \"science\", \"years\", \"number\", \"scientific\", \"united\", \"information\", \"also\", \"year\", \"state\", \"high\", \"children\", \"public\", \"clipper\", \"satellite\", \"escrow\", \"shuttle\", \"orbit\", \"lunar\", \"satellites\", \"spacecraft\", \"launched\", \"mars\", \"missions\", \"detector\", \"planetary\", \"telescope\", \"rockefeller\", \"classified\", \"initiative\", \"propulsion\", \"orbital\", \"denning\", \"venus\", \"ozone\", \"observatory\", \"launch\", \"telecommunications\", \"balloon\", \"launches\", \"exploration\", \"detectors\", \"titan\", \"encryption\", \"wiretap\", \"agencies\", \"moon\", \"mission\", \"solar\", \"space\", \"nasa\", \"secure\", \"secret\", \"crypto\", \"technology\", \"keys\", \"chip\", \"flight\", \"radar\", \"administration\", \"earth\", \"agency\", \"security\", \"privacy\", \"enforcement\", \"algorithm\", \"government\", \"communications\", \"data\", \"system\", \"program\", \"national\", \"first\", \"would\", \"also\", \"information\", \"armenian\", \"israel\", \"armenians\", \"israeli\", \"turkey\", \"arab\", \"genocide\", \"apartment\", \"azerbaijan\", \"azerbaijani\", \"armenia\", \"palestinian\", \"villages\", \"sumgait\", \"karina\", \"arabs\", \"karabakh\", \"nazis\", \"argic\", \"ottoman\", \"serdar\", \"azeri\", \"mamma\", \"baku\", \"occupied\", \"lebanon\", \"azerbaijanis\", \"palestine\", \"azeris\", \"palestinians\", \"troops\", \"turkish\", \"turks\", \"nazi\", \"soldiers\", \"jews\", \"muslim\", \"soviet\", \"killed\", \"jewish\", \"army\", \"said\", \"russian\", \"people\", \"went\", \"women\", \"government\", \"came\", \"population\", \"told\", \"children\", \"first\", \"years\", \"firearms\", \"amendment\", \"militia\", \"firearm\", \"handgun\", \"handguns\", \"homicide\", \"constitution\", \"constitutional\", \"legally\", \"concealed\", \"rkba\", \"regulated\", \"regulations\", \"homicides\", \"violent\", \"accidents\", \"liberties\", \"paranoid\", \"libertarians\", \"automobile\", \"believer\", \"lotus\", \"snuff\", \"manufacture\", \"bills\", \"criminals\", \"bounced\", \"violated\", \"nejm\", \"guns\", \"courts\", \"weapon\", \"illegal\", \"crime\", \"federal\", \"court\", \"citizen\", \"police\", \"rights\", \"crimes\", \"laws\", \"weapons\", \"criminal\", \"legal\", \"citizens\", \"government\", \"congress\", \"arms\", \"drugs\", \"state\", \"states\", \"trial\", \"bill\", \"control\", \"civil\", \"public\", \"carry\", \"right\", \"american\", \"case\", \"people\", \"would\", \"country\", \"defense\", \"well\", \"printf\", \"char\", \"oname\", \"null\", \"string\", \"fprintf\", \"filename\", \"ioccc\", \"obfuscated\", \"stderr\", \"args\", \"prog\", \"xvoid\", \"cursor\", \"icon\", \"undefined\", \"cview\", \"landon\", \"financial\", \"mkentry\", \"libxmu\", \"noll\", \"whitespace\", \"temp\", \"emacs\", \"handler\", \"click\", \"bassel\", \"vitamin\", \"displayed\", \"entry\", \"output\", \"mouse\", \"echo\", \"stream\", \"remark\", \"file\", \"window\", \"title\", \"define\", \"build\", \"shell\", \"rules\", \"program\", \"section\", \"errors\", \"input\", \"line\", \"error\", \"return\", \"check\", \"size\", \"open\", \"application\", \"info\", \"name\", \"read\", \"problem\", \"write\", \"koresh\", \"henrik\", \"smokeless\", \"sleeve\", \"sharks\", \"homeland\", \"outbreak\", \"deaf\", \"ankara\", \"males\", \"davidians\", \"quicktime\", \"ceremonial\", \"gerard\", \"publisher\", \"lawyers\", \"yassin\", \"smythe\", \"slaughtered\", \"seventh\", \"journalists\", \"hanged\", \"fighters\", \"affair\", \"parliament\", \"auth\", \"unclear\", \"survivors\", \"risen\", \"invading\", \"compound\", \"weaver\", \"scores\", \"kent\", \"wwii\", \"bullets\", \"suicide\", \"fire\", \"fired\", \"unto\", \"cult\", \"ending\", \"picture\", \"batf\", \"friday\", \"shoot\", \"planes\", \"military\", \"tanks\", \"children\", \"died\", \"tear\", \"carried\", \"death\", \"agent\", \"killed\", \"tobacco\", \"sunday\", \"last\", \"great\", \"news\", \"following\", \"first\", \"later\", \"gordon\", \"skepticism\", \"candida\", \"intellect\", \"shameful\", \"cadre\", \"chastity\", \"pope\", \"salvation\", \"mormon\", \"aspi\", \"sins\", \"messiah\", \"doctrine\", \"disciples\", \"mormons\", \"paradox\", \"packaging\", \"teaches\", \"baptism\", \"disc\", \"creed\", \"deletion\", \"breaker\", \"apostles\", \"trinity\", \"iniquity\", \"bishop\", \"filters\", \"mainstream\", \"pitt\", \"matthew\", \"jesus\", \"catholic\", \"revelation\", \"christ\", \"spirit\", \"holy\", \"luke\", \"church\", \"orthodox\", \"lord\", \"grace\", \"passages\", \"surrender\", \"father\", \"banks\", \"mary\", \"bible\", \"heaven\", \"john\", \"scripture\", \"faith\", \"soon\", \"paul\", \"shall\", \"body\", \"also\", \"contest\", \"ciphertext\", \"forsale\", \"symbol\", \"blah\", \"sword\", \"coprocessor\", \"overhead\", \"toxic\", \"truetype\", \"profile\", \"contests\", \"amongst\", \"kits\", \"threads\", \"fusion\", \"diff\", \"uranium\", \"excited\", \"empirical\", \"particle\", \"conductor\", \"cents\", \"waters\", \"ranford\", \"wrench\", \"encrypting\", \"saab\", \"insisting\", \"sedan\", \"adobe\", \"autos\", \"argv\", \"column\", \"exit\", \"argc\", \"shaft\", \"bytes\", \"math\", \"revolver\", \"zealand\", \"font\", \"components\", \"vary\", \"hole\", \"comments\", \"quality\", \"designed\", \"stuff\", \"type\", \"colour\", \"small\", \"much\", \"also\", \"better\", \"double\", \"semi\", \"safety\", \"problems\", \"real\", \"like\", \"quite\", \"well\", \"high\", \"many\", \"scorer\", \"vesa\", \"nubus\", \"quadra\", \"slots\", \"vram\", \"eisa\", \"francis\", \"phillies\", \"finals\", \"simm\", \"chipset\", \"stevens\", \"jagr\", \"ghost\", \"hulk\", \"cincinnati\", \"mario\", \"vpic\", \"tocchet\", \"otto\", \"wolverine\", \"comics\", \"iisi\", \"fleury\", \"neely\", \"carson\", \"unassisted\", \"chelios\", \"sydor\", \"buffalo\", \"murphy\", \"macs\", \"mono\", \"monitors\", \"calgary\", \"hartford\", \"philadelphia\", \"period\", \"kings\", \"kevin\", \"lemieux\", \"saves\", \"winnipeg\", \"play\", \"copies\", \"power\", \"cover\", \"louis\", \"flames\", \"pittsburgh\", \"third\", \"green\", \"first\", \"second\", \"chicago\", \"appears\", \"circuits\", \"warranty\", \"liar\", \"jumpers\", \"sale\", \"astros\", \"inputs\", \"amplifier\", \"wordperfect\", \"fleet\", \"joystick\", \"toplevel\", \"debugger\", \"bronx\", \"chrysler\", \"nintendo\", \"forty\", \"salary\", \"lunatic\", \"sega\", \"popup\", \"xtpointer\", \"manhattan\", \"xtsetarg\", \"exterior\", \"brilliant\", \"sank\", \"golf\", \"dayton\", \"impedance\", \"buyer\", \"speakers\", \"stereo\", \"amps\", \"shipping\", \"offer\", \"norton\", \"manuals\", \"condition\", \"slave\", \"selling\", \"asking\", \"channel\", \"price\", \"model\", \"backup\", \"excellent\", \"sell\", \"jumper\", \"disks\", \"dual\", \"master\", \"items\", \"brand\", \"best\", \"tape\", \"includes\", \"drive\", \"offers\", \"interested\", \"included\", \"original\", \"paid\", \"please\", \"used\", \"games\", \"sound\", \"make\", \"system\", \"email\", \"compass\", \"shock\", \"categories\", \"reuss\", \"seagate\", \"insulation\", \"cols\", \"economics\", \"colony\", \"sampling\", \"abort\", \"biological\", \"wiring\", \"confirmation\", \"volts\", \"cigarettes\", \"imprisonment\", \"springer\", \"partial\", \"elias\", \"tenth\", \"waves\", \"dawn\", \"inflated\", \"repairs\", \"vacation\", \"forming\", \"fractal\", \"drill\", \"mystical\", \"exhaust\", \"aircraft\", \"crack\", \"relay\", \"expression\", \"analog\", \"spin\", \"hotel\", \"bank\", \"hidden\", \"trips\", \"deck\", \"order\", \"constant\", \"phase\", \"plane\", \"model\", \"hours\", \"test\", \"within\", \"distance\", \"image\", \"world\", \"current\", \"book\", \"special\", \"greece\", \"ships\", \"aged\", \"alomar\", \"onur\", \"yalcin\", \"stewart\", \"contracts\", \"intake\", \"goaltender\", \"hong\", \"austria\", \"burnt\", \"yorn\", \"mwra\", \"volvo\", \"argentine\", \"bolsheviks\", \"falklands\", \"czech\", \"cartel\", \"spain\", \"geoffrey\", \"yogurt\", \"kirlian\", \"towers\", \"somalia\", \"thrace\", \"armada\", \"hills\", \"island\", \"baerga\", \"river\", \"islands\", \"greek\", \"cyprus\", \"kong\", \"greeks\", \"plants\", \"water\", \"cooling\", \"south\", \"france\", \"nuclear\", \"uiuc\", \"navy\", \"dept\", \"turkish\", \"john\", \"minority\", \"david\", \"april\", \"germany\", \"world\", \"nrhj\", \"wwiz\", \"bxom\", \"gizw\", \"tbxn\", \"bhjn\", \"bxlt\", \"wmbxn\", \"nriz\", \"pnei\", \"mbxn\", \"tbxom\", \"rchz\", \"pmfq\", \"jpwu\", \"suck\", \"gizwt\", \"wwhj\", \"eqtm\", \"chzd\", \"babies\", \"nrizwt\", \"cassette\", \"nkjz\", \"rlhz\", \"chzv\", \"fijh\", \"zrck\", \"expn\", \"bayonet\", \"nist\", \"part\", \"pens\", \"grounding\", \"gfci\", \"foods\", \"rows\", \"accelerators\", \"neck\", \"ingr\", \"glutamate\", \"powerpc\", \"corn\", \"redesign\", \"catbyte\", \"dtmedin\", \"copper\", \"pittsburg\", \"inspector\", \"wash\", \"prong\", \"warned\", \"huntsville\", \"theist\", \"oxygen\", \"clubbing\", \"intergraph\", \"dortmund\", \"beef\", \"thumbs\", \"transformer\", \"sheath\", \"aluminum\", \"neutral\", \"wire\", \"outlets\", \"meter\", \"restaurant\", \"pounds\", \"grounded\", \"electrical\", \"chinese\", \"ground\", \"food\", \"diet\", \"circuit\", \"panel\", \"station\", \"brain\", \"reaction\", \"cable\", \"current\", \"subject\", \"corp\", \"brad\", \"patent\", \"kidney\", \"soderstrom\", \"ctrl\", \"lyme\", \"peer\", \"anecdotal\", \"rebound\", \"fever\", \"champs\", \"uniforms\", \"roughing\", \"keller\", \"acids\", \"quakers\", \"kkeller\", \"passover\", \"yanks\", \"hypotheses\", \"goose\", \"roussel\", \"spells\", \"amino\", \"nanao\", \"chancellor\", \"oxalic\", \"samuelsson\", \"rude\", \"burt\", \"easter\", \"flyers\", \"puck\", \"pain\", \"upenn\", \"resurrection\", \"lindros\", \"chronic\", \"jersey\", \"penalty\", \"shot\", \"doctor\", \"goal\", \"recchi\", \"penalties\", \"nolan\", \"ottawa\", \"surgery\", \"zone\", \"took\", \"goals\", \"eric\", \"period\"], \"Freq\": [1582.0, 3962.0, 851.0, 1227.0, 5911.0, 3359.0, 1414.0, 1194.0, 980.0, 2933.0, 1181.0, 1156.0, 3829.0, 694.0, 708.0, 1876.0, 1531.0, 562.0, 804.0, 1393.0, 1708.0, 742.0, 598.0, 2380.0, 1505.0, 716.0, 1424.0, 1337.0, 538.0, 567.0, 413.7711103500249, 251.2950501487304, 235.5479102681743, 169.9758185655389, 160.74188266833303, 153.7009034947755, 136.91629755719387, 131.59482177990503, 115.23661548256135, 96.87157746610013, 78.23926463205925, 77.77663319343777, 76.77222413135638, 74.58812011458609, 71.32909539768234, 69.96319506369198, 399.98008570832644, 67.37471983488808, 66.56835994866418, 66.18911733455876, 65.5830743409348, 65.09378144268837, 66.17397243135234, 63.725710989891326, 62.1423969013796, 60.12871036253939, 59.53859879666291, 405.6932162607261, 57.64116862246642, 54.35890411474401, 558.9204597501404, 391.0206870633311, 175.75388045048774, 134.08495847685796, 222.64192667207953, 369.66848625052603, 173.0836698210205, 128.7336292133396, 102.69545297030118, 172.30747917905353, 176.49002149246684, 405.33162164982633, 162.1305864729587, 193.4882520882407, 1067.752097306263, 311.67427718917565, 649.9284910216845, 440.8329281895426, 264.2549766980198, 214.44482531584433, 270.80597978778064, 2632.40105137226, 721.4265341872056, 777.2251341574773, 366.1849977635067, 351.01566062681246, 708.938774968966, 561.3010685989613, 217.51114577913668, 1720.625428066506, 417.9358553928014, 2997.5582395333254, 512.0139273313065, 789.6288443298708, 1231.4289336163683, 310.1824066254069, 444.8324227039287, 782.3961253999493, 1088.0936198248785, 1495.056895246688, 453.76729556177554, 705.4588689002942, 775.7518416478314, 1331.1525294430735, 540.293675552107, 867.0998352348689, 971.9899213168914, 870.5382219934615, 1038.1517686399905, 702.7401348735939, 894.9091384411329, 753.1456795922865, 801.6137789831249, 601.7180042527864, 586.569977912416, 818.0438518075111, 610.587796510653, 606.545910045821, 582.1065142935831, 591.7712361830081, 293.05187346823067, 254.38031904200184, 234.45705340157662, 229.95900062603897, 208.8480845034785, 171.8231551718174, 137.49280295256312, 116.33348927065427, 113.50129133780604, 104.35342544561156, 99.98184346849514, 96.44414693738977, 95.75959214343449, 94.21067979359938, 90.16097679067063, 86.98447864370289, 84.55916417486372, 82.03899949282508, 77.3958983200655, 77.2558478105607, 74.00651670402026, 73.98853931344426, 73.51506159265949, 72.92314085845868, 376.94323096710104, 69.12150853177975, 65.17865413531128, 64.60856020405055, 64.0329605165749, 133.50056411591527, 76.05408666391236, 109.9896115247477, 313.301906317135, 578.4320700879549, 137.19164847582599, 310.2734172098821, 122.25864098258003, 374.12102880968706, 231.17700779338438, 99.39243899185168, 386.9699632947606, 294.9053857208619, 322.3827797374816, 994.189335679853, 469.40549265971885, 248.7342756970218, 631.3859947494021, 638.9494956078745, 293.75783376512214, 634.2585451428948, 306.70958853607107, 536.695021408928, 408.5366683091763, 479.3967434473266, 721.497702524552, 263.01101320890086, 607.0633875014687, 566.987622848651, 653.0871233212163, 334.4705116840606, 360.3852635877055, 399.5288356127879, 459.1683411794428, 439.85996578027857, 611.7537377582237, 443.9597573138041, 352.14936792306077, 377.1409303223405, 322.2552816595989, 315.88598740386993, 328.9874798114947, 245.81448798886797, 138.36110527309714, 111.87334024457243, 105.99180395377113, 100.550234546929, 100.29917180979926, 92.48009507500123, 90.3436432253082, 87.570829588434, 74.88206597796882, 72.85273194468886, 62.707143776434606, 58.409902462651665, 58.310353737338495, 57.64559561873468, 53.55101598476354, 52.81246657181457, 51.531718585865704, 47.99876942824211, 47.785189848590235, 44.26856858153466, 44.17400390197808, 39.713579152939616, 262.1960574151085, 38.979308773380886, 38.95702744505254, 37.88717852298765, 37.46087614954578, 37.07596632507161, 77.20199240008654, 130.2187999520022, 64.22458497662953, 76.77602784507022, 74.60528987314396, 161.05602127269302, 225.19900596383616, 92.64296272346766, 136.7273566161305, 84.76995254264348, 275.9190839588549, 182.49534941516433, 91.66408242829901, 578.2617180698657, 424.08416953319204, 981.8249751535017, 689.2651318053865, 380.9132464550416, 188.54292591008067, 179.45478774848996, 335.8742756101725, 282.61954107236966, 634.2887374852679, 468.1281329250121, 395.06879808554675, 455.91058195490945, 302.64281270966325, 559.3751417875816, 336.916558059121, 445.8514655117563, 679.1978685526667, 312.0033206487891, 321.3934978583324, 313.22522458174336, 428.7048989169901, 286.3760623807544, 287.54904628895434, 335.06417723387693, 321.8290192476482, 359.7877075666288, 381.7632955320973, 328.84244310079407, 316.278123964829, 338.79514184398124, 302.3595152404496, 287.36221801187025, 560.1573287571158, 335.8318093431563, 154.56460557760133, 131.91954612468783, 108.17189079047313, 100.32742524087861, 82.50292609118083, 76.26270690774487, 73.34684362492786, 70.90703776410702, 76.16755626473538, 64.56068121713616, 64.0441201829943, 63.33470516974189, 61.764084693409714, 54.74325284432768, 54.41011537388551, 49.1489531889888, 47.74677518633008, 46.932942240122586, 39.754416562889155, 38.65642346498623, 38.31220228049875, 207.18323741277848, 38.23631366877962, 37.12940598463978, 35.88318253996903, 34.82122473910243, 33.93800174700825, 33.90084000250232, 694.139944684993, 329.48092055352885, 263.0162344970223, 499.2543922124332, 73.76123521225747, 372.5452674353519, 121.99591866519543, 245.46504545118162, 390.74537839960976, 1011.4482843037723, 296.38729589389993, 228.78119009535905, 550.7356603982258, 152.93202828604294, 954.8861781129426, 243.71766310244746, 746.7837242945991, 133.13209738717043, 89.12425926703231, 238.8206542703751, 183.9976418911255, 260.7398142204517, 259.85435155980736, 185.39297303303945, 267.3273319282334, 284.52659321355185, 801.4982979186146, 273.243019611719, 681.8905448824927, 586.0508951780963, 667.6320742146023, 577.4184719081225, 375.5161965846868, 840.5595987883887, 461.1745952231772, 503.42828790096723, 949.7651318851159, 357.69019844422706, 690.2937812825655, 469.3370055309625, 393.9301518075181, 461.1193970927686, 492.98995110180357, 313.51148419482564, 364.5108180330762, 315.8201415903697, 420.4341244588506, 361.19624744777633, 349.2007818422509, 258.0510725410427, 238.50098569543022, 227.75938009467413, 190.26383207799157, 131.0644547937778, 114.50624777892007, 107.25515710409722, 103.08142136758342, 102.69978319365369, 90.88119816368196, 90.69713189591008, 88.90172176424478, 78.97426374926866, 78.24152226460619, 76.40872921848538, 76.21386709746523, 74.18182259784882, 71.49895350485717, 63.62608401664941, 59.23187739094514, 58.38010448181555, 58.36909219205468, 58.03807851842108, 56.453126922873594, 56.30833955340758, 55.913472779828, 350.9609820820471, 724.9668773509708, 149.85404433635256, 740.8707708158703, 94.3400960438552, 148.78051923387792, 455.57555313025335, 91.28248877295538, 464.91123908995087, 217.0826361880127, 825.2129284587877, 107.2121468403142, 145.1848161628232, 317.56756394605117, 97.65401609043136, 513.3799278311038, 167.5115064263023, 137.80468603919078, 160.66752417421142, 370.6715955603216, 151.56119165818134, 551.8017029172489, 176.22174280936127, 430.17979311816737, 183.82368572856225, 379.05721180432903, 390.4269854243218, 531.7919222338041, 277.2123874652703, 229.50146892709634, 355.7387574953734, 269.7150959286396, 343.9193500066538, 256.5389431745232, 317.2402426793225, 230.6119267560803, 228.60419240555862, 227.96352301335438, 195.09831850673606, 159.22335001017782, 123.85515502062445, 105.89509468008703, 105.14776693365037, 101.31389387193103, 79.2377190259773, 76.1783899218555, 70.84150781022261, 69.59890948540645, 60.53235889256122, 55.49363967457903, 52.79390299771265, 52.65298708574337, 50.58027417528574, 48.426856099805335, 43.59598869136258, 41.85098166024584, 41.574219720202294, 36.903191313551524, 36.49686865844792, 36.05069201537493, 35.69437990372575, 35.22519740340202, 33.42696330646568, 32.92623672720577, 32.360511550380615, 31.392334960922682, 30.715361086761572, 30.693641166949106, 287.3605625439186, 386.55800484479573, 69.29065382951178, 60.787310259239206, 75.27677654313837, 123.35040946717757, 147.05930852489908, 54.18821172239376, 238.78078733020712, 49.596112342633006, 330.49822365855516, 154.76083149071113, 319.80516030109834, 55.33262217659688, 89.66205839176455, 91.10767366995537, 232.8915564771383, 219.82331630810987, 186.54686811762394, 136.17106471010132, 170.83267233148428, 137.47708023161215, 225.65350819534433, 207.78898326960731, 117.90292330569737, 189.0140817883545, 132.8240818094092, 117.9085102505989, 160.16037199522395, 239.56645145698366, 214.81764198899833, 116.2565339101861, 133.68725136653833, 193.40527274923468, 170.7239014979328, 142.65280718616376, 131.7202438565222, 130.37579122850136, 124.68476261787643, 124.4956391608975, 390.22256086597434, 208.77639725847868, 191.54649193843642, 182.60745006883997, 175.2634932027981, 159.2029981048764, 107.4621230183422, 103.69889367115891, 87.27226376002402, 82.85786099960643, 78.3091655323694, 77.4711841834369, 75.39919457475561, 75.38922625753729, 74.94818445710322, 68.8471565628018, 63.551030114968185, 62.899175436985225, 62.68392148451831, 52.012391223997405, 50.5075802266637, 49.506927637915304, 47.10642381230547, 243.63068589613025, 46.754415602087704, 45.348500466260774, 45.020956730247754, 44.96306529417807, 44.777748428495784, 43.0746122649963, 504.669562811617, 96.24343433224745, 169.58646263616285, 149.8406594534402, 164.64144461491674, 116.11261713175942, 1041.1013849397364, 388.8933490711159, 199.686937274003, 219.21744794210312, 128.47396033102572, 345.2317340332892, 309.0512285948628, 427.3139558354897, 132.67201654456818, 116.56785623247413, 220.7576204361069, 221.38114478378785, 124.5717915372752, 253.8533333845818, 195.52622208111717, 148.17440156473035, 173.5613853634475, 366.72257758857864, 138.40136310227834, 285.8848079632641, 302.0137123251909, 205.93347946239862, 168.5115939654811, 201.84032516609506, 225.35212131715113, 194.18053139177272, 179.20324724419064, 597.370921395873, 537.6484634769324, 526.4240807525819, 329.7314213756804, 265.27547044990797, 218.10179470506012, 176.7492288334846, 156.86354862671612, 156.8324589717987, 117.38333427128042, 204.23910863112945, 113.72532497745372, 112.05464681739434, 111.54837920451727, 111.11463757833104, 103.17916443979617, 91.5566207478001, 91.30294107351784, 87.11707137176869, 84.48360019321431, 83.48241653739213, 80.61771449962855, 80.52234890611291, 79.04768072325534, 74.96674791141798, 74.75589405069316, 73.06501878041608, 72.8309903485078, 69.63600104703059, 69.38869810165, 116.27967633388685, 372.0930983928994, 183.0441892133694, 144.47556175086143, 173.9888992086581, 451.3027405866044, 163.4451888732536, 147.269362999378, 225.47088653442808, 216.65504642180017, 148.05010288894815, 584.2006686817032, 178.8328808294941, 588.6655698972493, 211.71528980656572, 172.59873508983483, 217.27274551132058, 170.50282587951634, 137.41976084552758, 166.09130805786876, 163.82748245516908, 160.45336165833967, 154.30743560587823, 189.88355443686572, 177.031383020922, 142.18318145071913, 80.59168241171788, 75.7201486008131, 64.73710735166733, 63.88522674658956, 158.332257295308, 59.97866198153299, 58.629895588457416, 55.88988851617367, 54.55754915643745, 51.574612651273846, 48.00510142997739, 46.47804999105911, 83.26764963039238, 43.99342050873104, 43.51632447126539, 43.154900673692374, 42.541159736642506, 38.96898914954536, 33.95874398104074, 33.58488365203476, 32.98168136022348, 32.41219052625071, 32.10927568270364, 178.97330715039115, 30.73607509477952, 29.756042122215476, 29.6944465600143, 335.59659494754925, 53.13213490008771, 138.37221434677338, 135.33124844535115, 259.4440305611328, 250.32782922714463, 254.31728482568292, 72.58702041574067, 281.0660754107254, 322.83494078679325, 85.88819159680546, 223.69520206540497, 197.97507161053463, 130.68636235452243, 199.52918754599503, 158.78455293017552, 571.8033370935524, 173.85521089321756, 147.66749708313912, 126.75489546249283, 390.28445593463135, 269.26969837535296, 113.82437883941962, 195.90779979991547, 277.49823537558785, 119.63942075948157, 278.55547133587186, 146.4507689286706, 364.838806907321, 184.9042567296133, 234.79152939124953, 353.6548222344285, 329.77324069285345, 155.75737504116694, 151.82035109185765, 172.63340233282597, 193.10793768537727, 190.03540458781, 184.21257061955757, 177.87952228818264, 138.8809112603974, 133.01608685521074, 120.78828538380037, 82.89191605068733, 81.77900942522068, 79.4477181172692, 72.87711681852606, 65.51962404344468, 65.04174639067779, 61.35481579635419, 59.53372430182425, 58.640379938504346, 48.48230252626356, 47.08215570469333, 45.85374991568098, 45.657525373853865, 44.74876196495495, 44.37372159848429, 41.91961626483581, 41.38047345880465, 40.38817294191624, 39.634425684336165, 39.41453969134334, 38.95686793576716, 36.87987993839958, 34.733817235784215, 544.8159381263598, 573.9624228534261, 219.76585611210126, 88.83469047869967, 172.3673244351572, 115.9710248971256, 913.8403524480964, 454.3758991187782, 182.48472088354904, 155.6288683251366, 243.57210590163953, 99.52720750614036, 192.91857332754685, 518.2480677987992, 202.77311487862298, 120.7649040143779, 169.7334502714531, 299.6895604210142, 166.03175900551835, 169.55095337246985, 205.57484894215722, 180.68288591822298, 179.74218955316977, 138.57564398481998, 163.28371333848003, 165.2432961614778, 164.4758576353062, 152.83948695770673, 135.10450728009775, 168.6550477258184, 138.08661217192696, 83.83693831338914, 71.49244607560512, 69.79926425368252, 49.6176138479416, 45.97819961490753, 42.73336713386221, 39.27354056582828, 37.29792433540066, 37.032295148926416, 36.85860855425769, 34.67618816626023, 34.57007017724555, 33.19961073484346, 32.468644342675596, 31.669842648883346, 30.695106012115325, 30.02033482403025, 29.502661066078105, 29.419077198609294, 29.358081467060103, 28.524285210879153, 28.37221786930104, 26.63943169578062, 26.44045793445432, 26.17239978911082, 25.941613249599115, 25.371456087809825, 25.220070677700214, 87.8010734577722, 64.4228895488072, 66.96052533802991, 75.15515400731583, 34.50721770159895, 44.38875577365656, 56.02588590059837, 218.18151569396719, 76.64050202266911, 38.02842822949335, 42.124861454664625, 40.878746476517094, 125.29256505327734, 65.28564088521273, 70.94407189797684, 49.911165089742575, 42.69369357634803, 123.8336098112942, 58.027263611403, 140.3085069394354, 68.91841810207313, 42.563620212578364, 53.70803797403397, 72.62610650351824, 49.06411505660446, 67.17891895466597, 53.01173530621563, 50.76035881833861, 70.90937441464374, 59.38475960410679, 57.15945517925581, 56.61303564677735, 60.366491102274516, 50.73515436119082, 111.06379537882903, 79.62360518649021, 77.3727021446668, 72.79430662876202, 69.84381030842106, 69.1668195288734, 67.81295780125457, 86.91375277774696, 59.37059632600387, 57.83683331461229, 55.639574830429886, 58.93666943085955, 54.19050414161119, 94.35488232311742, 50.632781786081566, 45.078304684706985, 42.17251977074791, 40.350039935541574, 39.46684201000172, 36.66577554084093, 35.65756770715088, 35.471632052597855, 34.99350446141193, 33.34776749463378, 33.3469885900366, 33.27675307916285, 33.142096737155384, 32.65227987075112, 32.587559460926194, 32.27048252100935, 103.40877806044958, 166.31311332790318, 780.547269874791, 116.41423656644015, 72.45782554904534, 307.85117160466837, 162.12836991852126, 150.66566749091965, 59.25682489846998, 323.12000703855864, 63.19650723217376, 142.50813402275864, 67.6885156660525, 71.52716865255557, 78.12191136071105, 172.02061807788294, 92.43870853894967, 82.9927869794184, 217.11119407640834, 96.73205350359414, 164.31136845700163, 78.04095663895244, 112.01202755853699, 105.42506248383162, 88.63565691348501, 82.44304581537911, 79.20914234688397, 72.2804920826259, 170.81904476081817, 48.090528681777926, 44.69545327807107, 61.48135971420375, 36.94343603703502, 35.81805040665125, 33.2900417776457, 33.278894967659205, 32.627776297147655, 30.92860561421787, 30.265699255114022, 29.92087578063102, 27.280399952798657, 27.08831548123628, 26.726219068958496, 25.832655182293315, 24.67403341949689, 23.85938155924124, 22.762335916637586, 22.756671557257054, 22.60016844200105, 44.323998358990664, 22.182554871022017, 21.589882090482327, 21.502232845700256, 20.83054029278456, 19.399813787789604, 19.019874923322792, 19.006829265589417, 18.75021615449313, 39.497639529579004, 63.34232006123826, 53.58494608650862, 70.26383698985859, 68.67853840121464, 34.054190164886975, 31.673925043992632, 94.60390269081967, 71.71998034855612, 31.89646944020803, 34.03298519896489, 90.94075812111326, 57.29339993406623, 40.655001923936084, 52.680764324601476, 80.17084072676194, 78.1764880746317, 72.51129471233239, 96.75108669955607, 94.23070424609989, 36.61819714108215, 82.33669697155906, 100.00439919594035, 99.62134969142835, 74.71179758219424, 49.122348834311225, 42.146782610870616, 49.857472976920334, 63.383655332014186, 63.726953571387305, 84.74655165358502, 59.00809443195837, 70.1173416558006, 50.96476008353242, 48.82493638367487, 104.29115542113583, 80.82206631554678, 72.42344015801496, 72.35636189884616, 66.01183350883518, 65.83716944654581, 64.38714828075918, 58.51085545594716, 53.84337195909492, 48.72976568841175, 46.474749572217185, 39.96973127027608, 39.96715330596255, 47.987851756477106, 38.62952486953451, 35.13483365409562, 34.00420086127535, 34.13634945253483, 33.2611189346788, 33.00713360941396, 32.67934125892009, 31.72958709759626, 31.526490974015086, 31.017394209110186, 30.1783482589473, 30.139625280544717, 30.040962305169995, 29.620088690843062, 29.20939663954501, 28.618095851931365, 74.00562154847404, 59.867078739661956, 62.898010927211665, 46.33198898164904, 77.63324544720639, 92.60365173701543, 66.61312739818764, 104.08360602707081, 262.0365777111704, 103.88644294410291, 48.40891150541152, 55.37899643085932, 53.74666107041609, 55.98292412490755, 215.02532305309765, 73.83348426348115, 167.30264331179464, 90.20551206776814, 62.69297900371276, 67.69455085415672, 71.11381567328154, 81.39577040270626, 57.76930448649709, 96.89828900163448, 84.26121961748031, 63.26568727072224, 58.55059054127789, 61.497854368197295, 59.52680325368816, 55.24287375702303, 47.07119018519924, 287.3028124134493, 36.62446009960753, 32.38568309544648, 30.06923216893305, 30.04389522955388, 29.453799068350925, 28.365238220064114, 27.829001506206215, 25.370007855079702, 24.21106528981489, 22.744449060749073, 22.282304243938867, 21.946528958190626, 21.80946573070198, 21.00201884319039, 20.806931192020382, 20.606048877892064, 20.02058046817389, 19.77813416366266, 19.706816922785364, 17.52067709497783, 17.383885149472775, 17.37069007357975, 17.27821682742333, 16.583905498031555, 16.41070890663298, 34.65442230309593, 49.484111777686124, 69.13628532798268, 28.444157340643347, 200.97718303375575, 243.01625200098812, 73.35705798520337, 70.42981367791539, 191.00358069586872, 59.71939351483276, 91.66425934470837, 170.5642545440977, 77.07732336158142, 239.24222491856793, 152.31581764956752, 61.34167972390879, 114.02715029553737, 138.2256069572767, 44.9248988881725, 82.91090730565715, 47.052691147582934, 65.7937202721404, 60.21121578275958, 57.48354325825272, 148.71756533475028, 88.8242481529085, 98.54107411444522, 147.71461988365235, 69.85286072987331, 96.8953100454658, 78.3653542619055, 90.81235412741542, 66.53560069788273, 92.27873697418653, 95.55080461926367, 74.31601586055027, 68.59459903780736, 72.16896258030492, 68.59925870481962, 67.74028419818956, 73.26168775912723, 46.61426597762596, 39.485439095186955, 36.64749709254966, 33.155272709298, 31.655001830636195, 31.527599284424237, 27.80836789327349, 27.394874684939122, 27.222234743206865, 25.441705785734715, 25.81246881761959, 102.81348342300637, 24.416430387726724, 24.257772433850203, 23.96723098659534, 23.34073914999731, 22.775713768303433, 22.377663521343496, 21.8812775032488, 21.802963667265146, 21.76510088904182, 21.538340832795573, 20.406075045040755, 20.09834312357038, 19.70521494352312, 19.6812417819266, 19.57745045290395, 18.543262173868328, 18.355712761736857, 41.74020571221031, 49.42759576057275, 41.15444393218651, 26.6052269811541, 33.80113611219043, 43.31203601638158, 27.09396126826505, 32.536732338895945, 47.1404351191038, 39.39623487982585, 25.980224394981583, 29.567036916651652, 91.76794300248511, 32.18382523110026, 31.281548722349793, 31.73678995590367, 41.47046287248037, 37.32725508107591, 40.83021714840824, 40.18096051669819, 30.1236452057507, 32.91786356994578, 33.301185318710104, 31.99478091316191, 30.90031192418119, 30.181511067853926, 91.5385512545899, 54.876740188737855, 42.822916431983785, 40.40351358192303, 40.33988294724812, 40.33988294724812, 39.329968848899604, 35.252284285970276, 34.76848674412828, 30.5336856297498, 28.556769053359215, 27.706604957200174, 27.244816218476718, 26.178216379914677, 23.373096975271675, 23.082778837489876, 22.503422843633967, 22.503422843633967, 22.503422843633967, 22.14345294433417, 21.43422282897995, 21.133760676974614, 20.956184970315483, 20.588623697672205, 19.688208544486415, 19.649654318605894, 18.709777016991925, 17.241653581377467, 17.156785798524165, 16.978959739748923, 105.71230285730024, 21.49387318191017, 32.372052908466834, 29.1117933567408, 206.23005916453292, 54.80036694825449, 34.45584131730808, 48.41895805797661, 32.28573213263587, 124.54538621401032, 29.83543456384183, 81.84435323440125, 40.29788717202465, 62.96779100385584, 43.30480305830663, 45.86650414975429, 40.4570002023744, 45.998515771281895, 47.31183445125353, 35.222577947534965, 43.76129954343643, 43.14859918292633, 35.900471266685045, 38.73169700971402, 123.81822103879234, 84.38830416946836, 74.17770952586028, 72.78243097248942, 58.32135797249291, 57.41525484336804, 55.476565334069015, 50.92467714171938, 48.979261387433375, 48.62807623318727, 46.33729792045941, 37.99159200610837, 35.88814541951946, 35.76832485403452, 33.275739847525244, 29.15304909207676, 28.97668274806942, 28.64842596467662, 26.589343855088913, 26.480632371299805, 25.109749582409236, 24.97626650451032, 24.836322473127616, 23.607132981468872, 23.52294438100533, 20.002743064826866, 19.496211773021013, 18.772101378533506, 18.63756818843449, 18.44516414402373, 64.89782379829738, 28.486233371917514, 68.39987748288685, 43.198527932242634, 39.210554142769304, 39.00228771832149, 35.32226995667195, 33.50785053411696, 31.951454600937705, 30.889878511560383, 30.746054737379396, 30.20305967082363, 29.40039992138034, 28.17471222230376, 26.87497211724043, 26.87497211724043, 26.57926052843142, 26.33810830191735, 24.161310255369607, 23.784080894489595, 23.319050261222248, 23.20959865304271, 21.529305512188714, 21.04599466691279, 20.875180226793955, 19.668348189652253, 19.538246186695943, 19.505571985051024, 19.33005846728289, 18.28079778047628, 18.045376828788733, 18.012869068938638, 40.50603901496955, 96.81735990077998, 137.96395983998914, 45.805979285070386, 25.929631751989927, 30.144363778340974, 36.51746139014755, 34.030475189380276, 62.14867977721709, 39.532893838257664, 127.50734826798569, 110.77269670271886, 41.705730828137824, 56.3280424800814, 51.73336641427424, 49.03923888398233, 37.53763347025361, 33.16102454109198, 36.83364144898085, 35.193660768883205, 35.04318964488092, 30.19734387895477, 48.95964535371027, 36.58699181410246, 34.04802035831179, 32.651557561624614, 32.31619425666447, 24.789030004167877, 22.500096999996757, 22.42111725650329, 21.074881178236193, 19.24275361842769, 18.931174976726854, 17.662755334564906, 17.473278151535613, 17.20604375938636, 16.393674138153308, 15.671483748065707, 15.316870555429144, 15.274670769737483, 15.083958759941535, 13.877438022242863, 13.805308494206058, 13.534560712595836, 13.195808059596528, 13.113088076113918, 12.780032388595535, 12.739980419234657, 12.59725008987307, 12.565194881002872, 12.422803151198115, 11.959075972000496, 49.38979865473824, 61.134554517148764, 83.01382978844276, 117.74765393562123, 22.17889676692857, 43.855057003736015, 31.263299378621422, 24.927565274993686, 33.21149841951515, 38.44773159520824, 55.913934915739596, 50.67016538555389, 57.105318130016414, 22.133419382226407, 24.134477948655366, 19.93935012848203, 23.901452169158524, 22.051006708572604, 26.25530912399866, 30.361654575884756, 24.357752507911613, 22.541287691959646, 21.59579257037806], \"Total\": [1582.0, 3962.0, 851.0, 1227.0, 5911.0, 3359.0, 1414.0, 1194.0, 980.0, 2933.0, 1181.0, 1156.0, 3829.0, 694.0, 708.0, 1876.0, 1531.0, 562.0, 804.0, 1393.0, 1708.0, 742.0, 598.0, 2380.0, 1505.0, 716.0, 1424.0, 1337.0, 538.0, 567.0, 414.61836024882194, 252.14228585325407, 236.39514596940117, 170.82305427244236, 161.5891183695599, 154.54813919600238, 137.76353326399328, 132.4420574811319, 116.0838511837882, 97.7188131739026, 79.08650033885863, 78.62392672358519, 77.61984876369627, 75.43551050712426, 72.17633109890919, 70.81043505635407, 404.98467676821645, 68.22195554168746, 67.41559564989103, 67.03635304135814, 66.43031165832905, 65.94101714694405, 67.05057505759444, 64.572946694147, 62.98963472692802, 60.97594606376625, 60.38583450624856, 411.5015682319749, 58.48840432369328, 55.206139922883, 569.7022976038841, 399.3831590033948, 178.82536686722597, 136.28175355416784, 227.83229819730133, 380.29059995274093, 176.96679550430886, 131.59564600048924, 105.12430111876847, 181.37255022345065, 187.3813645687239, 453.1596361609208, 172.61272448568778, 208.43025859567229, 1303.720281044599, 349.27060460544584, 772.205899686887, 511.5997407327781, 294.1256501259989, 235.13350447973133, 305.5234191276197, 3962.4620706983283, 938.7355087911207, 1045.8756465303825, 440.34111465473205, 419.41255830630024, 970.5596755427396, 748.9467481894247, 239.6352979057479, 2933.697704538955, 528.8425813948385, 5911.385305031173, 687.8272594023699, 1202.2010447298271, 2215.178221497427, 371.2876000203446, 594.2933884013247, 1249.750983130806, 2060.266530410567, 3359.78864042013, 637.7852051051038, 1274.408516262801, 1540.0961332093038, 3829.825471292238, 854.7402156245159, 1951.4009136543434, 2432.94511510654, 2013.4560067658513, 2873.3334956504746, 1413.330379824604, 2404.8715521685485, 1708.8400204338957, 2380.0825839458835, 1183.6307116187636, 1127.5126428677124, 3250.3570455811287, 1293.9705953404748, 1708.1160015627906, 1296.939309661434, 593.013611579617, 293.9015731275009, 255.23001869580605, 235.30675305538082, 230.80870031782973, 209.6977841572827, 172.67287164965867, 138.3425026517264, 117.18318892801065, 114.35099099516242, 105.20312509941577, 100.83154312229935, 97.29384659119398, 96.61582262729932, 95.06037944740359, 91.01067644447484, 87.83417830105927, 85.40919566304797, 82.905877724804, 78.24559797742188, 78.1055474643649, 74.85633749311334, 74.83823897038667, 74.3647612464637, 73.77284051581506, 381.34592707774, 69.97120819378537, 66.02835392922478, 65.45825990676602, 64.88266017037911, 135.8643981592138, 77.29555475207573, 113.02766302851474, 332.7195747398092, 632.9124106685032, 142.1764252015396, 335.2780349114315, 126.4856221051076, 416.6063560991071, 253.06882162879427, 102.58703162949286, 449.6948506711832, 335.7629640100512, 370.7073808293991, 1337.337500450781, 578.8411490695711, 285.7725347795184, 831.9797931445542, 879.8447153839056, 360.46118408114074, 968.5340480174087, 399.45378703449325, 901.4518083960901, 634.5419361890323, 787.7944843210789, 1413.964029867733, 350.77075097243755, 1188.123956287771, 1097.837341760395, 1582.9490362878373, 554.6833480103908, 698.8905332880838, 897.1553304512149, 1414.1173450609904, 1266.297056163779, 3250.3570455811287, 1876.2945929926766, 753.5505132440701, 1413.0368239352472, 660.2611241251719, 749.5969018392689, 329.8347413705059, 246.66175385759703, 139.20836683757432, 112.72060180358359, 106.83906551278228, 101.39750702435695, 101.14643336881042, 93.32735663977422, 91.19090482973203, 88.41809114744515, 75.72932753697998, 73.69999357749113, 63.55440534112236, 59.257164038060864, 59.15761534766607, 58.49288882125726, 54.398277550274585, 53.65972813082574, 52.37898014487688, 48.8460310073332, 48.63245252015678, 45.115830345260505, 45.02126546521654, 40.56084072131274, 267.87103504873807, 39.82657034306768, 39.804289015109376, 38.73444008199882, 38.308169297396454, 37.923227888310066, 79.9908579470434, 141.6297457504828, 67.48392427565913, 83.12689777664657, 82.4724589034875, 197.30851847847978, 291.7894906603324, 109.16062706297275, 181.0092431346637, 100.78219264160236, 473.84661790070817, 278.7295372507068, 112.06864911622525, 1425.4994039470162, 1019.2562617290451, 3829.825471292238, 2380.0825839458835, 969.79244131888, 343.27789839343814, 318.377735880731, 855.6092705702472, 673.3402656733527, 2873.3334956504746, 1765.8339946269323, 1413.330379824604, 2013.4560067658513, 965.5585125434566, 3359.78864042013, 1328.9724567443227, 2404.8715521685485, 5911.385305031173, 1141.5987055163343, 1358.1522824769074, 1296.939309661434, 2933.697704538955, 1063.1929804835395, 1097.058683094998, 1708.8400204338957, 1540.0961332093038, 2215.178221497427, 3250.3570455811287, 1846.7877945035464, 1597.0661802768004, 2432.94511510654, 2084.474520670614, 1127.5126428677124, 561.0064603130476, 336.68170016105876, 155.41373717999113, 132.77677412807262, 109.03327531885412, 101.17658617154478, 83.35205744817833, 77.11185141743046, 74.21567196785031, 71.75616913020768, 77.08169070991038, 65.40982779754518, 64.89325155667957, 64.18383795738222, 62.61321605350196, 55.59239028891634, 55.259246730883014, 49.99808454880429, 48.595912987167814, 47.78207359712009, 40.603547933354875, 39.505554821983736, 39.16133365158618, 211.7765056029919, 39.085445034454246, 37.978537348522494, 36.732313944463456, 35.67035620072184, 34.787133106823745, 34.75056545334359, 716.9239968547851, 340.83373409991657, 271.8555293200899, 521.2901643748781, 75.71729517716292, 392.08693673485664, 128.12168851602357, 264.0562274631896, 436.0116772285832, 1181.1397596416314, 328.59007354491337, 250.81354322591207, 636.6784711468023, 165.33071202672875, 1194.684287445919, 276.70612450463386, 980.55525985663, 145.37452741366653, 93.99903193219616, 292.3323956249784, 219.71967897876377, 339.3591653534144, 340.3753346421254, 230.07740135387255, 366.15989038011327, 398.47984151979165, 1531.4354311321497, 384.9751381950341, 1393.3687333730297, 1505.722604462492, 1876.2945929926766, 1588.8194101546871, 761.5751067968916, 3359.78864042013, 1132.3917576946208, 1413.0368239352472, 5911.385305031173, 725.8276551547647, 3829.825471292238, 1597.0661802768004, 1097.837341760395, 2432.94511510654, 3250.3570455811287, 654.771449765824, 1846.7877945035464, 968.5340480174087, 421.28309495893666, 362.0452179315143, 350.04975236493306, 258.90063015057297, 239.34995617527215, 228.60911919833597, 191.1128025840643, 131.91342527643772, 115.35521827290401, 108.10412758675714, 103.93039184742535, 103.54875367601564, 91.7301686796992, 91.54610237575201, 89.75069224408672, 79.8232342291106, 79.09049274444813, 77.25769969832731, 77.06283758085934, 75.03079307769076, 72.34792398900457, 64.47505450967846, 60.08084787078708, 59.229074961657496, 59.21806801638495, 58.88704900393961, 57.30209740599439, 57.15731004318724, 56.76244325966994, 356.35633451316136, 742.3600568119764, 152.73705801875846, 804.8077553553387, 97.81895981196475, 162.16241575207388, 549.4972145849499, 96.40991606246826, 592.0431317885974, 259.0191959828197, 1424.2567879361352, 121.05013593962057, 184.04025156352475, 567.5077053027456, 108.76388670707618, 1272.767005018839, 245.37913952543397, 186.99842784473924, 254.0283374460944, 1328.9724567443227, 240.90280434317282, 2933.697704538955, 324.2056399897238, 2380.0825839458835, 374.7829795819029, 2084.474520670614, 2404.8715521685485, 5911.385305031173, 1136.7041029662823, 694.9324241409136, 2873.3334956504746, 1425.4994039470162, 3829.825471292238, 1338.8961857358622, 3359.78864042013, 908.1755805967388, 1708.1160015627906, 3250.3570455811287, 195.94768879596302, 160.0727308174349, 124.70452593934864, 106.74557929087995, 105.99713719212652, 102.1632641584057, 80.08708928445344, 77.0398605356842, 71.6908780893476, 70.44827976033392, 61.38172915103738, 56.34300995015506, 53.643273418777284, 53.50235734979205, 51.4296444337619, 49.2762263582815, 44.44535894983874, 42.70035195332491, 42.42359034035935, 37.75256157202769, 37.34896349792903, 36.90006227385109, 36.54375016220192, 36.074567661878184, 34.2763335739152, 33.77560699125445, 33.20988182320029, 32.241705241955714, 31.56478475238701, 31.54301145524295, 297.9088429639853, 412.25031505647166, 72.6081360943547, 63.774671718326964, 81.05805974706522, 142.35076304011952, 173.0003382959457, 57.956570241805565, 312.1276643332465, 53.236261726155874, 502.799566174428, 211.24785365192835, 553.3067732113519, 60.89965658050207, 114.37972066932663, 120.19629089472322, 445.669069386351, 462.0227719642283, 363.7606375391962, 227.90932657493124, 340.41115956378553, 242.32600644194034, 578.31729603304, 516.6639804688343, 208.77863547649346, 563.066729724718, 281.7212005616267, 217.5728893124476, 454.1261464137878, 1338.8961857358622, 1266.297056163779, 232.98935161879885, 348.09067581991604, 1413.964029867733, 3250.3570455811287, 1424.2567879361352, 862.7384154137309, 801.0621245579241, 555.6429424179557, 823.8670165317392, 391.0675757914792, 209.62139836894113, 192.39149305453483, 183.45245193076397, 176.10849431326054, 160.04799921533885, 108.30712412880467, 104.54389491048751, 88.11726488421245, 83.7028621100689, 79.15416664283188, 78.31618529389938, 76.24419568521809, 76.23422736799976, 75.79318557066044, 69.75667915459378, 64.39603122543068, 63.744176547447715, 63.5289225949808, 52.85750099887394, 51.35258133712619, 50.351928748377794, 47.95142492276796, 248.02175400695617, 47.599416712550195, 46.19350158095054, 45.86595784352823, 45.80806640464056, 45.622749546472456, 43.91961337545879, 519.8661543362093, 99.28358529294535, 177.53219231654998, 157.15639548677615, 176.39522498836922, 122.6120862534757, 1227.2071299975216, 442.90222138796923, 227.91330481697813, 260.8934946124058, 144.12222225387367, 460.2788077261292, 422.98358279773055, 650.1546678862416, 158.01354522648631, 134.40767509240936, 324.4747116105251, 368.860521297175, 157.77217223514592, 471.08803223629764, 317.80127740745604, 207.44068395690923, 269.92181633855415, 1156.751219462258, 195.64950828497467, 1188.123956287771, 1876.2945929926766, 1414.1173450609904, 578.31729603304, 2084.474520670614, 5911.385305031173, 3250.3570455811287, 1413.964029867733, 598.2216388011404, 538.4992982508579, 527.274798161146, 330.5821388991534, 266.12997553928903, 218.95251211071258, 177.59994623545518, 157.7142660286867, 157.68317637376927, 118.23405167325102, 205.75223680761303, 114.57604238310621, 112.90536421936494, 112.39909660648787, 111.96535498030164, 104.02988184176677, 92.40733846955794, 92.15372797688823, 87.96778877373929, 85.33431773754296, 84.33313393936272, 81.46843190159915, 81.37306630808351, 79.89839813180156, 75.81746531975874, 75.6066114559426, 73.91573618238668, 73.6817077504784, 70.48682012486182, 70.23941550362059, 117.74544287440975, 418.89971342162585, 197.12174993248766, 153.3695981471364, 187.31462330758941, 541.9754019628684, 186.88775267923305, 186.75532723869878, 345.7893935856076, 334.70753689722176, 198.85417245133135, 1708.1160015627906, 316.4440011552199, 3962.4620706983283, 558.245424367638, 350.13047814250183, 1156.751219462258, 557.3572785130018, 251.51220556104968, 573.2941121558334, 555.6429424179557, 2084.474520670614, 1338.8961857358622, 190.73114766770212, 177.8789762517584, 143.030774733267, 81.43927612718032, 76.56774183164951, 65.58470058250374, 64.73281997742598, 160.4356953576713, 60.8262552189271, 59.47748881929384, 56.737481747010094, 55.40514238727388, 52.42220588211027, 48.85269468901412, 47.32564322189553, 84.79187951352837, 44.84101394012824, 44.36391793510647, 44.002493907825574, 43.3887534334447, 39.81666662686551, 34.80633723474572, 34.432476942338354, 33.829274626202206, 33.25978376022533, 32.956868917436005, 183.74455398197742, 31.583668444384312, 30.603656314325963, 30.542039790850726, 345.8375454508583, 54.82312447055941, 145.16007655650256, 147.36368604855613, 290.44923535996895, 287.3211333598283, 298.9774528799412, 78.22982188001068, 361.9248949621967, 426.7520762357762, 96.33461213986308, 307.2096453299267, 267.5873068222289, 163.53995383223076, 289.7124885872016, 222.64833177623734, 1156.751219462258, 259.11641456974127, 210.78508987702884, 174.46303013902502, 862.7384154137309, 563.066729724718, 156.2970799237708, 371.7299346988156, 692.4862462842689, 171.01215356613895, 823.8670165317392, 253.83506784077815, 1765.8339946269323, 549.9661087305338, 1071.213002571795, 3962.4620706983283, 5911.385305031173, 396.81698607852985, 331.4022407936974, 2404.8715521685485, 193.9646950180834, 190.89216192051614, 185.0693279522637, 178.73627964061467, 139.73766860290334, 133.87284418791688, 121.64504271964475, 83.74867338339351, 82.63576675792686, 80.30447544997539, 73.73387415405023, 66.37638137615086, 65.89850372338397, 62.21157312906037, 60.39049702636357, 59.49713728729693, 49.33905986327521, 47.93891303739951, 46.710507417808735, 46.514282706560046, 45.60551929766113, 45.23047893119047, 42.77637359754199, 42.23723079151083, 41.24493029735808, 40.491183324202694, 40.27129800098505, 39.81362526847334, 37.73663730452058, 35.59057457130838, 562.1203501366075, 694.3516285706701, 262.20800400932166, 98.94170121953267, 209.14900257457947, 136.06129120274608, 1582.9490362878373, 708.4605341595854, 256.07178745797984, 219.6624264804322, 428.272197404029, 131.53827376511583, 341.4798215271437, 1414.1173450609904, 406.09262132738763, 184.67031440805596, 328.1831321817689, 911.1824511900144, 353.13090632623334, 368.579650462276, 548.9647398526254, 466.76319080906353, 587.4010636405669, 399.7099257188849, 749.5969018392689, 1021.9186709136446, 1079.6165387175, 1505.722604462492, 451.28828960320084, 169.51237776536112, 138.93739285626862, 84.6877441735548, 72.34322675382323, 70.65004493612791, 50.468394532217374, 46.828981713308885, 43.58414781891135, 40.124321253198794, 38.14870504245253, 37.883734447059275, 37.709389250786224, 35.526968855657366, 35.420850867447925, 34.05039149114954, 33.319439626929, 32.52062332710147, 31.545886721013378, 30.871115508306033, 30.35344176219484, 30.269940527313118, 30.20886337683313, 29.375065895154936, 29.222998559319315, 27.490212388827725, 27.29123893231435, 27.023180489944373, 26.79239393973141, 26.222236771600468, 26.07085136467468, 91.5445221841221, 67.42348206962397, 72.21328875240773, 81.88767717633745, 36.54410394843225, 48.26320845193227, 62.57449831671576, 283.45941864391733, 90.42097945763888, 41.07899377169341, 48.52523697187557, 46.899066116598945, 231.16380533105172, 94.05014984651652, 112.83734414859588, 66.19250236653573, 51.73134895623967, 358.80893866927346, 92.60570344534389, 555.6429424179557, 206.34957818237564, 56.190510915588085, 123.79957514605084, 374.0147594391687, 94.62626738910106, 345.7893935856076, 142.66302011116542, 140.09400220498023, 1272.767005018839, 823.8059683961242, 590.1652208247918, 728.017538492408, 2084.474520670614, 522.2423605342882, 111.91382050211531, 80.4736303001275, 78.22272725830409, 73.6443317423993, 70.69383542205834, 70.01684464251069, 68.66298291489186, 88.17381310453123, 60.23176125125452, 58.68685842824958, 56.4895999785936, 59.840422247372864, 55.04052925893037, 95.88491592414816, 51.48280864833886, 45.92832979834427, 43.0225448843852, 41.20006507774519, 40.316867134852004, 37.515800660084714, 36.507592851765324, 36.32165716623514, 35.843529583473696, 34.197792667705826, 34.19701412416131, 34.12677819280014, 33.992121856399166, 33.50237077990663, 33.43758461700586, 33.12050766859129, 106.80207090074038, 173.55710974147928, 851.5076186259643, 125.31866734714347, 77.0153903095187, 353.8364902222348, 187.83657601892045, 176.4777655975156, 64.08745002474375, 431.4351907997176, 70.69037738831567, 186.83267963225887, 77.61739900413514, 85.4445702934124, 96.04916038305343, 282.9653647322175, 122.8064096850168, 105.61093653105726, 504.22498074179197, 146.96771156344207, 499.31986776181816, 122.45181354520761, 366.5687503563351, 330.0121179408801, 298.2387904573773, 216.93493231931703, 351.5553255399561, 3250.3570455811287, 171.66985815338202, 48.941342058309836, 45.546266656438675, 62.847803635914474, 37.79505525775408, 36.66886390368845, 34.140855152526896, 34.129708345834096, 33.4785896798536, 31.779446754783923, 31.1165126704495, 30.77168918269756, 28.1312133516178, 27.93912908498329, 27.57703246160971, 26.683468901090738, 25.524846799580978, 24.710194943371924, 23.613149323548036, 23.607487954122124, 23.45098489234433, 46.01948173063115, 23.033368291812344, 22.440695490020268, 22.35304638185213, 21.681353668141462, 20.250627181880994, 19.870688293898525, 19.857642686943027, 19.601029525068864, 41.96326420072524, 68.64642308168348, 58.23029218643622, 78.2344933248521, 83.87378066853108, 38.74764780262425, 36.06182080927944, 153.1109608788697, 108.82675026739986, 37.269845306747904, 40.95391530868558, 169.5056840796629, 95.5877530159549, 58.89979604218215, 101.80229443311686, 289.68544613187305, 276.3782051338489, 245.28676427928372, 520.1488184122358, 513.5408172666447, 53.38502936779444, 549.5834564883822, 2013.4560067658513, 3250.3570455811287, 1136.7041029662823, 188.6499661744025, 98.12319238716049, 223.01363135370065, 726.8580780087209, 776.3534789465891, 3829.825471292238, 663.7040178312631, 2404.8715521685485, 801.0621245579241, 2060.266530410567, 105.14379247521767, 81.6747033902455, 73.27607721640226, 73.20899899345484, 66.86447057036068, 66.68980650493312, 65.23978533914648, 59.363492547778996, 54.69600901740403, 49.58240278552979, 47.32738663060449, 40.82236832866338, 40.81979036004439, 49.03606137174987, 39.48216194413047, 35.98747070817746, 34.856837919584464, 35.008025948503324, 34.11375598876064, 33.8597706634958, 33.5319783172292, 32.5822241516781, 32.37912802809692, 31.87004186527751, 31.030985313029138, 30.99226233885383, 30.893599359251834, 30.4727257449249, 30.062033693626848, 29.470732910378402, 79.71988745228118, 66.2905022782118, 70.9403086435986, 50.4341317387228, 91.00438868754794, 111.56953150518328, 78.83301651478595, 142.44361802658713, 453.44104121902586, 147.24956644595133, 56.13327937036044, 67.7316996282893, 66.84613827029156, 72.01440305129155, 567.5077053027456, 164.2530194974824, 1024.83442807242, 264.95430705037813, 125.8481000696099, 162.68482306467044, 206.8207871981434, 420.5173722140629, 110.8187939141505, 2084.474520670614, 924.7850758627311, 215.7142257919323, 216.52639561278852, 62.351684837561066, 60.38063445139231, 56.09670423904734, 47.925020642845375, 292.9432595567955, 37.47829060648731, 33.23951355474333, 30.92306677494319, 30.8977257000783, 30.307629570605506, 29.219068673404784, 28.682831981007407, 26.22383834228908, 25.06489574315556, 23.598279514089743, 23.136134697279537, 22.80035946481878, 22.66329622709165, 21.85584930722186, 21.660761645361053, 21.459879341155062, 20.874410938541235, 20.63196461700333, 20.560647386048363, 18.374507556378518, 18.237715618366195, 18.224520531147693, 18.132047305610914, 17.437735969153785, 17.264539437750866, 37.09061791514706, 53.92419314185471, 77.30076637367696, 30.75289642174622, 252.85026004918356, 327.271623955024, 88.86590101678327, 88.56250718163433, 291.0968660011047, 76.78238723438983, 133.17728137156143, 287.1525574017232, 116.29102168005068, 543.1359052123515, 318.5217426324607, 92.62403521545667, 231.98346958399236, 327.00450398979433, 62.420143315859335, 191.38407213687486, 72.88126003781161, 134.195093982834, 119.92726205803473, 113.14005303045668, 908.1755805967388, 297.8670736428408, 382.4468811474943, 980.55525985663, 186.3642537888372, 484.7897514703244, 299.637259055113, 519.2095220517825, 175.21099497001808, 1393.3687333730297, 1846.7877945035464, 549.4972145849499, 367.73015878072715, 1951.4009136543434, 1876.2945929926766, 698.8905332880838, 74.11466083520378, 47.467239081263095, 40.338412205037386, 37.500470168626215, 34.00824579747189, 32.50797491905396, 32.380572360500786, 28.661341004276043, 28.24784776101567, 28.075207827484817, 26.294678875625085, 26.687425832249783, 106.30075819534596, 25.269403540873245, 25.1107455215334, 24.82020409996191, 24.19372000413809, 23.628686858937513, 23.23063662912509, 22.73425058235418, 22.655936797574373, 22.618159955855575, 22.391326789042605, 21.259048140127756, 20.95131621685678, 20.55818801959967, 20.534214921430873, 20.430423566087068, 19.396235260402634, 19.208685850926027, 51.12041612636582, 62.785629714414, 50.52174275072607, 30.2677488578948, 41.48047599012298, 58.74106535258675, 31.533976544734795, 42.60930122950867, 83.77330797387549, 67.45395023403344, 32.044715393313616, 42.72235703370571, 750.9269715488969, 67.80649885173744, 68.06289071985888, 88.12463064381942, 318.5217426324607, 197.68899338586326, 325.8689455301053, 400.592270970635, 92.39984295949219, 632.9124106685032, 1068.4061462528327, 632.2879198797413, 608.6892751944199, 350.3559932413677, 92.39216035946741, 55.73034930066062, 43.67652585676837, 41.25825614570109, 41.19349205212563, 41.19349205212563, 40.18357803239206, 36.10589342517959, 35.62209587152778, 31.38729478408169, 29.410378158236718, 28.56021409000123, 28.09842535708831, 27.031825673129102, 24.226706131639286, 23.93638794714855, 23.360586821912612, 23.360586821912612, 23.360586821912612, 22.99706206973875, 22.290783200314486, 21.987369790562834, 21.809794094506973, 21.442232827896486, 20.541817649363917, 20.503263427165287, 19.563386133801533, 18.09526268625497, 18.0116934513537, 17.83256886293629, 126.21856141292713, 22.95168959524547, 36.00854232273658, 32.12389301329879, 287.041336857488, 66.83002230906673, 39.65056670012964, 60.413417942139084, 39.228546584969656, 250.0745117573145, 38.06895039332857, 214.72265109516488, 65.94084713003338, 154.46781909463695, 84.45857424911905, 97.90090788596105, 89.26164922825454, 418.89971342162585, 499.31986776181816, 113.0518022347146, 421.6661085790793, 516.6639804688343, 173.34776283592092, 1068.4061462528327, 124.67615717714234, 85.24624030781835, 75.03564566421028, 73.64036711083942, 59.17929411084291, 58.27319098171804, 56.334501472419014, 51.78261328006938, 49.837197525783374, 49.48601237153727, 47.19523405880941, 38.84952814445837, 36.74608155786946, 36.626260992384516, 34.13367598587524, 30.010985239435204, 29.834618886419413, 29.506362103026614, 27.447279993438908, 27.3385685096498, 25.967685927770354, 25.834202642860316, 25.694258669919446, 24.465069119818867, 24.380880519355326, 20.86067920317686, 20.354147911371008, 19.6300375168835, 19.495504326784484, 19.30310034777726, 107.02242004509974, 1074.1657973186593, 69.2561151727664, 44.054765617894894, 40.066791828421565, 39.858527021253984, 36.17850766533751, 34.36408822721289, 32.807692306003155, 31.746116203402128, 31.60229242303166, 31.059297368143646, 30.256637607032605, 29.030949907956025, 27.731209802892693, 27.731209802892693, 27.435498217178424, 27.194345987569616, 25.017547952710306, 24.64031860899351, 24.175287974611635, 24.065836400692984, 22.38554320379716, 21.90223237481658, 21.731417938917627, 20.524585875304517, 20.394483993521554, 20.361809690308185, 20.18629616278962, 19.13703548520795, 18.901614514440997, 18.869106754590902, 43.08012772581637, 112.47316466067842, 176.17846333396622, 52.48580348923048, 28.707630490370686, 35.868124770241785, 46.4048540383025, 42.33972943346664, 98.57866359474814, 53.089437376612004, 299.1418289997304, 259.26107067711973, 64.81572087485317, 121.48143016247721, 127.3575047429608, 215.71881257437775, 103.62537096980608, 90.81303661276624, 236.57373784306037, 632.2879198797413, 753.5505132440701, 78.6867904731864, 49.817383772925986, 37.44473026234421, 34.9057587775275, 33.50929598084033, 33.17393270381495, 25.64676843223496, 23.3578354836114, 23.278855703258703, 21.932619607014253, 20.100492458377815, 19.788913400169847, 18.52049375990419, 18.331016570751327, 18.063782178602075, 17.25141256064787, 16.52922216728142, 16.17460897464486, 16.132409206255787, 15.941697194597523, 14.735176471287868, 14.663046921330938, 14.392299131811551, 14.053546542390222, 13.970831152523253, 13.637770816897886, 13.597719258937802, 13.454988509088786, 13.42293330476289, 13.281083706928426, 12.81681440680469, 57.751332736293044, 77.63651243994406, 109.90109752877989, 215.26279158876733, 28.395030344962695, 71.00270561626122, 50.47049475774837, 39.896584192828094, 77.59630765635211, 102.82143415080333, 214.98762182581584, 180.35229438207602, 231.76566014101604, 40.84828861890006, 55.21550977386262, 33.39547379242049, 70.70045486275765, 51.21746372988045, 118.66804449403065, 451.63687364783044, 147.74664720766881, 102.15060381446852, 453.44104121902586], \"Category\": [\"Default\", \"Default\", \"Default\", \"Default\", \"Default\", \"Default\", \"Default\", \"Default\", \"Default\", \"Default\", \"Default\", \"Default\", \"Default\", \"Default\", \"Default\", \"Default\", \"Default\", \"Default\", \"Default\", \"Default\", \"Default\", \"Default\", \"Default\", \"Default\", \"Default\", \"Default\", \"Default\", \"Default\", \"Default\", \"Default\", \"Topic1\", \"Topic1\", \"Topic1\", \"Topic1\", \"Topic1\", \"Topic1\", \"Topic1\", \"Topic1\", \"Topic1\", \"Topic1\", \"Topic1\", \"Topic1\", \"Topic1\", \"Topic1\", \"Topic1\", \"Topic1\", \"Topic1\", \"Topic1\", \"Topic1\", \"Topic1\", \"Topic1\", \"Topic1\", \"Topic1\", \"Topic1\", \"Topic1\", \"Topic1\", \"Topic1\", \"Topic1\", \"Topic1\", \"Topic1\", \"Topic1\", \"Topic1\", \"Topic1\", \"Topic1\", \"Topic1\", \"Topic1\", \"Topic1\", \"Topic1\", \"Topic1\", \"Topic1\", \"Topic1\", \"Topic1\", \"Topic1\", \"Topic1\", \"Topic1\", \"Topic1\", \"Topic1\", \"Topic1\", \"Topic1\", \"Topic1\", \"Topic1\", \"Topic1\", \"Topic1\", \"Topic1\", \"Topic1\", \"Topic1\", \"Topic1\", \"Topic1\", \"Topic1\", \"Topic1\", \"Topic1\", \"Topic1\", \"Topic1\", \"Topic1\", \"Topic1\", \"Topic1\", \"Topic1\", \"Topic1\", \"Topic1\", \"Topic1\", \"Topic1\", \"Topic1\", \"Topic1\", \"Topic1\", \"Topic1\", \"Topic1\", \"Topic1\", \"Topic1\", \"Topic1\", \"Topic1\", \"Topic1\", \"Topic1\", \"Topic1\", \"Topic1\", \"Topic1\", \"Topic1\", \"Topic1\", \"Topic1\", \"Topic1\", \"Topic2\", \"Topic2\", \"Topic2\", \"Topic2\", \"Topic2\", \"Topic2\", \"Topic2\", \"Topic2\", \"Topic2\", \"Topic2\", \"Topic2\", \"Topic2\", \"Topic2\", \"Topic2\", \"Topic2\", \"Topic2\", \"Topic2\", \"Topic2\", \"Topic2\", \"Topic2\", \"Topic2\", \"Topic2\", \"Topic2\", \"Topic2\", \"Topic2\", \"Topic2\", \"Topic2\", \"Topic2\", \"Topic2\", \"Topic2\", \"Topic2\", \"Topic2\", \"Topic2\", \"Topic2\", \"Topic2\", \"Topic2\", \"Topic2\", \"Topic2\", \"Topic2\", \"Topic2\", \"Topic2\", \"Topic2\", \"Topic2\", \"Topic2\", \"Topic2\", \"Topic2\", \"Topic2\", \"Topic2\", \"Topic2\", \"Topic2\", \"Topic2\", \"Topic2\", \"Topic2\", \"Topic2\", \"Topic2\", \"Topic2\", \"Topic2\", \"Topic2\", \"Topic2\", \"Topic2\", \"Topic2\", \"Topic2\", \"Topic2\", \"Topic2\", \"Topic2\", \"Topic2\", \"Topic2\", \"Topic2\", \"Topic2\", \"Topic2\", \"Topic2\", \"Topic3\", \"Topic3\", \"Topic3\", \"Topic3\", \"Topic3\", \"Topic3\", \"Topic3\", \"Topic3\", \"Topic3\", \"Topic3\", \"Topic3\", \"Topic3\", \"Topic3\", \"Topic3\", \"Topic3\", \"Topic3\", \"Topic3\", \"Topic3\", \"Topic3\", \"Topic3\", \"Topic3\", \"Topic3\", \"Topic3\", \"Topic3\", \"Topic3\", \"Topic3\", \"Topic3\", \"Topic3\", \"Topic3\", \"Topic3\", \"Topic3\", \"Topic3\", \"Topic3\", \"Topic3\", \"Topic3\", \"Topic3\", \"Topic3\", \"Topic3\", \"Topic3\", \"Topic3\", \"Topic3\", \"Topic3\", \"Topic3\", \"Topic3\", \"Topic3\", \"Topic3\", \"Topic3\", \"Topic3\", \"Topic3\", \"Topic3\", \"Topic3\", \"Topic3\", \"Topic3\", \"Topic3\", \"Topic3\", \"Topic3\", \"Topic3\", \"Topic3\", \"Topic3\", \"Topic3\", \"Topic3\", \"Topic3\", \"Topic3\", \"Topic3\", \"Topic3\", \"Topic3\", \"Topic3\", \"Topic3\", \"Topic3\", \"Topic3\", \"Topic3\", \"Topic3\", \"Topic3\", \"Topic3\", \"Topic3\", \"Topic3\", \"Topic4\", \"Topic4\", \"Topic4\", \"Topic4\", \"Topic4\", \"Topic4\", \"Topic4\", \"Topic4\", \"Topic4\", \"Topic4\", \"Topic4\", \"Topic4\", \"Topic4\", \"Topic4\", \"Topic4\", \"Topic4\", \"Topic4\", \"Topic4\", \"Topic4\", \"Topic4\", \"Topic4\", \"Topic4\", \"Topic4\", \"Topic4\", \"Topic4\", \"Topic4\", \"Topic4\", \"Topic4\", \"Topic4\", \"Topic4\", \"Topic4\", \"Topic4\", \"Topic4\", \"Topic4\", \"Topic4\", \"Topic4\", \"Topic4\", \"Topic4\", \"Topic4\", \"Topic4\", \"Topic4\", \"Topic4\", \"Topic4\", \"Topic4\", \"Topic4\", \"Topic4\", \"Topic4\", \"Topic4\", \"Topic4\", \"Topic4\", \"Topic4\", \"Topic4\", \"Topic4\", \"Topic4\", \"Topic4\", \"Topic4\", \"Topic4\", \"Topic4\", \"Topic4\", \"Topic4\", \"Topic4\", \"Topic4\", \"Topic4\", \"Topic4\", \"Topic4\", \"Topic4\", \"Topic4\", \"Topic4\", \"Topic4\", \"Topic4\", \"Topic4\", \"Topic4\", \"Topic4\", \"Topic4\", \"Topic4\", \"Topic4\", \"Topic5\", \"Topic5\", \"Topic5\", \"Topic5\", \"Topic5\", \"Topic5\", \"Topic5\", \"Topic5\", \"Topic5\", \"Topic5\", \"Topic5\", \"Topic5\", \"Topic5\", \"Topic5\", \"Topic5\", \"Topic5\", \"Topic5\", \"Topic5\", \"Topic5\", \"Topic5\", \"Topic5\", \"Topic5\", \"Topic5\", \"Topic5\", \"Topic5\", \"Topic5\", \"Topic5\", \"Topic5\", \"Topic5\", \"Topic5\", \"Topic5\", \"Topic5\", \"Topic5\", \"Topic5\", \"Topic5\", \"Topic5\", \"Topic5\", \"Topic5\", \"Topic5\", \"Topic5\", \"Topic5\", \"Topic5\", \"Topic5\", \"Topic5\", \"Topic5\", \"Topic5\", \"Topic5\", \"Topic5\", \"Topic5\", \"Topic5\", \"Topic5\", \"Topic5\", \"Topic5\", \"Topic5\", \"Topic5\", \"Topic5\", \"Topic5\", \"Topic5\", \"Topic5\", \"Topic5\", \"Topic5\", \"Topic5\", \"Topic5\", \"Topic5\", \"Topic5\", \"Topic5\", \"Topic5\", \"Topic6\", \"Topic6\", \"Topic6\", \"Topic6\", \"Topic6\", \"Topic6\", \"Topic6\", \"Topic6\", \"Topic6\", \"Topic6\", \"Topic6\", \"Topic6\", \"Topic6\", \"Topic6\", \"Topic6\", \"Topic6\", \"Topic6\", \"Topic6\", \"Topic6\", \"Topic6\", \"Topic6\", \"Topic6\", \"Topic6\", \"Topic6\", \"Topic6\", \"Topic6\", \"Topic6\", \"Topic6\", \"Topic6\", \"Topic6\", \"Topic6\", \"Topic6\", \"Topic6\", \"Topic6\", \"Topic6\", \"Topic6\", \"Topic6\", \"Topic6\", \"Topic6\", \"Topic6\", \"Topic6\", \"Topic6\", \"Topic6\", \"Topic6\", \"Topic6\", \"Topic6\", \"Topic6\", \"Topic6\", \"Topic6\", \"Topic6\", \"Topic6\", \"Topic6\", \"Topic6\", \"Topic6\", \"Topic6\", \"Topic6\", \"Topic6\", \"Topic6\", \"Topic6\", \"Topic6\", \"Topic6\", \"Topic6\", \"Topic6\", \"Topic6\", \"Topic6\", \"Topic6\", \"Topic6\", \"Topic6\", \"Topic6\", \"Topic6\", \"Topic7\", \"Topic7\", \"Topic7\", \"Topic7\", \"Topic7\", \"Topic7\", \"Topic7\", \"Topic7\", \"Topic7\", \"Topic7\", \"Topic7\", \"Topic7\", \"Topic7\", \"Topic7\", \"Topic7\", \"Topic7\", \"Topic7\", \"Topic7\", \"Topic7\", \"Topic7\", \"Topic7\", \"Topic7\", \"Topic7\", \"Topic7\", \"Topic7\", \"Topic7\", \"Topic7\", \"Topic7\", \"Topic7\", \"Topic7\", \"Topic7\", \"Topic7\", \"Topic7\", \"Topic7\", \"Topic7\", \"Topic7\", \"Topic7\", \"Topic7\", \"Topic7\", \"Topic7\", \"Topic7\", \"Topic7\", \"Topic7\", \"Topic7\", \"Topic7\", \"Topic7\", \"Topic7\", \"Topic7\", \"Topic7\", \"Topic7\", \"Topic7\", \"Topic7\", \"Topic7\", \"Topic7\", \"Topic7\", \"Topic7\", \"Topic7\", \"Topic7\", \"Topic7\", \"Topic7\", \"Topic7\", \"Topic7\", \"Topic7\", \"Topic8\", \"Topic8\", \"Topic8\", \"Topic8\", \"Topic8\", \"Topic8\", \"Topic8\", \"Topic8\", \"Topic8\", \"Topic8\", \"Topic8\", \"Topic8\", \"Topic8\", \"Topic8\", \"Topic8\", \"Topic8\", \"Topic8\", \"Topic8\", \"Topic8\", \"Topic8\", \"Topic8\", \"Topic8\", \"Topic8\", \"Topic8\", \"Topic8\", \"Topic8\", \"Topic8\", \"Topic8\", \"Topic8\", \"Topic8\", \"Topic8\", \"Topic8\", \"Topic8\", \"Topic8\", \"Topic8\", \"Topic8\", \"Topic8\", \"Topic8\", \"Topic8\", \"Topic8\", \"Topic8\", \"Topic8\", \"Topic8\", \"Topic8\", \"Topic8\", \"Topic8\", \"Topic8\", \"Topic8\", \"Topic8\", \"Topic8\", \"Topic8\", \"Topic8\", \"Topic8\", \"Topic9\", \"Topic9\", \"Topic9\", \"Topic9\", \"Topic9\", \"Topic9\", \"Topic9\", \"Topic9\", \"Topic9\", \"Topic9\", \"Topic9\", \"Topic9\", \"Topic9\", \"Topic9\", \"Topic9\", \"Topic9\", \"Topic9\", \"Topic9\", \"Topic9\", \"Topic9\", \"Topic9\", \"Topic9\", \"Topic9\", \"Topic9\", \"Topic9\", \"Topic9\", \"Topic9\", \"Topic9\", \"Topic9\", \"Topic9\", \"Topic9\", \"Topic9\", \"Topic9\", \"Topic9\", \"Topic9\", \"Topic9\", \"Topic9\", \"Topic9\", \"Topic9\", \"Topic9\", \"Topic9\", \"Topic9\", \"Topic9\", \"Topic9\", \"Topic9\", \"Topic9\", \"Topic9\", \"Topic9\", \"Topic9\", \"Topic9\", \"Topic9\", \"Topic9\", \"Topic9\", \"Topic9\", \"Topic9\", \"Topic9\", \"Topic9\", \"Topic9\", \"Topic9\", \"Topic9\", \"Topic9\", \"Topic9\", \"Topic9\", \"Topic9\", \"Topic9\", \"Topic9\", \"Topic10\", \"Topic10\", \"Topic10\", \"Topic10\", \"Topic10\", \"Topic10\", \"Topic10\", \"Topic10\", \"Topic10\", \"Topic10\", \"Topic10\", \"Topic10\", \"Topic10\", \"Topic10\", \"Topic10\", \"Topic10\", \"Topic10\", \"Topic10\", \"Topic10\", \"Topic10\", \"Topic10\", \"Topic10\", \"Topic10\", \"Topic10\", \"Topic10\", \"Topic10\", \"Topic10\", \"Topic10\", \"Topic10\", \"Topic10\", \"Topic10\", \"Topic10\", \"Topic10\", \"Topic10\", \"Topic10\", \"Topic10\", \"Topic10\", \"Topic10\", \"Topic10\", \"Topic10\", \"Topic10\", \"Topic10\", \"Topic10\", \"Topic10\", \"Topic10\", \"Topic10\", \"Topic10\", \"Topic10\", \"Topic10\", \"Topic10\", \"Topic10\", \"Topic10\", \"Topic10\", \"Topic10\", \"Topic10\", \"Topic10\", \"Topic10\", \"Topic10\", \"Topic10\", \"Topic11\", \"Topic11\", \"Topic11\", \"Topic11\", \"Topic11\", \"Topic11\", \"Topic11\", \"Topic11\", \"Topic11\", \"Topic11\", \"Topic11\", \"Topic11\", \"Topic11\", \"Topic11\", \"Topic11\", \"Topic11\", \"Topic11\", \"Topic11\", \"Topic11\", \"Topic11\", \"Topic11\", \"Topic11\", \"Topic11\", \"Topic11\", \"Topic11\", \"Topic11\", \"Topic11\", \"Topic11\", \"Topic11\", \"Topic11\", \"Topic11\", \"Topic11\", \"Topic11\", \"Topic11\", \"Topic11\", \"Topic11\", \"Topic11\", \"Topic11\", \"Topic11\", \"Topic11\", \"Topic11\", \"Topic11\", \"Topic11\", \"Topic11\", \"Topic11\", \"Topic11\", \"Topic11\", \"Topic11\", \"Topic11\", \"Topic11\", \"Topic11\", \"Topic11\", \"Topic11\", \"Topic11\", \"Topic11\", \"Topic11\", \"Topic11\", \"Topic11\", \"Topic11\", \"Topic11\", \"Topic11\", \"Topic11\", \"Topic11\", \"Topic11\", \"Topic12\", \"Topic12\", \"Topic12\", \"Topic12\", \"Topic12\", \"Topic12\", \"Topic12\", \"Topic12\", \"Topic12\", \"Topic12\", \"Topic12\", \"Topic12\", \"Topic12\", \"Topic12\", \"Topic12\", \"Topic12\", \"Topic12\", \"Topic12\", \"Topic12\", \"Topic12\", \"Topic12\", \"Topic12\", \"Topic12\", \"Topic12\", \"Topic12\", \"Topic12\", \"Topic12\", \"Topic12\", \"Topic12\", \"Topic12\", \"Topic12\", \"Topic12\", \"Topic12\", \"Topic12\", \"Topic12\", \"Topic12\", \"Topic12\", \"Topic12\", \"Topic12\", \"Topic12\", \"Topic12\", \"Topic12\", \"Topic12\", \"Topic12\", \"Topic12\", \"Topic12\", \"Topic12\", \"Topic12\", \"Topic12\", \"Topic12\", \"Topic12\", \"Topic12\", \"Topic12\", \"Topic12\", \"Topic12\", \"Topic12\", \"Topic12\", \"Topic12\", \"Topic13\", \"Topic13\", \"Topic13\", \"Topic13\", \"Topic13\", \"Topic13\", \"Topic13\", \"Topic13\", \"Topic13\", \"Topic13\", \"Topic13\", \"Topic13\", \"Topic13\", \"Topic13\", \"Topic13\", \"Topic13\", \"Topic13\", \"Topic13\", \"Topic13\", \"Topic13\", \"Topic13\", \"Topic13\", \"Topic13\", \"Topic13\", \"Topic13\", \"Topic13\", \"Topic13\", \"Topic13\", \"Topic13\", \"Topic13\", \"Topic13\", \"Topic13\", \"Topic13\", \"Topic13\", \"Topic13\", \"Topic13\", \"Topic13\", \"Topic13\", \"Topic13\", \"Topic13\", \"Topic13\", \"Topic13\", \"Topic13\", \"Topic13\", \"Topic13\", \"Topic13\", \"Topic13\", \"Topic13\", \"Topic13\", \"Topic13\", \"Topic13\", \"Topic13\", \"Topic13\", \"Topic13\", \"Topic13\", \"Topic13\", \"Topic13\", \"Topic13\", \"Topic13\", \"Topic13\", \"Topic13\", \"Topic13\", \"Topic13\", \"Topic13\", \"Topic13\", \"Topic14\", \"Topic14\", \"Topic14\", \"Topic14\", \"Topic14\", \"Topic14\", \"Topic14\", \"Topic14\", \"Topic14\", \"Topic14\", \"Topic14\", \"Topic14\", \"Topic14\", \"Topic14\", \"Topic14\", \"Topic14\", \"Topic14\", \"Topic14\", \"Topic14\", \"Topic14\", \"Topic14\", \"Topic14\", \"Topic14\", \"Topic14\", \"Topic14\", \"Topic14\", \"Topic14\", \"Topic14\", \"Topic14\", \"Topic14\", \"Topic14\", \"Topic14\", \"Topic14\", \"Topic14\", \"Topic14\", \"Topic14\", \"Topic14\", \"Topic14\", \"Topic14\", \"Topic14\", \"Topic14\", \"Topic14\", \"Topic14\", \"Topic14\", \"Topic14\", \"Topic14\", \"Topic14\", \"Topic14\", \"Topic14\", \"Topic14\", \"Topic14\", \"Topic14\", \"Topic14\", \"Topic14\", \"Topic14\", \"Topic14\", \"Topic14\", \"Topic15\", \"Topic15\", \"Topic15\", \"Topic15\", \"Topic15\", \"Topic15\", \"Topic15\", \"Topic15\", \"Topic15\", \"Topic15\", \"Topic15\", \"Topic15\", \"Topic15\", \"Topic15\", \"Topic15\", \"Topic15\", \"Topic15\", \"Topic15\", \"Topic15\", \"Topic15\", \"Topic15\", \"Topic15\", \"Topic15\", \"Topic15\", \"Topic15\", \"Topic15\", \"Topic15\", \"Topic15\", \"Topic15\", \"Topic15\", \"Topic15\", \"Topic15\", \"Topic15\", \"Topic15\", \"Topic15\", \"Topic15\", \"Topic15\", \"Topic15\", \"Topic15\", \"Topic15\", \"Topic15\", \"Topic15\", \"Topic15\", \"Topic15\", \"Topic15\", \"Topic15\", \"Topic15\", \"Topic15\", \"Topic15\", \"Topic15\", \"Topic15\", \"Topic15\", \"Topic15\", \"Topic15\", \"Topic15\", \"Topic15\", \"Topic15\", \"Topic15\", \"Topic15\", \"Topic15\", \"Topic15\", \"Topic15\", \"Topic15\", \"Topic15\", \"Topic15\", \"Topic15\", \"Topic15\", \"Topic15\", \"Topic15\", \"Topic15\", \"Topic16\", \"Topic16\", \"Topic16\", \"Topic16\", \"Topic16\", \"Topic16\", \"Topic16\", \"Topic16\", \"Topic16\", \"Topic16\", \"Topic16\", \"Topic16\", \"Topic16\", \"Topic16\", \"Topic16\", \"Topic16\", \"Topic16\", \"Topic16\", \"Topic16\", \"Topic16\", \"Topic16\", \"Topic16\", \"Topic16\", \"Topic16\", \"Topic16\", \"Topic16\", \"Topic16\", \"Topic16\", \"Topic16\", \"Topic16\", \"Topic16\", \"Topic16\", \"Topic16\", \"Topic16\", \"Topic16\", \"Topic16\", \"Topic16\", \"Topic16\", \"Topic16\", \"Topic16\", \"Topic16\", \"Topic16\", \"Topic16\", \"Topic16\", \"Topic16\", \"Topic16\", \"Topic16\", \"Topic16\", \"Topic16\", \"Topic16\", \"Topic16\", \"Topic16\", \"Topic16\", \"Topic16\", \"Topic16\", \"Topic16\", \"Topic17\", \"Topic17\", \"Topic17\", \"Topic17\", \"Topic17\", \"Topic17\", \"Topic17\", \"Topic17\", \"Topic17\", \"Topic17\", \"Topic17\", \"Topic17\", \"Topic17\", \"Topic17\", \"Topic17\", \"Topic17\", \"Topic17\", \"Topic17\", \"Topic17\", \"Topic17\", \"Topic17\", \"Topic17\", \"Topic17\", \"Topic17\", \"Topic17\", \"Topic17\", \"Topic17\", \"Topic17\", \"Topic17\", \"Topic17\", \"Topic17\", \"Topic17\", \"Topic17\", \"Topic17\", \"Topic17\", \"Topic17\", \"Topic17\", \"Topic17\", \"Topic17\", \"Topic17\", \"Topic17\", \"Topic17\", \"Topic17\", \"Topic17\", \"Topic17\", \"Topic17\", \"Topic17\", \"Topic17\", \"Topic17\", \"Topic17\", \"Topic17\", \"Topic17\", \"Topic17\", \"Topic17\", \"Topic18\", \"Topic18\", \"Topic18\", \"Topic18\", \"Topic18\", \"Topic18\", \"Topic18\", \"Topic18\", \"Topic18\", \"Topic18\", \"Topic18\", \"Topic18\", \"Topic18\", \"Topic18\", \"Topic18\", \"Topic18\", \"Topic18\", \"Topic18\", \"Topic18\", \"Topic18\", \"Topic18\", \"Topic18\", \"Topic18\", \"Topic18\", \"Topic18\", \"Topic18\", \"Topic18\", \"Topic18\", \"Topic18\", \"Topic18\", \"Topic18\", \"Topic18\", \"Topic19\", \"Topic19\", \"Topic19\", \"Topic19\", \"Topic19\", \"Topic19\", \"Topic19\", \"Topic19\", \"Topic19\", \"Topic19\", \"Topic19\", \"Topic19\", \"Topic19\", \"Topic19\", \"Topic19\", \"Topic19\", \"Topic19\", \"Topic19\", \"Topic19\", \"Topic19\", \"Topic19\", \"Topic19\", \"Topic19\", \"Topic19\", \"Topic19\", \"Topic19\", \"Topic19\", \"Topic19\", \"Topic19\", \"Topic19\", \"Topic19\", \"Topic19\", \"Topic19\", \"Topic19\", \"Topic19\", \"Topic19\", \"Topic19\", \"Topic19\", \"Topic19\", \"Topic19\", \"Topic19\", \"Topic19\", \"Topic19\", \"Topic19\", \"Topic19\", \"Topic19\", \"Topic19\", \"Topic19\", \"Topic19\", \"Topic19\", \"Topic19\", \"Topic19\", \"Topic20\", \"Topic20\", \"Topic20\", \"Topic20\", \"Topic20\", \"Topic20\", \"Topic20\", \"Topic20\", \"Topic20\", \"Topic20\", \"Topic20\", \"Topic20\", \"Topic20\", \"Topic20\", \"Topic20\", \"Topic20\", \"Topic20\", \"Topic20\", \"Topic20\", \"Topic20\", \"Topic20\", \"Topic20\", \"Topic20\", \"Topic20\", \"Topic20\", \"Topic20\", \"Topic20\", \"Topic20\", \"Topic20\", \"Topic20\", \"Topic20\", \"Topic20\", \"Topic20\", \"Topic20\", \"Topic20\", \"Topic20\", \"Topic20\", \"Topic20\", \"Topic20\", \"Topic20\", \"Topic20\", \"Topic20\", \"Topic20\", \"Topic20\", \"Topic20\", \"Topic20\", \"Topic20\", \"Topic20\", \"Topic20\", \"Topic20\", \"Topic20\", \"Topic20\", \"Topic20\"], \"logprob\": [30.0, 29.0, 28.0, 27.0, 26.0, 25.0, 24.0, 23.0, 22.0, 21.0, 20.0, 19.0, 18.0, 17.0, 16.0, 15.0, 14.0, 13.0, 12.0, 11.0, 10.0, 9.0, 8.0, 7.0, 6.0, 5.0, 4.0, 3.0, 2.0, 1.0, -6.167, -6.6657, -6.7304, -7.0566, -7.1125, -7.1573, -7.2729, -7.3126, -7.4453, -7.6189, -7.8325, -7.8384, -7.8514, -7.8803, -7.925, -7.9443, -6.2009, -7.982, -7.9941, -7.9998, -8.009, -8.0165, -8.0, -8.0377, -8.0629, -8.0958, -8.1057, -6.1867, -8.138, -8.1967, -5.8663, -6.2235, -7.0232, -7.2938, -6.7867, -6.2797, -7.0385, -7.3345, -7.5605, -7.043, -7.019, -6.1876, -7.1039, -6.9271, -5.219, -6.4503, -5.7154, -6.1036, -6.6154, -6.8242, -6.5909, -4.3166, -5.6111, -5.5366, -6.2891, -6.3315, -5.6285, -5.862, -6.81, -4.7418, -6.157, -4.1867, -5.9539, -5.5207, -5.0764, -6.4551, -6.0946, -5.5299, -5.2001, -4.8824, -6.0747, -5.6334, -5.5385, -4.9985, -5.9002, -5.4271, -5.3129, -5.4232, -5.2471, -5.6373, -5.3956, -5.568, -5.5057, -5.7925, -5.818, -5.4854, -5.7779, -5.7845, -5.8256, -5.1213, -5.824, -5.9655, -6.0471, -6.0665, -6.1628, -6.3579, -6.5808, -6.7479, -6.7726, -6.8566, -6.8994, -6.9354, -6.9425, -6.9588, -7.0028, -7.0386, -7.0669, -7.0972, -7.1554, -7.1573, -7.2002, -7.2005, -7.2069, -7.215, -5.5723, -7.2685, -7.3272, -7.336, -7.345, -6.6103, -7.1729, -6.804, -5.7572, -5.1441, -6.583, -5.7669, -6.6982, -5.5798, -6.0612, -6.9053, -5.546, -5.8177, -5.7286, -4.6025, -5.3529, -5.988, -5.0565, -5.0446, -5.8216, -5.0519, -5.7785, -5.2189, -5.4918, -5.3319, -4.9231, -5.9322, -5.0957, -5.164, -5.0227, -5.6918, -5.6172, -5.5141, -5.375, -5.4179, -5.088, -5.4086, -5.6403, -5.5718, -5.729, -5.749, -5.5439, -5.8353, -6.41, -6.6225, -6.6765, -6.7292, -6.7317, -6.8129, -6.8363, -6.8674, -7.024, -7.0515, -7.2014, -7.2724, -7.2741, -7.2856, -7.3593, -7.3731, -7.3977, -7.4687, -7.4732, -7.5496, -7.5518, -7.6582, -5.7708, -7.6769, -7.6774, -7.7053, -7.7166, -7.7269, -6.9935, -6.4707, -7.1775, -6.999, -7.0277, -6.2581, -5.9229, -6.8111, -6.4219, -6.9, -5.7198, -6.1332, -6.8218, -4.9799, -5.29, -4.4505, -4.8043, -5.3973, -6.1006, -6.15, -5.5232, -5.6958, -4.8874, -5.1912, -5.3608, -5.2176, -5.6273, -5.0131, -5.5201, -5.2399, -4.819, -5.5969, -5.5672, -5.593, -5.2791, -5.6826, -5.6785, -5.5256, -5.5659, -5.4544, -5.3951, -5.5443, -5.5833, -5.5145, -5.6283, -5.6792, -4.9069, -5.4185, -6.1945, -6.3529, -6.5514, -6.6267, -6.8223, -6.9009, -6.9399, -6.9737, -6.9022, -7.0675, -7.0755, -7.0867, -7.1118, -7.2324, -7.2385, -7.3402, -7.3692, -7.3864, -7.5524, -7.5804, -7.5893, -5.9015, -7.5913, -7.6207, -7.6548, -7.6849, -7.7106, -7.7117, -4.6924, -5.4376, -5.6629, -5.022, -6.9343, -5.3147, -6.4311, -5.7319, -5.267, -4.316, -5.5434, -5.8023, -4.9238, -6.2051, -4.3735, -5.7391, -4.6193, -6.3438, -6.7451, -5.7594, -6.0202, -5.6716, -5.675, -6.0126, -5.6466, -5.5843, -4.5486, -5.6247, -4.7102, -4.8617, -4.7314, -4.8765, -5.3068, -4.501, -5.1013, -5.0137, -4.3789, -5.3554, -4.698, -5.0838, -5.2589, -5.1014, -5.0346, -5.4873, -5.3365, -5.4799, -5.1755, -5.3273, -5.3611, -5.6636, -5.7424, -5.7885, -5.9684, -6.3411, -6.4761, -6.5416, -6.5812, -6.585, -6.7072, -6.7092, -6.7292, -6.8476, -6.857, -6.8807, -6.8832, -6.9102, -6.9471, -7.0637, -7.1353, -7.1498, -7.15, -7.1557, -7.1834, -7.1859, -7.193, -5.3561, -4.6306, -6.2071, -4.6089, -6.6699, -6.2143, -5.0952, -6.7028, -5.0749, -5.8365, -4.5011, -6.542, -6.2388, -5.4561, -6.6353, -4.9758, -6.0957, -6.2909, -6.1374, -5.3015, -6.1958, -4.9036, -6.045, -5.1526, -6.0028, -5.2791, -5.2495, -4.9405, -5.592, -5.7809, -5.3426, -5.6194, -5.3764, -5.6695, -5.4571, -5.776, -5.7848, -5.7876, -5.6892, -5.8924, -6.1436, -6.3003, -6.3073, -6.3445, -6.5902, -6.6296, -6.7023, -6.72, -6.8595, -6.9464, -6.9963, -6.999, -7.0391, -7.0826, -7.1877, -7.2286, -7.2352, -7.3544, -7.3655, -7.3778, -7.3877, -7.4009, -7.4533, -7.4684, -7.4858, -7.5161, -7.5379, -7.5386, -5.302, -5.0054, -6.7244, -6.8553, -6.6415, -6.1477, -5.9719, -6.9702, -5.4872, -7.0588, -5.1621, -5.9208, -5.195, -6.9493, -6.4667, -6.4507, -5.5121, -5.5699, -5.734, -6.0488, -5.822, -6.0392, -5.5437, -5.6262, -6.1928, -5.7209, -6.0737, -6.1928, -5.8865, -5.4839, -5.5929, -6.2069, -6.0672, -5.6979, -5.8227, -6.0023, -6.082, -6.0923, -6.1369, -6.1384, -4.9521, -5.5776, -5.6637, -5.7115, -5.7526, -5.8487, -6.2417, -6.2774, -6.4498, -6.5017, -6.5582, -6.569, -6.5961, -6.5962, -6.6021, -6.687, -6.767, -6.7773, -6.7808, -6.9674, -6.9967, -7.0167, -7.0664, -5.4232, -7.0739, -7.1045, -7.1117, -7.113, -7.1171, -7.1559, -4.695, -6.352, -5.7855, -5.9093, -5.8151, -6.1643, -3.9708, -4.9556, -5.6221, -5.5288, -6.0631, -5.0746, -5.1854, -4.8613, -6.031, -6.1604, -5.5218, -5.519, -6.094, -5.3821, -5.6432, -5.9205, -5.7623, -5.0143, -5.9887, -5.2633, -5.2084, -5.5913, -5.7919, -5.6114, -5.5012, -5.6501, -5.7303, -4.4908, -4.5962, -4.6173, -5.0851, -5.3026, -5.4984, -5.7087, -5.828, -5.8282, -6.1179, -5.5641, -6.1496, -6.1644, -6.1689, -6.1728, -6.2469, -6.3664, -6.3692, -6.4161, -6.4468, -6.4588, -6.4937, -6.4949, -6.5133, -6.5663, -6.5692, -6.592, -6.5952, -6.6401, -6.6437, -6.1274, -4.9642, -5.6737, -5.9103, -5.7244, -4.7712, -5.7869, -5.8911, -5.4652, -5.5051, -5.8858, -4.5131, -5.6969, -4.5055, -5.5281, -5.7324, -5.5022, -5.7446, -5.9603, -5.7708, -5.7846, -5.8054, -5.8444, -5.572, -5.6421, -5.8613, -6.429, -6.4914, -6.6481, -6.6613, -5.7537, -6.7244, -6.7472, -6.795, -6.8192, -6.8754, -6.9471, -6.9794, -6.3964, -7.0344, -7.0453, -7.0536, -7.0679, -7.1556, -7.2933, -7.3043, -7.3225, -7.3399, -7.3493, -5.6312, -7.393, -7.4254, -7.4275, -5.0025, -6.8456, -5.8885, -5.9107, -5.2599, -5.2956, -5.2798, -6.5336, -5.1798, -5.0413, -6.3654, -5.4081, -5.5303, -5.9456, -5.5225, -5.7509, -4.4696, -5.6602, -5.8234, -5.9762, -4.8515, -5.2227, -6.0838, -5.5408, -5.1926, -6.0339, -5.1888, -5.8317, -4.919, -5.5986, -5.3597, -4.9501, -5.02, -5.7701, -5.7957, -5.6672, -5.0864, -5.1024, -5.1335, -5.1685, -5.416, -5.4592, -5.5556, -5.9321, -5.9456, -5.9745, -6.0608, -6.1673, -6.1746, -6.2329, -6.2631, -6.2782, -6.4684, -6.4977, -6.5242, -6.5285, -6.5486, -6.557, -6.6139, -6.6268, -6.6511, -6.6699, -6.6755, -6.6872, -6.742, -6.8019, -4.0492, -3.9971, -4.9571, -5.8628, -5.2, -5.5963, -3.532, -4.2307, -5.143, -5.3021, -4.8542, -5.7492, -5.0874, -4.0992, -5.0375, -5.5558, -5.2154, -4.6469, -5.2374, -5.2165, -5.0238, -5.1529, -5.1581, -5.4182, -5.2541, -5.2422, -5.2469, -5.3202, -5.4436, -5.1472, -5.3471, -5.8461, -6.0054, -6.0294, -6.3707, -6.4468, -6.52, -6.6045, -6.6561, -6.6632, -6.6679, -6.729, -6.732, -6.7725, -6.7947, -6.8196, -6.8509, -6.8731, -6.8905, -6.8934, -6.8954, -6.9243, -6.9296, -6.9926, -7.0001, -7.0103, -7.0192, -7.0414, -7.0474, -5.7999, -6.1095, -6.0709, -5.9555, -6.7338, -6.482, -6.2492, -4.8897, -5.9359, -6.6367, -6.5344, -6.5644, -5.4444, -6.0962, -6.0131, -6.3648, -6.521, -5.4561, -6.2141, -5.3312, -6.0421, -6.524, -6.2914, -5.9897, -6.3819, -6.0676, -6.3045, -6.3479, -6.0136, -6.191, -6.2292, -6.2388, -6.1746, -6.3484, -5.3967, -5.7295, -5.7581, -5.8191, -5.8605, -5.8702, -5.89, -5.6418, -6.023, -6.0491, -6.0879, -6.0303, -6.1143, -5.5597, -6.1822, -6.2984, -6.365, -6.4092, -6.4313, -6.5049, -6.5328, -6.538, -6.5516, -6.5998, -6.5998, -6.6019, -6.606, -6.6208, -6.6228, -6.6326, -5.4681, -4.9929, -3.4468, -5.3496, -5.8238, -4.3771, -5.0184, -5.0917, -6.0249, -4.3287, -5.9605, -5.1474, -5.8918, -5.8367, -5.7485, -4.9591, -5.5802, -5.688, -4.7264, -5.5348, -5.005, -5.7495, -5.3882, -5.4488, -5.6222, -5.6947, -5.7347, -5.8262, -4.9469, -6.2144, -6.2876, -5.9687, -6.4781, -6.509, -6.5822, -6.5825, -6.6023, -6.6558, -6.6774, -6.6889, -6.7813, -6.7884, -6.8018, -6.8358, -6.8817, -6.9153, -6.9624, -6.9626, -6.9695, -6.2959, -6.9882, -7.0152, -7.0193, -7.051, -7.1222, -7.142, -7.1427, -7.1563, -6.4112, -5.9389, -6.1062, -5.8352, -5.858, -6.5595, -6.632, -5.5378, -5.8147, -6.625, -6.5601, -5.5773, -6.0393, -6.3823, -6.1232, -5.7033, -5.7285, -5.8037, -5.5153, -5.5417, -6.4869, -5.6766, -5.4823, -5.4861, -5.7738, -6.1932, -6.3463, -6.1783, -5.9383, -5.9329, -5.6478, -6.0098, -5.8373, -6.1563, -6.1992, -5.2556, -5.5105, -5.6203, -5.6212, -5.713, -5.7156, -5.7379, -5.8336, -5.9167, -6.0165, -6.0639, -6.2147, -6.2147, -6.0318, -6.2488, -6.3436, -6.3763, -6.3724, -6.3984, -6.4061, -6.416, -6.4455, -6.452, -6.4682, -6.4957, -6.4969, -6.5002, -6.5143, -6.5283, -6.5488, -5.5986, -5.8107, -5.7613, -6.067, -5.5508, -5.3745, -5.7039, -5.2576, -4.3343, -5.2595, -6.0231, -5.8886, -5.9185, -5.8777, -4.532, -5.601, -4.783, -5.4007, -5.7645, -5.6878, -5.6385, -5.5035, -5.8463, -5.3291, -5.4689, -5.7554, -5.8329, -5.6298, -5.6624, -5.7371, -5.8972, -4.0883, -6.1481, -6.2711, -6.3453, -6.3462, -6.366, -6.4037, -6.4228, -6.5153, -6.562, -6.6245, -6.6451, -6.6602, -6.6665, -6.7042, -6.7136, -6.7233, -6.7521, -6.7643, -6.7679, -6.8855, -6.8933, -6.8941, -6.8994, -6.9404, -6.9509, -6.2034, -5.8472, -5.5128, -6.4009, -4.4457, -4.2557, -5.4535, -5.4942, -4.4966, -5.6592, -5.2307, -4.6097, -5.404, -4.2714, -4.7229, -5.6324, -5.0124, -4.82, -5.9439, -5.3311, -5.8976, -5.5623, -5.651, -5.6974, -4.7468, -5.2622, -5.1584, -4.7536, -5.5025, -5.1752, -5.3875, -5.2401, -5.5511, -5.224, -5.1892, -5.4405, -5.5206, -5.4698, -5.5206, -5.5332, -5.3983, -5.8504, -6.0164, -6.091, -6.1911, -6.2374, -6.2415, -6.367, -6.382, -6.3883, -6.456, -6.4415, -5.0594, -6.4971, -6.5036, -6.5157, -6.5421, -6.5666, -6.5843, -6.6067, -6.6103, -6.612, -6.6225, -6.6765, -6.6917, -6.7115, -6.7127, -6.718, -6.7722, -6.7824, -5.9609, -5.7918, -5.975, -6.4112, -6.1718, -5.9239, -6.393, -6.21, -5.8392, -6.0187, -6.435, -6.3057, -5.1731, -6.2209, -6.2493, -6.2349, -5.9674, -6.0726, -5.9829, -5.9989, -6.287, -6.1983, -6.1867, -6.2268, -6.2616, -6.2851, -5.0019, -5.5135, -5.7615, -5.8197, -5.8213, -5.8213, -5.8466, -5.9561, -5.9699, -6.0998, -6.1667, -6.1969, -6.2138, -6.2537, -6.367, -6.3795, -6.405, -6.405, -6.405, -6.4211, -6.4536, -6.4677, -6.4762, -6.4939, -6.5386, -6.5406, -6.5896, -6.6713, -6.6762, -6.6866, -4.8579, -6.4509, -6.0413, -6.1475, -4.1896, -5.5149, -5.9789, -5.6387, -6.044, -4.6939, -6.1229, -5.1138, -5.8223, -5.376, -5.7504, -5.6929, -5.8184, -5.69, -5.6619, -5.9569, -5.7399, -5.754, -5.9379, -5.862, -4.5629, -4.9463, -5.0752, -5.0942, -5.3157, -5.3314, -5.3657, -5.4513, -5.4903, -5.4975, -5.5457, -5.7443, -5.8013, -5.8046, -5.8769, -6.0091, -6.0152, -6.0266, -6.1012, -6.1053, -6.1584, -6.1638, -6.1694, -6.2201, -6.2237, -6.3858, -6.4115, -6.4493, -6.4565, -6.4669, -5.2089, -6.0323, -5.0878, -5.5474, -5.6442, -5.6496, -5.7487, -5.8014, -5.849, -5.8828, -5.8874, -5.9052, -5.9322, -5.9748, -6.022, -6.022, -6.033, -6.0422, -6.1284, -6.1442, -6.1639, -6.1686, -6.2438, -6.2665, -6.2746, -6.3342, -6.3408, -6.3425, -6.3515, -6.4073, -6.4203, -6.4221, -5.6117, -4.7404, -4.3862, -5.4888, -6.0578, -5.9072, -5.7154, -5.7859, -5.1837, -5.636, -4.465, -4.6057, -5.5825, -5.282, -5.3671, -5.4206, -5.6878, -5.8118, -5.7068, -5.7523, -5.7566, -5.9054, -5.2784, -5.5697, -5.6417, -5.6835, -5.6939, -5.959, -6.0559, -6.0594, -6.1213, -6.2123, -6.2286, -6.298, -6.3088, -6.3242, -6.3725, -6.4176, -6.4405, -6.4432, -6.4558, -6.5392, -6.5444, -6.5642, -6.5895, -6.5958, -6.6215, -6.6247, -6.636, -6.6385, -6.6499, -6.6879, -5.2697, -5.0564, -4.7504, -4.4009, -6.0703, -5.3885, -5.727, -5.9535, -5.6665, -5.5201, -5.1456, -5.2441, -5.1245, -6.0723, -5.9858, -6.1767, -5.9955, -6.0761, -5.9016, -5.7563, -5.9766, -6.0541, -6.0969], \"loglift\": [30.0, 29.0, 28.0, 27.0, 26.0, 25.0, 24.0, 23.0, 22.0, 21.0, 20.0, 19.0, 18.0, 17.0, 16.0, 15.0, 14.0, 13.0, 12.0, 11.0, 10.0, 9.0, 8.0, 7.0, 6.0, 5.0, 4.0, 3.0, 2.0, 1.0, 1.5751, 1.5738, 1.5736, 1.5722, 1.5719, 1.5717, 1.571, 1.5708, 1.5699, 1.5685, 1.5664, 1.5664, 1.5662, 1.5659, 1.5654, 1.5652, 1.5648, 1.5647, 1.5645, 1.5645, 1.5644, 1.5643, 1.564, 1.564, 1.5636, 1.5632, 1.5631, 1.563, 1.5626, 1.5617, 1.5581, 1.556, 1.5599, 1.5609, 1.5541, 1.5489, 1.555, 1.5552, 1.5538, 1.5259, 1.5173, 1.4656, 1.5145, 1.5028, 1.3775, 1.4633, 1.4048, 1.4283, 1.4701, 1.4851, 1.4566, 1.1682, 1.3139, 1.2803, 1.3928, 1.3992, 1.2631, 1.2888, 1.4803, 1.0436, 1.3418, 0.8981, 1.282, 1.1568, 0.99, 1.3974, 1.2875, 1.1088, 0.9388, 0.7675, 1.2368, 0.9858, 0.8914, 0.5204, 1.1185, 0.766, 0.6597, 0.7387, 0.5592, 0.8785, 0.5887, 0.7579, 0.4889, 0.9006, 0.9237, 0.1976, 0.8261, 0.5418, 0.7761, 2.263, 2.2622, 2.2618, 2.2615, 2.2614, 2.261, 2.2602, 2.2589, 2.2578, 2.2576, 2.257, 2.2566, 2.2563, 2.2562, 2.2561, 2.2557, 2.2554, 2.2551, 2.2546, 2.2542, 2.2542, 2.2537, 2.2537, 2.2536, 2.2535, 2.2535, 2.2529, 2.2521, 2.252, 2.2519, 2.2475, 2.2489, 2.2378, 2.205, 2.1751, 2.2294, 2.1876, 2.2311, 2.1575, 2.1746, 2.2335, 2.1149, 2.1353, 2.1254, 1.9686, 2.0555, 2.1263, 1.9892, 1.9452, 2.0605, 1.8418, 2.0009, 1.7465, 1.8248, 1.7684, 1.5923, 1.9772, 1.5936, 1.6043, 1.3798, 1.7592, 1.6028, 1.4561, 1.1402, 1.2077, 0.5949, 0.8238, 1.5044, 0.9442, 1.5478, 1.4009, 2.427, 2.4261, 2.4235, 2.422, 2.4216, 2.4212, 2.4212, 2.4205, 2.4202, 2.4199, 2.4183, 2.418, 2.4162, 2.4152, 2.4151, 2.415, 2.4139, 2.4137, 2.4133, 2.4121, 2.412, 2.4106, 2.4106, 2.4085, 2.4082, 2.4081, 2.4081, 2.4075, 2.4072, 2.407, 2.3941, 2.3456, 2.3801, 2.3501, 2.3293, 2.2266, 2.1705, 2.2655, 2.149, 2.2566, 1.8888, 2.0061, 2.2286, 1.5273, 1.5527, 1.0684, 1.1903, 1.4951, 1.8304, 1.8563, 1.4945, 1.5614, 0.9189, 1.1019, 1.1549, 0.9443, 1.2694, 0.6368, 1.0572, 0.7443, 0.2659, 1.1324, 0.9884, 1.0087, 0.5063, 1.1178, 1.0906, 0.8003, 0.864, 0.612, 0.2879, 0.704, 0.8103, 0.4581, 0.4989, 1.0625, 2.5329, 2.5318, 2.5289, 2.5279, 2.5264, 2.5259, 2.5241, 2.5233, 2.5226, 2.5225, 2.5224, 2.5213, 2.5212, 2.5211, 2.5207, 2.519, 2.5189, 2.5172, 2.5167, 2.5164, 2.5132, 2.5126, 2.5125, 2.5124, 2.5124, 2.5118, 2.511, 2.5103, 2.5097, 2.5096, 2.5021, 2.5005, 2.5013, 2.4912, 2.5082, 2.4833, 2.4854, 2.4614, 2.4248, 2.3793, 2.4312, 2.4424, 2.3894, 2.4564, 2.3103, 2.4074, 2.262, 2.4464, 2.4811, 2.3322, 2.3569, 2.2708, 2.2644, 2.3184, 2.2198, 2.1975, 1.8869, 2.1916, 1.8198, 1.5908, 1.5011, 1.5222, 1.8273, 1.1488, 1.6361, 1.5023, 0.706, 1.8267, 0.8209, 1.3098, 1.5095, 0.8712, 0.6483, 1.7979, 0.9117, 1.4138, 2.5507, 2.5504, 2.5503, 2.5494, 2.5491, 2.549, 2.5483, 2.5462, 2.5453, 2.5448, 2.5445, 2.5445, 2.5434, 2.5434, 2.5432, 2.542, 2.5419, 2.5417, 2.5416, 2.5413, 2.5409, 2.5394, 2.5385, 2.5383, 2.5383, 2.5382, 2.5378, 2.5377, 2.5376, 2.5374, 2.529, 2.5336, 2.4699, 2.5165, 2.4666, 2.3653, 2.4981, 2.311, 2.3761, 2.0069, 2.4313, 2.3156, 1.9721, 2.445, 1.6448, 2.171, 2.2474, 2.0946, 1.2759, 2.0893, 0.8819, 1.9431, 0.842, 1.8403, 0.8481, 0.7347, 0.1443, 1.1416, 1.4448, 0.4637, 0.8878, 0.1425, 0.9004, 0.1927, 1.182, 0.5415, -0.1046, 2.8024, 2.8014, 2.7999, 2.7988, 2.7987, 2.7984, 2.7961, 2.7955, 2.7949, 2.7946, 2.7928, 2.7916, 2.7908, 2.7908, 2.7901, 2.7894, 2.7875, 2.7867, 2.7865, 2.784, 2.7837, 2.7835, 2.7833, 2.7829, 2.7817, 2.7813, 2.7809, 2.7801, 2.7795, 2.7795, 2.7707, 2.7424, 2.76, 2.7588, 2.7328, 2.6635, 2.6443, 2.7395, 2.5389, 2.7359, 2.3872, 2.4956, 2.2586, 2.7109, 2.5633, 2.5297, 2.1578, 2.064, 2.139, 2.2917, 2.1173, 2.2399, 1.8656, 1.8959, 2.2354, 1.7152, 2.0549, 2.1941, 1.7646, 1.086, 1.0327, 2.1116, 1.8498, 0.8174, -0.1397, 0.5058, 0.9273, 0.9913, 1.3124, 0.917, 2.8484, 2.8466, 2.8462, 2.846, 2.8458, 2.8453, 2.8428, 2.8425, 2.841, 2.8405, 2.8399, 2.8398, 2.8395, 2.8395, 2.8394, 2.8375, 2.8374, 2.8373, 2.8372, 2.8345, 2.834, 2.8337, 2.8328, 2.8327, 2.8327, 2.8322, 2.832, 2.832, 2.8319, 2.8312, 2.8209, 2.8195, 2.8048, 2.8029, 2.7817, 2.7961, 2.6862, 2.7206, 2.7184, 2.6766, 2.7357, 2.563, 2.5368, 2.4309, 2.6758, 2.7082, 2.4655, 2.3401, 2.6143, 2.2323, 2.3649, 2.5142, 2.409, 1.7018, 2.5044, 1.4261, 1.024, 0.9239, 1.6175, 0.5158, -0.4164, 0.0329, 0.785, 2.8847, 2.8845, 2.8845, 2.8835, 2.8829, 2.8822, 2.8813, 2.8807, 2.8807, 2.8789, 2.8787, 2.8786, 2.8785, 2.8785, 2.8785, 2.8779, 2.8768, 2.8768, 2.8764, 2.8761, 2.8759, 2.8756, 2.8756, 2.8754, 2.8748, 2.8748, 2.8745, 2.8745, 2.8739, 2.8739, 2.8736, 2.7676, 2.812, 2.8263, 2.8123, 2.703, 2.7521, 2.6485, 2.4584, 2.4511, 2.5911, 1.8132, 2.3154, 0.9793, 1.9165, 2.1787, 1.2139, 1.7016, 2.2816, 1.6472, 1.6648, 0.3218, 0.7254, 2.9466, 2.9463, 2.9451, 2.9406, 2.9399, 2.9381, 2.9379, 2.9379, 2.937, 2.9367, 2.936, 2.9356, 2.9348, 2.9336, 2.933, 2.9329, 2.932, 2.9318, 2.9316, 2.9313, 2.9295, 2.9264, 2.9261, 2.9257, 2.9252, 2.925, 2.9247, 2.9239, 2.923, 2.9229, 2.921, 2.9197, 2.9032, 2.8659, 2.8382, 2.8132, 2.7893, 2.8762, 2.6982, 2.672, 2.8363, 2.6338, 2.6498, 2.7268, 2.5781, 2.613, 2.2465, 2.552, 2.5952, 2.6316, 2.1578, 2.2134, 2.634, 2.3105, 2.0366, 2.5938, 1.8667, 2.4011, 1.3741, 1.861, 1.4332, 0.5348, 0.0648, 2.0159, 2.1704, 0.317, 3.4154, 3.4154, 3.4152, 3.415, 3.4137, 3.4134, 3.4128, 3.4096, 3.4094, 3.4091, 3.4082, 3.4069, 3.4068, 3.406, 3.4056, 3.4053, 3.4023, 3.4018, 3.4013, 3.4013, 3.4009, 3.4007, 3.3996, 3.3994, 3.3989, 3.3985, 3.3983, 3.3981, 3.3969, 3.3955, 3.3886, 3.2294, 3.2433, 3.3121, 3.2264, 3.2601, 2.8705, 2.9757, 3.0811, 3.0752, 2.8555, 3.141, 2.8488, 2.416, 2.7254, 2.9951, 2.7605, 2.3079, 2.6652, 2.6433, 2.4376, 2.4708, 2.2357, 2.3605, 1.8958, 1.5978, 1.5383, 1.1322, 2.2138, 3.4894, 3.4883, 3.4844, 3.4826, 3.4823, 3.4775, 3.4761, 3.4747, 3.473, 3.4719, 3.4717, 3.4716, 3.4702, 3.4702, 3.4692, 3.4686, 3.468, 3.4671, 3.4665, 3.466, 3.466, 3.4659, 3.4651, 3.4649, 3.463, 3.4628, 3.4625, 3.4622, 3.4615, 3.4613, 3.4527, 3.4489, 3.4189, 3.4087, 3.4371, 3.4108, 3.3839, 3.2327, 3.3291, 3.4173, 3.353, 3.3571, 2.882, 3.1294, 3.0304, 3.2121, 3.3025, 2.4306, 3.027, 2.1182, 2.3978, 3.2167, 2.6594, 1.8555, 2.8377, 1.856, 2.5045, 2.4793, 0.6069, 0.8646, 1.1599, 0.9404, -0.0474, 1.163, 3.6551, 3.6521, 3.6518, 3.6511, 3.6506, 3.6505, 3.6503, 3.6483, 3.6483, 3.6481, 3.6475, 3.6475, 3.6471, 3.6466, 3.6461, 3.644, 3.6428, 3.6419, 3.6414, 3.6398, 3.6391, 3.639, 3.6387, 3.6375, 3.6375, 3.6375, 3.6374, 3.637, 3.637, 3.6367, 3.6304, 3.6201, 3.5757, 3.589, 3.6017, 3.5235, 3.5155, 3.5046, 3.5843, 3.3736, 3.5506, 3.3919, 3.5258, 3.4849, 3.4561, 3.165, 3.3786, 3.4217, 2.8201, 3.2444, 2.5512, 3.2122, 2.4771, 2.5216, 2.4493, 2.6952, 2.1724, -0.1433, 3.677, 3.6645, 3.6631, 3.66, 3.6592, 3.6585, 3.6568, 3.6568, 3.6563, 3.6549, 3.6543, 3.654, 3.6513, 3.6511, 3.6507, 3.6496, 3.6481, 3.647, 3.6453, 3.6453, 3.6451, 3.6445, 3.6444, 3.6434, 3.6432, 3.642, 3.6391, 3.6382, 3.6382, 3.6376, 3.6215, 3.6016, 3.5989, 3.5746, 3.4821, 3.5529, 3.5523, 3.2005, 3.265, 3.5263, 3.4969, 3.0593, 3.1701, 3.3113, 3.0232, 2.3974, 2.4192, 2.4633, 2.0, 1.9864, 3.305, 1.7837, 0.6796, 0.1969, 0.9598, 2.3364, 2.8369, 2.1839, 1.2425, 1.182, -0.1289, 1.2618, 0.1469, 0.9272, -0.0603, 3.8585, 3.8562, 3.855, 3.855, 3.8538, 3.8538, 3.8535, 3.8522, 3.851, 3.8493, 3.8485, 3.8456, 3.8456, 3.8451, 3.8448, 3.8427, 3.8419, 3.8415, 3.8414, 3.8412, 3.8409, 3.8402, 3.84, 3.8396, 3.8388, 3.8388, 3.8387, 3.8383, 3.8379, 3.8373, 3.7923, 3.7648, 3.7464, 3.7818, 3.7078, 3.6804, 3.6983, 3.5529, 3.3183, 3.5179, 3.7186, 3.6653, 3.6486, 3.6149, 2.8962, 3.0671, 2.0542, 2.7892, 3.1699, 2.9899, 2.7991, 2.2245, 3.2152, 0.7981, 1.471, 2.6401, 2.5589, 4.0068, 4.0064, 4.0053, 4.0026, 4.0012, 3.9976, 3.9946, 3.9926, 3.9926, 3.992, 3.991, 3.9904, 3.9875, 3.986, 3.9838, 3.983, 3.9825, 3.9822, 3.9808, 3.9804, 3.98, 3.9789, 3.9784, 3.9782, 3.973, 3.9727, 3.9726, 3.9724, 3.9704, 3.9699, 3.9527, 3.9347, 3.909, 3.9426, 3.791, 3.723, 3.8288, 3.7915, 3.5993, 3.7693, 3.6471, 3.4997, 3.6093, 3.2007, 3.2829, 3.6085, 3.3104, 3.1595, 3.6917, 3.1841, 3.5831, 3.3079, 3.3316, 3.3435, 2.2112, 2.8106, 2.6645, 2.1278, 3.0393, 2.4105, 2.6794, 2.2771, 3.0524, 1.306, 1.0591, 2.0199, 2.3415, 0.7233, 0.7118, 1.6868, 4.0656, 4.059, 4.0558, 4.0541, 4.0517, 4.0505, 4.0504, 4.0469, 4.0465, 4.0463, 4.0442, 4.0438, 4.0438, 4.0428, 4.0426, 4.0422, 4.0412, 4.0404, 4.0397, 4.0389, 4.0388, 4.0387, 4.0383, 4.0362, 4.0356, 4.0348, 4.0347, 4.0345, 4.0322, 4.0317, 3.8744, 3.8379, 3.8721, 3.9482, 3.8724, 3.7724, 3.9254, 3.8074, 3.5021, 3.5394, 3.8673, 3.7091, 1.9751, 3.3319, 3.2997, 3.0559, 2.0384, 2.4102, 2.0001, 1.7776, 2.9563, 1.1208, 0.6088, 1.0934, 1.0966, 1.6254, 4.2416, 4.2354, 4.2311, 4.2299, 4.2299, 4.2299, 4.2294, 4.2269, 4.2266, 4.2233, 4.2214, 4.2205, 4.22, 4.2188, 4.215, 4.2145, 4.2135, 4.2135, 4.2135, 4.213, 4.2117, 4.2113, 4.2109, 4.2102, 4.2084, 4.2083, 4.2062, 4.2025, 4.2022, 4.2018, 4.0736, 4.1852, 4.1444, 4.1524, 3.9202, 4.0524, 4.1104, 4.0295, 4.0561, 3.5538, 4.0071, 3.2863, 3.7584, 3.3535, 3.5829, 3.4926, 3.4595, 2.0418, 1.8944, 3.0847, 1.9854, 1.7681, 2.6763, 0.9336, 4.3809, 4.3777, 4.3763, 4.3761, 4.3732, 4.373, 4.3724, 4.3711, 4.3704, 4.3703, 4.3694, 4.3655, 4.3642, 4.3641, 4.3623, 4.3588, 4.3586, 4.3583, 4.356, 4.3559, 4.3542, 4.354, 4.3538, 4.3521, 4.352, 4.3458, 4.3447, 4.3431, 4.3428, 4.3423, 3.8876, 0.7579, 4.4439, 4.4367, 4.4347, 4.4346, 4.4323, 4.4311, 4.4298, 4.4289, 4.4288, 4.4283, 4.4276, 4.4264, 4.4249, 4.4249, 4.4246, 4.4243, 4.4215, 4.4209, 4.4202, 4.4201, 4.4173, 4.4164, 4.4161, 4.4137, 4.4134, 4.4133, 4.4129, 4.4105, 4.4099, 4.4099, 4.3947, 4.3064, 4.2118, 4.3202, 4.3545, 4.2824, 4.2167, 4.2378, 3.995, 4.1614, 3.6035, 3.6059, 4.0154, 3.6877, 3.5554, 2.9749, 3.4409, 3.4489, 2.5964, 1.5678, 1.3881, 3.4986, 4.5827, 4.5769, 4.5752, 4.5741, 4.5738, 4.566, 4.5626, 4.5625, 4.5601, 4.5564, 4.5557, 4.5526, 4.5521, 4.5514, 4.549, 4.5468, 4.5456, 4.5454, 4.5447, 4.5401, 4.5398, 4.5386, 4.5371, 4.5367, 4.5351, 4.5349, 4.5342, 4.534, 4.5332, 4.5308, 4.4436, 4.3611, 4.3195, 3.9967, 4.353, 4.1182, 4.1211, 4.1297, 3.7514, 3.6163, 3.2533, 3.3305, 3.1992, 3.9873, 3.7724, 4.0843, 3.5155, 3.7573, 3.0916, 1.9003, 2.7974, 3.0889, 1.5557]}, \"token.table\": {\"Topic\": [16, 1, 6, 19, 9, 6, 14, 20, 4, 4, 5, 6, 7, 8, 4, 13, 1, 2, 3, 4, 6, 8, 11, 17, 7, 9, 3, 6, 7, 9, 11, 3, 7, 9, 11, 14, 1, 3, 5, 9, 6, 8, 16, 2, 7, 10, 1, 17, 1, 2, 3, 4, 5, 6, 7, 8, 9, 11, 12, 13, 15, 4, 19, 9, 1, 5, 6, 7, 8, 9, 11, 16, 20, 1, 2, 6, 8, 9, 11, 12, 13, 15, 4, 15, 2, 13, 16, 1, 20, 11, 2, 2, 7, 2, 1, 2, 3, 4, 5, 6, 8, 9, 10, 8, 12, 1, 2, 3, 5, 6, 9, 10, 12, 14, 2, 4, 10, 2, 6, 10, 13, 1, 4, 6, 4, 5, 6, 7, 8, 9, 11, 12, 14, 17, 8, 8, 2, 7, 8, 4, 13, 17, 8, 10, 1, 1, 2, 5, 10, 4, 13, 17, 8, 11, 8, 8, 3, 5, 8, 9, 2, 6, 8, 9, 11, 1, 2, 3, 4, 5, 7, 8, 9, 10, 11, 13, 1, 2, 5, 8, 9, 15, 12, 15, 1, 1, 1, 6, 17, 11, 9, 9, 13, 2, 3, 4, 5, 6, 7, 9, 13, 6, 7, 3, 5, 6, 9, 12, 15, 8, 8, 8, 8, 8, 18, 1, 2, 3, 4, 5, 7, 8, 9, 10, 11, 13, 20, 5, 13, 15, 19, 6, 17, 8, 7, 2, 4, 8, 16, 4, 7, 12, 12, 5, 1, 2, 4, 5, 6, 7, 9, 13, 15, 10, 9, 11, 4, 18, 19, 1, 1, 12, 1, 12, 1, 3, 4, 5, 7, 9, 12, 9, 1, 1, 2, 3, 4, 5, 6, 9, 10, 12, 13, 15, 20, 1, 2, 3, 4, 5, 6, 7, 9, 13, 18, 1, 12, 3, 3, 1, 2, 3, 5, 6, 7, 9, 14, 17, 20, 9, 2, 16, 12, 13, 2, 4, 5, 6, 7, 8, 20, 1, 2, 3, 6, 7, 8, 11, 12, 16, 17, 3, 1, 2, 3, 4, 7, 11, 12, 13, 14, 15, 16, 17, 2, 9, 20, 3, 6, 8, 12, 19, 20, 3, 3, 4, 15, 5, 12, 15, 15, 5, 12, 14, 1, 2, 4, 5, 7, 10, 13, 17, 9, 11, 17, 20, 15, 20, 18, 18, 4, 13, 3, 4, 14, 19, 4, 12, 5, 14, 1, 3, 4, 5, 8, 11, 12, 20, 6, 12, 4, 14, 15, 5, 11, 7, 8, 11, 17, 20, 1, 3, 5, 7, 8, 9, 13, 3, 9, 14, 17, 1, 2, 3, 4, 5, 6, 7, 8, 9, 10, 11, 12, 13, 15, 18, 19, 16, 1, 12, 2, 3, 5, 6, 7, 8, 12, 19, 4, 13, 11, 1, 3, 5, 20, 20, 2, 4, 15, 10, 12, 1, 2, 3, 4, 5, 9, 10, 15, 16, 19, 14, 5, 6, 9, 14, 1, 6, 8, 11, 12, 6, 19, 4, 7, 14, 1, 12, 1, 12, 14, 1, 1, 12, 20, 15, 1, 12, 18, 18, 16, 14, 13, 4, 9, 15, 19, 15, 8, 9, 7, 8, 9, 1, 8, 9, 16, 1, 9, 1, 7, 10, 2, 2, 6, 6, 4, 7, 19, 4, 5, 1, 2, 4, 9, 10, 19, 6, 16, 13, 14, 16, 5, 13, 14, 1, 2, 3, 4, 5, 6, 13, 2, 4, 7, 9, 15, 1, 6, 7, 8, 17, 2, 17, 16, 2, 2, 7, 13, 15, 3, 11, 2, 3, 4, 6, 7, 9, 1, 8, 3, 6, 8, 9, 15, 13, 15, 16, 5, 6, 7, 9, 4, 1, 6, 8, 16, 8, 9, 9, 13, 13, 17, 2, 1, 2, 3, 4, 6, 7, 8, 9, 10, 14, 15, 16, 4, 15, 4, 17, 1, 2, 9, 13, 14, 15, 19, 13, 19, 2, 6, 7, 9, 19, 1, 2, 3, 4, 5, 6, 7, 8, 9, 10, 11, 13, 1, 5, 8, 9, 10, 1, 7, 9, 11, 9, 16, 1, 2, 3, 6, 7, 8, 9, 11, 14, 13, 16, 12, 8, 9, 8, 9, 1, 8, 9, 7, 9, 2, 7, 20, 1, 11, 1, 2, 3, 4, 5, 6, 7, 9, 10, 16, 19, 20, 10, 10, 3, 11, 17, 17, 2, 4, 6, 7, 9, 10, 2, 1, 2, 4, 5, 7, 9, 10, 11, 12, 14, 16, 17, 11, 16, 15, 11, 1, 6, 8, 9, 11, 12, 15, 14, 16, 18, 5, 7, 8, 9, 11, 20, 5, 1, 2, 10, 12, 7, 2, 5, 6, 7, 8, 9, 15, 16, 19, 6, 7, 8, 9, 17, 2, 4, 6, 7, 9, 11, 13, 16, 7, 7, 5, 6, 4, 1, 8, 9, 11, 12, 1, 19, 20, 13, 2, 10, 12, 12, 6, 6, 2, 4, 15, 2, 4, 15, 10, 2, 7, 3, 7, 8, 16, 5, 6, 7, 9, 11, 12, 14, 6, 8, 12, 13, 20, 1, 12, 19, 1, 2, 4, 5, 9, 13, 14, 15, 4, 16, 3, 4, 9, 15, 3, 4, 9, 14, 3, 4, 9, 4, 15, 1, 3, 8, 9, 6, 9, 19, 2, 4, 15, 16, 1, 7, 12, 12, 20, 2, 10, 13, 16, 1, 6, 10, 16, 14, 6, 12, 16, 19, 16, 10, 2, 4, 10, 14, 15, 17, 13, 13, 2, 7, 5, 11, 7, 9, 3, 1, 2, 3, 4, 5, 7, 9, 10, 13, 14, 2, 5, 7, 10, 18, 1, 2, 4, 5, 10, 13, 14, 17, 20, 1, 2, 4, 5, 10, 12, 14, 1, 10, 13, 7, 5, 4, 1, 2, 3, 4, 5, 6, 7, 8, 9, 10, 11, 13, 1, 6, 9, 11, 6, 1, 2, 3, 5, 6, 7, 12, 13, 15, 19, 20, 13, 3, 16, 1, 2, 4, 10, 14, 1, 8, 4, 13, 1, 3, 5, 7, 18, 2, 4, 2, 16, 17, 15, 1, 2, 3, 5, 6, 7, 8, 9, 12, 13, 1, 12, 17, 1, 5, 1, 3, 8, 12, 7, 9, 20, 11, 18, 2, 4, 9, 10, 10, 2, 4, 10, 12, 14, 10, 1, 2, 3, 4, 5, 7, 8, 9, 10, 12, 13, 3, 8, 9, 11, 9, 9, 11, 17, 20, 1, 2, 3, 4, 5, 6, 7, 8, 9, 10, 11, 13, 14, 16, 20, 1, 5, 11, 14, 15, 14, 6, 7, 8, 13, 14, 4, 2, 4, 15, 5, 20, 1, 2, 4, 5, 6, 7, 8, 9, 10, 11, 12, 13, 15, 16, 2, 13, 1, 5, 6, 8, 19, 19, 3, 9, 2, 4, 10, 2, 4, 16, 13, 15, 10, 16, 2, 5, 17, 14, 2, 6, 11, 15, 19, 3, 5, 8, 13, 5, 14, 15, 5, 14, 15, 3, 2, 4, 3, 15, 6, 6, 8, 17, 11, 1, 2, 5, 8, 17, 19, 14, 18, 18, 19, 1, 5, 6, 7, 11, 14, 20, 2, 5, 6, 14, 20, 17, 1, 1, 3, 4, 5, 7, 8, 9, 15, 6, 1, 2, 3, 4, 5, 7, 9, 11, 12, 13, 15, 19, 20, 12, 7, 8, 9, 1, 12, 2, 4, 1, 2, 3, 4, 5, 7, 9, 11, 12, 13, 15, 17, 1, 17, 11, 17, 3, 13, 14, 19, 1, 3, 7, 8, 16, 19, 1, 19, 19, 8, 9, 9, 9, 10, 11, 1, 3, 4, 5, 8, 11, 15, 3, 5, 14, 5, 5, 6, 1, 11, 12, 1, 4, 10, 3, 1, 2, 3, 4, 5, 6, 7, 8, 9, 10, 11, 11, 6, 5, 8, 12, 13, 16, 1, 2, 3, 4, 5, 6, 7, 9, 11, 13, 14, 15, 16, 20, 17, 5, 5, 7, 8, 13, 16, 19, 1, 12, 11, 9, 9, 1, 3, 17, 4, 6, 15, 16, 2, 3, 4, 6, 7, 8, 11, 16, 19, 20, 14, 19, 20, 10, 1, 14, 7, 9, 6, 2, 7, 10, 12, 16, 2, 7, 12, 2, 6, 15, 1, 16, 1, 2, 3, 4, 6, 7, 8, 9, 10, 11, 15, 16, 1, 2, 4, 6, 9, 15, 5, 6, 11, 13, 6, 20, 6, 12, 19, 6, 16, 2, 3, 4, 6, 7, 10, 17, 1, 2, 4, 6, 7, 8, 9, 10, 11, 16, 19, 12, 7, 2, 3, 4, 10, 15, 15, 13, 19, 2, 3, 4, 16, 17, 12, 2, 1, 2, 3, 4, 5, 6, 9, 11, 13, 15, 16, 19, 2, 4, 6, 9, 13, 17, 19, 11, 10, 1, 8, 6, 16, 17, 16, 17, 8, 8, 1, 2, 3, 4, 6, 7, 10, 15, 14, 5, 20, 1, 12, 5, 1, 8, 12, 16, 20, 1, 8, 5, 1, 2, 4, 5, 6, 9, 11, 12, 14, 15, 17, 11, 15, 2, 18, 1, 4, 15, 15, 8, 8, 20, 11, 13, 16, 6, 9, 14, 17, 4, 4, 2, 3, 4, 7, 10, 20, 8, 9, 11, 5, 11, 14, 17, 13, 20, 1, 2, 3, 4, 5, 8, 9, 10, 11, 5, 17, 11, 10, 3, 1, 2, 3, 4, 5, 6, 7, 8, 9, 10, 11, 12, 13, 14, 17, 1, 2, 3, 4, 5, 8, 9, 10, 11, 12, 20, 7, 13, 7, 7, 1, 9, 11, 5, 5, 14, 8, 1, 3, 5, 8, 10, 12, 14, 15, 1, 2, 7, 9, 13, 9, 5, 14, 15, 9, 9, 2, 6, 10, 1, 3, 6, 7, 8, 9, 11, 13, 1, 3, 4, 6, 7, 11, 15, 1, 2, 3, 4, 5, 6, 7, 8, 9, 11, 13, 15, 14, 20, 1, 2, 3, 4, 5, 8, 9, 10, 12, 13, 20, 1, 2, 3, 4, 5, 6, 7, 8, 10, 11, 12, 13, 14, 15, 1, 3, 4, 5, 6, 7, 8, 9, 11, 12, 13, 3, 8, 10, 1, 2, 3, 4, 5, 6, 7, 8, 9, 10, 11, 12, 13, 16, 1, 2, 3, 4, 5, 8, 9, 10, 11, 13, 14, 19, 1, 2, 3, 4, 5, 7, 8, 13, 15, 1, 11, 12, 9, 5, 7, 14, 1, 12, 7, 15, 20, 14, 15, 1, 2, 3, 4, 5, 9, 12, 13, 15, 16, 20, 5, 12, 1, 2, 3, 4, 5, 6, 7, 8, 9, 10, 13, 15, 11, 8, 15, 4, 15, 9, 1, 2, 3, 4, 5, 6, 7, 8, 9, 11, 12, 13, 16, 14, 7, 12, 13, 16, 1, 3, 4, 15, 16, 17, 2, 4, 13, 16, 17, 1, 11, 1, 12, 17, 18, 1, 3, 4, 5, 9, 12, 13, 16, 1, 2, 4, 6, 13, 6, 8, 20, 6, 4, 2, 4, 5, 10, 1, 11, 1, 2, 4, 10, 12, 12, 3, 13, 10, 19, 5, 4, 15, 1, 2, 3, 4, 5, 7, 8, 9, 13, 3, 8, 15, 16, 7, 8, 9, 11, 9, 1, 6, 9, 17, 1, 7, 12, 7, 10, 2, 4, 10, 16, 19, 1, 2, 3, 4, 7, 12, 15, 16, 2, 4, 4, 7, 2, 7, 14, 2, 14, 1, 7, 1, 1, 12, 12, 4, 2, 10, 3, 3, 3, 2, 10, 14, 1, 2, 3, 4, 5, 6, 7, 9, 12, 13, 16, 11, 14, 1, 8, 1, 2, 3, 4, 5, 6, 7, 8, 9, 10, 12, 15, 16, 19, 17, 5, 6, 16, 1, 2, 3, 4, 5, 7, 8, 9, 10, 11, 12, 13, 17, 20, 2, 7, 13, 19, 2, 5, 6, 7, 8, 9, 11, 3, 7, 12, 13, 17, 1, 8, 8, 6, 19, 1, 2, 3, 4, 5, 6, 7, 8, 9, 10, 12, 15, 14, 9, 1, 8, 19, 1, 3, 4, 5, 6, 8, 9, 11, 15, 1, 2, 4, 5, 6, 7, 8, 9, 11, 13, 17, 6, 1, 2, 3, 4, 5, 7, 8, 9, 10, 11, 13, 14, 20, 15, 7, 18, 18, 12, 20, 10, 14, 15, 17, 1, 18, 18, 18, 14, 1, 7, 16, 17, 10, 1, 2, 3, 4, 5, 6, 7, 8, 9, 10, 13, 10, 6, 7, 8, 1, 2, 4, 7, 11, 15, 2, 15, 10, 2, 17, 1, 2, 3, 5, 7, 8, 9, 10, 11, 13, 15, 2, 7, 7, 1, 2, 3, 4, 5, 6, 7, 8, 9, 10, 11, 12, 15, 16, 1, 2, 3, 4, 10, 12, 14, 15, 16, 1, 12, 5, 20, 14, 8, 11, 3, 3, 19, 2, 4, 10, 15, 13, 20, 19, 7, 12, 2, 4, 6, 8, 10, 14, 3, 5, 7, 8, 9, 15, 1, 3, 12, 20, 8, 8, 8, 6, 7, 10, 14, 19, 12, 9, 11, 1, 2, 3, 4, 5, 6, 7, 8, 9, 10, 18, 16, 13, 1, 12, 16, 20, 20, 6, 6, 1, 2, 5, 11, 12, 14, 16, 17, 20, 5, 9, 20, 1, 5, 9, 20, 19, 1, 2, 3, 4, 5, 6, 8, 9, 11, 13, 6, 8, 1, 2, 3, 5, 9, 13, 1, 3, 5, 6, 7, 8, 9, 10, 11, 14, 16, 20, 2, 6, 7, 13, 16, 5, 6, 14, 14, 1, 2, 3, 5, 7, 1, 2, 4, 5, 11, 13, 15, 4, 5, 12, 13, 19, 5, 13, 14, 2, 4, 10, 11, 16, 10, 11, 16, 7, 6, 13, 17, 3, 19, 2, 1, 5, 7, 14, 20, 5, 6, 8, 11, 15, 20, 5, 14, 15, 5, 5, 10, 11, 13, 5, 1, 2, 4, 5, 6, 9, 10, 13, 15, 3, 10, 14, 18, 18, 1, 2, 3, 4, 5, 6, 7, 8, 9, 10, 11, 12, 13, 1, 2, 5, 6, 10, 12, 16, 20, 8, 9, 12, 1, 6, 8, 9, 15, 2, 4, 17, 13, 19, 1, 3, 4, 5, 7, 8, 9, 11, 12, 14, 15, 16, 19, 20, 19, 5, 6, 7, 8, 9, 6, 6, 3, 4, 7, 8, 9, 11, 13, 14, 15, 2, 4, 10, 2, 7, 9, 1, 3, 4, 5, 6, 7, 9, 10, 13, 1, 2, 3, 4, 5, 6, 9, 10, 11, 13, 2, 13, 10, 2, 4, 5, 6, 7, 10, 13, 19, 1, 1, 7, 6, 1, 9, 10, 6, 1, 2, 5, 6, 7, 8, 9, 11, 5, 20, 14, 20, 1, 2, 3, 4, 5, 6, 13, 5, 1, 3, 4, 5, 6, 7, 9, 10, 11, 1, 2, 3, 4, 5, 13, 1, 3, 5, 7, 13, 13, 18, 1, 6, 13, 16, 19, 1, 2, 3, 4, 5, 9, 10, 11, 12, 2, 1, 2, 3, 4, 5, 6, 7, 8, 9, 13, 16, 1, 3, 4, 5, 8, 9, 13, 3, 1, 3, 4, 5, 9, 10, 13, 19, 1, 20, 14, 20, 19, 9, 9, 6, 2, 16, 1, 8, 1, 1, 8, 1, 5, 10, 16, 2, 4, 5, 6, 7, 8, 9, 10, 11, 3, 6, 7, 8, 9, 11, 5, 1, 2, 5, 7, 9, 10, 2, 16, 2, 6, 7, 12, 16, 9, 19, 11, 20, 1, 2, 3, 5, 7, 8, 10, 14, 16, 16, 1, 12, 9, 13, 3, 3, 3, 1, 3, 4, 5, 7, 8, 9, 10, 12, 13, 8, 9, 10, 2, 11, 1, 17, 9, 18, 2, 3, 5, 6, 8, 11, 16, 7, 20, 20, 19, 20, 1, 5, 9, 10, 13, 2, 3, 4, 5, 13, 5, 7, 8, 13, 1, 3, 6, 7, 9, 13, 16, 1, 3, 4, 5, 6, 8, 9, 11, 12, 15, 9, 15, 12, 16, 20, 15, 7, 7, 5, 11, 14, 1, 3, 5, 6, 8, 9, 13, 1, 2, 6, 7, 1, 2, 6, 7, 12, 5, 5, 20, 14, 1, 11, 2, 4, 10, 3, 1, 12, 4, 16, 5, 1, 2, 3, 4, 5, 6, 7, 8, 9, 10, 11, 12, 14, 20, 1, 7, 11, 12, 16, 17, 2, 3, 7, 8, 9, 10, 11, 13, 19, 1, 2, 7, 9, 2, 7, 8, 9, 13, 1, 2, 3, 4, 5, 8, 9, 13, 15, 2, 3, 4, 5, 7, 9, 14, 15, 3, 4, 9, 13, 15, 9, 11, 13, 14, 5, 1, 2, 4, 5, 7, 8, 9, 10, 11, 14, 15, 17, 1, 4, 5, 6, 9, 16, 8, 2, 2, 11, 8, 13, 1, 9, 10, 11, 12, 12, 11, 19, 1, 2, 10, 13, 19, 2, 4, 14, 15, 17, 16, 1, 11, 3, 4, 3, 5, 8, 9, 11, 20, 7, 1, 3, 4, 5, 6, 7, 8, 20, 14, 4, 12, 2, 3, 4, 5, 6, 9, 10, 13, 14, 15, 12, 11, 1, 15, 11, 14, 4, 1, 2, 3, 4, 5, 6, 7, 8, 9, 10, 11, 13, 11, 6, 11, 9, 3, 20, 2, 4, 6, 13, 15, 7, 16, 8, 11, 17, 1, 2, 3, 4, 5, 8, 9, 10, 13, 2, 3, 4, 5, 6, 7, 8, 9, 12, 13, 1, 3, 4, 9, 13, 15, 1, 2, 4, 6, 7, 8, 10, 13, 16, 3, 5, 6, 7, 8, 11, 16, 17, 7, 8, 1, 2, 4, 7, 10, 13, 7, 17, 2, 3, 15, 1, 2, 3, 4, 6, 7, 9, 10, 11, 14, 16, 20, 5, 16, 1, 11, 12, 1, 5, 8, 16, 1, 2, 3, 5, 6, 7, 8, 9, 16, 1, 5, 6, 7, 8, 9, 12, 7, 8, 9, 10, 13, 14, 15, 17, 19, 5, 10, 2, 3, 5, 4, 15, 14, 17, 1, 2, 3, 4, 5, 6, 7, 8, 9, 11, 13, 15, 2, 10, 10, 6, 7, 13, 16, 1, 6, 7, 1, 6, 7, 9, 1, 2, 3, 4, 5, 13, 14, 1, 2, 3, 4, 5, 6, 7, 8, 9, 10, 12, 13, 19, 20, 18, 6, 11, 8, 1, 5, 11, 20, 2, 1, 2, 3, 4, 5, 7, 8, 9, 10, 11, 12, 13, 6, 11, 20, 9, 12, 11, 4, 14, 4, 13, 14, 2, 13, 6, 20, 4, 1, 2, 3, 4, 6, 7, 9, 13, 15, 1, 2, 3, 4, 5, 6, 7, 8, 9, 11, 16, 3, 7, 7, 8, 11, 2, 4, 9, 15, 18, 18, 12, 5, 7, 14, 5, 3, 8, 11, 4, 2, 4, 6, 7, 13, 7, 7, 10, 16, 1, 2, 3, 4, 6, 7, 10, 13, 16, 1, 1, 2, 3, 4, 10, 12, 14, 15, 4, 19, 1, 2, 6, 9, 1, 3, 4, 5, 7, 9, 13, 14, 1, 2, 3, 4, 5, 8, 9, 11, 12, 13, 1, 3, 4, 5, 9, 13, 1, 2, 3, 4, 5, 7, 8, 9, 11, 12, 14, 20, 17, 13, 19, 2, 1, 2, 3, 4, 5, 6, 7, 8, 9, 10, 11, 12, 13, 16, 3, 3, 7, 2, 5, 8, 9, 10, 11, 14, 16, 9, 11, 14, 1, 3, 4, 5, 8, 11, 1, 3, 4, 5, 8, 11, 20, 2, 15, 5, 8, 14, 3, 17, 13, 5, 19, 6, 8, 20, 6, 8, 9, 12, 13, 16, 8, 11, 1, 2, 3, 4, 5, 9, 10, 12, 13, 16, 13, 1, 5, 8, 8, 17, 8, 17, 1, 3, 4, 5, 7, 8, 9, 10, 1, 2, 3, 4, 6, 9, 10, 12, 13, 15, 6, 4, 2, 5, 17, 14, 11, 10, 20, 5, 6, 7, 8, 9, 2, 4, 5, 6, 7, 8, 9, 13, 15, 17, 2, 4, 10, 9, 11, 2, 7, 20, 4, 15, 4, 13, 1, 2, 3, 4, 5, 6, 7, 9, 10, 11, 13, 15, 19, 2, 4, 9, 10, 13, 15, 2, 4, 6, 13, 1, 2, 3, 4, 6, 7, 9, 10, 11, 13, 2, 16, 3, 1, 6, 13, 7, 1, 1, 2, 4, 14, 2, 4, 11, 14, 8, 9, 5, 9, 2, 10, 10, 3, 16, 17, 14, 14, 1, 2, 3, 4, 5, 8, 9, 10, 13, 15, 19, 15, 19, 2, 5, 6, 7, 8, 9, 14, 1, 3, 8, 17, 13, 16, 9, 14, 8, 9, 11, 16, 9, 11, 1, 2, 3, 4, 5, 6, 7, 8, 9, 10, 11, 13, 1, 3, 4, 5, 8, 11, 14, 20, 3, 1, 2, 3, 4, 5, 6, 9, 10, 13, 10, 2, 3, 8, 10, 2, 4, 8, 10, 5, 13, 5, 14, 5, 2, 3, 4, 19, 7, 9, 4, 16, 1, 2, 3, 4, 5, 6, 7, 8, 9, 10, 11, 16, 18, 14, 1, 3, 6, 8, 11, 12, 15, 1, 2, 5, 6, 7, 9, 10, 1, 2, 3, 4, 5, 6, 7, 8, 9, 10, 12, 13, 2, 1, 2, 4, 5, 6, 7, 8, 11, 13, 16, 17, 1, 2, 3, 4, 5, 6, 7, 8, 9, 10, 11, 12, 13, 13, 1, 2, 3, 4, 6, 8, 9, 10, 1, 3, 4, 5, 9, 10, 13, 18, 11, 14, 18, 15, 15, 10, 17, 3, 20, 11, 3, 5, 6, 7, 8, 9, 10, 13, 15, 1, 3, 5, 6, 7, 8, 9, 11, 13, 15, 16, 17, 17, 2, 13, 4, 5, 6, 8, 9, 10, 14, 15, 20, 18], \"Freq\": [0.9507627044335103, 0.9832570869198501, 0.007337739454625747, 0.9894049792677296, 0.9812445378409337, 0.9392094481989924, 0.05635256689193955, 0.9274602844115812, 0.9957762596514524, 0.9883709639150121, 0.12019426662381212, 0.14793140507546107, 0.681100844201602, 0.04931046835848702, 0.04766073464717348, 0.9293843256198828, 0.033476361234316056, 0.02434644453404804, 0.015216527833780026, 0.9008184477597775, 0.003043305566756005, 0.01825983340053603, 0.9581494501039389, 0.9845105387047736, 0.9575728085241033, 0.039429468586286605, 0.006338253355031365, 0.03802952013018819, 0.7922816693789206, 0.01267650671006273, 0.1457798271657214, 0.08454312127840975, 0.31703670479403656, 0.03170367047940365, 0.5178266178302597, 0.03170367047940365, 0.8937247885338603, 0.046341285331385346, 0.050754741077231574, 0.006620183618769335, 0.9864261606437922, 0.1911265373077098, 0.7804333606731483, 0.32231555485266417, 0.6446311097053283, 0.02963821194047487, 0.991649552944028, 0.9695029246690012, 0.25166465976778574, 0.18828700706342894, 0.1175255501605063, 0.1516756445788733, 0.07014613988637548, 0.052609604914781616, 0.05968575060507388, 0.03199648486045198, 0.012613998839216645, 0.0033842435910093438, 0.02215141259569752, 0.03076585082735767, 0.007691462706839417, 0.046425117695309714, 0.9517149127538491, 0.9950585714496448, 0.08182322380532105, 0.29456360569915574, 0.12546227650149228, 0.10364275015340665, 0.04727564042085216, 0.33638436453298654, 0.010909763174042806, 0.0018182938623404676, 0.9305101363029563, 0.21765028507264567, 0.0650707037846054, 0.5228094476487262, 0.09648414699096663, 0.02243817371882945, 0.04936398218142479, 0.02692580846259534, 0.9597879644408319, 0.9701495721087035, 0.06503452463702719, 0.9104833449183807, 0.22131025240977392, 0.03404773113996522, 0.7320262195092522, 0.9781520692341859, 0.9450636354483832, 0.9719790586336919, 0.9858454680844623, 0.988603714451488, 0.01048916407906088, 0.9840809194431449, 0.28861811018257627, 0.005223857197874684, 0.10643609040669669, 0.5230387019372027, 0.04179085758299747, 0.0006529821497343355, 0.0006529821497343355, 0.0313431431872481, 0.0019589464492030064, 0.9954711387455795, 0.964996530989073, 0.33714134386897104, 0.11545936433868871, 0.004618374573547549, 0.027710247441285293, 0.06927561860321323, 0.046183745735475484, 0.11084098976514117, 0.013855123720642647, 0.2724840998393054, 0.00765136432491937, 0.951319631064975, 0.04080727639956997, 0.5904281700674561, 0.035025399919255865, 0.34775218491261184, 0.025018142799468478, 0.01839212177329992, 0.9674256052755758, 0.011035273063979952, 0.015483951470239114, 0.20516235698066826, 0.402582738226217, 0.1606459965037308, 0.054193830145836897, 0.0038709878675597786, 0.05032284227827712, 0.0019354939337798893, 0.02322592720535867, 0.08322623915253524, 0.9956496863108337, 0.9901001344658523, 0.9127951776644964, 0.051369425582850445, 0.031611954204831046, 0.10323207283124664, 0.8774726190655964, 0.9845643080517834, 0.9889983732997026, 0.990046987731623, 0.993522359784457, 0.9729401674560987, 0.005259136040303236, 0.010518272080606472, 0.010518272080606472, 0.06869276882886281, 0.927352379189648, 0.9438312974798233, 0.9914837533005707, 0.004860214476963582, 0.9979578826276017, 0.9975822888452248, 0.023720842887497307, 0.0047441685774994614, 0.2656734403399698, 0.7021369494699202, 0.115662647237785, 0.010057621498937824, 0.744263990921399, 0.1206914579872539, 0.005028810749468912, 0.19720261483508356, 0.04218762406919698, 0.41598959547301206, 0.10595961394123893, 0.12852508728057685, 0.01569772058388725, 0.04709316175166174, 0.01962215072985906, 0.011773290437915435, 0.008829967828436577, 0.007848860291943625, 0.26815014533294884, 0.04527210245880954, 0.013929877679633705, 0.024377285939358985, 0.05223704129862639, 0.5955022708043409, 0.9913329182932941, 0.9872381957995565, 0.9951818314222992, 0.9906632044618143, 0.9963542200396652, 0.9827850471406815, 0.9803848077526366, 0.952686686906491, 0.9794893270569646, 0.07283700702147904, 0.9177462884706358, 0.7432678734163582, 0.02766691279316424, 0.06131586078485048, 0.011964070397043997, 0.06505463278392673, 0.06954115918281822, 0.012711824796859245, 0.008973052797782998, 0.9564925754446556, 0.03136041230966084, 0.12990676682676278, 0.6337875593669335, 0.05511196168408118, 0.12990676682676278, 0.007873137383440169, 0.03936568691720085, 0.9956674111374451, 0.9895626373638838, 0.9876110794577341, 0.994250142163471, 0.9930934588338719, 0.9627349956995787, 0.18309372790849726, 0.007716593896526704, 0.4054719338356759, 0.10312175479903869, 0.1894073047329282, 0.026657324369819525, 0.05682219141987846, 0.0056120682883830575, 0.008418102432574586, 0.0056120682883830575, 0.0014030170720957644, 0.0056120682883830575, 0.0863706702195695, 0.19433400799403136, 0.6585763604242174, 0.04318533510978475, 0.04356977711162292, 0.9149653193440813, 0.9887557428833611, 0.9741629982550897, 0.08355883478044025, 0.15518069316367475, 0.19099162235529202, 0.5610378906686703, 0.048857384686917034, 0.18728664129984865, 0.7491465651993946, 0.9862511088392282, 0.9941772473166741, 0.2753146435364475, 0.4458536737432348, 0.06576341687712714, 0.025636586240236, 0.08136829545814035, 0.0345536597151007, 0.04570000155868157, 0.01894878113408748, 0.00780243929050661, 0.9795641501373749, 0.29771350758817616, 0.691120642615409, 0.9851355863200547, 0.9324926916246741, 0.9412325989263757, 0.9911271403353977, 0.9259692009229572, 0.06716875032601761, 0.9842004134160466, 0.01118409560700053, 0.8191941289309933, 0.029147356647357438, 0.04372103497103616, 0.06673210600842361, 0.0030681428049849934, 0.007670357012462483, 0.030681428049849933, 0.9768336085090623, 0.982088529535909, 0.24224390602469587, 0.07707760646240323, 0.11781862702110209, 0.07817871512615185, 0.2543561013259307, 0.0022022173274972353, 0.0022022173274972353, 0.04514545521369332, 0.009909977973737558, 0.0011011086637486176, 0.16406519089854402, 0.004404434654994471, 0.35189456865351443, 0.03342998402208387, 0.1909028034945316, 0.10908731628258948, 0.24368698879255876, 0.0008797364216337861, 0.0008797364216337861, 0.0017594728432675723, 0.06598023162253396, 0.9781513426625723, 0.5672071216686851, 0.4303634454619044, 0.9974692133186532, 0.9886656075688781, 0.051112375481394176, 0.03497162532937496, 0.02959137527870189, 0.3093643779137016, 0.002690125025336535, 0.008070375076009606, 0.5272645049659609, 0.008070375076009606, 0.013450625126682677, 0.016140750152019212, 0.9709660247205775, 0.9917531449331212, 0.9742415834119498, 0.9850049185113811, 0.9789640403398812, 0.0499448645944748, 0.7638626349743205, 0.04406899817159541, 0.08520006313175113, 0.017627599268638165, 0.02056553248007786, 0.01468966605719847, 0.201959677017979, 0.08533507479632917, 0.2730722393482533, 0.10809109474201695, 0.034134029918531664, 0.036978532411742635, 0.011378009972843888, 0.2247156969636668, 0.022756019945687777, 0.9845643080517834, 0.9658514274790636, 0.4912194319581155, 0.1297870739956225, 0.00985724612624981, 0.06571497417499873, 0.021357366606874588, 0.041071858859374206, 0.0673578485293737, 0.006571497417499873, 0.024643115315624523, 0.060786351111873825, 0.050929104985624016, 0.03285748708749937, 0.9885602539238294, 0.9815199287121414, 0.9835923986564263, 0.19300292788170104, 0.17370263509353093, 0.009650146394085051, 0.2219533670639562, 0.366705562975232, 0.019300292788170102, 0.987705339668936, 0.11490183760564855, 0.3712213214951723, 0.5038003648863052, 0.9940346736608127, 0.9649745619740848, 0.9321342845635908, 0.9575144555130914, 0.9926319642024165, 0.06271960686087151, 0.9282501815408984, 0.05603912685781601, 0.002334963619075667, 0.06537898133411868, 0.03735941790521067, 0.1564425624780697, 0.5697311230544627, 0.09573350838210234, 0.014009781714454002, 0.062159149717281, 0.9116675291867881, 0.9609079390346971, 0.93627009170305, 0.9436348588225247, 0.0539219919327157, 0.9763111159673193, 0.9861979509199552, 0.3788102410635735, 0.6204650500179221, 0.10567529696210254, 0.6636408649220039, 0.07185920193422973, 0.15639943950391175, 0.9905233029473577, 0.9854771427118366, 0.16133436931357698, 0.8335609081201477, 0.1883890352703999, 0.20812502944158465, 0.1022683334325028, 0.1022683334325028, 0.3068050002975084, 0.026912719324342842, 0.043060350918948546, 0.023324356747763796, 0.9905927912909653, 0.9843686444955256, 0.9680245089362961, 0.029291807907294264, 0.001394847995585441, 0.9010343687324674, 0.09194228252372118, 0.06462057717534257, 0.4119561794928089, 0.4361888959335623, 0.032310288587671286, 0.048465432881506926, 0.07485175378493422, 0.13394524361514545, 0.08273088576229572, 0.03939565988680748, 0.05121435785284973, 0.5751766343473893, 0.04333522587548823, 0.9780826058790946, 0.018665698585478903, 0.9710749353333533, 0.94209341194004, 0.35007043333089743, 0.015869859644334017, 0.0952191578660041, 0.0812163405327682, 0.005601126933294359, 0.055077748177394525, 0.008401690399941538, 0.0009335211555490598, 0.21937747155402906, 0.08681746746606256, 0.0037340846221962393, 0.008401690399941538, 0.041074930844158634, 0.028939155822020855, 0.9729800077582226, 0.9736322429461257, 0.9668204043769911, 0.06383725720478109, 0.9256402294693259, 0.05843867800111474, 0.02597274577827322, 0.13419251985441163, 0.476167005935009, 0.2532342713381639, 0.02380835029675045, 0.019479559333704915, 0.008657581926091073, 0.993734461451058, 0.9551360322676005, 0.9851670752492736, 0.8311738055325079, 0.0840257672259639, 0.0817548005441811, 0.9601335664967297, 0.9560426827796933, 0.163383206420478, 0.17198232254787157, 0.6621319418093055, 0.9953263564541345, 0.9903443910132244, 0.04736187611426544, 0.14208562834279634, 0.21495005313397395, 0.0728644247911776, 0.04736187611426544, 0.045540265494486004, 0.3752517876745647, 0.01639449557801496, 0.01457288495823552, 0.02550254867691216, 0.9646719279057957, 0.5655630710126434, 0.01854305150861126, 0.12052983480597318, 0.2920530612606273, 0.16917338964289952, 0.22496461388683445, 0.2951535734195268, 0.25196036755325457, 0.05759094115502962, 0.24486980164771935, 0.7534455435314442, 0.34145721159206327, 0.6567667988730226, 0.9798549578985118, 0.12717738628861247, 0.8704585550420587, 0.9812142277661562, 0.012287119131239881, 0.005265908199102806, 0.9983284514249192, 0.9985086037954256, 0.35090723387083034, 0.6266200604836256, 0.974647324872454, 0.25032728507799484, 0.7486640100017808, 0.9510373592100362, 0.9587415541558307, 0.9669541758537284, 0.9754183692289814, 0.9807659124429342, 0.41158553972509815, 0.016463421589003924, 0.09878052953402355, 0.46097580449210995, 0.9783215988295668, 0.06391424497513272, 0.9331479766369377, 0.09881053149821085, 0.18414689961030203, 0.7141306594643421, 0.14618844028726444, 0.13449336506428328, 0.7017045133788693, 0.017542612834471734, 0.9790097333490131, 0.020030889684890293, 0.9920644166529777, 0.989152592070548, 0.9684316606593124, 0.9961031999802269, 0.9969305819555402, 0.982107124860267, 0.9916459769751033, 0.9742344645992387, 0.9972700989354115, 0.9744410981789549, 0.9836324893784596, 0.9837207203522972, 0.04727819910560315, 0.6445594478063896, 0.0031518799403735436, 0.1008601580919534, 0.18280903654166553, 0.022063159582614806, 0.993636753631757, 0.95582503235033, 0.6930781988540213, 0.2997094913963335, 0.988246892109757, 0.0894746000454555, 0.8947460004545551, 0.9882909747363198, 0.2105732297377172, 0.24854545149369897, 0.024164141117442955, 0.11736868542758007, 0.09665656446977182, 0.027616161277077663, 0.2761616127707766, 0.08177889195967253, 0.10222361494959066, 0.7053429431521756, 0.08689007270715207, 0.020444722989918132, 0.24359652605379917, 0.5423469825348736, 0.08273089564091292, 0.12409634346136938, 0.004596160868939607, 0.940732147318864, 0.057105146322870344, 0.9849603192857853, 0.9952089975807488, 0.13600068617399264, 0.1464622774181459, 0.5963107009167369, 0.10461591244153279, 0.03277093952127628, 0.9612808926241042, 0.40229935843067083, 0.0013777375288721602, 0.4932300353362334, 0.0027554750577443205, 0.09919710207879553, 0.9870018597177349, 0.9775845209096738, 0.016952332732537698, 0.13741130418026626, 0.12367017376223963, 0.03778810864957322, 0.04465867385858653, 0.6561389774607713, 0.9561168084757687, 0.02172992746535838, 0.9497651957308773, 0.11577807623578973, 0.03473342287073692, 0.17752638356154424, 0.6715128421675804, 0.9855813160105357, 0.2802091292391386, 0.14747848907323083, 0.0884870934439385, 0.4719311650343387, 0.006233026869554342, 0.984818245389586, 0.9864161419118566, 0.9960979862126785, 0.9749221052469401, 0.9693708333939645, 0.9944465977350285, 0.0014440720019578486, 0.05487473607439825, 0.06787138409201889, 0.1574038482134055, 0.15307163220753195, 0.07220360009789244, 0.02166108002936773, 0.4000079445423241, 0.017328864023494185, 0.0014440720019578486, 0.031769584043072674, 0.018772936025452033, 0.8818019494032335, 0.11564615729878473, 0.18387688464420396, 0.7880437913323026, 0.13393969905276054, 0.3592019201869487, 0.018264504416285528, 0.03044084069380921, 0.45052444226837635, 0.012176336277523684, 0.9841264695202167, 0.9665838729747677, 0.9584673742220278, 0.2795894948529741, 0.03812584020722374, 0.17792058763371077, 0.11437752062167121, 0.3812584020722374, 0.3995157942383076, 0.008631514073049856, 0.1393372986078048, 0.18948228512742776, 0.09206948344586512, 0.00575434271536657, 0.05220010891796817, 0.06042059851134898, 0.03164888493451613, 0.0004110244796690407, 0.00575434271536657, 0.014385856788416425, 0.28476603563950603, 0.07056149555669176, 0.23940507421020418, 0.3931283323872827, 0.010080213650955966, 0.03679207209119281, 0.05351574122355319, 0.8495623919239068, 0.05686047505002526, 0.9667453380637135, 0.018240478076673842, 0.11700130616901311, 0.033968121145842516, 0.24909955506951179, 0.0792589493402992, 0.030193885462971123, 0.07548471365742782, 0.026419649780099735, 0.045290828194456685, 0.33968121145842517, 0.1781411232072088, 0.8115317834995067, 0.9636124210911896, 0.10328827329436563, 0.89172209277469, 0.10380485038421636, 0.8927217133042606, 0.04891770978611677, 0.1467531293583503, 0.8010274977476621, 0.0217693526872766, 0.9741785327556277, 0.10407832855628088, 0.8881350703469302, 0.9646127966106368, 0.1236470004974422, 0.8655290034820955, 0.06168076089041469, 0.2293259058746187, 0.16764514498420402, 0.09647503626449477, 0.02056025363013823, 0.1375955435247712, 0.04586518117492374, 0.01739713768704004, 0.1154537319230839, 0.050609855089571026, 0.05535452900421831, 0.0015815579715490946, 0.9805249559186212, 0.9728600450234375, 0.9826796366074003, 0.16459668304656014, 0.8229834152328006, 0.9566439370944362, 0.5108894545789133, 0.18432420189914664, 0.046291466230379295, 0.24071562439797234, 0.005891641156593728, 0.010941619290816924, 0.9867016606237142, 0.15652194629159377, 0.13754958916534, 0.021343901767035513, 0.05928861601954309, 0.06403170530110654, 0.14229267844690344, 0.04268780353407103, 0.06403170530110654, 0.15177885701003033, 0.016600812485472065, 0.040316258893289304, 0.10434796419439585, 0.9766724569275436, 0.9825232871312429, 0.9748972016821386, 0.9865972412415075, 0.5427593293494525, 0.008021073832750528, 0.12031610749125794, 0.10427395982575688, 0.1951794632635962, 0.029410604053418606, 0.9533310750960703, 0.2106625342066092, 0.7022084473553639, 0.0702208447355364, 0.3711501760079204, 0.12371672533597346, 0.0181048866345327, 0.45865712807482845, 0.0060349622115109, 0.0241398488460436, 0.9862120881207347, 0.2685939554858545, 0.01820975969395624, 0.7101806280642934, 0.9764663359530692, 0.983777118050053, 0.07840677226095528, 0.012380016672782414, 0.5653540947237302, 0.16919356119469298, 0.024760033345564827, 0.10316680560652011, 0.01650668889704322, 0.00825334444852161, 0.012380016672782414, 0.36969964464374144, 0.022406039069317662, 0.022406039069317662, 0.12323321488124714, 0.44812078138635325, 0.06522977318817899, 0.13453640720061916, 0.008153721648522374, 0.3179951442923726, 0.11822896390357442, 0.040768608242611866, 0.29761084017106665, 0.012230582472783559, 0.9831939555155796, 0.986350021586531, 0.9862617328778143, 0.975608109624007, 0.9836197404723771, 0.4167684797687911, 0.19869194965721437, 0.03876916090872475, 0.334384012837751, 0.004846145113590594, 0.04628506725694573, 0.6479909415972401, 0.2931387592939896, 0.9794378080424133, 0.924605753197912, 0.07158238089274158, 0.9860962388337586, 0.9906219442758697, 0.9951635622661014, 0.9886136747099032, 0.07539127232234054, 0.8654289802002006, 0.058114105748470826, 0.11495209478177446, 0.4441330934750377, 0.4336829030403309, 0.9834064333486632, 0.9650342584972347, 0.01949564158580272, 0.18398299667514315, 0.4545462270797654, 0.032467587648554674, 0.32467587648554674, 0.6846547767871136, 0.11003380341221469, 0.02037663026152124, 0.024451956313825487, 0.09780782525530195, 0.03667793447073823, 0.028527282366129735, 0.4602103914695127, 0.1829752158854689, 0.03326822107008525, 0.03881292458176613, 0.28277987909572466, 0.010429169075885425, 0.9803418931332301, 0.9822309659204604, 0.11131727413396932, 0.09541480640054513, 0.1537238547564338, 0.27034195146821116, 0.026504112889040313, 0.25974030631259504, 0.07421151608931287, 0.005300822577808062, 0.9872029433769043, 0.9795715377194075, 0.08464591787732156, 0.7618132608958941, 0.002039660671742688, 0.15093488970895894, 0.21040319741106034, 0.7091367023854256, 0.025975703384081526, 0.0545489771065712, 0.17091036848702115, 0.7690966581915951, 0.055987879331955204, 0.8175624856391338, 0.18130046752666984, 0.0662949570540576, 0.7568674263671575, 0.0994424355810864, 0.0773441165630672, 0.2693980493319813, 0.7279479205353536, 0.9736322429461257, 0.15093043114640275, 0.06860474143018307, 0.6448845694437209, 0.13720948286036613, 0.3307483261449654, 0.5991424596560438, 0.06777629634118143, 0.13852494169320717, 0.8484652678708938, 0.010106961854043642, 0.8995196050098841, 0.08085569483234914, 0.9769256782445254, 0.20355236399632637, 0.7337352655681532, 0.0426039831620218, 0.014201327720673932, 0.9809964834693814, 0.14201856151705694, 0.0608650977930244, 0.16230692744806507, 0.6289393438612522, 0.9677028904166259, 0.9698161619286861, 0.5151021266610968, 0.2961837228301306, 0.0729728012769887, 0.012877553166527419, 0.09729706836931827, 0.005723356962901075, 0.974267149672905, 0.9382425457419917, 0.02693000858629831, 0.9714038811486176, 0.10661193098321321, 0.8742178340623483, 0.7134569611751926, 0.27959799829838633, 0.9973171606572656, 0.4371154133834199, 0.03389397590406197, 0.3927026173712008, 0.02571267137549529, 0.06311292064894299, 0.008181304528566684, 0.009350062318361925, 0.0011687577897952406, 0.02454391358570005, 0.002337515579590481, 0.99649623122215, 0.02490569856899451, 0.0035579569384277874, 0.9695432657215721, 0.9837040321100733, 0.05873680405157003, 0.19578934683856677, 0.06852627139349837, 0.19578934683856677, 0.03915786936771336, 0.08810520607735504, 0.07831573873542672, 0.05873680405157003, 0.22515774886435178, 0.2067222061060844, 0.056636220850982036, 0.24070393861667363, 0.0028318110425491014, 0.4700806330631509, 0.014159055212745509, 0.008495433127647304, 0.135376387266872, 0.6552217143716605, 0.2057721086456455, 0.9979651228423917, 0.9896867843421662, 0.9815555131158051, 0.5557114944764411, 0.01354292837879223, 0.16251514054550675, 0.062748901488404, 0.08441758689447156, 0.002257154729798705, 0.0027085856757584456, 0.045594525541933835, 0.049205973109611764, 0.0009028618919194819, 0.0009028618919194819, 0.020314392568188344, 0.8620020005646285, 0.08405008168770754, 0.017591877562543438, 0.035183755125086875, 0.9627634160123091, 0.1077662992317151, 0.03448521575414883, 0.08621303938537209, 0.1250089071087895, 0.017242607877074417, 0.038795867723417435, 0.008621303938537208, 0.017242607877074417, 0.49141432449662087, 0.060349127569760457, 0.017242607877074417, 0.9740335643015403, 0.17605490490829884, 0.8215895562387279, 0.8349322734802176, 0.05655992820349861, 0.05117326837459398, 0.045786608545689354, 0.008079989743356945, 0.9787901090603204, 0.01755677325668736, 0.1669174787211269, 0.8226647165541253, 0.9101212541934743, 0.05954064279770393, 0.025517418341873113, 0.9823597355648546, 0.9745836620341377, 0.9969323977483109, 0.9812069103838028, 0.144646363301826, 0.819662725377014, 0.024107727216971003, 0.9796180901594551, 0.730506343778939, 0.002060666696132409, 0.057698667491707455, 0.032970667138118546, 0.00927300013259584, 0.03606166718231716, 0.07624466775689913, 0.049456000707177816, 0.002060666696132409, 0.0030910000441986135, 0.6929123111369723, 0.3055361371942555, 0.9845643080517834, 0.983994572831299, 0.9930755700223571, 0.01767000708631503, 0.03534001417263006, 0.3357301346399856, 0.607848243769237, 0.12529534315498883, 0.8701065496874225, 0.9452504728102255, 0.98723182795594, 0.9334706656713199, 0.4125211772650279, 0.0025269291103523915, 0.007580787331057174, 0.5774033017155215, 0.9946973365685655, 0.7584318816386992, 0.1478401290674485, 0.09255032470076045, 0.9869133903654239, 0.9882538410240224, 0.9847891308168952, 0.4721900190005718, 0.14451642152717992, 0.13137856502470902, 0.17542902506240557, 0.0015456301767612826, 0.02395726773979988, 0.019320377209516033, 0.015456301767612824, 0.010819411237328977, 0.0046368905302838475, 0.0015456301767612826, 0.15875288327084713, 0.059973311457875586, 0.00705568370092654, 0.7690695234009928, 0.9946060899842194, 0.9961666058394618, 0.8515722840192586, 0.07741566218356896, 0.06635628187163053, 0.24994308869382809, 0.03693976550753313, 0.14488063874383125, 0.04365608650890279, 0.18182040425136436, 0.027824758434245735, 0.09690691730547653, 0.07675795430136755, 0.017270539717807697, 0.04077766322260151, 0.02878423286301283, 0.006236583786986113, 0.04653450979520408, 0.00047973721438354715, 0.00047973721438354715, 0.12908395266626738, 0.3626644384433226, 0.09220282333304812, 0.41798613244315147, 0.9568547725727208, 0.9667756178984026, 0.056957142421556244, 0.8416999935629979, 0.012657142760345833, 0.03797142828103749, 0.04429999966121041, 0.9800375442817206, 0.02730752214770853, 0.8374306791963949, 0.1319863570472579, 0.20608859796963247, 0.7857127797592237, 0.1579632274218889, 0.22252211167257394, 0.12224980209172272, 0.0068679664096473435, 0.10027230958085122, 0.046702171585601936, 0.017856712665083093, 0.012362339537365218, 0.12087620880979325, 0.07829481706997972, 0.017856712665083093, 0.0068679664096473435, 0.07829481706997972, 0.01098874625543575, 0.4601615599117148, 0.536855153230334, 0.24685541810364867, 0.06557097043378168, 0.1504275204069109, 0.1118563613282158, 0.42813986577351565, 0.9784606435457038, 0.9262946418004324, 0.07217880325717656, 0.868609627570878, 0.11869199879850507, 0.010790181708955007, 0.9645365059644477, 0.023718110802404452, 0.973984156517553, 0.9880063351721178, 0.9648970681337834, 0.9934800504672054, 0.9789322250370992, 0.1364859626727614, 0.24264171141824245, 0.6066042785456062, 0.9938768335187416, 0.07976082801229237, 0.1949709129189369, 0.6292243098747509, 0.03544925689435216, 0.0443115711179402, 0.7711038512415754, 0.10281384683221005, 0.12337661619865208, 0.9743860551405743, 0.9207167737503147, 0.0024850655161951815, 0.07579449824395303, 0.8298495204282866, 0.03457706335117861, 0.134668562525643, 0.9861728526495248, 0.04255362973190298, 0.9468182615348413, 0.9483740118397982, 0.029636687869993694, 0.9770364751267008, 0.9880083116152246, 0.9966219233272752, 0.9628701632396003, 0.9881185556771961, 0.0980687591341518, 0.14421876343257617, 0.14998751396987922, 0.3922750365366072, 0.2076750193429097, 0.9733746631627035, 0.9877878535422464, 0.9913041292980578, 0.9720251534099761, 0.9809414957950104, 0.09492346703396123, 0.44441441384081853, 0.04314703046998238, 0.09492346703396123, 0.02157351523499119, 0.05177643656397886, 0.24593807367889955, 0.04061005859284615, 0.5550041341022307, 0.10152514648211539, 0.13536686197615383, 0.1624402343713846, 0.9876607784536401, 0.9885548640435681, 0.29120242337306307, 0.25357937125768026, 0.06997887693461205, 0.27916304669614056, 0.018059065015383756, 0.07675102631538096, 0.011286915634614848, 0.9375664928217673, 0.9702125976408101, 0.33696309758730425, 0.03361227906107773, 0.28948575341353194, 0.10503837206586791, 0.1806659999532928, 0.002100767441317358, 0.006722455812215546, 0.003361227906107773, 0.0029410744178443014, 0.011764297671377206, 0.018906906971856225, 0.008403069765269432, 0.9547810953011153, 0.9918346054310777, 0.31726787387404554, 0.18759435594187432, 0.49448834838134614, 0.11595338307485048, 0.8760922276766481, 0.8102395635726145, 0.1883072759689019, 0.28526134674348597, 0.018208171068733146, 0.19664824754231797, 0.0716188062036837, 0.2464172484635219, 0.018208171068733146, 0.014566536854986517, 0.0716188062036837, 0.010924902641239888, 0.01335265878373764, 0.052196757063701686, 0.9957554801409378, 0.2787055024054563, 0.7176666686940499, 0.18207875625469896, 0.7945254818386864, 0.3519258658437725, 0.08121366134856288, 0.5233769286907386, 0.03609496059936128, 0.05348633473794271, 0.34766117579662764, 0.036771855132335614, 0.0501434388168213, 0.08022950210691407, 0.4278906779035417, 0.1889478300179347, 0.8030282775762224, 0.9760578542842945, 0.02602377942587744, 0.9715544318994245, 0.9925851041434941, 0.9910848021366171, 0.9878693759016645, 0.9599831558786752, 0.2547352168795859, 0.08534942833594374, 0.49371361622022836, 0.08666249646418903, 0.003939204384735865, 0.00787840876947173, 0.068279542668755, 0.9756553452931507, 0.13953544449154542, 0.849897707357595, 0.9820101095591792, 0.060642767481148926, 0.9387500406081855, 0.29258127205333834, 0.04082529377488442, 0.660008916027298, 0.06048482993518661, 0.9254178980083552, 0.006048482993518661, 0.9952714298395342, 0.16248793648462817, 0.14747546409202666, 0.09890570046890411, 0.4071029278228999, 0.024726425117226027, 0.04592050378913405, 0.021194078671908024, 0.059166802959076566, 0.005298519667977006, 0.02031099206057852, 0.006181606279306507, 0.993253127635421, 0.9937810622750934, 0.1037745006143198, 0.08894957195513124, 0.13342435793269689, 0.0741246432959427, 0.5781722177083531, 0.019973482092702603, 0.013731768938733041, 0.23344007195846167, 0.15229780095685735, 0.0686588446936652, 0.16228454200320866, 0.15978785674162083, 0.04993370523175651, 0.017476796831114777, 0.06366547417048955, 0.0024966852615878254, 0.016228454200320867, 0.023718509985084343, 0.014980111569526952, 0.9533118941339559, 0.9792487901853414, 0.9970011338164334, 0.09822961315051602, 0.07858369052041282, 0.520616949697735, 0.25539699419134165, 0.03929184526020641, 0.14166090507410609, 0.8556318666476007, 0.9907190522591646, 0.9886793132497312, 0.9719889021755078, 0.9837019826167506, 0.9869405306159025, 0.9860464848146883, 0.9784013456025253, 0.11734527100240963, 0.0938762168019277, 0.7744787886159035, 0.07587675845322328, 0.28833168212224847, 0.02529225281774109, 0.1416366157793501, 0.015175351690644654, 0.18716267085128407, 0.04046760450838575, 0.18716267085128407, 0.015175351690644654, 0.020233802254192874, 0.9725607082480215, 0.9827771343189134, 0.9501073860418033, 0.9935338000912114, 0.9842889273573617, 0.9727003224860704, 0.07464525552364044, 0.9161008632446781, 0.9906105567179462, 0.9132385307304958, 0.004739992374033715, 0.003159994916022477, 0.025279959328179814, 0.05213991611437087, 0.8713223620041392, 0.1154764576150064, 0.0104978597831824, 0.988894968327244, 0.985120570281144, 0.9267551015588746, 0.9920143008061852, 0.9506599231563432, 0.07342211068601948, 0.2803389680738925, 0.010012106002639019, 0.040048424010556076, 0.11347053469657556, 0.04672316134564876, 0.010012106002639019, 0.013349474670185359, 0.07342211068601948, 0.07342211068601948, 0.2603147560686145, 0.006674737335092679, 0.07582752384589553, 0.5909317375576687, 0.013073711007913023, 0.04968010183006949, 0.013073711007913023, 0.25885947795667785, 0.05245685130973596, 0.7868527696460395, 0.09617089406784926, 0.06119965986135862, 0.9317321534849626, 0.051762897415831254, 0.9031249614239872, 0.06568181537628998, 0.016420453844072494, 0.980065946767827, 0.9407758930772058, 0.42155990669737026, 0.01600860405179887, 0.32550828238657703, 0.008004302025899435, 0.005336201350599624, 0.21745020503693466, 0.00667025168824953, 0.02121694708372907, 0.5099139615789553, 0.10254857757135717, 0.13649569290532368, 0.12659445093291677, 0.01768078923644089, 0.04384835730637341, 0.03253265219505124, 0.007779547264033992, 0.0014144631389152713, 0.9764974021193128, 0.970813182519455, 0.9938500678086155, 0.17368351511871652, 0.04875326740174499, 0.2072013864574162, 0.5180034661435405, 0.04875326740174499, 0.962709636147294, 0.9568104482257125, 0.9593266312656326, 0.09996635855872107, 0.09127363172752793, 0.8040772318853652, 0.9843738368717574, 0.9825362361111095, 0.9912507625888559, 0.9895240509866312, 0.15470624074154132, 0.11138849333390977, 0.026815748395200498, 0.34241647950794485, 0.026815748395200498, 0.06807074592627818, 0.010313749382769423, 0.004125499753107769, 0.030941248148308266, 0.2000867380257268, 0.024752998518646614, 0.980657319221861, 0.768549479225466, 0.037551277486586286, 0.06759229947585532, 0.04506153298390354, 0.030041021989269032, 0.015020510994634516, 0.035047858987480536, 0.9589253396563161, 0.9910604747138363, 0.9392609580204563, 0.05336709988752592, 0.12676423990965643, 0.023768294983060583, 0.8398130894014739, 0.06225895470303151, 0.902754843193957, 0.9990727968402564, 0.9982390491479911, 0.05003032585782292, 0.2418132416461441, 0.0583687135007934, 0.02501516292891146, 0.0667071011437639, 0.02501516292891146, 0.02501516292891146, 0.5003032585782292, 0.9788714398594266, 0.5670372899038079, 0.42527796742785595, 0.08220713293552856, 0.9171967260378258, 0.9813688643061903, 0.1463964643707631, 0.6483271993562366, 0.1553595132097894, 0.032864512409763146, 0.01493841473171052, 0.16605919691935767, 0.8321410867847813, 0.9973355428669164, 0.10213893596624847, 0.10013621173161615, 0.030040863519484845, 0.2082833204017616, 0.04005448469264646, 0.03204358775411717, 0.022029966580955553, 0.328446774479701, 0.030040863519484845, 0.01401906964242626, 0.09412803902771918, 0.9580461505642132, 0.9582783186202515, 0.9951807444042385, 0.966787169763246, 0.9944576532998022, 0.27234798090700224, 0.7209211259303, 0.9806985864494673, 0.9955919250970297, 0.9913780920850787, 0.9411096652913471, 0.9158887220417123, 0.048847398508891325, 0.024423699254445663, 0.035629487933606145, 0.07125897586721229, 0.8551077104065474, 0.017814743966803073, 0.9979752384500474, 0.9722289196528935, 0.19149679395177366, 0.042554843100394146, 0.002364157950021897, 0.7305248065567662, 0.03073405335028466, 0.9740513081723743, 0.6506850822314085, 0.15038055233792552, 0.19375955782001944, 0.16977978681639358, 0.11545025503514764, 0.7062839131561973, 0.9736236754403915, 0.9663866013100583, 0.9273794515535947, 0.4449684667702952, 0.0071433064899579166, 0.16637951366193648, 0.250313364918942, 0.09435117322152749, 0.03333543028647028, 0.0023811021633193055, 0.0002976377704149132, 0.0005952755408298264, 0.10088128198144825, 0.8574908968423102, 0.996977343058273, 0.9804143861862905, 0.9926784896836761, 0.1060681173126434, 0.047927075230157386, 0.11628208416497202, 0.04321293668292879, 0.4030588457880449, 0.03692741861995733, 0.0337846595884716, 0.0722834577241718, 0.016499484915300084, 0.008642587336585758, 0.055783972808871714, 0.012571036125942922, 0.03457034934634303, 0.011785346368071489, 0.0007856897578714326, 0.22786355338593214, 0.053614953737866386, 0.22786355338593214, 0.04978531418516165, 0.05744459329057113, 0.17999305897712287, 0.003829639552704742, 0.01914819776352371, 0.09765580859397092, 0.0727631515013901, 0.009574098881761854, 0.9837846723443324, 0.016127617579415287, 0.9873207039996016, 0.9811198133813657, 0.2701738088687367, 0.7291437733324942, 0.9604003055962977, 0.9916358055262111, 0.9849691614981982, 0.01403089973644157, 0.9919767406016327, 0.11732552474193494, 0.42029270255655177, 0.16782005437770442, 0.2049483849922408, 0.02376213159330328, 0.001485133224581455, 0.05346479608493238, 0.01188106579665164, 0.06903395879663685, 0.01380679175932737, 0.20710187638991054, 0.6903395879663685, 0.01725848969915921, 0.9919719404976132, 0.17716962760208063, 0.8120274598428696, 0.9804497562927421, 0.9910402258031907, 0.9917969838543387, 0.9732130794586904, 0.01769478326288528, 0.9867226750843688, 0.8417444107375521, 0.053094647446522515, 0.0077699484068081736, 0.016834888214751043, 0.020719862418155127, 0.023309845220424518, 0.027194819423828606, 0.009064939807942868, 0.20974260311241844, 0.5505743331700984, 0.03204400880884171, 0.008739275129684101, 0.07574038445726222, 0.12234985181557742, 0.0029130917098947008, 0.3475354190359232, 0.05561611138591408, 0.25640855108435506, 0.18016486786986252, 0.08982132543077204, 0.000261108504159221, 0.008094363628935852, 0.025588633407603662, 0.008616580637254295, 0.000522217008318442, 0.02219422285353379, 0.004699953074865979, 0.35664401719059013, 0.6142202518282386, 0.07682325302531806, 0.21510510847089057, 0.1382818554455725, 0.09657780380325699, 0.09767527884647582, 0.009877275388969466, 0.007682325302531806, 0.3292425129656488, 0.010974750432188294, 0.0032924251296564885, 0.014267175561844782, 0.09318301790248462, 0.5957057215908839, 0.051028795518027296, 0.007765251491873719, 0.0876364096940034, 0.028842362684102382, 0.006655929850177473, 0.05657540372650852, 0.016639824625443684, 0.0011093216416962455, 0.002218643283392491, 0.005546608208481228, 0.01774914626713993, 0.029951684325798627, 0.35162163105360283, 0.39286757018012514, 0.08764762064385995, 0.09486565999100134, 0.0010311484781630582, 0.0319656028230548, 0.014436078694282813, 0.008249187825304465, 0.006186890868978349, 0.006186890868978349, 0.0030934454344891745, 0.9178862767220412, 0.028242654668370497, 0.04942464566964837, 0.3281501760547356, 0.00455764133409355, 0.2625201408437885, 0.01549598053591807, 0.09206435494868971, 0.0364611306727484, 0.08841824188141487, 0.02916890453819872, 0.027345848004561298, 0.07201073307867809, 0.00091152826681871, 0.00729222613454968, 0.02369973493728646, 0.013672924002280649, 0.3085046703852633, 0.16742021746517335, 0.2690010235676381, 0.04044420983709244, 0.12697600762808092, 0.030098016622952514, 0.0009405630194672661, 0.02633576454508345, 0.0037622520778690643, 0.01410844529200899, 0.0009405630194672661, 0.011286756233607193, 0.09163502779704083, 0.02749050833911225, 0.2550508273684303, 0.4795566454711803, 0.11607103520958505, 0.0030545009265680275, 0.0015272504632840138, 0.016799755096124153, 0.009163502779704083, 0.17127624601319918, 0.0642285922549497, 0.7653907243714839, 0.9874398538605691, 0.46087306815056145, 0.03973043690953116, 0.5006035050600927, 0.06241471611767399, 0.9206170627356914, 0.9934519692812355, 0.9608411782497485, 0.974781679261312, 0.888070565304552, 0.09867450725606133, 0.02823733427603322, 0.516469952726156, 0.0018217635016795626, 0.35888740983087386, 0.018217635016795627, 0.0018217635016795626, 0.002732645252519344, 0.01275234451175694, 0.043722324040309506, 0.0009108817508397813, 0.01366322626259672, 0.9772766187462769, 0.9661687652917867, 0.4442961945612648, 0.064568997133471, 0.13631232728177212, 0.08250482967054629, 0.11325197116267534, 0.0005124523582021508, 0.013836213671458073, 0.003074714149212905, 0.06815616364088606, 0.019985641969883883, 0.016398475462468826, 0.03689656979055486, 0.9698887539911453, 0.9954153588526324, 0.9693696345096234, 0.1919548185908334, 0.7904021941975494, 0.9621229118833935, 0.5280870139569683, 0.11891665295905998, 0.06067176171380611, 0.036888431121994116, 0.05630339487041207, 0.054847272589280724, 0.014075848717603017, 0.06309863218235835, 0.03543230884086277, 0.00048537409371044886, 0.0014561222811313467, 0.023783330591811994, 0.005824489124525387, 0.9712058614791327, 0.9916028903630004, 0.7859034558943807, 0.19884304305761438, 0.009468716336076875, 0.2831698154692666, 0.059614697993529815, 0.014903674498382454, 0.491821258446621, 0.14903674498382455, 0.007451837249191227, 0.21134509615959635, 0.07351133779464221, 0.6616020401517798, 0.027566751672990827, 0.018377834448660552, 0.9797924828402097, 0.01902509675417883, 0.028808960966495198, 0.9564575040876405, 0.00576179219329904, 0.9746746873355889, 0.7490519203884854, 0.040056252427191734, 0.05207312815534925, 0.10948708996765741, 0.01201687572815752, 0.006676042071198622, 0.0053408336569588976, 0.02403375145631504, 0.9097157301331401, 0.008346015872781103, 0.054249103173077164, 0.020865039681952757, 0.008346015872781103, 0.9633819430955795, 0.013426926036175324, 0.016783657545219155, 0.9943504380932309, 0.9772120178001041, 0.015346539310967928, 0.9572403895216245, 0.017264856724838917, 0.007673269655483964, 0.98027559361288, 0.01519807121880434, 0.26321323782964007, 0.602145352295204, 0.12078963653825948, 0.0036056607921868505, 0.007211321584373701, 0.9810952170529584, 0.9093944935941334, 0.08487681940211912, 0.0696678884964349, 0.9056825504536539, 0.9797521954354956, 0.9148782965364041, 0.07566662602932665, 0.5086045791906577, 0.0422429052483935, 0.13517729679485918, 0.09715868207130504, 0.09631382396633717, 0.03041489177884332, 0.00506914862980722, 0.04731205387820072, 0.03717375661858628, 0.8159809887658758, 0.07095486858833702, 0.03547743429416851, 0.07602307348750395, 0.25082987155723035, 0.23968187726579787, 0.1644329157986288, 0.34558782303440627, 0.9927933360132513, 0.2211375626555319, 0.0707640200497702, 0.38920211027373613, 0.30959258771774467, 0.03968361388728947, 0.9353994702003947, 0.022676350792736843, 0.9854187506257271, 0.9889435528909594, 0.08193142063937364, 0.7291896436904254, 0.15566969921480991, 0.016386284127874726, 0.013655236773228939, 0.053371552784753355, 0.10360360246452122, 0.10674310556950671, 0.1098826086744922, 0.0031395031049854917, 0.009418509314956474, 0.4772044719577947, 0.12871962730440514, 0.06816729971842556, 0.9278326906119034, 0.9652800385760892, 0.032273800681875325, 0.0988963293946225, 0.03296544313154084, 0.8571015214200618, 0.05948352626633267, 0.9120807360837677, 0.044541617147162246, 0.9544632245820481, 0.995469677569597, 0.9964532785780926, 0.9882962140648689, 0.9797874252684508, 0.9973378339167537, 0.897729942245597, 0.10081459244469271, 0.9921464540263889, 0.9912766811655833, 0.9752674319253058, 0.15255064448214928, 0.839028544651821, 0.003813766112053732, 0.432589536137449, 0.01837636376244043, 0.22647626691007663, 0.13509110657794046, 0.10131832993345534, 0.010429828081385107, 0.012416462001648938, 0.011919803521582981, 0.0004966584800659576, 0.04966584800659575, 0.0004966584800659576, 0.09051070355175246, 0.9051070355175247, 0.12306852466398008, 0.8721812834882066, 0.5531978098101622, 0.07219035248586514, 0.06277421955292621, 0.044726631431459926, 0.015693554888231553, 0.014124199399408397, 0.025109687821170484, 0.014124199399408397, 0.04001856496499046, 0.09573068481821247, 0.004708066466469466, 0.03687985398734415, 0.007062099699704199, 0.011770166166173664, 0.9493655421016046, 0.9820799349269755, 0.013094399132359675, 0.9370760779625246, 0.23289524575103077, 0.268123098049506, 0.06849860169147963, 0.01761392614923762, 0.06360584442780252, 0.015656823243766774, 0.0753484618606276, 0.007828411621883387, 0.16146098970134487, 0.001957102905470847, 0.04012060956215236, 0.027399440676591856, 0.019571029054708467, 0.9532349659295011, 0.08805555293396723, 0.8782976946490578, 0.0203205122155309, 0.013547008143687266, 0.005187463734144667, 0.10893673841703799, 0.3907889346388982, 0.2922271236901495, 0.03977055529510911, 0.15908222118043644, 0.0034583091560964445, 0.051072049360606574, 0.04085763948848526, 0.38814757514061, 0.051072049360606574, 0.4698628541175805, 0.05216157632704451, 0.9389083738868013, 0.9874803982191845, 0.9903630962856032, 0.9753810082565495, 0.2353949087036817, 0.1076270839260149, 0.13720879705187863, 0.36316273348134853, 0.055387037342042755, 0.0056645833645271, 0.057904629948499244, 0.006293981516141222, 0.01762314824519542, 0.005035185212912977, 0.0056645833645271, 0.0025175926064564887, 0.9679835460862801, 0.9822526656843299, 0.08001908746101528, 0.05334605830734352, 0.8624279426353869, 0.520615004818949, 0.25454260031182, 0.06474428509673472, 0.06829191715682977, 0.003547632060095053, 0.05321448090142579, 0.012416712210332683, 0.0026607240450712893, 0.01951197633052279, 0.1084442080652535, 0.26941607941211415, 0.032194374269372134, 0.15249966759176273, 0.09658312280811639, 0.07963871529792053, 0.030499933518352545, 0.10166644506117514, 0.09658312280811639, 0.030499933518352545, 0.001694440751019586, 0.9930153614244928, 0.12807000638950355, 0.12087506221031798, 0.23167720256977611, 0.035974720895927965, 0.3309674322425373, 0.061876519940996105, 0.03453573206009085, 0.0028779776716742374, 0.030218765552579494, 0.004316966507511356, 0.0028779776716742374, 0.01151191068669695, 0.004316966507511356, 0.950893495731025, 0.38309729851672586, 0.6073493756972483, 0.9809904841248897, 0.38927430947095915, 0.5988835530322448, 0.9727953592297264, 0.14628783201719647, 0.821462441327334, 0.022505820310337918, 0.9938353188771135, 0.9945766921883737, 0.9832013522560082, 0.9677093713944812, 0.9825853502960634, 0.05826456314817276, 0.47259034553517903, 0.06473840349796973, 0.4078519420372093, 0.9958806368684908, 0.09713360652722829, 0.3474698119673207, 0.03948520590537735, 0.07818070769264715, 0.05448958414942075, 0.1697863853931226, 0.014214674125935847, 0.048171951204560366, 0.07028366651157168, 0.0805498200469698, 0.000789704118107547, 0.9923063973038543, 0.9614876064203981, 0.9801585682948868, 0.9892179814200976, 0.09472254155545194, 0.0672224488458046, 0.07333358055905957, 0.012222263426509929, 0.006111131713254964, 0.7425025031604782, 0.6224369622483265, 0.37560851170157633, 0.9942220141819528, 0.9844255707127416, 0.9710271697622673, 0.1821583354596609, 0.18386074980975117, 0.11576417580613962, 0.04937001615261837, 0.005107243050270866, 0.05277484485279895, 0.018726557850993177, 0.3064345830162519, 0.01191690045063202, 0.013619314800722308, 0.0595845022531601, 0.9905028052041421, 0.9937056169971634, 0.9916743024535003, 0.2170650491668832, 0.08789136960131468, 0.03062881061863996, 0.15447574051140153, 0.03062881061863996, 0.018643623854824324, 0.1345004292383755, 0.011985186763815638, 0.1358321166565772, 0.03062881061863996, 0.013316874182017375, 0.0013316874182017374, 0.009321811927412162, 0.12251524247455985, 0.36016288619096215, 0.12904231751226986, 0.06548416112562948, 0.1637104028140737, 0.04429810899674935, 0.04815011847472756, 0.005778014216967307, 0.1752664312480083, 0.009630023694945512, 0.09902337855048744, 0.8912104069543869, 0.6506323062460391, 0.3394603336935856, 0.9841351944046837, 0.9843636443939608, 0.9822976779981255, 0.9915735257534736, 0.11431662661373061, 0.876427470705268, 0.06912923945869975, 0.07921058687976014, 0.8266704885269512, 0.024483272308289495, 0.966899560512301, 0.9661844000252068, 0.9663428340951572, 0.9930106203054012, 0.9708722528597796, 0.1404067156044145, 0.13601900574177656, 0.5967285413187616, 0.09214190711539702, 0.021938549313189767, 0.013163129587913859, 0.12556289634542978, 0.222588770794171, 0.057074043793377174, 0.0970258744487412, 0.11414808758675435, 0.3823960934156271, 0.11613711694197192, 0.2926655346937692, 0.04180936209910989, 0.5481671919661074, 0.9907479376999921, 0.9949724011134884, 0.9823544160392863, 0.047111475779220834, 0.12563060207792223, 0.4004475441233771, 0.00785191262987014, 0.4082994567532472, 0.976232347781074, 0.9772173388643481, 0.9821677482191097, 0.41334401179810054, 0.20667200589905027, 0.07075257859607127, 0.04934061402094443, 0.05027156900247169, 0.060512073799271475, 0.060512073799271475, 0.047478704057889926, 0.004654774907636268, 0.00837859483374528, 0.0260667394827631, 0.9470252731867798, 0.9807690425619797, 0.14044192578642034, 0.842651554718522, 0.011703493815535029, 0.9298053259263556, 0.9881230213376261, 0.986502305060605, 0.9932984786855523, 0.3017716101315208, 0.10394355460085718, 0.06370733991665439, 0.07041337569735485, 0.29841859224117057, 0.04694225046490324, 0.02682414312280185, 0.08382544725875578, 0.9846802806765863, 0.30788450690076385, 0.23544109351234882, 0.43466048033049015, 0.009725598638639366, 0.33067035371373843, 0.27231676188190224, 0.3695727482682959, 0.981862754362804, 0.6642334874226687, 0.019179994317675846, 0.025741571321091266, 0.005299735271989378, 0.024479729589665225, 0.01690867920110897, 0.1486449559619878, 0.0893383945849638, 0.005804471964559795, 0.0002523683462852085, 0.7570949096898881, 0.23295227990458098, 0.790405339330869, 0.04349120288184207, 0.10210978067910748, 0.017018296779851245, 0.032145671695274575, 0.013236453050995413, 0.05072324273552093, 0.03308037569707887, 0.022053583798052577, 0.03969645083649464, 0.013232150278831546, 0.030875017317273608, 0.09262505195182083, 0.01984822541824732, 0.01764286703844206, 0.5778038955089776, 0.05072324273552093, 0.04851788435571567, 0.14692293986100527, 0.14692293986100527, 0.2203844097915079, 0.014692293986100526, 0.4554611135691163, 0.24571125393253662, 0.014040643081859235, 0.7301134402566802, 0.9872749579008121, 0.020755258593326126, 0.0664168274986436, 0.26981836171323964, 0.6309598612371142, 0.012453155155995675, 0.11680029216223128, 0.06921498794798892, 0.19899309035046814, 0.012977810240247922, 0.5407420933436634, 0.04325936746749307, 0.008651873493498614, 0.9902062840378942, 0.9910479328434437, 0.96440077548427, 0.02808934297527, 0.9560810917050352, 0.5898826788775281, 0.06285635102793333, 0.34329237869102047, 0.9936260685822146, 0.985966956615142, 0.41985991577707654, 0.2042561752429021, 0.3631220893207149, 0.11598383032840474, 0.8312174506869007, 0.038661276776134915, 0.9836814373338677, 0.07647492097373407, 0.07647492097373407, 0.8157324903864968, 0.8434029640759417, 0.14883581718987207, 0.9888452007706292, 0.026431359186564737, 0.5603448147551724, 0.01938299673681414, 0.37884948167409455, 0.014096724899501194, 0.7878711247574592, 0.010867187927689094, 0.027167969819222735, 0.07607031549382366, 0.03260156378306728, 0.059769533602290016, 0.8377757454485852, 0.01930358860480611, 0.138985837954604, 0.9971130182647185, 0.9188318964599197, 0.018499971069662814, 0.03699994213932563, 0.02466662809288375, 0.9947005284319251, 0.21530553457573864, 0.1342071165522104, 0.48946124860217916, 0.016506757650806628, 0.024401293918583714, 0.021530553457573865, 0.0265543492643411, 0.005023795806767235, 0.06602703060322651, 0.8209253946176128, 0.08030791903867952, 0.09815412326949718, 0.9829013124622595, 0.9901787929912734, 0.6257246527952133, 0.060011955191356776, 0.10962183814954504, 0.030406057296954097, 0.09361865009851657, 0.0032006376102056947, 0.014402869245925626, 0.005601115817859966, 0.018403666258682744, 0.018403666258682744, 0.0016003188051028473, 0.006401275220411389, 0.012802550440822779, 0.191236648449315, 0.11104063458347324, 0.5428653246303136, 0.006168924143526291, 0.1017872483681838, 0.012337848287052582, 0.012337848287052582, 0.018506772430578872, 0.22104033492461483, 0.7764041764227096, 0.9866875088736419, 0.12723040589070983, 0.15506205717930263, 0.5447051752196015, 0.17096585791564134, 0.9785702736793529, 0.07974051059111133, 0.9130288462682247, 0.003987025529555566, 0.19394522806970607, 0.7973303820643473, 0.13563166516706596, 0.25565105232928975, 0.13563166516706596, 0.018539580130750022, 0.0653764141452764, 0.02829725388377635, 0.10343134178207906, 0.0019515347506052654, 0.009757673753026327, 0.16295315167553967, 0.04878836876513164, 0.008781906377723695, 0.013660743254236858, 0.009757673753026327, 0.9658943550593605, 0.7854157493478683, 0.008445330638149121, 0.14019248859327543, 0.016890661276298242, 0.04729385157363508, 0.9741005662852059, 0.9761636811497437, 0.19884525947106169, 0.25039773414874433, 0.012888118669420663, 0.025776237338841327, 0.03314087657851028, 0.0036823196198344753, 0.005523479429751713, 0.027617397148758566, 0.44003719457021984, 0.01888783644158632, 0.977445535852092, 0.9950264401570942, 0.33668838864613587, 0.6167376091088096, 0.047199306819551756, 0.29155436645431304, 0.14610924970375597, 0.3891819105745499, 0.003984797719193345, 0.01992398859596672, 0.0013282659063977814, 0.044496907864325676, 0.10161234183943028, 0.0006641329531988907, 0.19536138387430327, 0.06328608210012641, 0.20774344341563236, 0.31918197928759406, 0.034394609837025227, 0.06466186649360742, 0.002751568786962018, 0.023388334689177153, 0.002751568786962018, 0.08667441678930357, 0.9887993226201066, 0.96411832256801, 0.9943295888033135, 0.324584095940216, 0.06293678548731857, 0.021921801686594106, 0.06788686973913013, 0.14567390798188343, 0.36630623463405637, 0.010607323396739084, 0.9513847373464218, 0.9845404322529485, 0.9843316025747426, 0.988325575954475, 0.9638821704381749, 0.9483243180299131, 0.0055135134769181, 0.0441081078153448, 0.9635686200378144, 0.014565457481860125, 0.3240814289713878, 0.004855152493953375, 0.15050972731255463, 0.15415109168301966, 0.012137881234883437, 0.3386468864532479, 0.9691518527350101, 0.2365763453198578, 0.7552244869826229, 0.9834856505337147, 0.9679826333069088, 0.025327612199413218, 0.2134755885379114, 0.06512814565563399, 0.2532761219941322, 0.07236460628403776, 0.09045575785504721, 0.2822219645077473, 0.9920400377519332, 0.7429181495693506, 0.039201601199927126, 0.1472450386533848, 0.021991142136544486, 0.0009561366146323689, 0.011473639375588427, 0.021035005521912117, 0.014342049219485533, 0.981187994160594, 0.555970719004767, 0.012053565723680585, 0.2561382716282124, 0.049720958610182414, 0.036160697171041756, 0.0888950472121443, 0.9385171370343109, 0.046346525285644986, 0.011586631321411247, 0.8704860040139742, 0.12648087237809882, 0.9842058940950993, 0.9796962961426379, 0.4624886642552349, 0.12112798349541866, 0.011011634863219879, 0.03303490458965964, 0.363383950486256, 0.5279652353947036, 0.1343069458460211, 0.05372277833840844, 0.09633049908955996, 0.005557528793628459, 0.010188802788318843, 0.15190578702584456, 0.0037050191957523062, 0.014820076783009225, 0.9863960545381265, 0.49333198135426826, 0.09660547937746768, 0.14039996336191968, 0.07342016432687544, 0.05023484927628319, 0.010304584466929886, 0.037354118692620834, 0.006440365291831178, 0.0012880730583662357, 0.08243667573543909, 0.00901651140856365, 0.49740669983138913, 0.27948171612147754, 0.09622661618359733, 0.11603797833904383, 0.0007075486484088039, 0.0070754864840880385, 0.0035377432420440193, 0.9857774109589585, 0.7443729410271697, 0.08577735062617775, 0.03780018841153596, 0.036346335011092266, 0.04070789521242334, 0.024715507807542742, 0.026169361207986432, 0.0014538534004436908, 0.9926440656557772, 0.9574779655269272, 0.4406549358268977, 0.5385782548995416, 0.9644879030405584, 0.9919460489117962, 0.9825455956024085, 0.9835984500996513, 0.09911539883870496, 0.8920385895483447, 0.9876916904412427, 0.009876916904412428, 0.9966622575219741, 0.8975755765840431, 0.09859731712476232, 0.11759406263577395, 0.022048886744207612, 0.852556954109361, 0.9545939640731792, 0.028396868904617616, 0.08164099810077564, 0.04614491197000363, 0.47209794553926787, 0.1526331703623197, 0.039045694743849224, 0.08874021532693005, 0.039045694743849224, 0.05324412919615803, 0.052687383337355405, 0.5651919303461762, 0.05747714545893317, 0.062266907580510934, 0.11016452879628857, 0.1484826257689107, 0.986567821681283, 0.03329068573802046, 0.8156218005815012, 0.03329068573802046, 0.013871119057508525, 0.024968014303515345, 0.07767826672204774, 0.9635915364013279, 0.028134059456973077, 0.10342093251122754, 0.656325148628944, 0.23070823406350757, 0.0039777281735087515, 0.0039777281735087515, 0.13939953738948407, 0.8363972243369046, 0.36618322885494964, 0.6196946949852994, 0.07054106206729145, 0.059688590980015846, 0.08953288647002376, 0.06240170875183475, 0.06782794429547255, 0.1573608307654963, 0.46123002120921336, 0.010852471087275608, 0.021704942174551215, 0.9866542961628006, 0.05193767095023891, 0.9348780771043003, 0.13415671459990533, 0.8586029734393942, 0.9913197254947742, 0.9773159316011326, 0.9936071863345864, 0.3080697288959662, 0.26503057559432386, 0.043605457950348155, 0.1064652739566942, 0.002831523243529101, 0.04473806724775979, 0.20670119677762436, 0.021519576650821166, 0.0005663046487058202, 0.0005663046487058202, 0.21558184511133094, 0.7568797388147814, 0.025776090176354786, 0.9966724295152335, 0.9533893015212116, 0.08331356412907985, 0.8886780173768517, 0.9926876392728676, 0.9843779014029885, 0.06457873168931383, 0.6529627315252843, 0.10045580485004374, 0.028701658528583925, 0.1183943414304087, 0.017938536580364952, 0.007175414632145981, 0.9895348695969379, 0.9273899204872753, 0.9727424278623805, 0.9674251996174338, 0.9035407248988186, 0.32212737932234237, 0.05271175298001966, 0.03806959937445865, 0.5651871291746553, 0.020499015047785424, 0.2401389734944778, 0.05336421633210618, 0.17076549226273977, 0.49095079025537686, 0.04535958388229025, 0.16432607289178258, 0.2654498100559565, 0.5656609047620977, 0.9561822780861658, 0.9942267175737727, 0.09416464757122359, 0.26904185020349597, 0.08519658589777372, 0.32285022024419513, 0.22420154183624663, 0.004484030836724932, 0.35536228186179575, 0.07552180289978856, 0.019904971306921017, 0.1340658361554386, 0.03395553928827703, 0.34189715421299627, 0.010537925986017008, 0.017563209976695013, 0.011123366318573509, 0.970732579213312, 0.017068151721820402, 0.979711908832491, 0.9795496391660162, 0.9617025870621616, 0.9684917375986053, 0.9328091771163552, 0.9970356157635804, 0.9879313190215431, 0.10471809114380824, 0.0747986365312916, 0.8078252745379493, 0.0381891122977832, 0.1674445693056648, 0.09987921677881759, 0.5023337079169944, 0.12631783298497518, 0.005875248045812799, 0.061690104481034395, 0.4117798578142438, 0.00880812530083944, 0.3523250120335776, 0.2246071951714057, 0.20601799896217704, 0.08154879125586174, 0.49787683082526113, 0.13734533264145135, 0.07296470796577104, 0.9897864437611686, 0.9438863108338054, 0.041489508168518915, 0.9891216357305425, 0.05539146698766897, 0.9278070720434552, 0.19825344162629677, 0.7152181121961338, 0.08532426601638089, 0.9869952575413579, 0.3593250171321944, 0.6369852576434355, 0.998205973755657, 0.970352901955712, 0.9969543165289798, 0.16652517868147207, 0.03568396686031544, 0.14597986442856317, 0.09948257427724305, 0.1827451636179791, 0.001081332329100468, 0.05622928111322433, 0.04433462549311919, 0.14922386141586458, 0.002162664658200936, 0.015138652607406551, 0.004325329316401872, 0.0908319156444393, 0.00540666164550234, 0.04982876257345297, 0.8394230002758616, 0.019164908682097297, 0.007665963472838919, 0.04599578083703351, 0.026830872154936215, 0.19207440840723183, 0.004924984830954663, 0.004924984830954663, 0.012312462077386656, 0.1255871131893439, 0.49988596034189825, 0.12066212835838923, 0.027087416570250645, 0.014774954492863987, 0.03071343292407273, 0.06581449912301299, 0.8775266549735066, 0.021938166374337664, 0.21652004088449614, 0.5391773567123728, 0.07429609246036632, 0.16981963990940874, 0.9693368389502106, 0.6317709055089318, 0.002339892242625673, 0.1251842349804735, 0.18368154104611534, 0.031588545275446585, 0.016379245698379712, 0.0011699461213128366, 0.008189622849189856, 0.9694949948584766, 0.006116123709606211, 0.12843859790173043, 0.09479991749889627, 0.0519870515316528, 0.08256767007968385, 0.20183208241700498, 0.012232247419212422, 0.42201253596282856, 0.127649399544134, 0.045052729250870824, 0.1051230349186986, 0.022526364625435412, 0.6908085151800193, 0.5095635270682708, 0.040765082165461666, 0.4280333627373475, 0.010191270541365417, 0.9849364330707034, 0.05712149665376369, 0.6080265977145068, 0.14597715811517387, 0.04442783073070509, 0.025387331846117196, 0.005077466369223439, 0.017771132292282037, 0.017771132292282037, 0.005077466369223439, 0.005077466369223439, 0.0660070627999047, 0.0025387331846117196, 0.8932901764019087, 0.057262190794994144, 0.011452438158998829, 0.008589328619249121, 0.022904876317997657, 0.005726219079499414, 0.9841920502999298, 0.9982907448331295, 0.9899030830374694, 0.9883557928961106, 0.11092063324131206, 0.8873650659304965, 0.036877417179748684, 0.3826032032398926, 0.013829031442405756, 0.17977740875127485, 0.37799352609242404, 0.9901853475919649, 0.9907990867278911, 0.9539402280195671, 0.0076023500337679024, 0.09883055043898274, 0.7602350033767903, 0.10643290047275064, 0.03040940013507161, 0.007909819826212427, 0.1779709460897796, 0.01186472973931864, 0.7949368925343488, 0.9868949448581338, 0.9901565987340618, 0.2266117681567421, 0.7553725605224737, 0.9626100028952879, 0.025002857218059425, 0.1488457787859367, 0.18140579289536035, 0.2093143764177235, 0.08372575056708939, 0.11628576467651304, 0.26048011287538925, 0.9975336828371488, 0.18993487892501743, 0.5824669620367201, 0.037986975785003485, 0.04009736332861479, 0.00422077508722261, 0.010551937718056523, 0.0907466643752861, 0.04220775087222609, 0.9719530968197149, 0.9941497740612122, 0.985955609673029, 0.1542538088215544, 0.1821051909698906, 0.11997518463898675, 0.02785138214833621, 0.029993796159746688, 0.010712070057052388, 0.38777693606529645, 0.04713310825103051, 0.014996898079873344, 0.0192817261026943, 0.9941144658397901, 0.9717821823422074, 0.20838112197733036, 0.7814292074149888, 0.9814325844436813, 0.9870713016496405, 0.9862350624255685, 0.06732371501212055, 0.05276723609058097, 0.20197114503636165, 0.09279755312481482, 0.03275207757346405, 0.12554963069827887, 0.12373007083308642, 0.0964366728551997, 0.034571637438656495, 0.016376038786732026, 0.005458679595577342, 0.14920390894578067, 0.9918790590035629, 0.9900152170770806, 0.9826954707014226, 0.9754864792294453, 0.9792457563895769, 0.9848013524028816, 0.6545975345913748, 0.3262662790707799, 0.0165198115985205, 0.0010324882249075312, 0.0010324882249075312, 0.9460731282248428, 0.04893481697714704, 0.9289183990417798, 0.06940194935369619, 0.971202013294206, 0.5038646505675884, 0.002597240466843239, 0.20907785758088077, 0.12142099182492144, 0.07726790388858637, 0.03376412606896211, 0.0006493101167108098, 0.022725854084878344, 0.029218955251986443, 0.0303019175853156, 0.09999632803154147, 0.17272093023629892, 0.12423786209979396, 0.036362301102378716, 0.0606038351706312, 0.06969441044622587, 0.051513259895036516, 0.3181701346458138, 0.036362301102378716, 0.21483144124468373, 0.10333664262402507, 0.46773427714032406, 0.016316311993267118, 0.008158155996633559, 0.18763758792257185, 0.15599888625348374, 0.48768583857885206, 0.013630970643508288, 0.056038434867756295, 0.028776493580739717, 0.09087313762338858, 0.1196496312041283, 0.03483470275563229, 0.012116418349785144, 0.07451472827107009, 0.055886046203302564, 0.09780058085577949, 0.14437228602519828, 0.14437228602519828, 0.03725736413553504, 0.055886046203302564, 0.38188798238923416, 0.2088293842892775, 0.7871261407826613, 0.019556600848667224, 0.0578549441773072, 0.04155777680341785, 0.8482675618109409, 0.02363089269213956, 0.008148583686944677, 0.9947974493302244, 0.955093774290974, 0.983238948782615, 0.07417820771981645, 0.9086830445677515, 0.06850175382461887, 0.15412894610539243, 0.08848143202346603, 0.08562719228077358, 0.09989839099423585, 0.057084794853849055, 0.022833917941539623, 0.19123406276039434, 0.05137631536846415, 0.08848143202346603, 0.08562719228077358, 0.9250334042576106, 0.1268473068826417, 0.8562193214578315, 0.10115175863345253, 0.031942660621090274, 0.8624518367694374, 0.985729411106185, 0.960958899795031, 0.030668901057288225, 0.9733930682356259, 0.16691038375860895, 0.059114094247840664, 0.012750098759338182, 0.02781839729310149, 0.1530011851120582, 0.013909198646550745, 0.10200079007470546, 0.45204895601289924, 0.011590998872125622, 0.015983895913012084, 0.04262372243469889, 0.33566181417325375, 0.04084773399991977, 0.07103953739116482, 0.4777408889555834, 0.014207907478232964, 0.5145587381801867, 0.09271328615859219, 0.04172097877136648, 0.013906992923788828, 0.03708531446343687, 0.009271328615859218, 0.03708531446343687, 0.018542657231718437, 0.22714755108855086, 0.9969206570953414, 0.9837558810680733, 0.9929992042651496, 0.9927646520831708, 0.9985378891190776, 0.0905553764649828, 0.8926172822976876, 0.9799168405125661, 0.9705457281221205, 0.36814722947572076, 0.012517005802174507, 0.23635052132341275, 0.1008723408763475, 0.1487314807081912, 0.0014725889179028832, 0.011044416884271624, 0.07362944589514415, 0.005154061212660091, 0.0036814722947572077, 0.02945177835805766, 0.007362944589514415, 0.17212608980606028, 0.822380206851177, 0.994721046871051, 0.9252627096433239, 0.012336836128577652, 0.012336836128577652, 0.03701050838573296, 0.07514436172813344, 0.8497093210796627, 0.06936402621058471, 0.17941376686243032, 0.7657123264307294, 0.04485344171560758, 0.006407634530801083, 0.22301309912438563, 0.11535160299537188, 0.274921320472303, 0.184562564792595, 0.011535160299537188, 0.18648509150918455, 0.0019225267165895313, 0.29460533315050064, 0.4671219696800731, 0.015924612602729763, 0.030522174155232045, 0.022559867853867165, 0.0013270510502274803, 0.0013270510502274803, 0.030522174155232045, 0.05042793990864425, 0.026541021004549605, 0.0013270510502274803, 0.003981153150682441, 0.04644678675796181, 0.003981153150682441, 0.9663128274073873, 0.09588570681991704, 0.8949332636525591, 0.9964492899094632, 0.049966450310684, 0.5424928890874263, 0.36404128083498344, 0.04282838598058629, 0.9890734197663168, 0.35301371493560596, 0.024527007489322496, 0.2733009405953078, 0.12175907289342239, 0.09635610085090981, 0.018395255616991874, 0.004379822765950446, 0.03766647578717383, 0.05868962506373598, 0.0008759645531900891, 0.0008759645531900891, 0.00963561008509098, 0.5271639404558821, 0.019524590387254893, 0.42954098851960765, 0.17699269761653658, 0.8120841420052854, 0.9704246682280846, 0.9773196444333516, 0.01320702222207232, 0.9894619634886647, 0.9817593502366141, 0.9840271054062375, 0.01591145500951999, 0.9705987555807194, 0.9503067247220627, 0.04131768368356794, 0.987737384678313, 0.13270837155845913, 0.23663661434520425, 0.010126341604862345, 0.3560208522130551, 0.04423612385281971, 0.16095553498254883, 0.015988960428730017, 0.006395584171492007, 0.03677460898607904, 0.44874883170279656, 0.016191968154224617, 0.24133743010820502, 0.0871282095917801, 0.1372462062596182, 0.0015420922051642494, 0.0015420922051642494, 0.04163648953943473, 0.02004719866713524, 0.002313138307746374, 0.0007710461025821247, 0.8519555310574574, 0.1465729945905303, 0.08638776773313557, 0.2807602451326906, 0.6263113160652328, 0.1275736842453561, 0.5438667591512548, 0.02685761773586444, 0.2987909973114919, 0.9800725215033135, 0.9781328581057799, 0.9673370668795435, 0.9766150446098512, 0.005388220935778489, 0.01751171804128009, 0.9965213288586854, 0.1423727933710722, 0.08898299585692013, 0.7652537643695131, 0.9800634954397194, 0.07821346409113927, 0.07169567541687766, 0.09776683011392409, 0.7495456975400847, 0.0021725962247538685, 0.9874070576080788, 0.9838100626108287, 0.9707075779276823, 0.9710479066288444, 0.06444308452233267, 0.15343591552936353, 0.20253540849875987, 0.07364923945409449, 0.1565046338399508, 0.08899283100703084, 0.10126770424937993, 0.027618464795285434, 0.1258174507340781, 0.9862618735915315, 0.04233199296852936, 0.04317863282789995, 0.02709247549985879, 0.8559528978236637, 0.002539919578111762, 0.004233199296852936, 0.01523951746867057, 0.007619758734335285, 0.9893440399695415, 0.9588063737350364, 0.8870023802882391, 0.03273071513978742, 0.04582300119570239, 0.03273071513978742, 0.5054069677398622, 0.3138080148056931, 0.10253133157017695, 0.06214020095162239, 0.0010356700158603732, 0.006214020095162239, 0.0020713400317207463, 0.006214020095162239, 0.6571280265170109, 0.01996338308406109, 0.16885694858601671, 0.05656291873817309, 0.03826315091111709, 0.005822653399517818, 0.013308922056040727, 0.0008318076285025454, 0.007486268656522909, 0.03244049751159927, 0.5866316755599275, 0.14623183545334623, 0.060674281376912886, 0.18815844561829165, 0.017384204214733467, 0.001022600247925498, 0.09749894465508334, 0.023780230403678864, 0.05945057600919716, 0.04993848384772561, 0.2663385805212033, 0.0689626681706687, 0.17121765890648782, 0.007134069121103659, 0.021402207363310978, 0.030914299524782522, 0.1926198662697988, 0.011890115201839432, 0.9394724074888992, 0.9790756143753682, 0.9405845546930806, 0.9950949718610029, 0.36125287982452386, 0.03828306048236765, 0.2206496395074645, 0.09501159556078519, 0.12389790483384441, 0.013573085080112169, 0.045939672578841184, 0.038631088304934634, 0.005220417338504681, 0.03723897701466672, 0.005220417338504681, 0.0006960556451339574, 0.006264500806205616, 0.00800463991904051, 0.9787846067480822, 0.9905021215944187, 0.9790614419212387, 0.019525774587020744, 0.007810309834808298, 0.023430929504424894, 0.03514639425663734, 0.7107381949675551, 0.09372371801769958, 0.07419794343067883, 0.03514639425663734, 0.6238477212290172, 0.37150482275435853, 0.9746079005661217, 0.30002052411319163, 0.2494356683034093, 0.06628360416454233, 0.059306382673537876, 0.2895546918766849, 0.03314180208227117, 0.14834926886914043, 0.3719802562688894, 0.002214168192076723, 0.10628007321968269, 0.26570018304920673, 0.037640859265304284, 0.06642504576230168, 0.9885637893524661, 0.9761937042527896, 0.7379741187694819, 0.01604291562542352, 0.2406437343813528, 0.9810390938801736, 0.9754544719696426, 0.9857046045120115, 0.9794308045299971, 0.9522996030972828, 0.8640628077654506, 0.07727390963756062, 0.056199207009135, 0.1279614437438908, 0.14075758811827987, 0.7293802293401774, 0.9669825792978647, 0.15603196778721554, 0.8113662324935208, 0.985176132240876, 0.008492897691731689, 0.7680544660854315, 0.0010652627823653695, 0.0010652627823653695, 0.06924208085374901, 0.04154524851224941, 0.013848416170749804, 0.05965471581246069, 0.015978941735480545, 0.011717890606019065, 0.018109467300211284, 0.9754732434205581, 0.986630504822588, 0.012150621980573742, 0.9957540463564871, 0.8880407125644869, 0.10981148596227527, 0.9283602649767252, 0.06594908986173457, 0.2261464665574865, 0.5622252432470844, 0.14134154159842907, 0.025127385173054056, 0.003140923146631757, 0.015704615733158785, 0.003140923146631757, 0.01884553887979054, 0.11488862816013622, 0.21419913724771159, 0.16941204491409917, 0.18499016398666, 0.02920897326105158, 0.007789059536280421, 0.050628886985822734, 0.0019472648840701053, 0.1830428991025899, 0.04283982744954232, 0.9899796298114866, 0.9773728664444227, 0.39072409513642964, 0.09472099276034658, 0.5091253360868628, 0.9844869228672912, 0.9621369331294993, 0.9916443494601029, 0.9718963345874163, 0.03734659071053521, 0.3849571657855168, 0.07469318142107043, 0.08905725477127627, 0.4108124978158873, 0.150007200378687, 0.019880472339344063, 0.043375576013114314, 0.5783410135081909, 0.06687067968688458, 0.05964141701803219, 0.0018073156672130965, 0.03072436634262264, 0.0018073156672130965, 0.048797523014753603, 0.878596008555515, 0.11019678751374255, 0.008934874663276424, 0.04868668427263557, 0.9250470011800758, 0.14086972091261046, 0.035217430228152616, 0.7747834650193576, 0.9522197327639969, 0.03902539888377036, 0.970344890142955, 0.9712590311408117, 0.21821673350853746, 0.1694834679607251, 0.17814715961366953, 0.19764046583279446, 0.0021659229132361037, 0.030864401513614477, 0.07851470560480876, 0.05793843792906577, 0.004873326554781233, 0.0043318458264722075, 0.005956288011399285, 0.05198214991766649, 0.0010829614566180519, 0.8605835699972788, 0.011118650775158641, 0.017789841240253824, 0.0800542855811422, 0.011118650775158641, 0.017789841240253824, 0.7497774522844002, 0.019956053863082895, 0.17960448476774604, 0.0484647022389156, 0.08067730300369305, 0.26680125642449365, 0.05236947738836215, 0.355970907112786, 0.0332616950980138, 0.0870465637671425, 0.05803104251142833, 0.05449256430951197, 0.0007076956403832724, 0.009907738965365813, 0.9902958047888861, 0.972848384348489, 0.9797939107817232, 0.11884591238629796, 0.18675786232132538, 0.6960974868340309, 0.9931341068365869, 0.9936105129720675, 0.0659207232661421, 0.7262645201218069, 0.20685468335237692, 0.9917391387756656, 0.0825665959884984, 0.8967649730973021, 0.018348132441888536, 0.002293516555236067, 0.9919812116490241, 0.9802750263522145, 0.011793582188969547, 0.9788673216844724, 0.9862775076880038, 0.014720559816238862, 0.9804795191851307, 0.9960797160006954, 0.9557661272708573, 0.9608801482823519, 0.9673517044230608, 0.9896564926323171, 0.4406497922542825, 0.06027480558059907, 0.19603941620874454, 0.1808244167417972, 0.038037498667368344, 0.029844806646704393, 0.025163268349182134, 0.01580019175413762, 0.009948268882234797, 0.0023407691487611288, 0.955711641060508, 0.9936960839373304, 0.974013379487723, 0.02474154449718388, 0.15669644848216457, 0.5140743134414874, 0.06047933099311616, 0.03023966549655808, 0.10721335948779682, 0.10721335948779682, 0.12396305318026188, 0.35989273503946995, 0.015995232668420886, 0.4998510208881527, 0.9803617722001419, 0.9726697504544113, 0.9506746157321324, 0.04133367894487532, 0.06353066668926084, 0.7399454120278616, 0.17564360790560352, 0.014948392162179022, 0.029663255865882546, 0.9492241877082415, 0.37216124877561557, 0.035344923068075226, 0.18545689045131236, 0.06902655563882926, 0.16217082348881573, 0.019959485967854244, 0.0045740488676332645, 0.041582262433029676, 0.07193731400914134, 0.0058215167406241546, 0.0029107583703120773, 0.029107583703120773, 0.03045255591527157, 0.3833439391687127, 0.010747960911272319, 0.11643624320545011, 0.3797612855316219, 0.04478317046363466, 0.003582653637090773, 0.028661229096726182, 0.9903692854446141, 0.7487884076871013, 0.02355738810700993, 0.043749435055875585, 0.07908551721639048, 0.018509376369793516, 0.05552812910938055, 0.013461364632577104, 0.003365341158144276, 0.015144035211649242, 0.9818504110505851, 0.2935943358464434, 0.03387626952074347, 0.029641735830650533, 0.6408260984340639, 0.1816379459245405, 0.7993743703130699, 0.0050222473527522715, 0.01339265960733939, 0.8839312667386946, 0.10739351838881336, 0.20829166617289596, 0.7776222203788116, 0.9862081696674595, 0.03405637605446882, 0.10216912816340645, 0.07378881478468244, 0.7832966492527829, 0.9669272087298537, 0.02014431684853862, 0.028221811875386468, 0.9689488743882687, 0.2096895174648977, 0.10734106251179287, 0.12980779652588906, 0.01747412645540814, 0.07239280960097659, 0.1597634418780173, 0.07988172093900865, 0.08237802471835266, 0.014977822676064121, 0.019970430234752163, 0.004992607558688041, 0.09985215117376081, 0.9848865626800918, 0.9821306197831153, 0.15994037507699688, 0.06283371878024878, 0.09996273442312305, 0.4941015158628654, 0.13423567193962238, 0.045697250021999106, 0.9709452498610269, 0.8368848119794782, 0.019074297708933974, 0.026227159349784215, 0.05483860591318518, 0.02384287213616747, 0.014305723281700482, 0.02384287213616747, 0.20662888243166294, 0.11208051501596263, 0.19786280863153177, 0.2936634723043937, 0.06261481285807968, 0.06950244227246845, 0.012522962571615935, 0.016279851343100716, 0.0006261481285807968, 0.0006261481285807968, 0.010018370057292749, 0.01565370321451992, 0.9861198881817845, 0.5344409539411952, 0.036502972335738376, 0.026207262189760883, 0.10763696970794649, 0.02807920948902952, 0.045862708832081545, 0.10950891700721511, 0.01029571014597749, 0.03369505138683542, 0.03088713043793247, 0.036502972335738376, 0.5071569260505496, 0.004229127135178032, 0.11486309299143535, 0.1607068311367652, 0.08999582543658852, 0.0020299810248854554, 0.03806214421660229, 0.017931499053154856, 0.055824478184350025, 0.0033833017081424254, 0.0037216318789566683, 0.00016916508540712127, 0.0021991461102925766, 0.9685742099607627, 0.170622641388951, 0.25261014439403134, 0.02437466305556443, 0.1506797352525801, 0.004431756919193532, 0.02215878459596766, 0.07533986762629005, 0.29914359204556346, 0.7118384000851558, 0.10975481939638965, 0.0925076334912427, 0.04390192775855586, 0.01881511189652394, 0.020383037887900933, 0.001567925991376995, 0.9828388839919147, 0.9577468378863209, 0.027364195368180595, 0.9853807006230625, 0.9581108687993309, 0.9727320168707919, 0.986365339535545, 0.9710271697622673, 0.9804316766174087, 0.9409286738355152, 0.9839909794512579, 0.07512690190864511, 0.5792494773330115, 0.10040324273772198, 0.044935717029469975, 0.028786943722004205, 0.05055268165815372, 0.08846719290176902, 0.01263817041453843, 0.020361496778978583, 0.1897085096708978, 0.16282068940258157, 0.19194916135992415, 0.17925213512210816, 0.08589164807934349, 0.11502012003668607, 0.035850427024421636, 0.01120325844513176, 0.006721955067079056, 0.01643144571952658, 0.0044813033780527044, 0.9793756167351593, 0.9618292273113175, 0.14650613878491636, 0.830201453114526, 0.04213434224283956, 0.22752544811133363, 0.04213434224283956, 0.2190985796627657, 0.15168363207422242, 0.05056121069140747, 0.00842686844856791, 0.03370747379427164, 0.2190985796627657, 0.9679044160592349], \"Term\": [\"abort\", \"absolute\", \"absolute\", \"accelerators\", \"accidents\", \"acid\", \"acid\", \"acids\", \"adaptec\", \"adapter\", \"administration\", \"administration\", \"administration\", \"administration\", \"adobe\", \"adobe\", \"advance\", \"advance\", \"advance\", \"advance\", \"advance\", \"advance\", \"affair\", \"aged\", \"agencies\", \"agencies\", \"agency\", \"agency\", \"agency\", \"agency\", \"agency\", \"agent\", \"agent\", \"agent\", \"agent\", \"agent\", \"agree\", \"agree\", \"agree\", \"agree\", \"aids\", \"aircraft\", \"aircraft\", \"algorithm\", \"algorithm\", \"algorithm\", \"allah\", \"alomar\", \"also\", \"also\", \"also\", \"also\", \"also\", \"also\", \"also\", \"also\", \"also\", \"also\", \"also\", \"also\", \"also\", \"aluminum\", \"aluminum\", \"amendment\", \"american\", \"american\", \"american\", \"american\", \"american\", \"american\", \"american\", \"american\", \"amino\", \"among\", \"among\", \"among\", \"among\", \"among\", \"among\", \"among\", \"amongst\", \"amplifier\", \"amps\", \"amps\", \"analog\", \"analog\", \"analog\", \"analogy\", \"anecdotal\", \"ankara\", \"anonymity\", \"anonymous\", \"anonymous\", \"ansi\", \"anyone\", \"anyone\", \"anyone\", \"anyone\", \"anyone\", \"anyone\", \"anyone\", \"anyone\", \"anyone\", \"apartment\", \"apostles\", \"appears\", \"appears\", \"appears\", \"appears\", \"appears\", \"appears\", \"appears\", \"appears\", \"appears\", \"apple\", \"apple\", \"apple\", \"application\", \"application\", \"application\", \"application\", \"appreciated\", \"appreciated\", \"appreciated\", \"april\", \"april\", \"april\", \"april\", \"april\", \"april\", \"april\", \"april\", \"april\", \"april\", \"arab\", \"arabs\", \"archive\", \"archive\", \"archive\", \"argc\", \"argc\", \"argentine\", \"argic\", \"args\", \"arguing\", \"argument\", \"argument\", \"argument\", \"argument\", \"argv\", \"argv\", \"armada\", \"armenia\", \"armenia\", \"armenian\", \"armenians\", \"arms\", \"arms\", \"arms\", \"arms\", \"army\", \"army\", \"army\", \"army\", \"army\", \"around\", \"around\", \"around\", \"around\", \"around\", \"around\", \"around\", \"around\", \"around\", \"around\", \"around\", \"asking\", \"asking\", \"asking\", \"asking\", \"asking\", \"asking\", \"aspi\", \"astros\", \"atheism\", \"atheist\", \"atheists\", \"athens\", \"austria\", \"auth\", \"automobile\", \"autos\", \"autos\", \"available\", \"available\", \"available\", \"available\", \"available\", \"available\", \"available\", \"available\", \"avenue\", \"avenue\", \"average\", \"average\", \"average\", \"average\", \"average\", \"average\", \"azerbaijan\", \"azerbaijani\", \"azerbaijanis\", \"azeri\", \"azeris\", \"babies\", \"back\", \"back\", \"back\", \"back\", \"back\", \"back\", \"back\", \"back\", \"back\", \"back\", \"back\", \"back\", \"backup\", \"backup\", \"backup\", \"backup\", \"baerga\", \"baerga\", \"baku\", \"balloon\", \"bank\", \"bank\", \"bank\", \"bank\", \"banks\", \"banks\", \"banks\", \"baptism\", \"baseball\", \"based\", \"based\", \"based\", \"based\", \"based\", \"based\", \"based\", \"based\", \"based\", \"bassel\", \"batf\", \"batf\", \"batteries\", \"bayonet\", \"beef\", \"beings\", \"belief\", \"belief\", \"beliefs\", \"beliefs\", \"believe\", \"believe\", \"believe\", \"believe\", \"believe\", \"believe\", \"believe\", \"believer\", \"believing\", \"best\", \"best\", \"best\", \"best\", \"best\", \"best\", \"best\", \"best\", \"best\", \"best\", \"best\", \"best\", \"better\", \"better\", \"better\", \"better\", \"better\", \"better\", \"better\", \"better\", \"better\", \"bhjn\", \"bible\", \"bible\", \"bike\", \"bikes\", \"bill\", \"bill\", \"bill\", \"bill\", \"bill\", \"bill\", \"bill\", \"bill\", \"bill\", \"bill\", \"bills\", \"binaries\", \"biological\", \"bishop\", \"blah\", \"board\", \"board\", \"board\", \"board\", \"board\", \"board\", \"board\", \"body\", \"body\", \"body\", \"body\", \"body\", \"body\", \"body\", \"body\", \"body\", \"bolsheviks\", \"bolt\", \"book\", \"book\", \"book\", \"book\", \"book\", \"book\", \"book\", \"book\", \"book\", \"book\", \"book\", \"book\", \"borland\", \"bounced\", \"brad\", \"brain\", \"brain\", \"brain\", \"brain\", \"brain\", \"brain\", \"brake\", \"brand\", \"brand\", \"brand\", \"braves\", \"breaker\", \"brilliant\", \"bronx\", \"bruins\", \"buffalo\", \"buffalo\", \"build\", \"build\", \"build\", \"build\", \"build\", \"build\", \"build\", \"build\", \"bullets\", \"bullets\", \"burnt\", \"burt\", \"buyer\", \"buyer\", \"bxlt\", \"bxom\", \"bytes\", \"bytes\", \"cable\", \"cable\", \"cable\", \"cable\", \"cache\", \"cadre\", \"calgary\", \"calgary\", \"came\", \"came\", \"came\", \"came\", \"came\", \"came\", \"came\", \"came\", \"cancer\", \"candida\", \"card\", \"card\", \"card\", \"career\", \"career\", \"carried\", \"carried\", \"carried\", \"carried\", \"carried\", \"carry\", \"carry\", \"carry\", \"carry\", \"carry\", \"carry\", \"carry\", \"cars\", \"cars\", \"carson\", \"cartel\", \"case\", \"case\", \"case\", \"case\", \"case\", \"case\", \"case\", \"case\", \"case\", \"case\", \"case\", \"case\", \"case\", \"case\", \"cassette\", \"catbyte\", \"categories\", \"catholic\", \"catholic\", \"center\", \"center\", \"center\", \"center\", \"center\", \"center\", \"center\", \"center\", \"centris\", \"cents\", \"ceremonial\", \"certainly\", \"certainly\", \"certainly\", \"champs\", \"chancellor\", \"channel\", \"channel\", \"channel\", \"char\", \"chastity\", \"check\", \"check\", \"check\", \"check\", \"check\", \"check\", \"check\", \"check\", \"check\", \"check\", \"chelios\", \"chicago\", \"chicago\", \"chicago\", \"chicago\", \"children\", \"children\", \"children\", \"children\", \"children\", \"chinese\", \"chinese\", \"chip\", \"chip\", \"chipset\", \"christ\", \"christ\", \"christian\", \"christian\", \"christian\", \"christianity\", \"christians\", \"chronic\", \"chronic\", \"chrysler\", \"church\", \"church\", \"chzd\", \"chzv\", \"cigarettes\", \"cincinnati\", \"ciphertext\", \"circuit\", \"circuit\", \"circuit\", \"circuit\", \"circuits\", \"citizen\", \"citizen\", \"citizens\", \"citizens\", \"citizens\", \"civil\", \"civil\", \"civil\", \"civil\", \"claim\", \"claim\", \"claiming\", \"classified\", \"click\", \"client\", \"clients\", \"clinic\", \"clinical\", \"clip\", \"clipper\", \"clubbing\", \"cmos\", \"coach\", \"code\", \"code\", \"code\", \"code\", \"code\", \"code\", \"coli\", \"colony\", \"colour\", \"colour\", \"cols\", \"column\", \"column\", \"comics\", \"comments\", \"comments\", \"comments\", \"comments\", \"comments\", \"comments\", \"comments\", \"communications\", \"communications\", \"communications\", \"communications\", \"communications\", \"community\", \"community\", \"community\", \"community\", \"community\", \"comp\", \"comp\", \"compass\", \"compiled\", \"components\", \"components\", \"components\", \"components\", \"compound\", \"compound\", \"computer\", \"computer\", \"computer\", \"computer\", \"computer\", \"concealed\", \"conclusion\", \"conclusion\", \"condition\", \"condition\", \"condition\", \"condition\", \"condition\", \"conductor\", \"conductor\", \"confirmation\", \"congress\", \"congress\", \"congress\", \"congress\", \"connector\", \"constant\", \"constant\", \"constant\", \"constant\", \"constitution\", \"constitution\", \"constitutional\", \"contest\", \"contests\", \"contracts\", \"contrib\", \"control\", \"control\", \"control\", \"control\", \"control\", \"control\", \"control\", \"control\", \"control\", \"control\", \"control\", \"control\", \"controller\", \"controller\", \"cooling\", \"cooling\", \"copies\", \"copies\", \"copies\", \"copies\", \"copies\", \"copies\", \"copper\", \"coprocessor\", \"corn\", \"corp\", \"corp\", \"corp\", \"corp\", \"corp\", \"could\", \"could\", \"could\", \"could\", \"could\", \"could\", \"could\", \"could\", \"could\", \"could\", \"could\", \"could\", \"country\", \"country\", \"country\", \"country\", \"country\", \"court\", \"court\", \"court\", \"court\", \"courts\", \"courts\", \"cover\", \"cover\", \"cover\", \"cover\", \"cover\", \"cover\", \"cover\", \"cover\", \"cover\", \"crack\", \"crack\", \"creed\", \"crime\", \"crime\", \"crimes\", \"crimes\", \"criminal\", \"criminal\", \"criminal\", \"criminals\", \"criminals\", \"crypto\", \"crypto\", \"ctrl\", \"cult\", \"cult\", \"current\", \"current\", \"current\", \"current\", \"current\", \"current\", \"current\", \"current\", \"current\", \"current\", \"current\", \"current\", \"cursor\", \"cview\", \"cylinder\", \"cyprus\", \"cyprus\", \"czech\", \"data\", \"data\", \"data\", \"data\", \"data\", \"data\", \"database\", \"david\", \"david\", \"david\", \"david\", \"david\", \"david\", \"david\", \"david\", \"david\", \"david\", \"david\", \"david\", \"davidians\", \"dawn\", \"dayton\", \"deaf\", \"death\", \"death\", \"death\", \"death\", \"death\", \"death\", \"debugger\", \"deck\", \"deck\", \"deck\", \"defense\", \"defense\", \"defense\", \"defense\", \"defense\", \"defense\", \"defensive\", \"define\", \"define\", \"define\", \"deletion\", \"denning\", \"department\", \"department\", \"department\", \"department\", \"department\", \"department\", \"department\", \"department\", \"department\", \"dept\", \"dept\", \"dept\", \"dept\", \"dept\", \"designed\", \"designed\", \"designed\", \"designed\", \"designed\", \"designed\", \"designed\", \"designed\", \"detector\", \"detectors\", \"devils\", \"diagnosed\", \"diamond\", \"died\", \"died\", \"died\", \"died\", \"died\", \"diet\", \"diet\", \"diet\", \"diff\", \"directory\", \"directory\", \"disc\", \"disciples\", \"disease\", \"diseases\", \"disk\", \"disk\", \"disk\", \"disks\", \"disks\", \"disks\", \"displayed\", \"displays\", \"displays\", \"distance\", \"distance\", \"distance\", \"distance\", \"division\", \"division\", \"division\", \"division\", \"division\", \"division\", \"division\", \"doctor\", \"doctor\", \"doctor\", \"doctor\", \"doctor\", \"doctrine\", \"doctrine\", \"dortmund\", \"double\", \"double\", \"double\", \"double\", \"double\", \"double\", \"double\", \"double\", \"dram\", \"drill\", \"drive\", \"drive\", \"drive\", \"drive\", \"driver\", \"driver\", \"driver\", \"driver\", \"drivers\", \"drivers\", \"drivers\", \"drives\", \"drives\", \"driving\", \"driving\", \"driving\", \"driving\", \"drugs\", \"drugs\", \"dtmedin\", \"dual\", \"dual\", \"dual\", \"dual\", \"earth\", \"earth\", \"earth\", \"easter\", \"easter\", \"echo\", \"echo\", \"echo\", \"economics\", \"education\", \"education\", \"education\", \"education\", \"eisa\", \"electrical\", \"electrical\", \"electrical\", \"electrical\", \"elias\", \"emacs\", \"email\", \"email\", \"email\", \"email\", \"email\", \"email\", \"empirical\", \"encrypting\", \"encryption\", \"encryption\", \"ending\", \"ending\", \"enforcement\", \"enforcement\", \"engine\", \"enough\", \"enough\", \"enough\", \"enough\", \"enough\", \"enough\", \"enough\", \"enough\", \"enough\", \"enough\", \"entries\", \"entry\", \"entry\", \"entry\", \"eqtm\", \"eric\", \"eric\", \"eric\", \"eric\", \"eric\", \"eric\", \"eric\", \"eric\", \"eric\", \"error\", \"error\", \"error\", \"error\", \"error\", \"error\", \"error\", \"errors\", \"errors\", \"errors\", \"escrow\", \"espn\", \"ethernet\", \"even\", \"even\", \"even\", \"even\", \"even\", \"even\", \"even\", \"even\", \"even\", \"even\", \"even\", \"even\", \"evidence\", \"evidence\", \"evidence\", \"evidence\", \"examination\", \"excellent\", \"excellent\", \"excellent\", \"excellent\", \"excellent\", \"excellent\", \"excellent\", \"excellent\", \"excellent\", \"excellent\", \"excellent\", \"excited\", \"exhaust\", \"exhaust\", \"exist\", \"exist\", \"exist\", \"exist\", \"exist\", \"existence\", \"existence\", \"exit\", \"exit\", \"explain\", \"explain\", \"explain\", \"exploration\", \"expn\", \"export\", \"expos\", \"expression\", \"expression\", \"expression\", \"exterior\", \"fact\", \"fact\", \"fact\", \"fact\", \"fact\", \"fact\", \"fact\", \"fact\", \"fact\", \"fact\", \"faith\", \"faith\", \"falklands\", \"fallacy\", \"fans\", \"father\", \"father\", \"father\", \"father\", \"federal\", \"federal\", \"fever\", \"fighters\", \"fijh\", \"file\", \"file\", \"file\", \"file\", \"filename\", \"files\", \"files\", \"files\", \"filters\", \"finals\", \"financial\", \"find\", \"find\", \"find\", \"find\", \"find\", \"find\", \"find\", \"find\", \"find\", \"find\", \"find\", \"fire\", \"fire\", \"fire\", \"fire\", \"firearm\", \"firearms\", \"fired\", \"fired\", \"fired\", \"first\", \"first\", \"first\", \"first\", \"first\", \"first\", \"first\", \"first\", \"first\", \"first\", \"first\", \"first\", \"first\", \"first\", \"first\", \"flames\", \"flames\", \"flames\", \"flames\", \"fleet\", \"fleury\", \"flight\", \"flight\", \"flight\", \"flight\", \"flight\", \"floppies\", \"floppy\", \"floppy\", \"floppy\", \"flyers\", \"flyers\", \"following\", \"following\", \"following\", \"following\", \"following\", \"following\", \"following\", \"following\", \"following\", \"following\", \"following\", \"following\", \"following\", \"following\", \"font\", \"font\", \"food\", \"food\", \"food\", \"food\", \"food\", \"foods\", \"ford\", \"ford\", \"format\", \"format\", \"format\", \"formats\", \"formats\", \"forming\", \"forsale\", \"forty\", \"fprintf\", \"fractal\", \"france\", \"france\", \"france\", \"francis\", \"friday\", \"friday\", \"friday\", \"friday\", \"friday\", \"front\", \"front\", \"front\", \"fusion\", \"game\", \"game\", \"game\", \"games\", \"games\", \"games\", \"garage\", \"gateway\", \"gateway\", \"gear\", \"gear\", \"genes\", \"genetic\", \"genocide\", \"geoffrey\", \"gerard\", \"germany\", \"germany\", \"germany\", \"germany\", \"germany\", \"gfci\", \"ghost\", \"gizw\", \"gizwt\", \"glutamate\", \"goal\", \"goal\", \"goal\", \"goal\", \"goal\", \"goal\", \"goal\", \"goals\", \"goals\", \"goals\", \"goals\", \"goals\", \"goaltender\", \"gods\", \"going\", \"going\", \"going\", \"going\", \"going\", \"going\", \"going\", \"golf\", \"gonorrhea\", \"good\", \"good\", \"good\", \"good\", \"good\", \"good\", \"good\", \"good\", \"good\", \"good\", \"good\", \"good\", \"goose\", \"gordon\", \"government\", \"government\", \"government\", \"grace\", \"grace\", \"graphics\", \"graphics\", \"great\", \"great\", \"great\", \"great\", \"great\", \"great\", \"great\", \"great\", \"great\", \"great\", \"great\", \"greece\", \"greek\", \"greek\", \"greeks\", \"greeks\", \"green\", \"green\", \"green\", \"green\", \"ground\", \"ground\", \"ground\", \"ground\", \"ground\", \"ground\", \"grounded\", \"grounded\", \"grounding\", \"guns\", \"guns\", \"handgun\", \"handguns\", \"handler\", \"hanged\", \"hard\", \"hard\", \"hard\", \"hard\", \"hard\", \"hard\", \"hard\", \"harley\", \"hartford\", \"hartford\", \"hawks\", \"health\", \"health\", \"heaven\", \"heaven\", \"heaven\", \"hello\", \"hello\", \"hello\", \"helmet\", \"help\", \"help\", \"help\", \"help\", \"help\", \"help\", \"help\", \"help\", \"help\", \"help\", \"help\", \"henrik\", \"hicnet\", \"hidden\", \"hidden\", \"hidden\", \"hidden\", \"hidden\", \"high\", \"high\", \"high\", \"high\", \"high\", \"high\", \"high\", \"high\", \"high\", \"high\", \"high\", \"high\", \"high\", \"high\", \"hills\", \"hitter\", \"hockey\", \"hole\", \"hole\", \"hole\", \"hole\", \"hole\", \"holy\", \"holy\", \"homeland\", \"homicide\", \"homicides\", \"homosexuality\", \"honda\", \"hong\", \"horizontal\", \"hotel\", \"hotel\", \"hotel\", \"hours\", \"hours\", \"hours\", \"hours\", \"hours\", \"hours\", \"hours\", \"hours\", \"hours\", \"hours\", \"hulk\", \"huntsville\", \"hypotheses\", \"icon\", \"ignorant\", \"iisi\", \"illegal\", \"illegal\", \"illness\", \"image\", \"image\", \"image\", \"image\", \"image\", \"images\", \"images\", \"images\", \"imake\", \"immune\", \"impedance\", \"imply\", \"imprisonment\", \"included\", \"included\", \"included\", \"included\", \"included\", \"included\", \"included\", \"included\", \"included\", \"included\", \"included\", \"included\", \"includes\", \"includes\", \"includes\", \"includes\", \"includes\", \"includes\", \"increased\", \"increased\", \"increased\", \"increased\", \"infection\", \"infection\", \"infections\", \"infections\", \"infections\", \"infectious\", \"inflated\", \"info\", \"info\", \"info\", \"info\", \"info\", \"info\", \"info\", \"information\", \"information\", \"information\", \"information\", \"information\", \"information\", \"information\", \"information\", \"information\", \"information\", \"ingr\", \"iniquity\", \"initiative\", \"input\", \"input\", \"input\", \"input\", \"input\", \"inputs\", \"insisting\", \"inspector\", \"installed\", \"installed\", \"installed\", \"insulation\", \"intake\", \"intellect\", \"interactive\", \"interested\", \"interested\", \"interested\", \"interested\", \"interested\", \"interested\", \"interested\", \"interested\", \"interested\", \"interested\", \"interested\", \"intergraph\", \"internet\", \"internet\", \"internet\", \"internet\", \"internet\", \"internet\", \"internet\", \"invading\", \"ioccc\", \"islam\", \"islam\", \"island\", \"island\", \"island\", \"islands\", \"islands\", \"israel\", \"israeli\", \"items\", \"items\", \"items\", \"items\", \"items\", \"items\", \"items\", \"items\", \"jagr\", \"jersey\", \"jersey\", \"jesus\", \"jesus\", \"jets\", \"jewish\", \"jewish\", \"jewish\", \"jewish\", \"jewish\", \"jews\", \"jews\", \"jobs\", \"john\", \"john\", \"john\", \"john\", \"john\", \"john\", \"john\", \"john\", \"john\", \"john\", \"john\", \"journalists\", \"joystick\", \"jpeg\", \"jpwu\", \"judas\", \"jumper\", \"jumper\", \"jumpers\", \"karabakh\", \"karina\", \"keller\", \"kent\", \"kent\", \"kent\", \"kevin\", \"kevin\", \"kevin\", \"kevin\", \"keyboard\", \"keyboards\", \"keys\", \"keys\", \"keys\", \"keys\", \"keys\", \"kidney\", \"killed\", \"killed\", \"killed\", \"kings\", \"kings\", \"kings\", \"kirlian\", \"kits\", \"kkeller\", \"know\", \"know\", \"know\", \"know\", \"know\", \"know\", \"know\", \"know\", \"know\", \"kong\", \"kong\", \"koresh\", \"landon\", \"lane\", \"last\", \"last\", \"last\", \"last\", \"last\", \"last\", \"last\", \"last\", \"last\", \"last\", \"last\", \"last\", \"last\", \"last\", \"last\", \"later\", \"later\", \"later\", \"later\", \"later\", \"later\", \"later\", \"later\", \"later\", \"later\", \"later\", \"launch\", \"launch\", \"launched\", \"launches\", \"laws\", \"laws\", \"lawyers\", \"leafs\", \"league\", \"league\", \"lebanon\", \"left\", \"left\", \"left\", \"left\", \"left\", \"left\", \"left\", \"left\", \"legal\", \"legal\", \"legal\", \"legal\", \"legal\", \"legally\", \"lemieux\", \"lemieux\", \"liar\", \"libertarians\", \"liberties\", \"libraries\", \"libraries\", \"libxmu\", \"life\", \"life\", \"life\", \"life\", \"life\", \"life\", \"life\", \"life\", \"light\", \"light\", \"light\", \"light\", \"light\", \"light\", \"light\", \"like\", \"like\", \"like\", \"like\", \"like\", \"like\", \"like\", \"like\", \"like\", \"like\", \"like\", \"like\", \"lindros\", \"lindros\", \"line\", \"line\", \"line\", \"line\", \"line\", \"line\", \"line\", \"line\", \"line\", \"line\", \"line\", \"list\", \"list\", \"list\", \"list\", \"list\", \"list\", \"list\", \"list\", \"list\", \"list\", \"list\", \"list\", \"list\", \"list\", \"little\", \"little\", \"little\", \"little\", \"little\", \"little\", \"little\", \"little\", \"little\", \"little\", \"little\", \"lock\", \"lock\", \"lock\", \"long\", \"long\", \"long\", \"long\", \"long\", \"long\", \"long\", \"long\", \"long\", \"long\", \"long\", \"long\", \"long\", \"long\", \"look\", \"look\", \"look\", \"look\", \"look\", \"look\", \"look\", \"look\", \"look\", \"look\", \"look\", \"look\", \"looking\", \"looking\", \"looking\", \"looking\", \"looking\", \"looking\", \"looking\", \"looking\", \"looking\", \"lord\", \"lord\", \"lord\", \"lotus\", \"louis\", \"louis\", \"louis\", \"luke\", \"luke\", \"lunar\", \"lunatic\", \"lyme\", \"macs\", \"macs\", \"mail\", \"mail\", \"mail\", \"mail\", \"mail\", \"mail\", \"mail\", \"mail\", \"mail\", \"mail\", \"mail\", \"maine\", \"mainstream\", \"make\", \"make\", \"make\", \"make\", \"make\", \"make\", \"make\", \"make\", \"make\", \"make\", \"make\", \"make\", \"males\", \"mamma\", \"manhattan\", \"manuals\", \"manuals\", \"manufacture\", \"many\", \"many\", \"many\", \"many\", \"many\", \"many\", \"many\", \"many\", \"many\", \"many\", \"many\", \"many\", \"many\", \"mario\", \"mars\", \"mary\", \"mary\", \"mary\", \"master\", \"master\", \"master\", \"master\", \"master\", \"master\", \"math\", \"math\", \"math\", \"math\", \"math\", \"matters\", \"matters\", \"matthew\", \"matthew\", \"matthew\", \"mbxn\", \"mean\", \"mean\", \"mean\", \"mean\", \"mean\", \"mean\", \"mean\", \"mean\", \"meaning\", \"meaning\", \"meaning\", \"meaning\", \"meaning\", \"medical\", \"medical\", \"medical\", \"medicine\", \"megs\", \"memory\", \"memory\", \"memory\", \"memory\", \"merely\", \"merely\", \"message\", \"message\", \"message\", \"message\", \"message\", \"messiah\", \"metal\", \"metal\", \"meter\", \"meter\", \"mets\", \"microsoft\", \"microsoft\", \"might\", \"might\", \"might\", \"might\", \"might\", \"might\", \"might\", \"might\", \"might\", \"miles\", \"miles\", \"miles\", \"miles\", \"military\", \"military\", \"military\", \"military\", \"militia\", \"minority\", \"minority\", \"minority\", \"minority\", \"mission\", \"mission\", \"mission\", \"missions\", \"mkentry\", \"mode\", \"mode\", \"mode\", \"mode\", \"mode\", \"model\", \"model\", \"model\", \"model\", \"model\", \"model\", \"model\", \"model\", \"modem\", \"modem\", \"monitor\", \"monitor\", \"monitors\", \"monitors\", \"monitors\", \"mono\", \"mono\", \"moon\", \"moon\", \"moral\", \"morality\", \"mormon\", \"mormons\", \"motherboard\", \"motif\", \"motif\", \"motorcycle\", \"motorcycles\", \"mounted\", \"mouse\", \"mouse\", \"mouse\", \"much\", \"much\", \"much\", \"much\", \"much\", \"much\", \"much\", \"much\", \"much\", \"much\", \"much\", \"murphy\", \"murphy\", \"muslim\", \"muslim\", \"must\", \"must\", \"must\", \"must\", \"must\", \"must\", \"must\", \"must\", \"must\", \"must\", \"must\", \"must\", \"must\", \"must\", \"mwra\", \"myers\", \"myers\", \"mystical\", \"name\", \"name\", \"name\", \"name\", \"name\", \"name\", \"name\", \"name\", \"name\", \"name\", \"name\", \"name\", \"name\", \"nanao\", \"nasa\", \"nasa\", \"nasa\", \"nasa\", \"national\", \"national\", \"national\", \"national\", \"national\", \"national\", \"national\", \"navy\", \"navy\", \"navy\", \"navy\", \"navy\", \"nazi\", \"nazi\", \"nazis\", \"ncsl\", \"neck\", \"need\", \"need\", \"need\", \"need\", \"need\", \"need\", \"need\", \"need\", \"need\", \"need\", \"need\", \"need\", \"neely\", \"nejm\", \"neutral\", \"neutral\", \"neutral\", \"never\", \"never\", \"never\", \"never\", \"never\", \"never\", \"never\", \"never\", \"never\", \"news\", \"news\", \"news\", \"news\", \"news\", \"news\", \"news\", \"news\", \"news\", \"news\", \"news\", \"newsletter\", \"next\", \"next\", \"next\", \"next\", \"next\", \"next\", \"next\", \"next\", \"next\", \"next\", \"next\", \"next\", \"next\", \"nintendo\", \"nist\", \"nist\", \"nkjz\", \"nolan\", \"nolan\", \"noll\", \"norton\", \"norton\", \"norton\", \"notion\", \"nrhj\", \"nriz\", \"nrizwt\", \"nubus\", \"nuclear\", \"nuclear\", \"nuclear\", \"nuclear\", \"null\", \"number\", \"number\", \"number\", \"number\", \"number\", \"number\", \"number\", \"number\", \"number\", \"number\", \"number\", \"obfuscated\", \"objectively\", \"observatory\", \"occupied\", \"offer\", \"offer\", \"offer\", \"offer\", \"offer\", \"offer\", \"offers\", \"offers\", \"oname\", \"online\", \"onur\", \"open\", \"open\", \"open\", \"open\", \"open\", \"open\", \"open\", \"open\", \"open\", \"open\", \"open\", \"openwindows\", \"orbit\", \"orbital\", \"order\", \"order\", \"order\", \"order\", \"order\", \"order\", \"order\", \"order\", \"order\", \"order\", \"order\", \"order\", \"order\", \"order\", \"original\", \"original\", \"original\", \"original\", \"original\", \"original\", \"original\", \"original\", \"original\", \"orthodox\", \"orthodox\", \"ottawa\", \"ottawa\", \"otto\", \"ottoman\", \"outbreak\", \"outlet\", \"outlets\", \"outlets\", \"output\", \"output\", \"output\", \"output\", \"overhead\", \"oxalic\", \"oxygen\", \"ozone\", \"packaging\", \"page\", \"page\", \"page\", \"page\", \"page\", \"page\", \"paid\", \"paid\", \"paid\", \"paid\", \"paid\", \"paid\", \"pain\", \"pain\", \"pain\", \"pain\", \"palestine\", \"palestinian\", \"palestinians\", \"panel\", \"panel\", \"panel\", \"panel\", \"panel\", \"paradox\", \"paranoid\", \"parliament\", \"part\", \"part\", \"part\", \"part\", \"part\", \"part\", \"part\", \"part\", \"part\", \"part\", \"part\", \"partial\", \"particle\", \"passages\", \"passages\", \"passages\", \"passover\", \"patent\", \"patient\", \"patients\", \"paul\", \"paul\", \"paul\", \"paul\", \"paul\", \"paul\", \"paul\", \"paul\", \"peer\", \"penalties\", \"penalties\", \"penalties\", \"penalty\", \"penalty\", \"penalty\", \"penalty\", \"pens\", \"people\", \"people\", \"people\", \"people\", \"people\", \"people\", \"people\", \"people\", \"people\", \"people\", \"percent\", \"percent\", \"perhaps\", \"perhaps\", \"perhaps\", \"perhaps\", \"perhaps\", \"perhaps\", \"period\", \"period\", \"period\", \"period\", \"period\", \"period\", \"period\", \"period\", \"period\", \"period\", \"period\", \"period\", \"phase\", \"phase\", \"phase\", \"phase\", \"phase\", \"philadelphia\", \"philadelphia\", \"philadelphia\", \"phillies\", \"pick\", \"pick\", \"pick\", \"pick\", \"pick\", \"picture\", \"picture\", \"picture\", \"picture\", \"picture\", \"picture\", \"picture\", \"pins\", \"pitching\", \"pitt\", \"pitt\", \"pittsburg\", \"pittsburgh\", \"pittsburgh\", \"pittsburgh\", \"pixel\", \"pixmap\", \"plane\", \"plane\", \"plane\", \"planes\", \"planes\", \"planes\", \"planetary\", \"plants\", \"plants\", \"plants\", \"plastic\", \"plastic\", \"platforms\", \"play\", \"play\", \"play\", \"play\", \"play\", \"played\", \"played\", \"played\", \"played\", \"played\", \"played\", \"player\", \"player\", \"player\", \"players\", \"playing\", \"playing\", \"playing\", \"playing\", \"playoffs\", \"please\", \"please\", \"please\", \"please\", \"please\", \"please\", \"please\", \"please\", \"please\", \"plug\", \"plug\", \"plug\", \"pmfq\", \"pnei\", \"point\", \"point\", \"point\", \"point\", \"point\", \"point\", \"point\", \"point\", \"point\", \"point\", \"point\", \"point\", \"point\", \"points\", \"points\", \"points\", \"points\", \"points\", \"points\", \"points\", \"points\", \"police\", \"police\", \"pope\", \"population\", \"population\", \"population\", \"population\", \"popup\", \"port\", \"port\", \"port\", \"pounds\", \"pounds\", \"power\", \"power\", \"power\", \"power\", \"power\", \"power\", \"power\", \"power\", \"power\", \"power\", \"power\", \"power\", \"power\", \"power\", \"powerpc\", \"president\", \"president\", \"president\", \"president\", \"president\", \"prevalence\", \"prevention\", \"price\", \"price\", \"price\", \"price\", \"price\", \"price\", \"price\", \"price\", \"price\", \"printer\", \"printer\", \"printf\", \"privacy\", \"privacy\", \"privacy\", \"problem\", \"problem\", \"problem\", \"problem\", \"problem\", \"problem\", \"problem\", \"problem\", \"problem\", \"problems\", \"problems\", \"problems\", \"problems\", \"problems\", \"problems\", \"problems\", \"problems\", \"problems\", \"problems\", \"proceedings\", \"profile\", \"prog\", \"program\", \"program\", \"program\", \"program\", \"program\", \"program\", \"program\", \"prong\", \"prophecy\", \"prophet\", \"propulsion\", \"protein\", \"prove\", \"prove\", \"prove\", \"psychology\", \"public\", \"public\", \"public\", \"public\", \"public\", \"public\", \"public\", \"publisher\", \"puck\", \"puck\", \"quadra\", \"quakers\", \"quality\", \"quality\", \"quality\", \"quality\", \"quality\", \"quality\", \"quality\", \"quebec\", \"question\", \"question\", \"question\", \"question\", \"question\", \"question\", \"question\", \"question\", \"quicktime\", \"quite\", \"quite\", \"quite\", \"quite\", \"quite\", \"quite\", \"quote\", \"quote\", \"quote\", \"radar\", \"radar\", \"ranford\", \"rchz\", \"reaction\", \"reaction\", \"reaction\", \"reaction\", \"reaction\", \"read\", \"read\", \"read\", \"read\", \"read\", \"read\", \"read\", \"read\", \"read\", \"readme\", \"real\", \"real\", \"real\", \"real\", \"real\", \"real\", \"real\", \"real\", \"real\", \"real\", \"real\", \"really\", \"really\", \"really\", \"really\", \"really\", \"really\", \"really\", \"rear\", \"reason\", \"reason\", \"reason\", \"reason\", \"reason\", \"reason\", \"reason\", \"reason\", \"reasoning\", \"rebound\", \"recchi\", \"recchi\", \"redesign\", \"regulated\", \"regulations\", \"reilly\", \"relay\", \"relay\", \"religion\", \"religion\", \"religions\", \"religious\", \"religious\", \"remark\", \"remark\", \"remark\", \"repairs\", \"report\", \"report\", \"report\", \"report\", \"report\", \"report\", \"report\", \"report\", \"report\", \"reported\", \"reported\", \"reported\", \"reported\", \"reported\", \"reported\", \"republicans\", \"request\", \"request\", \"request\", \"request\", \"request\", \"request\", \"requests\", \"requests\", \"research\", \"research\", \"research\", \"research\", \"research\", \"restaurant\", \"restaurant\", \"resurrection\", \"resurrection\", \"return\", \"return\", \"return\", \"return\", \"return\", \"return\", \"return\", \"return\", \"return\", \"reuss\", \"revelation\", \"revelation\", \"revolver\", \"revolver\", \"ride\", \"riders\", \"riding\", \"right\", \"right\", \"right\", \"right\", \"right\", \"right\", \"right\", \"right\", \"right\", \"right\", \"rights\", \"rights\", \"rights\", \"ripem\", \"risen\", \"river\", \"river\", \"rkba\", \"rlhz\", \"road\", \"road\", \"road\", \"road\", \"road\", \"road\", \"road\", \"rockefeller\", \"roughing\", \"roussel\", \"rows\", \"rude\", \"rules\", \"rules\", \"rules\", \"rules\", \"rules\", \"runs\", \"runs\", \"runs\", \"runs\", \"runs\", \"russian\", \"russian\", \"russian\", \"saab\", \"sabbath\", \"safety\", \"safety\", \"safety\", \"safety\", \"safety\", \"safety\", \"said\", \"said\", \"said\", \"said\", \"said\", \"said\", \"said\", \"said\", \"said\", \"salary\", \"sale\", \"sale\", \"salvation\", \"sampling\", \"samuelsson\", \"sank\", \"satellite\", \"satellites\", \"saves\", \"saves\", \"saves\", \"school\", \"school\", \"school\", \"school\", \"school\", \"school\", \"school\", \"science\", \"science\", \"science\", \"science\", \"scientific\", \"scientific\", \"scientific\", \"scientific\", \"scientific\", \"score\", \"scored\", \"scored\", \"scorer\", \"scores\", \"scores\", \"screen\", \"screen\", \"screen\", \"screw\", \"scripture\", \"scripture\", \"scsi\", \"seagate\", \"season\", \"second\", \"second\", \"second\", \"second\", \"second\", \"second\", \"second\", \"second\", \"second\", \"second\", \"second\", \"second\", \"second\", \"second\", \"secret\", \"secret\", \"secret\", \"secret\", \"secret\", \"secret\", \"section\", \"section\", \"section\", \"section\", \"section\", \"section\", \"section\", \"section\", \"section\", \"secure\", \"secure\", \"secure\", \"secure\", \"security\", \"security\", \"security\", \"security\", \"sedan\", \"seems\", \"seems\", \"seems\", \"seems\", \"seems\", \"seems\", \"seems\", \"seems\", \"sega\", \"sell\", \"sell\", \"sell\", \"sell\", \"sell\", \"sell\", \"sell\", \"sell\", \"selling\", \"selling\", \"selling\", \"selling\", \"selling\", \"semi\", \"semi\", \"semi\", \"semi\", \"senator\", \"send\", \"send\", \"send\", \"send\", \"send\", \"send\", \"send\", \"send\", \"send\", \"send\", \"send\", \"send\", \"sense\", \"sense\", \"sense\", \"sense\", \"sense\", \"sense\", \"serdar\", \"server\", \"servers\", \"seventh\", \"shaft\", \"shaft\", \"shall\", \"shall\", \"shall\", \"shall\", \"shall\", \"shameful\", \"sharks\", \"sheath\", \"shell\", \"shell\", \"shell\", \"shell\", \"shell\", \"shipping\", \"shipping\", \"shipping\", \"shipping\", \"ships\", \"shock\", \"shoot\", \"shoot\", \"shop\", \"shop\", \"shot\", \"shot\", \"shot\", \"shot\", \"shot\", \"shot\", \"shuttle\", \"side\", \"side\", \"side\", \"side\", \"side\", \"side\", \"side\", \"side\", \"simm\", \"simms\", \"sins\", \"size\", \"size\", \"size\", \"size\", \"size\", \"size\", \"size\", \"size\", \"size\", \"size\", \"skepticism\", \"slaughtered\", \"slave\", \"slave\", \"sleeve\", \"slots\", \"slower\", \"small\", \"small\", \"small\", \"small\", \"small\", \"small\", \"small\", \"small\", \"small\", \"small\", \"small\", \"small\", \"smokeless\", \"smoking\", \"smythe\", \"snuff\", \"sockets\", \"soderstrom\", \"software\", \"software\", \"software\", \"software\", \"software\", \"solar\", \"solar\", \"soldiers\", \"soldiers\", \"somalia\", \"something\", \"something\", \"something\", \"something\", \"something\", \"something\", \"something\", \"something\", \"something\", \"soon\", \"soon\", \"soon\", \"soon\", \"soon\", \"soon\", \"soon\", \"soon\", \"soon\", \"soon\", \"sound\", \"sound\", \"sound\", \"sound\", \"sound\", \"sound\", \"source\", \"source\", \"source\", \"source\", \"source\", \"source\", \"source\", \"source\", \"source\", \"south\", \"south\", \"south\", \"south\", \"south\", \"south\", \"south\", \"south\", \"soviet\", \"soviet\", \"space\", \"space\", \"space\", \"space\", \"space\", \"space\", \"spacecraft\", \"spain\", \"sparc\", \"speakers\", \"speakers\", \"special\", \"special\", \"special\", \"special\", \"special\", \"special\", \"special\", \"special\", \"special\", \"special\", \"special\", \"spells\", \"spin\", \"spin\", \"spirit\", \"spirit\", \"spirit\", \"spiritual\", \"sports\", \"sports\", \"springer\", \"state\", \"state\", \"state\", \"state\", \"state\", \"state\", \"state\", \"state\", \"state\", \"states\", \"states\", \"states\", \"states\", \"states\", \"states\", \"states\", \"station\", \"station\", \"station\", \"station\", \"station\", \"station\", \"station\", \"station\", \"station\", \"stats\", \"stderr\", \"stdin\", \"steering\", \"stephanopoulos\", \"stereo\", \"stereo\", \"stevens\", \"stewart\", \"still\", \"still\", \"still\", \"still\", \"still\", \"still\", \"still\", \"still\", \"still\", \"still\", \"still\", \"still\", \"stream\", \"stream\", \"string\", \"students\", \"students\", \"students\", \"students\", \"studies\", \"studies\", \"studies\", \"study\", \"study\", \"study\", \"study\", \"stuff\", \"stuff\", \"stuff\", \"stuff\", \"stuff\", \"stuff\", \"stuff\", \"subject\", \"subject\", \"subject\", \"subject\", \"subject\", \"subject\", \"subject\", \"subject\", \"subject\", \"subject\", \"subject\", \"subject\", \"subject\", \"subject\", \"suck\", \"suicide\", \"suicide\", \"sumgait\", \"sunday\", \"sunday\", \"sunday\", \"sunday\", \"sunos\", \"sure\", \"sure\", \"sure\", \"sure\", \"sure\", \"sure\", \"sure\", \"sure\", \"sure\", \"sure\", \"sure\", \"sure\", \"surgery\", \"surgery\", \"surgery\", \"surrender\", \"surrender\", \"survivors\", \"svga\", \"svga\", \"swap\", \"sword\", \"sydor\", \"symbol\", \"symbol\", \"symptoms\", \"symptoms\", \"sync\", \"system\", \"system\", \"system\", \"system\", \"system\", \"system\", \"system\", \"system\", \"system\", \"take\", \"take\", \"take\", \"take\", \"take\", \"take\", \"take\", \"take\", \"take\", \"take\", \"take\", \"tank\", \"tank\", \"tanks\", \"tanks\", \"tanks\", \"tape\", \"tape\", \"tape\", \"tape\", \"tbxn\", \"tbxom\", \"teaches\", \"team\", \"team\", \"team\", \"teams\", \"tear\", \"tear\", \"tear\", \"technician\", \"technology\", \"technology\", \"technology\", \"technology\", \"technology\", \"telecommunications\", \"telescope\", \"temp\", \"tenth\", \"test\", \"test\", \"test\", \"test\", \"test\", \"test\", \"test\", \"test\", \"test\", \"testament\", \"thanks\", \"thanks\", \"thanks\", \"thanks\", \"thanks\", \"thanks\", \"thanks\", \"thanks\", \"thanx\", \"theist\", \"therefore\", \"therefore\", \"therefore\", \"therefore\", \"thing\", \"thing\", \"thing\", \"thing\", \"thing\", \"thing\", \"thing\", \"thing\", \"things\", \"things\", \"things\", \"things\", \"things\", \"things\", \"things\", \"things\", \"things\", \"things\", \"think\", \"think\", \"think\", \"think\", \"think\", \"think\", \"third\", \"third\", \"third\", \"third\", \"third\", \"third\", \"third\", \"third\", \"third\", \"third\", \"third\", \"third\", \"thrace\", \"threads\", \"thumbs\", \"tiff\", \"time\", \"time\", \"time\", \"time\", \"time\", \"time\", \"time\", \"time\", \"time\", \"time\", \"time\", \"time\", \"time\", \"time\", \"tire\", \"tires\", \"titan\", \"title\", \"title\", \"title\", \"title\", \"title\", \"title\", \"title\", \"title\", \"tobacco\", \"tobacco\", \"tocchet\", \"told\", \"told\", \"told\", \"told\", \"told\", \"told\", \"took\", \"took\", \"took\", \"took\", \"took\", \"took\", \"took\", \"toolkit\", \"toplevel\", \"toronto\", \"toronto\", \"toronto\", \"torque\", \"towers\", \"toxic\", \"traded\", \"transformer\", \"treatment\", \"treatment\", \"treatment\", \"trial\", \"trial\", \"trial\", \"trinity\", \"trips\", \"trips\", \"troops\", \"troops\", \"true\", \"true\", \"true\", \"true\", \"true\", \"true\", \"true\", \"true\", \"true\", \"true\", \"truetype\", \"truth\", \"truth\", \"turkey\", \"turkish\", \"turkish\", \"turks\", \"turks\", \"turn\", \"turn\", \"turn\", \"turn\", \"turn\", \"turn\", \"turn\", \"turn\", \"type\", \"type\", \"type\", \"type\", \"type\", \"type\", \"type\", \"type\", \"type\", \"type\", \"tyre\", \"uart\", \"uiuc\", \"uiuc\", \"uiuc\", \"unassisted\", \"unclear\", \"undefined\", \"uniforms\", \"united\", \"united\", \"united\", \"united\", \"united\", \"university\", \"university\", \"university\", \"university\", \"university\", \"university\", \"university\", \"university\", \"university\", \"university\", \"unix\", \"unix\", \"unix\", \"unto\", \"unto\", \"upenn\", \"upenn\", \"upenn\", \"upgrade\", \"upgrade\", \"upgraded\", \"uranium\", \"used\", \"used\", \"used\", \"used\", \"used\", \"used\", \"used\", \"used\", \"used\", \"used\", \"used\", \"used\", \"used\", \"user\", \"user\", \"user\", \"user\", \"user\", \"user\", \"users\", \"users\", \"users\", \"users\", \"using\", \"using\", \"using\", \"using\", \"using\", \"using\", \"using\", \"using\", \"using\", \"using\", \"uuencode\", \"vacation\", \"valve\", \"vary\", \"vary\", \"vary\", \"venus\", \"verse\", \"version\", \"version\", \"version\", \"vesa\", \"video\", \"video\", \"video\", \"video\", \"villages\", \"violated\", \"violent\", \"violent\", \"visual\", \"visual\", \"vitamin\", \"voltage\", \"volts\", \"volvo\", \"vpic\", \"vram\", \"want\", \"want\", \"want\", \"want\", \"want\", \"want\", \"want\", \"want\", \"want\", \"want\", \"warned\", \"warranty\", \"wash\", \"washington\", \"washington\", \"washington\", \"washington\", \"washington\", \"washington\", \"washington\", \"water\", \"water\", \"water\", \"water\", \"waters\", \"waves\", \"weapon\", \"weapon\", \"weapons\", \"weapons\", \"weapons\", \"weapons\", \"weaver\", \"weaver\", \"well\", \"well\", \"well\", \"well\", \"well\", \"well\", \"well\", \"well\", \"well\", \"well\", \"well\", \"well\", \"went\", \"went\", \"went\", \"went\", \"went\", \"went\", \"went\", \"went\", \"wheel\", \"whether\", \"whether\", \"whether\", \"whether\", \"whether\", \"whether\", \"whether\", \"whether\", \"whether\", \"whitespace\", \"window\", \"window\", \"window\", \"window\", \"windows\", \"windows\", \"windows\", \"windows\", \"winning\", \"winning\", \"winnipeg\", \"winnipeg\", \"wins\", \"wire\", \"wire\", \"wire\", \"wire\", \"wiretap\", \"wiretap\", \"wiring\", \"wiring\", \"within\", \"within\", \"within\", \"within\", \"within\", \"within\", \"within\", \"within\", \"within\", \"within\", \"within\", \"within\", \"wmbxn\", \"wolverine\", \"women\", \"women\", \"women\", \"women\", \"women\", \"women\", \"wordperfect\", \"words\", \"words\", \"words\", \"words\", \"words\", \"words\", \"words\", \"work\", \"work\", \"work\", \"work\", \"work\", \"work\", \"work\", \"work\", \"work\", \"work\", \"work\", \"work\", \"workstation\", \"world\", \"world\", \"world\", \"world\", \"world\", \"world\", \"world\", \"world\", \"world\", \"world\", \"world\", \"would\", \"would\", \"would\", \"would\", \"would\", \"would\", \"would\", \"would\", \"would\", \"would\", \"would\", \"would\", \"would\", \"wrench\", \"write\", \"write\", \"write\", \"write\", \"write\", \"write\", \"write\", \"write\", \"wrong\", \"wrong\", \"wrong\", \"wrong\", \"wrong\", \"wrong\", \"wrong\", \"wwhj\", \"wwii\", \"wwii\", \"wwiz\", \"xtpointer\", \"xtsetarg\", \"xvoid\", \"yalcin\", \"yankees\", \"yanks\", \"yassin\", \"year\", \"year\", \"year\", \"year\", \"year\", \"year\", \"year\", \"year\", \"year\", \"years\", \"years\", \"years\", \"years\", \"years\", \"years\", \"years\", \"years\", \"years\", \"years\", \"years\", \"yogurt\", \"yorn\", \"zealand\", \"zealand\", \"zone\", \"zone\", \"zone\", \"zone\", \"zone\", \"zone\", \"zone\", \"zone\", \"zone\", \"zrck\"]}, \"R\": 30, \"lambda.step\": 0.01, \"plot.opts\": {\"xlab\": \"PC1\", \"ylab\": \"PC2\"}, \"topic.order\": [17, 15, 16, 13, 14, 4, 9, 7, 5, 20, 8, 10, 6, 1, 12, 11, 19, 2, 3, 18]};\n",
              "\n",
              "function LDAvis_load_lib(url, callback){\n",
              "  var s = document.createElement('script');\n",
              "  s.src = url;\n",
              "  s.async = true;\n",
              "  s.onreadystatechange = s.onload = callback;\n",
              "  s.onerror = function(){console.warn(\"failed to load library \" + url);};\n",
              "  document.getElementsByTagName(\"head\")[0].appendChild(s);\n",
              "}\n",
              "\n",
              "if(typeof(LDAvis) !== \"undefined\"){\n",
              "   // already loaded: just create the visualization\n",
              "   !function(LDAvis){\n",
              "       new LDAvis(\"#\" + \"ldavis_el1751403494419904323707754551\", ldavis_el1751403494419904323707754551_data);\n",
              "   }(LDAvis);\n",
              "}else if(typeof define === \"function\" && define.amd){\n",
              "   // require.js is available: use it to load d3/LDAvis\n",
              "   require.config({paths: {d3: \"https://d3js.org/d3.v5\"}});\n",
              "   require([\"d3\"], function(d3){\n",
              "      window.d3 = d3;\n",
              "      LDAvis_load_lib(\"https://cdn.jsdelivr.net/gh/bmabey/pyLDAvis@3.3.1/pyLDAvis/js/ldavis.v3.0.0.js\", function(){\n",
              "        new LDAvis(\"#\" + \"ldavis_el1751403494419904323707754551\", ldavis_el1751403494419904323707754551_data);\n",
              "      });\n",
              "    });\n",
              "}else{\n",
              "    // require.js not available: dynamically load d3 & LDAvis\n",
              "    LDAvis_load_lib(\"https://d3js.org/d3.v5.js\", function(){\n",
              "         LDAvis_load_lib(\"https://cdn.jsdelivr.net/gh/bmabey/pyLDAvis@3.3.1/pyLDAvis/js/ldavis.v3.0.0.js\", function(){\n",
              "                 new LDAvis(\"#\" + \"ldavis_el1751403494419904323707754551\", ldavis_el1751403494419904323707754551_data);\n",
              "            })\n",
              "         });\n",
              "}\n",
              "</script>"
            ]
          },
          "metadata": {},
          "execution_count": 34
        }
      ]
    },
    {
      "cell_type": "markdown",
      "source": [
        "- 문서 별 토픽 분포 보기"
      ],
      "metadata": {
        "id": "ARWlLKqPAbJZ"
      }
    },
    {
      "cell_type": "code",
      "source": [
        "for i, topic_list in enumerate(ldamodel[corpus]):\n",
        "    if i==5:\n",
        "        break\n",
        "    print(i,'번째 문서의 topic 비율은',topic_list)"
      ],
      "metadata": {
        "colab": {
          "base_uri": "https://localhost:8080/"
        },
        "id": "C2z0uU5CAZOn",
        "outputId": "2704fa7d-3c48-48c7-b6da-1bf4f543b580"
      },
      "execution_count": null,
      "outputs": [
        {
          "output_type": "stream",
          "name": "stdout",
          "text": [
            "0 번째 문서의 topic 비율은 [(6, 0.24176957), (7, 0.08450302), (8, 0.20761965), (16, 0.43625924), (18, 0.017751733)]\n",
            "1 번째 문서의 topic 비율은 [(5, 0.03576921), (6, 0.1935219), (12, 0.13032566), (16, 0.5962956), (18, 0.025794942)]\n",
            "2 번째 문서의 topic 비율은 [(3, 0.039979015), (6, 0.24828048), (13, 0.22157952), (15, 0.03612403), (16, 0.44194016)]\n",
            "3 번째 문서의 topic 비율은 [(5, 0.2579215), (6, 0.05555909), (8, 0.2649177), (12, 0.08496508), (15, 0.11747661), (16, 0.20871226)]\n",
            "4 번째 문서의 topic 비율은 [(7, 0.0400383), (13, 0.5553491), (17, 0.2880737), (19, 0.08690926)]\n"
          ]
        }
      ]
    },
    {
      "cell_type": "code",
      "source": [
        "def make_topictable_per_doc(ldamodel, corpus):\n",
        "    topic_table = pd.DataFrame()\n",
        "\n",
        "    # 몇 번째 문서인지를 의미하는 문서 번호와 해당 문서의 토픽 비중을 한 줄씩 꺼내온다.\n",
        "    for i, topic_list in enumerate(ldamodel[corpus]):\n",
        "        doc = topic_list[0] if ldamodel.per_word_topics else topic_list            \n",
        "        doc = sorted(doc, key=lambda x: (x[1]), reverse=True)\n",
        "        # 각 문서에 대해서 비중이 높은 토픽순으로 토픽을 정렬한다.\n",
        "        # EX) 정렬 전 0번 문서 : (2번 토픽, 48.5%), (8번 토픽, 25%), (10번 토픽, 5%), (12번 토픽, 21.5%), \n",
        "        # Ex) 정렬 후 0번 문서 : (2번 토픽, 48.5%), (8번 토픽, 25%), (12번 토픽, 21.5%), (10번 토픽, 5%)\n",
        "        # 48 > 25 > 21 > 5 순으로 정렬이 된 것.\n",
        "\n",
        "        # 모든 문서에 대해서 각각 아래를 수행\n",
        "        for j, (topic_num, prop_topic) in enumerate(doc): #  몇 번 토픽인지와 비중을 나눠서 저장한다.\n",
        "            if j == 0:  # 정렬을 한 상태이므로 가장 앞에 있는 것이 가장 비중이 높은 토픽\n",
        "                topic_table = topic_table.append(pd.Series([int(topic_num), round(prop_topic,4), topic_list]), ignore_index=True)\n",
        "                # 가장 비중이 높은 토픽과, 가장 비중이 높은 토픽의 비중과, 전체 토픽의 비중을 저장한다.\n",
        "            else:\n",
        "                break\n",
        "    return(topic_table)"
      ],
      "metadata": {
        "id": "WWyODIC4BHuy"
      },
      "execution_count": null,
      "outputs": []
    },
    {
      "cell_type": "code",
      "source": [
        "topictable = make_topictable_per_doc(ldamodel, corpus)\n",
        "topictable = topictable.reset_index() # 문서 번호을 의미하는 열(column)로 사용하기 위해서 인덱스 열을 하나 더 만든다.\n",
        "topictable.columns = ['문서 번호', '가장 비중이 높은 토픽', '가장 높은 토픽의 비중', '각 토픽의 비중']\n",
        "topictable[:10]"
      ],
      "metadata": {
        "colab": {
          "base_uri": "https://localhost:8080/",
          "height": 363
        },
        "id": "2NDJK_PiBNQo",
        "outputId": "35ab31a6-90cc-4f8c-c039-b1eed6eb3253"
      },
      "execution_count": null,
      "outputs": [
        {
          "output_type": "execute_result",
          "data": {
            "text/plain": [
              "   문서 번호  가장 비중이 높은 토픽  가장 높은 토픽의 비중  \\\n",
              "0      0          16.0        0.4363   \n",
              "1      1          16.0        0.5962   \n",
              "2      2          16.0        0.4419   \n",
              "3      3           8.0        0.2649   \n",
              "4      4          13.0        0.5553   \n",
              "5      5          15.0        0.4511   \n",
              "6      6          15.0        0.9102   \n",
              "7      7          16.0        0.5179   \n",
              "8      8          10.0        0.4007   \n",
              "9      9          15.0        0.4513   \n",
              "\n",
              "                                            각 토픽의 비중  \n",
              "0  [(6, 0.24175741), (7, 0.08450838), (8, 0.20762...  \n",
              "1  [(5, 0.0357635), (6, 0.19352415), (12, 0.13038...  \n",
              "2  [(3, 0.039979175), (6, 0.24827954), (13, 0.221...  \n",
              "3  [(5, 0.2579327), (6, 0.055567637), (8, 0.26491...  \n",
              "4  [(7, 0.040038053), (13, 0.55533075), (17, 0.28...  \n",
              "5  [(7, 0.04234852), (9, 0.15699701), (10, 0.0854...  \n",
              "6  [(0, 0.018699815), (12, 0.054792598), (15, 0.9...  \n",
              "7  [(6, 0.16109857), (7, 0.035746112), (8, 0.1822...  \n",
              "8  [(2, 0.122777), (7, 0.036166955), (10, 0.40073...  \n",
              "9  [(0, 0.018809587), (5, 0.12931643), (7, 0.0554...  "
            ],
            "text/html": [
              "\n",
              "  <div id=\"df-ac2e8843-f382-439d-9985-b5e4b6c19006\">\n",
              "    <div class=\"colab-df-container\">\n",
              "      <div>\n",
              "<style scoped>\n",
              "    .dataframe tbody tr th:only-of-type {\n",
              "        vertical-align: middle;\n",
              "    }\n",
              "\n",
              "    .dataframe tbody tr th {\n",
              "        vertical-align: top;\n",
              "    }\n",
              "\n",
              "    .dataframe thead th {\n",
              "        text-align: right;\n",
              "    }\n",
              "</style>\n",
              "<table border=\"1\" class=\"dataframe\">\n",
              "  <thead>\n",
              "    <tr style=\"text-align: right;\">\n",
              "      <th></th>\n",
              "      <th>문서 번호</th>\n",
              "      <th>가장 비중이 높은 토픽</th>\n",
              "      <th>가장 높은 토픽의 비중</th>\n",
              "      <th>각 토픽의 비중</th>\n",
              "    </tr>\n",
              "  </thead>\n",
              "  <tbody>\n",
              "    <tr>\n",
              "      <th>0</th>\n",
              "      <td>0</td>\n",
              "      <td>16.0</td>\n",
              "      <td>0.4363</td>\n",
              "      <td>[(6, 0.24175741), (7, 0.08450838), (8, 0.20762...</td>\n",
              "    </tr>\n",
              "    <tr>\n",
              "      <th>1</th>\n",
              "      <td>1</td>\n",
              "      <td>16.0</td>\n",
              "      <td>0.5962</td>\n",
              "      <td>[(5, 0.0357635), (6, 0.19352415), (12, 0.13038...</td>\n",
              "    </tr>\n",
              "    <tr>\n",
              "      <th>2</th>\n",
              "      <td>2</td>\n",
              "      <td>16.0</td>\n",
              "      <td>0.4419</td>\n",
              "      <td>[(3, 0.039979175), (6, 0.24827954), (13, 0.221...</td>\n",
              "    </tr>\n",
              "    <tr>\n",
              "      <th>3</th>\n",
              "      <td>3</td>\n",
              "      <td>8.0</td>\n",
              "      <td>0.2649</td>\n",
              "      <td>[(5, 0.2579327), (6, 0.055567637), (8, 0.26491...</td>\n",
              "    </tr>\n",
              "    <tr>\n",
              "      <th>4</th>\n",
              "      <td>4</td>\n",
              "      <td>13.0</td>\n",
              "      <td>0.5553</td>\n",
              "      <td>[(7, 0.040038053), (13, 0.55533075), (17, 0.28...</td>\n",
              "    </tr>\n",
              "    <tr>\n",
              "      <th>5</th>\n",
              "      <td>5</td>\n",
              "      <td>15.0</td>\n",
              "      <td>0.4511</td>\n",
              "      <td>[(7, 0.04234852), (9, 0.15699701), (10, 0.0854...</td>\n",
              "    </tr>\n",
              "    <tr>\n",
              "      <th>6</th>\n",
              "      <td>6</td>\n",
              "      <td>15.0</td>\n",
              "      <td>0.9102</td>\n",
              "      <td>[(0, 0.018699815), (12, 0.054792598), (15, 0.9...</td>\n",
              "    </tr>\n",
              "    <tr>\n",
              "      <th>7</th>\n",
              "      <td>7</td>\n",
              "      <td>16.0</td>\n",
              "      <td>0.5179</td>\n",
              "      <td>[(6, 0.16109857), (7, 0.035746112), (8, 0.1822...</td>\n",
              "    </tr>\n",
              "    <tr>\n",
              "      <th>8</th>\n",
              "      <td>8</td>\n",
              "      <td>10.0</td>\n",
              "      <td>0.4007</td>\n",
              "      <td>[(2, 0.122777), (7, 0.036166955), (10, 0.40073...</td>\n",
              "    </tr>\n",
              "    <tr>\n",
              "      <th>9</th>\n",
              "      <td>9</td>\n",
              "      <td>15.0</td>\n",
              "      <td>0.4513</td>\n",
              "      <td>[(0, 0.018809587), (5, 0.12931643), (7, 0.0554...</td>\n",
              "    </tr>\n",
              "  </tbody>\n",
              "</table>\n",
              "</div>\n",
              "      <button class=\"colab-df-convert\" onclick=\"convertToInteractive('df-ac2e8843-f382-439d-9985-b5e4b6c19006')\"\n",
              "              title=\"Convert this dataframe to an interactive table.\"\n",
              "              style=\"display:none;\">\n",
              "        \n",
              "  <svg xmlns=\"http://www.w3.org/2000/svg\" height=\"24px\"viewBox=\"0 0 24 24\"\n",
              "       width=\"24px\">\n",
              "    <path d=\"M0 0h24v24H0V0z\" fill=\"none\"/>\n",
              "    <path d=\"M18.56 5.44l.94 2.06.94-2.06 2.06-.94-2.06-.94-.94-2.06-.94 2.06-2.06.94zm-11 1L8.5 8.5l.94-2.06 2.06-.94-2.06-.94L8.5 2.5l-.94 2.06-2.06.94zm10 10l.94 2.06.94-2.06 2.06-.94-2.06-.94-.94-2.06-.94 2.06-2.06.94z\"/><path d=\"M17.41 7.96l-1.37-1.37c-.4-.4-.92-.59-1.43-.59-.52 0-1.04.2-1.43.59L10.3 9.45l-7.72 7.72c-.78.78-.78 2.05 0 2.83L4 21.41c.39.39.9.59 1.41.59.51 0 1.02-.2 1.41-.59l7.78-7.78 2.81-2.81c.8-.78.8-2.07 0-2.86zM5.41 20L4 18.59l7.72-7.72 1.47 1.35L5.41 20z\"/>\n",
              "  </svg>\n",
              "      </button>\n",
              "      \n",
              "  <style>\n",
              "    .colab-df-container {\n",
              "      display:flex;\n",
              "      flex-wrap:wrap;\n",
              "      gap: 12px;\n",
              "    }\n",
              "\n",
              "    .colab-df-convert {\n",
              "      background-color: #E8F0FE;\n",
              "      border: none;\n",
              "      border-radius: 50%;\n",
              "      cursor: pointer;\n",
              "      display: none;\n",
              "      fill: #1967D2;\n",
              "      height: 32px;\n",
              "      padding: 0 0 0 0;\n",
              "      width: 32px;\n",
              "    }\n",
              "\n",
              "    .colab-df-convert:hover {\n",
              "      background-color: #E2EBFA;\n",
              "      box-shadow: 0px 1px 2px rgba(60, 64, 67, 0.3), 0px 1px 3px 1px rgba(60, 64, 67, 0.15);\n",
              "      fill: #174EA6;\n",
              "    }\n",
              "\n",
              "    [theme=dark] .colab-df-convert {\n",
              "      background-color: #3B4455;\n",
              "      fill: #D2E3FC;\n",
              "    }\n",
              "\n",
              "    [theme=dark] .colab-df-convert:hover {\n",
              "      background-color: #434B5C;\n",
              "      box-shadow: 0px 1px 3px 1px rgba(0, 0, 0, 0.15);\n",
              "      filter: drop-shadow(0px 1px 2px rgba(0, 0, 0, 0.3));\n",
              "      fill: #FFFFFF;\n",
              "    }\n",
              "  </style>\n",
              "\n",
              "      <script>\n",
              "        const buttonEl =\n",
              "          document.querySelector('#df-ac2e8843-f382-439d-9985-b5e4b6c19006 button.colab-df-convert');\n",
              "        buttonEl.style.display =\n",
              "          google.colab.kernel.accessAllowed ? 'block' : 'none';\n",
              "\n",
              "        async function convertToInteractive(key) {\n",
              "          const element = document.querySelector('#df-ac2e8843-f382-439d-9985-b5e4b6c19006');\n",
              "          const dataTable =\n",
              "            await google.colab.kernel.invokeFunction('convertToInteractive',\n",
              "                                                     [key], {});\n",
              "          if (!dataTable) return;\n",
              "\n",
              "          const docLinkHtml = 'Like what you see? Visit the ' +\n",
              "            '<a target=\"_blank\" href=https://colab.research.google.com/notebooks/data_table.ipynb>data table notebook</a>'\n",
              "            + ' to learn more about interactive tables.';\n",
              "          element.innerHTML = '';\n",
              "          dataTable['output_type'] = 'display_data';\n",
              "          await google.colab.output.renderOutput(dataTable, element);\n",
              "          const docLink = document.createElement('div');\n",
              "          docLink.innerHTML = docLinkHtml;\n",
              "          element.appendChild(docLink);\n",
              "        }\n",
              "      </script>\n",
              "    </div>\n",
              "  </div>\n",
              "  "
            ]
          },
          "metadata": {},
          "execution_count": 37
        }
      ]
    },
    {
      "cell_type": "markdown",
      "metadata": {
        "id": "3BsFbov-mYgH"
      },
      "source": [
        "# LDA - 한국어 기사 예제\n",
        "- 주어진 문서의 주제(카테고리)를 구분 - 비지도 학습\n",
        "- 빅카인즈 뉴스기사 데이터 활용(https://www.bigkinds.or.kr/)\n",
        "- LDA(Latent Dirichlet Allocation) 사용하여 관련된 단어나 문서의 집합을 찾는다. 관련성이 높은 단어들이 발생하면 같은 토픽으로 분류.\n",
        "- 각 문서들의 토픽들이 디리클레 분포를 따른다고 가정.\n",
        "- 문서마다 토픽이 어떻게 분포되어 있는지, 그리고 토픽마다 단어의 분포가 어떻게 되어 있는지 파악, 토픽에 따라 단어의 분포를 결정하고 그 중 가장 확률이 높은 단어를 선택.\n",
        "- LDA:\n",
        "  - 말뭉치로부터 대표적인 토픽 선정\n",
        "  - 해당 토픽으로부터 단어들을 뽑아 문서를 생성\n"
      ]
    },
    {
      "cell_type": "code",
      "metadata": {
        "colab": {
          "base_uri": "https://localhost:8080/"
        },
        "id": "jwLxNFThoTc9",
        "outputId": "adbc042a-6669-4fbe-afad-a6a7b6b589fc"
      },
      "source": [
        "!pip install konlpy"
      ],
      "execution_count": null,
      "outputs": [
        {
          "output_type": "stream",
          "name": "stdout",
          "text": [
            "Looking in indexes: https://pypi.org/simple, https://us-python.pkg.dev/colab-wheels/public/simple/\n",
            "Requirement already satisfied: konlpy in /usr/local/lib/python3.8/dist-packages (0.6.0)\n",
            "Requirement already satisfied: lxml>=4.1.0 in /usr/local/lib/python3.8/dist-packages (from konlpy) (4.9.2)\n",
            "Requirement already satisfied: numpy>=1.6 in /usr/local/lib/python3.8/dist-packages (from konlpy) (1.21.6)\n",
            "Requirement already satisfied: JPype1>=0.7.0 in /usr/local/lib/python3.8/dist-packages (from konlpy) (1.4.1)\n",
            "Requirement already satisfied: packaging in /usr/local/lib/python3.8/dist-packages (from JPype1>=0.7.0->konlpy) (21.3)\n",
            "Requirement already satisfied: pyparsing!=3.0.5,>=2.0.2 in /usr/local/lib/python3.8/dist-packages (from packaging->JPype1>=0.7.0->konlpy) (3.0.9)\n"
          ]
        }
      ]
    },
    {
      "cell_type": "code",
      "metadata": {
        "id": "RAKKV201mYgJ"
      },
      "source": [
        "import konlpy\n",
        "import numpy as np\n",
        "import pandas as pd\n",
        "import sklearn\n",
        "from sklearn.feature_extraction.text import CountVectorizer\n",
        "from sklearn.decomposition import LatentDirichletAllocation\n",
        "from konlpy.tag import Okt"
      ],
      "execution_count": null,
      "outputs": []
    },
    {
      "cell_type": "code",
      "metadata": {
        "colab": {
          "base_uri": "https://localhost:8080/"
        },
        "id": "ohsJ-x4nnakl",
        "scrolled": true,
        "outputId": "6e134889-3efb-457b-f1b3-ff062c349451"
      },
      "source": [
        "!wget https://bit.ly/2QA9xhg -O news_1500.xlsx"
      ],
      "execution_count": null,
      "outputs": [
        {
          "output_type": "stream",
          "name": "stdout",
          "text": [
            "--2023-01-24 05:48:11--  https://bit.ly/2QA9xhg\n",
            "Resolving bit.ly (bit.ly)... 67.199.248.11, 67.199.248.10\n",
            "Connecting to bit.ly (bit.ly)|67.199.248.11|:443... connected.\n",
            "HTTP request sent, awaiting response... 301 Moved Permanently\n",
            "Location: https://www.dropbox.com/s/yj1gxuy0hkjwjpu/news_1500.xlsx [following]\n",
            "--2023-01-24 05:48:11--  https://www.dropbox.com/s/yj1gxuy0hkjwjpu/news_1500.xlsx\n",
            "Resolving www.dropbox.com (www.dropbox.com)... 162.125.81.18, 2620:100:6031:18::a27d:5112\n",
            "Connecting to www.dropbox.com (www.dropbox.com)|162.125.81.18|:443... connected.\n",
            "HTTP request sent, awaiting response... 302 Found\n",
            "Location: /s/raw/yj1gxuy0hkjwjpu/news_1500.xlsx [following]\n",
            "--2023-01-24 05:48:11--  https://www.dropbox.com/s/raw/yj1gxuy0hkjwjpu/news_1500.xlsx\n",
            "Reusing existing connection to www.dropbox.com:443.\n",
            "HTTP request sent, awaiting response... 302 Found\n",
            "Location: https://uc5073f9acc1d3cef6bff64c66ba.dl.dropboxusercontent.com/cd/0/inline/B1JHLQ2XxLOwoHMzrbnXfpr0wQ6BXBG1laDxQkiBe4QfSwaEOf-nOBzXFeRU_AEIkFsBiRcrsPAXqLt42MHQp_6zjBPX67Da3j3XVq0oqYjQcH2o1hsGY1Mb_Yb-g_wVBFgi8xxpCdH_oHmkf6Py1Aszlq7QkfxE2mfdF3Rl4rlkug/file# [following]\n",
            "--2023-01-24 05:48:12--  https://uc5073f9acc1d3cef6bff64c66ba.dl.dropboxusercontent.com/cd/0/inline/B1JHLQ2XxLOwoHMzrbnXfpr0wQ6BXBG1laDxQkiBe4QfSwaEOf-nOBzXFeRU_AEIkFsBiRcrsPAXqLt42MHQp_6zjBPX67Da3j3XVq0oqYjQcH2o1hsGY1Mb_Yb-g_wVBFgi8xxpCdH_oHmkf6Py1Aszlq7QkfxE2mfdF3Rl4rlkug/file\n",
            "Resolving uc5073f9acc1d3cef6bff64c66ba.dl.dropboxusercontent.com (uc5073f9acc1d3cef6bff64c66ba.dl.dropboxusercontent.com)... 162.125.81.15, 2620:100:6031:15::a27d:510f\n",
            "Connecting to uc5073f9acc1d3cef6bff64c66ba.dl.dropboxusercontent.com (uc5073f9acc1d3cef6bff64c66ba.dl.dropboxusercontent.com)|162.125.81.15|:443... connected.\n",
            "HTTP request sent, awaiting response... 302 Found\n",
            "Location: /cd/0/inline2/B1KLuLEdg_pfU7zJJFroCFNgVnHPJ2vSA0Gc_IxmXDJvsJGZKwLXVFhOxnBFz44xNPmI2_KFtL16cARBoz_Jg3s71LnLkbs7Zua70X7EFSfljTVrgRY6sZVNU_qrL-HLOb3OJz30JRB4MTxqFCiV8kOIMrFk7nD-4GUu2P8zaibpz-fw2FPOjU1NCXXqyUopHvXQb07t6dX9CoBwSQBtmTw6qF6EdEH0MhErNGi_j5-qs4_ssr--QWSicpJHw3bi898SO947ITWE7PBEkf51AzRTe2_1WbP0njJdGrJF1WA3UdF-f6Qgwfw__OFWsJaa6K6vbubqEiHjnWGXfSHCwbSmCPj5LB9k0mQ-XOpudAyerqcCpMPwi7bf8ihwLbKQK-Ua75GqAr0oRaD8ZaL-O1wKQ66m1G1aZUP9o5d12BwT3Q/file [following]\n",
            "--2023-01-24 05:48:12--  https://uc5073f9acc1d3cef6bff64c66ba.dl.dropboxusercontent.com/cd/0/inline2/B1KLuLEdg_pfU7zJJFroCFNgVnHPJ2vSA0Gc_IxmXDJvsJGZKwLXVFhOxnBFz44xNPmI2_KFtL16cARBoz_Jg3s71LnLkbs7Zua70X7EFSfljTVrgRY6sZVNU_qrL-HLOb3OJz30JRB4MTxqFCiV8kOIMrFk7nD-4GUu2P8zaibpz-fw2FPOjU1NCXXqyUopHvXQb07t6dX9CoBwSQBtmTw6qF6EdEH0MhErNGi_j5-qs4_ssr--QWSicpJHw3bi898SO947ITWE7PBEkf51AzRTe2_1WbP0njJdGrJF1WA3UdF-f6Qgwfw__OFWsJaa6K6vbubqEiHjnWGXfSHCwbSmCPj5LB9k0mQ-XOpudAyerqcCpMPwi7bf8ihwLbKQK-Ua75GqAr0oRaD8ZaL-O1wKQ66m1G1aZUP9o5d12BwT3Q/file\n",
            "Reusing existing connection to uc5073f9acc1d3cef6bff64c66ba.dl.dropboxusercontent.com:443.\n",
            "HTTP request sent, awaiting response... 200 OK\n",
            "Length: 316462 (309K) [application/vnd.openxmlformats-officedocument.spreadsheetml.sheet]\n",
            "Saving to: ‘news_1500.xlsx’\n",
            "\n",
            "news_1500.xlsx      100%[===================>] 309.04K  --.-KB/s    in 0.008s  \n",
            "\n",
            "2023-01-24 05:48:12 (39.5 MB/s) - ‘news_1500.xlsx’ saved [316462/316462]\n",
            "\n"
          ]
        }
      ]
    },
    {
      "cell_type": "code",
      "metadata": {
        "id": "NWAqESDNmYgM"
      },
      "source": [
        "df_train = pd.read_excel('news_1500.xlsx', names=['기사'], \n",
        "                         keep_default_na=False) # no strings parsed as NaN values \n",
        "#Countvectorizer적용을 위해 list로 변환\n",
        "list_train = df_train['기사'].tolist()"
      ],
      "execution_count": null,
      "outputs": []
    },
    {
      "cell_type": "code",
      "metadata": {
        "colab": {
          "base_uri": "https://localhost:8080/",
          "height": 143
        },
        "id": "Zmxak2j1_CwW",
        "outputId": "99814e3a-7152-416b-9ebd-15f720869ea2"
      },
      "source": [
        "df_train.head(3)"
      ],
      "execution_count": null,
      "outputs": [
        {
          "output_type": "execute_result",
          "data": {
            "text/plain": [
              "                                                  기사\n",
              "0  호주 브리즈번에서 발생한 한국인 워킹홀리데이 참가자 살해범이 같은 한국인 것으로 드...\n",
              "1  호주 경찰이 한국인 워킹홀리데이 참가자를 살해한 혐의로 또 다른 한국인 남성을 기소...\n",
              "2    \\n \\n호주 괴물 가재가 공개돼 네티즌들의 폭발적인 관심을 끌고 있다. \\n ..."
            ],
            "text/html": [
              "\n",
              "  <div id=\"df-26d60189-2c1b-425a-93f7-9f8194e396b4\">\n",
              "    <div class=\"colab-df-container\">\n",
              "      <div>\n",
              "<style scoped>\n",
              "    .dataframe tbody tr th:only-of-type {\n",
              "        vertical-align: middle;\n",
              "    }\n",
              "\n",
              "    .dataframe tbody tr th {\n",
              "        vertical-align: top;\n",
              "    }\n",
              "\n",
              "    .dataframe thead th {\n",
              "        text-align: right;\n",
              "    }\n",
              "</style>\n",
              "<table border=\"1\" class=\"dataframe\">\n",
              "  <thead>\n",
              "    <tr style=\"text-align: right;\">\n",
              "      <th></th>\n",
              "      <th>기사</th>\n",
              "    </tr>\n",
              "  </thead>\n",
              "  <tbody>\n",
              "    <tr>\n",
              "      <th>0</th>\n",
              "      <td>호주 브리즈번에서 발생한 한국인 워킹홀리데이 참가자 살해범이 같은 한국인 것으로 드...</td>\n",
              "    </tr>\n",
              "    <tr>\n",
              "      <th>1</th>\n",
              "      <td>호주 경찰이 한국인 워킹홀리데이 참가자를 살해한 혐의로 또 다른 한국인 남성을 기소...</td>\n",
              "    </tr>\n",
              "    <tr>\n",
              "      <th>2</th>\n",
              "      <td>\\n \\n호주 괴물 가재가 공개돼 네티즌들의 폭발적인 관심을 끌고 있다. \\n ...</td>\n",
              "    </tr>\n",
              "  </tbody>\n",
              "</table>\n",
              "</div>\n",
              "      <button class=\"colab-df-convert\" onclick=\"convertToInteractive('df-26d60189-2c1b-425a-93f7-9f8194e396b4')\"\n",
              "              title=\"Convert this dataframe to an interactive table.\"\n",
              "              style=\"display:none;\">\n",
              "        \n",
              "  <svg xmlns=\"http://www.w3.org/2000/svg\" height=\"24px\"viewBox=\"0 0 24 24\"\n",
              "       width=\"24px\">\n",
              "    <path d=\"M0 0h24v24H0V0z\" fill=\"none\"/>\n",
              "    <path d=\"M18.56 5.44l.94 2.06.94-2.06 2.06-.94-2.06-.94-.94-2.06-.94 2.06-2.06.94zm-11 1L8.5 8.5l.94-2.06 2.06-.94-2.06-.94L8.5 2.5l-.94 2.06-2.06.94zm10 10l.94 2.06.94-2.06 2.06-.94-2.06-.94-.94-2.06-.94 2.06-2.06.94z\"/><path d=\"M17.41 7.96l-1.37-1.37c-.4-.4-.92-.59-1.43-.59-.52 0-1.04.2-1.43.59L10.3 9.45l-7.72 7.72c-.78.78-.78 2.05 0 2.83L4 21.41c.39.39.9.59 1.41.59.51 0 1.02-.2 1.41-.59l7.78-7.78 2.81-2.81c.8-.78.8-2.07 0-2.86zM5.41 20L4 18.59l7.72-7.72 1.47 1.35L5.41 20z\"/>\n",
              "  </svg>\n",
              "      </button>\n",
              "      \n",
              "  <style>\n",
              "    .colab-df-container {\n",
              "      display:flex;\n",
              "      flex-wrap:wrap;\n",
              "      gap: 12px;\n",
              "    }\n",
              "\n",
              "    .colab-df-convert {\n",
              "      background-color: #E8F0FE;\n",
              "      border: none;\n",
              "      border-radius: 50%;\n",
              "      cursor: pointer;\n",
              "      display: none;\n",
              "      fill: #1967D2;\n",
              "      height: 32px;\n",
              "      padding: 0 0 0 0;\n",
              "      width: 32px;\n",
              "    }\n",
              "\n",
              "    .colab-df-convert:hover {\n",
              "      background-color: #E2EBFA;\n",
              "      box-shadow: 0px 1px 2px rgba(60, 64, 67, 0.3), 0px 1px 3px 1px rgba(60, 64, 67, 0.15);\n",
              "      fill: #174EA6;\n",
              "    }\n",
              "\n",
              "    [theme=dark] .colab-df-convert {\n",
              "      background-color: #3B4455;\n",
              "      fill: #D2E3FC;\n",
              "    }\n",
              "\n",
              "    [theme=dark] .colab-df-convert:hover {\n",
              "      background-color: #434B5C;\n",
              "      box-shadow: 0px 1px 3px 1px rgba(0, 0, 0, 0.15);\n",
              "      filter: drop-shadow(0px 1px 2px rgba(0, 0, 0, 0.3));\n",
              "      fill: #FFFFFF;\n",
              "    }\n",
              "  </style>\n",
              "\n",
              "      <script>\n",
              "        const buttonEl =\n",
              "          document.querySelector('#df-26d60189-2c1b-425a-93f7-9f8194e396b4 button.colab-df-convert');\n",
              "        buttonEl.style.display =\n",
              "          google.colab.kernel.accessAllowed ? 'block' : 'none';\n",
              "\n",
              "        async function convertToInteractive(key) {\n",
              "          const element = document.querySelector('#df-26d60189-2c1b-425a-93f7-9f8194e396b4');\n",
              "          const dataTable =\n",
              "            await google.colab.kernel.invokeFunction('convertToInteractive',\n",
              "                                                     [key], {});\n",
              "          if (!dataTable) return;\n",
              "\n",
              "          const docLinkHtml = 'Like what you see? Visit the ' +\n",
              "            '<a target=\"_blank\" href=https://colab.research.google.com/notebooks/data_table.ipynb>data table notebook</a>'\n",
              "            + ' to learn more about interactive tables.';\n",
              "          element.innerHTML = '';\n",
              "          dataTable['output_type'] = 'display_data';\n",
              "          await google.colab.output.renderOutput(dataTable, element);\n",
              "          const docLink = document.createElement('div');\n",
              "          docLink.innerHTML = docLinkHtml;\n",
              "          element.appendChild(docLink);\n",
              "        }\n",
              "      </script>\n",
              "    </div>\n",
              "  </div>\n",
              "  "
            ]
          },
          "metadata": {},
          "execution_count": 5
        }
      ]
    },
    {
      "cell_type": "code",
      "metadata": {
        "colab": {
          "base_uri": "https://localhost:8080/"
        },
        "id": "F-9QTOBPn0wS",
        "outputId": "a8eb5da9-253b-4196-a784-595f634d5640"
      },
      "source": [
        "list_train[:5], len(list_train)"
      ],
      "execution_count": null,
      "outputs": [
        {
          "output_type": "execute_result",
          "data": {
            "text/plain": [
              "(['호주 브리즈번에서 발생한 한국인 워킹홀리데이 참가자 살해범이 같은 한국인 것으로 드라나 충격을 주고 있다. \\n \\n20일 호주 국영 ABC방송은 퀸즐랜드주 경찰이 김모(28)씨를 살해하고 암매장한 혐의로\\xa0한국인 홍모(28)씨를\\xa0체포했다고 보도했다. \\n \\n경찰에 따르면 홍씨는\\xa0지난 16일 오후 브리즈번 캐넌힐에서 1만 5000 호주달러를 원화로 환전해줄 사..',\n",
              "  '호주 경찰이 한국인 워킹홀리데이 참가자를 살해한 혐의로 또 다른 한국인 남성을 기소했다고 호주 언론이 보도했다. \\n \\n퀸즐랜드주 경찰은 20일(현지시간) 금품을 빼앗기 위해 김민태(28)씨를 살해한 혐의로 황모(28)씨를 기소했다고 시드니모닝헤럴드가 보도했다. \\n \\n그는 이날 브리즈번 법원에서 열린 심리에 출석해 기자들로부터 고개를 돌린 채 아래쪽만 쳐..',\n",
              "  '\\xa0 \\n \\n호주 괴물 가재가 공개돼 네티즌들의 폭발적인 관심을 끌고 있다. \\n \\n최근 각종 온라인 커뮤니티 게시판에는 ‘호주 괴물 가재’라는 제목의 사진 한 장이 게재됐다. \\n \\n공개된 사진에는 웬만한 성인 남성 팔 크기와 비슷한 가재의 모습이 담겨 있다. 사진 속 남성도 가재가 무거운지 엉거주춤한 자세를 취하고 있다. 호주에서 잡힌 것으로 알려진 가재의..',\n",
              "  '최근 인기를 끌고 있는 tvN의 드라마 ‘응답하라 1994’가 같은 장면을 내보내고 다른 프로그램의 화면이 나오는 등 방송사고를 냈다. \\n▶ 방송사고 이후 사과 자막이 나오는 tvN ‘응답하라 1994’의 한 장면.20일 밤 10시쯤 드라마 ‘응답하라 1994’가 방송되는 도중에 방송사고가 발생했다. 이날 방송에서 성나정이 호주로 떠났다가 한국으로 돌아..',\n",
              "  '호주 워킹홀리데이 한국인 참가자가 19일 또다시 숨진 채 발견됐다. 지난달 호주에서 한국인 여대생이 무참히 살해된 지 한 달도 지나지 않아 발생한 이번 사건으로 호주 교민사회 및 어학연수 희망자들의 불안감이 커지고 있다. \\n \\n호주 ABC방송 등에 따르면 퀸즐랜드주 경찰은 이날 브리즈번 남서부 앨지스터 한 주택 뒷마당에서 발견된 변사체가 사흘 전 행방불..'],\n",
              " 1499)"
            ]
          },
          "metadata": {},
          "execution_count": 6
        }
      ]
    },
    {
      "cell_type": "code",
      "metadata": {
        "id": "fiT5TWoImYgQ"
      },
      "source": [
        "okt = Okt()\n",
        "results = []\n",
        "for line in list_train:\n",
        "    word_list = okt.pos(line, norm=True, stem=True)  # part of speech (품사)\n",
        "    words = []\n",
        "    for word in word_list:\n",
        "        if not word[1] in [\"Josa\", \"eomi\", \"Punctuation\", \"Verb\"]:\n",
        "            words.append(word[0])\n",
        "    words = (\" \".join(words)).strip()\n",
        "    results.append(words)"
      ],
      "execution_count": null,
      "outputs": []
    },
    {
      "cell_type": "code",
      "metadata": {
        "colab": {
          "base_uri": "https://localhost:8080/"
        },
        "id": "jNjcdbhL_gYx",
        "outputId": "a30a16ad-117b-4bfe-caca-95db40cceb64"
      },
      "source": [
        "results[:5]"
      ],
      "execution_count": null,
      "outputs": [
        {
          "output_type": "execute_result",
          "data": {
            "text/plain": [
              "['호주 브리즈번 발생 한국인 워킹홀리데이 참가자 살해 범 같다 한국인 것 드라 충격 있다 20일 호주 국영 ABC 방송 퀸즐랜드 주 경찰 김모 28 씨 살해 암매장 혐의 \\xa0 한국인 홍모 28 씨 \\xa0 체포 보도 경찰 홍씨 \\xa0 지난 16일 오후 브리즈번 캐넌 힐 1만 5000 호주달러 원화로 환전 사',\n",
              " '호주 경찰 한국인 워킹홀리데이 참가자 살해 혐의 또 다른 한국인 남성 기소 호주 언론 보도 퀸즐랜드 주 경찰 20일 현지 시간 금품 위해 김민 태 28 씨 살해 혐의 황모 28 씨 기소 시드니 모닝 헤럴드 보도 그 이 날 브리즈번 법원 심리 출석 기자 들 로부터 고개 채 아래쪽',\n",
              " '호주 괴물 가재 공개 네티즌 들 폭발 적 관심 끌 있다 최근 각종 온라인 커뮤니티 게시판 ‘ 호주 괴물 가재 제목 사진 장이 게재 공개 사진 웬만하다 성인 남성 팔 크기 비슷하다 가재 모습 있다 사진 속 남성 가재 무겁다 엉거주춤 자세 취하 있다 호주 것 가재',\n",
              " '최근 인기 끌 있다 tvN 의 드라마 ‘ 응답 하 1994 같다 장면 다른 프로그램 화면 등 방송사고 ▶ 방송사고 이후 사과 자막 tvN ‘ 응답 하 1994 의 장면 20일 밤 10시 쯤 드라마 ‘ 응답 하 1994 방송 도중 방송사고 발생 이 날 방송 정이 호주 한국',\n",
              " '호주 워킹홀리데이 한국인 참가자 19일 또다시 채 발견 지난달 호주 한국인 여대생 무참 히 살해 달도 발생 이번 사건 호주 교민 사회 및 어학 연수 희망 자 들 불안감 있다 호주 ABC 방송 등 퀸즐랜드 주 경찰 이 날 브리즈번 남 서부 앨 지스 터 주택 뒷마당 발견 변 사체 사흘 전 행방 불']"
            ]
          },
          "metadata": {},
          "execution_count": 8
        }
      ]
    },
    {
      "cell_type": "markdown",
      "source": [
        "- LDA"
      ],
      "metadata": {
        "id": "6Dh1-cSFRoLP"
      }
    },
    {
      "cell_type": "code",
      "metadata": {
        "id": "fOJsf8t2mYgT"
      },
      "source": [
        "# max_df = 0.50 means \"ignore terms that appear in more than 50% of the documents\".\n",
        "# max_df = 25 means \"ignore terms that appear in more than 25 documents\".\n",
        "\n",
        "vect = CountVectorizer(max_features=10000, max_df=.10)\n",
        "X = vect.fit_transform(results)\n",
        "\n",
        "# n_components: number of topics\n",
        "lda = LatentDirichletAllocation(n_components=10, learning_method=\"batch\",\n",
        "                                max_iter=25, random_state=0)\n",
        "\n",
        "document_topics = lda.fit_transform(X)"
      ],
      "execution_count": null,
      "outputs": []
    },
    {
      "cell_type": "code",
      "source": [
        "X.shape"
      ],
      "metadata": {
        "colab": {
          "base_uri": "https://localhost:8080/"
        },
        "id": "uztqlxIWSC7N",
        "outputId": "9078cadb-a952-451b-ad5f-c74215f83bfb"
      },
      "execution_count": null,
      "outputs": [
        {
          "output_type": "execute_result",
          "data": {
            "text/plain": [
              "(1499, 10000)"
            ]
          },
          "metadata": {},
          "execution_count": 10
        }
      ]
    },
    {
      "cell_type": "code",
      "metadata": {
        "colab": {
          "base_uri": "https://localhost:8080/"
        },
        "id": "5br48AQgSL7d",
        "outputId": "55daf99e-75f0-4a6a-c661-ed5e379891e6"
      },
      "source": [
        "document_topics.shape    # no_documents x no_topics"
      ],
      "execution_count": null,
      "outputs": [
        {
          "output_type": "execute_result",
          "data": {
            "text/plain": [
              "(1499, 10)"
            ]
          },
          "metadata": {},
          "execution_count": 12
        }
      ]
    },
    {
      "cell_type": "code",
      "metadata": {
        "colab": {
          "base_uri": "https://localhost:8080/"
        },
        "id": "ok1qMP4NSTcy",
        "outputId": "c8c2b12e-ab4d-4699-fe59-0d178f284e0e"
      },
      "source": [
        "document_topics[0]"
      ],
      "execution_count": null,
      "outputs": [
        {
          "output_type": "execute_result",
          "data": {
            "text/plain": [
              "array([0.0028581 , 0.00285819, 0.00285742, 0.3137773 , 0.00285793,\n",
              "       0.66336031, 0.00285772, 0.00285763, 0.00285744, 0.00285798])"
            ]
          },
          "metadata": {},
          "execution_count": 13
        }
      ]
    },
    {
      "cell_type": "markdown",
      "metadata": {
        "id": "1yCBOQqP2HOJ"
      },
      "source": [
        "- components_[i, j] can be viewed as pseudocount that represents the number of times (word j was assigned to topic i). \n",
        "-  It can also be viewed as distribution over the words for each topic after normalization:"
      ]
    },
    {
      "cell_type": "code",
      "metadata": {
        "colab": {
          "base_uri": "https://localhost:8080/"
        },
        "id": "6y4q5t_S6PoQ",
        "outputId": "8dc14c89-afda-4c30-e0c1-a9dbd399c725"
      },
      "source": [
        "lda.components_.shape     # no_topics x no_vocabularies"
      ],
      "execution_count": null,
      "outputs": [
        {
          "output_type": "execute_result",
          "data": {
            "text/plain": [
              "(10, 10000)"
            ]
          },
          "metadata": {},
          "execution_count": 15
        }
      ]
    },
    {
      "cell_type": "code",
      "metadata": {
        "colab": {
          "base_uri": "https://localhost:8080/"
        },
        "id": "9CDlvyGlmYgV",
        "outputId": "1f64451b-a5b9-4f1e-f123-6ecbfe88cd52"
      },
      "source": [
        "lda.components_[0]"
      ],
      "execution_count": null,
      "outputs": [
        {
          "output_type": "execute_result",
          "data": {
            "text/plain": [
              "array([0.1       , 0.1       , 1.10000029, ..., 0.1       , 0.1       ,\n",
              "       0.1       ])"
            ]
          },
          "metadata": {},
          "execution_count": 16
        }
      ]
    },
    {
      "cell_type": "code",
      "metadata": {
        "colab": {
          "base_uri": "https://localhost:8080/"
        },
        "id": "W7dVkl142HOK",
        "outputId": "14553b27-8dab-4691-ec4b-10aa4930ffc3"
      },
      "source": [
        "lda.components_.argsort(axis=1)[:,::-1]"
      ],
      "execution_count": null,
      "outputs": [
        {
          "output_type": "execute_result",
          "data": {
            "text/plain": [
              "array([[4166, 6205, 5187, ..., 6066, 5206, 8109],\n",
              "       [4339, 9353, 7862, ..., 5982, 5206, 8109],\n",
              "       [2554, 4573, 4202, ..., 5982, 6066, 8109],\n",
              "       ...,\n",
              "       [2499, 2554, 4655, ..., 6066, 5206, 8109],\n",
              "       [3471, 3823, 2499, ..., 6066, 5206, 8109],\n",
              "       [5945, 8843, 6884, ..., 5982, 6066, 5206]])"
            ]
          },
          "metadata": {},
          "execution_count": 17
        }
      ]
    },
    {
      "cell_type": "code",
      "metadata": {
        "id": "Xwof2b3HmYgZ",
        "colab": {
          "base_uri": "https://localhost:8080/"
        },
        "outputId": "a068614f-e631-42fe-84a8-986df9fb4ad7"
      },
      "source": [
        "# 토픽마다(components_의 행) 특성을 오름차순으로 정렬합니다\n",
        "# 내림차순이 되도록 [:, ::-1] 사용해 행의 정렬을 반대로 바꿉니다\n",
        "sorting = np.argsort(lda.components_, axis=1)[:, ::-1]\n",
        "\n",
        "# CountVectorizer 객체에서 특성 이름을 구합니다.\n",
        "feature_names = np.array(vect.get_feature_names())"
      ],
      "execution_count": null,
      "outputs": [
        {
          "output_type": "stream",
          "name": "stderr",
          "text": [
            "/usr/local/lib/python3.8/dist-packages/sklearn/utils/deprecation.py:87: FutureWarning: Function get_feature_names is deprecated; get_feature_names is deprecated in 1.0 and will be removed in 1.2. Please use get_feature_names_out instead.\n",
            "  warnings.warn(msg, category=FutureWarning)\n"
          ]
        }
      ]
    },
    {
      "cell_type": "code",
      "metadata": {
        "id": "773qn2AR2HOM",
        "colab": {
          "base_uri": "https://localhost:8080/"
        },
        "outputId": "692e5661-5e7c-4294-a998-f20aa0331557"
      },
      "source": [
        "lda.components_.shape"
      ],
      "execution_count": null,
      "outputs": [
        {
          "output_type": "execute_result",
          "data": {
            "text/plain": [
              "(10, 10000)"
            ]
          },
          "metadata": {},
          "execution_count": 19
        }
      ]
    },
    {
      "cell_type": "code",
      "metadata": {
        "scrolled": true,
        "id": "ElzlUCPT2HON",
        "colab": {
          "base_uri": "https://localhost:8080/"
        },
        "outputId": "e9c7384d-1162-4327-de48-8c39d806e5c5"
      },
      "source": [
        "N = 10 # number of words to print for each topic\n",
        "for i in range(0, lda.components_.shape[0]):\n",
        "    print (\"topic {}:\".format(i))\n",
        "    topic_idx = lda.components_.argsort(axis=1)[:,::-1][i]\n",
        "    topic_words = [topic_idx[j] for j in range(0,N)]\n",
        "    print (feature_names[topic_words])"
      ],
      "execution_count": null,
      "outputs": [
        {
          "output_type": "stream",
          "name": "stdout",
          "text": [
            "topic 0:\n",
            "['박태환' '올림픽' '수영' '출전' '리우' '국가대표' '27' '정부' '선수' '대학']\n",
            "topic 1:\n",
            "['보도' '필리핀' '지역' '통해' '결과' '정부' '같다' '발견' '조사' '방송']\n",
            "topic 2:\n",
            "['국제' '사드' '발표' '개최' '내년' '독도' '평화' '위성' '소녀' '기업']\n",
            "topic 3:\n",
            "['리그' '포켓몬' '축구' 'acl' '감독' '게임' '시즌' '해밍턴' '지난해' '전북']\n",
            "topic 4:\n",
            "['올림픽' '경기' '대표팀' '예선' '대회' '시드니' '오후' '2016' '출전' '리우']\n",
            "topic 5:\n",
            "['축구' '브라질' '월드컵' '선수' 'fifa' '본선' '대표팀' '연맹' '2014' '국제']\n",
            "topic 6:\n",
            "['골프' '투어' '프로' '대회' '여자' '랭킹' 'lpga' '상금' '라운드' 'pga']\n",
            "topic 7:\n",
            "['국가' '국제' '삼성' '대만' '2013' '해외' '시리즈' '대통령' '정보' '보도']\n",
            "topic 8:\n",
            "['대통령' '마약' '국가' '개국' '없다' '20' '개발' '전자' '유엔' '우리나라']\n",
            "topic 9:\n",
            "['여성' '통화' '일리' '시드니' '수출' '메일' '해외' '밉다' '정부' '소녀']\n"
          ]
        }
      ]
    },
    {
      "cell_type": "code",
      "metadata": {
        "id": "XOiDo2XumYgc",
        "scrolled": true
      },
      "source": [
        "### text 에 있는 포맷 (위와 동일한 정보) ###\n",
        "\n",
        "%matplotlib inline\n",
        "import matplotlib.pyplot as plt\n",
        "\n",
        "def print_topics(topics, feature_names, sorting, topics_per_chunk=6, n_words=20):\n",
        "    for i in range(0, len(topics), topics_per_chunk):\n",
        "        # for each chunk:\n",
        "        these_topics = topics[i: i + topics_per_chunk]\n",
        "        # maybe we have less than topics_per_chunk left\n",
        "        len_this_chunk = len(these_topics)\n",
        "        # print topic headers\n",
        "        print((\"topic {:<8}\" * len_this_chunk).format(*these_topics))\n",
        "        print((\"-------- {0:<5}\" * len_this_chunk).format(\"\"))\n",
        "        # print top n_words frequent words\n",
        "        for i in range(n_words):\n",
        "            try:\n",
        "                print((\"{:<14}\" * len_this_chunk).format(\n",
        "                    *feature_names[sorting[these_topics, i]]))\n",
        "            except:\n",
        "                pass\n",
        "        print(\"\\n\")\n"
      ],
      "execution_count": null,
      "outputs": []
    },
    {
      "cell_type": "code",
      "metadata": {
        "colab": {
          "base_uri": "https://localhost:8080/"
        },
        "id": "rfk58_4C-Ds4",
        "outputId": "602ead19-f345-4c8d-a5e9-787a66472997"
      },
      "source": [
        "print_topics(topics=range(10), feature_names=feature_names, sorting=sorting, \n",
        "             topics_per_chunk=4, n_words=10)"
      ],
      "execution_count": null,
      "outputs": [
        {
          "output_type": "stream",
          "name": "stdout",
          "text": [
            "topic 0       topic 1       topic 2       topic 3       \n",
            "--------      --------      --------      --------      \n",
            "박태환           보도            국제            리그            \n",
            "올림픽           필리핀           사드            포켓몬           \n",
            "수영            지역            발표            축구            \n",
            "출전            통해            개최            acl           \n",
            "리우            결과            내년            감독            \n",
            "국가대표          정부            독도            게임            \n",
            "27            같다            평화            시즌            \n",
            "정부            발견            위성            해밍턴           \n",
            "선수            조사            소녀            지난해           \n",
            "대학            방송            기업            전북            \n",
            "\n",
            "\n",
            "topic 4       topic 5       topic 6       topic 7       \n",
            "--------      --------      --------      --------      \n",
            "올림픽           축구            골프            국가            \n",
            "경기            브라질           투어            국제            \n",
            "대표팀           월드컵           프로            삼성            \n",
            "예선            선수            대회            대만            \n",
            "대회            fifa          여자            2013          \n",
            "시드니           본선            랭킹            해외            \n",
            "오후            대표팀           lpga          시리즈           \n",
            "2016          연맹            상금            대통령           \n",
            "출전            2014          라운드           정보            \n",
            "리우            국제            pga           보도            \n",
            "\n",
            "\n",
            "topic 8       topic 9       \n",
            "--------      --------      \n",
            "대통령           여성            \n",
            "마약            통화            \n",
            "국가            일리            \n",
            "개국            시드니           \n",
            "없다            수출            \n",
            "20            메일            \n",
            "개발            해외            \n",
            "전자            밉다            \n",
            "유엔            정부            \n",
            "우리나라          소녀            \n",
            "\n",
            "\n"
          ]
        }
      ]
    },
    {
      "cell_type": "code",
      "metadata": {
        "id": "ybisFleNmYgf"
      },
      "source": [
        "# 100개 토픽으로 학습\n",
        "lda100 = LatentDirichletAllocation(n_components=100, learning_method=\"batch\",\n",
        "                                   max_iter=25, random_state=0)\n",
        "document_topics100 = lda100.fit_transform(X)"
      ],
      "execution_count": null,
      "outputs": []
    },
    {
      "cell_type": "code",
      "metadata": {
        "id": "j1LVxI1PmYgi"
      },
      "source": [
        "topics = np.array([7, 16, 24, 41, 45, 51, 54, 81, 89, 97])"
      ],
      "execution_count": null,
      "outputs": []
    },
    {
      "cell_type": "code",
      "metadata": {
        "id": "aXLkPbtdmYgk",
        "colab": {
          "base_uri": "https://localhost:8080/"
        },
        "outputId": "ec3fdd69-5be0-4159-a64c-40ed72dcd4c0"
      },
      "source": [
        "sorting = np.argsort(lda100.components_, axis=1)[:, ::-1]\n",
        "feature_names = np.array(vect.get_feature_names())\n",
        "print_topics(topics=topics, feature_names=feature_names,\n",
        "                           sorting=sorting, topics_per_chunk=5, n_words=10)"
      ],
      "execution_count": null,
      "outputs": [
        {
          "output_type": "stream",
          "name": "stdout",
          "text": [
            "topic 7       topic 16      topic 24      topic 41      topic 45      \n",
            "--------      --------      --------      --------      --------      \n",
            "엘니뇨           위해            사이트           태풍            리그            \n",
            "피해자           남중국해          경쟁            이름            전북            \n",
            "옥스팜           보도            이행            의미            축구            \n",
            "보고서           페이스북          도박            손흥민           연맹            \n",
            "wff           커플            수준            독일            acl           \n",
            "노예            인도            포트            지역            챔피언스리그        \n",
            "2013          합동            발표            매장            클래식           \n",
            "트러블메이커        순찰            국가            물이            현대            \n",
            "가장            이케아           대학            게시            서울            \n",
            "항공            방송            등급            말레이시아         시즌            \n",
            "\n",
            "\n",
            "topic 51      topic 54      topic 81      topic 89      topic 97      \n",
            "--------      --------      --------      --------      --------      \n",
            "브라질           fta           여성            강아지           독도            \n",
            "네이마르          체결            이혼            유산            우즈            \n",
            "축구            축산물           자신            도시            중앙            \n",
            "감독            수입            소주            시드니           감독            \n",
            "월드컵           소방관           보도            지구            연맹            \n",
            "치료            자유무역          크루즈           혼자            마무리           \n",
            "연금            협정            가운데           도둑            평균            \n",
            "포켓몬           감독            아이            흉기            투수            \n",
            "지역            올해            옥스퍼드          도주            식목일           \n",
            "안보            수출입           정부            방송            바다            \n",
            "\n",
            "\n"
          ]
        }
      ]
    },
    {
      "cell_type": "code",
      "metadata": {
        "id": "QUuY_Ge82HOW",
        "colab": {
          "base_uri": "https://localhost:8080/"
        },
        "outputId": "656d80b4-d2f6-4351-d14b-d4cf6d569904"
      },
      "source": [
        "document_topics100.shape"
      ],
      "execution_count": null,
      "outputs": [
        {
          "output_type": "execute_result",
          "data": {
            "text/plain": [
              "(1499, 100)"
            ]
          },
          "metadata": {},
          "execution_count": 28
        }
      ]
    },
    {
      "cell_type": "code",
      "metadata": {
        "id": "ExxK6n7P2HOX",
        "colab": {
          "base_uri": "https://localhost:8080/"
        },
        "outputId": "2ca60ed7-3b6a-45ad-f7bb-e3fcbdabaa5a"
      },
      "source": [
        "np.argsort(document_topics100[:, 77])[::-1]"
      ],
      "execution_count": null,
      "outputs": [
        {
          "output_type": "execute_result",
          "data": {
            "text/plain": [
              "array([  26,  428,  273, ...,  839, 1193,  805])"
            ]
          },
          "metadata": {},
          "execution_count": 29
        }
      ]
    },
    {
      "cell_type": "code",
      "metadata": {
        "id": "lkML7dNemYgo",
        "colab": {
          "base_uri": "https://localhost:8080/"
        },
        "outputId": "ba49f49b-f0d6-4b9f-cd74-32f9b87197c2"
      },
      "source": [
        "# 관련 토픽 77를 가중치로 정렬\n",
        "topic77 = np.argsort(document_topics100[:, 77])[::-1]\n",
        "\n",
        "# 이 토픽이 가장 비중이 큰 문서 다섯개를 출력\n",
        "for i in topic77[:5]:\n",
        "    # 첫 두 문장을 출력합니다\n",
        "    print(list_train[i], \"\\n\")\n",
        "    print(\"***\")"
      ],
      "execution_count": null,
      "outputs": [
        {
          "output_type": "stream",
          "name": "stdout",
          "text": [
            "해외 한국인 유학생 수가 6년 연속 20만 명 이상을 기록하면서 어학연수 해외유학 교환학생 교수 해외 주재원 등 소량화물이사 운송 서비스의 수요가 크게 늘고 있다. \n",
            " \n",
            "한국교육개발원과 교육부 등에서 집계한 해외 유학생 현황 통계자료(2012년 기준)에 따르면, 국외 한국인 유학생 수는 2007년 처음으로 20만 명 이상을 돌파한 이래 여전히 높은 수치.. \n",
            "\n",
            "***\n",
            "화학무기 참사가 발생한 시리아에 대한 공습이 초읽기에 들어갔다는 관측 속에 미국의 움직임이 긴박하다.미국은 버락 오바마 대통령을 비롯해 척 헤이글 국방장관, 존 케리 국무장관 등 국방 안보 라인이 모두 나서 주요 우방과 전방위로 접촉하며 군사 행동에 착수할  경우에 대비한 공조 체제 가동 등의 약속을 받아내고 있다.오바마 대통령은 27일(현지시간) 케빈.. \n",
            "\n",
            "***\n",
            "윤상직 산업통상자원부 장관은 14일 미국 주도의 다자 FTA(자유무역협정)인 환태평양경제동반자협정(TPP) 참여 문제와 관련, \"가입 여부 자체를 확정하지 않았다\"고 말했다.윤 장관은 이날 정부과천청사에서 진행된 국회 산업통상자원위의 산업부 국정감사 답변을 통해 이같이 밝혔다고 연합뉴스가 전했다. 윤 장관은 한-중 FTA와의 연관성에 대한 질의에는 \"별.. \n",
            "\n",
            "***\n",
            "동북아허브 공항을 표방하고 있는 인천국제공항의 경쟁력이 세계 최하위 수준으로 나타났다. \n",
            " \n",
            "한국 항공사의 정시운항률 역시 세계 최하위권이라 항공산업 전반의 경쟁력 제고가 시급하다는 지적이다. \n",
            " \n",
            "11일 글로벌 항공정보 제공업체 OAG(Official Airline Guide)가 최근 공개한 ‘OAG 메가허브 2016’에 따르면 인천공항은 조사대상 세.. \n",
            "\n",
            "***\n",
            "일본과 호주의 국방장관이 25일 양국 안보협력을 강화하기로 했으며 중국의 해양 진출이 인근 지역 긴장을 고조시킨다는데 의견을 함께했다고 일본 언론이 보도했다. \n",
            " \n",
            "보도에 따르면 이나다 도모미(稻田朋美) 방위상은 이날 일본을 방문 중인 머리스 페인 호주 국방장관과 만나 상호군수지원협정(ACSA) 개정 협의를 가속하기로 했다. \n",
            " \n",
            "이는 일본의 안보관련법.. \n",
            "\n",
            "***\n"
          ]
        }
      ]
    },
    {
      "cell_type": "code",
      "metadata": {
        "id": "wWD5U4a-tDyp",
        "colab": {
          "base_uri": "https://localhost:8080/"
        },
        "outputId": "98127b23-a852-4b70-ec98-473545f70707"
      },
      "source": [
        "#한글 폰트 설치 (should restart the kernel after installing)\n",
        "\n",
        "import matplotlib\n",
        "!apt-get install fonts-nanum*\n",
        "!apt-get install fontconfig\n",
        "!fc-cache -fv\n",
        "!cp /usr/share/fonts/truetype/nanum/Nanum* /usr/local/lib/python3.6/dist-packages/matplotlib/mpl-data/fonts/ttf/\n",
        "!rm -rf /content/.cache/matplotlib/*\n",
        "matplotlib.font_manager._rebuild()\n"
      ],
      "execution_count": null,
      "outputs": [
        {
          "output_type": "stream",
          "name": "stdout",
          "text": [
            "Reading package lists... Done\n",
            "Building dependency tree       \n",
            "Reading state information... Done\n",
            "Note, selecting 'fonts-nanum-eco' for glob 'fonts-nanum*'\n",
            "Note, selecting 'fonts-nanum' for glob 'fonts-nanum*'\n",
            "Note, selecting 'fonts-nanum-gothic-light' for glob 'fonts-nanum*'\n",
            "Note, selecting 'fonts-nanum-coding' for glob 'fonts-nanum*'\n",
            "Note, selecting 'fonts-nanum-extra' for glob 'fonts-nanum*'\n",
            "fonts-nanum is already the newest version (20180306-3).\n",
            "fonts-nanum-coding is already the newest version (2.5-2).\n",
            "fonts-nanum-eco is already the newest version (1.000-7).\n",
            "fonts-nanum-extra is already the newest version (20180306-3).\n",
            "0 upgraded, 0 newly installed, 0 to remove and 23 not upgraded.\n",
            "Reading package lists... Done\n",
            "Building dependency tree       \n",
            "Reading state information... Done\n",
            "fontconfig is already the newest version (2.13.1-2ubuntu3).\n",
            "0 upgraded, 0 newly installed, 0 to remove and 23 not upgraded.\n",
            "/usr/share/fonts: caching, new cache contents: 0 fonts, 1 dirs\n",
            "/usr/share/fonts/truetype: caching, new cache contents: 0 fonts, 3 dirs\n",
            "/usr/share/fonts/truetype/humor-sans: caching, new cache contents: 1 fonts, 0 dirs\n",
            "/usr/share/fonts/truetype/liberation: caching, new cache contents: 16 fonts, 0 dirs\n",
            "/usr/share/fonts/truetype/nanum: caching, new cache contents: 31 fonts, 0 dirs\n",
            "/usr/local/share/fonts: caching, new cache contents: 0 fonts, 0 dirs\n",
            "/root/.local/share/fonts: skipping, no such directory\n",
            "/root/.fonts: skipping, no such directory\n",
            "/usr/share/fonts/truetype: skipping, looped directory detected\n",
            "/usr/share/fonts/truetype/humor-sans: skipping, looped directory detected\n",
            "/usr/share/fonts/truetype/liberation: skipping, looped directory detected\n",
            "/usr/share/fonts/truetype/nanum: skipping, looped directory detected\n",
            "/var/cache/fontconfig: cleaning cache directory\n",
            "/root/.cache/fontconfig: not cleaning non-existent cache directory\n",
            "/root/.fontconfig: not cleaning non-existent cache directory\n",
            "fc-cache: succeeded\n",
            "cp: target '/usr/local/lib/python3.6/dist-packages/matplotlib/mpl-data/fonts/ttf/' is not a directory\n"
          ]
        }
      ]
    },
    {
      "cell_type": "code",
      "metadata": {
        "id": "zgdc2cEtmYgs"
      },
      "source": [
        "import platform\n",
        "from matplotlib import font_manager, rc\n",
        "\n",
        "import matplotlib.pyplot as plt\n",
        "import matplotlib\n",
        "\n",
        "if platform.system() == 'Windows':\n",
        "    path = \"c:\\Windows\\Fonts\\malgun.ttf\"\n",
        "    font_name = font_manager.FontProperties(fname=path).get_name()\n",
        "    rc('font', family=font_name)\n",
        "# 맥\n",
        "elif platform.system() == 'Darwin':\n",
        "    rc('font', family='AppleGothic')\n",
        "# 리눅스\n",
        "elif platform.system() == 'Linux':\n",
        "    # rc('font', family='NanumBarunGothic')\n",
        "    rc('font', family='NanumBarunGothic')\n",
        "else:\n",
        "    print('system error...')"
      ],
      "execution_count": null,
      "outputs": []
    },
    {
      "cell_type": "code",
      "metadata": {
        "colab": {
          "base_uri": "https://localhost:8080/"
        },
        "id": "pTkre3cNVSJe",
        "outputId": "5fa116ae-bfa6-4127-b97f-357e951811ff"
      },
      "source": [
        "sorting"
      ],
      "execution_count": null,
      "outputs": [
        {
          "output_type": "execute_result",
          "data": {
            "text/plain": [
              "array([[8043, 3815, 2365, ..., 6631, 6630,    0],\n",
              "       [3167,    6, 6807, ..., 6622, 6621,    0],\n",
              "       [1917, 4202, 9704, ..., 6592, 6591,    0],\n",
              "       ...,\n",
              "       [3588, 6308, 7764, ..., 6632, 6631, 4999],\n",
              "       [ 263, 4613, 1876, ..., 6610, 6609,    0],\n",
              "       [5210, 7862, 2088, ..., 6623, 6622,    0]])"
            ]
          },
          "metadata": {},
          "execution_count": 33
        }
      ]
    },
    {
      "cell_type": "code",
      "source": [
        "feature_names.shape, feature_names[:10]"
      ],
      "metadata": {
        "colab": {
          "base_uri": "https://localhost:8080/"
        },
        "id": "BqkjitjFW3qd",
        "outputId": "6ae34a98-689c-4b52-ab1e-0d8b567f2829"
      },
      "execution_count": null,
      "outputs": [
        {
          "output_type": "execute_result",
          "data": {
            "text/plain": [
              "((10000,), array(['00', '000만', '02', '03', '09', '10', '100', '1000', '1000만',\n",
              "        '1000만달러'], dtype='<U16'))"
            ]
          },
          "metadata": {},
          "execution_count": 39
        }
      ]
    },
    {
      "cell_type": "code",
      "source": [
        "feature_names[sorting[:, :2]].shape   # 각 topic 별 가장 많이 할당된 단어 2개씩"
      ],
      "metadata": {
        "colab": {
          "base_uri": "https://localhost:8080/"
        },
        "id": "5Px-efecXeGE",
        "outputId": "396afb6f-b579-47bd-d2ba-82e0a7bc6f4a"
      },
      "execution_count": null,
      "outputs": [
        {
          "output_type": "execute_result",
          "data": {
            "text/plain": [
              "(100, 2)"
            ]
          },
          "metadata": {},
          "execution_count": 42
        }
      ]
    },
    {
      "cell_type": "code",
      "metadata": {
        "id": "aeAikJ2a2HOb",
        "colab": {
          "base_uri": "https://localhost:8080/",
          "height": 729
        },
        "outputId": "b0152e77-8005-4340-8568-b27a73dc8711"
      },
      "source": [
        "fig, ax = plt.subplots(1, 2, figsize=(10, 10))\n",
        "topic_names = [\"{:>2} \".format(i) + \" \".join(words)\n",
        "               for i, words in enumerate(feature_names[sorting[:, :2]])]\n",
        "\n",
        "# 두 개의 열이 있는 막대 그래프\n",
        "for col in [0, 1]:\n",
        "    start = col * 50\n",
        "    end = (col + 1) * 50\n",
        "    ax[col].barh(np.arange(50), np.sum(document_topics100, axis=0)[start:end])\n",
        "    ax[col].set_yticks(np.arange(50))\n",
        "    ax[col].set_yticklabels(topic_names[start:end], ha=\"left\", va=\"top\")\n",
        "    ax[col].invert_yaxis()\n",
        "    ax[col].set_xlim(0, 100)\n",
        "    yax = ax[col].get_yaxis()\n",
        "    yax.set_tick_params(pad=130)\n",
        "plt.tight_layout()"
      ],
      "execution_count": null,
      "outputs": [
        {
          "output_type": "display_data",
          "data": {
            "text/plain": [
              "<Figure size 720x720 with 2 Axes>"
            ],
            "image/png": "[encoded data removed]"
          },
          "metadata": {
            "needs_background": "light"
          }
        }
      ]
    },
    {
      "cell_type": "markdown",
      "source": [
        "# A simple LDA example"
      ],
      "metadata": {
        "id": "GVXeKAoGmYgv"
      }
    },
    {
      "cell_type": "code",
      "metadata": {
        "id": "yEwrvkw72HOc"
      },
      "source": [
        "list_doc = [\"나는 학교에 갑니다.\",\n",
        "      \"우리는 학교에서 공부를 합니다.\",\n",
        "      \"학교에서는 운동도 합니다.\",\n",
        "      \"지금은 골프하기에 아주 좋은 날씨입니다.\",\n",
        "      \"축구를 학교에서 시청하기도 합니다.\",\n",
        "      \"공부를 열시히 해서 좋은 데이터 엔지니어가 될 것입니다.\",\n",
        "      \"학교에서는 많은 친구를 사귑니다.\"]\n",
        "\n",
        "okt = Okt()\n",
        "results = []\n",
        "for line in list_doc:\n",
        "    word_list = okt.pos(line, norm=True, stem=True)\n",
        "    words = []\n",
        "    for word in word_list:\n",
        "        if not word[1] in [\"Josa\", \"eomi\", \"Punctuation\", \"Verb\"]:\n",
        "            words.append(word[0])\n",
        "    words = (\" \".join(words)).strip()\n",
        "    results.append(words)\n"
      ],
      "execution_count": null,
      "outputs": []
    },
    {
      "cell_type": "code",
      "metadata": {
        "id": "c-qSz1ht2HOd"
      },
      "source": [
        "vect = CountVectorizer(max_features=10)\n",
        "X = vect.fit_transform(results)\n",
        "\n",
        "lda = LatentDirichletAllocation(n_components=5, learning_method=\"batch\",\n",
        "                                max_iter=25, random_state=0)\n",
        "\n",
        "document_topics = lda.fit_transform(X)"
      ],
      "execution_count": null,
      "outputs": []
    },
    {
      "cell_type": "code",
      "metadata": {
        "id": "u05t8S-c2HOd",
        "colab": {
          "base_uri": "https://localhost:8080/"
        },
        "outputId": "eabab785-7aa7-4f80-9205-eee6c2784c46"
      },
      "source": [
        "X.toarray().shape        # no_documents x no_words"
      ],
      "execution_count": null,
      "outputs": [
        {
          "output_type": "execute_result",
          "data": {
            "text/plain": [
              "(7, 10)"
            ]
          },
          "metadata": {},
          "execution_count": 52
        }
      ]
    },
    {
      "cell_type": "code",
      "source": [
        " document_topics.shape   # no_documents x no_topics"
      ],
      "metadata": {
        "colab": {
          "base_uri": "https://localhost:8080/"
        },
        "id": "Q7x-R8waYkeb",
        "outputId": "2b4db413-2704-4b63-c841-64a595bff404"
      },
      "execution_count": null,
      "outputs": [
        {
          "output_type": "execute_result",
          "data": {
            "text/plain": [
              "(7, 5)"
            ]
          },
          "metadata": {},
          "execution_count": 54
        }
      ]
    },
    {
      "cell_type": "code",
      "source": [
        "lda.components_.shape    # no_topics x no_words"
      ],
      "metadata": {
        "colab": {
          "base_uri": "https://localhost:8080/"
        },
        "id": "mHJZQpDJYrJr",
        "outputId": "b7f4e6ba-58bf-4a5b-b771-0dcbeecfea2b"
      },
      "execution_count": null,
      "outputs": [
        {
          "output_type": "execute_result",
          "data": {
            "text/plain": [
              "(5, 10)"
            ]
          },
          "metadata": {},
          "execution_count": 56
        }
      ]
    },
    {
      "cell_type": "code",
      "metadata": {
        "id": "bRpkuLvG2HOe",
        "colab": {
          "base_uri": "https://localhost:8080/"
        },
        "outputId": "7631212a-5b05-4631-b974-0e71abb12527"
      },
      "source": [
        "lda.components_.round(2)    # no of topics x number of words"
      ],
      "execution_count": null,
      "outputs": [
        {
          "output_type": "execute_result",
          "data": {
            "text/plain": [
              "array([[1.2, 0.2, 1.2, 0.2, 0.2, 0.2, 1.2, 1.2, 1.2, 0.2],\n",
              "       [0.2, 0.2, 0.2, 0.2, 1.2, 0.2, 0.2, 0.2, 0.2, 1.2],\n",
              "       [0.2, 1.2, 0.2, 0.2, 0.2, 0.2, 0.2, 0.2, 0.2, 3.2],\n",
              "       [0.2, 1.2, 0.2, 1.2, 0.2, 0.2, 0.2, 1.2, 1.2, 0.2],\n",
              "       [0.2, 0.2, 0.2, 0.2, 0.2, 1.2, 0.2, 0.2, 0.2, 1.2]])"
            ]
          },
          "metadata": {},
          "execution_count": 38
        }
      ]
    },
    {
      "cell_type": "code",
      "metadata": {
        "id": "5b5U2uun2HOf",
        "colab": {
          "base_uri": "https://localhost:8080/"
        },
        "outputId": "d09d93cd-7d54-4e44-97da-9d57c5c0366e"
      },
      "source": [
        "feature_names = np.array(vect.get_feature_names())\n",
        "N=7\n",
        "for i in range(0, lda.components_.shape[0]):\n",
        "    print (\"topic {}:\".format(i))\n",
        "    topic_idx = lda.components_.argsort(axis=1)[:,::-1][i]\n",
        "    print(topic_idx)\n",
        "    topic_words = [topic_idx[j] for j in range(0,N)]\n",
        "    print (feature_names[topic_words])"
      ],
      "execution_count": null,
      "outputs": [
        {
          "output_type": "stream",
          "name": "stdout",
          "text": [
            "topic 0:\n",
            "[6 2 0 8 7 9 1 4 5 3]\n",
            "['아주' '날씨' '골프' '좋다' '이다' '학교' '공부']\n",
            "topic 1:\n",
            "[4 9 1 8 7 5 3 6 2 0]\n",
            "['많다' '학교' '공부' '좋다' '이다' '시청' '데이터']\n",
            "topic 2:\n",
            "[9 1 8 7 4 5 3 6 2 0]\n",
            "['학교' '공부' '좋다' '이다' '많다' '시청' '데이터']\n",
            "topic 3:\n",
            "[1 8 7 3 9 4 5 6 2 0]\n",
            "['공부' '좋다' '이다' '데이터' '학교' '많다' '시청']\n",
            "topic 4:\n",
            "[5 9 1 8 7 4 3 6 2 0]\n",
            "['시청' '학교' '공부' '좋다' '이다' '많다' '데이터']\n"
          ]
        },
        {
          "output_type": "stream",
          "name": "stderr",
          "text": [
            "/usr/local/lib/python3.8/dist-packages/sklearn/utils/deprecation.py:87: FutureWarning: Function get_feature_names is deprecated; get_feature_names is deprecated in 1.0 and will be removed in 1.2. Please use get_feature_names_out instead.\n",
            "  warnings.warn(msg, category=FutureWarning)\n"
          ]
        }
      ]
    },
    {
      "cell_type": "code",
      "metadata": {
        "id": "9FiXnFNb2HOf",
        "colab": {
          "base_uri": "https://localhost:8080/",
          "height": 282
        },
        "outputId": "48896593-528e-4cfb-d712-0783e7f2d7be"
      },
      "source": [
        "plt.bar(np.arange(5), np.sum(document_topics, axis=0), width=0.5)"
      ],
      "execution_count": null,
      "outputs": [
        {
          "output_type": "execute_result",
          "data": {
            "text/plain": [
              "<BarContainer object of 5 artists>"
            ]
          },
          "metadata": {},
          "execution_count": 58
        },
        {
          "output_type": "display_data",
          "data": {
            "text/plain": [
              "<Figure size 432x288 with 1 Axes>"
            ],
            "image/png": "[encoded data removed]"
          },
          "metadata": {
            "needs_background": "light"
          }
        }
      ]
    },
    {
      "cell_type": "markdown",
      "source": [
        "- LDA\n",
        "  - Topic Models, in a nutshell, are a type of statistical language models used for uncovering hidden structure in a collection of texts. \n",
        "  - In a practical and more intuitively, you can think of it as a task of:\n",
        "    - Dimensionality Reduction, where rather than representing a text T in its feature space as {W_i: count(W_i, T) for W_i in Vocabulary}, you can represent it in a topic space as {T_i: Weight(T_i, T) for T_i in Topics}\n",
        "    - Unsupervised Learning: we build clusters of words rather than clusters of texts. \n",
        "    - A text is thus a mixture of all the topics, each having a specific weight"
      ],
      "metadata": {
        "id": "5zEjYzfpR69z"
      }
    },
    {
      "cell_type": "markdown",
      "source": [
        "![image.png](data:image/png;base64,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)"
      ],
      "metadata": {
        "id": "8HG-zWphT2CP"
      }
    },
    {
      "cell_type": "markdown",
      "source": [
        "  - psi: the distribution of words for each topic K\n",
        "  - phi: the distribution of topics for each document i"
      ],
      "metadata": {
        "id": "hrVEOrx1T_UM"
      }
    },
    {
      "cell_type": "markdown",
      "source": [
        "# Exercise"
      ],
      "metadata": {
        "id": "Y0Fcg1mcZlMc"
      }
    },
    {
      "cell_type": "markdown",
      "source": [
        "- corpora.dictionary: it implements the concept of a Dictionary – a mapping between words and their integer ids."
      ],
      "metadata": {
        "id": "HFlouckhmMG0"
      }
    },
    {
      "cell_type": "code",
      "source": [
        "from gensim.corpora import Dictionary\n",
        "\n",
        "texts = [['human', 'interface', 'computer', 'play']]\n",
        "dct = Dictionary(texts)  # initialize a Dictionary"
      ],
      "metadata": {
        "id": "7q_cC0lSl0H7"
      },
      "execution_count": null,
      "outputs": []
    },
    {
      "cell_type": "code",
      "source": [
        "dct.token2id    # token -> token_id"
      ],
      "metadata": {
        "colab": {
          "base_uri": "https://localhost:8080/"
        },
        "id": "L2yQc7qdmbuC",
        "outputId": "9b1f1068-70a5-425d-b29f-bfa34f1a6a31"
      },
      "execution_count": null,
      "outputs": [
        {
          "output_type": "execute_result",
          "data": {
            "text/plain": [
              "{'computer': 0, 'human': 1, 'interface': 2, 'play': 3}"
            ]
          },
          "metadata": {},
          "execution_count": 83
        }
      ]
    },
    {
      "cell_type": "code",
      "source": [
        "dct.add_documents([[\"cat\", \"say\", \"meow\"], [\"dog\", \"say\", \"walwal\"], ['rabbit']])  # add more document (extend the vocabulary)\n",
        "dct.token2id"
      ],
      "metadata": {
        "colab": {
          "base_uri": "https://localhost:8080/"
        },
        "id": "AxR9HTW0l5FV",
        "outputId": "fabd16dd-4afb-46fd-f0bf-622a81962e01"
      },
      "execution_count": null,
      "outputs": [
        {
          "output_type": "execute_result",
          "data": {
            "text/plain": [
              "{'computer': 0,\n",
              " 'human': 1,\n",
              " 'interface': 2,\n",
              " 'play': 3,\n",
              " 'cat': 4,\n",
              " 'meow': 5,\n",
              " 'say': 6,\n",
              " 'dog': 7,\n",
              " 'walwal': 8,\n",
              " 'rabbit': 9}"
            ]
          },
          "metadata": {},
          "execution_count": 84
        }
      ]
    },
    {
      "cell_type": "code",
      "source": [
        "len(dct)"
      ],
      "metadata": {
        "colab": {
          "base_uri": "https://localhost:8080/"
        },
        "id": "VKOEZf-atNTo",
        "outputId": "33f88551-1920-4e8c-fe71-e8e553e90257"
      },
      "execution_count": null,
      "outputs": [
        {
          "output_type": "execute_result",
          "data": {
            "text/plain": [
              "10"
            ]
          },
          "metadata": {},
          "execution_count": 85
        }
      ]
    },
    {
      "cell_type": "code",
      "source": [
        "dct.doc2bow([\"dog\", \"play\", \"computer\", \"any_non_existent_word\"]) # convert document into BoW format(id, counts)"
      ],
      "metadata": {
        "colab": {
          "base_uri": "https://localhost:8080/"
        },
        "id": "NF7DyH96nIw6",
        "outputId": "5773618b-7bd1-4048-80c7-a1f0684db432"
      },
      "execution_count": null,
      "outputs": [
        {
          "output_type": "execute_result",
          "data": {
            "text/plain": [
              "[(0, 1), (3, 1), (7, 1)]"
            ]
          },
          "metadata": {},
          "execution_count": 87
        }
      ]
    },
    {
      "cell_type": "markdown",
      "source": [
        "- some python gramma exercises"
      ],
      "metadata": {
        "id": "66QFysy3pSMC"
      }
    },
    {
      "cell_type": "code",
      "metadata": {
        "colab": {
          "base_uri": "https://localhost:8080/"
        },
        "id": "nTQeGHQ78fLS",
        "outputId": "14c1fa0f-58eb-4ef5-d64a-855403af7cbf"
      },
      "source": [
        "try:\n",
        "    for i in range(10,-1,-1):\n",
        "        print (10 // i)\n",
        "except ZeroDivisionError:\n",
        "    print(\"divide-by-zero error.\")\n",
        "finally:\n",
        "    print(\"Done...\")"
      ],
      "execution_count": null,
      "outputs": [
        {
          "output_type": "stream",
          "name": "stdout",
          "text": [
            "1\n",
            "1\n",
            "1\n",
            "1\n",
            "1\n",
            "2\n",
            "2\n",
            "3\n",
            "5\n",
            "10\n",
            "divide-by-zero error.\n",
            "Done...\n"
          ]
        }
      ]
    },
    {
      "cell_type": "code",
      "metadata": {
        "colab": {
          "base_uri": "https://localhost:8080/"
        },
        "id": "3-DNRMoy88el",
        "outputId": "417e8e55-779c-4f75-e905-3b470627f763"
      },
      "source": [
        "list(range(10,-1,-1))"
      ],
      "execution_count": null,
      "outputs": [
        {
          "output_type": "execute_result",
          "data": {
            "text/plain": [
              "[10, 9, 8, 7, 6, 5, 4, 3, 2, 1, 0]"
            ]
          },
          "metadata": {},
          "execution_count": 43
        }
      ]
    },
    {
      "cell_type": "code",
      "metadata": {
        "colab": {
          "base_uri": "https://localhost:8080/",
          "height": 35
        },
        "id": "_mLNIx3d9SBz",
        "outputId": "890e824a-5645-47fc-b1bd-6d72045987eb"
      },
      "source": [
        "a ,b = 3, 5\n",
        "c = (\"{:<5}\" * 4).format(*range(5))\n",
        "c"
      ],
      "execution_count": null,
      "outputs": [
        {
          "output_type": "execute_result",
          "data": {
            "text/plain": [
              "'    0    1    2    3'"
            ],
            "application/vnd.google.colaboratory.intrinsic+json": {
              "type": "string"
            }
          },
          "metadata": {},
          "execution_count": 66
        }
      ]
    },
    {
      "cell_type": "code",
      "source": [
        "a = [1,2,3]\n",
        "print(a)\n",
        "print(*a)"
      ],
      "metadata": {
        "colab": {
          "base_uri": "https://localhost:8080/"
        },
        "id": "PXhFCwPjJheE",
        "outputId": "b1fe9df9-618c-493c-97a3-2f74f52dc794"
      },
      "execution_count": null,
      "outputs": [
        {
          "output_type": "stream",
          "name": "stdout",
          "text": [
            "[1, 2, 3]\n",
            "1 2 3\n"
          ]
        }
      ]
    }
  ]
}