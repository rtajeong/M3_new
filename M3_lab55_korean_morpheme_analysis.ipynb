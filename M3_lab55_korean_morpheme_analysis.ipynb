{
  "nbformat": 4,
  "nbformat_minor": 0,
  "metadata": {
    "colab": {
      "name": "M3_lab55_korean_morpheme_analysis.ipynb",
      "provenance": [],
      "collapsed_sections": [],
      "include_colab_link": true
    },
    "kernelspec": {
      "display_name": "Python 3",
      "language": "python",
      "name": "python3"
    },
    "language_info": {
      "codemirror_mode": {
        "name": "ipython",
        "version": 3
      },
      "file_extension": ".py",
      "mimetype": "text/x-python",
      "name": "python",
      "nbconvert_exporter": "python",
      "pygments_lexer": "ipython3",
      "version": "3.6.8"
    }
  },
  "cells": [
    {
      "cell_type": "markdown",
      "metadata": {
        "id": "view-in-github",
        "colab_type": "text"
      },
      "source": [
        "<a href=\"https://colab.research.google.com/github/rtajeong/M3_new/blob/main/M3_lab55_korean_morpheme_analysis.ipynb\" target=\"_parent\"><img src=\"https://colab.research.google.com/assets/colab-badge.svg\" alt=\"Open In Colab\"/></a>"
      ]
    },
    {
      "cell_type": "markdown",
      "metadata": {
        "id": "pWNGzz3tbuqJ"
      },
      "source": [
        "# 형태소 분석\n",
        "- konlpy의 Tag 라이브러리 활용\n",
        "- 형태소 (morpheme): 의미를 갖는 최소 언어 단위"
      ]
    },
    {
      "cell_type": "code",
      "metadata": {
        "colab": {
          "base_uri": "https://localhost:8080/"
        },
        "id": "aya69E82buqK",
        "outputId": "e29c5e25-0eab-478b-e4e0-311f5243bf03"
      },
      "source": [
        "!pip install konlpy"
      ],
      "execution_count": null,
      "outputs": [
        {
          "output_type": "stream",
          "name": "stdout",
          "text": [
            "Looking in indexes: https://pypi.org/simple, https://us-python.pkg.dev/colab-wheels/public/simple/\n",
            "Collecting konlpy\n",
            "  Downloading konlpy-0.6.0-py2.py3-none-any.whl (19.4 MB)\n",
            "\u001b[K     |████████████████████████████████| 19.4 MB 1.3 MB/s \n",
            "\u001b[?25hCollecting JPype1>=0.7.0\n",
            "  Downloading JPype1-1.4.0-cp37-cp37m-manylinux_2_5_x86_64.manylinux1_x86_64.whl (453 kB)\n",
            "\u001b[K     |████████████████████████████████| 453 kB 43.9 MB/s \n",
            "\u001b[?25hRequirement already satisfied: lxml>=4.1.0 in /usr/local/lib/python3.7/dist-packages (from konlpy) (4.2.6)\n",
            "Requirement already satisfied: numpy>=1.6 in /usr/local/lib/python3.7/dist-packages (from konlpy) (1.21.6)\n",
            "Requirement already satisfied: typing-extensions in /usr/local/lib/python3.7/dist-packages (from JPype1>=0.7.0->konlpy) (4.1.1)\n",
            "Installing collected packages: JPype1, konlpy\n",
            "Successfully installed JPype1-1.4.0 konlpy-0.6.0\n"
          ]
        }
      ]
    },
    {
      "cell_type": "code",
      "metadata": {
        "colab": {
          "base_uri": "https://localhost:8080/"
        },
        "id": "NKGKiRJMbuqP",
        "outputId": "b5d8bcb7-2d00-4755-c6db-222284606aa6"
      },
      "source": [
        "# Twitter 형태소 분석기\n",
        "# pos(part of Speech) 품사\n",
        "from konlpy.tag import Okt   # previous name: Twitter\n",
        "twitter = Okt()\n",
        "test_text = \"빅 데이터(영어: big data)란 기존 데이터베이스 관리도구의 능력을 넘어서는 대량(수십 테라바이트)의 정형 또는 심지어 데이터베이스 형태가 아닌 비정형의 데이터 집합조차 포함한데이터로부터 가치를 추출하고 결과를 분석하는 기술이다.\"\n",
        "print(twitter.pos(test_text, norm = True, stem = True)) # 오타수정, 어근 찾기\n",
        "print(twitter.nouns(test_text))"
      ],
      "execution_count": null,
      "outputs": [
        {
          "output_type": "stream",
          "name": "stdout",
          "text": [
            "[('빅', 'Noun'), ('데이터', 'Noun'), ('(', 'Punctuation'), ('영어', 'Noun'), (':', 'Punctuation'), ('big', 'Alpha'), ('data', 'Alpha'), (')', 'Punctuation'), ('란', 'Noun'), ('기존', 'Noun'), ('데이터베이스', 'Noun'), ('관리', 'Noun'), ('도구', 'Noun'), ('의', 'Josa'), ('능력', 'Noun'), ('을', 'Josa'), ('넘어서다', 'Verb'), ('대량', 'Noun'), ('(', 'Punctuation'), ('수십', 'Noun'), ('테라바이트', 'Noun'), (')', 'Punctuation'), ('의', 'Noun'), ('정형', 'Noun'), ('또는', 'Adverb'), ('심지어', 'Noun'), ('데이터베이스', 'Noun'), ('형태', 'Noun'), ('가', 'Josa'), ('아니다', 'Adjective'), ('비정', 'Noun'), ('형', 'Suffix'), ('의', 'Josa'), ('데이터', 'Noun'), ('집합', 'Noun'), ('조차', 'Josa'), ('포함', 'Noun'), ('한', 'Determiner'), ('데이터', 'Noun'), ('로부터', 'Noun'), ('가치', 'Noun'), ('를', 'Josa'), ('추출', 'Noun'), ('하고', 'Josa'), ('결과', 'Noun'), ('를', 'Josa'), ('분석', 'Noun'), ('하다', 'Verb'), ('기술', 'Noun'), ('이다', 'Josa'), ('.', 'Punctuation')]\n",
            "['빅', '데이터', '영어', '란', '기존', '데이터베이스', '관리', '도구', '능력', '대량', '수십', '테라바이트', '의', '정형', '심지어', '데이터베이스', '형태', '비정', '데이터', '집합', '포함', '데이터', '로부터', '가치', '추출', '결과', '분석', '기술']\n"
          ]
        }
      ]
    },
    {
      "cell_type": "code",
      "metadata": {
        "colab": {
          "base_uri": "https://localhost:8080/"
        },
        "id": "XTVCsKW3qbRr",
        "outputId": "145e8554-c3d9-4aec-a45a-77ae6ce63d3c"
      },
      "source": [
        "# KKoma Tag\n",
        "from konlpy.tag import Kkma\n",
        "kkma = Kkma()\n",
        "print(kkma.pos(test_text))\n",
        "print(kkma.morphs(test_text))"
      ],
      "execution_count": null,
      "outputs": [
        {
          "output_type": "stream",
          "name": "stdout",
          "text": [
            "[('빅', 'NNG'), ('데이터', 'NNG'), ('(', 'SS'), ('영어', 'NNG'), (':', 'SP'), ('big', 'OL'), ('data', 'OL'), (')', 'SS'), ('이', 'VCP'), ('란', 'ETD'), ('기존', 'NNG'), ('데이터', 'NNG'), ('베이스', 'NNG'), ('관리', 'NNG'), ('도구', 'NNG'), ('의', 'JKG'), ('능력', 'NNG'), ('을', 'JKO'), ('넘어서', 'VV'), ('는', 'ETD'), ('대량', 'NNG'), ('(', 'SS'), ('수십', 'NR'), ('테라', 'NNG'), ('바이트', 'NNG'), (')', 'SS'), ('의', 'NNG'), ('정형', 'NNG'), ('또는', 'MAG'), ('심지어', 'MAG'), ('데이터베이스', 'NNG'), ('형태', 'NNG'), ('가', 'JKS'), ('아니', 'VV'), ('ㄴ', 'ETD'), ('비정형', 'NNG'), ('의', 'JKG'), ('데이터', 'NNG'), ('집합', 'NNG'), ('조차', 'JX'), ('포함', 'NNG'), ('하', 'XSV'), ('ㄴ', 'ETD'), ('데이터', 'NNG'), ('로', 'JKM'), ('부터', 'JX'), ('가치', 'NNG'), ('를', 'JKO'), ('추출', 'NNG'), ('하', 'XSV'), ('고', 'ECE'), ('결과', 'NNG'), ('를', 'JKO'), ('분석', 'NNG'), ('하', 'XSV'), ('는', 'ETD'), ('기술', 'NNG'), ('이', 'VCP'), ('다', 'EFN'), ('.', 'SF')]\n",
            "['빅', '데이터', '(', '영어', ':', 'big', 'data', ')', '이', '란', '기존', '데이터', '베이스', '관리', '도구', '의', '능력', '을', '넘어서', '는', '대량', '(', '수십', '테라', '바이트', ')', '의', '정형', '또는', '심지어', '데이터베이스', '형태', '가', '아니', 'ㄴ', '비정형', '의', '데이터', '집합', '조차', '포함', '하', 'ㄴ', '데이터', '로', '부터', '가치', '를', '추출', '하', '고', '결과', '를', '분석', '하', '는', '기술', '이', '다', '.']\n"
          ]
        }
      ]
    },
    {
      "cell_type": "code",
      "source": [
        "from konlpy.tag import Komoran\n",
        "ana = Komoran()\n",
        "print(ana.pos(test_text))\n",
        "print(ana.morphs(test_text))"
      ],
      "metadata": {
        "colab": {
          "base_uri": "https://localhost:8080/"
        },
        "id": "xn9tLOuEMxQj",
        "outputId": "3d394dc2-5b1e-4c98-b96e-e1bffb0ef1a9"
      },
      "execution_count": null,
      "outputs": [
        {
          "output_type": "stream",
          "name": "stdout",
          "text": [
            "[('빅 데이터', 'NNP'), ('(', 'SS'), ('영어', 'NNP'), (':', 'SP'), ('big', 'SL'), ('data', 'SL'), (')', 'SS'), ('란', 'JX'), ('기존', 'NNG'), ('데이터베이스', 'NNP'), ('관리', 'NNG'), ('도구', 'NNP'), ('의', 'JKG'), ('능력', 'NNG'), ('을', 'JKO'), ('넘어서', 'VV'), ('는', 'ETM'), ('대량', 'NNG'), ('(', 'SS'), ('수십', 'NR'), ('테라바이트', 'NNP'), (')', 'SS'), ('의', 'JKG'), ('정형', 'NNG'), ('또는', 'MAJ'), ('심지어', 'MAG'), ('데이터베이스', 'NNP'), ('형태', 'NNG'), ('가', 'JKS'), ('아니', 'VCN'), ('ㄴ', 'ETM'), ('비', 'XPN'), ('정형', 'NNG'), ('의', 'JKG'), ('데이터', 'NNG'), ('집합', 'NNP'), ('조차', 'JX'), ('포함', 'NNG'), ('한', 'NNP'), ('데이터', 'NNG'), ('로부터', 'JKB'), ('가치', 'NNG'), ('를', 'JKO'), ('추출', 'NNG'), ('하', 'XSV'), ('고', 'EC'), ('결과', 'NNG'), ('를', 'JKO'), ('분석', 'NNG'), ('하', 'XSV'), ('는', 'ETM'), ('기술', 'NNG'), ('이', 'VCP'), ('다', 'EF'), ('.', 'SF')]\n",
            "['빅 데이터', '(', '영어', ':', 'big', 'data', ')', '란', '기존', '데이터베이스', '관리', '도구', '의', '능력', '을', '넘어서', '는', '대량', '(', '수십', '테라바이트', ')', '의', '정형', '또는', '심지어', '데이터베이스', '형태', '가', '아니', 'ㄴ', '비', '정형', '의', '데이터', '집합', '조차', '포함', '한', '데이터', '로부터', '가치', '를', '추출', '하', '고', '결과', '를', '분석', '하', '는', '기술', '이', '다', '.']\n"
          ]
        }
      ]
    },
    {
      "cell_type": "code",
      "source": [
        "from konlpy.tag import Hannanum\n",
        "ana = Hannanum()\n",
        "print(ana.pos(test_text))\n",
        "print(ana.morphs(test_text))"
      ],
      "metadata": {
        "colab": {
          "base_uri": "https://localhost:8080/"
        },
        "id": "Cb7A2wF6M_qz",
        "outputId": "2fd71d27-9a16-470e-9e52-73c93a7072be"
      },
      "execution_count": null,
      "outputs": [
        {
          "output_type": "stream",
          "name": "stdout",
          "text": [
            "[('빅', 'N'), ('데이터(영어:', 'N'), ('big', 'F'), ('data', 'F'), (')', 'S'), ('란', 'J'), ('기존', 'N'), ('데이터베이스', 'N'), ('관리도구', 'N'), ('의', 'J'), ('능력', 'N'), ('을', 'J'), ('넘', 'P'), ('어서', 'E'), ('는', 'J'), ('대량(수십', 'N'), ('테라바이트)', 'N'), ('의', 'J'), ('정형', 'N'), ('또는', 'M'), ('심지어', 'M'), ('데이터베이스', 'N'), ('형태', 'N'), ('가', 'J'), ('아니', 'P'), ('ㄴ', 'E'), ('비정형', 'N'), ('의', 'J'), ('데이터', 'N'), ('집합', 'N'), ('조차', 'J'), ('포함한데이터로부터', 'N'), ('가치', 'N'), ('를', 'J'), ('추출', 'N'), ('하고', 'J'), ('결과', 'N'), ('를', 'J'), ('분석', 'N'), ('하', 'X'), ('는', 'E'), ('기술', 'N'), ('이', 'J'), ('다', 'E'), ('.', 'S')]\n",
            "['빅', '데이터(영어:', 'big', 'data', ')', '란', '기존', '데이터베이스', '관리도구', '의', '능력', '을', '넘', '어서', '는', '대량(수십', '테라바이트)', '의', '정형', '또는', '심지어', '데이터베이스', '형태', '가', '아니', 'ㄴ', '비정형', '의', '데이터', '집합', '조차', '포함한데이터로부터', '가치', '를', '추출', '하고', '결과', '를', '분석', '하', '는', '기술', '이', '다', '.']\n"
          ]
        }
      ]
    },
    {
      "cell_type": "code",
      "metadata": {
        "id": "nPUJnrekbuqb"
      },
      "source": [
        "data = [\"빅 데이터(영어: big data)란\",\n",
        "        \"기존 데이터베이스 관리도구의 능력을 넘어서는\",\n",
        "        \"대량(수십 테라바이트)의 정형 또는 심지어 데이터베이스 형태가 아닌\",\n",
        "        \"비정형의 데이터 집합조차 포함한데이터로부터 가치를 추출하고 결과를 분석하는 기술이다.\"]\n",
        "\n",
        "results = []\n",
        "for line in data:\n",
        "    word_list = twitter.pos(line, norm=True, stem=True)\n",
        "    words = []\n",
        "    for word in word_list:\n",
        "        # 문장에서 특정 품사 제거\n",
        "        if not word[1] in [\"Josa\", \"eomi\", \"Punctuation\", \"Verb\"]:\n",
        "            words.append(word[0])\n",
        "    words = (\" \".join(words)).strip()\n",
        "    results.append(words)"
      ],
      "execution_count": null,
      "outputs": []
    },
    {
      "cell_type": "code",
      "metadata": {
        "colab": {
          "base_uri": "https://localhost:8080/"
        },
        "id": "iVWhfW5Sbuqf",
        "outputId": "7ec1da7c-ce98-4f71-b77e-74790a612a97"
      },
      "source": [
        "results"
      ],
      "execution_count": null,
      "outputs": [
        {
          "output_type": "execute_result",
          "data": {
            "text/plain": [
              "['빅 데이터 영어 big data 란',\n",
              " '기존 데이터베이스 관리 도구 능력',\n",
              " '대량 수십 테라바이트 의 정형 또는 심지어 데이터베이스 형태 아니다',\n",
              " '비정 형 데이터 집합 포함 한 데이터 로부터 가치 추출 결과 분석 기술']"
            ]
          },
          "metadata": {},
          "execution_count": 8
        }
      ]
    },
    {
      "cell_type": "code",
      "metadata": {
        "id": "a7Hx80-EgcYq"
      },
      "source": [
        ""
      ],
      "execution_count": null,
      "outputs": []
    }
  ]
}