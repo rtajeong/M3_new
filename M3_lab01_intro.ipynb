{
  "nbformat": 4,
  "nbformat_minor": 0,
  "metadata": {
    "colab": {
      "name": "M3_lab01_intro.ipynb",
      "provenance": [],
      "collapsed_sections": [],
      "include_colab_link": true
    },
    "kernelspec": {
      "name": "python3",
      "display_name": "Python 3"
    }
  },
  "cells": [
    {
      "cell_type": "markdown",
      "metadata": {
        "id": "view-in-github",
        "colab_type": "text"
      },
      "source": [
        "<a href=\"https://colab.research.google.com/github/rtajeong/M3_new/blob/main/M3_lab01_intro.ipynb\" target=\"_parent\"><img src=\"https://colab.research.google.com/assets/colab-badge.svg\" alt=\"Open In Colab\"/></a>"
      ]
    },
    {
      "cell_type": "markdown",
      "metadata": {
        "id": "2EZzBEe8i6ZO"
      },
      "source": [
        "# Numpy 연습"
      ]
    },
    {
      "cell_type": "code",
      "metadata": {
        "id": "ujovJ7vHgBdS"
      },
      "source": [
        "import numpy as np\n",
        "import matplotlib.pyplot as plt"
      ],
      "execution_count": 1,
      "outputs": []
    },
    {
      "cell_type": "markdown",
      "metadata": {
        "id": "zUTx5YnflCLt"
      },
      "source": [
        "## method 1 - c-style code"
      ]
    },
    {
      "cell_type": "code",
      "metadata": {
        "colab": {
          "base_uri": "https://localhost:8080/"
        },
        "id": "Hv5pbmPDi3Ym",
        "outputId": "f0761648-1aa5-4d84-e930-0b5b818c5095"
      },
      "source": [
        "N = 100000\n",
        "x = np.random.rand(N)   # uniform random number in (0,1)\n",
        "y = np.random.rand(N)\n",
        "cnt = 0\n",
        "for i in range(N):\n",
        "  if x[i]**2 + y[i]**2 < 1.0:\n",
        "    cnt += 1\n",
        "  else:\n",
        "    continue\n",
        "pi = cnt/N * 4\n",
        "print(pi)"
      ],
      "execution_count": 2,
      "outputs": [
        {
          "output_type": "stream",
          "name": "stdout",
          "text": [
            "3.13956\n"
          ]
        }
      ]
    },
    {
      "cell_type": "markdown",
      "metadata": {
        "id": "DP5vkUWqk_gN"
      },
      "source": [
        "## method 2 - python style"
      ]
    },
    {
      "cell_type": "code",
      "metadata": {
        "id": "F_2C0hRsiytL"
      },
      "source": [
        "N = 10\n",
        "x = np.random.rand(N) \n",
        "y = np.random.rand(N)"
      ],
      "execution_count": 3,
      "outputs": []
    },
    {
      "cell_type": "code",
      "metadata": {
        "colab": {
          "base_uri": "https://localhost:8080/"
        },
        "id": "riN9JnsblLOd",
        "outputId": "d68f17fb-532f-4316-86a4-bdbd749648fb"
      },
      "source": [
        "x.round(2), y.round(2)"
      ],
      "execution_count": 4,
      "outputs": [
        {
          "output_type": "execute_result",
          "data": {
            "text/plain": [
              "(array([0.71, 0.  , 0.56, 0.1 , 0.77, 0.64, 0.01, 0.32, 0.77, 0.15]),\n",
              " array([0.75, 0.42, 0.14, 0.34, 0.92, 0.2 , 0.59, 0.84, 0.72, 0.31]))"
            ]
          },
          "metadata": {},
          "execution_count": 4
        }
      ]
    },
    {
      "cell_type": "code",
      "metadata": {
        "colab": {
          "base_uri": "https://localhost:8080/"
        },
        "id": "pGqe4eJClL1s",
        "outputId": "30021d10-f473-4bb4-bffa-46fc3b3dca7b"
      },
      "source": [
        "x**2, y**2"
      ],
      "execution_count": 5,
      "outputs": [
        {
          "output_type": "execute_result",
          "data": {
            "text/plain": [
              "(array([4.98974440e-01, 1.31440232e-05, 3.18795870e-01, 9.91099289e-03,\n",
              "        5.88191160e-01, 4.08698726e-01, 7.20461746e-05, 1.01319400e-01,\n",
              "        5.88252857e-01, 2.31920282e-02]),\n",
              " array([0.56158362, 0.17400415, 0.02013882, 0.11640875, 0.85344041,\n",
              "        0.03976926, 0.35014211, 0.69798857, 0.52121893, 0.09576217]))"
            ]
          },
          "metadata": {},
          "execution_count": 5
        }
      ]
    },
    {
      "cell_type": "code",
      "metadata": {
        "colab": {
          "base_uri": "https://localhost:8080/"
        },
        "id": "_oZe7_-_lRSG",
        "outputId": "44b8f37d-ecca-4711-f963-906253d416f7"
      },
      "source": [
        "x**2 + y**2"
      ],
      "execution_count": 6,
      "outputs": [
        {
          "output_type": "execute_result",
          "data": {
            "text/plain": [
              "array([1.06055806, 0.17401729, 0.33893469, 0.12631974, 1.44163157,\n",
              "       0.44846799, 0.35021415, 0.79930797, 1.10947179, 0.1189542 ])"
            ]
          },
          "metadata": {},
          "execution_count": 6
        }
      ]
    },
    {
      "cell_type": "code",
      "metadata": {
        "colab": {
          "base_uri": "https://localhost:8080/"
        },
        "id": "pqrBB2eDlgBz",
        "outputId": "fc5023d7-a3a9-47f0-d898-db9da7875fba"
      },
      "source": [
        "x**2 + y**2 < 1.0"
      ],
      "execution_count": 7,
      "outputs": [
        {
          "output_type": "execute_result",
          "data": {
            "text/plain": [
              "array([False,  True,  True,  True, False,  True,  True,  True, False,\n",
              "        True])"
            ]
          },
          "metadata": {},
          "execution_count": 7
        }
      ]
    },
    {
      "cell_type": "code",
      "metadata": {
        "colab": {
          "base_uri": "https://localhost:8080/"
        },
        "id": "fidyOSHLllXZ",
        "outputId": "c478b9e1-31dc-4b03-e7c1-5b121f6eee9e"
      },
      "source": [
        "(x**2 + y**2 < 1.0).sum()"
      ],
      "execution_count": 8,
      "outputs": [
        {
          "output_type": "execute_result",
          "data": {
            "text/plain": [
              "7"
            ]
          },
          "metadata": {},
          "execution_count": 8
        }
      ]
    },
    {
      "cell_type": "code",
      "metadata": {
        "colab": {
          "base_uri": "https://localhost:8080/"
        },
        "id": "vnrE_3TNl7P1",
        "outputId": "9b5d0f29-d52b-4fba-a372-1b9d7be7d6dd"
      },
      "source": [
        "(x**2 + y**2 < 1.0).sum()/N * 4"
      ],
      "execution_count": 9,
      "outputs": [
        {
          "output_type": "execute_result",
          "data": {
            "text/plain": [
              "2.8"
            ]
          },
          "metadata": {},
          "execution_count": 9
        }
      ]
    },
    {
      "cell_type": "code",
      "metadata": {
        "colab": {
          "base_uri": "https://localhost:8080/"
        },
        "id": "AdjgYo_Dl-fG",
        "outputId": "6a50c78a-4c5e-4e42-ed6a-5c5440fa75ba"
      },
      "source": [
        "# 코드 전체\n",
        "N = 300\n",
        "x = np.random.rand(N) \n",
        "y = np.random.rand(N)\n",
        "print(\"pi is: \", (x**2 + y**2 < 1.0).sum()/N * 4)"
      ],
      "execution_count": 10,
      "outputs": [
        {
          "output_type": "stream",
          "name": "stdout",
          "text": [
            "pi is:  3.16\n"
          ]
        }
      ]
    },
    {
      "cell_type": "code",
      "metadata": {
        "id": "TsEOGk-2nGCF"
      },
      "source": [
        "import matplotlib.pyplot as plt\n",
        "%matplotlib inline"
      ],
      "execution_count": 11,
      "outputs": []
    },
    {
      "cell_type": "code",
      "metadata": {
        "colab": {
          "base_uri": "https://localhost:8080/",
          "height": 282
        },
        "id": "yRIO5knMnYNc",
        "outputId": "73717eb5-4572-49ef-8604-ccbd16cd6fdb"
      },
      "source": [
        "plt.figure(figsize=(4,4))\n",
        "plt.scatter(x, y, s=3)\n",
        "\n",
        "a = np.linspace(-0,1, 100)\n",
        "b = (1 - a**2)**0.5\n",
        "plt.plot(a, b, c='r')"
      ],
      "execution_count": 12,
      "outputs": [
        {
          "output_type": "execute_result",
          "data": {
            "text/plain": [
              "[<matplotlib.lines.Line2D at 0x7fb235ef9bd0>]"
            ]
          },
          "metadata": {},
          "execution_count": 12
        },
        {
          "output_type": "display_data",
          "data": {
            "text/plain": [
              "<Figure size 288x288 with 1 Axes>"
            ],
            "image/png": "[encoded data removed]"
          },
          "metadata": {
            "needs_background": "light"
          }
        }
      ]
    },
    {
      "cell_type": "markdown",
      "metadata": {
        "id": "HOhAryW62KOP"
      },
      "source": [
        "# Gradient Descent method for Linear Regression"
      ]
    },
    {
      "cell_type": "code",
      "metadata": {
        "id": "9ZrVncKwnboG",
        "colab": {
          "base_uri": "https://localhost:8080/",
          "height": 629
        },
        "outputId": "e490653f-a5b4-42af-aef3-a5ee0625f68c"
      },
      "source": [
        "n = 100\n",
        "x = np.random.randn(n)\n",
        "y = 0.7 * x + 0.7     # w=0.7, b=0.7\n",
        "y = y + np.random.randn(n) * 0.5\n",
        "plt.scatter(x, y)\n",
        "w = np.random.randn()\n",
        "b = np.random.randn()\n",
        "\n",
        "lr = 0.01\n",
        "n_epoch = 200\n",
        "lossHistory = []\n",
        "\n",
        "for i in range(n_epoch):\n",
        "  y_pred = w * x + b\n",
        "  loss = ((y_pred - y)**2).mean()\n",
        "\n",
        "  w = w - lr * 2 * ((y_pred - y) * x).mean()\n",
        "  b = b - lr * 2 * (y_pred - y).mean()\n",
        "  lossHistory.append(loss)\n",
        "\n",
        "  if (i % 10 ==0) : \n",
        "    print(w, b, loss)\n",
        "\n",
        "# graph\n",
        "xx = np.linspace (-3, 5, 100)\n",
        "yy = xx * w + b\n",
        "plt.plot(xx, yy, c='r')"
      ],
      "execution_count": 13,
      "outputs": [
        {
          "output_type": "stream",
          "name": "stdout",
          "text": [
            "-0.24054342086793815 0.538326127539756 1.4414147842460758\n",
            "-0.02386114734378646 0.5882756964201884 0.9232606684826429\n",
            "0.14130404576346225 0.6266076658243379 0.6219968999188407\n",
            "0.26719759193186976 0.6560369706154544 0.44683529540774314\n",
            "0.3631547605098306 0.6786417228003985 0.34499125687173565\n",
            "0.4362921697966975 0.696013020348085 0.2857754399650779\n",
            "0.49203500016005014 0.7093694350977737 0.2513447209971565\n",
            "0.5345189408899905 0.7196445219246828 0.23132483121775763\n",
            "0.5668966315914129 0.727553718434293 0.21968395647052968\n",
            "0.5915712887966575 0.733645498620661 0.212915039495527\n",
            "0.6103748178902341 0.7383404944907501 0.2089789597606644\n",
            "0.6247036004125609 0.7419614222017629 0.20669008810722034\n",
            "0.6356220131574328 0.7447559793685178 0.205359039743218\n",
            "0.6439413462624147 0.7469143687254206 0.20458496415835467\n",
            "0.6502799658709825 0.7485827127707754 0.20413477742634098\n",
            "0.6551091780857757 0.7498733257629902 0.20387294413903834\n",
            "0.6587881920286793 0.7508725816401817 0.20372064992719138\n",
            "0.6615907724915162 0.7516469424300832 0.20363206244120258\n",
            "0.6637255571368691 0.752247578785558 0.20358052812870342\n",
            "0.6653515439249317 0.752713912713108 0.20355054609192125\n"
          ]
        },
        {
          "output_type": "execute_result",
          "data": {
            "text/plain": [
              "[<matplotlib.lines.Line2D at 0x7fb2359e9f90>]"
            ]
          },
          "metadata": {},
          "execution_count": 13
        },
        {
          "output_type": "display_data",
          "data": {
            "text/plain": [
              "<Figure size 432x288 with 1 Axes>"
            ],
            "image/png": "[encoded data removed]"
          },
          "metadata": {
            "needs_background": "light"
          }
        }
      ]
    },
    {
      "cell_type": "code",
      "metadata": {
        "id": "RH0ZFWoc5Wws",
        "colab": {
          "base_uri": "https://localhost:8080/",
          "height": 282
        },
        "outputId": "1bb1fd25-055b-410b-8b62-a01a65464f46"
      },
      "source": [
        "plt.plot(lossHistory)"
      ],
      "execution_count": 14,
      "outputs": [
        {
          "output_type": "execute_result",
          "data": {
            "text/plain": [
              "[<matplotlib.lines.Line2D at 0x7fb23596c910>]"
            ]
          },
          "metadata": {},
          "execution_count": 14
        },
        {
          "output_type": "display_data",
          "data": {
            "text/plain": [
              "<Figure size 432x288 with 1 Axes>"
            ],
            "image/png": "[encoded data removed]"
          },
          "metadata": {
            "needs_background": "light"
          }
        }
      ]
    },
    {
      "cell_type": "code",
      "metadata": {
        "colab": {
          "base_uri": "https://localhost:8080/"
        },
        "id": "PNf-9JU170FM",
        "outputId": "c0f1efc9-fe09-4e9e-d455-08d74de7c4ac"
      },
      "source": [
        "from sklearn.linear_model import LinearRegression, SGDRegressor\n",
        "\n",
        "model1 = LinearRegression()\n",
        "model1.fit(x.reshape(-1,1), y)\n",
        "print(model1.coef_, model1.intercept_)\n",
        "\n",
        "model2 = SGDRegressor()\n",
        "model2.fit(x.reshape(-1,1), y)\n",
        "print(model2.coef_, model2.intercept_)"
      ],
      "execution_count": 17,
      "outputs": [
        {
          "output_type": "stream",
          "name": "stdout",
          "text": [
            "[0.67053784] 0.7543707850304091\n",
            "[0.66548898] [0.72831508]\n"
          ]
        }
      ]
    },
    {
      "cell_type": "code",
      "source": [
        "model1.score(x.reshape(-1,1), y), model2.score(x.reshape(-1,1), y)"
      ],
      "metadata": {
        "colab": {
          "base_uri": "https://localhost:8080/"
        },
        "id": "Dha6_yYKADhD",
        "outputId": "8e1a7df2-1158-4d53-b22f-4d6d9d072c6f"
      },
      "execution_count": 18,
      "outputs": [
        {
          "output_type": "execute_result",
          "data": {
            "text/plain": [
              "(0.7443390991424461, 0.7434204543282553)"
            ]
          },
          "metadata": {},
          "execution_count": 18
        }
      ]
    },
    {
      "cell_type": "markdown",
      "metadata": {
        "id": "vDDx2nN0NrpW"
      },
      "source": [
        "# Gradient Descent method for Linear Classification\n",
        "- Logistic Regression"
      ]
    },
    {
      "cell_type": "code",
      "metadata": {
        "colab": {
          "base_uri": "https://localhost:8080/",
          "height": 304
        },
        "id": "13_wo9Sl9hMP",
        "outputId": "e8caaa37-57be-4fac-c197-c7f92a589fdd"
      },
      "source": [
        "from sklearn.datasets import make_blobs\n",
        "N = 300\n",
        "np.random.seed(17)\n",
        "(X, y) = make_blobs(n_samples=N, n_features=2, centers=2,\n",
        "                     cluster_std=1.5, random_state=20)\n",
        "plt.scatter(X[:,0], X[:,1], c=y)\n",
        "\n",
        "x1, x2 = X[:,0], X[:,1]\n",
        "\n",
        "w1 = np.random.randn()\n",
        "w2 = np.random.randn()\n",
        "b = np.random.randn()\n",
        "\n",
        "def sigmoid(x):\n",
        "  return 1.0/(1.0 + np.exp(-x))\n",
        "\n",
        "lossHistory = []\n",
        "n_epoch = 300\n",
        "lr = 0.01\n",
        "\n",
        "for i in range(n_epoch):\n",
        "  z = w1 * x1 + w2 * x2 + b\n",
        "  y_pred = sigmoid(z)\n",
        "  loss = -(y*np.log(y_pred)+(1-y)*np.log(1-y_pred)).mean()\n",
        "  lossHistory.append(loss)\n",
        "\n",
        "  w1 = w1 - lr * ((y_pred - y) * x1).mean()\n",
        "  w2 = w2 - lr * ((y_pred - y) * x2).mean()\n",
        "  b  = b  - lr * ((y_pred - y) * 1 ).mean()\n",
        "\n",
        "  # if (i % 30 ==0) : \n",
        "  #  print(w1, w2, b, loss)\n",
        "\n",
        "accuracy = ((sigmoid(w1*x1 + w2*x2 + b) > 0.5) == y).mean()\n",
        "print(accuracy)\n",
        "\n",
        "# plotting\n",
        "xx = np.linspace(-3, 13, 100)\n",
        "yy = -w1/w2 * xx - b/w2\n",
        "plt.plot(xx, yy)"
      ],
      "execution_count": 19,
      "outputs": [
        {
          "output_type": "stream",
          "name": "stdout",
          "text": [
            "0.9833333333333333\n"
          ]
        },
        {
          "output_type": "execute_result",
          "data": {
            "text/plain": [
              "[<matplotlib.lines.Line2D at 0x7fb2268ce310>]"
            ]
          },
          "metadata": {},
          "execution_count": 19
        },
        {
          "output_type": "display_data",
          "data": {
            "text/plain": [
              "<Figure size 432x288 with 1 Axes>"
            ],
            "image/png": "[encoded data removed]"
          },
          "metadata": {
            "needs_background": "light"
          }
        }
      ]
    },
    {
      "cell_type": "code",
      "metadata": {
        "colab": {
          "base_uri": "https://localhost:8080/",
          "height": 282
        },
        "id": "Mqd54l0sRtZc",
        "outputId": "f0b7fad9-3d52-453b-8d57-207bb7637ca3"
      },
      "source": [
        "plt.plot(lossHistory)"
      ],
      "execution_count": 20,
      "outputs": [
        {
          "output_type": "execute_result",
          "data": {
            "text/plain": [
              "[<matplotlib.lines.Line2D at 0x7fb226840490>]"
            ]
          },
          "metadata": {},
          "execution_count": 20
        },
        {
          "output_type": "display_data",
          "data": {
            "text/plain": [
              "<Figure size 432x288 with 1 Axes>"
            ],
            "image/png": "[encoded data removed]"
          },
          "metadata": {
            "needs_background": "light"
          }
        }
      ]
    },
    {
      "cell_type": "code",
      "metadata": {
        "id": "cjmvZ6TxRv4z"
      },
      "source": [
        "# using Library function\n",
        "from sklearn.linear_model import SGDClassifier, LogisticRegression"
      ],
      "execution_count": 30,
      "outputs": []
    },
    {
      "cell_type": "code",
      "metadata": {
        "colab": {
          "base_uri": "https://localhost:8080/",
          "height": 300
        },
        "id": "CrXEdqTpS0r7",
        "outputId": "fd6c7e44-fa4a-4f5a-95a5-1985662be784"
      },
      "source": [
        "N = 300\n",
        "np.random.seed(17)\n",
        "(X, y) = make_blobs(n_samples=N, n_features=2, centers=2,\n",
        "                     cluster_std=1.5, random_state=20)\n",
        "plt.scatter(X[:,0], X[:,1], c=y)\n",
        "x1, x2 = X[:,0], X[:,1]\n",
        "\n",
        "model = SGDClassifier()\n",
        "# model = LogisticRegression()\n",
        "model.fit(X, y)\n",
        "print(model.coef_, model.intercept_)\n",
        "\n",
        "plt.ylim([-3, 15])\n",
        "w1, w2, b = model.coef_[0,0], model.coef_[0,1], model.intercept_[0]\n",
        "xx = np.linspace(-3, 13, 100)\n",
        "yy = -w1/w2 * xx - b/w2\n",
        "plt.plot(xx, yy)"
      ],
      "execution_count": 35,
      "outputs": [
        {
          "output_type": "stream",
          "name": "stdout",
          "text": [
            "[[ 81.16354901 -34.36917115]] [-93.03298212]\n"
          ]
        },
        {
          "output_type": "execute_result",
          "data": {
            "text/plain": [
              "[<matplotlib.lines.Line2D at 0x7fb22637b150>]"
            ]
          },
          "metadata": {},
          "execution_count": 35
        },
        {
          "output_type": "display_data",
          "data": {
            "text/plain": [
              "<Figure size 432x288 with 1 Axes>"
            ],
            "image/png": "[encoded data removed]"
          },
          "metadata": {
            "needs_background": "light"
          }
        }
      ]
    },
    {
      "cell_type": "code",
      "metadata": {
        "colab": {
          "base_uri": "https://localhost:8080/"
        },
        "id": "aq9p5iOyTCqX",
        "outputId": "af5164a7-039e-4e47-c87a-13edbeb52664"
      },
      "source": [
        "model.score(X, y)"
      ],
      "execution_count": 36,
      "outputs": [
        {
          "output_type": "execute_result",
          "data": {
            "text/plain": [
              "0.9733333333333334"
            ]
          },
          "metadata": {},
          "execution_count": 36
        }
      ]
    }
  ]
}