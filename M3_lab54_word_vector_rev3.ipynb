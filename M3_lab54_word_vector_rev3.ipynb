{
  "nbformat": 4,
  "nbformat_minor": 0,
  "metadata": {
    "accelerator": "GPU",
    "colab": {
      "provenance": [],
      "toc_visible": true,
      "include_colab_link": true
    },
    "kernelspec": {
      "display_name": "Python 3",
      "language": "python",
      "name": "python3"
    },
    "language_info": {
      "codemirror_mode": {
        "name": "ipython",
        "version": 3
      },
      "file_extension": ".py",
      "mimetype": "text/x-python",
      "name": "python",
      "nbconvert_exporter": "python",
      "pygments_lexer": "ipython3",
      "version": "3.6.8"
    }
  },
  "cells": [
    {
      "cell_type": "markdown",
      "metadata": {
        "id": "view-in-github",
        "colab_type": "text"
      },
      "source": [
        "<a href=\"https://colab.research.google.com/github/rtajeong/M3_new/blob/main/M3_lab54_word_vector_rev3.ipynb\" target=\"_parent\"><img src=\"https://colab.research.google.com/assets/colab-badge.svg\" alt=\"Open In Colab\"/></a>"
      ]
    },
    {
      "cell_type": "markdown",
      "metadata": {
        "id": "RSiTy5MDXBnt"
      },
      "source": [
        "# 단어벡터 (Word Vector or Wrod Embedding)\n",
        "- 빅카인즈 뉴스기사 데이터 활용(https://www.bigkinds.or.kr/)\n",
        "- 앞에서의 텍스트 코딩 방식인 One-hot encoding, BoW(단어모음), 문서-단어 행렬 방식은 모두 단어마다 고유번호를 배정하여 사용함. 그러나 이 번호들에는 아무런 의미가 포함되어 있지 않고 단지 인덱스 역할만.\n",
        "- 대신에 단어를 의미있는 숫자들의 집합, 즉, 벡터로 표현하는 방법이 소개됨 - 단어벡터 (Word Vector)\n",
        "\n",
        "### Word Vector(단어벡터)\n",
        "- 단어를 고차원 공간상의 벡터로 표현함으로 단어간 거리 표현 가능. 차원이 높을수록 정교한 의미 구분 가능.\n",
        "- 보통 50~300 개 정도의 차원을 사용함\n",
        "- 단어간의 거리 (유사도) 뿐 아니라 방향성(벡터)도 찾을 수 있음.\n",
        "- 단어벡터의 각 성분이 어떤 의미를 갖는지는 알 수 없다.\n",
        "*****************"
      ]
    },
    {
      "cell_type": "markdown",
      "metadata": {
        "id": "6VHnsDHlXBn7"
      },
      "source": [
        "# 한국어 뉴스를 이용한 단어 벡터 생성\n",
        "- 단어 추출: konlpy 의 kkma() 사용\n",
        "- 단어 벡터 생성: gensim 의 word2vec() 사용"
      ]
    },
    {
      "cell_type": "code",
      "metadata": {
        "colab": {
          "base_uri": "https://localhost:8080/"
        },
        "id": "xDM2364masZe",
        "outputId": "10d29b99-6f1e-4ec6-c4cc-a79fc7fb339e"
      },
      "source": [
        "!pip install konlpy"
      ],
      "execution_count": 1,
      "outputs": [
        {
          "output_type": "stream",
          "name": "stdout",
          "text": [
            "Collecting konlpy\n",
            "  Downloading konlpy-0.6.0-py2.py3-none-any.whl (19.4 MB)\n",
            "\u001b[2K     \u001b[90m━━━━━━━━━━━━━━━━━━━━━━━━━━━━━━━━━━━━━━━━\u001b[0m \u001b[32m19.4/19.4 MB\u001b[0m \u001b[31m34.7 MB/s\u001b[0m eta \u001b[36m0:00:00\u001b[0m\n",
            "\u001b[?25hCollecting JPype1>=0.7.0 (from konlpy)\n",
            "  Downloading JPype1-1.4.1-cp310-cp310-manylinux_2_12_x86_64.manylinux2010_x86_64.whl (465 kB)\n",
            "\u001b[2K     \u001b[90m━━━━━━━━━━━━━━━━━━━━━━━━━━━━━━━━━━━━━━\u001b[0m \u001b[32m465.3/465.3 kB\u001b[0m \u001b[31m46.2 MB/s\u001b[0m eta \u001b[36m0:00:00\u001b[0m\n",
            "\u001b[?25hRequirement already satisfied: lxml>=4.1.0 in /usr/local/lib/python3.10/dist-packages (from konlpy) (4.9.3)\n",
            "Requirement already satisfied: numpy>=1.6 in /usr/local/lib/python3.10/dist-packages (from konlpy) (1.23.5)\n",
            "Requirement already satisfied: packaging in /usr/local/lib/python3.10/dist-packages (from JPype1>=0.7.0->konlpy) (23.1)\n",
            "Installing collected packages: JPype1, konlpy\n",
            "Successfully installed JPype1-1.4.1 konlpy-0.6.0\n"
          ]
        }
      ]
    },
    {
      "cell_type": "code",
      "metadata": {
        "colab": {
          "base_uri": "https://localhost:8080/"
        },
        "id": "eA2l5lg8X-yR",
        "outputId": "fa2450f3-e00d-4265-b8a9-2e46857a0a49"
      },
      "source": [
        "# gensim: library for topic modelling, document indexing and similarity retrieval\n",
        "!pip install gensim"
      ],
      "execution_count": null,
      "outputs": [
        {
          "output_type": "stream",
          "name": "stdout",
          "text": [
            "Looking in indexes: https://pypi.org/simple, https://us-python.pkg.dev/colab-wheels/public/simple/\n",
            "Requirement already satisfied: gensim in /usr/local/lib/python3.8/dist-packages (3.6.0)\n",
            "Requirement already satisfied: six>=1.5.0 in /usr/local/lib/python3.8/dist-packages (from gensim) (1.15.0)\n",
            "Requirement already satisfied: scipy>=0.18.1 in /usr/local/lib/python3.8/dist-packages (from gensim) (1.7.3)\n",
            "Requirement already satisfied: numpy>=1.11.3 in /usr/local/lib/python3.8/dist-packages (from gensim) (1.21.6)\n",
            "Requirement already satisfied: smart-open>=1.2.1 in /usr/local/lib/python3.8/dist-packages (from gensim) (6.3.0)\n"
          ]
        }
      ]
    },
    {
      "cell_type": "code",
      "metadata": {
        "id": "TcpN2NDuXBn9"
      },
      "source": [
        "from konlpy.tag import Kkma     # 형태소 분석 및 자연어 처리 모듈 (서울대)\n",
        "from gensim.models.word2vec import Word2Vec\n",
        "kkma = Kkma()"
      ],
      "execution_count": 2,
      "outputs": []
    },
    {
      "cell_type": "code",
      "metadata": {
        "colab": {
          "base_uri": "https://localhost:8080/"
        },
        "id": "qD19V5SpX-yV",
        "outputId": "08830165-13c0-457b-bbd5-26099dc1a7a5"
      },
      "source": [
        "# KoNLPy: 형태소 (뜻을 가진 최소 언어 단위) 분석\n",
        "# kkma: Korean morpheme analyzer\n",
        "# https://konlpy.org/ko/latest/morph/#pos-tagging-with-konlpy\n",
        "print(kkma.sentences('네, 안녕하세요. 반갑습니다.'))\n",
        "print(kkma.nouns('질문이나 건의사항은 깃헙 이슈 트래커에 남겨주세요.'))\n",
        "print(kkma.pos('오류보고는 실행환경, 에러메세지와함께 설명을 최대한상세히!^^'))\n",
        "# pos (part-of-speech): 품사 (명사, 동사, ...)"
      ],
      "execution_count": 3,
      "outputs": [
        {
          "output_type": "stream",
          "name": "stdout",
          "text": [
            "['네, 안녕하세요.', '반갑습니다.']\n",
            "['질문', '건의', '건의사항', '사항', '깃헙', '이슈', '트래커']\n",
            "[('오류', 'NNG'), ('보고', 'NNG'), ('는', 'JX'), ('실행', 'NNG'), ('환경', 'NNG'), (',', 'SP'), ('에러', 'NNG'), ('메세지', 'NNG'), ('와', 'JKM'), ('함께', 'MAG'), ('설명', 'NNG'), ('을', 'JKO'), ('최대한', 'NNG'), ('상세히', 'MAG'), ('!', 'SF'), ('^^', 'EMO')]\n"
          ]
        }
      ]
    },
    {
      "cell_type": "markdown",
      "metadata": {
        "id": "7R5lqDRhXBoy"
      },
      "source": [
        "## IT 뉴스기사"
      ]
    },
    {
      "cell_type": "code",
      "metadata": {
        "colab": {
          "base_uri": "https://localhost:8080/"
        },
        "id": "_xmQLbrQqNhq",
        "outputId": "d17d139d-7848-4046-b071-60e6cffde284"
      },
      "source": [
        "!wget https://bit.ly/2X7UON2 -O news2018.xlsx   # wget 도 동일"
      ],
      "execution_count": 4,
      "outputs": [
        {
          "output_type": "stream",
          "name": "stdout",
          "text": [
            "--2023-09-07 06:58:49--  https://bit.ly/2X7UON2\n",
            "Resolving bit.ly (bit.ly)... 67.199.248.11, 67.199.248.10\n",
            "Connecting to bit.ly (bit.ly)|67.199.248.11|:443... connected.\n",
            "HTTP request sent, awaiting response... 301 Moved Permanently\n",
            "Location: https://www.dropbox.com/s/gr5jhlshp8m3iqn/NewsResult_20181128-20190228.xlsx [following]\n",
            "--2023-09-07 06:58:49--  https://www.dropbox.com/s/gr5jhlshp8m3iqn/NewsResult_20181128-20190228.xlsx\n",
            "Resolving www.dropbox.com (www.dropbox.com)... 162.125.1.18, 2620:100:6016:18::a27d:112\n",
            "Connecting to www.dropbox.com (www.dropbox.com)|162.125.1.18|:443... connected.\n",
            "HTTP request sent, awaiting response... 302 Found\n",
            "Location: /s/raw/gr5jhlshp8m3iqn/NewsResult_20181128-20190228.xlsx [following]\n",
            "--2023-09-07 06:58:50--  https://www.dropbox.com/s/raw/gr5jhlshp8m3iqn/NewsResult_20181128-20190228.xlsx\n",
            "Reusing existing connection to www.dropbox.com:443.\n",
            "HTTP request sent, awaiting response... 302 Found\n",
            "Location: https://ucb8fbefae731d5161bf6f96be98.dl.dropboxusercontent.com/cd/0/inline/CDT1qrWdkoKWiJNAQfS1iyYzofakCAvbqESXPZBxPgXC5YRYHOhheuslyGq1j1TIgWTf1y3FoDhuCIO5Ry2zUor8BR9LmCQj1lKL0YBHnWsBztol41Aea2Dem2jwacj5G10/file# [following]\n",
            "--2023-09-07 06:58:50--  https://ucb8fbefae731d5161bf6f96be98.dl.dropboxusercontent.com/cd/0/inline/CDT1qrWdkoKWiJNAQfS1iyYzofakCAvbqESXPZBxPgXC5YRYHOhheuslyGq1j1TIgWTf1y3FoDhuCIO5Ry2zUor8BR9LmCQj1lKL0YBHnWsBztol41Aea2Dem2jwacj5G10/file\n",
            "Resolving ucb8fbefae731d5161bf6f96be98.dl.dropboxusercontent.com (ucb8fbefae731d5161bf6f96be98.dl.dropboxusercontent.com)... 162.125.1.15, 2620:100:6016:15::a27d:10f\n",
            "Connecting to ucb8fbefae731d5161bf6f96be98.dl.dropboxusercontent.com (ucb8fbefae731d5161bf6f96be98.dl.dropboxusercontent.com)|162.125.1.15|:443... connected.\n",
            "HTTP request sent, awaiting response... 302 Found\n",
            "Location: /cd/0/inline2/CDQzLOmAdetT3jQ0EATXDN_3ZKjk8KtV5waVdr7VeGqMC5lvBvLi9PbYv5TGxJ-UiyN8M0cc9lb10x136gPO42ChaNjM0-SP7z-qEpNaYzSW-4VNmgqwrCjEPiRd1qfsfUbH93AizoFDft6nU33_mPIFvxe2c4vSZ3dZ_Enanzn1dxk6dmhZiC_e218JzITI7mbLwxYC30qTmpIW9qOTCwrsVb3jqbAZLyRHi_1obSA3UR49WcRpDCSfpVdpALSlQrH1PSTX_dNSzrvwLuy63F1btXfxmU15ccC1DA6Kn0yXLnaQMqN-tPmkCQMakoSjuNdFs2Qu2Uvqd6q_3BR7IBJHrbb2UGtBnBATb_h7TnIFxA/file [following]\n",
            "--2023-09-07 06:58:50--  https://ucb8fbefae731d5161bf6f96be98.dl.dropboxusercontent.com/cd/0/inline2/CDQzLOmAdetT3jQ0EATXDN_3ZKjk8KtV5waVdr7VeGqMC5lvBvLi9PbYv5TGxJ-UiyN8M0cc9lb10x136gPO42ChaNjM0-SP7z-qEpNaYzSW-4VNmgqwrCjEPiRd1qfsfUbH93AizoFDft6nU33_mPIFvxe2c4vSZ3dZ_Enanzn1dxk6dmhZiC_e218JzITI7mbLwxYC30qTmpIW9qOTCwrsVb3jqbAZLyRHi_1obSA3UR49WcRpDCSfpVdpALSlQrH1PSTX_dNSzrvwLuy63F1btXfxmU15ccC1DA6Kn0yXLnaQMqN-tPmkCQMakoSjuNdFs2Qu2Uvqd6q_3BR7IBJHrbb2UGtBnBATb_h7TnIFxA/file\n",
            "Reusing existing connection to ucb8fbefae731d5161bf6f96be98.dl.dropboxusercontent.com:443.\n",
            "HTTP request sent, awaiting response... 200 OK\n",
            "Length: 1832194 (1.7M) [application/vnd.openxmlformats-officedocument.spreadsheetml.sheet]\n",
            "Saving to: ‘news2018.xlsx’\n",
            "\n",
            "news2018.xlsx       100%[===================>]   1.75M  --.-KB/s    in 0.05s   \n",
            "\n",
            "2023-09-07 06:58:51 (34.6 MB/s) - ‘news2018.xlsx’ saved [1832194/1832194]\n",
            "\n"
          ]
        }
      ]
    },
    {
      "cell_type": "code",
      "metadata": {
        "id": "tGECncx5p1oY",
        "colab": {
          "base_uri": "https://localhost:8080/"
        },
        "outputId": "6545d562-cc13-4738-f498-181cf2dbabd0"
      },
      "source": [
        "import pandas as pd\n",
        "news = pd.read_excel(\"news2018.xlsx\")"
      ],
      "execution_count": 6,
      "outputs": [
        {
          "output_type": "stream",
          "name": "stderr",
          "text": [
            "/usr/local/lib/python3.10/dist-packages/openpyxl/styles/stylesheet.py:226: UserWarning: Workbook contains no default style, apply openpyxl's default\n",
            "  warn(\"Workbook contains no default style, apply openpyxl's default\")\n"
          ]
        }
      ]
    },
    {
      "cell_type": "code",
      "source": [
        "news.head()"
      ],
      "metadata": {
        "id": "0_LQx1YXThuK",
        "colab": {
          "base_uri": "https://localhost:8080/",
          "height": 1000
        },
        "outputId": "29ebf888-9f0a-417a-b890-0eeee26f3779"
      },
      "execution_count": 7,
      "outputs": [
        {
          "output_type": "execute_result",
          "data": {
            "text/plain": [
              "         뉴스 식별자        일자     언론사                        기고자  \\\n",
              "0  1.500401e+06  20190228    국제신문  김태경 기자 tgkim@kookje.co.kr   \n",
              "1  1.200201e+06  20190228    경인일보                        조영상   \n",
              "2  1.200101e+06  20190228    경기일보                     강해인 기자   \n",
              "3  1.600501e+06  20190228    무등일보                        류성훈   \n",
              "4  2.100501e+06  20190228  파이낸셜뉴스                     파이낸셜뉴스   \n",
              "\n",
              "                                    제목    통합 분류1     통합 분류2   통합 분류3  \\\n",
              "0       빅딜이냐 스몰딜이냐 ‘영변 핵+α’ 로드맵 도출이 관건     정치>북한      정치>외교      NaN   \n",
              "1  하노이 도착후 실무대표단 청취 김정은, 북미회담 성공 '잰걸음'   국제>국제일반      정치>북한      NaN   \n",
              "2                     트럼프-김정은 '2차 핵담판'     정치>북한     정치>청와대    정치>외교   \n",
              "3                      (약수터)평양 냉면과 로저스     정치>북한      정치>외교   정치>청와대   \n",
              "4       북미회담 뒤 남북교류 확대 예고 협력 법안들 다시 주목  정치>행정_자치   정치>국회_정당    정치>북한   \n",
              "\n",
              "  사건/사고 분류1 사건/사고 분류2 사건/사고 분류3                                         인물  \\\n",
              "0       NaN       NaN       NaN                          김,도널드 트럼프,김의겸,김정은   \n",
              "1       NaN       NaN       NaN                                          김   \n",
              "2       NaN       NaN       NaN  김,도널드 트럼프,마이크 폼페이오,믹 멀베이니,김영철,리용호,김정은,트럼프   \n",
              "3       NaN       NaN       NaN              짐 로저스,도널드 트럼프,리선권,김정은,로저스,트럼프   \n",
              "4       NaN       NaN       NaN               원혜영,김,임종성,박정,김재경,노웅래,김정우,소병훈   \n",
              "\n",
              "                                     위치  \\\n",
              "0              북미,미국,하노이,서울,싱가포르,북한,리비아   \n",
              "1                            북미,하노이,베트남   \n",
              "2  금강산,카펠라,미국,하노이,일본,중국,싱가포르,북한,베트남,러시아   \n",
              "3                한반도,평양,미국,일본,약수터,한국,북한   \n",
              "4                   평양,하노이,판문점,남,북한,남북한   \n",
              "\n",
              "                                                  기관  \\\n",
              "0                    북미,북미 정상회,미국,청와대,북미 정상회담,북한,국무위   \n",
              "1                                         조선중앙통신,국무위   \n",
              "2  북미,미국,외무상,종전선언ㆍ평화협정,경기일보,노동당,윈-윈,플러스 알파,트위터,한국...   \n",
              "3  남한,옥류관,조국평화통일위,자유한국당,SK,남북결합,LG,북한,삼성,국무위,개성공단...   \n",
              "4  미국,민주당,더불어민주당,9.19,국회,남북교류,북한,방송통신위원회,과학기술정보통신...   \n",
              "\n",
              "                                                 키워드  \\\n",
              "0  빅딜,스몰딜,영변,로드맵,도출,비핵화,수준,상응,조치,막판,양국,협상팀,밀당,1차,...   \n",
              "1  하노이,도착,실무대표단,청취,김정은,잰걸음,북미회담,성공,김정은,국무,위원장,시작,...   \n",
              "2  트럼프,김정은,2차,핵담판,북미,정상,단독회담,정상,만찬,역사,창조,도출,북측,폐기...   \n",
              "3  약수터,평양,냉면,로저스,9월,남북정상회담,리선권,북한,조국,평화,통일,위원장,냉면...   \n",
              "4  북미회담,예고,남북교류,확대,협력,법안,주목,지자체,민간,교류,활성화,부처,논의,예...   \n",
              "\n",
              "                                                특성추출  \\\n",
              "0  북미,비핵화,미국,스몰딜,1차,정상회담,김정은,종전선언,연락사무소,하노이,영변,대변...   \n",
              "1  실무대표단,하노이,김정은,위원장,베트남,북미정상회담,북미회담,정상회담,조선중앙통신,...   \n",
              "2  위원장,영변,김정은,비핵화,합의문,미국,베트남,8개월,단독회담,하노이,금강산관광,체...   \n",
              "3  개성공단,로저스,리선권,위원장,김정은,남북정상회담,지하자원,민족끼리,남한,투자가,대...   \n",
              "4  개정안,협력사업,남북교류,활성화,지자체,더불어민주당,부처간,협의체,남북한,2차,남북...   \n",
              "\n",
              "                                                  본문  \\\n",
              "0  - 비핵화 수준 상응 조치 놓고\\n- 양국 협상팀 막판까지 ‘밀당’\\n- 1차 때와...   \n",
              "1  김정은 국무위원장이 27일 시작되는 제2차 북미정상회담 성공을 위해 심혈을 기울이고...   \n",
              "2  북미가 처음으로 정상 간 단독회담과 만찬을 가지며 또다시 새로운 역사 창조에 나섰다...   \n",
              "3  지난해 9월 남북정상회담 당시 리선권 북한 조국평화통일위원장의 '냉면' 발언으로 정...   \n",
              "4  지자체 민간 교류 활성화 대부분 \\n여, 부처간 논의 예산 지원 확대 \\n야, 사업...   \n",
              "\n",
              "                                                 URL 분석제외 여부  \n",
              "0  http://www.kookje.co.kr/news2011/asp/newsbody....     NaN  \n",
              "1  http://www.kyeongin.com/main/view.php?key=2019...     NaN  \n",
              "2  www.kyeonggi.com/news/articleView.html?idxno=2...     NaN  \n",
              "3  http://www.honam.co.kr/news_view.php?n=577616&...     NaN  \n",
              "4      http://www.fnnews.com/news/201902271720367713     NaN  "
            ],
            "text/html": [
              "\n",
              "  <div id=\"df-4577860b-8e5f-4b94-bce5-3a17364e9b12\" class=\"colab-df-container\">\n",
              "    <div>\n",
              "<style scoped>\n",
              "    .dataframe tbody tr th:only-of-type {\n",
              "        vertical-align: middle;\n",
              "    }\n",
              "\n",
              "    .dataframe tbody tr th {\n",
              "        vertical-align: top;\n",
              "    }\n",
              "\n",
              "    .dataframe thead th {\n",
              "        text-align: right;\n",
              "    }\n",
              "</style>\n",
              "<table border=\"1\" class=\"dataframe\">\n",
              "  <thead>\n",
              "    <tr style=\"text-align: right;\">\n",
              "      <th></th>\n",
              "      <th>뉴스 식별자</th>\n",
              "      <th>일자</th>\n",
              "      <th>언론사</th>\n",
              "      <th>기고자</th>\n",
              "      <th>제목</th>\n",
              "      <th>통합 분류1</th>\n",
              "      <th>통합 분류2</th>\n",
              "      <th>통합 분류3</th>\n",
              "      <th>사건/사고 분류1</th>\n",
              "      <th>사건/사고 분류2</th>\n",
              "      <th>사건/사고 분류3</th>\n",
              "      <th>인물</th>\n",
              "      <th>위치</th>\n",
              "      <th>기관</th>\n",
              "      <th>키워드</th>\n",
              "      <th>특성추출</th>\n",
              "      <th>본문</th>\n",
              "      <th>URL</th>\n",
              "      <th>분석제외 여부</th>\n",
              "    </tr>\n",
              "  </thead>\n",
              "  <tbody>\n",
              "    <tr>\n",
              "      <th>0</th>\n",
              "      <td>1.500401e+06</td>\n",
              "      <td>20190228</td>\n",
              "      <td>국제신문</td>\n",
              "      <td>김태경 기자 tgkim@kookje.co.kr</td>\n",
              "      <td>빅딜이냐 스몰딜이냐 ‘영변 핵+α’ 로드맵 도출이 관건</td>\n",
              "      <td>정치&gt;북한</td>\n",
              "      <td>정치&gt;외교</td>\n",
              "      <td>NaN</td>\n",
              "      <td>NaN</td>\n",
              "      <td>NaN</td>\n",
              "      <td>NaN</td>\n",
              "      <td>김,도널드 트럼프,김의겸,김정은</td>\n",
              "      <td>북미,미국,하노이,서울,싱가포르,북한,리비아</td>\n",
              "      <td>북미,북미 정상회,미국,청와대,북미 정상회담,북한,국무위</td>\n",
              "      <td>빅딜,스몰딜,영변,로드맵,도출,비핵화,수준,상응,조치,막판,양국,협상팀,밀당,1차,...</td>\n",
              "      <td>북미,비핵화,미국,스몰딜,1차,정상회담,김정은,종전선언,연락사무소,하노이,영변,대변...</td>\n",
              "      <td>- 비핵화 수준 상응 조치 놓고\\n- 양국 협상팀 막판까지 ‘밀당’\\n- 1차 때와...</td>\n",
              "      <td>http://www.kookje.co.kr/news2011/asp/newsbody....</td>\n",
              "      <td>NaN</td>\n",
              "    </tr>\n",
              "    <tr>\n",
              "      <th>1</th>\n",
              "      <td>1.200201e+06</td>\n",
              "      <td>20190228</td>\n",
              "      <td>경인일보</td>\n",
              "      <td>조영상</td>\n",
              "      <td>하노이 도착후 실무대표단 청취 김정은, 북미회담 성공 '잰걸음'</td>\n",
              "      <td>국제&gt;국제일반</td>\n",
              "      <td>정치&gt;북한</td>\n",
              "      <td>NaN</td>\n",
              "      <td>NaN</td>\n",
              "      <td>NaN</td>\n",
              "      <td>NaN</td>\n",
              "      <td>김</td>\n",
              "      <td>북미,하노이,베트남</td>\n",
              "      <td>조선중앙통신,국무위</td>\n",
              "      <td>하노이,도착,실무대표단,청취,김정은,잰걸음,북미회담,성공,김정은,국무,위원장,시작,...</td>\n",
              "      <td>실무대표단,하노이,김정은,위원장,베트남,북미정상회담,북미회담,정상회담,조선중앙통신,...</td>\n",
              "      <td>김정은 국무위원장이 27일 시작되는 제2차 북미정상회담 성공을 위해 심혈을 기울이고...</td>\n",
              "      <td>http://www.kyeongin.com/main/view.php?key=2019...</td>\n",
              "      <td>NaN</td>\n",
              "    </tr>\n",
              "    <tr>\n",
              "      <th>2</th>\n",
              "      <td>1.200101e+06</td>\n",
              "      <td>20190228</td>\n",
              "      <td>경기일보</td>\n",
              "      <td>강해인 기자</td>\n",
              "      <td>트럼프-김정은 '2차 핵담판'</td>\n",
              "      <td>정치&gt;북한</td>\n",
              "      <td>정치&gt;청와대</td>\n",
              "      <td>정치&gt;외교</td>\n",
              "      <td>NaN</td>\n",
              "      <td>NaN</td>\n",
              "      <td>NaN</td>\n",
              "      <td>김,도널드 트럼프,마이크 폼페이오,믹 멀베이니,김영철,리용호,김정은,트럼프</td>\n",
              "      <td>금강산,카펠라,미국,하노이,일본,중국,싱가포르,북한,베트남,러시아</td>\n",
              "      <td>북미,미국,외무상,종전선언ㆍ평화협정,경기일보,노동당,윈-윈,플러스 알파,트위터,한국...</td>\n",
              "      <td>트럼프,김정은,2차,핵담판,북미,정상,단독회담,정상,만찬,역사,창조,도출,북측,폐기...</td>\n",
              "      <td>위원장,영변,김정은,비핵화,합의문,미국,베트남,8개월,단독회담,하노이,금강산관광,체...</td>\n",
              "      <td>북미가 처음으로 정상 간 단독회담과 만찬을 가지며 또다시 새로운 역사 창조에 나섰다...</td>\n",
              "      <td>www.kyeonggi.com/news/articleView.html?idxno=2...</td>\n",
              "      <td>NaN</td>\n",
              "    </tr>\n",
              "    <tr>\n",
              "      <th>3</th>\n",
              "      <td>1.600501e+06</td>\n",
              "      <td>20190228</td>\n",
              "      <td>무등일보</td>\n",
              "      <td>류성훈</td>\n",
              "      <td>(약수터)평양 냉면과 로저스</td>\n",
              "      <td>정치&gt;북한</td>\n",
              "      <td>정치&gt;외교</td>\n",
              "      <td>정치&gt;청와대</td>\n",
              "      <td>NaN</td>\n",
              "      <td>NaN</td>\n",
              "      <td>NaN</td>\n",
              "      <td>짐 로저스,도널드 트럼프,리선권,김정은,로저스,트럼프</td>\n",
              "      <td>한반도,평양,미국,일본,약수터,한국,북한</td>\n",
              "      <td>남한,옥류관,조국평화통일위,자유한국당,SK,남북결합,LG,북한,삼성,국무위,개성공단...</td>\n",
              "      <td>약수터,평양,냉면,로저스,9월,남북정상회담,리선권,북한,조국,평화,통일,위원장,냉면...</td>\n",
              "      <td>개성공단,로저스,리선권,위원장,김정은,남북정상회담,지하자원,민족끼리,남한,투자가,대...</td>\n",
              "      <td>지난해 9월 남북정상회담 당시 리선권 북한 조국평화통일위원장의 '냉면' 발언으로 정...</td>\n",
              "      <td>http://www.honam.co.kr/news_view.php?n=577616&amp;...</td>\n",
              "      <td>NaN</td>\n",
              "    </tr>\n",
              "    <tr>\n",
              "      <th>4</th>\n",
              "      <td>2.100501e+06</td>\n",
              "      <td>20190228</td>\n",
              "      <td>파이낸셜뉴스</td>\n",
              "      <td>파이낸셜뉴스</td>\n",
              "      <td>북미회담 뒤 남북교류 확대 예고 협력 법안들 다시 주목</td>\n",
              "      <td>정치&gt;행정_자치</td>\n",
              "      <td>정치&gt;국회_정당</td>\n",
              "      <td>정치&gt;북한</td>\n",
              "      <td>NaN</td>\n",
              "      <td>NaN</td>\n",
              "      <td>NaN</td>\n",
              "      <td>원혜영,김,임종성,박정,김재경,노웅래,김정우,소병훈</td>\n",
              "      <td>평양,하노이,판문점,남,북한,남북한</td>\n",
              "      <td>미국,민주당,더불어민주당,9.19,국회,남북교류,북한,방송통신위원회,과학기술정보통신...</td>\n",
              "      <td>북미회담,예고,남북교류,확대,협력,법안,주목,지자체,민간,교류,활성화,부처,논의,예...</td>\n",
              "      <td>개정안,협력사업,남북교류,활성화,지자체,더불어민주당,부처간,협의체,남북한,2차,남북...</td>\n",
              "      <td>지자체 민간 교류 활성화 대부분 \\n여, 부처간 논의 예산 지원 확대 \\n야, 사업...</td>\n",
              "      <td>http://www.fnnews.com/news/201902271720367713</td>\n",
              "      <td>NaN</td>\n",
              "    </tr>\n",
              "  </tbody>\n",
              "</table>\n",
              "</div>\n",
              "    <div class=\"colab-df-buttons\">\n",
              "\n",
              "  <div class=\"colab-df-container\">\n",
              "    <button class=\"colab-df-convert\" onclick=\"convertToInteractive('df-4577860b-8e5f-4b94-bce5-3a17364e9b12')\"\n",
              "            title=\"Convert this dataframe to an interactive table.\"\n",
              "            style=\"display:none;\">\n",
              "\n",
              "  <svg xmlns=\"http://www.w3.org/2000/svg\" height=\"24px\" viewBox=\"0 -960 960 960\">\n",
              "    <path d=\"M120-120v-720h720v720H120Zm60-500h600v-160H180v160Zm220 220h160v-160H400v160Zm0 220h160v-160H400v160ZM180-400h160v-160H180v160Zm440 0h160v-160H620v160ZM180-180h160v-160H180v160Zm440 0h160v-160H620v160Z\"/>\n",
              "  </svg>\n",
              "    </button>\n",
              "\n",
              "  <style>\n",
              "    .colab-df-container {\n",
              "      display:flex;\n",
              "      gap: 12px;\n",
              "    }\n",
              "\n",
              "    .colab-df-convert {\n",
              "      background-color: #E8F0FE;\n",
              "      border: none;\n",
              "      border-radius: 50%;\n",
              "      cursor: pointer;\n",
              "      display: none;\n",
              "      fill: #1967D2;\n",
              "      height: 32px;\n",
              "      padding: 0 0 0 0;\n",
              "      width: 32px;\n",
              "    }\n",
              "\n",
              "    .colab-df-convert:hover {\n",
              "      background-color: #E2EBFA;\n",
              "      box-shadow: 0px 1px 2px rgba(60, 64, 67, 0.3), 0px 1px 3px 1px rgba(60, 64, 67, 0.15);\n",
              "      fill: #174EA6;\n",
              "    }\n",
              "\n",
              "    .colab-df-buttons div {\n",
              "      margin-bottom: 4px;\n",
              "    }\n",
              "\n",
              "    [theme=dark] .colab-df-convert {\n",
              "      background-color: #3B4455;\n",
              "      fill: #D2E3FC;\n",
              "    }\n",
              "\n",
              "    [theme=dark] .colab-df-convert:hover {\n",
              "      background-color: #434B5C;\n",
              "      box-shadow: 0px 1px 3px 1px rgba(0, 0, 0, 0.15);\n",
              "      filter: drop-shadow(0px 1px 2px rgba(0, 0, 0, 0.3));\n",
              "      fill: #FFFFFF;\n",
              "    }\n",
              "  </style>\n",
              "\n",
              "    <script>\n",
              "      const buttonEl =\n",
              "        document.querySelector('#df-4577860b-8e5f-4b94-bce5-3a17364e9b12 button.colab-df-convert');\n",
              "      buttonEl.style.display =\n",
              "        google.colab.kernel.accessAllowed ? 'block' : 'none';\n",
              "\n",
              "      async function convertToInteractive(key) {\n",
              "        const element = document.querySelector('#df-4577860b-8e5f-4b94-bce5-3a17364e9b12');\n",
              "        const dataTable =\n",
              "          await google.colab.kernel.invokeFunction('convertToInteractive',\n",
              "                                                    [key], {});\n",
              "        if (!dataTable) return;\n",
              "\n",
              "        const docLinkHtml = 'Like what you see? Visit the ' +\n",
              "          '<a target=\"_blank\" href=https://colab.research.google.com/notebooks/data_table.ipynb>data table notebook</a>'\n",
              "          + ' to learn more about interactive tables.';\n",
              "        element.innerHTML = '';\n",
              "        dataTable['output_type'] = 'display_data';\n",
              "        await google.colab.output.renderOutput(dataTable, element);\n",
              "        const docLink = document.createElement('div');\n",
              "        docLink.innerHTML = docLinkHtml;\n",
              "        element.appendChild(docLink);\n",
              "      }\n",
              "    </script>\n",
              "  </div>\n",
              "\n",
              "\n",
              "<div id=\"df-e7178e20-aad7-4a3d-bc91-876e60c25fc8\">\n",
              "  <button class=\"colab-df-quickchart\" onclick=\"quickchart('df-e7178e20-aad7-4a3d-bc91-876e60c25fc8')\"\n",
              "            title=\"Suggest charts.\"\n",
              "            style=\"display:none;\">\n",
              "\n",
              "<svg xmlns=\"http://www.w3.org/2000/svg\" height=\"24px\"viewBox=\"0 0 24 24\"\n",
              "     width=\"24px\">\n",
              "    <g>\n",
              "        <path d=\"M19 3H5c-1.1 0-2 .9-2 2v14c0 1.1.9 2 2 2h14c1.1 0 2-.9 2-2V5c0-1.1-.9-2-2-2zM9 17H7v-7h2v7zm4 0h-2V7h2v10zm4 0h-2v-4h2v4z\"/>\n",
              "    </g>\n",
              "</svg>\n",
              "  </button>\n",
              "\n",
              "<style>\n",
              "  .colab-df-quickchart {\n",
              "      --bg-color: #E8F0FE;\n",
              "      --fill-color: #1967D2;\n",
              "      --hover-bg-color: #E2EBFA;\n",
              "      --hover-fill-color: #174EA6;\n",
              "      --disabled-fill-color: #AAA;\n",
              "      --disabled-bg-color: #DDD;\n",
              "  }\n",
              "\n",
              "  [theme=dark] .colab-df-quickchart {\n",
              "      --bg-color: #3B4455;\n",
              "      --fill-color: #D2E3FC;\n",
              "      --hover-bg-color: #434B5C;\n",
              "      --hover-fill-color: #FFFFFF;\n",
              "      --disabled-bg-color: #3B4455;\n",
              "      --disabled-fill-color: #666;\n",
              "  }\n",
              "\n",
              "  .colab-df-quickchart {\n",
              "    background-color: var(--bg-color);\n",
              "    border: none;\n",
              "    border-radius: 50%;\n",
              "    cursor: pointer;\n",
              "    display: none;\n",
              "    fill: var(--fill-color);\n",
              "    height: 32px;\n",
              "    padding: 0;\n",
              "    width: 32px;\n",
              "  }\n",
              "\n",
              "  .colab-df-quickchart:hover {\n",
              "    background-color: var(--hover-bg-color);\n",
              "    box-shadow: 0 1px 2px rgba(60, 64, 67, 0.3), 0 1px 3px 1px rgba(60, 64, 67, 0.15);\n",
              "    fill: var(--button-hover-fill-color);\n",
              "  }\n",
              "\n",
              "  .colab-df-quickchart-complete:disabled,\n",
              "  .colab-df-quickchart-complete:disabled:hover {\n",
              "    background-color: var(--disabled-bg-color);\n",
              "    fill: var(--disabled-fill-color);\n",
              "    box-shadow: none;\n",
              "  }\n",
              "\n",
              "  .colab-df-spinner {\n",
              "    border: 2px solid var(--fill-color);\n",
              "    border-color: transparent;\n",
              "    border-bottom-color: var(--fill-color);\n",
              "    animation:\n",
              "      spin 1s steps(1) infinite;\n",
              "  }\n",
              "\n",
              "  @keyframes spin {\n",
              "    0% {\n",
              "      border-color: transparent;\n",
              "      border-bottom-color: var(--fill-color);\n",
              "      border-left-color: var(--fill-color);\n",
              "    }\n",
              "    20% {\n",
              "      border-color: transparent;\n",
              "      border-left-color: var(--fill-color);\n",
              "      border-top-color: var(--fill-color);\n",
              "    }\n",
              "    30% {\n",
              "      border-color: transparent;\n",
              "      border-left-color: var(--fill-color);\n",
              "      border-top-color: var(--fill-color);\n",
              "      border-right-color: var(--fill-color);\n",
              "    }\n",
              "    40% {\n",
              "      border-color: transparent;\n",
              "      border-right-color: var(--fill-color);\n",
              "      border-top-color: var(--fill-color);\n",
              "    }\n",
              "    60% {\n",
              "      border-color: transparent;\n",
              "      border-right-color: var(--fill-color);\n",
              "    }\n",
              "    80% {\n",
              "      border-color: transparent;\n",
              "      border-right-color: var(--fill-color);\n",
              "      border-bottom-color: var(--fill-color);\n",
              "    }\n",
              "    90% {\n",
              "      border-color: transparent;\n",
              "      border-bottom-color: var(--fill-color);\n",
              "    }\n",
              "  }\n",
              "</style>\n",
              "\n",
              "  <script>\n",
              "    async function quickchart(key) {\n",
              "      const quickchartButtonEl =\n",
              "        document.querySelector('#' + key + ' button');\n",
              "      quickchartButtonEl.disabled = true;  // To prevent multiple clicks.\n",
              "      quickchartButtonEl.classList.add('colab-df-spinner');\n",
              "      try {\n",
              "        const charts = await google.colab.kernel.invokeFunction(\n",
              "            'suggestCharts', [key], {});\n",
              "      } catch (error) {\n",
              "        console.error('Error during call to suggestCharts:', error);\n",
              "      }\n",
              "      quickchartButtonEl.classList.remove('colab-df-spinner');\n",
              "      quickchartButtonEl.classList.add('colab-df-quickchart-complete');\n",
              "    }\n",
              "    (() => {\n",
              "      let quickchartButtonEl =\n",
              "        document.querySelector('#df-e7178e20-aad7-4a3d-bc91-876e60c25fc8 button');\n",
              "      quickchartButtonEl.style.display =\n",
              "        google.colab.kernel.accessAllowed ? 'block' : 'none';\n",
              "    })();\n",
              "  </script>\n",
              "</div>\n",
              "    </div>\n",
              "  </div>\n"
            ]
          },
          "metadata": {},
          "execution_count": 7
        }
      ]
    },
    {
      "cell_type": "code",
      "metadata": {
        "colab": {
          "base_uri": "https://localhost:8080/"
        },
        "id": "7hEHJK87qjTU",
        "outputId": "b8423788-a72b-4bc9-fe0c-0d66a8351be0"
      },
      "source": [
        "news[\"본문\"][:4]"
      ],
      "execution_count": 8,
      "outputs": [
        {
          "output_type": "execute_result",
          "data": {
            "text/plain": [
              "0    - 비핵화 수준 상응 조치 놓고\\n- 양국 협상팀 막판까지 ‘밀당’\\n- 1차 때와...\n",
              "1    김정은 국무위원장이 27일 시작되는 제2차 북미정상회담 성공을 위해 심혈을 기울이고...\n",
              "2    북미가 처음으로 정상 간 단독회담과 만찬을 가지며 또다시 새로운 역사 창조에 나섰다...\n",
              "3    지난해 9월 남북정상회담 당시 리선권 북한 조국평화통일위원장의 '냉면' 발언으로 정...\n",
              "Name: 본문, dtype: object"
            ]
          },
          "metadata": {},
          "execution_count": 8
        }
      ]
    },
    {
      "cell_type": "code",
      "metadata": {
        "id": "2Ka2_a8xq-P3"
      },
      "source": [
        "sentence_list = []\n",
        "for sent in news[\"본문\"]:\n",
        "\n",
        "    ## 명사만 추출\n",
        "    sent_kkma_pos = kkma.nouns(sent)\n",
        "    word_list = []\n",
        "    for word_pos in sent_kkma_pos:\n",
        "        word_list.append(word_pos)\n",
        "\n",
        "    sentence_list.append(word_list)\n"
      ],
      "execution_count": 9,
      "outputs": []
    },
    {
      "cell_type": "code",
      "source": [
        "print(sentence_list[0])"
      ],
      "metadata": {
        "colab": {
          "base_uri": "https://localhost:8080/"
        },
        "id": "gClaFAyJWgNj",
        "outputId": "bce42393-d2ad-4bea-8a95-e1164f84923a"
      },
      "execution_count": 11,
      "outputs": [
        {
          "output_type": "stream",
          "name": "stdout",
          "text": [
            "['비핵화', '수준', '상응', '조치', '양국', '협상', '협상팀', '팀', '막판', '당', '1', '1차', '차', '때', '시간', '조율', '단계적', '접근', '동의', '예상', '종전', '종전선언', '선언', '연락', '연락사무소', '사무소', '개설', '등', '조건', '조건부', '부', '제재', '완화', '명시', '가능성', '북미', '북미회담', '회담', '빅딜', '성공', '김', '김정은', '정은', '답방', '결과', '연관', '북한', '국무', '국무위원장', '위원장', '도', '도널드', '널드', '트럼프', '미국', '대통령', '27', '27일', '일', '친교', '만찬']\n"
          ]
        }
      ]
    },
    {
      "cell_type": "code",
      "metadata": {
        "colab": {
          "base_uri": "https://localhost:8080/"
        },
        "id": "dTq-vtCar0JC",
        "scrolled": true,
        "outputId": "9e2e8ee4-746f-459b-9983-6c8fa9c87667"
      },
      "source": [
        "news.shape"
      ],
      "execution_count": 12,
      "outputs": [
        {
          "output_type": "execute_result",
          "data": {
            "text/plain": [
              "(1543, 19)"
            ]
          },
          "metadata": {},
          "execution_count": 12
        }
      ]
    },
    {
      "cell_type": "code",
      "metadata": {
        "colab": {
          "base_uri": "https://localhost:8080/"
        },
        "id": "pXC_uQtQZ-GQ",
        "outputId": "2201ca41-365b-4872-dc23-fb8593805011"
      },
      "source": [
        "len(sentence_list)"
      ],
      "execution_count": 13,
      "outputs": [
        {
          "output_type": "execute_result",
          "data": {
            "text/plain": [
              "1543"
            ]
          },
          "metadata": {},
          "execution_count": 13
        }
      ]
    },
    {
      "cell_type": "code",
      "metadata": {
        "colab": {
          "base_uri": "https://localhost:8080/"
        },
        "id": "KXw8yAntaJlm",
        "outputId": "54a6e8ec-2687-4162-85d8-9b0c75edcea6"
      },
      "source": [
        "[len(w) for w in sentence_list][:10]"
      ],
      "execution_count": 14,
      "outputs": [
        {
          "output_type": "execute_result",
          "data": {
            "text/plain": [
              "[61, 50, 63, 48, 44, 38, 38, 60, 52, 39]"
            ]
          },
          "metadata": {},
          "execution_count": 14
        }
      ]
    },
    {
      "cell_type": "code",
      "metadata": {
        "id": "FrN75hskaVMV",
        "colab": {
          "base_uri": "https://localhost:8080/"
        },
        "outputId": "a8a42607-559c-41aa-c304-6b6198553ea5"
      },
      "source": [
        "print(sentence_list[0])"
      ],
      "execution_count": 16,
      "outputs": [
        {
          "output_type": "stream",
          "name": "stdout",
          "text": [
            "['비핵화', '수준', '상응', '조치', '양국', '협상', '협상팀', '팀', '막판', '당', '1', '1차', '차', '때', '시간', '조율', '단계적', '접근', '동의', '예상', '종전', '종전선언', '선언', '연락', '연락사무소', '사무소', '개설', '등', '조건', '조건부', '부', '제재', '완화', '명시', '가능성', '북미', '북미회담', '회담', '빅딜', '성공', '김', '김정은', '정은', '답방', '결과', '연관', '북한', '국무', '국무위원장', '위원장', '도', '도널드', '널드', '트럼프', '미국', '대통령', '27', '27일', '일', '친교', '만찬']\n"
          ]
        }
      ]
    },
    {
      "cell_type": "markdown",
      "metadata": {
        "id": "sVjdOfuPX-yc"
      },
      "source": [
        "- word2vec(): Its input is a text corpus and its output is a set of vectors.\n",
        "- Word embedding via word2vec can make natural language computer-readable, then further implementation of mathematical operations on words can be used to detect their similarities. A well-trained set of word vectors will place similar words close to each other in that space. For instance, the words women, men, and human might cluster in one corner, while yellow, red and blue cluster together in another\n",
        "- Word2Vec의 기본 가정은 유사한 컨텍스트를 공유하는 두 단어도 유사한 의미를 공유하고 결과적으로 모델에서 유사한 벡터 표현을 공유한다는 것입니다. 예를 들어 : \"dog\", \"puppy\"및 \"pup\"은 \"good\", \"fluffy\"또는 \"cute\"와 같은 유사한 주변 단어와 함께 유사한 상황에서 자주 사용되며 따라서 Word2Vec에 따르면 유사한 벡터 표현을 공유합니다. .\n",
        "\n",
        "이 가정에서 Word2Vec을 사용하여 데이터 세트에서 단어 간의 관계를 알아 내고, 단어 간의 유사성을 계산하거나, 텍스트 분류 또는 클러스터링과 같은 다른 응용 프로그램의 입력으로 해당 단어의 벡터 표현을 사용할 수 있습니다."
      ]
    },
    {
      "cell_type": "markdown",
      "source": [
        "## 연습"
      ],
      "metadata": {
        "id": "T2KpMVZuX-yd"
      }
    },
    {
      "cell_type": "code",
      "source": [
        "\n",
        "# https://machinelearningmastery.com/develop-word-embeddings-python-gensim/\n",
        "from gensim.models import Word2Vec\n",
        "# define training data\n",
        "sentences = [['this', 'is', 'the', 'first', 'sentence', 'for', 'word2vec'],\n",
        "\t\t\t['this', 'is', 'the', 'second', 'sentence'],\n",
        "\t\t\t['yet', 'another', 'sentence'],\n",
        "\t\t\t['one', 'more', 'sentence'],\n",
        "\t\t\t['and', 'the', 'final', 'sentence']]\n",
        "# train model\n",
        "model = Word2Vec(sentences, min_count=1, vector_size=5)"
      ],
      "metadata": {
        "id": "jnqE5SO6ehNY"
      },
      "execution_count": null,
      "outputs": []
    },
    {
      "cell_type": "code",
      "metadata": {
        "colab": {
          "base_uri": "https://localhost:8080/"
        },
        "id": "4s-PWwNYX-yd",
        "outputId": "c2e3f8b0-9a2e-44bf-b3f7-65270f7a28d1"
      },
      "source": [
        "# summarize the loaded model\n",
        "print(model)"
      ],
      "execution_count": 20,
      "outputs": [
        {
          "output_type": "stream",
          "name": "stdout",
          "text": [
            "Word2Vec<vocab=14, vector_size=5, alpha=0.025>\n"
          ]
        }
      ]
    },
    {
      "cell_type": "code",
      "metadata": {
        "colab": {
          "base_uri": "https://localhost:8080/"
        },
        "id": "B1lYFmJxX-ye",
        "outputId": "cc664a6b-088d-496e-a728-b23d8d356b0f"
      },
      "source": [
        "# summarize vocabulary (to see learned vocabulary of tokens (words) )\n",
        "words = list(model.wv.index_to_key)\n",
        "print(words)"
      ],
      "execution_count": 23,
      "outputs": [
        {
          "output_type": "stream",
          "name": "stdout",
          "text": [
            "['sentence', 'the', 'is', 'this', 'final', 'and', 'more', 'one', 'another', 'yet', 'second', 'word2vec', 'for', 'first']\n"
          ]
        }
      ]
    },
    {
      "cell_type": "code",
      "metadata": {
        "colab": {
          "base_uri": "https://localhost:8080/"
        },
        "id": "z1madPOdX-yf",
        "outputId": "15e2fe38-c412-4d0b-cf19-33f29c44e2ba"
      },
      "source": [
        "# access vector for one word\n",
        "print(model.wv['sentence'])"
      ],
      "execution_count": 25,
      "outputs": [
        {
          "output_type": "stream",
          "name": "stdout",
          "text": [
            "[-0.01072454  0.00472863  0.10206699  0.18018547 -0.186059  ]\n"
          ]
        }
      ]
    },
    {
      "cell_type": "code",
      "metadata": {
        "id": "LmeclGmeX-yf"
      },
      "source": [
        "# save model\n",
        "model.save('model.bin')"
      ],
      "execution_count": 26,
      "outputs": []
    },
    {
      "cell_type": "code",
      "metadata": {
        "scrolled": true,
        "colab": {
          "base_uri": "https://localhost:8080/"
        },
        "id": "PAwptqsxX-yg",
        "outputId": "688f0b98-c0be-4588-c5c9-dea6586789bb"
      },
      "source": [
        "# load model\n",
        "new_model = Word2Vec.load('model.bin')\n",
        "print(new_model)"
      ],
      "execution_count": 27,
      "outputs": [
        {
          "output_type": "stream",
          "name": "stdout",
          "text": [
            "Word2Vec<vocab=14, vector_size=5, alpha=0.025>\n"
          ]
        }
      ]
    },
    {
      "cell_type": "code",
      "metadata": {
        "colab": {
          "base_uri": "https://localhost:8080/",
          "height": 430
        },
        "id": "qEaGM2dYX-yh",
        "outputId": "2368f23b-96e8-46d2-bfc0-b54cc9c87c6f"
      },
      "source": [
        "from sklearn.decomposition import PCA\n",
        "import matplotlib.pyplot as plt\n",
        "%matplotlib inline\n",
        "\n",
        "X = model.wv[model.wv.index_to_key]\n",
        "pca = PCA(n_components=2)\n",
        "result = pca.fit_transform(X)\n",
        "\n",
        "plt.scatter(result[:, 0], result[:, 1])\n",
        "words = list(model.wv.index_to_key)\n",
        "for i, word in enumerate(words):\n",
        "    plt.annotate(word, xy=(result[i, 0], result[i, 1]))\n",
        "plt.show()"
      ],
      "execution_count": 29,
      "outputs": [
        {
          "output_type": "display_data",
          "data": {
            "text/plain": [
              "<Figure size 640x480 with 1 Axes>"
            ],
            "image/png": "[encoded data removed]"
          },
          "metadata": {}
        }
      ]
    },
    {
      "cell_type": "markdown",
      "metadata": {
        "id": "HKa1PStcX-yi"
      },
      "source": [
        "## Get back to the problem"
      ]
    },
    {
      "cell_type": "code",
      "metadata": {
        "id": "WvEiKwbiXBo7",
        "scrolled": true
      },
      "source": [
        "model = Word2Vec(sentence_list, vector_size=100)"
      ],
      "execution_count": 31,
      "outputs": []
    },
    {
      "cell_type": "code",
      "source": [
        "model.wv['한국']"
      ],
      "metadata": {
        "colab": {
          "base_uri": "https://localhost:8080/"
        },
        "id": "0Xeuj6SAW6Zj",
        "outputId": "d1a8fabf-331a-4358-f9ff-bc728fb239bb"
      },
      "execution_count": 32,
      "outputs": [
        {
          "output_type": "execute_result",
          "data": {
            "text/plain": [
              "array([-0.12699622,  0.59579605, -0.07033091,  0.06987878, -0.07345244,\n",
              "       -0.81273377,  0.4154471 ,  0.64612013, -0.44586658,  0.19697982,\n",
              "       -0.72191185, -0.6685938 , -0.5456885 ,  0.01236059, -0.30255842,\n",
              "       -0.57392293, -0.4195777 , -0.56584626, -0.4414147 , -0.39633605,\n",
              "        0.16577667,  0.38547763,  0.82971776, -0.1830919 , -0.33771002,\n",
              "       -0.19702029, -0.37571347, -0.3307086 , -0.32883447,  0.5537997 ,\n",
              "        0.46144757,  0.12035506,  0.37151185, -0.03932431, -0.05518433,\n",
              "        0.28550637, -0.35847184, -0.4237728 ,  0.07070673, -1.0187107 ,\n",
              "       -0.26821196, -0.7401414 ,  0.1814586 , -0.14213106,  0.13126417,\n",
              "       -0.23983924,  0.32240546, -0.470873  , -0.00644097,  0.4002629 ,\n",
              "       -0.08684837, -0.12330076,  0.00102008, -0.21661995,  0.10793352,\n",
              "        0.25376445,  0.07957822,  0.08292716, -0.7747408 , -0.09268831,\n",
              "        0.02460555,  0.3685328 , -0.6214074 , -0.58037007, -0.28984654,\n",
              "        0.42837322,  0.36994955,  0.2206457 , -0.4153822 ,  0.6275059 ,\n",
              "       -0.25171688, -0.25528184,  0.9370642 , -0.02268975,  0.48684892,\n",
              "        0.14337817,  0.02885716, -0.47057796, -0.49583998,  0.7177954 ,\n",
              "       -0.24748762,  0.13356014, -0.6083879 ,  0.7587517 ,  0.26711842,\n",
              "       -0.57034415, -0.0948659 ,  0.73335505,  0.13453472, -0.4843805 ,\n",
              "        0.7438362 , -0.02835491,  0.28803974, -0.3418568 ,  0.8680533 ,\n",
              "        0.6059534 ,  0.30617666, -0.5195292 , -0.07918322, -0.5124262 ],\n",
              "      dtype=float32)"
            ]
          },
          "metadata": {},
          "execution_count": 32
        }
      ]
    },
    {
      "cell_type": "code",
      "source": [
        "model.wv.most_similar(\"한국\")   # cosine similarity"
      ],
      "metadata": {
        "colab": {
          "base_uri": "https://localhost:8080/"
        },
        "id": "Aj2oAxFbPFat",
        "outputId": "a962cea7-0c18-4c79-8d43-856851269430"
      },
      "execution_count": 33,
      "outputs": [
        {
          "output_type": "execute_result",
          "data": {
            "text/plain": [
              "[('자유', 0.9977835416793823),\n",
              " ('당', 0.9928512573242188),\n",
              " ('자유한국', 0.9859552979469299),\n",
              " ('민주당', 0.981542706489563),\n",
              " ('자유한국당', 0.9810755848884583),\n",
              " ('대표', 0.9786375164985657),\n",
              " ('원내', 0.9728986024856567),\n",
              " ('원내대표', 0.970809817314148),\n",
              " ('경원', 0.968938410282135),\n",
              " ('홍영표', 0.9619216322898865)]"
            ]
          },
          "metadata": {},
          "execution_count": 33
        }
      ]
    },
    {
      "cell_type": "code",
      "metadata": {
        "colab": {
          "base_uri": "https://localhost:8080/"
        },
        "id": "Pjiz6wLRXBpB",
        "outputId": "f447169f-067a-4483-948d-0612d5bda2c1"
      },
      "source": [
        "print(model.wv.similarity(\"미국\",\"미국\"))\n",
        "print(model.wv.similarity(\"트럼프\", \"일본\"))\n",
        "print(model.wv.similarity(\"트럼프\",\"대통령\"))"
      ],
      "execution_count": 34,
      "outputs": [
        {
          "output_type": "stream",
          "name": "stdout",
          "text": [
            "0.99999994\n",
            "0.5415694\n",
            "0.97952706\n"
          ]
        }
      ]
    },
    {
      "cell_type": "markdown",
      "metadata": {
        "id": "cPa-oF9bXBpP"
      },
      "source": [
        "## 문장 유사도\n",
        "- NLTK (Natural Language ToolKit) 라이브러리 사용"
      ]
    },
    {
      "cell_type": "code",
      "metadata": {
        "colab": {
          "base_uri": "https://localhost:8080/"
        },
        "id": "2DIso7TWX-yl",
        "outputId": "74bd088a-bf4c-47d3-bd67-2351fa2c3ff1"
      },
      "source": [
        "!pip install nltk"
      ],
      "execution_count": 35,
      "outputs": [
        {
          "output_type": "stream",
          "name": "stdout",
          "text": [
            "Requirement already satisfied: nltk in /usr/local/lib/python3.10/dist-packages (3.8.1)\n",
            "Requirement already satisfied: click in /usr/local/lib/python3.10/dist-packages (from nltk) (8.1.7)\n",
            "Requirement already satisfied: joblib in /usr/local/lib/python3.10/dist-packages (from nltk) (1.3.2)\n",
            "Requirement already satisfied: regex>=2021.8.3 in /usr/local/lib/python3.10/dist-packages (from nltk) (2023.6.3)\n",
            "Requirement already satisfied: tqdm in /usr/local/lib/python3.10/dist-packages (from nltk) (4.66.1)\n"
          ]
        }
      ]
    },
    {
      "cell_type": "code",
      "metadata": {
        "colab": {
          "base_uri": "https://localhost:8080/"
        },
        "id": "DcU6fzqcX-ym",
        "outputId": "db50bd46-70f5-4465-bc3b-0807c60e5672"
      },
      "source": [
        "# simple exercise\n",
        "import nltk\n",
        "nltk.download('punkt')\n",
        "sentence = \"At eight o'clock on Thursday morning Arthur didn't feel very good.\"\n",
        "tokens = nltk.word_tokenize(sentence)\n",
        "tokens"
      ],
      "execution_count": 36,
      "outputs": [
        {
          "output_type": "stream",
          "name": "stderr",
          "text": [
            "[nltk_data] Downloading package punkt to /root/nltk_data...\n",
            "[nltk_data]   Unzipping tokenizers/punkt.zip.\n"
          ]
        },
        {
          "output_type": "execute_result",
          "data": {
            "text/plain": [
              "['At',\n",
              " 'eight',\n",
              " \"o'clock\",\n",
              " 'on',\n",
              " 'Thursday',\n",
              " 'morning',\n",
              " 'Arthur',\n",
              " 'did',\n",
              " \"n't\",\n",
              " 'feel',\n",
              " 'very',\n",
              " 'good',\n",
              " '.']"
            ]
          },
          "metadata": {},
          "execution_count": 36
        }
      ]
    },
    {
      "cell_type": "code",
      "metadata": {
        "colab": {
          "base_uri": "https://localhost:8080/"
        },
        "id": "71KHyNHlX-ym",
        "outputId": "fc148b2c-cefe-4ebc-c893-05fa76270331"
      },
      "source": [
        "nltk.download('averaged_perceptron_tagger')\n",
        "tagged = nltk.pos_tag(tokens)\n",
        "tagged[0:6]"
      ],
      "execution_count": 37,
      "outputs": [
        {
          "output_type": "stream",
          "name": "stderr",
          "text": [
            "[nltk_data] Downloading package averaged_perceptron_tagger to\n",
            "[nltk_data]     /root/nltk_data...\n",
            "[nltk_data]   Unzipping taggers/averaged_perceptron_tagger.zip.\n"
          ]
        },
        {
          "output_type": "execute_result",
          "data": {
            "text/plain": [
              "[('At', 'IN'),\n",
              " ('eight', 'CD'),\n",
              " (\"o'clock\", 'NN'),\n",
              " ('on', 'IN'),\n",
              " ('Thursday', 'NNP'),\n",
              " ('morning', 'NN')]"
            ]
          },
          "metadata": {},
          "execution_count": 37
        }
      ]
    },
    {
      "cell_type": "code",
      "metadata": {
        "colab": {
          "base_uri": "https://localhost:8080/"
        },
        "id": "bn7sVEJdXBpR",
        "outputId": "dfc5be70-9066-493b-af18-44fc1e51fc49"
      },
      "source": [
        "# edit_distance: 문자열이 얼마나 다른지 편집거리를 이용해 유사도 판단\n",
        "import nltk\n",
        "sentence_list = [\"우리 모두 함께 놀자\",\n",
        "                 \"모두 같이 놀자\",\n",
        "                 \"놀자\",\n",
        "                 \"모두 다 같이\"]\n",
        "\n",
        "for i in sentence_list:\n",
        "    print(\"'\", i, \"'\")\n",
        "    for j in sentence_list:\n",
        "        print(\"\\t\", j, \" : \", end='')\n",
        "        print(nltk.edit_distance(i, j), )\n",
        "    print()"
      ],
      "execution_count": 38,
      "outputs": [
        {
          "output_type": "stream",
          "name": "stdout",
          "text": [
            "' 우리 모두 함께 놀자 '\n",
            "\t 우리 모두 함께 놀자  : 0\n",
            "\t 모두 같이 놀자  : 5\n",
            "\t 놀자  : 9\n",
            "\t 모두 다 같이  : 7\n",
            "\n",
            "' 모두 같이 놀자 '\n",
            "\t 우리 모두 함께 놀자  : 5\n",
            "\t 모두 같이 놀자  : 0\n",
            "\t 놀자  : 6\n",
            "\t 모두 다 같이  : 4\n",
            "\n",
            "' 놀자 '\n",
            "\t 우리 모두 함께 놀자  : 9\n",
            "\t 모두 같이 놀자  : 6\n",
            "\t 놀자  : 0\n",
            "\t 모두 다 같이  : 7\n",
            "\n",
            "' 모두 다 같이 '\n",
            "\t 우리 모두 함께 놀자  : 7\n",
            "\t 모두 같이 놀자  : 4\n",
            "\t 놀자  : 7\n",
            "\t 모두 다 같이  : 0\n",
            "\n"
          ]
        }
      ]
    },
    {
      "cell_type": "markdown",
      "metadata": {
        "id": "cmMTjqgUX-yp"
      },
      "source": [
        "- 단어벡터와 코사인 유사도 사용\n",
        "- ![image.png](attachment:image.png)"
      ]
    },
    {
      "cell_type": "code",
      "metadata": {
        "id": "wgkIida2XBpX"
      },
      "source": [
        "from sklearn.feature_extraction.text import TfidfVectorizer, CountVectorizer\n",
        "\n",
        "sentence_list = ['우리 모두 함께 놀자',\n",
        "                 '모두 같이 놀자']\n",
        "\n",
        "tfidf = TfidfVectorizer()\n",
        "tfidf_vec = tfidf.fit_transform(sentence_list)\n",
        "\n",
        "count = CountVectorizer()\n",
        "count_vec = count.fit_transform(sentence_list)"
      ],
      "execution_count": 39,
      "outputs": []
    },
    {
      "cell_type": "code",
      "metadata": {
        "colab": {
          "base_uri": "https://localhost:8080/"
        },
        "id": "ayjiiYS5XBpd",
        "outputId": "45d8f29d-6ee9-41a4-a07c-10b0867ba293"
      },
      "source": [
        "from sklearn.metrics.pairwise import cosine_similarity\n",
        "\n",
        "tfidf_cosine = cosine_similarity(tfidf_vec[0].toarray(), tfidf_vec[1].toarray())[0][0]\n",
        "count_cosine = cosine_similarity(count_vec[0].toarray(), count_vec[1].toarray())[0][0]\n",
        "\n",
        "print(\"tfidf consine similarity : \", tfidf_cosine)\n",
        "print(\"coiunt consine similarity : \", count_cosine)"
      ],
      "execution_count": 41,
      "outputs": [
        {
          "output_type": "stream",
          "name": "stdout",
          "text": [
            "tfidf consine similarity :  0.4112070550676187\n",
            "coiunt consine similarity :  0.5773502691896258\n"
          ]
        }
      ]
    },
    {
      "cell_type": "code",
      "metadata": {
        "colab": {
          "base_uri": "https://localhost:8080/"
        },
        "id": "vAH4pczpXBpl",
        "outputId": "5827904e-c9d1-47e0-c2a5-35a02bac75ef"
      },
      "source": [
        "# 직접 구현시 코사인 유사도\n",
        "import math\n",
        "def my_cosine_similarity(v1,v2):\n",
        "\n",
        "    sumxx, sumxy, sumyy = 0, 0, 0\n",
        "    for i in range(len(v1)):\n",
        "        x = v1[i]; y = v2[i]\n",
        "        sumxx += x*x\n",
        "        sumyy += y*y\n",
        "        sumxy += x*y\n",
        "    return sumxy/math.sqrt(sumxx*sumyy)\n",
        "\n",
        "my_tfidf = my_cosine_similarity(tfidf_vec.toarray()[0], tfidf_vec.toarray()[1])\n",
        "my_count = my_cosine_similarity(count_vec.toarray()[0], count_vec.toarray()[1])\n",
        "\n",
        "print(\"my tfidf consine similarity : \", my_tfidf)\n",
        "print(\"my coiunt consine similarity : \", my_count)"
      ],
      "execution_count": 42,
      "outputs": [
        {
          "output_type": "stream",
          "name": "stdout",
          "text": [
            "my tfidf consine similarity :  0.4112070550676187\n",
            "my coiunt consine similarity :  0.5773502691896258\n"
          ]
        }
      ]
    },
    {
      "cell_type": "code",
      "metadata": {
        "colab": {
          "base_uri": "https://localhost:8080/"
        },
        "id": "P6L32oerX-yt",
        "outputId": "bfed6186-a46d-4867-bdf4-b05a9d9e0ea8"
      },
      "source": [
        "# 자카드 유사도 계산\n",
        "\n",
        "sentence_list = ['우리 모두 함께 놀자','모두 같이 놀자']\n",
        "def get_jaccard_sim(str1, str2):\n",
        "    a = set(str1.split())\n",
        "    b = set(str2.split())\n",
        "    c = a.intersection(b)\n",
        "    return float(len(c)) / (len(a) + len(b) - len(c))\n",
        "\n",
        "get_jaccard_sim(sentence_list[0], sentence_list[1])"
      ],
      "execution_count": 44,
      "outputs": [
        {
          "output_type": "execute_result",
          "data": {
            "text/plain": [
              "0.4"
            ]
          },
          "metadata": {},
          "execution_count": 44
        }
      ]
    }
  ]
}