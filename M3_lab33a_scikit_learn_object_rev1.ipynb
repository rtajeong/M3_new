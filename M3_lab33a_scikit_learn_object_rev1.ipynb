{
  "nbformat": 4,
  "nbformat_minor": 0,
  "metadata": {
    "colab": {
      "provenance": [],
      "authorship_tag": "ABX9TyNCJqYG/thRPLYWRVpfVae8",
      "include_colab_link": true
    },
    "kernelspec": {
      "name": "python3",
      "display_name": "Python 3"
    },
    "language_info": {
      "name": "python"
    }
  },
  "cells": [
    {
      "cell_type": "markdown",
      "metadata": {
        "id": "view-in-github",
        "colab_type": "text"
      },
      "source": [
        "<a href=\"https://colab.research.google.com/github/rtajeong/M3_new/blob/main/M3_lab33a_scikit_learn_object_rev1.ipynb\" target=\"_parent\"><img src=\"https://colab.research.google.com/assets/colab-badge.svg\" alt=\"Open In Colab\"/></a>"
      ]
    },
    {
      "cell_type": "markdown",
      "metadata": {
        "id": "iQQu179-mCEy"
      },
      "source": [
        "# Scikit-Learn API convention\n",
        "- to show how scikit-learn objects are made\n",
        "- all objects share a consistent and simple interface\n",
        "- The main objects in sklearn are:\n",
        "   - estimator E: to learn from data\n",
        "     - E.fit(X,y) or E.fit(X)\n",
        "   - predictor P: to make prediction for the data\n",
        "     - P.predict(X)\n",
        "     - (to quantify certainty of a prediction)\n",
        "       - P.predict_proba(X) or P.decision_function(X)\n",
        "   - transformer T: filtering or modifying the data\n",
        "     - T.transform(X), or T.fit_transform(X)\n",
        "   - goodness of the model: \n",
        "     -  score = model.score(X)\n"
      ]
    },
    {
      "cell_type": "markdown",
      "source": [
        "## Example 1 - transformer(unsupervised)"
      ],
      "metadata": {
        "id": "RiG5p02C1eSP"
      }
    },
    {
      "cell_type": "code",
      "metadata": {
        "id": "0Kok-wiOl210"
      },
      "source": [
        "import numpy as np\n"
      ],
      "execution_count": null,
      "outputs": []
    },
    {
      "cell_type": "code",
      "metadata": {
        "id": "nKqxwFJkmOkh"
      },
      "source": [
        "def _mean_and_std(X, axis=0):\n",
        "   \n",
        "    X = np.asarray(X)\n",
        "    mean_ = X.mean(axis)\n",
        "    std_ = X.std(axis)\n",
        "\n",
        "    return mean_, std_"
      ],
      "execution_count": null,
      "outputs": []
    },
    {
      "cell_type": "code",
      "metadata": {
        "colab": {
          "base_uri": "https://localhost:8080/"
        },
        "id": "KWh7F2cboEyi",
        "outputId": "abe2ba17-be91-406c-99f2-68a72c215e9c"
      },
      "source": [
        "data = np.array([[1,2,3],\n",
        "                 [4,5,6]]); data"
      ],
      "execution_count": null,
      "outputs": [
        {
          "output_type": "execute_result",
          "data": {
            "text/plain": [
              "array([[1, 2, 3],\n",
              "       [4, 5, 6]])"
            ]
          },
          "metadata": {},
          "execution_count": 22
        }
      ]
    },
    {
      "cell_type": "code",
      "metadata": {
        "colab": {
          "base_uri": "https://localhost:8080/"
        },
        "id": "lMIClXDxuxef",
        "outputId": "b5253015-d3f8-40c6-d81a-c369c430741a"
      },
      "source": [
        "_mean_and_std(data, 0), _mean_and_std(data, 1)"
      ],
      "execution_count": null,
      "outputs": [
        {
          "output_type": "execute_result",
          "data": {
            "text/plain": [
              "((array([2.5, 3.5, 4.5]), array([1.5, 1.5, 1.5])),\n",
              " (array([2., 5.]), array([0.81649658, 0.81649658])))"
            ]
          },
          "metadata": {},
          "execution_count": 23
        }
      ]
    },
    {
      "cell_type": "code",
      "metadata": {
        "id": "JEAq7b5koJ_L"
      },
      "source": [
        "class my_StandardScaler():\n",
        "\n",
        "    def __init__(self):\n",
        "        self.mean_, self.std_ = 0., 0.\n",
        "        \n",
        "    def fit(self, X, y=None):\n",
        "        X = X.astype(np.float32)\n",
        "        self.mean_, self.std_ = _mean_and_std(X, axis=0)\n",
        "        return self\n",
        "\n",
        "    def transform(self, X, y=None):\n",
        "        X = X.astype(np.float32)\n",
        "        X -= self.mean_\n",
        "        X /= self.std_\n",
        "        return X\n",
        "\n",
        "    def fit_transform(self, X, y=None):\n",
        "        X = X.astype(np.float32)\n",
        "        self.mean_, self.std_ = _mean_and_std(X, axis=0)\n",
        "        X -= self.mean_\n",
        "        X /= self.std_\n",
        "        return X\n",
        "\n",
        "    def inverse_transform(self, X):\n",
        "        X = X.astype(np.float32)\n",
        "        X *= self.std_\n",
        "        X += self.mean_\n",
        "        return X"
      ],
      "execution_count": null,
      "outputs": []
    },
    {
      "cell_type": "code",
      "metadata": {
        "id": "vd0NcLoNqrJA"
      },
      "source": [
        "X = np.array([1,2,3,4,5,6,7,8,9,10])\n",
        "sc = my_StandardScaler()"
      ],
      "execution_count": null,
      "outputs": []
    },
    {
      "cell_type": "code",
      "source": [
        "sc.mean_, sc.std_"
      ],
      "metadata": {
        "colab": {
          "base_uri": "https://localhost:8080/"
        },
        "id": "KerNNZXlk87n",
        "outputId": "e4e7f588-b070-4056-ada4-a9303b4f12c7"
      },
      "execution_count": null,
      "outputs": [
        {
          "output_type": "execute_result",
          "data": {
            "text/plain": [
              "(0.0, 0.0)"
            ]
          },
          "metadata": {},
          "execution_count": 6
        }
      ]
    },
    {
      "cell_type": "code",
      "metadata": {
        "id": "EtoOZkLIviQv",
        "colab": {
          "base_uri": "https://localhost:8080/"
        },
        "outputId": "b59668d9-9609-4109-95b1-874b9b2a9f0b"
      },
      "source": [
        "dir(sc)"
      ],
      "execution_count": null,
      "outputs": [
        {
          "output_type": "execute_result",
          "data": {
            "text/plain": [
              "['__class__',\n",
              " '__delattr__',\n",
              " '__dict__',\n",
              " '__dir__',\n",
              " '__doc__',\n",
              " '__eq__',\n",
              " '__format__',\n",
              " '__ge__',\n",
              " '__getattribute__',\n",
              " '__gt__',\n",
              " '__hash__',\n",
              " '__init__',\n",
              " '__init_subclass__',\n",
              " '__le__',\n",
              " '__lt__',\n",
              " '__module__',\n",
              " '__ne__',\n",
              " '__new__',\n",
              " '__reduce__',\n",
              " '__reduce_ex__',\n",
              " '__repr__',\n",
              " '__setattr__',\n",
              " '__sizeof__',\n",
              " '__str__',\n",
              " '__subclasshook__',\n",
              " '__weakref__',\n",
              " 'fit',\n",
              " 'fit_transform',\n",
              " 'inverse_transform',\n",
              " 'mean_',\n",
              " 'std_',\n",
              " 'transform']"
            ]
          },
          "metadata": {},
          "execution_count": 7
        }
      ]
    },
    {
      "cell_type": "code",
      "metadata": {
        "colab": {
          "base_uri": "https://localhost:8080/"
        },
        "id": "9j0xaZ37rGsg",
        "outputId": "4521bd36-ce30-497a-c01e-08144aa0447c"
      },
      "source": [
        "sc.fit(X)"
      ],
      "execution_count": null,
      "outputs": [
        {
          "output_type": "execute_result",
          "data": {
            "text/plain": [
              "<__main__.my_StandardScaler at 0x7f4f1ba98700>"
            ]
          },
          "metadata": {},
          "execution_count": 8
        }
      ]
    },
    {
      "cell_type": "code",
      "metadata": {
        "colab": {
          "base_uri": "https://localhost:8080/"
        },
        "id": "xxu4pcpQrI2f",
        "outputId": "f5137df6-a8a5-488f-907f-1ffcc5d59b18"
      },
      "source": [
        "sc.mean_, sc.std_"
      ],
      "execution_count": null,
      "outputs": [
        {
          "output_type": "execute_result",
          "data": {
            "text/plain": [
              "(5.5, 2.8722813)"
            ]
          },
          "metadata": {},
          "execution_count": 9
        }
      ]
    },
    {
      "cell_type": "code",
      "metadata": {
        "colab": {
          "base_uri": "https://localhost:8080/"
        },
        "id": "4rY9PS65rT3Y",
        "outputId": "54b3c10a-5f98-446c-caaa-cb89a7dee2ba"
      },
      "source": [
        "X_sc = sc.transform(X); X_sc"
      ],
      "execution_count": null,
      "outputs": [
        {
          "output_type": "execute_result",
          "data": {
            "text/plain": [
              "array([-1.5666989 , -1.2185436 , -0.87038827, -0.52223295, -0.17407766,\n",
              "        0.17407766,  0.52223295,  0.87038827,  1.2185436 ,  1.5666989 ],\n",
              "      dtype=float32)"
            ]
          },
          "metadata": {},
          "execution_count": 10
        }
      ]
    },
    {
      "cell_type": "code",
      "metadata": {
        "colab": {
          "base_uri": "https://localhost:8080/"
        },
        "id": "SG-q1S2Kr9Mw",
        "outputId": "c07fd7f8-89b3-4db2-b934-db05ec4cb6d7"
      },
      "source": [
        "sc.inverse_transform(X_sc)"
      ],
      "execution_count": null,
      "outputs": [
        {
          "output_type": "execute_result",
          "data": {
            "text/plain": [
              "array([ 1.       ,  1.9999998,  3.       ,  4.       ,  5.       ,\n",
              "        6.       ,  7.       ,  8.       ,  9.       , 10.       ],\n",
              "      dtype=float32)"
            ]
          },
          "metadata": {},
          "execution_count": 11
        }
      ]
    },
    {
      "cell_type": "code",
      "source": [
        "from sklearn.preprocessing import StandardScaler\n",
        "sc = StandardScaler()\n",
        "X_sc = sc.fit_transform(X.reshape(-1,1))\n",
        "X_sc"
      ],
      "metadata": {
        "colab": {
          "base_uri": "https://localhost:8080/"
        },
        "id": "eW7umnOzzFtb",
        "outputId": "35f44438-d605-4526-b487-67d407b1e2b3"
      },
      "execution_count": null,
      "outputs": [
        {
          "output_type": "execute_result",
          "data": {
            "text/plain": [
              "array([[-1.5666989 ],\n",
              "       [-1.21854359],\n",
              "       [-0.87038828],\n",
              "       [-0.52223297],\n",
              "       [-0.17407766],\n",
              "       [ 0.17407766],\n",
              "       [ 0.52223297],\n",
              "       [ 0.87038828],\n",
              "       [ 1.21854359],\n",
              "       [ 1.5666989 ]])"
            ]
          },
          "metadata": {},
          "execution_count": 13
        }
      ]
    },
    {
      "cell_type": "markdown",
      "source": [
        "## Example 2 - predictor (supervised)"
      ],
      "metadata": {
        "id": "dNSMbG_10va4"
      }
    },
    {
      "cell_type": "code",
      "source": [
        "import numpy as np\n",
        "from sklearn.metrics import r2_score\n",
        "\n",
        "# my own OLS(Ordinary Least Square)\n",
        "class my_OLS ():\n",
        "\n",
        "    def __init__(self):\n",
        "        self.W_ = np.array([])\n",
        "\n",
        "    def fit(self, X, y):\n",
        "        for i in range(len(X)+1):\n",
        "            np.append(self.W_, 0)\n",
        "        X_b = np.concatenate([X, np.ones((X.shape[0], 1))], axis=1)\n",
        "        self.W_ = np.linalg.inv(X_b.T.dot(X_b)).dot(X_b.T).dot(y)\n",
        "\n",
        "    def score(self, X, y):\n",
        "        pred = self.predict(X)\n",
        "        return r2_score(pred, y)\n",
        "\n",
        "    def predict(self, X):\n",
        "        X_b = np.concatenate([X, np.ones((X.shape[0], 1))], axis=1)\n",
        "        return X_b@self.W_"
      ],
      "metadata": {
        "id": "b6PFfzSz2FOw"
      },
      "execution_count": null,
      "outputs": []
    },
    {
      "cell_type": "code",
      "source": [
        "from sklearn.datasets import make_regression\n",
        "from sklearn.preprocessing import StandardScaler\n",
        "from sklearn.linear_model import LinearRegression\n",
        "\n",
        "X, y = make_regression(n_samples=100, n_features=2, noise=10, random_state=1)\n",
        "X_sc = my_StandardScaler().fit_transform(X)"
      ],
      "metadata": {
        "id": "f0_w38925new"
      },
      "execution_count": null,
      "outputs": []
    },
    {
      "cell_type": "code",
      "source": [
        "model = LinearRegression()        # create model\n",
        "model.fit(X_sc,y)                    # train model\n",
        "print(\"coefficients and bias: \", model.coef_, model.intercept_)\n",
        "print(model.score(X_sc,y))\n",
        "print(model.predict(X_sc[:5]))"
      ],
      "metadata": {
        "colab": {
          "base_uri": "https://localhost:8080/"
        },
        "id": "fm8iFmYf8HK-",
        "outputId": "aa4076de-ff00-4049-cddd-8e255d85a8da"
      },
      "execution_count": null,
      "outputs": [
        {
          "output_type": "stream",
          "name": "stdout",
          "text": [
            "coefficients and bias:  [29.528992 71.888596] 19.280819\n",
            "0.981824980852882\n",
            "[ 69.28674  -36.17117  -38.273346 -11.022961 -43.112976]\n"
          ]
        }
      ]
    },
    {
      "cell_type": "code",
      "source": [
        "model = my_OLS()\n",
        "model.fit(X_sc,y)  \n",
        "print(model.W_)\n",
        "print(model.score(X_sc,y))\n",
        "print(model.predict(X_sc[:5]))"
      ],
      "metadata": {
        "colab": {
          "base_uri": "https://localhost:8080/"
        },
        "id": "cMsbMWQS8h1_",
        "outputId": "c4d46206-6a96-412d-a5bd-65e31ddb235c"
      },
      "execution_count": null,
      "outputs": [
        {
          "output_type": "stream",
          "name": "stdout",
          "text": [
            "[29.52899691 71.88860026 19.28081954]\n",
            "0.9814885355690101\n",
            "[ 69.2867506  -36.17117773 -38.27335067 -11.02296913 -43.11298165]\n"
          ]
        }
      ]
    }
  ]
}