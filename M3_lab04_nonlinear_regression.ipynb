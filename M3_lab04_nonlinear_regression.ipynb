{
  "nbformat": 4,
  "nbformat_minor": 0,
  "metadata": {
    "colab": {
      "name": "M3_lab04_nonlinear_regression.ipynb",
      "provenance": [],
      "collapsed_sections": [],
      "include_colab_link": true
    },
    "kernelspec": {
      "name": "python3",
      "display_name": "Python 3"
    }
  },
  "cells": [
    {
      "cell_type": "markdown",
      "metadata": {
        "id": "view-in-github",
        "colab_type": "text"
      },
      "source": [
        "<a href=\"https://colab.research.google.com/github/rtajeong/M3_new/blob/main/M3_lab04_nonlinear_regression.ipynb\" target=\"_parent\"><img src=\"https://colab.research.google.com/assets/colab-badge.svg\" alt=\"Open In Colab\"/></a>"
      ]
    },
    {
      "cell_type": "markdown",
      "metadata": {
        "id": "hGrsBPFL4ZmR"
      },
      "source": [
        "# Nonlinear Regression\n"
      ]
    },
    {
      "cell_type": "code",
      "metadata": {
        "id": "QHGZ_2ae4Ru3"
      },
      "source": [
        "import numpy as np\n",
        "import pandas as pd\n",
        "import matplotlib.pyplot as plt\n",
        "%matplotlib inline"
      ],
      "execution_count": null,
      "outputs": []
    },
    {
      "cell_type": "code",
      "metadata": {
        "id": "i45VOv7R4qDv"
      },
      "source": [
        "from sklearn.linear_model import LinearRegression\n",
        "from sklearn.preprocessing import PolynomialFeatures\n",
        "from sklearn.metrics import mean_squared_error, r2_score"
      ],
      "execution_count": null,
      "outputs": []
    },
    {
      "cell_type": "code",
      "metadata": {
        "colab": {
          "base_uri": "https://localhost:8080/",
          "height": 300
        },
        "id": "je-ax8M95MUU",
        "outputId": "9a4c3366-2df2-49a8-c672-9384aea70974"
      },
      "source": [
        "# data generation\n",
        "x = np.linspace(-3, 3, 100)\n",
        "y = 2.1 * x**3 + 2.1 * x**2 + 1.4 * x + 0.9\n",
        "y = y + np.random.randn(100) * 7.2\n",
        "plt.scatter(x, y, s=5)\n",
        "\n",
        "# linear model\n",
        "lrg = LinearRegression()\n",
        "lrg.fit(x.reshape(-1,1), y)\n",
        "y_pred = lrg.predict(x.reshape(-1,1))\n",
        "rmse = np.sqrt(mean_squared_error(y, y_pred))\n",
        "r2 = lrg.score(x.reshape(-1,1), y)\n",
        "print(rmse, r2)\n",
        "\n",
        "a, b = lrg.coef_, lrg.intercept_\n",
        "xx = np.linspace(-3,3, 100)\n",
        "yy = a * xx + b\n",
        "plt.plot(xx, yy, c='r')"
      ],
      "execution_count": null,
      "outputs": [
        {
          "output_type": "stream",
          "name": "stdout",
          "text": [
            "13.036526014534045 0.735842644206149\n"
          ]
        },
        {
          "output_type": "execute_result",
          "data": {
            "text/plain": [
              "[<matplotlib.lines.Line2D at 0x7f803ba8acd0>]"
            ]
          },
          "metadata": {},
          "execution_count": 3
        },
        {
          "output_type": "display_data",
          "data": {
            "text/plain": [
              "<Figure size 432x288 with 1 Axes>"
            ],
            "image/png": "[encoded data removed]"
          },
          "metadata": {
            "needs_background": "light"
          }
        }
      ]
    },
    {
      "cell_type": "code",
      "metadata": {
        "colab": {
          "base_uri": "https://localhost:8080/",
          "height": 317
        },
        "id": "mbJddNyy6TL5",
        "outputId": "b14fc771-2d2e-4423-c8bf-0bf112f21cf8"
      },
      "source": [
        "# nonlinear (degree 2)\n",
        "poly_f = PolynomialFeatures(degree = 2, include_bias = False)\n",
        "x_poly = poly_f.fit_transform(x.reshape(-1,1))\n",
        "# x[:5], x_poly[:5]\n",
        "lrg = LinearRegression()\n",
        "lrg.fit(x_poly, y)\n",
        "print(lrg.coef_, lrg.intercept_)\n",
        "y_pred = lrg.predict(x_poly)\n",
        "rmse = np.sqrt(mean_squared_error(y, y_pred))\n",
        "r2 = lrg.score(x_poly, y)\n",
        "print(rmse, r2)\n",
        "\n",
        "plt.scatter(x, y, s=10)\n",
        "plt.scatter(x, y_pred, c='r', s=1)"
      ],
      "execution_count": null,
      "outputs": [
        {
          "output_type": "stream",
          "name": "stdout",
          "text": [
            "[12.43710442  2.25034502] -1.0480154404739022\n",
            "11.489697885058794 0.794810007282259\n"
          ]
        },
        {
          "output_type": "execute_result",
          "data": {
            "text/plain": [
              "<matplotlib.collections.PathCollection at 0x7f8039125d90>"
            ]
          },
          "metadata": {},
          "execution_count": 25
        },
        {
          "output_type": "display_data",
          "data": {
            "text/plain": [
              "<Figure size 432x288 with 1 Axes>"
            ],
            "image/png": "[encoded data removed]"
          },
          "metadata": {
            "needs_background": "light"
          }
        }
      ]
    },
    {
      "cell_type": "code",
      "source": [
        "lrg.coef_, lrg.intercept_"
      ],
      "metadata": {
        "colab": {
          "base_uri": "https://localhost:8080/"
        },
        "id": "2CJn_LM0S1Ai",
        "outputId": "ce4f01bd-4303-445d-ec49-7c9fdbfb7426"
      },
      "execution_count": null,
      "outputs": [
        {
          "output_type": "execute_result",
          "data": {
            "text/plain": [
              "(array([12.43710442,  2.25034502]), -1.0480154404739022)"
            ]
          },
          "metadata": {},
          "execution_count": 26
        }
      ]
    },
    {
      "cell_type": "code",
      "source": [
        "x2 = np.c_[x, x**2]; x2[:5]"
      ],
      "metadata": {
        "colab": {
          "base_uri": "https://localhost:8080/"
        },
        "id": "M-pbkGzUSPWU",
        "outputId": "38072b14-c337-43ae-de13-14c539ca3a4b"
      },
      "execution_count": null,
      "outputs": [
        {
          "output_type": "execute_result",
          "data": {
            "text/plain": [
              "array([[-3.        ,  9.        ],\n",
              "       [-2.93939394,  8.64003673],\n",
              "       [-2.87878788,  8.28741965],\n",
              "       [-2.81818182,  7.94214876],\n",
              "       [-2.75757576,  7.60422406]])"
            ]
          },
          "metadata": {},
          "execution_count": 27
        }
      ]
    },
    {
      "cell_type": "code",
      "source": [
        "x_poly[:5]  # the same as the above (we can do it using a function)"
      ],
      "metadata": {
        "colab": {
          "base_uri": "https://localhost:8080/"
        },
        "id": "7EaH0y2BSUEJ",
        "outputId": "b70ec5e0-1ad8-49e0-c532-e8cbb4f833ec"
      },
      "execution_count": null,
      "outputs": [
        {
          "output_type": "execute_result",
          "data": {
            "text/plain": [
              "array([[-3.        ,  9.        ],\n",
              "       [-2.93939394,  8.64003673],\n",
              "       [-2.87878788,  8.28741965],\n",
              "       [-2.81818182,  7.94214876],\n",
              "       [-2.75757576,  7.60422406]])"
            ]
          },
          "metadata": {},
          "execution_count": 28
        }
      ]
    },
    {
      "cell_type": "code",
      "metadata": {
        "colab": {
          "base_uri": "https://localhost:8080/"
        },
        "id": "z5v19r3R-Gse",
        "outputId": "5e253979-de6c-4dbb-898f-6f135f6315f4"
      },
      "source": [
        "# nonlinear (degree 3)\n",
        "poly_f = PolynomialFeatures(degree = 3, include_bias = False)\n",
        "x_poly = poly_f.fit_transform(x.reshape(-1,1))\n",
        "x[:5], x_poly[:5]"
      ],
      "execution_count": null,
      "outputs": [
        {
          "output_type": "execute_result",
          "data": {
            "text/plain": [
              "(array([-3.        , -2.93939394, -2.87878788, -2.81818182, -2.75757576]),\n",
              " array([[ -3.        ,   9.        , -27.        ],\n",
              "        [ -2.93939394,   8.64003673, -25.3964716 ],\n",
              "        [ -2.87878788,   8.28741965, -23.85772324],\n",
              "        [ -2.81818182,   7.94214876, -22.38241923],\n",
              "        [ -2.75757576,   7.60422406, -20.96922392]]))"
            ]
          },
          "metadata": {},
          "execution_count": 32
        }
      ]
    },
    {
      "cell_type": "code",
      "metadata": {
        "colab": {
          "base_uri": "https://localhost:8080/",
          "height": 317
        },
        "id": "tplgcz8k_3Vs",
        "outputId": "deadb163-9629-4896-8cae-74c2ac753752"
      },
      "source": [
        "lrg = LinearRegression()\n",
        "lrg.fit(x_poly, y)\n",
        "print(lrg.coef_, lrg.intercept_)\n",
        "y_pred = lrg.predict(x_poly)\n",
        "rmse = np.sqrt(mean_squared_error(y, y_pred))\n",
        "r2 = lrg.score(x_poly, y)\n",
        "print(rmse, r2)\n",
        "\n",
        "plt.scatter(x, y, s=10)\n",
        "plt.scatter(x, y_pred, c='r', s=1)"
      ],
      "execution_count": null,
      "outputs": [
        {
          "output_type": "stream",
          "name": "stdout",
          "text": [
            "[1.03821708 2.25034502 2.06938091] -1.0480154404739075\n",
            "7.505195463646039 0.9124486247733932\n"
          ]
        },
        {
          "output_type": "execute_result",
          "data": {
            "text/plain": [
              "<matplotlib.collections.PathCollection at 0x7f80390a72d0>"
            ]
          },
          "metadata": {},
          "execution_count": 33
        },
        {
          "output_type": "display_data",
          "data": {
            "text/plain": [
              "<Figure size 432x288 with 1 Axes>"
            ],
            "image/png": "[encoded data removed]"
          },
          "metadata": {
            "needs_background": "light"
          }
        }
      ]
    },
    {
      "cell_type": "code",
      "metadata": {
        "colab": {
          "base_uri": "https://localhost:8080/",
          "height": 300
        },
        "id": "TJf-wchTBU7f",
        "outputId": "c189dba6-1306-4bbe-83fd-b461445a972e"
      },
      "source": [
        "# decision tree regressor\n",
        "from sklearn.tree import DecisionTreeRegressor\n",
        "dtrg = DecisionTreeRegressor(max_depth=2)\n",
        "dtrg.fit(x.reshape(-1,1), y)\n",
        "y_pred = dtrg.predict(x.reshape(-1,1))\n",
        "rmse = np.sqrt(mean_squared_error(y, y_pred))\n",
        "r2 = dtrg.score(x.reshape(-1,1), y)\n",
        "print(rmse, r2)\n",
        "\n",
        "plt.scatter(x, y, c='b', s=5)\n",
        "plt.scatter(x, y_pred, c='r', s=3)"
      ],
      "execution_count": null,
      "outputs": [
        {
          "output_type": "stream",
          "name": "stdout",
          "text": [
            "9.341142668946748 0.8643752446427235\n"
          ]
        },
        {
          "output_type": "execute_result",
          "data": {
            "text/plain": [
              "<matplotlib.collections.PathCollection at 0x7f80383f1150>"
            ]
          },
          "metadata": {},
          "execution_count": 46
        },
        {
          "output_type": "display_data",
          "data": {
            "text/plain": [
              "<Figure size 432x288 with 1 Axes>"
            ],
            "image/png": "[encoded data removed]"
          },
          "metadata": {
            "needs_background": "light"
          }
        }
      ]
    },
    {
      "cell_type": "code",
      "source": [
        "from sklearn.tree import export_graphviz\n",
        "import graphviz\n",
        "export_graphviz(\n",
        "    dtrg,\n",
        "    out_file = \"./dtr.dot\"\n",
        "    )\n",
        "with open(\"./dtr.dot\") as f:\n",
        "    dot_graph = str(open(\"./dtr.dot\", \"rb\").read(), \"utf8\")\n",
        "graphviz.Source(dot_graph)"
      ],
      "metadata": {
        "colab": {
          "base_uri": "https://localhost:8080/",
          "height": 380
        },
        "id": "rAOZEI3NVukg",
        "outputId": "003c8090-2364-4d45-a0d3-e34e2708c871"
      },
      "execution_count": null,
      "outputs": [
        {
          "output_type": "execute_result",
          "data": {
            "text/plain": [
              "<graphviz.files.Source at 0x7f80383bc850>"
            ],
            "image/svg+xml": "<?xml version=\"1.0\" encoding=\"UTF-8\" standalone=\"no\"?>\n<!DOCTYPE svg PUBLIC \"-//W3C//DTD SVG 1.1//EN\"\n \"http://www.w3.org/Graphics/SVG/1.1/DTD/svg11.dtd\">\n<!-- Generated by graphviz version 2.40.1 (20161225.0304)\n -->\n<!-- Title: Tree Pages: 1 -->\n<svg width=\"750pt\" height=\"269pt\"\n viewBox=\"0.00 0.00 750.00 269.00\" xmlns=\"http://www.w3.org/2000/svg\" xmlns:xlink=\"http://www.w3.org/1999/xlink\">\n<g id=\"graph0\" class=\"graph\" transform=\"scale(1 1) rotate(0) translate(4 265)\">\n<title>Tree</title>\n<polygon fill=\"#ffffff\" stroke=\"transparent\" points=\"-4,4 -4,-265 746,-265 746,4 -4,4\"/>\n<!-- 0 -->\n<g id=\"node1\" class=\"node\">\n<title>0</title>\n<polygon fill=\"none\" stroke=\"#000000\" points=\"459,-261 290,-261 290,-193 459,-193 459,-261\"/>\n<text text-anchor=\"middle\" x=\"374.5\" y=\"-245.8\" font-family=\"Helvetica,sans-Serif\" font-size=\"14.00\" fill=\"#000000\">X[0] &lt;= 1.697</text>\n<text text-anchor=\"middle\" x=\"374.5\" y=\"-230.8\" font-family=\"Helvetica,sans-Serif\" font-size=\"14.00\" fill=\"#000000\">squared_error = 643.37</text>\n<text text-anchor=\"middle\" x=\"374.5\" y=\"-215.8\" font-family=\"Helvetica,sans-Serif\" font-size=\"14.00\" fill=\"#000000\">samples = 100</text>\n<text text-anchor=\"middle\" x=\"374.5\" y=\"-200.8\" font-family=\"Helvetica,sans-Serif\" font-size=\"14.00\" fill=\"#000000\">value = 5.839</text>\n</g>\n<!-- 1 -->\n<g id=\"node2\" class=\"node\">\n<title>1</title>\n<polygon fill=\"none\" stroke=\"#000000\" points=\"366,-157 189,-157 189,-89 366,-89 366,-157\"/>\n<text text-anchor=\"middle\" x=\"277.5\" y=\"-141.8\" font-family=\"Helvetica,sans-Serif\" font-size=\"14.00\" fill=\"#000000\">X[0] &lt;= &#45;2.0</text>\n<text text-anchor=\"middle\" x=\"277.5\" y=\"-126.8\" font-family=\"Helvetica,sans-Serif\" font-size=\"14.00\" fill=\"#000000\">squared_error = 189.272</text>\n<text text-anchor=\"middle\" x=\"277.5\" y=\"-111.8\" font-family=\"Helvetica,sans-Serif\" font-size=\"14.00\" fill=\"#000000\">samples = 78</text>\n<text text-anchor=\"middle\" x=\"277.5\" y=\"-96.8\" font-family=\"Helvetica,sans-Serif\" font-size=\"14.00\" fill=\"#000000\">value = &#45;5.164</text>\n</g>\n<!-- 0&#45;&gt;1 -->\n<g id=\"edge1\" class=\"edge\">\n<title>0&#45;&gt;1</title>\n<path fill=\"none\" stroke=\"#000000\" d=\"M342.7386,-192.9465C334.2806,-183.8782 325.0486,-173.9799 316.2613,-164.5585\"/>\n<polygon fill=\"#000000\" stroke=\"#000000\" points=\"318.713,-162.0557 309.3328,-157.13 313.594,-166.8302 318.713,-162.0557\"/>\n<text text-anchor=\"middle\" x=\"308.4627\" y=\"-178.4148\" font-family=\"Helvetica,sans-Serif\" font-size=\"14.00\" fill=\"#000000\">True</text>\n</g>\n<!-- 4 -->\n<g id=\"node5\" class=\"node\">\n<title>4</title>\n<polygon fill=\"none\" stroke=\"#000000\" points=\"561,-157 384,-157 384,-89 561,-89 561,-157\"/>\n<text text-anchor=\"middle\" x=\"472.5\" y=\"-141.8\" font-family=\"Helvetica,sans-Serif\" font-size=\"14.00\" fill=\"#000000\">X[0] &lt;= 2.485</text>\n<text text-anchor=\"middle\" x=\"472.5\" y=\"-126.8\" font-family=\"Helvetica,sans-Serif\" font-size=\"14.00\" fill=\"#000000\">squared_error = 302.206</text>\n<text text-anchor=\"middle\" x=\"472.5\" y=\"-111.8\" font-family=\"Helvetica,sans-Serif\" font-size=\"14.00\" fill=\"#000000\">samples = 22</text>\n<text text-anchor=\"middle\" x=\"472.5\" y=\"-96.8\" font-family=\"Helvetica,sans-Serif\" font-size=\"14.00\" fill=\"#000000\">value = 44.851</text>\n</g>\n<!-- 0&#45;&gt;4 -->\n<g id=\"edge4\" class=\"edge\">\n<title>0&#45;&gt;4</title>\n<path fill=\"none\" stroke=\"#000000\" d=\"M406.5889,-192.9465C415.134,-183.8782 424.4613,-173.9799 433.3391,-164.5585\"/>\n<polygon fill=\"#000000\" stroke=\"#000000\" points=\"436.0283,-166.8082 440.339,-157.13 430.9337,-162.0076 436.0283,-166.8082\"/>\n<text text-anchor=\"middle\" x=\"441.0813\" y=\"-178.419\" font-family=\"Helvetica,sans-Serif\" font-size=\"14.00\" fill=\"#000000\">False</text>\n</g>\n<!-- 2 -->\n<g id=\"node3\" class=\"node\">\n<title>2</title>\n<polygon fill=\"none\" stroke=\"#000000\" points=\"177,-53 0,-53 0,0 177,0 177,-53\"/>\n<text text-anchor=\"middle\" x=\"88.5\" y=\"-37.8\" font-family=\"Helvetica,sans-Serif\" font-size=\"14.00\" fill=\"#000000\">squared_error = 119.567</text>\n<text text-anchor=\"middle\" x=\"88.5\" y=\"-22.8\" font-family=\"Helvetica,sans-Serif\" font-size=\"14.00\" fill=\"#000000\">samples = 17</text>\n<text text-anchor=\"middle\" x=\"88.5\" y=\"-7.8\" font-family=\"Helvetica,sans-Serif\" font-size=\"14.00\" fill=\"#000000\">value = &#45;24.696</text>\n</g>\n<!-- 1&#45;&gt;2 -->\n<g id=\"edge2\" class=\"edge\">\n<title>1&#45;&gt;2</title>\n<path fill=\"none\" stroke=\"#000000\" d=\"M210.8657,-88.9777C190.9564,-78.8124 169.235,-67.7218 149.6927,-57.7439\"/>\n<polygon fill=\"#000000\" stroke=\"#000000\" points=\"151.0855,-54.5253 140.5877,-53.095 147.9023,-60.7596 151.0855,-54.5253\"/>\n</g>\n<!-- 3 -->\n<g id=\"node4\" class=\"node\">\n<title>3</title>\n<polygon fill=\"none\" stroke=\"#000000\" points=\"364,-53 195,-53 195,0 364,0 364,-53\"/>\n<text text-anchor=\"middle\" x=\"279.5\" y=\"-37.8\" font-family=\"Helvetica,sans-Serif\" font-size=\"14.00\" fill=\"#000000\">squared_error = 72.743</text>\n<text text-anchor=\"middle\" x=\"279.5\" y=\"-22.8\" font-family=\"Helvetica,sans-Serif\" font-size=\"14.00\" fill=\"#000000\">samples = 61</text>\n<text text-anchor=\"middle\" x=\"279.5\" y=\"-7.8\" font-family=\"Helvetica,sans-Serif\" font-size=\"14.00\" fill=\"#000000\">value = 0.28</text>\n</g>\n<!-- 1&#45;&gt;3 -->\n<g id=\"edge3\" class=\"edge\">\n<title>1&#45;&gt;3</title>\n<path fill=\"none\" stroke=\"#000000\" d=\"M278.2051,-88.9777C278.3759,-80.7364 278.5593,-71.887 278.7328,-63.5153\"/>\n<polygon fill=\"#000000\" stroke=\"#000000\" points=\"282.2376,-63.3189 278.9456,-53.2485 275.2391,-63.1738 282.2376,-63.3189\"/>\n</g>\n<!-- 5 -->\n<g id=\"node6\" class=\"node\">\n<title>5</title>\n<polygon fill=\"none\" stroke=\"#000000\" points=\"555,-53 386,-53 386,0 555,0 555,-53\"/>\n<text text-anchor=\"middle\" x=\"470.5\" y=\"-37.8\" font-family=\"Helvetica,sans-Serif\" font-size=\"14.00\" fill=\"#000000\">squared_error = 66.603</text>\n<text text-anchor=\"middle\" x=\"470.5\" y=\"-22.8\" font-family=\"Helvetica,sans-Serif\" font-size=\"14.00\" fill=\"#000000\">samples = 13</text>\n<text text-anchor=\"middle\" x=\"470.5\" y=\"-7.8\" font-family=\"Helvetica,sans-Serif\" font-size=\"14.00\" fill=\"#000000\">value = 33.094</text>\n</g>\n<!-- 4&#45;&gt;5 -->\n<g id=\"edge5\" class=\"edge\">\n<title>4&#45;&gt;5</title>\n<path fill=\"none\" stroke=\"#000000\" d=\"M471.7949,-88.9777C471.6241,-80.7364 471.4407,-71.887 471.2672,-63.5153\"/>\n<polygon fill=\"#000000\" stroke=\"#000000\" points=\"474.7609,-63.1738 471.0544,-53.2485 467.7624,-63.3189 474.7609,-63.1738\"/>\n</g>\n<!-- 6 -->\n<g id=\"node7\" class=\"node\">\n<title>6</title>\n<polygon fill=\"none\" stroke=\"#000000\" points=\"742,-53 573,-53 573,0 742,0 742,-53\"/>\n<text text-anchor=\"middle\" x=\"657.5\" y=\"-37.8\" font-family=\"Helvetica,sans-Serif\" font-size=\"14.00\" fill=\"#000000\">squared_error = 154.43</text>\n<text text-anchor=\"middle\" x=\"657.5\" y=\"-22.8\" font-family=\"Helvetica,sans-Serif\" font-size=\"14.00\" fill=\"#000000\">samples = 9</text>\n<text text-anchor=\"middle\" x=\"657.5\" y=\"-7.8\" font-family=\"Helvetica,sans-Serif\" font-size=\"14.00\" fill=\"#000000\">value = 61.834</text>\n</g>\n<!-- 4&#45;&gt;6 -->\n<g id=\"edge6\" class=\"edge\">\n<title>4&#45;&gt;6</title>\n<path fill=\"none\" stroke=\"#000000\" d=\"M537.7241,-88.9777C557.212,-78.8124 578.4737,-67.7218 597.6024,-57.7439\"/>\n<polygon fill=\"#000000\" stroke=\"#000000\" points=\"599.2671,-60.8231 606.5147,-53.095 596.0297,-54.6167 599.2671,-60.8231\"/>\n</g>\n</g>\n</svg>\n"
          },
          "metadata": {},
          "execution_count": 49
        }
      ]
    },
    {
      "cell_type": "code",
      "source": [
        "# change max_depth=5\n",
        "dtrg = DecisionTreeRegressor(max_depth=5)\n",
        "dtrg.fit(x.reshape(-1,1), y)\n",
        "y_pred = dtrg.predict(x.reshape(-1,1))\n",
        "rmse = np.sqrt(mean_squared_error(y, y_pred))\n",
        "r2 = dtrg.score(x.reshape(-1,1), y)\n",
        "print(rmse, r2)\n",
        "\n",
        "plt.scatter(x, y, c='b', s=5)\n",
        "plt.scatter(x, y_pred, c='r', s=3)"
      ],
      "metadata": {
        "colab": {
          "base_uri": "https://localhost:8080/",
          "height": 300
        },
        "id": "GQ7iLGffYbR1",
        "outputId": "c807dee3-b709-426d-dcdd-00010fffbc7e"
      },
      "execution_count": null,
      "outputs": [
        {
          "output_type": "stream",
          "name": "stdout",
          "text": [
            "5.435432061451941 0.9540794478925829\n"
          ]
        },
        {
          "output_type": "execute_result",
          "data": {
            "text/plain": [
              "<matplotlib.collections.PathCollection at 0x7f80382f6390>"
            ]
          },
          "metadata": {},
          "execution_count": 51
        },
        {
          "output_type": "display_data",
          "data": {
            "text/plain": [
              "<Figure size 432x288 with 1 Axes>"
            ],
            "image/png": "[encoded data removed]"
          },
          "metadata": {
            "needs_background": "light"
          }
        }
      ]
    },
    {
      "cell_type": "code",
      "metadata": {
        "colab": {
          "base_uri": "https://localhost:8080/",
          "height": 300
        },
        "id": "VX2y8_PTJUZH",
        "outputId": "045df3a1-a305-44da-8b48-5496aa5ea00d"
      },
      "source": [
        "# randomforest regressor\n",
        "from sklearn.ensemble import RandomForestRegressor\n",
        "rfrg = RandomForestRegressor(n_estimators=200, max_depth=5)\n",
        "rfrg.fit(x.reshape(-1,1), y)\n",
        "y_pred = rfrg.predict(x.reshape(-1,1))\n",
        "rmse = np.sqrt(mean_squared_error(y, y_pred))\n",
        "r2 = rfrg.score(x.reshape(-1,1), y)\n",
        "print(rmse, r2)\n",
        "\n",
        "plt.scatter(x, y, c='b', s=5)\n",
        "plt.scatter(x, y_pred, c='r', s=3)"
      ],
      "execution_count": null,
      "outputs": [
        {
          "output_type": "stream",
          "name": "stdout",
          "text": [
            "5.228741576923641 0.9575054422913474\n"
          ]
        },
        {
          "output_type": "execute_result",
          "data": {
            "text/plain": [
              "<matplotlib.collections.PathCollection at 0x7f8037ff6350>"
            ]
          },
          "metadata": {},
          "execution_count": 52
        },
        {
          "output_type": "display_data",
          "data": {
            "text/plain": [
              "<Figure size 432x288 with 1 Axes>"
            ],
            "image/png": "[encoded data removed]"
          },
          "metadata": {
            "needs_background": "light"
          }
        }
      ]
    },
    {
      "cell_type": "code",
      "metadata": {
        "colab": {
          "base_uri": "https://localhost:8080/",
          "height": 300
        },
        "id": "l3EaDVrLCpS3",
        "outputId": "8fac0b54-3567-4a75-e0d9-ad11ea61b93d"
      },
      "source": [
        "# svm regressor\n",
        "from sklearn.svm import SVR\n",
        "svrg = SVR(C=10000, kernel='rbf', gamma=10)\n",
        "svrg.fit(x.reshape(-1,1), y)\n",
        "y_pred = svrg.predict(x.reshape(-1,1))\n",
        "\n",
        "rmse = np.sqrt(mean_squared_error(y, y_pred))\n",
        "r2 = svrg.score(x.reshape(-1,1), y)\n",
        "print(rmse, r2)\n",
        "\n",
        "plt.scatter(x, y, c='b', s=5)\n",
        "plt.scatter(x, y_pred, c='r', s=3)"
      ],
      "execution_count": null,
      "outputs": [
        {
          "output_type": "stream",
          "name": "stdout",
          "text": [
            "6.112109547744559 0.9419340926932004\n"
          ]
        },
        {
          "output_type": "execute_result",
          "data": {
            "text/plain": [
              "<matplotlib.collections.PathCollection at 0x7f8037f61e50>"
            ]
          },
          "metadata": {},
          "execution_count": 53
        },
        {
          "output_type": "display_data",
          "data": {
            "text/plain": [
              "<Figure size 432x288 with 1 Axes>"
            ],
            "image/png": "[encoded data removed]"
          },
          "metadata": {
            "needs_background": "light"
          }
        }
      ]
    },
    {
      "cell_type": "markdown",
      "source": [
        "# Exercise"
      ],
      "metadata": {
        "id": "XwslxB3_RkDa"
      }
    },
    {
      "cell_type": "code",
      "source": [
        "np.c_[np.array([1,2,3]), np.array([4,5,6])]"
      ],
      "metadata": {
        "colab": {
          "base_uri": "https://localhost:8080/"
        },
        "id": "EJoCqXDJRjLw",
        "outputId": "876af2bc-35fc-439e-ca26-50879ab9c845"
      },
      "execution_count": null,
      "outputs": [
        {
          "output_type": "execute_result",
          "data": {
            "text/plain": [
              "array([[1, 4],\n",
              "       [2, 5],\n",
              "       [3, 6]])"
            ]
          },
          "metadata": {},
          "execution_count": 4
        }
      ]
    },
    {
      "cell_type": "code",
      "source": [
        "np.r_[np.array([1,2,3]), np.array([4,5,6])]"
      ],
      "metadata": {
        "colab": {
          "base_uri": "https://localhost:8080/"
        },
        "id": "Pd6BGKipRs7i",
        "outputId": "3f858d05-13ec-420f-b6da-4e9d2e627f2c"
      },
      "execution_count": null,
      "outputs": [
        {
          "output_type": "execute_result",
          "data": {
            "text/plain": [
              "array([1, 2, 3, 4, 5, 6])"
            ]
          },
          "metadata": {},
          "execution_count": 5
        }
      ]
    },
    {
      "cell_type": "code",
      "source": [
        ""
      ],
      "metadata": {
        "id": "OD3LG9mlR-8k"
      },
      "execution_count": null,
      "outputs": []
    }
  ]
}