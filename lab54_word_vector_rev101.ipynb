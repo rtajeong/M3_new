{
  "nbformat": 4,
  "nbformat_minor": 0,
  "metadata": {
    "accelerator": "GPU",
    "colab": {
      "provenance": [],
      "toc_visible": true,
      "include_colab_link": true
    },
    "kernelspec": {
      "display_name": "Python 3",
      "language": "python",
      "name": "python3"
    },
    "language_info": {
      "codemirror_mode": {
        "name": "ipython",
        "version": 3
      },
      "file_extension": ".py",
      "mimetype": "text/x-python",
      "name": "python",
      "nbconvert_exporter": "python",
      "pygments_lexer": "ipython3",
      "version": "3.6.8"
    }
  },
  "cells": [
    {
      "cell_type": "markdown",
      "metadata": {
        "id": "view-in-github",
        "colab_type": "text"
      },
      "source": [
        "<a href=\"https://colab.research.google.com/github/rtajeong/M3_new/blob/main/lab54_word_vector_rev101.ipynb\" target=\"_parent\"><img src=\"https://colab.research.google.com/assets/colab-badge.svg\" alt=\"Open In Colab\"/></a>"
      ]
    },
    {
      "cell_type": "markdown",
      "metadata": {
        "id": "RSiTy5MDXBnt"
      },
      "source": [
        "# Word Embedding\n",
        "- express words using vectors\n",
        "- vectors are trained"
      ]
    },
    {
      "cell_type": "markdown",
      "metadata": {
        "id": "VAXirxchUD43"
      },
      "source": [
        "# Word2Vec - 한국어\n",
        "\n",
        "- 지금까지의 텍스트 코딩 방식인 One-hot encoding, BoW(단어모음)-문서-단어 행렬 방식은 모두 단어마다 고유번호를 배정하여 사용하지만, 이 번호들에는 아무런 의미가 포함되어 있지 않고 단지 인덱스 역할만 함.\n",
        "- Word Vector 에서는\n",
        " - 단어를 고차원 공간상의 벡터로 표현함으로 단어간 거리 표현 가능. 차원이 높을수록 정교한 의미 구분 가능.\n",
        " - 보통 50~300 개 정도의 차원을 사용함\n",
        " - 단어간의 거리 (유사도) 뿐 아니라 방향성(벡터)도 찾을 수 있음.\n",
        " - 단어벡터의 각 성분이 어떤 의미를 갖는지는 알 수 없다.\n",
        "\n",
        "- 빅카인즈 뉴스기사 데이터 활용(https://www.bigkinds.or.kr/)"
      ]
    },
    {
      "cell_type": "markdown",
      "metadata": {
        "id": "6VHnsDHlXBn7"
      },
      "source": [
        "## 뉴스를 이용한 단어 벡터 생성\n",
        "- 단어 추출: konlpy 의 kkma() 사용\n",
        "- 단어 벡터 생성: gensim 의 word2vec() 사용"
      ]
    },
    {
      "cell_type": "code",
      "metadata": {
        "id": "xDM2364masZe",
        "colab": {
          "base_uri": "https://localhost:8080/"
        },
        "outputId": "cc507628-886c-4907-8aae-56913f620127"
      },
      "source": [
        "!pip install konlpy"
      ],
      "execution_count": null,
      "outputs": [
        {
          "output_type": "stream",
          "name": "stdout",
          "text": [
            "Collecting konlpy\n",
            "  Downloading konlpy-0.6.0-py2.py3-none-any.whl (19.4 MB)\n",
            "\u001b[2K     \u001b[90m━━━━━━━━━━━━━━━━━━━━━━━━━━━━━━━━━━━━━━━━\u001b[0m \u001b[32m19.4/19.4 MB\u001b[0m \u001b[31m55.5 MB/s\u001b[0m eta \u001b[36m0:00:00\u001b[0m\n",
            "\u001b[?25hCollecting JPype1>=0.7.0 (from konlpy)\n",
            "  Downloading JPype1-1.4.1-cp310-cp310-manylinux_2_12_x86_64.manylinux2010_x86_64.whl (465 kB)\n",
            "\u001b[2K     \u001b[90m━━━━━━━━━━━━━━━━━━━━━━━━━━━━━━━━━━━━━━\u001b[0m \u001b[32m465.3/465.3 kB\u001b[0m \u001b[31m40.3 MB/s\u001b[0m eta \u001b[36m0:00:00\u001b[0m\n",
            "\u001b[?25hRequirement already satisfied: lxml>=4.1.0 in /usr/local/lib/python3.10/dist-packages (from konlpy) (4.9.3)\n",
            "Requirement already satisfied: numpy>=1.6 in /usr/local/lib/python3.10/dist-packages (from konlpy) (1.23.5)\n",
            "Requirement already satisfied: packaging in /usr/local/lib/python3.10/dist-packages (from JPype1>=0.7.0->konlpy) (23.1)\n",
            "Installing collected packages: JPype1, konlpy\n",
            "Successfully installed JPype1-1.4.1 konlpy-0.6.0\n"
          ]
        }
      ]
    },
    {
      "cell_type": "code",
      "metadata": {
        "id": "TcpN2NDuXBn9"
      },
      "source": [
        "from konlpy.tag import Kkma     # 형태소 분석 및 자연어 처리 모듈 (서울대)\n",
        "from gensim.models.word2vec import Word2Vec"
      ],
      "execution_count": null,
      "outputs": []
    },
    {
      "cell_type": "code",
      "metadata": {
        "id": "7R5lqDRhXBoy",
        "colab": {
          "base_uri": "https://localhost:8080/"
        },
        "outputId": "fe46e37a-455a-48af-b415-6ae5fdfa1d5e"
      },
      "source": [
        "# IT 뉴스기사를 이용한다\n",
        "!wget https://bit.ly/2X7UON2 -O news2018.xlsx"
      ],
      "execution_count": null,
      "outputs": [
        {
          "output_type": "stream",
          "name": "stdout",
          "text": [
            "--2023-09-07 13:56:38--  https://bit.ly/2X7UON2\n",
            "Resolving bit.ly (bit.ly)... 67.199.248.11, 67.199.248.10\n",
            "Connecting to bit.ly (bit.ly)|67.199.248.11|:443... connected.\n",
            "HTTP request sent, awaiting response... 301 Moved Permanently\n",
            "Location: https://www.dropbox.com/s/gr5jhlshp8m3iqn/NewsResult_20181128-20190228.xlsx [following]\n",
            "--2023-09-07 13:56:38--  https://www.dropbox.com/s/gr5jhlshp8m3iqn/NewsResult_20181128-20190228.xlsx\n",
            "Resolving www.dropbox.com (www.dropbox.com)... 162.125.3.18, 2620:100:6018:18::a27d:312\n",
            "Connecting to www.dropbox.com (www.dropbox.com)|162.125.3.18|:443... connected.\n",
            "HTTP request sent, awaiting response... 302 Found\n",
            "Location: /s/raw/gr5jhlshp8m3iqn/NewsResult_20181128-20190228.xlsx [following]\n",
            "--2023-09-07 13:56:40--  https://www.dropbox.com/s/raw/gr5jhlshp8m3iqn/NewsResult_20181128-20190228.xlsx\n",
            "Reusing existing connection to www.dropbox.com:443.\n",
            "HTTP request sent, awaiting response... 302 Found\n",
            "Location: https://uc122e30e822d5c57ebfa3f2e161.dl.dropboxusercontent.com/cd/0/inline/CDSLH9oePWFxFBlriPYFMOeV-DlTsbq-aOobSqU-WxhjSWkWUlJEbeaJiLqcN9ExSV5KzA0EXVqfWQnYEdE56MYcunMd4jjtwVE6StF_a4t4IcBonxcveWKg5luRwVIyCqo/file# [following]\n",
            "--2023-09-07 13:56:40--  https://uc122e30e822d5c57ebfa3f2e161.dl.dropboxusercontent.com/cd/0/inline/CDSLH9oePWFxFBlriPYFMOeV-DlTsbq-aOobSqU-WxhjSWkWUlJEbeaJiLqcN9ExSV5KzA0EXVqfWQnYEdE56MYcunMd4jjtwVE6StF_a4t4IcBonxcveWKg5luRwVIyCqo/file\n",
            "Resolving uc122e30e822d5c57ebfa3f2e161.dl.dropboxusercontent.com (uc122e30e822d5c57ebfa3f2e161.dl.dropboxusercontent.com)... 162.125.3.15, 2620:100:6018:15::a27d:30f\n",
            "Connecting to uc122e30e822d5c57ebfa3f2e161.dl.dropboxusercontent.com (uc122e30e822d5c57ebfa3f2e161.dl.dropboxusercontent.com)|162.125.3.15|:443... connected.\n",
            "HTTP request sent, awaiting response... 302 Found\n",
            "Location: /cd/0/inline2/CDRKTsCft-NqNSJFLyzZRMJCuopb9KML4_0DCoFTflaUxygvT93UD7CsA7sBPLDqOgK8tKuRUyxo5ncdmUpib9aDIwKnPl8TnMbTARjh8WLLQQ_0aHJQpilbwJel4Yl7X52TAmhuSaP9xSfm6nif9JwvRLY8dw0qoOlco8m-TPa8b_TK85eAx-iHvtPhDw5C_ENUHL9Vn_XiQAqA-3nYHakXNrn1gPTkzxjirFyihPNWU1rbeK1YF1CGKFQkle6uNBXDFPpFwWR9PCyiilb7aDo4K7P4QT84ZkEtohbZo4PrHf9FxPQlmDTtdvVkuu0lHUVYSNWJ9RR9m4oslm-yMlURlNkqapiumxKxT5WkK4h32w/file [following]\n",
            "--2023-09-07 13:56:41--  https://uc122e30e822d5c57ebfa3f2e161.dl.dropboxusercontent.com/cd/0/inline2/CDRKTsCft-NqNSJFLyzZRMJCuopb9KML4_0DCoFTflaUxygvT93UD7CsA7sBPLDqOgK8tKuRUyxo5ncdmUpib9aDIwKnPl8TnMbTARjh8WLLQQ_0aHJQpilbwJel4Yl7X52TAmhuSaP9xSfm6nif9JwvRLY8dw0qoOlco8m-TPa8b_TK85eAx-iHvtPhDw5C_ENUHL9Vn_XiQAqA-3nYHakXNrn1gPTkzxjirFyihPNWU1rbeK1YF1CGKFQkle6uNBXDFPpFwWR9PCyiilb7aDo4K7P4QT84ZkEtohbZo4PrHf9FxPQlmDTtdvVkuu0lHUVYSNWJ9RR9m4oslm-yMlURlNkqapiumxKxT5WkK4h32w/file\n",
            "Reusing existing connection to uc122e30e822d5c57ebfa3f2e161.dl.dropboxusercontent.com:443.\n",
            "HTTP request sent, awaiting response... 200 OK\n",
            "Length: 1832194 (1.7M) [application/vnd.openxmlformats-officedocument.spreadsheetml.sheet]\n",
            "Saving to: ‘news2018.xlsx’\n",
            "\n",
            "news2018.xlsx       100%[===================>]   1.75M  --.-KB/s    in 0.07s   \n",
            "\n",
            "2023-09-07 13:56:41 (24.6 MB/s) - ‘news2018.xlsx’ saved [1832194/1832194]\n",
            "\n"
          ]
        }
      ]
    },
    {
      "cell_type": "code",
      "metadata": {
        "id": "tGECncx5p1oY",
        "colab": {
          "base_uri": "https://localhost:8080/"
        },
        "outputId": "302abc72-704a-43f8-fe50-9ff14018d755"
      },
      "source": [
        "import pandas as pd\n",
        "news = pd.read_excel(\"news2018.xlsx\")"
      ],
      "execution_count": null,
      "outputs": [
        {
          "output_type": "stream",
          "name": "stderr",
          "text": [
            "/usr/local/lib/python3.10/dist-packages/openpyxl/styles/stylesheet.py:226: UserWarning: Workbook contains no default style, apply openpyxl's default\n",
            "  warn(\"Workbook contains no default style, apply openpyxl's default\")\n"
          ]
        }
      ]
    },
    {
      "cell_type": "code",
      "source": [
        "news.head(2)"
      ],
      "metadata": {
        "colab": {
          "base_uri": "https://localhost:8080/",
          "height": 685
        },
        "id": "ray06y_8vfzI",
        "outputId": "54ca3231-ef7e-4eb8-fdbf-cbef530e4bad"
      },
      "execution_count": null,
      "outputs": [
        {
          "output_type": "execute_result",
          "data": {
            "text/plain": [
              "         뉴스 식별자        일자   언론사                        기고자  \\\n",
              "0  1.500401e+06  20190228  국제신문  김태경 기자 tgkim@kookje.co.kr   \n",
              "1  1.200201e+06  20190228  경인일보                        조영상   \n",
              "\n",
              "                                    제목   통합 분류1  통합 분류2 통합 분류3 사건/사고 분류1  \\\n",
              "0       빅딜이냐 스몰딜이냐 ‘영변 핵+α’ 로드맵 도출이 관건    정치>북한   정치>외교    NaN       NaN   \n",
              "1  하노이 도착후 실무대표단 청취 김정은, 북미회담 성공 '잰걸음'  국제>국제일반   정치>북한    NaN       NaN   \n",
              "\n",
              "  사건/사고 분류2 사건/사고 분류3                 인물                        위치  \\\n",
              "0       NaN       NaN  김,도널드 트럼프,김의겸,김정은  북미,미국,하노이,서울,싱가포르,북한,리비아   \n",
              "1       NaN       NaN                  김                북미,하노이,베트남   \n",
              "\n",
              "                                기관  \\\n",
              "0  북미,북미 정상회,미국,청와대,북미 정상회담,북한,국무위   \n",
              "1                       조선중앙통신,국무위   \n",
              "\n",
              "                                                 키워드  \\\n",
              "0  빅딜,스몰딜,영변,로드맵,도출,비핵화,수준,상응,조치,막판,양국,협상팀,밀당,1차,...   \n",
              "1  하노이,도착,실무대표단,청취,김정은,잰걸음,북미회담,성공,김정은,국무,위원장,시작,...   \n",
              "\n",
              "                                                특성추출  \\\n",
              "0  북미,비핵화,미국,스몰딜,1차,정상회담,김정은,종전선언,연락사무소,하노이,영변,대변...   \n",
              "1  실무대표단,하노이,김정은,위원장,베트남,북미정상회담,북미회담,정상회담,조선중앙통신,...   \n",
              "\n",
              "                                                  본문  \\\n",
              "0  - 비핵화 수준 상응 조치 놓고\\n- 양국 협상팀 막판까지 ‘밀당’\\n- 1차 때와...   \n",
              "1  김정은 국무위원장이 27일 시작되는 제2차 북미정상회담 성공을 위해 심혈을 기울이고...   \n",
              "\n",
              "                                                 URL 분석제외 여부  \n",
              "0  http://www.kookje.co.kr/news2011/asp/newsbody....     NaN  \n",
              "1  http://www.kyeongin.com/main/view.php?key=2019...     NaN  "
            ],
            "text/html": [
              "\n",
              "  <div id=\"df-66620b67-c726-4d74-8733-69915daaac3d\" class=\"colab-df-container\">\n",
              "    <div>\n",
              "<style scoped>\n",
              "    .dataframe tbody tr th:only-of-type {\n",
              "        vertical-align: middle;\n",
              "    }\n",
              "\n",
              "    .dataframe tbody tr th {\n",
              "        vertical-align: top;\n",
              "    }\n",
              "\n",
              "    .dataframe thead th {\n",
              "        text-align: right;\n",
              "    }\n",
              "</style>\n",
              "<table border=\"1\" class=\"dataframe\">\n",
              "  <thead>\n",
              "    <tr style=\"text-align: right;\">\n",
              "      <th></th>\n",
              "      <th>뉴스 식별자</th>\n",
              "      <th>일자</th>\n",
              "      <th>언론사</th>\n",
              "      <th>기고자</th>\n",
              "      <th>제목</th>\n",
              "      <th>통합 분류1</th>\n",
              "      <th>통합 분류2</th>\n",
              "      <th>통합 분류3</th>\n",
              "      <th>사건/사고 분류1</th>\n",
              "      <th>사건/사고 분류2</th>\n",
              "      <th>사건/사고 분류3</th>\n",
              "      <th>인물</th>\n",
              "      <th>위치</th>\n",
              "      <th>기관</th>\n",
              "      <th>키워드</th>\n",
              "      <th>특성추출</th>\n",
              "      <th>본문</th>\n",
              "      <th>URL</th>\n",
              "      <th>분석제외 여부</th>\n",
              "    </tr>\n",
              "  </thead>\n",
              "  <tbody>\n",
              "    <tr>\n",
              "      <th>0</th>\n",
              "      <td>1.500401e+06</td>\n",
              "      <td>20190228</td>\n",
              "      <td>국제신문</td>\n",
              "      <td>김태경 기자 tgkim@kookje.co.kr</td>\n",
              "      <td>빅딜이냐 스몰딜이냐 ‘영변 핵+α’ 로드맵 도출이 관건</td>\n",
              "      <td>정치&gt;북한</td>\n",
              "      <td>정치&gt;외교</td>\n",
              "      <td>NaN</td>\n",
              "      <td>NaN</td>\n",
              "      <td>NaN</td>\n",
              "      <td>NaN</td>\n",
              "      <td>김,도널드 트럼프,김의겸,김정은</td>\n",
              "      <td>북미,미국,하노이,서울,싱가포르,북한,리비아</td>\n",
              "      <td>북미,북미 정상회,미국,청와대,북미 정상회담,북한,국무위</td>\n",
              "      <td>빅딜,스몰딜,영변,로드맵,도출,비핵화,수준,상응,조치,막판,양국,협상팀,밀당,1차,...</td>\n",
              "      <td>북미,비핵화,미국,스몰딜,1차,정상회담,김정은,종전선언,연락사무소,하노이,영변,대변...</td>\n",
              "      <td>- 비핵화 수준 상응 조치 놓고\\n- 양국 협상팀 막판까지 ‘밀당’\\n- 1차 때와...</td>\n",
              "      <td>http://www.kookje.co.kr/news2011/asp/newsbody....</td>\n",
              "      <td>NaN</td>\n",
              "    </tr>\n",
              "    <tr>\n",
              "      <th>1</th>\n",
              "      <td>1.200201e+06</td>\n",
              "      <td>20190228</td>\n",
              "      <td>경인일보</td>\n",
              "      <td>조영상</td>\n",
              "      <td>하노이 도착후 실무대표단 청취 김정은, 북미회담 성공 '잰걸음'</td>\n",
              "      <td>국제&gt;국제일반</td>\n",
              "      <td>정치&gt;북한</td>\n",
              "      <td>NaN</td>\n",
              "      <td>NaN</td>\n",
              "      <td>NaN</td>\n",
              "      <td>NaN</td>\n",
              "      <td>김</td>\n",
              "      <td>북미,하노이,베트남</td>\n",
              "      <td>조선중앙통신,국무위</td>\n",
              "      <td>하노이,도착,실무대표단,청취,김정은,잰걸음,북미회담,성공,김정은,국무,위원장,시작,...</td>\n",
              "      <td>실무대표단,하노이,김정은,위원장,베트남,북미정상회담,북미회담,정상회담,조선중앙통신,...</td>\n",
              "      <td>김정은 국무위원장이 27일 시작되는 제2차 북미정상회담 성공을 위해 심혈을 기울이고...</td>\n",
              "      <td>http://www.kyeongin.com/main/view.php?key=2019...</td>\n",
              "      <td>NaN</td>\n",
              "    </tr>\n",
              "  </tbody>\n",
              "</table>\n",
              "</div>\n",
              "    <div class=\"colab-df-buttons\">\n",
              "\n",
              "  <div class=\"colab-df-container\">\n",
              "    <button class=\"colab-df-convert\" onclick=\"convertToInteractive('df-66620b67-c726-4d74-8733-69915daaac3d')\"\n",
              "            title=\"Convert this dataframe to an interactive table.\"\n",
              "            style=\"display:none;\">\n",
              "\n",
              "  <svg xmlns=\"http://www.w3.org/2000/svg\" height=\"24px\" viewBox=\"0 -960 960 960\">\n",
              "    <path d=\"M120-120v-720h720v720H120Zm60-500h600v-160H180v160Zm220 220h160v-160H400v160Zm0 220h160v-160H400v160ZM180-400h160v-160H180v160Zm440 0h160v-160H620v160ZM180-180h160v-160H180v160Zm440 0h160v-160H620v160Z\"/>\n",
              "  </svg>\n",
              "    </button>\n",
              "\n",
              "  <style>\n",
              "    .colab-df-container {\n",
              "      display:flex;\n",
              "      gap: 12px;\n",
              "    }\n",
              "\n",
              "    .colab-df-convert {\n",
              "      background-color: #E8F0FE;\n",
              "      border: none;\n",
              "      border-radius: 50%;\n",
              "      cursor: pointer;\n",
              "      display: none;\n",
              "      fill: #1967D2;\n",
              "      height: 32px;\n",
              "      padding: 0 0 0 0;\n",
              "      width: 32px;\n",
              "    }\n",
              "\n",
              "    .colab-df-convert:hover {\n",
              "      background-color: #E2EBFA;\n",
              "      box-shadow: 0px 1px 2px rgba(60, 64, 67, 0.3), 0px 1px 3px 1px rgba(60, 64, 67, 0.15);\n",
              "      fill: #174EA6;\n",
              "    }\n",
              "\n",
              "    .colab-df-buttons div {\n",
              "      margin-bottom: 4px;\n",
              "    }\n",
              "\n",
              "    [theme=dark] .colab-df-convert {\n",
              "      background-color: #3B4455;\n",
              "      fill: #D2E3FC;\n",
              "    }\n",
              "\n",
              "    [theme=dark] .colab-df-convert:hover {\n",
              "      background-color: #434B5C;\n",
              "      box-shadow: 0px 1px 3px 1px rgba(0, 0, 0, 0.15);\n",
              "      filter: drop-shadow(0px 1px 2px rgba(0, 0, 0, 0.3));\n",
              "      fill: #FFFFFF;\n",
              "    }\n",
              "  </style>\n",
              "\n",
              "    <script>\n",
              "      const buttonEl =\n",
              "        document.querySelector('#df-66620b67-c726-4d74-8733-69915daaac3d button.colab-df-convert');\n",
              "      buttonEl.style.display =\n",
              "        google.colab.kernel.accessAllowed ? 'block' : 'none';\n",
              "\n",
              "      async function convertToInteractive(key) {\n",
              "        const element = document.querySelector('#df-66620b67-c726-4d74-8733-69915daaac3d');\n",
              "        const dataTable =\n",
              "          await google.colab.kernel.invokeFunction('convertToInteractive',\n",
              "                                                    [key], {});\n",
              "        if (!dataTable) return;\n",
              "\n",
              "        const docLinkHtml = 'Like what you see? Visit the ' +\n",
              "          '<a target=\"_blank\" href=https://colab.research.google.com/notebooks/data_table.ipynb>data table notebook</a>'\n",
              "          + ' to learn more about interactive tables.';\n",
              "        element.innerHTML = '';\n",
              "        dataTable['output_type'] = 'display_data';\n",
              "        await google.colab.output.renderOutput(dataTable, element);\n",
              "        const docLink = document.createElement('div');\n",
              "        docLink.innerHTML = docLinkHtml;\n",
              "        element.appendChild(docLink);\n",
              "      }\n",
              "    </script>\n",
              "  </div>\n",
              "\n",
              "\n",
              "<div id=\"df-ba39e0cb-0f0a-4804-a1d4-6b6bfa48ea86\">\n",
              "  <button class=\"colab-df-quickchart\" onclick=\"quickchart('df-ba39e0cb-0f0a-4804-a1d4-6b6bfa48ea86')\"\n",
              "            title=\"Suggest charts.\"\n",
              "            style=\"display:none;\">\n",
              "\n",
              "<svg xmlns=\"http://www.w3.org/2000/svg\" height=\"24px\"viewBox=\"0 0 24 24\"\n",
              "     width=\"24px\">\n",
              "    <g>\n",
              "        <path d=\"M19 3H5c-1.1 0-2 .9-2 2v14c0 1.1.9 2 2 2h14c1.1 0 2-.9 2-2V5c0-1.1-.9-2-2-2zM9 17H7v-7h2v7zm4 0h-2V7h2v10zm4 0h-2v-4h2v4z\"/>\n",
              "    </g>\n",
              "</svg>\n",
              "  </button>\n",
              "\n",
              "<style>\n",
              "  .colab-df-quickchart {\n",
              "      --bg-color: #E8F0FE;\n",
              "      --fill-color: #1967D2;\n",
              "      --hover-bg-color: #E2EBFA;\n",
              "      --hover-fill-color: #174EA6;\n",
              "      --disabled-fill-color: #AAA;\n",
              "      --disabled-bg-color: #DDD;\n",
              "  }\n",
              "\n",
              "  [theme=dark] .colab-df-quickchart {\n",
              "      --bg-color: #3B4455;\n",
              "      --fill-color: #D2E3FC;\n",
              "      --hover-bg-color: #434B5C;\n",
              "      --hover-fill-color: #FFFFFF;\n",
              "      --disabled-bg-color: #3B4455;\n",
              "      --disabled-fill-color: #666;\n",
              "  }\n",
              "\n",
              "  .colab-df-quickchart {\n",
              "    background-color: var(--bg-color);\n",
              "    border: none;\n",
              "    border-radius: 50%;\n",
              "    cursor: pointer;\n",
              "    display: none;\n",
              "    fill: var(--fill-color);\n",
              "    height: 32px;\n",
              "    padding: 0;\n",
              "    width: 32px;\n",
              "  }\n",
              "\n",
              "  .colab-df-quickchart:hover {\n",
              "    background-color: var(--hover-bg-color);\n",
              "    box-shadow: 0 1px 2px rgba(60, 64, 67, 0.3), 0 1px 3px 1px rgba(60, 64, 67, 0.15);\n",
              "    fill: var(--button-hover-fill-color);\n",
              "  }\n",
              "\n",
              "  .colab-df-quickchart-complete:disabled,\n",
              "  .colab-df-quickchart-complete:disabled:hover {\n",
              "    background-color: var(--disabled-bg-color);\n",
              "    fill: var(--disabled-fill-color);\n",
              "    box-shadow: none;\n",
              "  }\n",
              "\n",
              "  .colab-df-spinner {\n",
              "    border: 2px solid var(--fill-color);\n",
              "    border-color: transparent;\n",
              "    border-bottom-color: var(--fill-color);\n",
              "    animation:\n",
              "      spin 1s steps(1) infinite;\n",
              "  }\n",
              "\n",
              "  @keyframes spin {\n",
              "    0% {\n",
              "      border-color: transparent;\n",
              "      border-bottom-color: var(--fill-color);\n",
              "      border-left-color: var(--fill-color);\n",
              "    }\n",
              "    20% {\n",
              "      border-color: transparent;\n",
              "      border-left-color: var(--fill-color);\n",
              "      border-top-color: var(--fill-color);\n",
              "    }\n",
              "    30% {\n",
              "      border-color: transparent;\n",
              "      border-left-color: var(--fill-color);\n",
              "      border-top-color: var(--fill-color);\n",
              "      border-right-color: var(--fill-color);\n",
              "    }\n",
              "    40% {\n",
              "      border-color: transparent;\n",
              "      border-right-color: var(--fill-color);\n",
              "      border-top-color: var(--fill-color);\n",
              "    }\n",
              "    60% {\n",
              "      border-color: transparent;\n",
              "      border-right-color: var(--fill-color);\n",
              "    }\n",
              "    80% {\n",
              "      border-color: transparent;\n",
              "      border-right-color: var(--fill-color);\n",
              "      border-bottom-color: var(--fill-color);\n",
              "    }\n",
              "    90% {\n",
              "      border-color: transparent;\n",
              "      border-bottom-color: var(--fill-color);\n",
              "    }\n",
              "  }\n",
              "</style>\n",
              "\n",
              "  <script>\n",
              "    async function quickchart(key) {\n",
              "      const quickchartButtonEl =\n",
              "        document.querySelector('#' + key + ' button');\n",
              "      quickchartButtonEl.disabled = true;  // To prevent multiple clicks.\n",
              "      quickchartButtonEl.classList.add('colab-df-spinner');\n",
              "      try {\n",
              "        const charts = await google.colab.kernel.invokeFunction(\n",
              "            'suggestCharts', [key], {});\n",
              "      } catch (error) {\n",
              "        console.error('Error during call to suggestCharts:', error);\n",
              "      }\n",
              "      quickchartButtonEl.classList.remove('colab-df-spinner');\n",
              "      quickchartButtonEl.classList.add('colab-df-quickchart-complete');\n",
              "    }\n",
              "    (() => {\n",
              "      let quickchartButtonEl =\n",
              "        document.querySelector('#df-ba39e0cb-0f0a-4804-a1d4-6b6bfa48ea86 button');\n",
              "      quickchartButtonEl.style.display =\n",
              "        google.colab.kernel.accessAllowed ? 'block' : 'none';\n",
              "    })();\n",
              "  </script>\n",
              "</div>\n",
              "    </div>\n",
              "  </div>\n"
            ]
          },
          "metadata": {},
          "execution_count": 5
        }
      ]
    },
    {
      "cell_type": "code",
      "metadata": {
        "colab": {
          "base_uri": "https://localhost:8080/"
        },
        "id": "ldUcy_23Vh9_",
        "outputId": "242f73c4-a3a5-413c-d36a-8efd2c9bc456"
      },
      "source": [
        "news[\"본문\"][:4]"
      ],
      "execution_count": null,
      "outputs": [
        {
          "output_type": "execute_result",
          "data": {
            "text/plain": [
              "0    - 비핵화 수준 상응 조치 놓고\\n- 양국 협상팀 막판까지 ‘밀당’\\n- 1차 때와...\n",
              "1    김정은 국무위원장이 27일 시작되는 제2차 북미정상회담 성공을 위해 심혈을 기울이고...\n",
              "2    북미가 처음으로 정상 간 단독회담과 만찬을 가지며 또다시 새로운 역사 창조에 나섰다...\n",
              "3    지난해 9월 남북정상회담 당시 리선권 북한 조국평화통일위원장의 '냉면' 발언으로 정...\n",
              "Name: 본문, dtype: object"
            ]
          },
          "metadata": {},
          "execution_count": 6
        }
      ]
    },
    {
      "cell_type": "code",
      "metadata": {
        "id": "-DmqWk6KVf9f"
      },
      "source": [
        "kkma = Kkma()\n",
        "\n",
        "sentence_list = []\n",
        "for sent in news[\"본문\"]:\n",
        "\n",
        "    sent_kkma_pos = kkma.nouns(sent)   # 명사만 추출\n",
        "    word_list = []\n",
        "    for word_pos in sent_kkma_pos:\n",
        "        word_list.append(word_pos)\n",
        "\n",
        "    sentence_list.append(word_list)"
      ],
      "execution_count": null,
      "outputs": []
    },
    {
      "cell_type": "code",
      "source": [
        "print(sentence_list[0])"
      ],
      "metadata": {
        "colab": {
          "base_uri": "https://localhost:8080/"
        },
        "id": "EzFbQCkewGD1",
        "outputId": "b099a02a-e87f-4209-96ca-12443e5e393a"
      },
      "execution_count": null,
      "outputs": [
        {
          "output_type": "stream",
          "name": "stdout",
          "text": [
            "['비핵화', '수준', '상응', '조치', '양국', '협상', '협상팀', '팀', '막판', '당', '1', '1차', '차', '때', '시간', '조율', '단계적', '접근', '동의', '예상', '종전', '종전선언', '선언', '연락', '연락사무소', '사무소', '개설', '등', '조건', '조건부', '부', '제재', '완화', '명시', '가능성', '북미', '북미회담', '회담', '빅딜', '성공', '김', '김정은', '정은', '답방', '결과', '연관', '북한', '국무', '국무위원장', '위원장', '도', '도널드', '널드', '트럼프', '미국', '대통령', '27', '27일', '일', '친교', '만찬']\n"
          ]
        }
      ]
    },
    {
      "cell_type": "code",
      "metadata": {
        "colab": {
          "base_uri": "https://localhost:8080/"
        },
        "id": "oN3-GABiWT9E",
        "outputId": "6d4d567d-5a56-4313-e276-b67576d8280a"
      },
      "source": [
        "for i in range(3):\n",
        "    print(sentence_list[i])"
      ],
      "execution_count": null,
      "outputs": [
        {
          "output_type": "stream",
          "name": "stdout",
          "text": [
            "['비핵화', '수준', '상응', '조치', '양국', '협상', '협상팀', '팀', '막판', '당', '1', '1차', '차', '때', '시간', '조율', '단계적', '접근', '동의', '예상', '종전', '종전선언', '선언', '연락', '연락사무소', '사무소', '개설', '등', '조건', '조건부', '부', '제재', '완화', '명시', '가능성', '북미', '북미회담', '회담', '빅딜', '성공', '김', '김정은', '정은', '답방', '결과', '연관', '북한', '국무', '국무위원장', '위원장', '도', '도널드', '널드', '트럼프', '미국', '대통령', '27', '27일', '일', '친교', '만찬']\n",
            "['김', '김정은', '정은', '국무', '국무위원장', '위원장', '27', '27일', '일', '시작', '저', '2', '2차', '차', '북미', '북미정상회담', '정상', '회담', '성공', '심혈', '조선', '조선중앙통신', '중앙', '통신', '이날', '26', '26일', '하노이', '도착', '리', '호텔', '실무', '실무대표단', '대표단', '보고', '조미', '수뇌', '수뇌회담', '성공적', '보장', '나라', '현지', '파견', '사이', '접촉', '정형', '결과', '을', '구체적', '청취']\n",
            "['북미', '처음', '정상', '간', '단독', '단독회담', '회담', '만찬', '역사', '창조', '결', '물', '도출', '북측', '영', '영변', '변', '핵', '핵시설', '시설', '폐기', '외', '추가', '추가적인', '적인', '비핵화', '조치', '미국', '금강산', '금강산관광', '관광', '등', '경제적', '체제', '체제보장', '보장', '여부', '양', '간', '톱', '담판', '김', '북한', '국무', '국무위원장', '위원장', '도', '도널드', '널드', '트럼프', '대통령', '27', '27일', '일', '오후', '6', '6시30분', '시', '30', '분', '현지', '현지시간', '시간']\n"
          ]
        }
      ]
    },
    {
      "cell_type": "code",
      "metadata": {
        "colab": {
          "base_uri": "https://localhost:8080/"
        },
        "id": "dTq-vtCar0JC",
        "scrolled": true,
        "outputId": "7c177178-a31b-4c17-9882-1f3865a34e77"
      },
      "source": [
        "news.shape, len(sentence_list)"
      ],
      "execution_count": null,
      "outputs": [
        {
          "output_type": "execute_result",
          "data": {
            "text/plain": [
              "((1543, 19), 1543)"
            ]
          },
          "metadata": {},
          "execution_count": 12
        }
      ]
    },
    {
      "cell_type": "code",
      "metadata": {
        "colab": {
          "base_uri": "https://localhost:8080/"
        },
        "id": "KXw8yAntaJlm",
        "outputId": "590d9375-b5f4-4660-8a2d-b5141cf897b9"
      },
      "source": [
        "[len(w) for w in sentence_list][:10]"
      ],
      "execution_count": null,
      "outputs": [
        {
          "output_type": "execute_result",
          "data": {
            "text/plain": [
              "[61, 50, 63, 48, 44, 38, 38, 60, 52, 39]"
            ]
          },
          "metadata": {},
          "execution_count": 13
        }
      ]
    },
    {
      "cell_type": "code",
      "metadata": {
        "id": "WvEiKwbiXBo7",
        "scrolled": true
      },
      "source": [
        "model = Word2Vec(sentence_list, sg=1, vector_size=100)   #sg=1 (skip-gram), 0(CBOW)"
      ],
      "execution_count": null,
      "outputs": []
    },
    {
      "cell_type": "code",
      "metadata": {
        "colab": {
          "base_uri": "https://localhost:8080/"
        },
        "id": "eccEwqqHw3jv",
        "outputId": "2c7247e4-d4e3-460c-e94e-37b88e6f89e5"
      },
      "source": [
        "model.wv[\"대한민국\"]"
      ],
      "execution_count": null,
      "outputs": [
        {
          "output_type": "execute_result",
          "data": {
            "text/plain": [
              "array([-0.07256762,  0.08911698, -0.08715031,  0.06694995, -0.02313004,\n",
              "       -0.20687076, -0.08649021,  0.27022415, -0.12703383,  0.06699064,\n",
              "       -0.19853358, -0.19894233, -0.08257393,  0.0903063 , -0.01587087,\n",
              "       -0.22113976, -0.12440667, -0.17581303, -0.07082193, -0.22830386,\n",
              "        0.01671645,  0.15208966,  0.10263077, -0.02489537, -0.0847555 ,\n",
              "       -0.0607877 , -0.14106874, -0.13739969, -0.03997231,  0.08325341,\n",
              "        0.1181296 ,  0.00691835,  0.08035949, -0.09232999, -0.07280832,\n",
              "        0.16970643,  0.01177657, -0.13537797, -0.0199808 , -0.25179365,\n",
              "       -0.06590004, -0.21542123,  0.04601484,  0.06773228, -0.03333066,\n",
              "       -0.14745252,  0.03126698, -0.1167407 , -0.033333  ,  0.11011206,\n",
              "        0.04066307, -0.18464844, -0.03669032, -0.00577888, -0.01548745,\n",
              "        0.01881286,  0.008017  , -0.03886173, -0.22605339, -0.01472617,\n",
              "       -0.03438626,  0.13155322, -0.09151663, -0.13025953, -0.12849218,\n",
              "        0.07206905,  0.03139649,  0.11283766, -0.12866852,  0.15929611,\n",
              "       -0.093106  ,  0.03746338,  0.25037035, -0.08999817,  0.09712221,\n",
              "        0.07932962, -0.02688739, -0.10030294, -0.11330152,  0.22669856,\n",
              "       -0.10232003, -0.06805854, -0.2122517 ,  0.20204507,  0.01902552,\n",
              "       -0.18431205, -0.09890412,  0.22246423,  0.06984555, -0.03497208,\n",
              "        0.15469903,  0.0932114 ,  0.06332652,  0.04401408,  0.21414714,\n",
              "        0.20373075,  0.12820199, -0.07448488,  0.03677838, -0.14911819],\n",
              "      dtype=float32)"
            ]
          },
          "metadata": {},
          "execution_count": 15
        }
      ]
    },
    {
      "cell_type": "code",
      "metadata": {
        "colab": {
          "base_uri": "https://localhost:8080/"
        },
        "id": "IBXhPZbIbJHs",
        "outputId": "f9aedcbc-9ac2-4b34-c687-3dc6167c462c"
      },
      "source": [
        "for index, word in enumerate(model.wv.index_to_key):\n",
        "    if index == 10:\n",
        "        break\n",
        "    print(\"word {}/{} is {}\".format(index, len(model.wv.index_to_key),word ))"
      ],
      "execution_count": null,
      "outputs": [
        {
          "output_type": "stream",
          "name": "stdout",
          "text": [
            "word 0/1956 is 회담\n",
            "word 1/1956 is 일\n",
            "word 2/1956 is 북미\n",
            "word 3/1956 is 차\n",
            "word 4/1956 is 2\n",
            "word 5/1956 is 정상\n",
            "word 6/1956 is 2차\n",
            "word 7/1956 is 김\n",
            "word 8/1956 is 북한\n",
            "word 9/1956 is 미국\n"
          ]
        }
      ]
    },
    {
      "cell_type": "code",
      "metadata": {
        "colab": {
          "base_uri": "https://localhost:8080/"
        },
        "id": "Pjiz6wLRXBpB",
        "outputId": "27b40216-a618-48a0-a23f-fc3bc0166461"
      },
      "source": [
        "print(model.wv.most_similar(\"대한민국\"))"
      ],
      "execution_count": null,
      "outputs": [
        {
          "output_type": "stream",
          "name": "stdout",
          "text": [
            "[('대한', 0.9957154989242554), ('민국', 0.9945785403251648), ('정치인', 0.991466224193573), ('대선', 0.9898175001144409), ('전면', 0.9894934892654419), ('단체', 0.989432692527771), ('악화', 0.9894254207611084), ('탄력', 0.9885404706001282), ('제거', 0.9884876608848572), ('사', 0.9881974458694458)]\n"
          ]
        }
      ]
    },
    {
      "cell_type": "code",
      "metadata": {
        "colab": {
          "base_uri": "https://localhost:8080/"
        },
        "id": "fgR0CKVCYUvd",
        "outputId": "249bacb2-eed2-4952-fd06-88ec97029ad4"
      },
      "source": [
        "print(model.wv.similarity(\"한국\",\"미국\"))\n",
        "print(model.wv.similarity(\"한국\",\"일본\"))\n",
        "print(model.wv.similarity(\"미국\",\"일본\"))"
      ],
      "execution_count": null,
      "outputs": [
        {
          "output_type": "stream",
          "name": "stdout",
          "text": [
            "0.16039301\n",
            "0.49715582\n",
            "0.6331122\n"
          ]
        }
      ]
    },
    {
      "cell_type": "code",
      "metadata": {
        "id": "adGZopNdcp22"
      },
      "source": [
        "# storing and loading the model\n",
        "model.save('tmp_word2vec.model')\n",
        "model = Word2Vec.load(\"tmp_word2vec.model\")"
      ],
      "execution_count": null,
      "outputs": []
    },
    {
      "cell_type": "code",
      "metadata": {
        "colab": {
          "base_uri": "https://localhost:8080/"
        },
        "id": "cPHymVsXejom",
        "outputId": "e6b5e78a-2a5a-4a0d-edb9-0ea2a0778627"
      },
      "source": [
        "# a:b = c: ?\n",
        "model.wv.most_similar(positive=['한국', '미국'], negative=['서울'])"
      ],
      "execution_count": null,
      "outputs": [
        {
          "output_type": "execute_result",
          "data": {
            "text/plain": [
              "[('핵', 0.5924729108810425),\n",
              " ('북핵', 0.590961754322052),\n",
              " ('대회', 0.5806800723075867),\n",
              " ('날짜', 0.5731920003890991),\n",
              " ('성명', 0.5731115937232971),\n",
              " ('행정부', 0.5703461766242981),\n",
              " ('북ㆍ미', 0.5702827572822571),\n",
              " ('널드', 0.5693925023078918),\n",
              " ('의회', 0.5664820075035095),\n",
              " ('최종', 0.5619248747825623)]"
            ]
          },
          "metadata": {},
          "execution_count": 25
        }
      ]
    },
    {
      "cell_type": "markdown",
      "metadata": {
        "id": "Q8BGvf7nfW1J"
      },
      "source": [
        "## Keras 에서 word2vec 훈련된 모델 사용하기 (그림형제 동화 예제)"
      ]
    },
    {
      "cell_type": "code",
      "metadata": {
        "id": "221jHvYjffO1"
      },
      "source": [
        "import requests\n",
        "import re\n",
        "res = requests.get('https://www.gutenberg.org/files/2591/2591-0.txt')\n",
        "grimm = res.text[2801:530661]                 # 그림형제의 동화 일부만 사용\n",
        "grimm = re.sub(r'[^a-zA-Z\\. ]', ' ', grimm)   # not starting with [alphabets, ., space] -> ' ' in grimm\n",
        "sentences = grimm.split('. ')                 # 문장 단위로 자름\n",
        "data = [s.lower().split() for s in sentences]"
      ],
      "execution_count": null,
      "outputs": []
    },
    {
      "cell_type": "code",
      "source": [
        "res.text[:100], len(res.text)"
      ],
      "metadata": {
        "colab": {
          "base_uri": "https://localhost:8080/"
        },
        "id": "bDBfkpjIB4Ub",
        "outputId": "b8223650-1bf6-43ae-f5b3-87e19966f13e"
      },
      "execution_count": null,
      "outputs": [
        {
          "output_type": "execute_result",
          "data": {
            "text/plain": [
              "('ï»¿The Project Gutenberg eBook of Grimmsâ\\x80\\x99 Fairy Tales, by Jacob Grimm and Wilhelm Grimm\\r\\n\\r\\nThis eB',\n",
              " 560045)"
            ]
          },
          "metadata": {},
          "execution_count": 40
        }
      ]
    },
    {
      "cell_type": "code",
      "metadata": {
        "colab": {
          "base_uri": "https://localhost:8080/"
        },
        "id": "n6b19aeNygXM",
        "outputId": "0cc7d4ed-477f-4bff-ce91-6355724b2418"
      },
      "source": [
        "len(data)  # number of sentences"
      ],
      "execution_count": null,
      "outputs": [
        {
          "output_type": "execute_result",
          "data": {
            "text/plain": [
              "3468"
            ]
          },
          "metadata": {},
          "execution_count": 27
        }
      ]
    },
    {
      "cell_type": "code",
      "metadata": {
        "colab": {
          "base_uri": "https://localhost:8080/"
        },
        "id": "lVjyfFbCgANn",
        "outputId": "9233c4be-edec-4afa-84ba-9e67d5a21606"
      },
      "source": [
        "print(data[:2])"
      ],
      "execution_count": null,
      "outputs": [
        {
          "output_type": "stream",
          "name": "stdout",
          "text": [
            "[['second', 'story', 'the', 'salad', 'the', 'story', 'of', 'the', 'youth', 'who', 'went', 'forth', 'to', 'learn', 'what', 'fear', 'was', 'king', 'grisly', 'beard', 'iron', 'hans', 'cat', 'skin', 'snow', 'white', 'and', 'rose', 'red', 'the', 'brothers', 'grimm', 'fairy', 'tales', 'the', 'golden', 'bird', 'a', 'certain', 'king', 'had', 'a', 'beautiful', 'garden', 'and', 'in', 'the', 'garden', 'stood', 'a', 'tree', 'which', 'bore', 'golden', 'apples'], ['these', 'apples', 'were', 'always', 'counted', 'and', 'about', 'the', 'time', 'when', 'they', 'began', 'to', 'grow', 'ripe', 'it', 'was', 'found', 'that', 'every', 'night', 'one', 'of', 'them', 'was', 'gone']]\n"
          ]
        }
      ]
    },
    {
      "cell_type": "code",
      "source": [
        "import numpy as np"
      ],
      "metadata": {
        "id": "BsntpmyWBi5l"
      },
      "execution_count": null,
      "outputs": []
    },
    {
      "cell_type": "code",
      "metadata": {
        "colab": {
          "base_uri": "https://localhost:8080/"
        },
        "id": "au09jqEBgNE9",
        "outputId": "5618bbab-3a6f-4e73-b6d1-c1a7bcc83743"
      },
      "source": [
        "len(data), [len(data[i]) for i in range(10)], np.shape(data)"
      ],
      "execution_count": null,
      "outputs": [
        {
          "output_type": "stream",
          "name": "stderr",
          "text": [
            "/usr/local/lib/python3.10/dist-packages/numpy/core/fromnumeric.py:2009: VisibleDeprecationWarning: Creating an ndarray from ragged nested sequences (which is a list-or-tuple of lists-or-tuples-or ndarrays with different lengths or shapes) is deprecated. If you meant to do this, you must specify 'dtype=object' when creating the ndarray.\n",
            "  result = asarray(a).shape\n"
          ]
        },
        {
          "output_type": "execute_result",
          "data": {
            "text/plain": [
              "(3468, [55, 26, 19, 26, 23, 41, 48, 21, 18, 32], (3468,))"
            ]
          },
          "metadata": {},
          "execution_count": 36
        }
      ]
    },
    {
      "cell_type": "code",
      "metadata": {
        "id": "2eJo4MgSfoZF"
      },
      "source": [
        "model = Word2Vec(data,             # 리스트 형태의 데이터\n",
        "                 sg=1,             # 0: CBOW, 1: Skip-gram\n",
        "                 vector_size=100,  # 벡터 크기\n",
        "                 window=3,         # 고려할 앞뒤 폭(앞뒤 3단어)\n",
        "                 min_count=3,      # 사용할 단어의 최소 빈도(3회 이하 단어 무시)\n",
        "                 workers=4)        # 동시에 처리할 작업 수(코어 수와 비슷하게 설정)"
      ],
      "execution_count": null,
      "outputs": []
    },
    {
      "cell_type": "code",
      "source": [
        "len(model.wv.index_to_key), model.wv.index_to_key[:3]          # 전체 단어의 갯수"
      ],
      "metadata": {
        "colab": {
          "base_uri": "https://localhost:8080/"
        },
        "id": "3aYKbdYOCbFK",
        "outputId": "637d630d-5811-4488-8320-926f441146b3"
      },
      "execution_count": null,
      "outputs": [
        {
          "output_type": "execute_result",
          "data": {
            "text/plain": [
              "(2278, ['the', 'and', 'to'])"
            ]
          },
          "metadata": {},
          "execution_count": 47
        }
      ]
    },
    {
      "cell_type": "code",
      "source": [
        "len(model.wv.key_to_index), [model.wv.key_to_index[i] for i in ['the', 'and', 'to']]"
      ],
      "metadata": {
        "colab": {
          "base_uri": "https://localhost:8080/"
        },
        "id": "wm_tcXfqCs_K",
        "outputId": "d0c36657-a14d-48d7-9066-4cbbb44e092b"
      },
      "execution_count": null,
      "outputs": [
        {
          "output_type": "execute_result",
          "data": {
            "text/plain": [
              "(2278, [0, 1, 2])"
            ]
          },
          "metadata": {},
          "execution_count": 52
        }
      ]
    },
    {
      "cell_type": "code",
      "metadata": {
        "colab": {
          "base_uri": "https://localhost:8080/"
        },
        "id": "tWTC7DUmgk3y",
        "outputId": "30d972e4-326b-4e5b-9bc8-f86b88851016"
      },
      "source": [
        "model.wv.vectors.shape"
      ],
      "execution_count": null,
      "outputs": [
        {
          "output_type": "execute_result",
          "data": {
            "text/plain": [
              "(2278, 100)"
            ]
          },
          "metadata": {},
          "execution_count": 53
        }
      ]
    },
    {
      "cell_type": "code",
      "metadata": {
        "colab": {
          "base_uri": "https://localhost:8080/"
        },
        "id": "EDkUVLSMgx3O",
        "outputId": "c85cb0dd-31f8-4fb2-c530-7e946d55c0e7"
      },
      "source": [
        "import tensorflow as tf\n",
        "from tensorflow import keras\n",
        "from tensorflow.keras.models import Sequential\n",
        "from tensorflow.keras.layers import Embedding\n",
        "\n",
        "NUM_WORDS, EMB_DIM = model.wv.vectors.shape\n",
        "\n",
        "emb = Embedding(input_dim=NUM_WORDS, output_dim=EMB_DIM,\n",
        "                trainable=False, weights=[model.wv.vectors])   # pre-trained weights\n",
        "keras_model = Sequential()\n",
        "keras_model.add(emb)\n",
        "keras_model.summary()"
      ],
      "execution_count": null,
      "outputs": [
        {
          "output_type": "stream",
          "name": "stdout",
          "text": [
            "Model: \"sequential\"\n",
            "_________________________________________________________________\n",
            " Layer (type)                Output Shape              Param #   \n",
            "=================================================================\n",
            " embedding (Embedding)       (None, None, 100)         227800    \n",
            "                                                                 \n",
            "=================================================================\n",
            "Total params: 227,800\n",
            "Trainable params: 0\n",
            "Non-trainable params: 227,800\n",
            "_________________________________________________________________\n"
          ]
        }
      ]
    },
    {
      "cell_type": "code",
      "metadata": {
        "colab": {
          "base_uri": "https://localhost:8080/"
        },
        "id": "_aoIvPLvhdX9",
        "outputId": "2c3d8714-cd8b-4c96-96ae-17cf385e56fc"
      },
      "source": [
        "i = model.wv.key_to_index['princess']; i"
      ],
      "execution_count": null,
      "outputs": [
        {
          "output_type": "execute_result",
          "data": {
            "text/plain": [
              "150"
            ]
          },
          "metadata": {},
          "execution_count": 56
        }
      ]
    },
    {
      "cell_type": "code",
      "source": [
        "model.wv['princess']"
      ],
      "metadata": {
        "colab": {
          "base_uri": "https://localhost:8080/"
        },
        "id": "VwRBBwFBEf3V",
        "outputId": "aacb0d2b-5ddd-42ff-98b8-f47bf28f3a18"
      },
      "execution_count": null,
      "outputs": [
        {
          "output_type": "execute_result",
          "data": {
            "text/plain": [
              "array([-0.00695892,  0.17375733,  0.04456573,  0.01114895,  0.09468016,\n",
              "       -0.18058646,  0.13792826,  0.40240207, -0.13765974, -0.27655154,\n",
              "       -0.07184786, -0.39199242,  0.0387387 ,  0.10020339,  0.04268656,\n",
              "       -0.10522345,  0.1873609 , -0.03534386, -0.01092807, -0.35921362,\n",
              "        0.15367466,  0.08903914,  0.18724665, -0.09519931, -0.00214643,\n",
              "        0.1011335 , -0.09533204, -0.00863734, -0.21188506,  0.09051664,\n",
              "        0.14478771, -0.06185848,  0.12733728, -0.24312842, -0.11572465,\n",
              "        0.15930709,  0.00836015, -0.08920947, -0.11537572, -0.23231295,\n",
              "       -0.1250649 , -0.01019364, -0.1593282 , -0.1427351 ,  0.03422406,\n",
              "       -0.06868449, -0.10351817, -0.07706441,  0.22844721,  0.06094399,\n",
              "        0.1773585 , -0.16935614, -0.144626  , -0.08931911,  0.08241267,\n",
              "       -0.08246881,  0.01871883,  0.01368912, -0.09212566,  0.28049672,\n",
              "       -0.07941839, -0.21613191,  0.07803544,  0.03135386, -0.10234172,\n",
              "        0.18195133, -0.00054273,  0.11391727, -0.2747157 ,  0.22325967,\n",
              "       -0.03631322,  0.0425561 ,  0.10958264, -0.05627293,  0.1382462 ,\n",
              "       -0.08770768, -0.05192596, -0.02131543, -0.15519232,  0.03557129,\n",
              "       -0.22240473,  0.09788268, -0.12268988,  0.33350226, -0.13874444,\n",
              "       -0.00055065,  0.1582663 , -0.03640458,  0.15313159,  0.0831762 ,\n",
              "        0.16794236,  0.08614403,  0.08894213, -0.069121  ,  0.35338792,\n",
              "        0.04723488,  0.1882001 , -0.1669478 , -0.04051382, -0.10983429],\n",
              "      dtype=float32)"
            ]
          },
          "metadata": {},
          "execution_count": 58
        }
      ]
    },
    {
      "cell_type": "code",
      "metadata": {
        "colab": {
          "base_uri": "https://localhost:8080/"
        },
        "id": "9VqyeUrbiKx4",
        "outputId": "ce1bcdd0-71bb-4ec4-e6fb-cc64c0a7ab89"
      },
      "source": [
        "keras_model(i)   # the same"
      ],
      "execution_count": null,
      "outputs": [
        {
          "output_type": "execute_result",
          "data": {
            "text/plain": [
              "<tf.Tensor: shape=(100,), dtype=float32, numpy=\n",
              "array([-0.00695892,  0.17375733,  0.04456573,  0.01114895,  0.09468016,\n",
              "       -0.18058646,  0.13792826,  0.40240207, -0.13765974, -0.27655154,\n",
              "       -0.07184786, -0.39199242,  0.0387387 ,  0.10020339,  0.04268656,\n",
              "       -0.10522345,  0.1873609 , -0.03534386, -0.01092807, -0.35921362,\n",
              "        0.15367466,  0.08903914,  0.18724665, -0.09519931, -0.00214643,\n",
              "        0.1011335 , -0.09533204, -0.00863734, -0.21188506,  0.09051664,\n",
              "        0.14478771, -0.06185848,  0.12733728, -0.24312842, -0.11572465,\n",
              "        0.15930709,  0.00836015, -0.08920947, -0.11537572, -0.23231295,\n",
              "       -0.1250649 , -0.01019364, -0.1593282 , -0.1427351 ,  0.03422406,\n",
              "       -0.06868449, -0.10351817, -0.07706441,  0.22844721,  0.06094399,\n",
              "        0.1773585 , -0.16935614, -0.144626  , -0.08931911,  0.08241267,\n",
              "       -0.08246881,  0.01871883,  0.01368912, -0.09212566,  0.28049672,\n",
              "       -0.07941839, -0.21613191,  0.07803544,  0.03135386, -0.10234172,\n",
              "        0.18195133, -0.00054273,  0.11391727, -0.2747157 ,  0.22325967,\n",
              "       -0.03631322,  0.0425561 ,  0.10958264, -0.05627293,  0.1382462 ,\n",
              "       -0.08770768, -0.05192596, -0.02131543, -0.15519232,  0.03557129,\n",
              "       -0.22240473,  0.09788268, -0.12268988,  0.33350226, -0.13874444,\n",
              "       -0.00055065,  0.1582663 , -0.03640458,  0.15313159,  0.0831762 ,\n",
              "        0.16794236,  0.08614403,  0.08894213, -0.069121  ,  0.35338792,\n",
              "        0.04723488,  0.1882001 , -0.1669478 , -0.04051382, -0.10983429],\n",
              "      dtype=float32)>"
            ]
          },
          "metadata": {},
          "execution_count": 57
        }
      ]
    },
    {
      "cell_type": "code",
      "metadata": {
        "colab": {
          "base_uri": "https://localhost:8080/"
        },
        "id": "yDLKPpomhzXV",
        "outputId": "14364290-55b8-4941-94b9-4061d7a3c9ac"
      },
      "source": [
        "keras_model(i) == keras_model.predict([i])"
      ],
      "execution_count": null,
      "outputs": [
        {
          "output_type": "stream",
          "name": "stdout",
          "text": [
            "1/1 [==============================] - 0s 130ms/step\n"
          ]
        },
        {
          "output_type": "execute_result",
          "data": {
            "text/plain": [
              "<tf.Tensor: shape=(1, 100), dtype=bool, numpy=\n",
              "array([[ True,  True,  True,  True,  True,  True,  True,  True,  True,\n",
              "         True,  True,  True,  True,  True,  True,  True,  True,  True,\n",
              "         True,  True,  True,  True,  True,  True,  True,  True,  True,\n",
              "         True,  True,  True,  True,  True,  True,  True,  True,  True,\n",
              "         True,  True,  True,  True,  True,  True,  True,  True,  True,\n",
              "         True,  True,  True,  True,  True,  True,  True,  True,  True,\n",
              "         True,  True,  True,  True,  True,  True,  True,  True,  True,\n",
              "         True,  True,  True,  True,  True,  True,  True,  True,  True,\n",
              "         True,  True,  True,  True,  True,  True,  True,  True,  True,\n",
              "         True,  True,  True,  True,  True,  True,  True,  True,  True,\n",
              "         True,  True,  True,  True,  True,  True,  True,  True,  True,\n",
              "         True]])>"
            ]
          },
          "metadata": {},
          "execution_count": 59
        }
      ]
    },
    {
      "cell_type": "code",
      "metadata": {
        "colab": {
          "base_uri": "https://localhost:8080/"
        },
        "id": "oc9XoWCwiO6k",
        "outputId": "5d2099b9-2500-4a49-b448-8c6ea5b642fa"
      },
      "source": [
        "model.wv['princess'] == keras_model(i)"
      ],
      "execution_count": null,
      "outputs": [
        {
          "output_type": "execute_result",
          "data": {
            "text/plain": [
              "<tf.Tensor: shape=(100,), dtype=bool, numpy=\n",
              "array([ True,  True,  True,  True,  True,  True,  True,  True,  True,\n",
              "        True,  True,  True,  True,  True,  True,  True,  True,  True,\n",
              "        True,  True,  True,  True,  True,  True,  True,  True,  True,\n",
              "        True,  True,  True,  True,  True,  True,  True,  True,  True,\n",
              "        True,  True,  True,  True,  True,  True,  True,  True,  True,\n",
              "        True,  True,  True,  True,  True,  True,  True,  True,  True,\n",
              "        True,  True,  True,  True,  True,  True,  True,  True,  True,\n",
              "        True,  True,  True,  True,  True,  True,  True,  True,  True,\n",
              "        True,  True,  True,  True,  True,  True,  True,  True,  True,\n",
              "        True,  True,  True,  True,  True,  True,  True,  True,  True,\n",
              "        True,  True,  True,  True,  True,  True,  True,  True,  True,\n",
              "        True])>"
            ]
          },
          "metadata": {},
          "execution_count": 61
        }
      ]
    },
    {
      "cell_type": "markdown",
      "metadata": {
        "id": "nVFMTc1NjJSi"
      },
      "source": [
        "## Keras 에서 직접 Word2Vec 훈련도 가능\n",
        "- http://doc.mindscale.kr/km/unstructured/11.html"
      ]
    },
    {
      "cell_type": "markdown",
      "metadata": {
        "id": "cPa-oF9bXBpP"
      },
      "source": [
        "## NLTK 이용한 문장의 유사도\n",
        "- NLTK (Natural Language ToolKit) 라이브러리 사용"
      ]
    },
    {
      "cell_type": "code",
      "metadata": {
        "id": "2DIso7TWX-yl"
      },
      "source": [
        "!pip install nltk"
      ],
      "execution_count": null,
      "outputs": []
    },
    {
      "cell_type": "code",
      "metadata": {
        "colab": {
          "base_uri": "https://localhost:8080/"
        },
        "id": "DcU6fzqcX-ym",
        "outputId": "90902cc9-9677-4acb-b9b6-32b527f754c5"
      },
      "source": [
        "# simple exercise\n",
        "import nltk\n",
        "nltk.download('punkt')\n",
        "sentence = \"At eight o'clock on Thursday morning Arthur didn't feel very good.\"\n",
        "tokens = nltk.word_tokenize(sentence)\n",
        "tokens"
      ],
      "execution_count": null,
      "outputs": [
        {
          "output_type": "stream",
          "name": "stderr",
          "text": [
            "[nltk_data] Downloading package punkt to /root/nltk_data...\n",
            "[nltk_data]   Unzipping tokenizers/punkt.zip.\n"
          ]
        },
        {
          "output_type": "execute_result",
          "data": {
            "text/plain": [
              "['At',\n",
              " 'eight',\n",
              " \"o'clock\",\n",
              " 'on',\n",
              " 'Thursday',\n",
              " 'morning',\n",
              " 'Arthur',\n",
              " 'did',\n",
              " \"n't\",\n",
              " 'feel',\n",
              " 'very',\n",
              " 'good',\n",
              " '.']"
            ]
          },
          "metadata": {},
          "execution_count": 62
        }
      ]
    },
    {
      "cell_type": "code",
      "metadata": {
        "colab": {
          "base_uri": "https://localhost:8080/"
        },
        "id": "71KHyNHlX-ym",
        "outputId": "ed877256-cf1e-41cb-fb8a-7a4ebad11f4a"
      },
      "source": [
        "nltk.download('averaged_perceptron_tagger')\n",
        "tagged = nltk.pos_tag(tokens)\n",
        "tagged[0:6]"
      ],
      "execution_count": null,
      "outputs": [
        {
          "output_type": "stream",
          "name": "stderr",
          "text": [
            "[nltk_data] Downloading package averaged_perceptron_tagger to\n",
            "[nltk_data]     /root/nltk_data...\n",
            "[nltk_data]   Unzipping taggers/averaged_perceptron_tagger.zip.\n"
          ]
        },
        {
          "output_type": "execute_result",
          "data": {
            "text/plain": [
              "[('At', 'IN'),\n",
              " ('eight', 'CD'),\n",
              " (\"o'clock\", 'NN'),\n",
              " ('on', 'IN'),\n",
              " ('Thursday', 'NNP'),\n",
              " ('morning', 'NN')]"
            ]
          },
          "metadata": {},
          "execution_count": 63
        }
      ]
    },
    {
      "cell_type": "markdown",
      "source": [
        "- 'IN' - preposition or subordinating conjunction\n",
        "- 'CD' - cardinal number. In English, cardinal numbers are words for specific numbers like one, two, three, etc.\n",
        "- 'NN' - noun, singular or mass\n",
        "- 'NNP' - proper noun (고유명사), singular\n",
        "- ask ChatGPT for more"
      ],
      "metadata": {
        "id": "pyHlwD_HFqfY"
      }
    },
    {
      "cell_type": "code",
      "metadata": {
        "colab": {
          "base_uri": "https://localhost:8080/"
        },
        "id": "bn7sVEJdXBpR",
        "outputId": "b3da166c-d546-4639-c69d-8078aa184ee7"
      },
      "source": [
        "# edit_distance: 문자열이 얼마나 다른지 편집거리를 이용해 유사도 판단\n",
        "sentence_list = [\"우리 모두 함께 놀자\", \"모두 같이 놀자\", \"놀자\", \"모두 다 같이\"]\n",
        "\n",
        "for i in sentence_list:\n",
        "    print(\"'\", i, \"'\")\n",
        "    for j in sentence_list:\n",
        "        print(\"\\t\", j, \" : \", end='')\n",
        "        print(nltk.edit_distance(i, j), )\n",
        "    print()"
      ],
      "execution_count": null,
      "outputs": [
        {
          "output_type": "stream",
          "name": "stdout",
          "text": [
            "' 우리 모두 함께 놀자 '\n",
            "\t 우리 모두 함께 놀자  : 0\n",
            "\t 모두 같이 놀자  : 5\n",
            "\t 놀자  : 9\n",
            "\t 모두 다 같이  : 7\n",
            "\n",
            "' 모두 같이 놀자 '\n",
            "\t 우리 모두 함께 놀자  : 5\n",
            "\t 모두 같이 놀자  : 0\n",
            "\t 놀자  : 6\n",
            "\t 모두 다 같이  : 4\n",
            "\n",
            "' 놀자 '\n",
            "\t 우리 모두 함께 놀자  : 9\n",
            "\t 모두 같이 놀자  : 6\n",
            "\t 놀자  : 0\n",
            "\t 모두 다 같이  : 7\n",
            "\n",
            "' 모두 다 같이 '\n",
            "\t 우리 모두 함께 놀자  : 7\n",
            "\t 모두 같이 놀자  : 4\n",
            "\t 놀자  : 7\n",
            "\t 모두 다 같이  : 0\n",
            "\n"
          ]
        }
      ]
    },
    {
      "cell_type": "code",
      "metadata": {
        "id": "wgkIida2XBpX"
      },
      "source": [
        "from sklearn.feature_extraction.text import TfidfVectorizer, CountVectorizer\n",
        "\n",
        "sentence_list = ['우리 모두 함께 놀자','모두 같이 놀자']\n",
        "\n",
        "tfidf = TfidfVectorizer()\n",
        "tfidf_vec = tfidf.fit_transform(sentence_list)\n",
        "\n",
        "count = CountVectorizer()\n",
        "count_vec = count.fit_transform(sentence_list)"
      ],
      "execution_count": null,
      "outputs": []
    },
    {
      "cell_type": "code",
      "metadata": {
        "colab": {
          "base_uri": "https://localhost:8080/"
        },
        "id": "h6bVb7w2X-yq",
        "outputId": "668453f0-7896-4db4-88c1-6809b246fa4c"
      },
      "source": [
        "tfidf.get_feature_names_out()"
      ],
      "execution_count": null,
      "outputs": [
        {
          "output_type": "execute_result",
          "data": {
            "text/plain": [
              "array(['같이', '놀자', '모두', '우리', '함께'], dtype=object)"
            ]
          },
          "metadata": {},
          "execution_count": 69
        }
      ]
    },
    {
      "cell_type": "code",
      "source": [
        "tfidf_vec.toarray()"
      ],
      "metadata": {
        "colab": {
          "base_uri": "https://localhost:8080/"
        },
        "id": "ve3gsPM4HpM_",
        "outputId": "b59bc0eb-f2d0-454d-9001-c9eba1b0cb1f"
      },
      "execution_count": null,
      "outputs": [
        {
          "output_type": "execute_result",
          "data": {
            "text/plain": [
              "array([[0.        , 0.40993715, 0.40993715, 0.57615236, 0.57615236],\n",
              "       [0.70490949, 0.50154891, 0.50154891, 0.        , 0.        ]])"
            ]
          },
          "metadata": {},
          "execution_count": 70
        }
      ]
    },
    {
      "cell_type": "code",
      "metadata": {
        "colab": {
          "base_uri": "https://localhost:8080/"
        },
        "id": "ayjiiYS5XBpd",
        "outputId": "cb3082f8-3dc2-4c4e-a29f-51087caf99c8"
      },
      "source": [
        "# similarity of two sentences\n",
        "\n",
        "from sklearn.metrics.pairwise import cosine_similarity\n",
        "\n",
        "tfidf_cosine = cosine_similarity(tfidf_vec[0].toarray(), tfidf_vec[1].toarray())[0][0]\n",
        "count_cosine = cosine_similarity(count_vec[0].toarray(), count_vec[1].toarray())[0][0]\n",
        "\n",
        "print(\"tfidf consine similarity : \", tfidf_cosine)\n",
        "print(\"countvectorizer consine similarity : \", count_cosine)"
      ],
      "execution_count": null,
      "outputs": [
        {
          "output_type": "stream",
          "name": "stdout",
          "text": [
            "tfidf consine similarity :  0.4112070550676187\n",
            "countvectorizer consine similarity :  0.5773502691896258\n"
          ]
        }
      ]
    },
    {
      "cell_type": "code",
      "metadata": {
        "colab": {
          "base_uri": "https://localhost:8080/"
        },
        "id": "M5JsfLKlleje",
        "outputId": "37015bad-2882-48a6-9ef6-7af4e822f92a"
      },
      "source": [
        "# 직접 구현시 코사인 유사도\n",
        "import numpy as np\n",
        "\n",
        "def my_cosine_similarity(x, y):  # x, y arrays\n",
        "    return np.sum(x*y) / np.sqrt((np.sum(x**2)*np.sum(y**2)))\n",
        "\n",
        "my_tfidf = my_cosine_similarity(tfidf_vec.toarray()[0], tfidf_vec.toarray()[1])\n",
        "my_count = my_cosine_similarity(count_vec.toarray()[0], count_vec.toarray()[1])\n",
        "\n",
        "print(\"my tfidf consine similarity : \", my_tfidf)\n",
        "print(\"my countvectorizer consine similarity : \", my_count)"
      ],
      "execution_count": null,
      "outputs": [
        {
          "output_type": "stream",
          "name": "stdout",
          "text": [
            "my tfidf consine similarity :  0.4112070550676187\n",
            "my countvectorizer consine similarity :  0.5773502691896258\n"
          ]
        }
      ]
    },
    {
      "cell_type": "code",
      "metadata": {
        "colab": {
          "base_uri": "https://localhost:8080/"
        },
        "id": "P6L32oerX-yt",
        "outputId": "08a5a76b-4a14-4d82-92dd-be0c4b0a0f1b"
      },
      "source": [
        "# Jaccard similarity\n",
        "sentence_list = ['우리 모두 함께 놀자','모두 같이 놀자']\n",
        "\n",
        "def get_jaccard_sim(str1, str2):\n",
        "    a = set(str1.split())\n",
        "    b = set(str2.split())\n",
        "    c = a.intersection(b)\n",
        "    return float(len(c)) / (len(a) + len(b) - len(c))\n",
        "\n",
        "get_jaccard_sim(sentence_list[0], sentence_list[1])"
      ],
      "execution_count": null,
      "outputs": [
        {
          "output_type": "execute_result",
          "data": {
            "text/plain": [
              "0.4"
            ]
          },
          "metadata": {},
          "execution_count": 73
        }
      ]
    },
    {
      "cell_type": "markdown",
      "metadata": {
        "id": "k52GBZL85vhE"
      },
      "source": [
        "# Word2Vec - English\n",
        "- https://machinelearningmastery.com/develop-word-embeddings-python-gensim/\n",
        "- word2vec version 3 -> 4: changes in functions\n",
        "  - see https://github.com/RaRe-Technologies/gensim/wiki/Migrating-from-Gensim-3.x-to-4\n",
        "  - size -> vector_size\n",
        "  - index2word and index2entity -> index_to_key\n",
        "  - vocab[dict] -> key_to_index[dict]\n",
        "  - most_similar(), wmdistance(), doesnt_match(), similarity(), & others moved to KeyedVectors (model.wv)"
      ]
    },
    {
      "cell_type": "code",
      "source": [
        "!pip install gensim"
      ],
      "metadata": {
        "colab": {
          "base_uri": "https://localhost:8080/"
        },
        "id": "vU01ISbG9iAS",
        "outputId": "aead4283-90bd-4abe-8034-b9849f15aec3"
      },
      "execution_count": null,
      "outputs": [
        {
          "output_type": "stream",
          "name": "stdout",
          "text": [
            "Requirement already satisfied: gensim in /usr/local/lib/python3.10/dist-packages (4.3.1)\n",
            "Requirement already satisfied: numpy>=1.18.5 in /usr/local/lib/python3.10/dist-packages (from gensim) (1.23.5)\n",
            "Requirement already satisfied: scipy>=1.7.0 in /usr/local/lib/python3.10/dist-packages (from gensim) (1.10.1)\n",
            "Requirement already satisfied: smart-open>=1.8.1 in /usr/local/lib/python3.10/dist-packages (from gensim) (6.3.0)\n"
          ]
        }
      ]
    },
    {
      "cell_type": "code",
      "metadata": {
        "colab": {
          "base_uri": "https://localhost:8080/"
        },
        "id": "t-zErPLY5vhF",
        "outputId": "2fc5c04c-c5bb-4899-9497-e5a8016a7f39"
      },
      "source": [
        "from gensim.models import Word2Vec\n",
        "# define training data\n",
        "sentences = [['this', 'is', 'the', 'first', 'sentence', 'for', 'word2vec'],\n",
        "\t\t\t ['this', 'is', 'the', 'second', 'sentence'],\n",
        "\t\t\t ['yet', 'another', 'sentence'],\n",
        "\t\t \t ['one', 'more', 'sentence'],\n",
        "\t\t\t ['and', 'the', 'final', 'sentence']]\n",
        "\n",
        "new_sentences = [['this', 'is', 'the', 'main', 'sentence'],\n",
        "                 ['very', 'important', 'sentence']]\n",
        "\n",
        "# construct model (with initial train)\n",
        "model = Word2Vec(sentences, min_count=1, vector_size=5)  # automatially train it\n",
        "\n",
        "# continue training with the new data\n",
        "model.build_vocab(new_sentences, update=True)\n",
        "model.train(new_sentences, total_examples=len(new_sentences), epochs=10)\n",
        "\n",
        "# summarize the loaded model\n",
        "print(model)"
      ],
      "execution_count": null,
      "outputs": [
        {
          "output_type": "stream",
          "name": "stderr",
          "text": [
            "WARNING:gensim.models.word2vec:Effective 'alpha' higher than previous training cycles\n"
          ]
        },
        {
          "output_type": "stream",
          "name": "stdout",
          "text": [
            "Word2Vec<vocab=17, vector_size=5, alpha=0.025>\n"
          ]
        }
      ]
    },
    {
      "cell_type": "code",
      "metadata": {
        "colab": {
          "base_uri": "https://localhost:8080/"
        },
        "id": "pVEq24EH5vhG",
        "outputId": "09107a71-279a-477c-eaeb-6d7ca59629c3"
      },
      "source": [
        "# summarize vocabulary (to see learned vocabulary of tokens (words) )\n",
        "model.wv.key_to_index"
      ],
      "execution_count": null,
      "outputs": [
        {
          "output_type": "execute_result",
          "data": {
            "text/plain": [
              "{'sentence': 0,\n",
              " 'the': 1,\n",
              " 'is': 2,\n",
              " 'this': 3,\n",
              " 'final': 4,\n",
              " 'and': 5,\n",
              " 'more': 6,\n",
              " 'one': 7,\n",
              " 'another': 8,\n",
              " 'yet': 9,\n",
              " 'second': 10,\n",
              " 'word2vec': 11,\n",
              " 'for': 12,\n",
              " 'first': 13,\n",
              " 'main': 14,\n",
              " 'very': 15,\n",
              " 'important': 16}"
            ]
          },
          "metadata": {},
          "execution_count": 88
        }
      ]
    },
    {
      "cell_type": "code",
      "source": [
        "# access vector for one word\n",
        "words = list(model.wv.key_to_index.keys())\n",
        "words"
      ],
      "metadata": {
        "colab": {
          "base_uri": "https://localhost:8080/"
        },
        "id": "xESBnMxOm8Ok",
        "outputId": "6497a7b6-eaf2-4821-f589-fa672240b945"
      },
      "execution_count": null,
      "outputs": [
        {
          "output_type": "execute_result",
          "data": {
            "text/plain": [
              "['sentence',\n",
              " 'the',\n",
              " 'is',\n",
              " 'this',\n",
              " 'final',\n",
              " 'and',\n",
              " 'more',\n",
              " 'one',\n",
              " 'another',\n",
              " 'yet',\n",
              " 'second',\n",
              " 'word2vec',\n",
              " 'for',\n",
              " 'first',\n",
              " 'main',\n",
              " 'very',\n",
              " 'important']"
            ]
          },
          "metadata": {},
          "execution_count": 89
        }
      ]
    },
    {
      "cell_type": "code",
      "source": [
        "model.wv['sentence']"
      ],
      "metadata": {
        "colab": {
          "base_uri": "https://localhost:8080/"
        },
        "id": "P4-lWCXH_dbp",
        "outputId": "487907d8-3d46-4b2f-fdb4-8adde1c63515"
      },
      "execution_count": null,
      "outputs": [
        {
          "output_type": "execute_result",
          "data": {
            "text/plain": [
              "array([-0.01072454,  0.00472863,  0.10206699,  0.18018547, -0.186059  ],\n",
              "      dtype=float32)"
            ]
          },
          "metadata": {},
          "execution_count": 90
        }
      ]
    },
    {
      "cell_type": "code",
      "source": [
        "# save model\n",
        "model.save('model.bin')\n",
        "# load model\n",
        "new_model = Word2Vec.load('model.bin')\n",
        "print(new_model)"
      ],
      "metadata": {
        "colab": {
          "base_uri": "https://localhost:8080/"
        },
        "id": "zog4Xb7CnFrn",
        "outputId": "82ab339d-698a-4aa0-cd56-52f63005b661"
      },
      "execution_count": null,
      "outputs": [
        {
          "output_type": "stream",
          "name": "stdout",
          "text": [
            "Word2Vec<vocab=17, vector_size=5, alpha=0.025>\n"
          ]
        }
      ]
    },
    {
      "cell_type": "code",
      "metadata": {
        "colab": {
          "base_uri": "https://localhost:8080/",
          "height": 430
        },
        "id": "wcEldlZC5vhH",
        "outputId": "f02de265-a4cb-48d4-a2c1-ac8643f5ca1d"
      },
      "source": [
        "from sklearn.decomposition import PCA\n",
        "import matplotlib.pyplot as plt\n",
        "%matplotlib inline\n",
        "\n",
        "X = model.wv[words]\n",
        "pca = PCA(n_components=2)\n",
        "result = pca.fit_transform(X)\n",
        "\n",
        "plt.scatter(result[:, 0], result[:, 1])\n",
        "words = list(model.wv.key_to_index.keys())\n",
        "for i, word in enumerate(words):\n",
        "    plt.annotate(word, xy=(result[i, 0], result[i, 1]))\n",
        "plt.show()"
      ],
      "execution_count": null,
      "outputs": [
        {
          "output_type": "display_data",
          "data": {
            "text/plain": [
              "<Figure size 640x480 with 1 Axes>"
            ],
            "image/png": "[encoded data removed]"
          },
          "metadata": {}
        }
      ]
    },
    {
      "cell_type": "markdown",
      "metadata": {
        "id": "gCcWi_BU2UHh"
      },
      "source": [
        "# Using pre-trained Word2Vec model\n",
        "- GoogleNews-vectors-negative300.bin\n",
        "- Korean version \"ko.vec\" available"
      ]
    },
    {
      "cell_type": "code",
      "metadata": {
        "id": "TrabgKiToBNl"
      },
      "source": [
        "import gensim\n",
        "from gensim.models import word2vec\n",
        "from gensim.models import KeyedVectors\n",
        "from sklearn.metrics.pairwise import cosine_similarity"
      ],
      "execution_count": null,
      "outputs": []
    },
    {
      "cell_type": "markdown",
      "source": [
        "- Its size is too big (bigger than 1.6 GB) and downloading may not be possible."
      ],
      "metadata": {
        "id": "gDoFRp3Xbicd"
      }
    },
    {
      "cell_type": "code",
      "metadata": {
        "colab": {
          "base_uri": "https://localhost:8080/",
          "height": 53
        },
        "id": "YPs7X9fOoB6w",
        "outputId": "0dd18f55-4901-4aeb-ba11-860cd5bb18bf"
      },
      "source": [
        "# skipped because of its huge size\n",
        "'''\n",
        "!wget -P ./ -c \"https://s3.amazonaws.com/dl4j-distribution/GoogleNews-vectors-negative300.bin.gz\"\n",
        "EMBEDDING_FILE = './GoogleNews-vectors-negative300.bin.gz'\n",
        "word_vectors = KeyedVectors.load_word2vec_format(EMBEDDING_FILE, binary=True)\n",
        "print(word_vectors.vectors.shape)\n",
        "'''"
      ],
      "execution_count": null,
      "outputs": [
        {
          "output_type": "execute_result",
          "data": {
            "text/plain": [
              "'\\n!wget -P ./ -c \"https://s3.amazonaws.com/dl4j-distribution/GoogleNews-vectors-negative300.bin.gz\"\\nEMBEDDING_FILE = \\'./GoogleNews-vectors-negative300.bin.gz\\'\\nword_vectors = KeyedVectors.load_word2vec_format(EMBEDDING_FILE, binary=True)\\nprint(word_vectors.vectors.shape)\\n'"
            ],
            "application/vnd.google.colaboratory.intrinsic+json": {
              "type": "string"
            }
          },
          "metadata": {},
          "execution_count": 109
        }
      ]
    },
    {
      "cell_type": "markdown",
      "metadata": {
        "id": "EOkmC9NyoJiU"
      },
      "source": [
        "- Pre-trained Word2Vec\n",
        "  - for english: (about 3 GB, and takes long to download): https://code.google.com/archive/p/word2vec\n",
        "  - word vectors of 30+ languages: https://github.com/Kyubyong/wordvectors"
      ]
    },
    {
      "cell_type": "markdown",
      "metadata": {
        "id": "h5IKa_teWpZ5"
      },
      "source": [
        "# Glove - pretrained word embedder"
      ]
    },
    {
      "cell_type": "code",
      "metadata": {
        "id": "b52stlpYWucB",
        "colab": {
          "base_uri": "https://localhost:8080/"
        },
        "outputId": "7d9baead-1dad-4779-a59f-7eb79e1f81bd"
      },
      "source": [
        "import gensim.downloader as api\n",
        "\n",
        "glove_model = api.load('glove-twitter-25')"
      ],
      "execution_count": null,
      "outputs": [
        {
          "output_type": "stream",
          "name": "stdout",
          "text": [
            "[=================================================-] 98.9% 103.7/104.8MB downloaded\n"
          ]
        }
      ]
    },
    {
      "cell_type": "code",
      "source": [
        "glove_model['computer']"
      ],
      "metadata": {
        "colab": {
          "base_uri": "https://localhost:8080/"
        },
        "id": "7Ati8byIQAfa",
        "outputId": "627e6026-bdff-41c2-914c-1457c1bcaeb2"
      },
      "execution_count": null,
      "outputs": [
        {
          "output_type": "execute_result",
          "data": {
            "text/plain": [
              "array([ 0.64005 , -0.019514,  0.70148 , -0.66123 ,  1.1723  , -0.58859 ,\n",
              "        0.25917 , -0.81541 ,  1.1708  ,  1.1413  , -0.15405 , -0.11369 ,\n",
              "       -3.8414  , -0.87233 ,  0.47489 ,  1.1541  ,  0.97678 ,  1.1107  ,\n",
              "       -0.14572 , -0.52013 , -0.52234 , -0.92349 ,  0.34651 ,  0.061939,\n",
              "       -0.57375 ], dtype=float32)"
            ]
          },
          "metadata": {},
          "execution_count": 108
        }
      ]
    },
    {
      "cell_type": "code",
      "metadata": {
        "id": "hwC7x3WsXtL-",
        "colab": {
          "base_uri": "https://localhost:8080/"
        },
        "outputId": "821f19eb-9f67-4558-b268-b009aa8c8dea"
      },
      "source": [
        "words = [\"soccer\", \"football\", \"baseball\", \"volleyball\", \"basketball\", \"tennis\",\n",
        "         \"persimmon\", \"softball\", \"apple\", \"hockey\", \"orange\", \"pear\", \"strawberry\",\n",
        "         \"eat\", \"drink\", \"taste\", \"talk\", \"speak\", \"study\", \"research\", \"have\", \"take\"]\n",
        "mat = glove_model[words]\n",
        "mat.shape"
      ],
      "execution_count": null,
      "outputs": [
        {
          "output_type": "execute_result",
          "data": {
            "text/plain": [
              "(22, 25)"
            ]
          },
          "metadata": {},
          "execution_count": 97
        }
      ]
    },
    {
      "cell_type": "code",
      "source": [
        "v_apple = glove_model[\"apple\"]\n",
        "v_mango = glove_model[\"mango\"]\n",
        "print(v_apple.shape)\n",
        "print(v_mango.shape)\n",
        "cosine_similarity([v_mango],[v_apple])"
      ],
      "metadata": {
        "colab": {
          "base_uri": "https://localhost:8080/"
        },
        "id": "3qS6vOaRQTmz",
        "outputId": "b418542d-1df9-4243-8061-78460cc27cdd"
      },
      "execution_count": null,
      "outputs": [
        {
          "output_type": "stream",
          "name": "stdout",
          "text": [
            "(25,)\n",
            "(25,)\n"
          ]
        },
        {
          "output_type": "execute_result",
          "data": {
            "text/plain": [
              "array([[0.52559555]], dtype=float32)"
            ]
          },
          "metadata": {},
          "execution_count": 100
        }
      ]
    },
    {
      "cell_type": "code",
      "source": [
        "glove_model.most_similar([\"apple\"]), glove_model.most_similar(\"tiger\")"
      ],
      "metadata": {
        "colab": {
          "base_uri": "https://localhost:8080/"
        },
        "id": "JxQYy_QgQnPI",
        "outputId": "961b5c8c-3b97-4f24-9364-47a4ce95a1e4"
      },
      "execution_count": null,
      "outputs": [
        {
          "output_type": "execute_result",
          "data": {
            "text/plain": [
              "([('windows', 0.8948712944984436),\n",
              "  ('microsoft', 0.8858076333999634),\n",
              "  ('google', 0.8823867440223694),\n",
              "  ('galaxy', 0.8806391358375549),\n",
              "  ('flash', 0.8793812394142151),\n",
              "  ('android', 0.8782057762145996),\n",
              "  ('nokia', 0.8770236372947693),\n",
              "  ('samsung', 0.8697316646575928),\n",
              "  ('chrome', 0.8691699504852295),\n",
              "  ('ipad', 0.8670315742492676)],\n",
              " [('eagle', 0.9295039772987366),\n",
              "  ('blue', 0.8847297430038452),\n",
              "  ('white', 0.8836454749107361),\n",
              "  ('hawk', 0.8832809925079346),\n",
              "  ('wing', 0.8700830936431885),\n",
              "  ('golden', 0.8699467778205872),\n",
              "  ('woods', 0.8693599104881287),\n",
              "  ('wild', 0.8683100342750549),\n",
              "  ('classic', 0.8648809194564819),\n",
              "  ('yellow', 0.8638952970504761)])"
            ]
          },
          "metadata": {},
          "execution_count": 146
        }
      ]
    },
    {
      "cell_type": "markdown",
      "source": [
        "- king - man + woman"
      ],
      "metadata": {
        "id": "vb9SxWy9Q4HA"
      }
    },
    {
      "cell_type": "code",
      "source": [
        "glove_model.most_similar(positive=[\"king\",\"woman\"], negative=[\"man\"])"
      ],
      "metadata": {
        "colab": {
          "base_uri": "https://localhost:8080/"
        },
        "id": "yRNsH1AZQ5aK",
        "outputId": "8c5367d2-98e5-42ab-cb95-bc271212ba71"
      },
      "execution_count": null,
      "outputs": [
        {
          "output_type": "execute_result",
          "data": {
            "text/plain": [
              "[('meets', 0.8841924071311951),\n",
              " ('prince', 0.832163393497467),\n",
              " ('queen', 0.8257461190223694),\n",
              " ('’s', 0.8174097537994385),\n",
              " ('crow', 0.813499391078949),\n",
              " ('hunter', 0.8131037950515747),\n",
              " ('father', 0.8115834593772888),\n",
              " ('soldier', 0.81113600730896),\n",
              " ('mercy', 0.8082392811775208),\n",
              " ('hero', 0.8082264065742493)]"
            ]
          },
          "metadata": {},
          "execution_count": 152
        }
      ]
    },
    {
      "cell_type": "code",
      "metadata": {
        "id": "mxR5cFVmYOcY"
      },
      "source": [
        "import matplotlib.pyplot as plt"
      ],
      "execution_count": null,
      "outputs": []
    },
    {
      "cell_type": "code",
      "metadata": {
        "id": "re1q5inCYG2g",
        "colab": {
          "base_uri": "https://localhost:8080/",
          "height": 550
        },
        "outputId": "d9fa9aa8-6df8-4649-9f3b-469fdd8f9460"
      },
      "source": [
        "from sklearn.decomposition import PCA\n",
        "pca = PCA(n_components=2)\n",
        "xys = pca.fit_transform(mat)\n",
        "xs = xys[:,0]\n",
        "ys = xys[:,1]\n",
        "\n",
        "plt.figure(figsize=(12,6))\n",
        "plt.scatter(xs, ys)\n",
        "\n",
        "for i, word in enumerate(words):\n",
        "    plt.annotate(word, xy=(xs[i], ys[i]), rotation=30)\n",
        "plt.show()"
      ],
      "execution_count": null,
      "outputs": [
        {
          "output_type": "display_data",
          "data": {
            "text/plain": [
              "<Figure size 1200x600 with 1 Axes>"
            ],
            "image/png": "[encoded data removed]"
          },
          "metadata": {}
        }
      ]
    },
    {
      "cell_type": "markdown",
      "metadata": {
        "id": "r_6lEz7kXOwS"
      },
      "source": [
        "# difference between Glove and Word2Vec\n",
        "- Both word2vec and glove enable us to represent a word in the form of a vector (often called embedding). They are the two most popular algorithms for word embeddings that bring out the semantic similarity of words that captures different facets of the meaning of a word.\n",
        "- Word2vec embeddings are based on training a shallow feedforward neural network while glove embeddings are learnt based on matrix factorization techniques.\n",
        "- Glove model is based on leveraging global word to word co-occurance counts leveraging the entire corpus. Word2vec on the other hand leverages co-occurance within local context (neighbouring words).\n",
        "- In practice, however, both these models give similar results for many tasks. ​_Factors such as the dataset on which these models are trained, length of the vectors and so on seem to have a bigger impact than the models themselves. For instance, if I am using these models to derive  the features for a medical application, I can significantly improve performance by training on dataset from the medical domain."
      ]
    },
    {
      "cell_type": "markdown",
      "metadata": {
        "id": "Zf11GuuC9RQB"
      },
      "source": [
        "# Doc2Vec\n",
        "- extension of Word2Vec\n",
        "- https://lovit.github.io/nlp/representation/2018/03/26/word_doc_embedding/\n",
        "- doc2vec을 만드는 과정에서 word2vec 모델이 필요하므로 필연적으로 word2vec도 생성"
      ]
    },
    {
      "cell_type": "code",
      "metadata": {
        "id": "9MHxmSOgX-yz"
      },
      "source": [
        "#Import all the dependencies\n",
        "from gensim.models.doc2vec import Doc2Vec, TaggedDocument\n",
        "from nltk.tokenize import word_tokenize"
      ],
      "execution_count": null,
      "outputs": []
    },
    {
      "cell_type": "code",
      "metadata": {
        "id": "JdrCqDa2_8fx",
        "colab": {
          "base_uri": "https://localhost:8080/"
        },
        "outputId": "cbc5a400-5839-4c32-b060-18de342ec080"
      },
      "source": [
        "import nltk\n",
        "nltk.download('punkt')"
      ],
      "execution_count": null,
      "outputs": [
        {
          "output_type": "stream",
          "name": "stderr",
          "text": [
            "[nltk_data] Downloading package punkt to /root/nltk_data...\n",
            "[nltk_data]   Package punkt is already up-to-date!\n"
          ]
        },
        {
          "output_type": "execute_result",
          "data": {
            "text/plain": [
              "True"
            ]
          },
          "metadata": {},
          "execution_count": 113
        }
      ]
    },
    {
      "cell_type": "code",
      "metadata": {
        "id": "OESglOcEMZ5p"
      },
      "source": [
        "data = [\"I love machine learning. Its awesome.\",\n",
        "        \"I love coding in python\",\n",
        "        \"I love building chatbots\",\n",
        "        \"they chat amagingly well\"]\n",
        "\n",
        "tagged_data = [TaggedDocument(words=word_tokenize(_d.lower()), tags=[str(i)]) for i, _d in enumerate(data)]"
      ],
      "execution_count": null,
      "outputs": []
    },
    {
      "cell_type": "code",
      "metadata": {
        "id": "k3sM8cZoALxJ",
        "colab": {
          "base_uri": "https://localhost:8080/"
        },
        "outputId": "319cce0b-cccf-4bf0-f42d-227ddb45f00e"
      },
      "source": [
        "tagged_data"
      ],
      "execution_count": null,
      "outputs": [
        {
          "output_type": "execute_result",
          "data": {
            "text/plain": [
              "[TaggedDocument(words=['i', 'love', 'machine', 'learning', '.', 'its', 'awesome', '.'], tags=['0']),\n",
              " TaggedDocument(words=['i', 'love', 'coding', 'in', 'python'], tags=['1']),\n",
              " TaggedDocument(words=['i', 'love', 'building', 'chatbots'], tags=['2']),\n",
              " TaggedDocument(words=['they', 'chat', 'amagingly', 'well'], tags=['3'])]"
            ]
          },
          "metadata": {},
          "execution_count": 115
        }
      ]
    },
    {
      "cell_type": "code",
      "metadata": {
        "id": "zVD90lOAAWlr"
      },
      "source": [
        "max_epochs = 100\n",
        "vec_size = 5\n",
        "alpha = 0.025\n",
        "\n",
        "model = Doc2Vec(vector_size=vec_size,\n",
        "                alpha=alpha,\n",
        "                min_alpha=0.00025,\n",
        "                min_count=1,\n",
        "                dm =1)    # dm=1:preserves word order, 0: do not preserve order\n",
        "\n",
        "model.build_vocab(tagged_data)   # build a vocabulary"
      ],
      "execution_count": null,
      "outputs": []
    },
    {
      "cell_type": "code",
      "metadata": {
        "id": "6FmbclAvB2oM",
        "colab": {
          "base_uri": "https://localhost:8080/"
        },
        "outputId": "7c84cf1d-972e-48bb-f536-695a4bed4439"
      },
      "source": [
        "model.corpus_count, model.epochs"
      ],
      "execution_count": null,
      "outputs": [
        {
          "output_type": "execute_result",
          "data": {
            "text/plain": [
              "(4, 10)"
            ]
          },
          "metadata": {},
          "execution_count": 117
        }
      ]
    },
    {
      "cell_type": "code",
      "metadata": {
        "id": "iPCBwYhUBVbI",
        "colab": {
          "base_uri": "https://localhost:8080/"
        },
        "outputId": "13aed482-c662-44a4-8a12-0644136527a0"
      },
      "source": [
        "for epoch in range(max_epochs):\n",
        "    model.train(tagged_data,\n",
        "                total_examples=model.corpus_count,\n",
        "                epochs=model.epochs)\n",
        "\n",
        "    model.alpha -= 0.0002           # decrease the learning rate\n",
        "    model.min_alpha = model.alpha   # fix the learning rate, no decay\n",
        "\n",
        "model.save(\"d2v.model\")"
      ],
      "execution_count": null,
      "outputs": [
        {
          "output_type": "stream",
          "name": "stderr",
          "text": [
            "WARNING:gensim.models.word2vec:Effective 'alpha' higher than previous training cycles\n"
          ]
        }
      ]
    },
    {
      "cell_type": "code",
      "metadata": {
        "id": "pCvFf76QCXb9"
      },
      "source": [
        "model= Doc2Vec.load(\"d2v.model\")"
      ],
      "execution_count": null,
      "outputs": []
    },
    {
      "cell_type": "code",
      "source": [
        "model.dv.index_to_key"
      ],
      "metadata": {
        "colab": {
          "base_uri": "https://localhost:8080/"
        },
        "id": "8EPiIbYOTpmg",
        "outputId": "e0512508-d9da-4905-8702-a45cd3ccb876"
      },
      "execution_count": null,
      "outputs": [
        {
          "output_type": "execute_result",
          "data": {
            "text/plain": [
              "['0', '1', '2', '3']"
            ]
          },
          "metadata": {},
          "execution_count": 136
        }
      ]
    },
    {
      "cell_type": "code",
      "source": [
        "model.dv.key_to_index"
      ],
      "metadata": {
        "colab": {
          "base_uri": "https://localhost:8080/"
        },
        "id": "gGk2hHmGUa1f",
        "outputId": "75e90288-beb2-459c-b1f0-cedc1f122aa4"
      },
      "execution_count": null,
      "outputs": [
        {
          "output_type": "execute_result",
          "data": {
            "text/plain": [
              "{'0': 0, '1': 1, '2': 2, '3': 3}"
            ]
          },
          "metadata": {},
          "execution_count": 137
        }
      ]
    },
    {
      "cell_type": "code",
      "source": [
        "model.dv.vectors"
      ],
      "metadata": {
        "colab": {
          "base_uri": "https://localhost:8080/"
        },
        "id": "rZaWcTwWSnPA",
        "outputId": "f07682e9-c899-4fc9-eb49-ceb315aa7ba6"
      },
      "execution_count": null,
      "outputs": [
        {
          "output_type": "execute_result",
          "data": {
            "text/plain": [
              "array([[-2.3132663 , -1.4919854 , -2.3823936 ,  0.221911  ,  0.268456  ],\n",
              "       [-0.4007934 , -1.5227457 , -1.0852029 , -1.7978665 ,  0.26653314],\n",
              "       [-0.7103097 , -0.07994173, -1.5551385 , -1.4169221 , -0.51763344],\n",
              "       [-2.4686174 , -0.2587027 ,  0.8770108 , -2.341612  , -0.68179893]],\n",
              "      dtype=float32)"
            ]
          },
          "metadata": {},
          "execution_count": 138
        }
      ]
    },
    {
      "cell_type": "code",
      "metadata": {
        "id": "32F6LiYUN755",
        "colab": {
          "base_uri": "https://localhost:8080/"
        },
        "outputId": "e630cc2a-cd34-4c77-b91d-7b2370178467"
      },
      "source": [
        "# to infer a new document vector\n",
        "test_data = word_tokenize(\"I love chatbots\".lower())\n",
        "new_v = model.infer_vector(test_data)\n",
        "print(test_data)\n",
        "print(\"new vector inferred: \", new_v)"
      ],
      "execution_count": null,
      "outputs": [
        {
          "output_type": "stream",
          "name": "stdout",
          "text": [
            "['i', 'love', 'chatbots']\n",
            "new vector inferred:  [-0.05348476  0.06185523 -0.08324091 -0.07776066  0.02138327]\n"
          ]
        }
      ]
    },
    {
      "cell_type": "code",
      "metadata": {
        "id": "zSSWNP1cOXJI",
        "colab": {
          "base_uri": "https://localhost:8080/"
        },
        "outputId": "1c7664ef-7555-4709-8562-cf269a539322"
      },
      "source": [
        "model.dv.similar_by_vector(new_v)"
      ],
      "execution_count": null,
      "outputs": [
        {
          "output_type": "execute_result",
          "data": {
            "text/plain": [
              "[('2', 0.8084102869033813),\n",
              " ('1', 0.4357915222644806),\n",
              " ('0', 0.4207039177417755),\n",
              " ('3', 0.413604736328125)]"
            ]
          },
          "metadata": {},
          "execution_count": 141
        }
      ]
    },
    {
      "cell_type": "code",
      "metadata": {
        "id": "Ku_IZEasC1jn",
        "colab": {
          "base_uri": "https://localhost:8080/"
        },
        "outputId": "020f2c69-0142-4030-9d89-118d657081a6"
      },
      "source": [
        "# to find most similar doc using tags (it uses word-vectors.)\n",
        "similar_doc = model.dv.most_similar('1')\n",
        "print(similar_doc)"
      ],
      "execution_count": null,
      "outputs": [
        {
          "output_type": "stream",
          "name": "stdout",
          "text": [
            "[('2', 0.7482125759124756), ('0', 0.5655903816223145), ('3', 0.4710536599159241)]\n"
          ]
        }
      ]
    },
    {
      "cell_type": "code",
      "metadata": {
        "id": "ObUfuJ6cC4lR",
        "colab": {
          "base_uri": "https://localhost:8080/"
        },
        "outputId": "dd9f2017-0fd1-4d92-a680-86f7be592406"
      },
      "source": [
        "# to find vector of doc in training data using tags or in other words, printing the vector of document at index 1 in training data\n",
        "print(model.dv['1'])"
      ],
      "execution_count": null,
      "outputs": [
        {
          "output_type": "stream",
          "name": "stdout",
          "text": [
            "[-0.4007934  -1.5227457  -1.0852029  -1.7978665   0.26653314]\n"
          ]
        }
      ]
    },
    {
      "cell_type": "markdown",
      "metadata": {
        "id": "BCE2zC74tfbk"
      },
      "source": [
        "# Exercise (연습)"
      ]
    },
    {
      "cell_type": "markdown",
      "metadata": {
        "id": "ACaFh-meU9m4"
      },
      "source": [
        "### KKma() 연습"
      ]
    },
    {
      "cell_type": "code",
      "metadata": {
        "id": "NpmsZTy2U8xu",
        "colab": {
          "base_uri": "https://localhost:8080/"
        },
        "outputId": "b4e2587d-cccf-4484-ce01-95bd616709d8"
      },
      "source": [
        "# KoNLPy: 형태소 (뜻을 가진 최소 언어 단위) 분석\n",
        "# kkma: Korean morpheme analyzer\n",
        "# https://konlpy.org/ko/latest/morph/#pos-tagging-with-konlpy\n",
        "from konlpy.tag import Kkma\n",
        "kkma = Kkma()\n",
        "print(kkma.sentences('네, 안녕하세요. 반갑습니다.'))\n",
        "print(kkma.nouns('질문이나 건의사항은 깃헙 이슈 트래커에 남겨주세요.'))\n",
        "print(kkma.pos('오류보고는 실행환경, 에러메세지와함께 설명을 최대한상세히!^^'))\n",
        "# pos (part-of-speech): 품사 (명사, 동사, ...)"
      ],
      "execution_count": null,
      "outputs": [
        {
          "output_type": "stream",
          "name": "stdout",
          "text": [
            "['네, 안녕하세요.', '반갑습니다.']\n",
            "['질문', '건의', '건의사항', '사항', '깃헙', '이슈', '트래커']\n",
            "[('오류', 'NNG'), ('보고', 'NNG'), ('는', 'JX'), ('실행', 'NNG'), ('환경', 'NNG'), (',', 'SP'), ('에러', 'NNG'), ('메세지', 'NNG'), ('와', 'JKM'), ('함께', 'MAG'), ('설명', 'NNG'), ('을', 'JKO'), ('최대한', 'NNG'), ('상세히', 'MAG'), ('!', 'SF'), ('^^', 'EMO')]\n"
          ]
        }
      ]
    }
  ]
}