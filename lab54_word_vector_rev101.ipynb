{
  "nbformat": 4,
  "nbformat_minor": 0,
  "metadata": {
    "accelerator": "GPU",
    "colab": {
      "provenance": [],
      "include_colab_link": true
    },
    "kernelspec": {
      "display_name": "Python 3",
      "language": "python",
      "name": "python3"
    },
    "language_info": {
      "codemirror_mode": {
        "name": "ipython",
        "version": 3
      },
      "file_extension": ".py",
      "mimetype": "text/x-python",
      "name": "python",
      "nbconvert_exporter": "python",
      "pygments_lexer": "ipython3",
      "version": "3.6.8"
    }
  },
  "cells": [
    {
      "cell_type": "markdown",
      "metadata": {
        "id": "view-in-github",
        "colab_type": "text"
      },
      "source": [
        "<a href=\"https://colab.research.google.com/github/rtajeong/M3_new/blob/main/lab54_word_vector_rev101.ipynb\" target=\"_parent\"><img src=\"https://colab.research.google.com/assets/colab-badge.svg\" alt=\"Open In Colab\"/></a>"
      ]
    },
    {
      "cell_type": "markdown",
      "metadata": {
        "id": "RSiTy5MDXBnt"
      },
      "source": [
        "# Word Embedding\n",
        "- express words using vectors\n",
        "- vectors are trained"
      ]
    },
    {
      "cell_type": "markdown",
      "metadata": {
        "id": "VAXirxchUD43"
      },
      "source": [
        "# Word2Vec - 한국어\n",
        "\n",
        "- 지금까지의 텍스트 코딩 방식인 One-hot encoding, BoW(단어모음)-문서-단어 행렬 방식은 모두 단어마다 고유번호를 배정하여 사용하지만, 이 번호들에는 아무런 의미가 포함되어 있지 않고 단지 인덱스 역할만 함.\n",
        "- Word Vector 에서는 \n",
        " - 단어를 고차원 공간상의 벡터로 표현함으로 단어간 거리 표현 가능. 차원이 높을수록 정교한 의미 구분 가능.\n",
        " - 보통 50~300 개 정도의 차원을 사용함\n",
        " - 단어간의 거리 (유사도) 뿐 아니라 방향성(벡터)도 찾을 수 있음.\n",
        " - 단어벡터의 각 성분이 어떤 의미를 갖는지는 알 수 없다.\n",
        "\n",
        "- 빅카인즈 뉴스기사 데이터 활용(https://www.bigkinds.or.kr/)"
      ]
    },
    {
      "cell_type": "markdown",
      "metadata": {
        "id": "6VHnsDHlXBn7"
      },
      "source": [
        "## 뉴스를 이용한 단어 벡터 생성\n",
        "- 단어 추출: konlpy 의 kkma() 사용\n",
        "- 단어 벡터 생성: gensim 의 word2vec() 사용"
      ]
    },
    {
      "cell_type": "code",
      "metadata": {
        "id": "xDM2364masZe",
        "colab": {
          "base_uri": "https://localhost:8080/"
        },
        "outputId": "59f5a876-62a9-4030-d115-74bf48fb32ba"
      },
      "source": [
        "!pip install konlpy"
      ],
      "execution_count": null,
      "outputs": [
        {
          "output_type": "stream",
          "name": "stdout",
          "text": [
            "Looking in indexes: https://pypi.org/simple, https://us-python.pkg.dev/colab-wheels/public/simple/\n",
            "Collecting konlpy\n",
            "  Downloading konlpy-0.6.0-py2.py3-none-any.whl (19.4 MB)\n",
            "\u001b[K     |████████████████████████████████| 19.4 MB 1.1 MB/s \n",
            "\u001b[?25hCollecting JPype1>=0.7.0\n",
            "  Downloading JPype1-1.4.1-cp37-cp37m-manylinux_2_12_x86_64.manylinux2010_x86_64.whl (465 kB)\n",
            "\u001b[K     |████████████████████████████████| 465 kB 65.2 MB/s \n",
            "\u001b[?25hRequirement already satisfied: numpy>=1.6 in /usr/local/lib/python3.7/dist-packages (from konlpy) (1.21.6)\n",
            "Requirement already satisfied: lxml>=4.1.0 in /usr/local/lib/python3.7/dist-packages (from konlpy) (4.9.1)\n",
            "Requirement already satisfied: typing-extensions in /usr/local/lib/python3.7/dist-packages (from JPype1>=0.7.0->konlpy) (4.1.1)\n",
            "Requirement already satisfied: packaging in /usr/local/lib/python3.7/dist-packages (from JPype1>=0.7.0->konlpy) (21.3)\n",
            "Requirement already satisfied: pyparsing!=3.0.5,>=2.0.2 in /usr/local/lib/python3.7/dist-packages (from packaging->JPype1>=0.7.0->konlpy) (3.0.9)\n",
            "Installing collected packages: JPype1, konlpy\n",
            "Successfully installed JPype1-1.4.1 konlpy-0.6.0\n"
          ]
        }
      ]
    },
    {
      "cell_type": "code",
      "metadata": {
        "id": "TcpN2NDuXBn9"
      },
      "source": [
        "from konlpy.tag import Kkma     # 형태소 분석 및 자연어 처리 모듈 (서울대)\n",
        "from gensim.models.word2vec import Word2Vec"
      ],
      "execution_count": null,
      "outputs": []
    },
    {
      "cell_type": "code",
      "metadata": {
        "id": "7R5lqDRhXBoy",
        "colab": {
          "base_uri": "https://localhost:8080/"
        },
        "outputId": "83f8607b-72a2-412c-c542-7e8c40289866"
      },
      "source": [
        "# IT 뉴스기사를 이용한다\n",
        "!wget https://bit.ly/2X7UON2 -O news2018.xlsx"
      ],
      "execution_count": null,
      "outputs": [
        {
          "output_type": "stream",
          "name": "stdout",
          "text": [
            "--2022-11-13 02:06:58--  https://bit.ly/2X7UON2\n",
            "Resolving bit.ly (bit.ly)... 67.199.248.10, 67.199.248.11\n",
            "Connecting to bit.ly (bit.ly)|67.199.248.10|:443... connected.\n",
            "HTTP request sent, awaiting response... 301 Moved Permanently\n",
            "Location: https://www.dropbox.com/s/gr5jhlshp8m3iqn/NewsResult_20181128-20190228.xlsx [following]\n",
            "--2022-11-13 02:06:58--  https://www.dropbox.com/s/gr5jhlshp8m3iqn/NewsResult_20181128-20190228.xlsx\n",
            "Resolving www.dropbox.com (www.dropbox.com)... 162.125.65.18, 2620:100:6026:18::a27d:4612\n",
            "Connecting to www.dropbox.com (www.dropbox.com)|162.125.65.18|:443... connected.\n",
            "HTTP request sent, awaiting response... 302 Found\n",
            "Location: /s/raw/gr5jhlshp8m3iqn/NewsResult_20181128-20190228.xlsx [following]\n",
            "--2022-11-13 02:06:59--  https://www.dropbox.com/s/raw/gr5jhlshp8m3iqn/NewsResult_20181128-20190228.xlsx\n",
            "Reusing existing connection to www.dropbox.com:443.\n",
            "HTTP request sent, awaiting response... 302 Found\n",
            "Location: https://uc06f6fb51fd60236f2b99a1f179.dl.dropboxusercontent.com/cd/0/inline/BwpXFmDFUX5w6yVcKykFYIyZxJleJkplyKfEF0_2XYzHs8J_yv5HUUv6_iPxEqTYxEwcKtGxUEafH_LFsdMgMAqLX8MalTUtjD80P9eI2WMw-nTHr1Y9XQIZLHQkeIXbSVv8Oor6OK-12RkScc7WjGn3BzUza_K_zEfd9GoLWJ58bg/file# [following]\n",
            "--2022-11-13 02:06:59--  https://uc06f6fb51fd60236f2b99a1f179.dl.dropboxusercontent.com/cd/0/inline/BwpXFmDFUX5w6yVcKykFYIyZxJleJkplyKfEF0_2XYzHs8J_yv5HUUv6_iPxEqTYxEwcKtGxUEafH_LFsdMgMAqLX8MalTUtjD80P9eI2WMw-nTHr1Y9XQIZLHQkeIXbSVv8Oor6OK-12RkScc7WjGn3BzUza_K_zEfd9GoLWJ58bg/file\n",
            "Resolving uc06f6fb51fd60236f2b99a1f179.dl.dropboxusercontent.com (uc06f6fb51fd60236f2b99a1f179.dl.dropboxusercontent.com)... 162.125.65.15, 2620:100:6026:15::a27d:460f\n",
            "Connecting to uc06f6fb51fd60236f2b99a1f179.dl.dropboxusercontent.com (uc06f6fb51fd60236f2b99a1f179.dl.dropboxusercontent.com)|162.125.65.15|:443... connected.\n",
            "HTTP request sent, awaiting response... 302 Found\n",
            "Location: /cd/0/inline2/BwpT9pDRFFafpSHzm4TfWnb-WrPnetqK6GRIdk9suOndgP3BJRDOId3sJf-6G7FZDOREs1oa5hHJIsDyxJAdxJoLK12vKClym1Pt7jI4ZnPIRsOFxs_Zivl3tH4rt4Opn0YpaHVZaKAwiHxgB0D2irk_5yt9OKuetbKGYnUPLtiMxg8rCI6vFkLkeVqK-J2F80ScZXHw5yA_Y5QkeZz6yrbBmPlTPhsVyzyb7KnFUsYaAtNWOOUPFDg3Epko___rC7gNf1oNNJGAA8DqTUVRhSkYejqOVGQmQIrUUMdf_qqxJXXRUZ4QMDY5H2bhjJJCLNlsFnvl8TwPDAglNVxB5LWOqHDfjqbKHXKSmLzM_F6zvrTSyKQSvyU4v7X7v2sX2Edvhd7Xkg1rKKmwedezoPIcmWUA_CUh6f6aWTGXoL4RGA/file [following]\n",
            "--2022-11-13 02:06:59--  https://uc06f6fb51fd60236f2b99a1f179.dl.dropboxusercontent.com/cd/0/inline2/BwpT9pDRFFafpSHzm4TfWnb-WrPnetqK6GRIdk9suOndgP3BJRDOId3sJf-6G7FZDOREs1oa5hHJIsDyxJAdxJoLK12vKClym1Pt7jI4ZnPIRsOFxs_Zivl3tH4rt4Opn0YpaHVZaKAwiHxgB0D2irk_5yt9OKuetbKGYnUPLtiMxg8rCI6vFkLkeVqK-J2F80ScZXHw5yA_Y5QkeZz6yrbBmPlTPhsVyzyb7KnFUsYaAtNWOOUPFDg3Epko___rC7gNf1oNNJGAA8DqTUVRhSkYejqOVGQmQIrUUMdf_qqxJXXRUZ4QMDY5H2bhjJJCLNlsFnvl8TwPDAglNVxB5LWOqHDfjqbKHXKSmLzM_F6zvrTSyKQSvyU4v7X7v2sX2Edvhd7Xkg1rKKmwedezoPIcmWUA_CUh6f6aWTGXoL4RGA/file\n",
            "Reusing existing connection to uc06f6fb51fd60236f2b99a1f179.dl.dropboxusercontent.com:443.\n",
            "HTTP request sent, awaiting response... 200 OK\n",
            "Length: 1832194 (1.7M) [application/vnd.openxmlformats-officedocument.spreadsheetml.sheet]\n",
            "Saving to: ‘news2018.xlsx’\n",
            "\n",
            "news2018.xlsx       100%[===================>]   1.75M  --.-KB/s    in 0.1s    \n",
            "\n",
            "2022-11-13 02:07:00 (14.2 MB/s) - ‘news2018.xlsx’ saved [1832194/1832194]\n",
            "\n"
          ]
        }
      ]
    },
    {
      "cell_type": "code",
      "metadata": {
        "id": "tGECncx5p1oY",
        "colab": {
          "base_uri": "https://localhost:8080/"
        },
        "outputId": "8215217d-c995-49a8-f715-231672906e0d"
      },
      "source": [
        "import pandas as pd\n",
        "news = pd.read_excel(\"news2018.xlsx\")"
      ],
      "execution_count": null,
      "outputs": [
        {
          "output_type": "stream",
          "name": "stderr",
          "text": [
            "/usr/local/lib/python3.7/dist-packages/openpyxl/styles/stylesheet.py:226: UserWarning: Workbook contains no default style, apply openpyxl's default\n",
            "  warn(\"Workbook contains no default style, apply openpyxl's default\")\n"
          ]
        }
      ]
    },
    {
      "cell_type": "code",
      "source": [
        "news.head(2)"
      ],
      "metadata": {
        "colab": {
          "base_uri": "https://localhost:8080/",
          "height": 1000
        },
        "id": "ray06y_8vfzI",
        "outputId": "4bd64bbe-71a4-4d74-9996-d8e0b1a82402"
      },
      "execution_count": null,
      "outputs": [
        {
          "output_type": "execute_result",
          "data": {
            "text/plain": [
              "         뉴스 식별자        일자   언론사                        기고자  \\\n",
              "0  1.500401e+06  20190228  국제신문  김태경 기자 tgkim@kookje.co.kr   \n",
              "1  1.200201e+06  20190228  경인일보                        조영상   \n",
              "\n",
              "                                    제목   통합 분류1  통합 분류2 통합 분류3 사건/사고 분류1  \\\n",
              "0       빅딜이냐 스몰딜이냐 ‘영변 핵+α’ 로드맵 도출이 관건    정치>북한   정치>외교    NaN       NaN   \n",
              "1  하노이 도착후 실무대표단 청취 김정은, 북미회담 성공 '잰걸음'  국제>국제일반   정치>북한    NaN       NaN   \n",
              "\n",
              "  사건/사고 분류2 사건/사고 분류3                 인물                        위치  \\\n",
              "0       NaN       NaN  김,도널드 트럼프,김의겸,김정은  북미,미국,하노이,서울,싱가포르,북한,리비아   \n",
              "1       NaN       NaN                  김                북미,하노이,베트남   \n",
              "\n",
              "                                기관  \\\n",
              "0  북미,북미 정상회,미국,청와대,북미 정상회담,북한,국무위   \n",
              "1                       조선중앙통신,국무위   \n",
              "\n",
              "                                                 키워드  \\\n",
              "0  빅딜,스몰딜,영변,로드맵,도출,비핵화,수준,상응,조치,막판,양국,협상팀,밀당,1차,...   \n",
              "1  하노이,도착,실무대표단,청취,김정은,잰걸음,북미회담,성공,김정은,국무,위원장,시작,...   \n",
              "\n",
              "                                                특성추출  \\\n",
              "0  북미,비핵화,미국,스몰딜,1차,정상회담,김정은,종전선언,연락사무소,하노이,영변,대변...   \n",
              "1  실무대표단,하노이,김정은,위원장,베트남,북미정상회담,북미회담,정상회담,조선중앙통신,...   \n",
              "\n",
              "                                                  본문  \\\n",
              "0  - 비핵화 수준 상응 조치 놓고\\n- 양국 협상팀 막판까지 ‘밀당’\\n- 1차 때와...   \n",
              "1  김정은 국무위원장이 27일 시작되는 제2차 북미정상회담 성공을 위해 심혈을 기울이고...   \n",
              "\n",
              "                                                 URL 분석제외 여부  \n",
              "0  http://www.kookje.co.kr/news2011/asp/newsbody....     NaN  \n",
              "1  http://www.kyeongin.com/main/view.php?key=2019...     NaN  "
            ],
            "text/html": [
              "\n",
              "  <div id=\"df-2a9ba1e2-d721-45c9-af08-5e7eb6289faf\">\n",
              "    <div class=\"colab-df-container\">\n",
              "      <div>\n",
              "<style scoped>\n",
              "    .dataframe tbody tr th:only-of-type {\n",
              "        vertical-align: middle;\n",
              "    }\n",
              "\n",
              "    .dataframe tbody tr th {\n",
              "        vertical-align: top;\n",
              "    }\n",
              "\n",
              "    .dataframe thead th {\n",
              "        text-align: right;\n",
              "    }\n",
              "</style>\n",
              "<table border=\"1\" class=\"dataframe\">\n",
              "  <thead>\n",
              "    <tr style=\"text-align: right;\">\n",
              "      <th></th>\n",
              "      <th>뉴스 식별자</th>\n",
              "      <th>일자</th>\n",
              "      <th>언론사</th>\n",
              "      <th>기고자</th>\n",
              "      <th>제목</th>\n",
              "      <th>통합 분류1</th>\n",
              "      <th>통합 분류2</th>\n",
              "      <th>통합 분류3</th>\n",
              "      <th>사건/사고 분류1</th>\n",
              "      <th>사건/사고 분류2</th>\n",
              "      <th>사건/사고 분류3</th>\n",
              "      <th>인물</th>\n",
              "      <th>위치</th>\n",
              "      <th>기관</th>\n",
              "      <th>키워드</th>\n",
              "      <th>특성추출</th>\n",
              "      <th>본문</th>\n",
              "      <th>URL</th>\n",
              "      <th>분석제외 여부</th>\n",
              "    </tr>\n",
              "  </thead>\n",
              "  <tbody>\n",
              "    <tr>\n",
              "      <th>0</th>\n",
              "      <td>1.500401e+06</td>\n",
              "      <td>20190228</td>\n",
              "      <td>국제신문</td>\n",
              "      <td>김태경 기자 tgkim@kookje.co.kr</td>\n",
              "      <td>빅딜이냐 스몰딜이냐 ‘영변 핵+α’ 로드맵 도출이 관건</td>\n",
              "      <td>정치&gt;북한</td>\n",
              "      <td>정치&gt;외교</td>\n",
              "      <td>NaN</td>\n",
              "      <td>NaN</td>\n",
              "      <td>NaN</td>\n",
              "      <td>NaN</td>\n",
              "      <td>김,도널드 트럼프,김의겸,김정은</td>\n",
              "      <td>북미,미국,하노이,서울,싱가포르,북한,리비아</td>\n",
              "      <td>북미,북미 정상회,미국,청와대,북미 정상회담,북한,국무위</td>\n",
              "      <td>빅딜,스몰딜,영변,로드맵,도출,비핵화,수준,상응,조치,막판,양국,협상팀,밀당,1차,...</td>\n",
              "      <td>북미,비핵화,미국,스몰딜,1차,정상회담,김정은,종전선언,연락사무소,하노이,영변,대변...</td>\n",
              "      <td>- 비핵화 수준 상응 조치 놓고\\n- 양국 협상팀 막판까지 ‘밀당’\\n- 1차 때와...</td>\n",
              "      <td>http://www.kookje.co.kr/news2011/asp/newsbody....</td>\n",
              "      <td>NaN</td>\n",
              "    </tr>\n",
              "    <tr>\n",
              "      <th>1</th>\n",
              "      <td>1.200201e+06</td>\n",
              "      <td>20190228</td>\n",
              "      <td>경인일보</td>\n",
              "      <td>조영상</td>\n",
              "      <td>하노이 도착후 실무대표단 청취 김정은, 북미회담 성공 '잰걸음'</td>\n",
              "      <td>국제&gt;국제일반</td>\n",
              "      <td>정치&gt;북한</td>\n",
              "      <td>NaN</td>\n",
              "      <td>NaN</td>\n",
              "      <td>NaN</td>\n",
              "      <td>NaN</td>\n",
              "      <td>김</td>\n",
              "      <td>북미,하노이,베트남</td>\n",
              "      <td>조선중앙통신,국무위</td>\n",
              "      <td>하노이,도착,실무대표단,청취,김정은,잰걸음,북미회담,성공,김정은,국무,위원장,시작,...</td>\n",
              "      <td>실무대표단,하노이,김정은,위원장,베트남,북미정상회담,북미회담,정상회담,조선중앙통신,...</td>\n",
              "      <td>김정은 국무위원장이 27일 시작되는 제2차 북미정상회담 성공을 위해 심혈을 기울이고...</td>\n",
              "      <td>http://www.kyeongin.com/main/view.php?key=2019...</td>\n",
              "      <td>NaN</td>\n",
              "    </tr>\n",
              "  </tbody>\n",
              "</table>\n",
              "</div>\n",
              "      <button class=\"colab-df-convert\" onclick=\"convertToInteractive('df-2a9ba1e2-d721-45c9-af08-5e7eb6289faf')\"\n",
              "              title=\"Convert this dataframe to an interactive table.\"\n",
              "              style=\"display:none;\">\n",
              "        \n",
              "  <svg xmlns=\"http://www.w3.org/2000/svg\" height=\"24px\"viewBox=\"0 0 24 24\"\n",
              "       width=\"24px\">\n",
              "    <path d=\"M0 0h24v24H0V0z\" fill=\"none\"/>\n",
              "    <path d=\"M18.56 5.44l.94 2.06.94-2.06 2.06-.94-2.06-.94-.94-2.06-.94 2.06-2.06.94zm-11 1L8.5 8.5l.94-2.06 2.06-.94-2.06-.94L8.5 2.5l-.94 2.06-2.06.94zm10 10l.94 2.06.94-2.06 2.06-.94-2.06-.94-.94-2.06-.94 2.06-2.06.94z\"/><path d=\"M17.41 7.96l-1.37-1.37c-.4-.4-.92-.59-1.43-.59-.52 0-1.04.2-1.43.59L10.3 9.45l-7.72 7.72c-.78.78-.78 2.05 0 2.83L4 21.41c.39.39.9.59 1.41.59.51 0 1.02-.2 1.41-.59l7.78-7.78 2.81-2.81c.8-.78.8-2.07 0-2.86zM5.41 20L4 18.59l7.72-7.72 1.47 1.35L5.41 20z\"/>\n",
              "  </svg>\n",
              "      </button>\n",
              "      \n",
              "  <style>\n",
              "    .colab-df-container {\n",
              "      display:flex;\n",
              "      flex-wrap:wrap;\n",
              "      gap: 12px;\n",
              "    }\n",
              "\n",
              "    .colab-df-convert {\n",
              "      background-color: #E8F0FE;\n",
              "      border: none;\n",
              "      border-radius: 50%;\n",
              "      cursor: pointer;\n",
              "      display: none;\n",
              "      fill: #1967D2;\n",
              "      height: 32px;\n",
              "      padding: 0 0 0 0;\n",
              "      width: 32px;\n",
              "    }\n",
              "\n",
              "    .colab-df-convert:hover {\n",
              "      background-color: #E2EBFA;\n",
              "      box-shadow: 0px 1px 2px rgba(60, 64, 67, 0.3), 0px 1px 3px 1px rgba(60, 64, 67, 0.15);\n",
              "      fill: #174EA6;\n",
              "    }\n",
              "\n",
              "    [theme=dark] .colab-df-convert {\n",
              "      background-color: #3B4455;\n",
              "      fill: #D2E3FC;\n",
              "    }\n",
              "\n",
              "    [theme=dark] .colab-df-convert:hover {\n",
              "      background-color: #434B5C;\n",
              "      box-shadow: 0px 1px 3px 1px rgba(0, 0, 0, 0.15);\n",
              "      filter: drop-shadow(0px 1px 2px rgba(0, 0, 0, 0.3));\n",
              "      fill: #FFFFFF;\n",
              "    }\n",
              "  </style>\n",
              "\n",
              "      <script>\n",
              "        const buttonEl =\n",
              "          document.querySelector('#df-2a9ba1e2-d721-45c9-af08-5e7eb6289faf button.colab-df-convert');\n",
              "        buttonEl.style.display =\n",
              "          google.colab.kernel.accessAllowed ? 'block' : 'none';\n",
              "\n",
              "        async function convertToInteractive(key) {\n",
              "          const element = document.querySelector('#df-2a9ba1e2-d721-45c9-af08-5e7eb6289faf');\n",
              "          const dataTable =\n",
              "            await google.colab.kernel.invokeFunction('convertToInteractive',\n",
              "                                                     [key], {});\n",
              "          if (!dataTable) return;\n",
              "\n",
              "          const docLinkHtml = 'Like what you see? Visit the ' +\n",
              "            '<a target=\"_blank\" href=https://colab.research.google.com/notebooks/data_table.ipynb>data table notebook</a>'\n",
              "            + ' to learn more about interactive tables.';\n",
              "          element.innerHTML = '';\n",
              "          dataTable['output_type'] = 'display_data';\n",
              "          await google.colab.output.renderOutput(dataTable, element);\n",
              "          const docLink = document.createElement('div');\n",
              "          docLink.innerHTML = docLinkHtml;\n",
              "          element.appendChild(docLink);\n",
              "        }\n",
              "      </script>\n",
              "    </div>\n",
              "  </div>\n",
              "  "
            ]
          },
          "metadata": {},
          "execution_count": 19
        }
      ]
    },
    {
      "cell_type": "code",
      "metadata": {
        "colab": {
          "base_uri": "https://localhost:8080/"
        },
        "id": "ldUcy_23Vh9_",
        "outputId": "8fc42801-07dc-4b62-f159-5bd602d6fca3"
      },
      "source": [
        "news[\"본문\"][:4]"
      ],
      "execution_count": null,
      "outputs": [
        {
          "output_type": "execute_result",
          "data": {
            "text/plain": [
              "0    - 비핵화 수준 상응 조치 놓고\\n- 양국 협상팀 막판까지 ‘밀당’\\n- 1차 때와...\n",
              "1    김정은 국무위원장이 27일 시작되는 제2차 북미정상회담 성공을 위해 심혈을 기울이고...\n",
              "2    북미가 처음으로 정상 간 단독회담과 만찬을 가지며 또다시 새로운 역사 창조에 나섰다...\n",
              "3    지난해 9월 남북정상회담 당시 리선권 북한 조국평화통일위원장의 '냉면' 발언으로 정...\n",
              "Name: 본문, dtype: object"
            ]
          },
          "metadata": {},
          "execution_count": 20
        }
      ]
    },
    {
      "cell_type": "code",
      "metadata": {
        "id": "-DmqWk6KVf9f"
      },
      "source": [
        "kkma = Kkma()"
      ],
      "execution_count": null,
      "outputs": []
    },
    {
      "cell_type": "code",
      "metadata": {
        "id": "2Ka2_a8xq-P3"
      },
      "source": [
        "sentence_list = []\n",
        "for sent in news[\"본문\"]:\n",
        "    \n",
        "    sent_kkma_pos = kkma.nouns(sent)   # 명사만 추출\n",
        "    word_list = []\n",
        "    for word_pos in sent_kkma_pos:\n",
        "        word_list.append(word_pos)\n",
        "\n",
        "    sentence_list.append(word_list)"
      ],
      "execution_count": null,
      "outputs": []
    },
    {
      "cell_type": "code",
      "source": [
        "sentence_list[0]"
      ],
      "metadata": {
        "colab": {
          "base_uri": "https://localhost:8080/"
        },
        "id": "EzFbQCkewGD1",
        "outputId": "030b18d0-5f17-4446-b9dc-1466661a4c7f"
      },
      "execution_count": null,
      "outputs": [
        {
          "output_type": "execute_result",
          "data": {
            "text/plain": [
              "['비핵화',\n",
              " '수준',\n",
              " '상응',\n",
              " '조치',\n",
              " '양국',\n",
              " '협상',\n",
              " '협상팀',\n",
              " '팀',\n",
              " '막판',\n",
              " '당',\n",
              " '1',\n",
              " '1차',\n",
              " '차',\n",
              " '때',\n",
              " '시간',\n",
              " '조율',\n",
              " '단계적',\n",
              " '접근',\n",
              " '동의',\n",
              " '예상',\n",
              " '종전',\n",
              " '종전선언',\n",
              " '선언',\n",
              " '연락',\n",
              " '연락사무소',\n",
              " '사무소',\n",
              " '개설',\n",
              " '등',\n",
              " '조건',\n",
              " '조건부',\n",
              " '부',\n",
              " '제재',\n",
              " '완화',\n",
              " '명시',\n",
              " '가능성',\n",
              " '북미',\n",
              " '북미회담',\n",
              " '회담',\n",
              " '빅딜',\n",
              " '성공',\n",
              " '김',\n",
              " '김정은',\n",
              " '정은',\n",
              " '답방',\n",
              " '결과',\n",
              " '연관',\n",
              " '북한',\n",
              " '국무',\n",
              " '국무위원장',\n",
              " '위원장',\n",
              " '도',\n",
              " '도널드',\n",
              " '널드',\n",
              " '트럼프',\n",
              " '미국',\n",
              " '대통령',\n",
              " '27',\n",
              " '27일',\n",
              " '일',\n",
              " '친교',\n",
              " '만찬']"
            ]
          },
          "metadata": {},
          "execution_count": 23
        }
      ]
    },
    {
      "cell_type": "code",
      "metadata": {
        "colab": {
          "base_uri": "https://localhost:8080/"
        },
        "id": "oN3-GABiWT9E",
        "outputId": "2218f16b-9396-4e4c-9798-232a04429ba8"
      },
      "source": [
        "for i in range(3):\n",
        "    print(sentence_list[i])"
      ],
      "execution_count": null,
      "outputs": [
        {
          "output_type": "stream",
          "name": "stdout",
          "text": [
            "['비핵화', '수준', '상응', '조치', '양국', '협상', '협상팀', '팀', '막판', '당', '1', '1차', '차', '때', '시간', '조율', '단계적', '접근', '동의', '예상', '종전', '종전선언', '선언', '연락', '연락사무소', '사무소', '개설', '등', '조건', '조건부', '부', '제재', '완화', '명시', '가능성', '북미', '북미회담', '회담', '빅딜', '성공', '김', '김정은', '정은', '답방', '결과', '연관', '북한', '국무', '국무위원장', '위원장', '도', '도널드', '널드', '트럼프', '미국', '대통령', '27', '27일', '일', '친교', '만찬']\n",
            "['김', '김정은', '정은', '국무', '국무위원장', '위원장', '27', '27일', '일', '시작', '저', '2', '2차', '차', '북미', '북미정상회담', '정상', '회담', '성공', '심혈', '조선', '조선중앙통신', '중앙', '통신', '이날', '26', '26일', '하노이', '도착', '리', '호텔', '실무', '실무대표단', '대표단', '보고', '조미', '수뇌', '수뇌회담', '성공적', '보장', '나라', '현지', '파견', '사이', '접촉', '정형', '결과', '을', '구체적', '청취']\n",
            "['북미', '처음', '정상', '간', '단독', '단독회담', '회담', '만찬', '역사', '창조', '결', '물', '도출', '북측', '영', '영변', '변', '핵', '핵시설', '시설', '폐기', '외', '추가', '추가적인', '적인', '비핵화', '조치', '미국', '금강산', '금강산관광', '관광', '등', '경제적', '체제', '체제보장', '보장', '여부', '양', '간', '톱', '담판', '김', '북한', '국무', '국무위원장', '위원장', '도', '도널드', '널드', '트럼프', '대통령', '27', '27일', '일', '오후', '6', '6시30분', '시', '30', '분', '현지', '현지시간', '시간']\n"
          ]
        }
      ]
    },
    {
      "cell_type": "code",
      "metadata": {
        "colab": {
          "base_uri": "https://localhost:8080/"
        },
        "id": "dTq-vtCar0JC",
        "scrolled": true,
        "outputId": "594370fa-39ea-4441-92ff-400f2071d7eb"
      },
      "source": [
        "news.shape, len(sentence_list)"
      ],
      "execution_count": null,
      "outputs": [
        {
          "output_type": "execute_result",
          "data": {
            "text/plain": [
              "((1543, 19), 1543)"
            ]
          },
          "metadata": {},
          "execution_count": 25
        }
      ]
    },
    {
      "cell_type": "code",
      "metadata": {
        "colab": {
          "base_uri": "https://localhost:8080/"
        },
        "id": "KXw8yAntaJlm",
        "outputId": "738c1048-f44c-475b-ba13-324086103558"
      },
      "source": [
        "[len(w) for w in sentence_list][:10]"
      ],
      "execution_count": null,
      "outputs": [
        {
          "output_type": "execute_result",
          "data": {
            "text/plain": [
              "[61, 50, 63, 48, 44, 38, 38, 60, 52, 39]"
            ]
          },
          "metadata": {},
          "execution_count": 26
        }
      ]
    },
    {
      "cell_type": "code",
      "metadata": {
        "id": "WvEiKwbiXBo7",
        "scrolled": true
      },
      "source": [
        "model = Word2Vec(sentence_list, sg=1, size=100)   #sg=1 (skip-gram), 0(CBOW)"
      ],
      "execution_count": null,
      "outputs": []
    },
    {
      "cell_type": "code",
      "metadata": {
        "colab": {
          "base_uri": "https://localhost:8080/"
        },
        "id": "eccEwqqHw3jv",
        "outputId": "47ca2b50-de55-4c50-8b97-06fcccb021a6"
      },
      "source": [
        "model[\"대한민국\"]"
      ],
      "execution_count": null,
      "outputs": [
        {
          "output_type": "stream",
          "name": "stderr",
          "text": [
            "/usr/local/lib/python3.7/dist-packages/ipykernel_launcher.py:1: DeprecationWarning: Call to deprecated `__getitem__` (Method will be removed in 4.0.0, use self.wv.__getitem__() instead).\n",
            "  \"\"\"Entry point for launching an IPython kernel.\n"
          ]
        },
        {
          "output_type": "execute_result",
          "data": {
            "text/plain": [
              "array([-0.05730817, -0.159837  ,  0.18002316, -0.04443344, -0.00976908,\n",
              "       -0.04341607, -0.10145577,  0.06696144, -0.11806884, -0.12188727,\n",
              "       -0.01323062,  0.10443621,  0.18731314, -0.00563357, -0.03458427,\n",
              "       -0.00793294,  0.06957003, -0.116082  ,  0.01975978, -0.2465943 ,\n",
              "        0.05424855, -0.01611571, -0.0093081 , -0.12582734,  0.00621971,\n",
              "        0.16238256, -0.0572758 ,  0.08641807, -0.04467731,  0.14555092,\n",
              "       -0.19077726,  0.02592782,  0.04940794,  0.06057519,  0.06990304,\n",
              "       -0.02007191,  0.03322614,  0.02972248, -0.06037333,  0.05501138,\n",
              "        0.16841283, -0.2173892 ,  0.0468287 ,  0.02512313,  0.26008323,\n",
              "        0.2983911 , -0.06604782,  0.1166904 , -0.09862941,  0.05449785,\n",
              "       -0.09423325,  0.0823935 , -0.1571855 ,  0.02151907,  0.02125412,\n",
              "        0.17391405, -0.00845051, -0.15499632,  0.01447772,  0.00576876,\n",
              "        0.17913313, -0.05758148,  0.1309215 ,  0.01140663,  0.08691087,\n",
              "        0.10243927,  0.03799856,  0.02477174,  0.03322697, -0.2386909 ,\n",
              "        0.15124924, -0.10166347, -0.16036569, -0.00911445,  0.24226633,\n",
              "        0.22518662, -0.06275734,  0.21895538, -0.10993737, -0.00487384,\n",
              "       -0.05244229,  0.08074713, -0.1103575 ,  0.05383156, -0.04042456,\n",
              "       -0.12437338, -0.02754246,  0.05857053,  0.24434145,  0.01993054,\n",
              "        0.1695808 ,  0.1586507 ,  0.07743435, -0.03808572,  0.09571447,\n",
              "       -0.02251762, -0.11862323,  0.32036787, -0.16857703, -0.21129869],\n",
              "      dtype=float32)"
            ]
          },
          "metadata": {},
          "execution_count": 28
        }
      ]
    },
    {
      "cell_type": "code",
      "metadata": {
        "colab": {
          "base_uri": "https://localhost:8080/"
        },
        "id": "HQRyjNe2byhF",
        "outputId": "ab28d44c-3aed-4818-daea-f1e9d41f60d2"
      },
      "source": [
        "model.wv['대한민국']"
      ],
      "execution_count": null,
      "outputs": [
        {
          "output_type": "execute_result",
          "data": {
            "text/plain": [
              "array([-0.05730817, -0.159837  ,  0.18002316, -0.04443344, -0.00976908,\n",
              "       -0.04341607, -0.10145577,  0.06696144, -0.11806884, -0.12188727,\n",
              "       -0.01323062,  0.10443621,  0.18731314, -0.00563357, -0.03458427,\n",
              "       -0.00793294,  0.06957003, -0.116082  ,  0.01975978, -0.2465943 ,\n",
              "        0.05424855, -0.01611571, -0.0093081 , -0.12582734,  0.00621971,\n",
              "        0.16238256, -0.0572758 ,  0.08641807, -0.04467731,  0.14555092,\n",
              "       -0.19077726,  0.02592782,  0.04940794,  0.06057519,  0.06990304,\n",
              "       -0.02007191,  0.03322614,  0.02972248, -0.06037333,  0.05501138,\n",
              "        0.16841283, -0.2173892 ,  0.0468287 ,  0.02512313,  0.26008323,\n",
              "        0.2983911 , -0.06604782,  0.1166904 , -0.09862941,  0.05449785,\n",
              "       -0.09423325,  0.0823935 , -0.1571855 ,  0.02151907,  0.02125412,\n",
              "        0.17391405, -0.00845051, -0.15499632,  0.01447772,  0.00576876,\n",
              "        0.17913313, -0.05758148,  0.1309215 ,  0.01140663,  0.08691087,\n",
              "        0.10243927,  0.03799856,  0.02477174,  0.03322697, -0.2386909 ,\n",
              "        0.15124924, -0.10166347, -0.16036569, -0.00911445,  0.24226633,\n",
              "        0.22518662, -0.06275734,  0.21895538, -0.10993737, -0.00487384,\n",
              "       -0.05244229,  0.08074713, -0.1103575 ,  0.05383156, -0.04042456,\n",
              "       -0.12437338, -0.02754246,  0.05857053,  0.24434145,  0.01993054,\n",
              "        0.1695808 ,  0.1586507 ,  0.07743435, -0.03808572,  0.09571447,\n",
              "       -0.02251762, -0.11862323,  0.32036787, -0.16857703, -0.21129869],\n",
              "      dtype=float32)"
            ]
          },
          "metadata": {},
          "execution_count": 29
        }
      ]
    },
    {
      "cell_type": "code",
      "metadata": {
        "colab": {
          "base_uri": "https://localhost:8080/"
        },
        "id": "IBXhPZbIbJHs",
        "outputId": "b13e6fcb-42ab-455a-d44b-b01a862e3858"
      },
      "source": [
        "for index, word in enumerate(model.wv.index2word):\n",
        "    if index == 10:\n",
        "        break\n",
        "    print(f\"word {index}/{len(model.wv.index2word)} is {word}\")"
      ],
      "execution_count": null,
      "outputs": [
        {
          "output_type": "stream",
          "name": "stdout",
          "text": [
            "word 0/1956 is 회담\n",
            "word 1/1956 is 일\n",
            "word 2/1956 is 북미\n",
            "word 3/1956 is 차\n",
            "word 4/1956 is 2\n",
            "word 5/1956 is 정상\n",
            "word 6/1956 is 2차\n",
            "word 7/1956 is 김\n",
            "word 8/1956 is 북한\n",
            "word 9/1956 is 미국\n"
          ]
        }
      ]
    },
    {
      "cell_type": "code",
      "metadata": {
        "colab": {
          "base_uri": "https://localhost:8080/"
        },
        "id": "Pjiz6wLRXBpB",
        "outputId": "4aa1d322-848a-4245-8bc7-3edc21d7a448"
      },
      "source": [
        "print(model.wv.most_similar(\"대한민국\"))"
      ],
      "execution_count": null,
      "outputs": [
        {
          "output_type": "stream",
          "name": "stdout",
          "text": [
            "[('민국', 0.9981762766838074), ('국내증시', 0.9970000982284546), ('대한', 0.9965223073959351), ('상대', 0.996268093585968), ('혁명', 0.9960501790046692), ('투자자', 0.9960286617279053), ('기념식', 0.995365560054779), ('단체', 0.9952832460403442), ('증권', 0.9943686723709106), ('조성길', 0.9942375421524048)]\n"
          ]
        }
      ]
    },
    {
      "cell_type": "code",
      "source": [],
      "metadata": {
        "id": "E8KBbjaXyQAT"
      },
      "execution_count": null,
      "outputs": []
    },
    {
      "cell_type": "code",
      "metadata": {
        "colab": {
          "base_uri": "https://localhost:8080/"
        },
        "id": "fgR0CKVCYUvd",
        "outputId": "4c7d3e31-e9a1-4edb-9e30-d61d388d319f"
      },
      "source": [
        "print(model.wv.similarity(\"한국\",\"미국\"))\n",
        "print(model.wv.similarity(\"한국\",\"일본\"))\n",
        "print(model.wv.similarity(\"미국\",\"일본\"))"
      ],
      "execution_count": null,
      "outputs": [
        {
          "output_type": "stream",
          "name": "stdout",
          "text": [
            "0.19942841\n",
            "0.5103363\n",
            "0.6725728\n"
          ]
        }
      ]
    },
    {
      "cell_type": "code",
      "metadata": {
        "id": "adGZopNdcp22"
      },
      "source": [
        "# storing and loading the model\n",
        "model.save('tmp_word2vec.model')\n",
        "model = Word2Vec.load(\"tmp_word2vec.model\")"
      ],
      "execution_count": null,
      "outputs": []
    },
    {
      "cell_type": "code",
      "metadata": {
        "colab": {
          "base_uri": "https://localhost:8080/"
        },
        "id": "cPHymVsXejom",
        "outputId": "24e5a5a1-94d7-4589-b50d-84d8be7e3ac3"
      },
      "source": [
        "# a:b = c: ? \n",
        "model.wv.most_similar(positive=['한국', '미국'], negative=['서울'])"
      ],
      "execution_count": null,
      "outputs": [
        {
          "output_type": "execute_result",
          "data": {
            "text/plain": [
              "[('핵', 0.6372560262680054),\n",
              " ('행정부', 0.6176495552062988),\n",
              " ('ㆍ', 0.5901193618774414),\n",
              " ('널드', 0.5843161940574646),\n",
              " ('최종', 0.5813090801239014),\n",
              " ('도', 0.5801754593849182),\n",
              " ('대로', 0.5783638954162598),\n",
              " ('아베', 0.5762561559677124),\n",
              " ('세기', 0.5747398138046265),\n",
              " ('도널드', 0.5726562738418579)]"
            ]
          },
          "metadata": {},
          "execution_count": 35
        }
      ]
    },
    {
      "cell_type": "markdown",
      "metadata": {
        "id": "Q8BGvf7nfW1J"
      },
      "source": [
        "## Keras 에서 word2vec 훈련된 모델 사용하기 (그림형제 동화 예제)"
      ]
    },
    {
      "cell_type": "code",
      "metadata": {
        "id": "221jHvYjffO1"
      },
      "source": [
        "import requests\n",
        "import re\n",
        "res = requests.get('https://www.gutenberg.org/files/2591/2591-0.txt') \n",
        "grimm = res.text[2801:530661]    # 그림형제의 동화 일부만 사용\n",
        "grimm = re.sub(r'[^a-zA-Z\\. ]', ' ', grimm)\n",
        "sentences = grimm.split('. ')  # 문장 단위로 자름\n",
        "data = [s.lower().split() for s in sentences]"
      ],
      "execution_count": null,
      "outputs": []
    },
    {
      "cell_type": "code",
      "metadata": {
        "colab": {
          "base_uri": "https://localhost:8080/"
        },
        "id": "n6b19aeNygXM",
        "outputId": "aec761fc-b730-49b0-e4c5-82c1783170f6"
      },
      "source": [
        "len(data)  # number of sentences"
      ],
      "execution_count": null,
      "outputs": [
        {
          "output_type": "execute_result",
          "data": {
            "text/plain": [
              "3468"
            ]
          },
          "metadata": {},
          "execution_count": 20
        }
      ]
    },
    {
      "cell_type": "code",
      "metadata": {
        "colab": {
          "base_uri": "https://localhost:8080/"
        },
        "id": "lVjyfFbCgANn",
        "outputId": "e274eba6-cd34-4b88-9129-54b563a53a69"
      },
      "source": [
        "print(data[:2])"
      ],
      "execution_count": null,
      "outputs": [
        {
          "output_type": "stream",
          "name": "stdout",
          "text": [
            "[['second', 'story', 'the', 'salad', 'the', 'story', 'of', 'the', 'youth', 'who', 'went', 'forth', 'to', 'learn', 'what', 'fear', 'was', 'king', 'grisly', 'beard', 'iron', 'hans', 'cat', 'skin', 'snow', 'white', 'and', 'rose', 'red', 'the', 'brothers', 'grimm', 'fairy', 'tales', 'the', 'golden', 'bird', 'a', 'certain', 'king', 'had', 'a', 'beautiful', 'garden', 'and', 'in', 'the', 'garden', 'stood', 'a', 'tree', 'which', 'bore', 'golden', 'apples'], ['these', 'apples', 'were', 'always', 'counted', 'and', 'about', 'the', 'time', 'when', 'they', 'began', 'to', 'grow', 'ripe', 'it', 'was', 'found', 'that', 'every', 'night', 'one', 'of', 'them', 'was', 'gone']]\n"
          ]
        }
      ]
    },
    {
      "cell_type": "code",
      "metadata": {
        "colab": {
          "base_uri": "https://localhost:8080/"
        },
        "id": "au09jqEBgNE9",
        "outputId": "ba91580b-88f8-436a-f8b5-c6b05034464a"
      },
      "source": [
        "len(data), [len(data[i]) for i in range(10)]"
      ],
      "execution_count": null,
      "outputs": [
        {
          "output_type": "execute_result",
          "data": {
            "text/plain": [
              "(3468, [55, 26, 19, 26, 23, 41, 48, 21, 18, 32])"
            ]
          },
          "metadata": {},
          "execution_count": 22
        }
      ]
    },
    {
      "cell_type": "code",
      "metadata": {
        "id": "2eJo4MgSfoZF"
      },
      "source": [
        "model = Word2Vec(data,         # 리스트 형태의 데이터\n",
        "                 sg=1,         # 0: CBOW, 1: Skip-gram\n",
        "                 size=100,     # 벡터 크기\n",
        "                 window=3,     # 고려할 앞뒤 폭(앞뒤 3단어)\n",
        "                 min_count=3,  # 사용할 단어의 최소 빈도(3회 이하 단어 무시)\n",
        "                 workers=4)    # 동시에 처리할 작업 수(코어 수와 비슷하게 설정)"
      ],
      "execution_count": null,
      "outputs": []
    },
    {
      "cell_type": "code",
      "metadata": {
        "id": "96uHMaPLga6q"
      },
      "source": [
        "import tensorflow as tf\n",
        "from tensorflow import keras\n",
        "from tensorflow.keras.models import Sequential\n",
        "from tensorflow.keras.layers import Embedding"
      ],
      "execution_count": null,
      "outputs": []
    },
    {
      "cell_type": "code",
      "metadata": {
        "colab": {
          "base_uri": "https://localhost:8080/"
        },
        "id": "tWTC7DUmgk3y",
        "outputId": "a28ce523-b58a-4dbc-b783-db2e19ca1341"
      },
      "source": [
        "model.wv.vectors.shape"
      ],
      "execution_count": null,
      "outputs": [
        {
          "output_type": "execute_result",
          "data": {
            "text/plain": [
              "(2278, 100)"
            ]
          },
          "metadata": {},
          "execution_count": 25
        }
      ]
    },
    {
      "cell_type": "code",
      "metadata": {
        "colab": {
          "base_uri": "https://localhost:8080/"
        },
        "id": "EDkUVLSMgx3O",
        "outputId": "6c733194-4537-4389-bbf5-13ca689218e2"
      },
      "source": [
        "NUM_WORDS, EMB_DIM = model.wv.vectors.shape\n",
        "\n",
        "emb = Embedding(input_dim=NUM_WORDS, output_dim=EMB_DIM,\n",
        "                trainable=False, weights=[model.wv.vectors])   # pre-trained weights\n",
        "keras_model = Sequential()\n",
        "keras_model.add(emb)\n",
        "keras_model.summary()"
      ],
      "execution_count": null,
      "outputs": [
        {
          "output_type": "stream",
          "name": "stdout",
          "text": [
            "Model: \"sequential\"\n",
            "_________________________________________________________________\n",
            "Layer (type)                 Output Shape              Param #   \n",
            "=================================================================\n",
            "embedding (Embedding)        (None, None, 100)         227800    \n",
            "=================================================================\n",
            "Total params: 227,800\n",
            "Trainable params: 0\n",
            "Non-trainable params: 227,800\n",
            "_________________________________________________________________\n"
          ]
        }
      ]
    },
    {
      "cell_type": "code",
      "metadata": {
        "colab": {
          "base_uri": "https://localhost:8080/"
        },
        "id": "_aoIvPLvhdX9",
        "outputId": "4bcfd3b4-cd5d-46a3-de8e-8d406e86fbb6"
      },
      "source": [
        "i = model.wv.index2word.index('princess'); i"
      ],
      "execution_count": null,
      "outputs": [
        {
          "output_type": "execute_result",
          "data": {
            "text/plain": [
              "150"
            ]
          },
          "metadata": {},
          "execution_count": 27
        }
      ]
    },
    {
      "cell_type": "code",
      "metadata": {
        "colab": {
          "base_uri": "https://localhost:8080/"
        },
        "id": "9VqyeUrbiKx4",
        "outputId": "9caafd94-05b4-446d-ac20-fbdea6aa758b"
      },
      "source": [
        "keras_model(i)"
      ],
      "execution_count": null,
      "outputs": [
        {
          "output_type": "execute_result",
          "data": {
            "text/plain": [
              "<tf.Tensor: shape=(100,), dtype=float32, numpy=\n",
              "array([ 0.17783275, -0.08774558,  0.09323502, -0.07242519,  0.20657292,\n",
              "        0.03197189,  0.16224365, -0.15539818,  0.01945902,  0.09025002,\n",
              "        0.17573437, -0.06973731,  0.11954256,  0.01534615, -0.37158963,\n",
              "       -0.02288678,  0.01575112,  0.05553897,  0.17502707, -0.08478002,\n",
              "       -0.21321169, -0.02501886, -0.27250507,  0.11078458, -0.21503918,\n",
              "        0.27691916,  0.08938914, -0.08242173, -0.11613622, -0.20222554,\n",
              "        0.04449013, -0.2559901 , -0.03157396,  0.0605896 , -0.15382041,\n",
              "       -0.32093048, -0.04655121, -0.11977814,  0.04055993,  0.05245483,\n",
              "        0.06287044,  0.09412678, -0.08609053, -0.13557422,  0.17934753,\n",
              "       -0.09852032,  0.19760892, -0.006117  , -0.18912947, -0.09823273,\n",
              "        0.1347044 ,  0.09133997, -0.06159864,  0.19485788,  0.04612151,\n",
              "        0.31897318, -0.05191209, -0.06640887,  0.16498116,  0.144308  ,\n",
              "       -0.30118912,  0.03162405, -0.04633264,  0.0622423 , -0.43333298,\n",
              "       -0.01807583,  0.01292471, -0.14541416, -0.11620581, -0.05903935,\n",
              "       -0.15599987,  0.14573784,  0.2046689 , -0.04925594, -0.09984405,\n",
              "        0.15318435, -0.07531588,  0.07737457,  0.3179089 , -0.15710369,\n",
              "        0.10327742,  0.01241986, -0.03649237,  0.05266789, -0.12705217,\n",
              "       -0.1036229 ,  0.12542848,  0.03066339, -0.08837936, -0.08336505,\n",
              "       -0.19087036,  0.1684691 , -0.01485604, -0.02229792,  0.1531238 ,\n",
              "       -0.08944845,  0.03167198,  0.07329231,  0.1653206 ,  0.059671  ],\n",
              "      dtype=float32)>"
            ]
          },
          "metadata": {},
          "execution_count": 28
        }
      ]
    },
    {
      "cell_type": "code",
      "metadata": {
        "colab": {
          "base_uri": "https://localhost:8080/"
        },
        "id": "yDLKPpomhzXV",
        "outputId": "dd3bb2b6-d29a-4ac5-b56f-fa7c397cd610"
      },
      "source": [
        "keras_model(i) == keras_model.predict([i])"
      ],
      "execution_count": null,
      "outputs": [
        {
          "output_type": "execute_result",
          "data": {
            "text/plain": [
              "<tf.Tensor: shape=(1, 1, 100), dtype=bool, numpy=\n",
              "array([[[ True,  True,  True,  True,  True,  True,  True,  True,  True,\n",
              "          True,  True,  True,  True,  True,  True,  True,  True,  True,\n",
              "          True,  True,  True,  True,  True,  True,  True,  True,  True,\n",
              "          True,  True,  True,  True,  True,  True,  True,  True,  True,\n",
              "          True,  True,  True,  True,  True,  True,  True,  True,  True,\n",
              "          True,  True,  True,  True,  True,  True,  True,  True,  True,\n",
              "          True,  True,  True,  True,  True,  True,  True,  True,  True,\n",
              "          True,  True,  True,  True,  True,  True,  True,  True,  True,\n",
              "          True,  True,  True,  True,  True,  True,  True,  True,  True,\n",
              "          True,  True,  True,  True,  True,  True,  True,  True,  True,\n",
              "          True,  True,  True,  True,  True,  True,  True,  True,  True,\n",
              "          True]]])>"
            ]
          },
          "metadata": {},
          "execution_count": 29
        }
      ]
    },
    {
      "cell_type": "code",
      "metadata": {
        "colab": {
          "base_uri": "https://localhost:8080/"
        },
        "id": "oc9XoWCwiO6k",
        "outputId": "0059e05a-695f-4646-913c-f12b74c6b44b"
      },
      "source": [
        "model['princess'] == keras_model(i)"
      ],
      "execution_count": null,
      "outputs": [
        {
          "output_type": "stream",
          "name": "stderr",
          "text": [
            "/usr/local/lib/python3.7/dist-packages/ipykernel_launcher.py:1: DeprecationWarning: Call to deprecated `__getitem__` (Method will be removed in 4.0.0, use self.wv.__getitem__() instead).\n",
            "  \"\"\"Entry point for launching an IPython kernel.\n"
          ]
        },
        {
          "output_type": "execute_result",
          "data": {
            "text/plain": [
              "<tf.Tensor: shape=(100,), dtype=bool, numpy=\n",
              "array([ True,  True,  True,  True,  True,  True,  True,  True,  True,\n",
              "        True,  True,  True,  True,  True,  True,  True,  True,  True,\n",
              "        True,  True,  True,  True,  True,  True,  True,  True,  True,\n",
              "        True,  True,  True,  True,  True,  True,  True,  True,  True,\n",
              "        True,  True,  True,  True,  True,  True,  True,  True,  True,\n",
              "        True,  True,  True,  True,  True,  True,  True,  True,  True,\n",
              "        True,  True,  True,  True,  True,  True,  True,  True,  True,\n",
              "        True,  True,  True,  True,  True,  True,  True,  True,  True,\n",
              "        True,  True,  True,  True,  True,  True,  True,  True,  True,\n",
              "        True,  True,  True,  True,  True,  True,  True,  True,  True,\n",
              "        True,  True,  True,  True,  True,  True,  True,  True,  True,\n",
              "        True])>"
            ]
          },
          "metadata": {},
          "execution_count": 30
        }
      ]
    },
    {
      "cell_type": "markdown",
      "metadata": {
        "id": "nVFMTc1NjJSi"
      },
      "source": [
        "## Keras 에서 직접 Word2Vec 훈련도 가능\n",
        "- http://doc.mindscale.kr/km/unstructured/11.html"
      ]
    },
    {
      "cell_type": "markdown",
      "metadata": {
        "id": "cPa-oF9bXBpP"
      },
      "source": [
        "## NLTK 이용한 문장의 유사도\n",
        "- NLTK (Natural Language ToolKit) 라이브러리 사용"
      ]
    },
    {
      "cell_type": "code",
      "metadata": {
        "colab": {
          "base_uri": "https://localhost:8080/"
        },
        "id": "2DIso7TWX-yl",
        "outputId": "88eaaa36-6bd7-4b8d-e3e6-04f834f02d04"
      },
      "source": [
        "!pip install nltk"
      ],
      "execution_count": null,
      "outputs": [
        {
          "output_type": "stream",
          "name": "stdout",
          "text": [
            "Requirement already satisfied: nltk in /usr/local/lib/python3.7/dist-packages (3.2.5)\n",
            "Requirement already satisfied: six in /usr/local/lib/python3.7/dist-packages (from nltk) (1.15.0)\n"
          ]
        }
      ]
    },
    {
      "cell_type": "code",
      "metadata": {
        "colab": {
          "base_uri": "https://localhost:8080/"
        },
        "id": "DcU6fzqcX-ym",
        "outputId": "8612fef3-dd97-4b82-df06-d6d63c7526d3"
      },
      "source": [
        "# simple exercise\n",
        "import nltk\n",
        "nltk.download('punkt')\n",
        "sentence = \"At eight o'clock on Thursday morning Arthur didn't feel very good.\"\n",
        "tokens = nltk.word_tokenize(sentence)\n",
        "tokens"
      ],
      "execution_count": null,
      "outputs": [
        {
          "output_type": "stream",
          "name": "stdout",
          "text": [
            "[nltk_data] Downloading package punkt to /root/nltk_data...\n",
            "[nltk_data]   Unzipping tokenizers/punkt.zip.\n"
          ]
        },
        {
          "output_type": "execute_result",
          "data": {
            "text/plain": [
              "['At',\n",
              " 'eight',\n",
              " \"o'clock\",\n",
              " 'on',\n",
              " 'Thursday',\n",
              " 'morning',\n",
              " 'Arthur',\n",
              " 'did',\n",
              " \"n't\",\n",
              " 'feel',\n",
              " 'very',\n",
              " 'good',\n",
              " '.']"
            ]
          },
          "metadata": {},
          "execution_count": 32
        }
      ]
    },
    {
      "cell_type": "code",
      "metadata": {
        "colab": {
          "base_uri": "https://localhost:8080/"
        },
        "id": "71KHyNHlX-ym",
        "outputId": "f6ec1f42-e98d-4f5e-93cc-243e2b72fa03"
      },
      "source": [
        "nltk.download('averaged_perceptron_tagger')\n",
        "tagged = nltk.pos_tag(tokens)\n",
        "tagged[0:6]"
      ],
      "execution_count": null,
      "outputs": [
        {
          "output_type": "stream",
          "name": "stdout",
          "text": [
            "[nltk_data] Downloading package averaged_perceptron_tagger to\n",
            "[nltk_data]     /root/nltk_data...\n",
            "[nltk_data]   Unzipping taggers/averaged_perceptron_tagger.zip.\n"
          ]
        },
        {
          "output_type": "execute_result",
          "data": {
            "text/plain": [
              "[('At', 'IN'),\n",
              " ('eight', 'CD'),\n",
              " (\"o'clock\", 'NN'),\n",
              " ('on', 'IN'),\n",
              " ('Thursday', 'NNP'),\n",
              " ('morning', 'NN')]"
            ]
          },
          "metadata": {},
          "execution_count": 33
        }
      ]
    },
    {
      "cell_type": "code",
      "metadata": {
        "colab": {
          "base_uri": "https://localhost:8080/"
        },
        "id": "bn7sVEJdXBpR",
        "outputId": "462c8cb2-0983-46a3-e2a2-28b21e7a421d"
      },
      "source": [
        "# edit_distance: 문자열이 얼마나 다른지 편집거리를 이용해 유사도 판단\n",
        "sentence_list = [\"우리 모두 함께 놀자\", \"모두 같이 놀자\", \"놀자\", \"모두 다 같이\"]\n",
        "\n",
        "for i in sentence_list:\n",
        "    print(\"'\", i, \"'\")\n",
        "    for j in sentence_list:\n",
        "        print(\"\\t\", j, \" : \", end='')\n",
        "        print(nltk.edit_distance(i, j), )\n",
        "    print()"
      ],
      "execution_count": null,
      "outputs": [
        {
          "output_type": "stream",
          "name": "stdout",
          "text": [
            "' 우리 모두 함께 놀자 '\n",
            "\t 우리 모두 함께 놀자  : 0\n",
            "\t 모두 같이 놀자  : 5\n",
            "\t 놀자  : 9\n",
            "\t 모두 다 같이  : 7\n",
            "\n",
            "' 모두 같이 놀자 '\n",
            "\t 우리 모두 함께 놀자  : 5\n",
            "\t 모두 같이 놀자  : 0\n",
            "\t 놀자  : 6\n",
            "\t 모두 다 같이  : 4\n",
            "\n",
            "' 놀자 '\n",
            "\t 우리 모두 함께 놀자  : 9\n",
            "\t 모두 같이 놀자  : 6\n",
            "\t 놀자  : 0\n",
            "\t 모두 다 같이  : 7\n",
            "\n",
            "' 모두 다 같이 '\n",
            "\t 우리 모두 함께 놀자  : 7\n",
            "\t 모두 같이 놀자  : 4\n",
            "\t 놀자  : 7\n",
            "\t 모두 다 같이  : 0\n",
            "\n"
          ]
        }
      ]
    },
    {
      "cell_type": "code",
      "metadata": {
        "id": "wgkIida2XBpX"
      },
      "source": [
        "from sklearn.feature_extraction.text import TfidfVectorizer, CountVectorizer\n",
        " \n",
        "sentence_list = ['우리 모두 함께 놀자','모두 같이 놀자']\n",
        " \n",
        "tfidf = TfidfVectorizer()\n",
        "tfidf_vec = tfidf.fit_transform(sentence_list)\n",
        "\n",
        "count = CountVectorizer()\n",
        "count_vec = count.fit_transform(sentence_list)"
      ],
      "execution_count": null,
      "outputs": []
    },
    {
      "cell_type": "code",
      "metadata": {
        "colab": {
          "base_uri": "https://localhost:8080/"
        },
        "id": "h6bVb7w2X-yq",
        "outputId": "a9cec8d6-36fa-4d79-942a-b813e2c1014f"
      },
      "source": [
        "tfidf_vec[0].toarray()"
      ],
      "execution_count": null,
      "outputs": [
        {
          "output_type": "execute_result",
          "data": {
            "text/plain": [
              "array([[0.        , 0.40993715, 0.40993715, 0.57615236, 0.57615236]])"
            ]
          },
          "metadata": {},
          "execution_count": 36
        }
      ]
    },
    {
      "cell_type": "code",
      "metadata": {
        "colab": {
          "base_uri": "https://localhost:8080/"
        },
        "id": "ayjiiYS5XBpd",
        "outputId": "6af94f9b-acb2-4e01-a69d-c04bbf6c2cb5"
      },
      "source": [
        "from sklearn.metrics.pairwise import cosine_similarity\n",
        "\n",
        "tfidf_cosine = cosine_similarity(tfidf_vec[0].toarray(), tfidf_vec[1].toarray())[0][0]\n",
        "count_cosine = cosine_similarity(count_vec[0].toarray(), count_vec[1].toarray())[0][0]\n",
        "\n",
        "print(\"tfidf consine similarity : \", tfidf_cosine)\n",
        "print(\"countvectorizer consine similarity : \", count_cosine)"
      ],
      "execution_count": null,
      "outputs": [
        {
          "output_type": "stream",
          "name": "stdout",
          "text": [
            "tfidf consine similarity :  0.4112070550676187\n",
            "countvectorizer consine similarity :  0.5773502691896258\n"
          ]
        }
      ]
    },
    {
      "cell_type": "code",
      "metadata": {
        "colab": {
          "base_uri": "https://localhost:8080/"
        },
        "id": "M5JsfLKlleje",
        "outputId": "30b0dbe6-1482-4d47-9a82-5b7f38d4aa22"
      },
      "source": [
        "# 직접 구현시 코사인 유사도\n",
        "import numpy as np\n",
        "def my_cosine_similarity(x, y):  # x, y arrays\n",
        "    return np.sum(x*y) / np.sqrt((np.sum(x**2)*np.sum(y**2)))\n",
        "\n",
        "my_tfidf = my_cosine_similarity(tfidf_vec.toarray()[0], tfidf_vec.toarray()[1])\n",
        "my_count = my_cosine_similarity(count_vec.toarray()[0], count_vec.toarray()[1])\n",
        "\n",
        "print(\"my tfidf consine similarity : \", my_tfidf)\n",
        "print(\"my countvectorizer consine similarity : \", my_count)"
      ],
      "execution_count": null,
      "outputs": [
        {
          "output_type": "stream",
          "name": "stdout",
          "text": [
            "my tfidf consine similarity :  0.4112070550676187\n",
            "my countvectorizer consine similarity :  0.5773502691896258\n"
          ]
        }
      ]
    },
    {
      "cell_type": "code",
      "metadata": {
        "colab": {
          "base_uri": "https://localhost:8080/"
        },
        "id": "P6L32oerX-yt",
        "outputId": "f225af54-dd15-4ccd-c82b-ad35e9097664"
      },
      "source": [
        "# Jaccard similarity\n",
        "sentence_list = ['우리 모두 함께 놀자','모두 같이 놀자']\n",
        "def get_jaccard_sim(str1, str2): \n",
        "    a = set(str1.split()) \n",
        "    b = set(str2.split())\n",
        "    c = a.intersection(b)\n",
        "    return float(len(c)) / (len(a) + len(b) - len(c))\n",
        "\n",
        "get_jaccard_sim(sentence_list[0], sentence_list[1])"
      ],
      "execution_count": null,
      "outputs": [
        {
          "output_type": "execute_result",
          "data": {
            "text/plain": [
              "0.4"
            ]
          },
          "metadata": {},
          "execution_count": 39
        }
      ]
    },
    {
      "cell_type": "markdown",
      "metadata": {
        "id": "k52GBZL85vhE"
      },
      "source": [
        "# Word2Vec - English\n",
        "- https://machinelearningmastery.com/develop-word-embeddings-python-gensim/"
      ]
    },
    {
      "cell_type": "code",
      "metadata": {
        "colab": {
          "base_uri": "https://localhost:8080/"
        },
        "id": "t-zErPLY5vhF",
        "outputId": "05ed4f6b-5e9f-47dc-e8e2-223418dd93b2"
      },
      "source": [
        "from gensim.models import Word2Vec\n",
        "# define training data\n",
        "sentences = [['this', 'is', 'the', 'first', 'sentence', 'for', 'word2vec'],\n",
        "\t\t\t ['this', 'is', 'the', 'second', 'sentence'],\n",
        "\t\t\t ['yet', 'another', 'sentence'],\n",
        "\t\t \t ['one', 'more', 'sentence'],\n",
        "\t\t\t ['and', 'the', 'final', 'sentence']]\n",
        "# train model\n",
        "model = Word2Vec(sentences, min_count=1, size=5)\n",
        "# summarize the loaded model\n",
        "print(model)"
      ],
      "execution_count": null,
      "outputs": [
        {
          "output_type": "stream",
          "name": "stderr",
          "text": [
            "WARNING:gensim.models.base_any2vec:consider setting layer size to a multiple of 4 for greater performance\n",
            "WARNING:gensim.models.base_any2vec:under 10 jobs per worker: consider setting a smaller `batch_words' for smoother alpha decay\n"
          ]
        },
        {
          "output_type": "stream",
          "name": "stdout",
          "text": [
            "Word2Vec(vocab=14, size=5, alpha=0.025)\n"
          ]
        }
      ]
    },
    {
      "cell_type": "code",
      "metadata": {
        "colab": {
          "base_uri": "https://localhost:8080/"
        },
        "id": "pVEq24EH5vhG",
        "outputId": "269fb456-70c4-4d4e-b049-fc2f93335d3b"
      },
      "source": [
        "# summarize vocabulary (to see learned vocabulary of tokens (words) )\n",
        "words = list(model.wv.vocab)\n",
        "print(words)"
      ],
      "execution_count": null,
      "outputs": [
        {
          "output_type": "stream",
          "name": "stdout",
          "text": [
            "['this', 'is', 'the', 'first', 'sentence', 'for', 'word2vec', 'second', 'yet', 'another', 'one', 'more', 'and', 'final']\n"
          ]
        }
      ]
    },
    {
      "cell_type": "code",
      "source": [
        "# access vector for one word\n",
        "print(model['sentence'])"
      ],
      "metadata": {
        "colab": {
          "base_uri": "https://localhost:8080/"
        },
        "id": "xESBnMxOm8Ok",
        "outputId": "05592023-8ef0-4ef3-e2f2-8ef7482ff3ee"
      },
      "execution_count": null,
      "outputs": [
        {
          "output_type": "stream",
          "name": "stdout",
          "text": [
            "[ 0.00327295 -0.07804104  0.07191536  0.03635828 -0.06252441]\n"
          ]
        },
        {
          "output_type": "stream",
          "name": "stderr",
          "text": [
            "/usr/local/lib/python3.7/dist-packages/ipykernel_launcher.py:2: DeprecationWarning: Call to deprecated `__getitem__` (Method will be removed in 4.0.0, use self.wv.__getitem__() instead).\n",
            "  \n"
          ]
        }
      ]
    },
    {
      "cell_type": "code",
      "source": [
        "# save model\n",
        "model.save('model.bin')\n",
        "# load model\n",
        "new_model = Word2Vec.load('model.bin')\n",
        "print(new_model)"
      ],
      "metadata": {
        "colab": {
          "base_uri": "https://localhost:8080/"
        },
        "id": "zog4Xb7CnFrn",
        "outputId": "983cb0d8-9b89-4dda-9880-d6e090770112"
      },
      "execution_count": null,
      "outputs": [
        {
          "output_type": "stream",
          "name": "stdout",
          "text": [
            "Word2Vec(vocab=14, size=5, alpha=0.025)\n"
          ]
        }
      ]
    },
    {
      "cell_type": "code",
      "metadata": {
        "colab": {
          "base_uri": "https://localhost:8080/",
          "height": 320
        },
        "id": "wcEldlZC5vhH",
        "outputId": "ac6a19ee-01d8-4246-e0ea-5d73fa43bced"
      },
      "source": [
        "from sklearn.decomposition import PCA\n",
        "import matplotlib.pyplot as plt\n",
        "%matplotlib inline\n",
        "\n",
        "X = model[model.wv.vocab]\n",
        "pca = PCA(n_components=2)\n",
        "result = pca.fit_transform(X)\n",
        "\n",
        "plt.scatter(result[:, 0], result[:, 1])\n",
        "words = list(model.wv.vocab)\n",
        "for i, word in enumerate(words):\n",
        "    plt.annotate(word, xy=(result[i, 0], result[i, 1]))\n",
        "plt.show()"
      ],
      "execution_count": null,
      "outputs": [
        {
          "output_type": "stream",
          "name": "stderr",
          "text": [
            "/usr/local/lib/python3.7/dist-packages/ipykernel_launcher.py:5: DeprecationWarning: Call to deprecated `__getitem__` (Method will be removed in 4.0.0, use self.wv.__getitem__() instead).\n",
            "  \"\"\"\n"
          ]
        },
        {
          "output_type": "display_data",
          "data": {
            "text/plain": [
              "<Figure size 432x288 with 1 Axes>"
            ],
            "image/png": "[encoded data removed]"
          },
          "metadata": {
            "needs_background": "light"
          }
        }
      ]
    },
    {
      "cell_type": "code",
      "metadata": {
        "colab": {
          "base_uri": "https://localhost:8080/"
        },
        "id": "GEel5dpu5vhI",
        "outputId": "e0d24a0f-24bd-4e9c-ed24-bbe7b63073c7"
      },
      "source": [
        "# you can continue training it later\n",
        "model.train([[\"hello\", \"world\"]], total_examples=1, epochs=1)"
      ],
      "execution_count": null,
      "outputs": [
        {
          "output_type": "stream",
          "name": "stderr",
          "text": [
            "WARNING:gensim.models.base_any2vec:under 10 jobs per worker: consider setting a smaller `batch_words' for smoother alpha decay\n"
          ]
        },
        {
          "output_type": "execute_result",
          "data": {
            "text/plain": [
              "(0, 2)"
            ]
          },
          "metadata": {},
          "execution_count": 5
        }
      ]
    },
    {
      "cell_type": "markdown",
      "metadata": {
        "id": "gCcWi_BU2UHh"
      },
      "source": [
        "# Using pre-trained Word2Vec model\n",
        "- GoogleNews-vectors-negative300.bin\n",
        "- Korean version \"ko.vec\" available"
      ]
    },
    {
      "cell_type": "code",
      "metadata": {
        "id": "TrabgKiToBNl"
      },
      "source": [
        "import gensim\n",
        "from gensim.models import word2vec\n",
        "from gensim.models import KeyedVectors\n",
        "from sklearn.metrics.pairwise import cosine_similarity"
      ],
      "execution_count": null,
      "outputs": []
    },
    {
      "cell_type": "markdown",
      "source": [
        "- Its size is too big (bigger than 1.6 GB) and downloading may not be possible."
      ],
      "metadata": {
        "id": "gDoFRp3Xbicd"
      }
    },
    {
      "cell_type": "code",
      "metadata": {
        "colab": {
          "base_uri": "https://localhost:8080/"
        },
        "id": "YPs7X9fOoB6w",
        "outputId": "4e5e5606-e01d-4d23-a633-a468c9b8b8b5"
      },
      "source": [
        "!wget -P ./ -c \"https://s3.amazonaws.com/dl4j-distribution/GoogleNews-vectors-negative300.bin.gz\""
      ],
      "execution_count": null,
      "outputs": [
        {
          "output_type": "stream",
          "name": "stdout",
          "text": [
            "--2022-11-12 12:32:28--  https://s3.amazonaws.com/dl4j-distribution/GoogleNews-vectors-negative300.bin.gz\n",
            "Resolving s3.amazonaws.com (s3.amazonaws.com)... 52.217.228.192\n",
            "Connecting to s3.amazonaws.com (s3.amazonaws.com)|52.217.228.192|:443... connected.\n",
            "HTTP request sent, awaiting response... 404 Not Found\n",
            "2022-11-12 12:32:28 ERROR 404: Not Found.\n",
            "\n"
          ]
        }
      ]
    },
    {
      "cell_type": "code",
      "metadata": {
        "colab": {
          "base_uri": "https://localhost:8080/"
        },
        "id": "-us2xkjgoFwJ",
        "outputId": "a3745137-f17b-4e26-d9b9-10a155ff4fd8"
      },
      "source": [
        "!ls -l "
      ],
      "execution_count": null,
      "outputs": [
        {
          "output_type": "stream",
          "name": "stdout",
          "text": [
            "total 12\n",
            "-rw-r--r-- 1 root root 7188 Nov 12 12:30 model.bin\n",
            "drwxr-xr-x 1 root root 4096 Nov 10 14:30 sample_data\n"
          ]
        }
      ]
    },
    {
      "cell_type": "code",
      "metadata": {
        "id": "U0vpVfFroHIF",
        "colab": {
          "base_uri": "https://localhost:8080/",
          "height": 329
        },
        "outputId": "b7fcecc3-5510-465c-aa76-ccd5b66206b1"
      },
      "source": [
        "EMBEDDING_FILE = './GoogleNews-vectors-negative300.bin.gz'\n",
        "word_vectors = KeyedVectors.load_word2vec_format(EMBEDDING_FILE, binary=True)"
      ],
      "execution_count": null,
      "outputs": [
        {
          "output_type": "error",
          "ename": "FileNotFoundError",
          "evalue": "ignored",
          "traceback": [
            "\u001b[0;31m---------------------------------------------------------------------------\u001b[0m",
            "\u001b[0;31mFileNotFoundError\u001b[0m                         Traceback (most recent call last)",
            "\u001b[0;32m<ipython-input-9-213e938d9a19>\u001b[0m in \u001b[0;36m<module>\u001b[0;34m\u001b[0m\n\u001b[1;32m      1\u001b[0m \u001b[0mEMBEDDING_FILE\u001b[0m \u001b[0;34m=\u001b[0m \u001b[0;34m'./GoogleNews-vectors-negative300.bin.gz'\u001b[0m\u001b[0;34m\u001b[0m\u001b[0;34m\u001b[0m\u001b[0m\n\u001b[0;32m----> 2\u001b[0;31m \u001b[0mword_vectors\u001b[0m \u001b[0;34m=\u001b[0m \u001b[0mKeyedVectors\u001b[0m\u001b[0;34m.\u001b[0m\u001b[0mload_word2vec_format\u001b[0m\u001b[0;34m(\u001b[0m\u001b[0mEMBEDDING_FILE\u001b[0m\u001b[0;34m,\u001b[0m \u001b[0mbinary\u001b[0m\u001b[0;34m=\u001b[0m\u001b[0;32mTrue\u001b[0m\u001b[0;34m)\u001b[0m\u001b[0;34m\u001b[0m\u001b[0;34m\u001b[0m\u001b[0m\n\u001b[0m",
            "\u001b[0;32m/usr/local/lib/python3.7/dist-packages/gensim/models/keyedvectors.py\u001b[0m in \u001b[0;36mload_word2vec_format\u001b[0;34m(cls, fname, fvocab, binary, encoding, unicode_errors, limit, datatype)\u001b[0m\n\u001b[1;32m   1436\u001b[0m         return _load_word2vec_format(\n\u001b[1;32m   1437\u001b[0m             \u001b[0mcls\u001b[0m\u001b[0;34m,\u001b[0m \u001b[0mfname\u001b[0m\u001b[0;34m,\u001b[0m \u001b[0mfvocab\u001b[0m\u001b[0;34m=\u001b[0m\u001b[0mfvocab\u001b[0m\u001b[0;34m,\u001b[0m \u001b[0mbinary\u001b[0m\u001b[0;34m=\u001b[0m\u001b[0mbinary\u001b[0m\u001b[0;34m,\u001b[0m \u001b[0mencoding\u001b[0m\u001b[0;34m=\u001b[0m\u001b[0mencoding\u001b[0m\u001b[0;34m,\u001b[0m \u001b[0municode_errors\u001b[0m\u001b[0;34m=\u001b[0m\u001b[0municode_errors\u001b[0m\u001b[0;34m,\u001b[0m\u001b[0;34m\u001b[0m\u001b[0;34m\u001b[0m\u001b[0m\n\u001b[0;32m-> 1438\u001b[0;31m             limit=limit, datatype=datatype)\n\u001b[0m\u001b[1;32m   1439\u001b[0m \u001b[0;34m\u001b[0m\u001b[0m\n\u001b[1;32m   1440\u001b[0m     \u001b[0;32mdef\u001b[0m \u001b[0mget_keras_embedding\u001b[0m\u001b[0;34m(\u001b[0m\u001b[0mself\u001b[0m\u001b[0;34m,\u001b[0m \u001b[0mtrain_embeddings\u001b[0m\u001b[0;34m=\u001b[0m\u001b[0;32mFalse\u001b[0m\u001b[0;34m)\u001b[0m\u001b[0;34m:\u001b[0m\u001b[0;34m\u001b[0m\u001b[0;34m\u001b[0m\u001b[0m\n",
            "\u001b[0;32m/usr/local/lib/python3.7/dist-packages/gensim/models/utils_any2vec.py\u001b[0m in \u001b[0;36m_load_word2vec_format\u001b[0;34m(cls, fname, fvocab, binary, encoding, unicode_errors, limit, datatype)\u001b[0m\n\u001b[1;32m    169\u001b[0m \u001b[0;34m\u001b[0m\u001b[0m\n\u001b[1;32m    170\u001b[0m     \u001b[0mlogger\u001b[0m\u001b[0;34m.\u001b[0m\u001b[0minfo\u001b[0m\u001b[0;34m(\u001b[0m\u001b[0;34m\"loading projection weights from %s\"\u001b[0m\u001b[0;34m,\u001b[0m \u001b[0mfname\u001b[0m\u001b[0;34m)\u001b[0m\u001b[0;34m\u001b[0m\u001b[0;34m\u001b[0m\u001b[0m\n\u001b[0;32m--> 171\u001b[0;31m     \u001b[0;32mwith\u001b[0m \u001b[0mutils\u001b[0m\u001b[0;34m.\u001b[0m\u001b[0msmart_open\u001b[0m\u001b[0;34m(\u001b[0m\u001b[0mfname\u001b[0m\u001b[0;34m)\u001b[0m \u001b[0;32mas\u001b[0m \u001b[0mfin\u001b[0m\u001b[0;34m:\u001b[0m\u001b[0;34m\u001b[0m\u001b[0;34m\u001b[0m\u001b[0m\n\u001b[0m\u001b[1;32m    172\u001b[0m         \u001b[0mheader\u001b[0m \u001b[0;34m=\u001b[0m \u001b[0mutils\u001b[0m\u001b[0;34m.\u001b[0m\u001b[0mto_unicode\u001b[0m\u001b[0;34m(\u001b[0m\u001b[0mfin\u001b[0m\u001b[0;34m.\u001b[0m\u001b[0mreadline\u001b[0m\u001b[0;34m(\u001b[0m\u001b[0;34m)\u001b[0m\u001b[0;34m,\u001b[0m \u001b[0mencoding\u001b[0m\u001b[0;34m=\u001b[0m\u001b[0mencoding\u001b[0m\u001b[0;34m)\u001b[0m\u001b[0;34m\u001b[0m\u001b[0;34m\u001b[0m\u001b[0m\n\u001b[1;32m    173\u001b[0m         \u001b[0mvocab_size\u001b[0m\u001b[0;34m,\u001b[0m \u001b[0mvector_size\u001b[0m \u001b[0;34m=\u001b[0m \u001b[0;34m(\u001b[0m\u001b[0mint\u001b[0m\u001b[0;34m(\u001b[0m\u001b[0mx\u001b[0m\u001b[0;34m)\u001b[0m \u001b[0;32mfor\u001b[0m \u001b[0mx\u001b[0m \u001b[0;32min\u001b[0m \u001b[0mheader\u001b[0m\u001b[0;34m.\u001b[0m\u001b[0msplit\u001b[0m\u001b[0;34m(\u001b[0m\u001b[0;34m)\u001b[0m\u001b[0;34m)\u001b[0m  \u001b[0;31m# throws for invalid file format\u001b[0m\u001b[0;34m\u001b[0m\u001b[0;34m\u001b[0m\u001b[0m\n",
            "\u001b[0;32m/usr/local/lib/python3.7/dist-packages/smart_open/smart_open_lib.py\u001b[0m in \u001b[0;36msmart_open\u001b[0;34m(***failed resolving arguments***)\u001b[0m\n\u001b[1;32m    496\u001b[0m     \u001b[0mignore_ext\u001b[0m \u001b[0;34m=\u001b[0m \u001b[0mignore_extension\u001b[0m\u001b[0;34m\u001b[0m\u001b[0;34m\u001b[0m\u001b[0m\n\u001b[1;32m    497\u001b[0m     \u001b[0;32mdel\u001b[0m \u001b[0mkwargs\u001b[0m\u001b[0;34m,\u001b[0m \u001b[0murl\u001b[0m\u001b[0;34m,\u001b[0m \u001b[0mmessage\u001b[0m\u001b[0;34m,\u001b[0m \u001b[0mignore_extension\u001b[0m\u001b[0;34m\u001b[0m\u001b[0;34m\u001b[0m\u001b[0m\n\u001b[0;32m--> 498\u001b[0;31m     \u001b[0;32mreturn\u001b[0m \u001b[0mopen\u001b[0m\u001b[0;34m(\u001b[0m\u001b[0;34m**\u001b[0m\u001b[0mlocals\u001b[0m\u001b[0;34m(\u001b[0m\u001b[0;34m)\u001b[0m\u001b[0;34m)\u001b[0m\u001b[0;34m\u001b[0m\u001b[0;34m\u001b[0m\u001b[0m\n\u001b[0m\u001b[1;32m    499\u001b[0m \u001b[0;34m\u001b[0m\u001b[0m\n\u001b[1;32m    500\u001b[0m \u001b[0;34m\u001b[0m\u001b[0m\n",
            "\u001b[0;32m/usr/local/lib/python3.7/dist-packages/smart_open/smart_open_lib.py\u001b[0m in \u001b[0;36mopen\u001b[0;34m(uri, mode, buffering, encoding, errors, newline, closefd, opener, ignore_ext, compression, transport_params)\u001b[0m\n\u001b[1;32m    233\u001b[0m         \u001b[0;32mraise\u001b[0m \u001b[0mNotImplementedError\u001b[0m\u001b[0;34m(\u001b[0m\u001b[0mve\u001b[0m\u001b[0;34m.\u001b[0m\u001b[0margs\u001b[0m\u001b[0;34m[\u001b[0m\u001b[0;36m0\u001b[0m\u001b[0;34m]\u001b[0m\u001b[0;34m)\u001b[0m\u001b[0;34m\u001b[0m\u001b[0;34m\u001b[0m\u001b[0m\n\u001b[1;32m    234\u001b[0m \u001b[0;34m\u001b[0m\u001b[0m\n\u001b[0;32m--> 235\u001b[0;31m     \u001b[0mbinary\u001b[0m \u001b[0;34m=\u001b[0m \u001b[0m_open_binary_stream\u001b[0m\u001b[0;34m(\u001b[0m\u001b[0muri\u001b[0m\u001b[0;34m,\u001b[0m \u001b[0mbinary_mode\u001b[0m\u001b[0;34m,\u001b[0m \u001b[0mtransport_params\u001b[0m\u001b[0;34m)\u001b[0m\u001b[0;34m\u001b[0m\u001b[0;34m\u001b[0m\u001b[0m\n\u001b[0m\u001b[1;32m    236\u001b[0m     \u001b[0mdecompressed\u001b[0m \u001b[0;34m=\u001b[0m \u001b[0mso_compression\u001b[0m\u001b[0;34m.\u001b[0m\u001b[0mcompression_wrapper\u001b[0m\u001b[0;34m(\u001b[0m\u001b[0mbinary\u001b[0m\u001b[0;34m,\u001b[0m \u001b[0mbinary_mode\u001b[0m\u001b[0;34m,\u001b[0m \u001b[0mcompression\u001b[0m\u001b[0;34m)\u001b[0m\u001b[0;34m\u001b[0m\u001b[0;34m\u001b[0m\u001b[0m\n\u001b[1;32m    237\u001b[0m \u001b[0;34m\u001b[0m\u001b[0m\n",
            "\u001b[0;32m/usr/local/lib/python3.7/dist-packages/smart_open/smart_open_lib.py\u001b[0m in \u001b[0;36m_open_binary_stream\u001b[0;34m(uri, mode, transport_params)\u001b[0m\n\u001b[1;32m    396\u001b[0m     \u001b[0mscheme\u001b[0m \u001b[0;34m=\u001b[0m \u001b[0m_sniff_scheme\u001b[0m\u001b[0;34m(\u001b[0m\u001b[0muri\u001b[0m\u001b[0;34m)\u001b[0m\u001b[0;34m\u001b[0m\u001b[0;34m\u001b[0m\u001b[0m\n\u001b[1;32m    397\u001b[0m     \u001b[0msubmodule\u001b[0m \u001b[0;34m=\u001b[0m \u001b[0mtransport\u001b[0m\u001b[0;34m.\u001b[0m\u001b[0mget_transport\u001b[0m\u001b[0;34m(\u001b[0m\u001b[0mscheme\u001b[0m\u001b[0;34m)\u001b[0m\u001b[0;34m\u001b[0m\u001b[0;34m\u001b[0m\u001b[0m\n\u001b[0;32m--> 398\u001b[0;31m     \u001b[0mfobj\u001b[0m \u001b[0;34m=\u001b[0m \u001b[0msubmodule\u001b[0m\u001b[0;34m.\u001b[0m\u001b[0mopen_uri\u001b[0m\u001b[0;34m(\u001b[0m\u001b[0muri\u001b[0m\u001b[0;34m,\u001b[0m \u001b[0mmode\u001b[0m\u001b[0;34m,\u001b[0m \u001b[0mtransport_params\u001b[0m\u001b[0;34m)\u001b[0m\u001b[0;34m\u001b[0m\u001b[0;34m\u001b[0m\u001b[0m\n\u001b[0m\u001b[1;32m    399\u001b[0m     \u001b[0;32mif\u001b[0m \u001b[0;32mnot\u001b[0m \u001b[0mhasattr\u001b[0m\u001b[0;34m(\u001b[0m\u001b[0mfobj\u001b[0m\u001b[0;34m,\u001b[0m \u001b[0;34m'name'\u001b[0m\u001b[0;34m)\u001b[0m\u001b[0;34m:\u001b[0m\u001b[0;34m\u001b[0m\u001b[0;34m\u001b[0m\u001b[0m\n\u001b[1;32m    400\u001b[0m         \u001b[0mfobj\u001b[0m\u001b[0;34m.\u001b[0m\u001b[0mname\u001b[0m \u001b[0;34m=\u001b[0m \u001b[0muri\u001b[0m\u001b[0;34m\u001b[0m\u001b[0;34m\u001b[0m\u001b[0m\n",
            "\u001b[0;32m/usr/local/lib/python3.7/dist-packages/smart_open/local_file.py\u001b[0m in \u001b[0;36mopen_uri\u001b[0;34m(uri_as_string, mode, transport_params)\u001b[0m\n\u001b[1;32m     32\u001b[0m \u001b[0;32mdef\u001b[0m \u001b[0mopen_uri\u001b[0m\u001b[0;34m(\u001b[0m\u001b[0muri_as_string\u001b[0m\u001b[0;34m,\u001b[0m \u001b[0mmode\u001b[0m\u001b[0;34m,\u001b[0m \u001b[0mtransport_params\u001b[0m\u001b[0;34m)\u001b[0m\u001b[0;34m:\u001b[0m\u001b[0;34m\u001b[0m\u001b[0;34m\u001b[0m\u001b[0m\n\u001b[1;32m     33\u001b[0m     \u001b[0mparsed_uri\u001b[0m \u001b[0;34m=\u001b[0m \u001b[0mparse_uri\u001b[0m\u001b[0;34m(\u001b[0m\u001b[0muri_as_string\u001b[0m\u001b[0;34m)\u001b[0m\u001b[0;34m\u001b[0m\u001b[0;34m\u001b[0m\u001b[0m\n\u001b[0;32m---> 34\u001b[0;31m     \u001b[0mfobj\u001b[0m \u001b[0;34m=\u001b[0m \u001b[0mio\u001b[0m\u001b[0;34m.\u001b[0m\u001b[0mopen\u001b[0m\u001b[0;34m(\u001b[0m\u001b[0mparsed_uri\u001b[0m\u001b[0;34m[\u001b[0m\u001b[0;34m'uri_path'\u001b[0m\u001b[0;34m]\u001b[0m\u001b[0;34m,\u001b[0m \u001b[0mmode\u001b[0m\u001b[0;34m)\u001b[0m\u001b[0;34m\u001b[0m\u001b[0;34m\u001b[0m\u001b[0m\n\u001b[0m\u001b[1;32m     35\u001b[0m     \u001b[0;32mreturn\u001b[0m \u001b[0mfobj\u001b[0m\u001b[0;34m\u001b[0m\u001b[0;34m\u001b[0m\u001b[0m\n\u001b[1;32m     36\u001b[0m \u001b[0;34m\u001b[0m\u001b[0m\n",
            "\u001b[0;31mFileNotFoundError\u001b[0m: [Errno 2] No such file or directory: './GoogleNews-vectors-negative300.bin.gz'"
          ]
        }
      ]
    },
    {
      "cell_type": "code",
      "metadata": {
        "id": "PadHwwom2W02"
      },
      "source": [
        "word_vectors.vectors.shape"
      ],
      "execution_count": null,
      "outputs": []
    },
    {
      "cell_type": "code",
      "metadata": {
        "id": "pfr5_QCNoK1f"
      },
      "source": [
        "v_apple = word_vectors[\"apple\"] \n",
        "v_mango = word_vectors[\"mango\"]\n",
        "print(v_apple.shape)\n",
        "print(v_mango.shape)\n",
        "cosine_similarity([v_mango],[v_apple])"
      ],
      "execution_count": null,
      "outputs": []
    },
    {
      "cell_type": "code",
      "metadata": {
        "id": "JcTyNa3doNDp"
      },
      "source": [
        "word_vectors.most_similar([\"apple\"]), word_vectors.most_similar(\"tiger\")"
      ],
      "execution_count": null,
      "outputs": []
    },
    {
      "cell_type": "markdown",
      "metadata": {
        "id": "dBXTJ7UgqxYr"
      },
      "source": [
        "- king - man + woman"
      ]
    },
    {
      "cell_type": "code",
      "metadata": {
        "id": "31c6m44topuq"
      },
      "source": [
        "word_vectors.most_similar(positive=[\"king\",\"Woman\"], negative=[\"man\"])"
      ],
      "execution_count": null,
      "outputs": []
    },
    {
      "cell_type": "code",
      "metadata": {
        "id": "paz1BOtfriIs"
      },
      "source": [
        "words = [\"soccer\", \"football\", \"baseball\", \"volleyball\", \"basketball\", \"tennis\",\n",
        "         \"persimmon\", \"softball\", \"apple\", \"hockey\", \"orange\", \"pear\", \"strawberry\",\n",
        "         \"eat\", \"drink\", \"taste\", \"talk\", \"speak\", \"study\", \"research\", \"have\", \"take\"]\n",
        "mat = word_vectors[words]\n",
        "mat.shape"
      ],
      "execution_count": null,
      "outputs": []
    },
    {
      "cell_type": "code",
      "metadata": {
        "id": "DM1kJgV9sUJK"
      },
      "source": [
        "from sklearn.decomposition import PCA\n",
        "pca = PCA(n_components=2)\n",
        "xys = pca.fit_transform(mat)\n",
        "xs = xys[:,0]\n",
        "ys = xys[:,1]\n",
        "\n",
        "plt.figure(figsize=(12,6))\n",
        "plt.scatter(xs, ys)\n",
        "\n",
        "for i, word in enumerate(words):\n",
        "    plt.annotate(word, xy=(xs[i], ys[i]), rotation=30)\n",
        "plt.show()"
      ],
      "execution_count": null,
      "outputs": []
    },
    {
      "cell_type": "markdown",
      "metadata": {
        "id": "EOkmC9NyoJiU"
      },
      "source": [
        "- Pre-trained Word2Vec\n",
        "  - for english: (about 3 GB, and takes long to download): https://code.google.com/archive/p/word2vec \n",
        "  - word vectors of 30+ languages: https://github.com/Kyubyong/wordvectors"
      ]
    },
    {
      "cell_type": "markdown",
      "metadata": {
        "id": "h5IKa_teWpZ5"
      },
      "source": [
        "# Glove - pretrained word embedder"
      ]
    },
    {
      "cell_type": "code",
      "metadata": {
        "id": "b52stlpYWucB",
        "colab": {
          "base_uri": "https://localhost:8080/"
        },
        "outputId": "0e49db85-a29e-44c3-a56e-f26702398255"
      },
      "source": [
        "import gensim.downloader as api\n",
        "\n",
        "glove_model = api.load('glove-twitter-25')\n",
        "sample_glove_embedding=glove_model['computer']"
      ],
      "execution_count": 1,
      "outputs": [
        {
          "output_type": "stream",
          "name": "stdout",
          "text": [
            "[==================================================] 100.0% 104.8/104.8MB downloaded\n"
          ]
        }
      ]
    },
    {
      "cell_type": "code",
      "metadata": {
        "id": "0g-qpQklX0WB",
        "colab": {
          "base_uri": "https://localhost:8080/"
        },
        "outputId": "e91f2a44-7869-4c90-b95f-ed7a3566f45c"
      },
      "source": [
        "sample_glove_embedding"
      ],
      "execution_count": null,
      "outputs": [
        {
          "output_type": "execute_result",
          "data": {
            "text/plain": [
              "array([ 0.64005 , -0.019514,  0.70148 , -0.66123 ,  1.1723  , -0.58859 ,\n",
              "        0.25917 , -0.81541 ,  1.1708  ,  1.1413  , -0.15405 , -0.11369 ,\n",
              "       -3.8414  , -0.87233 ,  0.47489 ,  1.1541  ,  0.97678 ,  1.1107  ,\n",
              "       -0.14572 , -0.52013 , -0.52234 , -0.92349 ,  0.34651 ,  0.061939,\n",
              "       -0.57375 ], dtype=float32)"
            ]
          },
          "metadata": {},
          "execution_count": 10
        }
      ]
    },
    {
      "cell_type": "code",
      "metadata": {
        "id": "hwC7x3WsXtL-",
        "colab": {
          "base_uri": "https://localhost:8080/"
        },
        "outputId": "5c336f8e-76bc-4c13-cd51-c1f5c59a642d"
      },
      "source": [
        "words = [\"soccer\", \"football\", \"baseball\", \"volleyball\", \"basketball\", \"tennis\",\n",
        "         \"persimmon\", \"softball\", \"apple\", \"hockey\", \"orange\", \"pear\", \"strawberry\",\n",
        "         \"eat\", \"drink\", \"taste\", \"talk\", \"speak\", \"study\", \"research\", \"have\", \"take\"]\n",
        "mat = glove_model[words]\n",
        "mat.shape"
      ],
      "execution_count": null,
      "outputs": [
        {
          "output_type": "execute_result",
          "data": {
            "text/plain": [
              "(22, 25)"
            ]
          },
          "metadata": {},
          "execution_count": 11
        }
      ]
    },
    {
      "cell_type": "code",
      "metadata": {
        "id": "mxR5cFVmYOcY"
      },
      "source": [
        "import matplotlib.pyplot as plt"
      ],
      "execution_count": null,
      "outputs": []
    },
    {
      "cell_type": "code",
      "metadata": {
        "id": "re1q5inCYG2g",
        "colab": {
          "base_uri": "https://localhost:8080/",
          "height": 394
        },
        "outputId": "e5376722-5d8f-4ea1-b908-93be17d3ee3d"
      },
      "source": [
        "from sklearn.decomposition import PCA\n",
        "pca = PCA(n_components=2)\n",
        "xys = pca.fit_transform(mat)\n",
        "xs = xys[:,0]\n",
        "ys = xys[:,1]\n",
        "\n",
        "plt.figure(figsize=(12,6))\n",
        "plt.scatter(xs, ys)\n",
        "\n",
        "for i, word in enumerate(words):\n",
        "    plt.annotate(word, xy=(xs[i], ys[i]), rotation=30)\n",
        "plt.show()"
      ],
      "execution_count": null,
      "outputs": [
        {
          "output_type": "display_data",
          "data": {
            "text/plain": [
              "<Figure size 864x432 with 1 Axes>"
            ],
            "image/png": "[encoded data removed]"
          },
          "metadata": {
            "needs_background": "light"
          }
        }
      ]
    },
    {
      "cell_type": "markdown",
      "metadata": {
        "id": "r_6lEz7kXOwS"
      },
      "source": [
        "# difference between Glove and Word2Vec\n",
        "- Both word2vec and glove enable us to represent a word in the form of a vector (often called embedding). They are the two most popular algorithms for word embeddings that bring out the semantic similarity of words that captures different facets of the meaning of a word.\n",
        "- Word2vec embeddings are based on training a shallow feedforward neural network while glove embeddings are learnt based on matrix factorization techniques.\n",
        "- Glove model is based on leveraging global word to word co-occurance counts leveraging the entire corpus. Word2vec on the other hand leverages co-occurance within local context (neighbouring words).\n",
        "- In practice, however, both these models give similar results for many tasks. ​_Factors such as the dataset on which these models are trained, length of the vectors and so on seem to have a bigger impact than the models themselves. For instance, if I am using these models to derive  the features for a medical application, I can significantly improve performance by training on dataset from the medical domain."
      ]
    },
    {
      "cell_type": "markdown",
      "metadata": {
        "id": "Zf11GuuC9RQB"
      },
      "source": [
        "# Doc2Vec\n",
        "- extension of Word2Vec \n",
        "- https://lovit.github.io/nlp/representation/2018/03/26/word_doc_embedding/\n",
        "- doc2vec을 만드는 과정에서 word2vec 모델이 필요하므로 필연적으로 word2vec도 생성"
      ]
    },
    {
      "cell_type": "code",
      "metadata": {
        "id": "9MHxmSOgX-yz"
      },
      "source": [
        "#Import all the dependencies\n",
        "from gensim.models.doc2vec import Doc2Vec, TaggedDocument\n",
        "from nltk.tokenize import word_tokenize"
      ],
      "execution_count": null,
      "outputs": []
    },
    {
      "cell_type": "code",
      "metadata": {
        "id": "JdrCqDa2_8fx",
        "colab": {
          "base_uri": "https://localhost:8080/"
        },
        "outputId": "5e94ca01-24a4-4d4c-bd4a-f2f1ed0e4842"
      },
      "source": [
        "import nltk\n",
        "nltk.download('punkt')"
      ],
      "execution_count": null,
      "outputs": [
        {
          "output_type": "stream",
          "name": "stderr",
          "text": [
            "[nltk_data] Downloading package punkt to /root/nltk_data...\n",
            "[nltk_data]   Unzipping tokenizers/punkt.zip.\n"
          ]
        },
        {
          "output_type": "execute_result",
          "data": {
            "text/plain": [
              "True"
            ]
          },
          "metadata": {},
          "execution_count": 18
        }
      ]
    },
    {
      "cell_type": "code",
      "metadata": {
        "id": "OESglOcEMZ5p"
      },
      "source": [
        "data = [\"I love machine learning. Its awesome.\",\n",
        "        \"I love coding in python\",\n",
        "        \"I love building chatbots\",\n",
        "        \"they chat amagingly well\"]\n",
        "\n",
        "tagged_data = [TaggedDocument(words=word_tokenize(_d.lower()), tags=[str(i)]) for i, _d in enumerate(data)]"
      ],
      "execution_count": null,
      "outputs": []
    },
    {
      "cell_type": "code",
      "metadata": {
        "id": "k3sM8cZoALxJ",
        "colab": {
          "base_uri": "https://localhost:8080/"
        },
        "outputId": "d03a6dcd-d6cb-47bb-f0f9-93011289cd7d"
      },
      "source": [
        "tagged_data"
      ],
      "execution_count": null,
      "outputs": [
        {
          "output_type": "execute_result",
          "data": {
            "text/plain": [
              "[TaggedDocument(words=['i', 'love', 'machine', 'learning', '.', 'its', 'awesome', '.'], tags=['0']),\n",
              " TaggedDocument(words=['i', 'love', 'coding', 'in', 'python'], tags=['1']),\n",
              " TaggedDocument(words=['i', 'love', 'building', 'chatbots'], tags=['2']),\n",
              " TaggedDocument(words=['they', 'chat', 'amagingly', 'well'], tags=['3'])]"
            ]
          },
          "metadata": {},
          "execution_count": 20
        }
      ]
    },
    {
      "cell_type": "code",
      "metadata": {
        "id": "zVD90lOAAWlr",
        "colab": {
          "base_uri": "https://localhost:8080/"
        },
        "outputId": "47866be1-87e8-484a-df4b-3046a122fad8"
      },
      "source": [
        "max_epochs = 100\n",
        "vec_size = 5\n",
        "alpha = 0.025\n",
        "\n",
        "model = Doc2Vec(vector_size=vec_size,\n",
        "                alpha=alpha, \n",
        "                min_alpha=0.00025,\n",
        "                min_count=1,\n",
        "                dm =1)    # dm=1:preserves word order, 0: do not preserve order\n",
        "  \n",
        "model.build_vocab(tagged_data)   # build a vocabulary"
      ],
      "execution_count": null,
      "outputs": [
        {
          "output_type": "stream",
          "name": "stderr",
          "text": [
            "WARNING:gensim.models.base_any2vec:consider setting layer size to a multiple of 4 for greater performance\n"
          ]
        }
      ]
    },
    {
      "cell_type": "code",
      "metadata": {
        "id": "6FmbclAvB2oM",
        "colab": {
          "base_uri": "https://localhost:8080/"
        },
        "outputId": "c6e4a2f6-dac5-4532-aceb-e74c39692b2c"
      },
      "source": [
        "model.corpus_count, model.epochs"
      ],
      "execution_count": null,
      "outputs": [
        {
          "output_type": "execute_result",
          "data": {
            "text/plain": [
              "(4, 5)"
            ]
          },
          "metadata": {},
          "execution_count": 22
        }
      ]
    },
    {
      "cell_type": "code",
      "metadata": {
        "id": "iPCBwYhUBVbI"
      },
      "source": [
        "for epoch in range(max_epochs):\n",
        "    model.train(tagged_data,\n",
        "                total_examples=model.corpus_count,\n",
        "                epochs=model.epochs)\n",
        "    \n",
        "    model.alpha -= 0.0002           # decrease the learning rate\n",
        "    model.min_alpha = model.alpha   # fix the learning rate, no decay\n",
        "\n",
        "model.save(\"d2v.model\")"
      ],
      "execution_count": null,
      "outputs": []
    },
    {
      "cell_type": "code",
      "metadata": {
        "id": "pCvFf76QCXb9"
      },
      "source": [
        "model= Doc2Vec.load(\"d2v.model\")"
      ],
      "execution_count": null,
      "outputs": []
    },
    {
      "cell_type": "code",
      "metadata": {
        "id": "32F6LiYUN755",
        "colab": {
          "base_uri": "https://localhost:8080/"
        },
        "outputId": "cc979505-50c5-4989-c17f-82e9d191496d"
      },
      "source": [
        "# to infer a new document vector\n",
        "test_data = word_tokenize(\"I love chatbots\".lower())\n",
        "new_v = model.infer_vector(test_data)\n",
        "print(test_data)\n",
        "print(\"new vector inferred: \", new_v)"
      ],
      "execution_count": null,
      "outputs": [
        {
          "output_type": "stream",
          "name": "stdout",
          "text": [
            "['i', 'love', 'chatbots']\n",
            "new vector inferred:  [ 0.01396792 -0.05454361 -0.02515426 -0.01292989  0.08035586]\n"
          ]
        }
      ]
    },
    {
      "cell_type": "code",
      "metadata": {
        "id": "zSSWNP1cOXJI",
        "colab": {
          "base_uri": "https://localhost:8080/"
        },
        "outputId": "7fe97c22-a6c6-4213-df54-c680cdf93194"
      },
      "source": [
        "model.wv.similar_by_vector(new_v)"
      ],
      "execution_count": null,
      "outputs": [
        {
          "output_type": "execute_result",
          "data": {
            "text/plain": [
              "[('learning', 0.6110128164291382),\n",
              " ('i', 0.4977003037929535),\n",
              " ('chatbots', 0.49657201766967773),\n",
              " ('awesome', 0.4905376136302948),\n",
              " ('python', 0.4758186936378479),\n",
              " ('coding', 0.4456605315208435),\n",
              " ('machine', 0.44097959995269775),\n",
              " ('love', 0.42535585165023804),\n",
              " ('amagingly', 0.41589418053627014),\n",
              " ('.', 0.35317036509513855)]"
            ]
          },
          "metadata": {},
          "execution_count": 26
        }
      ]
    },
    {
      "cell_type": "code",
      "metadata": {
        "id": "Ku_IZEasC1jn",
        "colab": {
          "base_uri": "https://localhost:8080/"
        },
        "outputId": "766b8f89-b65b-4868-e69f-5dd5a45c80e6"
      },
      "source": [
        "# to find most similar doc using tags (it uses word-vectors.)\n",
        "similar_doc = model.docvecs.most_similar('1')\n",
        "print(similar_doc)"
      ],
      "execution_count": null,
      "outputs": [
        {
          "output_type": "stream",
          "name": "stdout",
          "text": [
            "[('2', 0.9945580959320068), ('3', 0.9797182083129883), ('0', 0.9787049889564514)]\n"
          ]
        }
      ]
    },
    {
      "cell_type": "code",
      "metadata": {
        "id": "ObUfuJ6cC4lR",
        "colab": {
          "base_uri": "https://localhost:8080/"
        },
        "outputId": "e90d70c6-3aea-42b7-8bfc-a76ec34001b4"
      },
      "source": [
        "# to find vector of doc in training data using tags or in other words, printing the vector of document at index 1 in training data\n",
        "print(model.docvecs['1'])"
      ],
      "execution_count": null,
      "outputs": [
        {
          "output_type": "stream",
          "name": "stdout",
          "text": [
            "[ 0.35767773 -0.460677   -1.1795473  -0.5412806  -0.1262291 ]\n"
          ]
        }
      ]
    },
    {
      "cell_type": "markdown",
      "metadata": {
        "id": "BCE2zC74tfbk"
      },
      "source": [
        "# Exercise (연습)"
      ]
    },
    {
      "cell_type": "markdown",
      "metadata": {
        "id": "ACaFh-meU9m4"
      },
      "source": [
        "### KKma() 연습"
      ]
    },
    {
      "cell_type": "code",
      "metadata": {
        "id": "NpmsZTy2U8xu",
        "colab": {
          "base_uri": "https://localhost:8080/"
        },
        "outputId": "8b80f708-3653-4ccf-9f1a-204e4a09f13e"
      },
      "source": [
        "# KoNLPy: 형태소 (뜻을 가진 최소 언어 단위) 분석\n",
        "# kkma: Korean morpheme analyzer\n",
        "# https://konlpy.org/ko/latest/morph/#pos-tagging-with-konlpy\n",
        "from konlpy.tag import Kkma\n",
        "kkma = Kkma()\n",
        "print(kkma.sentences('네, 안녕하세요. 반갑습니다.'))\n",
        "print(kkma.nouns('질문이나 건의사항은 깃헙 이슈 트래커에 남겨주세요.'))\n",
        "print(kkma.pos('오류보고는 실행환경, 에러메세지와함께 설명을 최대한상세히!^^'))\n",
        "# pos (part-of-speech): 품사 (명사, 동사, ...)"
      ],
      "execution_count": null,
      "outputs": [
        {
          "output_type": "stream",
          "name": "stdout",
          "text": [
            "['네, 안녕하세요.', '반갑습니다.']\n",
            "['질문', '건의', '건의사항', '사항', '깃헙', '이슈', '트래커']\n",
            "[('오류', 'NNG'), ('보고', 'NNG'), ('는', 'JX'), ('실행', 'NNG'), ('환경', 'NNG'), (',', 'SP'), ('에러', 'NNG'), ('메세지', 'NNG'), ('와', 'JKM'), ('함께', 'MAG'), ('설명', 'NNG'), ('을', 'JKO'), ('최대한', 'NNG'), ('상세히', 'MAG'), ('!', 'SF'), ('^^', 'EMO')]\n"
          ]
        }
      ]
    }
  ]
}