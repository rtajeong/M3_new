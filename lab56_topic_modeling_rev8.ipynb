{
  "nbformat": 4,
  "nbformat_minor": 0,
  "metadata": {
    "accelerator": "GPU",
    "colab": {
      "provenance": [],
      "toc_visible": true,
      "include_colab_link": true
    },
    "kernelspec": {
      "display_name": "Python 3",
      "language": "python",
      "name": "python3"
    },
    "language_info": {
      "codemirror_mode": {
        "name": "ipython",
        "version": 3
      },
      "file_extension": ".py",
      "mimetype": "text/x-python",
      "name": "python",
      "nbconvert_exporter": "python",
      "pygments_lexer": "ipython3",
      "version": "3.6.8"
    }
  },
  "cells": [
    {
      "cell_type": "markdown",
      "metadata": {
        "id": "view-in-github",
        "colab_type": "text"
      },
      "source": [
        "<a href=\"https://colab.research.google.com/github/rtajeong/M3_new/blob/main/lab56_topic_modeling_rev8.ipynb\" target=\"_parent\"><img src=\"https://colab.research.google.com/assets/colab-badge.svg\" alt=\"Open In Colab\"/></a>"
      ]
    },
    {
      "cell_type": "markdown",
      "source": [
        "# LSA (Latent Semantic Analysis)\n",
        "- LDA (토픽 모델링) 에 아이디어 제공한 알고리즘\n",
        "- DTM(document-term matrix) 나 TfIdf matrix 에 Truncated SVD 이용"
      ],
      "metadata": {
        "id": "Y7rQTEIfqmOf"
      }
    },
    {
      "cell_type": "markdown",
      "source": [
        "![image.png](data:image/png;base64,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)"
      ],
      "metadata": {
        "id": "CP9IfvDJrCwd"
      }
    },
    {
      "cell_type": "markdown",
      "source": [
        "- example from https://wikidocs.net/24949"
      ],
      "metadata": {
        "id": "BgTwLgBSsTsF"
      }
    },
    {
      "cell_type": "code",
      "source": [
        "import numpy as np\n",
        "import pandas as pd\n",
        "from sklearn.feature_extraction.text import CountVectorizer\n",
        "\n",
        "doc1 = \"사과 먹고 싶다\"\n",
        "doc2 = \"바나나 먹고 싶다\"\n",
        "doc3 = \"길고 노란 바나나 바나나\"\n",
        "doc4 = \"저는 과일이 좋아요\"\n",
        "corpus = np.array([doc1, doc2, doc3, doc4])\n",
        "vec = CountVectorizer()\n",
        "A = vec.fit_transform(corpus).toarray()\n",
        "A"
      ],
      "metadata": {
        "colab": {
          "base_uri": "https://localhost:8080/"
        },
        "id": "wMJyd0R6rIJL",
        "outputId": "8b11c044-3e14-4fd5-af6e-dc99f7928370"
      },
      "execution_count": null,
      "outputs": [
        {
          "output_type": "execute_result",
          "data": {
            "text/plain": [
              "array([[0, 0, 0, 1, 0, 1, 1, 0, 0],\n",
              "       [0, 0, 0, 1, 1, 0, 1, 0, 0],\n",
              "       [0, 1, 1, 0, 2, 0, 0, 0, 0],\n",
              "       [1, 0, 0, 0, 0, 0, 0, 1, 1]])"
            ]
          },
          "metadata": {},
          "execution_count": 1
        }
      ]
    },
    {
      "cell_type": "code",
      "source": [
        "vec.get_feature_names_out()"
      ],
      "metadata": {
        "colab": {
          "base_uri": "https://localhost:8080/"
        },
        "id": "vt6vMjDmtAr3",
        "outputId": "73bf6375-91a4-4029-fa3d-dc3bdae1476c"
      },
      "execution_count": null,
      "outputs": [
        {
          "output_type": "execute_result",
          "data": {
            "text/plain": [
              "array(['과일이', '길고', '노란', '먹고', '바나나', '사과', '싶다', '저는', '좋아요'],\n",
              "      dtype=object)"
            ]
          },
          "metadata": {},
          "execution_count": 2
        }
      ]
    },
    {
      "cell_type": "code",
      "source": [
        "A.shape"
      ],
      "metadata": {
        "colab": {
          "base_uri": "https://localhost:8080/"
        },
        "id": "EFSM2UExti0s",
        "outputId": "5d7ee504-acff-4e44-debc-1faa1d622cec"
      },
      "execution_count": null,
      "outputs": [
        {
          "output_type": "execute_result",
          "data": {
            "text/plain": [
              "(4, 9)"
            ]
          },
          "metadata": {},
          "execution_count": 3
        }
      ]
    },
    {
      "cell_type": "code",
      "source": [
        "U, s, VT = np.linalg.svd(A, full_matrices = True)\n",
        "print('matrix U :')\n",
        "print(U.round(2))"
      ],
      "metadata": {
        "colab": {
          "base_uri": "https://localhost:8080/"
        },
        "id": "GK7C_cMqtZwk",
        "outputId": "b67f7080-3f92-4b35-e806-7ce2b58e00a5"
      },
      "execution_count": null,
      "outputs": [
        {
          "output_type": "stream",
          "name": "stdout",
          "text": [
            "matrix U :\n",
            "[[-0.24  0.75  0.   -0.62]\n",
            " [-0.51  0.44 -0.    0.74]\n",
            " [-0.83 -0.49 -0.   -0.27]\n",
            " [-0.   -0.    1.    0.  ]]\n"
          ]
        }
      ]
    },
    {
      "cell_type": "code",
      "source": [
        "print('singular vectors :')\n",
        "print(s.round(2))"
      ],
      "metadata": {
        "colab": {
          "base_uri": "https://localhost:8080/"
        },
        "id": "kf4-MZBVtufr",
        "outputId": "37ec91a6-e594-4618-eb38-8ae616962a8c"
      },
      "execution_count": null,
      "outputs": [
        {
          "output_type": "stream",
          "name": "stdout",
          "text": [
            "singular vectors :\n",
            "[2.69 2.05 1.73 0.77]\n"
          ]
        }
      ]
    },
    {
      "cell_type": "code",
      "source": [
        "S = np.zeros((4,9))\n",
        "S[:4, :4] = np.diag(s)\n",
        "print(S.round(2))"
      ],
      "metadata": {
        "colab": {
          "base_uri": "https://localhost:8080/"
        },
        "id": "TBzFIMDtt3x8",
        "outputId": "697e74a1-8894-4ff7-b40f-ef522bae0f2d"
      },
      "execution_count": null,
      "outputs": [
        {
          "output_type": "stream",
          "name": "stdout",
          "text": [
            "[[2.69 0.   0.   0.   0.   0.   0.   0.   0.  ]\n",
            " [0.   2.05 0.   0.   0.   0.   0.   0.   0.  ]\n",
            " [0.   0.   1.73 0.   0.   0.   0.   0.   0.  ]\n",
            " [0.   0.   0.   0.77 0.   0.   0.   0.   0.  ]]\n"
          ]
        }
      ]
    },
    {
      "cell_type": "code",
      "source": [
        "print('matrix VT :')\n",
        "print(VT.round(2))"
      ],
      "metadata": {
        "colab": {
          "base_uri": "https://localhost:8080/"
        },
        "id": "L98Rx2B6uPGg",
        "outputId": "7f5ad139-5b99-496a-ab32-68d90d2a3ddc"
      },
      "execution_count": null,
      "outputs": [
        {
          "output_type": "stream",
          "name": "stdout",
          "text": [
            "matrix VT :\n",
            "[[-0.   -0.31 -0.31 -0.28 -0.8  -0.09 -0.28 -0.   -0.  ]\n",
            " [ 0.   -0.24 -0.24  0.58 -0.26  0.37  0.58 -0.   -0.  ]\n",
            " [ 0.58 -0.    0.    0.   -0.    0.   -0.    0.58  0.58]\n",
            " [ 0.   -0.35 -0.35  0.16  0.25 -0.8   0.16 -0.   -0.  ]\n",
            " [-0.   -0.78 -0.01 -0.2   0.4   0.4  -0.2   0.    0.  ]\n",
            " [-0.29  0.31 -0.78 -0.24  0.23  0.23  0.01  0.14  0.14]\n",
            " [-0.29 -0.1   0.26 -0.59 -0.08 -0.08  0.66  0.14  0.14]\n",
            " [-0.5  -0.06  0.15  0.24 -0.05 -0.05 -0.19  0.75 -0.25]\n",
            " [-0.5  -0.06  0.15  0.24 -0.05 -0.05 -0.19 -0.25  0.75]]\n"
          ]
        }
      ]
    },
    {
      "cell_type": "code",
      "source": [
        "np.allclose(A, np.dot(np.dot(U,S), VT).round(2))"
      ],
      "metadata": {
        "colab": {
          "base_uri": "https://localhost:8080/"
        },
        "id": "lP_9iTyDub9r",
        "outputId": "04813332-2aec-4b42-b797-0a278d92e3a2"
      },
      "execution_count": null,
      "outputs": [
        {
          "output_type": "execute_result",
          "data": {
            "text/plain": [
              "True"
            ]
          },
          "metadata": {},
          "execution_count": 8
        }
      ]
    },
    {
      "cell_type": "code",
      "source": [
        "# let's take the top 2 signular values. -> 2 topics\n",
        "S = S[:2, :2]; S.round(2)"
      ],
      "metadata": {
        "colab": {
          "base_uri": "https://localhost:8080/"
        },
        "id": "xOjBQAkYurjk",
        "outputId": "09501df2-7da2-451a-b2ac-6c85681dd835"
      },
      "execution_count": null,
      "outputs": [
        {
          "output_type": "execute_result",
          "data": {
            "text/plain": [
              "array([[2.69, 0.  ],\n",
              "       [0.  , 2.05]])"
            ]
          },
          "metadata": {},
          "execution_count": 9
        }
      ]
    },
    {
      "cell_type": "code",
      "source": [
        "U = U[:, :2]; U.round(2)   # (4,2) -> 문서의 수 x 토픽의 수\n",
        "                           # U의 각 행은 잠재 의미를 표현하기 위한 수치화 된 각각의 문서 벡터"
      ],
      "metadata": {
        "colab": {
          "base_uri": "https://localhost:8080/"
        },
        "id": "mJ8i_Oa5vP68",
        "outputId": "fe359ef4-d5ee-45a0-e245-de4a8cb7f9cf"
      },
      "execution_count": null,
      "outputs": [
        {
          "output_type": "execute_result",
          "data": {
            "text/plain": [
              "array([[-0.24,  0.75],\n",
              "       [-0.51,  0.44],\n",
              "       [-0.83, -0.49],\n",
              "       [-0.  , -0.  ]])"
            ]
          },
          "metadata": {},
          "execution_count": 10
        }
      ]
    },
    {
      "cell_type": "code",
      "source": [
        "VT = VT[:2, :]; VT.round(2)   # (2,9) -> 토픽의 수 x 단어의 갯수\n",
        "                              # VT 의 각 열은 잠재 의미를 표현하기 위해 수치화된 각각의 단어 벡터"
      ],
      "metadata": {
        "colab": {
          "base_uri": "https://localhost:8080/"
        },
        "id": "2ovsH0vUvcLt",
        "outputId": "bc744293-a223-4e7a-90c6-dfbb0c4f907d"
      },
      "execution_count": null,
      "outputs": [
        {
          "output_type": "execute_result",
          "data": {
            "text/plain": [
              "array([[-0.  , -0.31, -0.31, -0.28, -0.8 , -0.09, -0.28, -0.  , -0.  ],\n",
              "       [ 0.  , -0.24, -0.24,  0.58, -0.26,  0.37,  0.58, -0.  , -0.  ]])"
            ]
          },
          "metadata": {},
          "execution_count": 11
        }
      ]
    },
    {
      "cell_type": "code",
      "source": [
        "A_prime = U @ S @ VT; A_prime.round(2)"
      ],
      "metadata": {
        "colab": {
          "base_uri": "https://localhost:8080/"
        },
        "id": "AOgwwCG5vl0E",
        "outputId": "de77e575-858b-484d-d21e-68d851c1c8d7"
      },
      "execution_count": null,
      "outputs": [
        {
          "output_type": "execute_result",
          "data": {
            "text/plain": [
              "array([[ 0.  , -0.17, -0.17,  1.08,  0.12,  0.62,  1.08, -0.  , -0.  ],\n",
              "       [ 0.  ,  0.2 ,  0.2 ,  0.91,  0.86,  0.45,  0.91,  0.  ,  0.  ],\n",
              "       [ 0.  ,  0.93,  0.93,  0.03,  2.05, -0.17,  0.03,  0.  ,  0.  ],\n",
              "       [ 0.  ,  0.  ,  0.  ,  0.  ,  0.  , -0.  ,  0.  ,  0.  ,  0.  ]])"
            ]
          },
          "metadata": {},
          "execution_count": 12
        }
      ]
    },
    {
      "cell_type": "markdown",
      "source": [
        "- it is a little different from the original matrix because of the truncation."
      ],
      "metadata": {
        "id": "bnW_4F2xLs0I"
      }
    },
    {
      "cell_type": "markdown",
      "source": [
        "- Let's use the library function"
      ],
      "metadata": {
        "id": "KvaFl3UvNP1C"
      }
    },
    {
      "cell_type": "code",
      "source": [
        "svd_model = TruncatedSVD(n_components=2, algorithm='randomized', n_iter=100, random_state=122)\n",
        "svd_model.fit(A)\n",
        "svd_model.components_.round(2)      # VT matrix"
      ],
      "metadata": {
        "colab": {
          "base_uri": "https://localhost:8080/"
        },
        "id": "CtE9mWccNO_C",
        "outputId": "ec62f878-e47c-4581-fb7f-5a8f921d6a75"
      },
      "execution_count": null,
      "outputs": [
        {
          "output_type": "execute_result",
          "data": {
            "text/plain": [
              "array([[-0.  ,  0.31,  0.31,  0.28,  0.8 ,  0.09,  0.28, -0.  , -0.  ],\n",
              "       [ 0.  , -0.24, -0.24,  0.58, -0.26,  0.37,  0.58,  0.  ,  0.  ]])"
            ]
          },
          "metadata": {},
          "execution_count": 17
        }
      ]
    },
    {
      "cell_type": "code",
      "source": [
        "svd_model.singular_values_"
      ],
      "metadata": {
        "colab": {
          "base_uri": "https://localhost:8080/"
        },
        "id": "-ZK6iSPON_gk",
        "outputId": "c2793d9f-d881-430b-c697-b9fe058ef2c4"
      },
      "execution_count": null,
      "outputs": [
        {
          "output_type": "execute_result",
          "data": {
            "text/plain": [
              "array([2.68731789, 2.04508425])"
            ]
          },
          "metadata": {},
          "execution_count": 18
        }
      ]
    },
    {
      "cell_type": "markdown",
      "source": [
        "## LSA (sklearn) with newsgroup data\n",
        "  - Twenty Newsgroups이라고 불리는 20개의 다른 주제를 가진 뉴스그룹 데이터 (sklearn)\n",
        "  - 문서의 수를 원하는 토픽의 수로 압축한 뒤에 각 토픽당 가장 중요한 단어 5개를 출력하는 실습으로 토픽 모델링을 수행"
      ],
      "metadata": {
        "id": "zAGN0Ny0xDCU"
      }
    },
    {
      "cell_type": "code",
      "source": [
        "import pandas as pd\n",
        "from sklearn.datasets import fetch_20newsgroups\n",
        "import nltk\n",
        "from nltk.corpus import stopwords\n",
        "from sklearn.feature_extraction.text import TfidfVectorizer\n",
        "from sklearn.decomposition import TruncatedSVD, LatentDirichletAllocation"
      ],
      "metadata": {
        "id": "azgss9cyxVy7"
      },
      "execution_count": null,
      "outputs": []
    },
    {
      "cell_type": "code",
      "source": [
        "dataset = fetch_20newsgroups(shuffle=True, random_state=1, remove=('headers', 'footers', 'quotes'))\n",
        "documents = dataset.data\n",
        "print('샘플의 수 :',len(documents))"
      ],
      "metadata": {
        "colab": {
          "base_uri": "https://localhost:8080/"
        },
        "id": "opNJgBFnxZq7",
        "outputId": "78149f34-46b8-4683-90d6-1bff3f3594ce"
      },
      "execution_count": null,
      "outputs": [
        {
          "output_type": "stream",
          "name": "stdout",
          "text": [
            "샘플의 수 : 11314\n"
          ]
        }
      ]
    },
    {
      "cell_type": "code",
      "source": [
        "dir(dataset)"
      ],
      "metadata": {
        "colab": {
          "base_uri": "https://localhost:8080/"
        },
        "id": "_-6nrdopVmWE",
        "outputId": "e26a5034-3c9b-4dc0-bd2d-c5862860d699"
      },
      "execution_count": null,
      "outputs": [
        {
          "output_type": "execute_result",
          "data": {
            "text/plain": [
              "['DESCR', 'data', 'filenames', 'target', 'target_names']"
            ]
          },
          "metadata": {},
          "execution_count": 15
        }
      ]
    },
    {
      "cell_type": "code",
      "source": [
        "dataset.target"
      ],
      "metadata": {
        "colab": {
          "base_uri": "https://localhost:8080/"
        },
        "id": "OSXZGDKqVzEc",
        "outputId": "3cafc73a-1118-4754-fcc5-75eb7ad7603b"
      },
      "execution_count": null,
      "outputs": [
        {
          "output_type": "execute_result",
          "data": {
            "text/plain": [
              "array([17,  0, 17, ...,  9,  4,  9])"
            ]
          },
          "metadata": {},
          "execution_count": 16
        }
      ]
    },
    {
      "cell_type": "code",
      "source": [
        "dataset.target_names      #  20개의 뉴스그룹 카테고리"
      ],
      "metadata": {
        "colab": {
          "base_uri": "https://localhost:8080/"
        },
        "id": "2twJOHfYV7ws",
        "outputId": "9003b95c-f4df-4c88-85ad-ad63e609f208"
      },
      "execution_count": null,
      "outputs": [
        {
          "output_type": "execute_result",
          "data": {
            "text/plain": [
              "['alt.atheism',\n",
              " 'comp.graphics',\n",
              " 'comp.os.ms-windows.misc',\n",
              " 'comp.sys.ibm.pc.hardware',\n",
              " 'comp.sys.mac.hardware',\n",
              " 'comp.windows.x',\n",
              " 'misc.forsale',\n",
              " 'rec.autos',\n",
              " 'rec.motorcycles',\n",
              " 'rec.sport.baseball',\n",
              " 'rec.sport.hockey',\n",
              " 'sci.crypt',\n",
              " 'sci.electronics',\n",
              " 'sci.med',\n",
              " 'sci.space',\n",
              " 'soc.religion.christian',\n",
              " 'talk.politics.guns',\n",
              " 'talk.politics.mideast',\n",
              " 'talk.politics.misc',\n",
              " 'talk.religion.misc']"
            ]
          },
          "metadata": {},
          "execution_count": 21
        }
      ]
    },
    {
      "cell_type": "code",
      "source": [
        "documents[0]"
      ],
      "metadata": {
        "colab": {
          "base_uri": "https://localhost:8080/",
          "height": 122
        },
        "id": "3GNHqghxxif6",
        "outputId": "87a2b92b-e0f5-4825-e45e-e81d68fc13e5"
      },
      "execution_count": null,
      "outputs": [
        {
          "output_type": "execute_result",
          "data": {
            "text/plain": [
              "\"Well i'm not sure about the story nad it did seem biased. What\\nI disagree with is your statement that the U.S. Media is out to\\nruin Israels reputation. That is rediculous. The U.S. media is\\nthe most pro-israeli media in the world. Having lived in Europe\\nI realize that incidences such as the one described in the\\nletter have occured. The U.S. media as a whole seem to try to\\nignore them. The U.S. is subsidizing Israels existance and the\\nEuropeans are not (at least not to the same degree). So I think\\nthat might be a reason they report more clearly on the\\natrocities.\\n\\tWhat is a shame is that in Austria, daily reports of\\nthe inhuman acts commited by Israeli soldiers and the blessing\\nreceived from the Government makes some of the Holocaust guilt\\ngo away. After all, look how the Jews are treating other races\\nwhen they got power. It is unfortunate.\\n\""
            ],
            "application/vnd.google.colaboratory.intrinsic+json": {
              "type": "string"
            }
          },
          "metadata": {},
          "execution_count": 22
        }
      ]
    },
    {
      "cell_type": "code",
      "source": [
        "pd.DataFrame({'document':documents})"
      ],
      "metadata": {
        "colab": {
          "base_uri": "https://localhost:8080/",
          "height": 423
        },
        "id": "ZJavLmoAWkvl",
        "outputId": "d7002090-9cef-4715-d719-a764ede31328"
      },
      "execution_count": null,
      "outputs": [
        {
          "output_type": "execute_result",
          "data": {
            "text/plain": [
              "                                                document\n",
              "0      Well i'm not sure about the story nad it did s...\n",
              "1      \\n\\n\\n\\n\\n\\n\\nYeah, do you expect people to re...\n",
              "2      Although I realize that principle is not one o...\n",
              "3      Notwithstanding all the legitimate fuss about ...\n",
              "4      Well, I will have to change the scoring on my ...\n",
              "...                                                  ...\n",
              "11309  Danny Rubenstein, an Israeli journalist, will ...\n",
              "11310                                                 \\n\n",
              "11311  \\nI agree.  Home runs off Clemens are always m...\n",
              "11312  I used HP DeskJet with Orange Micros Grappler ...\n",
              "11313                                        ^^^^^^\\n...\n",
              "\n",
              "[11314 rows x 1 columns]"
            ],
            "text/html": [
              "\n",
              "  <div id=\"df-9cbf7390-c63a-4ec5-893f-aeb0dc3e7fe6\" class=\"colab-df-container\">\n",
              "    <div>\n",
              "<style scoped>\n",
              "    .dataframe tbody tr th:only-of-type {\n",
              "        vertical-align: middle;\n",
              "    }\n",
              "\n",
              "    .dataframe tbody tr th {\n",
              "        vertical-align: top;\n",
              "    }\n",
              "\n",
              "    .dataframe thead th {\n",
              "        text-align: right;\n",
              "    }\n",
              "</style>\n",
              "<table border=\"1\" class=\"dataframe\">\n",
              "  <thead>\n",
              "    <tr style=\"text-align: right;\">\n",
              "      <th></th>\n",
              "      <th>document</th>\n",
              "    </tr>\n",
              "  </thead>\n",
              "  <tbody>\n",
              "    <tr>\n",
              "      <th>0</th>\n",
              "      <td>Well i'm not sure about the story nad it did s...</td>\n",
              "    </tr>\n",
              "    <tr>\n",
              "      <th>1</th>\n",
              "      <td>\\n\\n\\n\\n\\n\\n\\nYeah, do you expect people to re...</td>\n",
              "    </tr>\n",
              "    <tr>\n",
              "      <th>2</th>\n",
              "      <td>Although I realize that principle is not one o...</td>\n",
              "    </tr>\n",
              "    <tr>\n",
              "      <th>3</th>\n",
              "      <td>Notwithstanding all the legitimate fuss about ...</td>\n",
              "    </tr>\n",
              "    <tr>\n",
              "      <th>4</th>\n",
              "      <td>Well, I will have to change the scoring on my ...</td>\n",
              "    </tr>\n",
              "    <tr>\n",
              "      <th>...</th>\n",
              "      <td>...</td>\n",
              "    </tr>\n",
              "    <tr>\n",
              "      <th>11309</th>\n",
              "      <td>Danny Rubenstein, an Israeli journalist, will ...</td>\n",
              "    </tr>\n",
              "    <tr>\n",
              "      <th>11310</th>\n",
              "      <td>\\n</td>\n",
              "    </tr>\n",
              "    <tr>\n",
              "      <th>11311</th>\n",
              "      <td>\\nI agree.  Home runs off Clemens are always m...</td>\n",
              "    </tr>\n",
              "    <tr>\n",
              "      <th>11312</th>\n",
              "      <td>I used HP DeskJet with Orange Micros Grappler ...</td>\n",
              "    </tr>\n",
              "    <tr>\n",
              "      <th>11313</th>\n",
              "      <td>^^^^^^\\n...</td>\n",
              "    </tr>\n",
              "  </tbody>\n",
              "</table>\n",
              "<p>11314 rows × 1 columns</p>\n",
              "</div>\n",
              "    <div class=\"colab-df-buttons\">\n",
              "\n",
              "  <div class=\"colab-df-container\">\n",
              "    <button class=\"colab-df-convert\" onclick=\"convertToInteractive('df-9cbf7390-c63a-4ec5-893f-aeb0dc3e7fe6')\"\n",
              "            title=\"Convert this dataframe to an interactive table.\"\n",
              "            style=\"display:none;\">\n",
              "\n",
              "  <svg xmlns=\"http://www.w3.org/2000/svg\" height=\"24px\" viewBox=\"0 -960 960 960\">\n",
              "    <path d=\"M120-120v-720h720v720H120Zm60-500h600v-160H180v160Zm220 220h160v-160H400v160Zm0 220h160v-160H400v160ZM180-400h160v-160H180v160Zm440 0h160v-160H620v160ZM180-180h160v-160H180v160Zm440 0h160v-160H620v160Z\"/>\n",
              "  </svg>\n",
              "    </button>\n",
              "\n",
              "  <style>\n",
              "    .colab-df-container {\n",
              "      display:flex;\n",
              "      gap: 12px;\n",
              "    }\n",
              "\n",
              "    .colab-df-convert {\n",
              "      background-color: #E8F0FE;\n",
              "      border: none;\n",
              "      border-radius: 50%;\n",
              "      cursor: pointer;\n",
              "      display: none;\n",
              "      fill: #1967D2;\n",
              "      height: 32px;\n",
              "      padding: 0 0 0 0;\n",
              "      width: 32px;\n",
              "    }\n",
              "\n",
              "    .colab-df-convert:hover {\n",
              "      background-color: #E2EBFA;\n",
              "      box-shadow: 0px 1px 2px rgba(60, 64, 67, 0.3), 0px 1px 3px 1px rgba(60, 64, 67, 0.15);\n",
              "      fill: #174EA6;\n",
              "    }\n",
              "\n",
              "    .colab-df-buttons div {\n",
              "      margin-bottom: 4px;\n",
              "    }\n",
              "\n",
              "    [theme=dark] .colab-df-convert {\n",
              "      background-color: #3B4455;\n",
              "      fill: #D2E3FC;\n",
              "    }\n",
              "\n",
              "    [theme=dark] .colab-df-convert:hover {\n",
              "      background-color: #434B5C;\n",
              "      box-shadow: 0px 1px 3px 1px rgba(0, 0, 0, 0.15);\n",
              "      filter: drop-shadow(0px 1px 2px rgba(0, 0, 0, 0.3));\n",
              "      fill: #FFFFFF;\n",
              "    }\n",
              "  </style>\n",
              "\n",
              "    <script>\n",
              "      const buttonEl =\n",
              "        document.querySelector('#df-9cbf7390-c63a-4ec5-893f-aeb0dc3e7fe6 button.colab-df-convert');\n",
              "      buttonEl.style.display =\n",
              "        google.colab.kernel.accessAllowed ? 'block' : 'none';\n",
              "\n",
              "      async function convertToInteractive(key) {\n",
              "        const element = document.querySelector('#df-9cbf7390-c63a-4ec5-893f-aeb0dc3e7fe6');\n",
              "        const dataTable =\n",
              "          await google.colab.kernel.invokeFunction('convertToInteractive',\n",
              "                                                    [key], {});\n",
              "        if (!dataTable) return;\n",
              "\n",
              "        const docLinkHtml = 'Like what you see? Visit the ' +\n",
              "          '<a target=\"_blank\" href=https://colab.research.google.com/notebooks/data_table.ipynb>data table notebook</a>'\n",
              "          + ' to learn more about interactive tables.';\n",
              "        element.innerHTML = '';\n",
              "        dataTable['output_type'] = 'display_data';\n",
              "        await google.colab.output.renderOutput(dataTable, element);\n",
              "        const docLink = document.createElement('div');\n",
              "        docLink.innerHTML = docLinkHtml;\n",
              "        element.appendChild(docLink);\n",
              "      }\n",
              "    </script>\n",
              "  </div>\n",
              "\n",
              "\n",
              "<div id=\"df-8eae40c5-867f-42a8-92db-48b918a237cc\">\n",
              "  <button class=\"colab-df-quickchart\" onclick=\"quickchart('df-8eae40c5-867f-42a8-92db-48b918a237cc')\"\n",
              "            title=\"Suggest charts.\"\n",
              "            style=\"display:none;\">\n",
              "\n",
              "<svg xmlns=\"http://www.w3.org/2000/svg\" height=\"24px\"viewBox=\"0 0 24 24\"\n",
              "     width=\"24px\">\n",
              "    <g>\n",
              "        <path d=\"M19 3H5c-1.1 0-2 .9-2 2v14c0 1.1.9 2 2 2h14c1.1 0 2-.9 2-2V5c0-1.1-.9-2-2-2zM9 17H7v-7h2v7zm4 0h-2V7h2v10zm4 0h-2v-4h2v4z\"/>\n",
              "    </g>\n",
              "</svg>\n",
              "  </button>\n",
              "\n",
              "<style>\n",
              "  .colab-df-quickchart {\n",
              "      --bg-color: #E8F0FE;\n",
              "      --fill-color: #1967D2;\n",
              "      --hover-bg-color: #E2EBFA;\n",
              "      --hover-fill-color: #174EA6;\n",
              "      --disabled-fill-color: #AAA;\n",
              "      --disabled-bg-color: #DDD;\n",
              "  }\n",
              "\n",
              "  [theme=dark] .colab-df-quickchart {\n",
              "      --bg-color: #3B4455;\n",
              "      --fill-color: #D2E3FC;\n",
              "      --hover-bg-color: #434B5C;\n",
              "      --hover-fill-color: #FFFFFF;\n",
              "      --disabled-bg-color: #3B4455;\n",
              "      --disabled-fill-color: #666;\n",
              "  }\n",
              "\n",
              "  .colab-df-quickchart {\n",
              "    background-color: var(--bg-color);\n",
              "    border: none;\n",
              "    border-radius: 50%;\n",
              "    cursor: pointer;\n",
              "    display: none;\n",
              "    fill: var(--fill-color);\n",
              "    height: 32px;\n",
              "    padding: 0;\n",
              "    width: 32px;\n",
              "  }\n",
              "\n",
              "  .colab-df-quickchart:hover {\n",
              "    background-color: var(--hover-bg-color);\n",
              "    box-shadow: 0 1px 2px rgba(60, 64, 67, 0.3), 0 1px 3px 1px rgba(60, 64, 67, 0.15);\n",
              "    fill: var(--button-hover-fill-color);\n",
              "  }\n",
              "\n",
              "  .colab-df-quickchart-complete:disabled,\n",
              "  .colab-df-quickchart-complete:disabled:hover {\n",
              "    background-color: var(--disabled-bg-color);\n",
              "    fill: var(--disabled-fill-color);\n",
              "    box-shadow: none;\n",
              "  }\n",
              "\n",
              "  .colab-df-spinner {\n",
              "    border: 2px solid var(--fill-color);\n",
              "    border-color: transparent;\n",
              "    border-bottom-color: var(--fill-color);\n",
              "    animation:\n",
              "      spin 1s steps(1) infinite;\n",
              "  }\n",
              "\n",
              "  @keyframes spin {\n",
              "    0% {\n",
              "      border-color: transparent;\n",
              "      border-bottom-color: var(--fill-color);\n",
              "      border-left-color: var(--fill-color);\n",
              "    }\n",
              "    20% {\n",
              "      border-color: transparent;\n",
              "      border-left-color: var(--fill-color);\n",
              "      border-top-color: var(--fill-color);\n",
              "    }\n",
              "    30% {\n",
              "      border-color: transparent;\n",
              "      border-left-color: var(--fill-color);\n",
              "      border-top-color: var(--fill-color);\n",
              "      border-right-color: var(--fill-color);\n",
              "    }\n",
              "    40% {\n",
              "      border-color: transparent;\n",
              "      border-right-color: var(--fill-color);\n",
              "      border-top-color: var(--fill-color);\n",
              "    }\n",
              "    60% {\n",
              "      border-color: transparent;\n",
              "      border-right-color: var(--fill-color);\n",
              "    }\n",
              "    80% {\n",
              "      border-color: transparent;\n",
              "      border-right-color: var(--fill-color);\n",
              "      border-bottom-color: var(--fill-color);\n",
              "    }\n",
              "    90% {\n",
              "      border-color: transparent;\n",
              "      border-bottom-color: var(--fill-color);\n",
              "    }\n",
              "  }\n",
              "</style>\n",
              "\n",
              "  <script>\n",
              "    async function quickchart(key) {\n",
              "      const quickchartButtonEl =\n",
              "        document.querySelector('#' + key + ' button');\n",
              "      quickchartButtonEl.disabled = true;  // To prevent multiple clicks.\n",
              "      quickchartButtonEl.classList.add('colab-df-spinner');\n",
              "      try {\n",
              "        const charts = await google.colab.kernel.invokeFunction(\n",
              "            'suggestCharts', [key], {});\n",
              "      } catch (error) {\n",
              "        console.error('Error during call to suggestCharts:', error);\n",
              "      }\n",
              "      quickchartButtonEl.classList.remove('colab-df-spinner');\n",
              "      quickchartButtonEl.classList.add('colab-df-quickchart-complete');\n",
              "    }\n",
              "    (() => {\n",
              "      let quickchartButtonEl =\n",
              "        document.querySelector('#df-8eae40c5-867f-42a8-92db-48b918a237cc button');\n",
              "      quickchartButtonEl.style.display =\n",
              "        google.colab.kernel.accessAllowed ? 'block' : 'none';\n",
              "    })();\n",
              "  </script>\n",
              "</div>\n",
              "    </div>\n",
              "  </div>\n"
            ]
          },
          "metadata": {},
          "execution_count": 23
        }
      ]
    },
    {
      "cell_type": "code",
      "source": [
        "# text preprocessing\n",
        "news_df = pd.DataFrame({'document':documents})\n",
        "# 특수 문자 제거\n",
        "news_df['clean_doc'] = news_df['document'].str.replace(\"[^a-zA-Z]\", \" \")\n",
        "# 길이가 3이하인 단어는 제거 (길이가 짧은 단어 제거)\n",
        "news_df['clean_doc'] = news_df['clean_doc'].apply(lambda x: ' '.join([w for w in x.split() if len(w)>3]))\n",
        "# 전체 단어에 대한 소문자 변환\n",
        "news_df['clean_doc'] = news_df['clean_doc'].apply(lambda x: x.lower())"
      ],
      "metadata": {
        "id": "4Jjqhds9x7Mc",
        "colab": {
          "base_uri": "https://localhost:8080/"
        },
        "outputId": "f53036b1-6d0d-463e-bb79-14f014541485"
      },
      "execution_count": null,
      "outputs": [
        {
          "output_type": "stream",
          "name": "stderr",
          "text": [
            "<ipython-input-24-f494c22217f3>:4: FutureWarning: The default value of regex will change from True to False in a future version.\n",
            "  news_df['clean_doc'] = news_df['document'].str.replace(\"[^a-zA-Z]\", \" \")\n"
          ]
        }
      ]
    },
    {
      "cell_type": "code",
      "source": [
        "news_df['clean_doc'][0]"
      ],
      "metadata": {
        "colab": {
          "base_uri": "https://localhost:8080/",
          "height": 88
        },
        "id": "JWhpDvYFyMPT",
        "outputId": "ce214936-e7df-4da0-a301-883b29475b70"
      },
      "execution_count": null,
      "outputs": [
        {
          "output_type": "execute_result",
          "data": {
            "text/plain": [
              "'well sure about story seem biased what disagree with your statement that media ruin israels reputation that rediculous media most israeli media world having lived europe realize that incidences such described letter have occured media whole seem ignore them subsidizing israels existance europeans least same degree think that might reason they report more clearly atrocities what shame that austria daily reports inhuman acts commited israeli soldiers blessing received from government makes some holocaust guilt away after look jews treating other races when they power unfortunate'"
            ],
            "application/vnd.google.colaboratory.intrinsic+json": {
              "type": "string"
            }
          },
          "metadata": {},
          "execution_count": 25
        }
      ]
    },
    {
      "cell_type": "code",
      "source": [
        "# NLTK로부터 불용어를 받아와 제거한다.\n",
        "nltk.download('stopwords')\n",
        "stop_words = stopwords.words('english')\n",
        "tokenized_doc = news_df['clean_doc'].apply(lambda x: x.split())   # split default - any whitespace\n",
        "tokenized_doc = tokenized_doc.apply(lambda x: [item for item in x if item not in stop_words])"
      ],
      "metadata": {
        "colab": {
          "base_uri": "https://localhost:8080/"
        },
        "id": "2xeCUtAmyxmL",
        "outputId": "b6ab0e90-b4ea-43eb-a209-eb3a7e67d6dd"
      },
      "execution_count": null,
      "outputs": [
        {
          "output_type": "stream",
          "name": "stderr",
          "text": [
            "[nltk_data] Downloading package stopwords to /root/nltk_data...\n",
            "[nltk_data]   Unzipping corpora/stopwords.zip.\n"
          ]
        }
      ]
    },
    {
      "cell_type": "code",
      "source": [
        "print(tokenized_doc[:2])"
      ],
      "metadata": {
        "colab": {
          "base_uri": "https://localhost:8080/"
        },
        "id": "vBYcxM89y936",
        "outputId": "2172556f-1462-4a70-9a94-da0466d6baba"
      },
      "execution_count": null,
      "outputs": [
        {
          "output_type": "stream",
          "name": "stdout",
          "text": [
            "0    [well, sure, story, seem, biased, disagree, st...\n",
            "1    [yeah, expect, people, read, actually, accept,...\n",
            "Name: clean_doc, dtype: object\n"
          ]
        }
      ]
    },
    {
      "cell_type": "code",
      "source": [
        "# tf-idf matrix\n",
        "detokenized_doc = []\n",
        "for i in range(len(news_df)):\n",
        "    t = ' '.join(tokenized_doc[i])\n",
        "    detokenized_doc.append(t)\n",
        "\n",
        "news_df['clean_doc'] = detokenized_doc"
      ],
      "metadata": {
        "id": "iCbw8N4vziuz"
      },
      "execution_count": null,
      "outputs": []
    },
    {
      "cell_type": "code",
      "source": [
        "news_df['clean_doc'][0]"
      ],
      "metadata": {
        "colab": {
          "base_uri": "https://localhost:8080/",
          "height": 70
        },
        "id": "Ix5dv0Koz7ca",
        "outputId": "8134bad4-c1c3-414c-bdce-8812529ad205"
      },
      "execution_count": null,
      "outputs": [
        {
          "output_type": "execute_result",
          "data": {
            "text/plain": [
              "'well sure story seem biased disagree statement media ruin israels reputation rediculous media israeli media world lived europe realize incidences described letter occured media whole seem ignore subsidizing israels existance europeans least degree think might reason report clearly atrocities shame austria daily reports inhuman acts commited israeli soldiers blessing received government makes holocaust guilt away look jews treating races power unfortunate'"
            ],
            "application/vnd.google.colaboratory.intrinsic+json": {
              "type": "string"
            }
          },
          "metadata": {},
          "execution_count": 29
        }
      ]
    },
    {
      "cell_type": "code",
      "source": [
        "vectorizer = TfidfVectorizer(stop_words='english',\n",
        "                             max_features= 1000, # 상위 1,000개의 단어\n",
        "                             max_df = 0.5,       # ignore terms of df higher than 0.5\n",
        "                             smooth_idf=True)\n",
        "\n",
        "X = vectorizer.fit_transform(news_df['clean_doc'])\n",
        "\n",
        "print(X.shape)"
      ],
      "metadata": {
        "colab": {
          "base_uri": "https://localhost:8080/"
        },
        "id": "tg3nXcYl0CNC",
        "outputId": "58fde787-8476-4d44-e4cf-cbbba3270e76"
      },
      "execution_count": null,
      "outputs": [
        {
          "output_type": "stream",
          "name": "stdout",
          "text": [
            "(11314, 1000)\n"
          ]
        }
      ]
    },
    {
      "cell_type": "code",
      "source": [
        "# topic modeling\n",
        "svd_model = TruncatedSVD(n_components=20, algorithm='randomized', n_iter=100, random_state=122)\n",
        "svd_model.fit(X)\n",
        "len(svd_model.components_)   # VT matrix"
      ],
      "metadata": {
        "colab": {
          "base_uri": "https://localhost:8080/"
        },
        "id": "88x4vQGn0V1s",
        "outputId": "2e8f22a0-30ac-42a2-bf35-404cbc3739cc"
      },
      "execution_count": null,
      "outputs": [
        {
          "output_type": "execute_result",
          "data": {
            "text/plain": [
              "20"
            ]
          },
          "metadata": {},
          "execution_count": 31
        }
      ]
    },
    {
      "cell_type": "code",
      "source": [
        "svd_model.singular_values_"
      ],
      "metadata": {
        "colab": {
          "base_uri": "https://localhost:8080/"
        },
        "id": "FcHITZWJX32P",
        "outputId": "6b6ff87f-f442-440d-de85-8af53caa61a9"
      },
      "execution_count": null,
      "outputs": [
        {
          "output_type": "execute_result",
          "data": {
            "text/plain": [
              "array([16.67167987,  9.94427157,  8.20462457,  7.91491576,  7.62721822,\n",
              "        7.32036744,  7.14917931,  6.91692712,  6.87091741,  6.73542917,\n",
              "        6.63038827,  6.53307383,  6.49293858,  6.37442457,  6.23051145,\n",
              "        6.18087881,  6.08341956,  5.98681284,  5.94837772,  5.90526352])"
            ]
          },
          "metadata": {},
          "execution_count": 32
        }
      ]
    },
    {
      "cell_type": "code",
      "source": [
        "np.shape(svd_model.components_)  # 정확하게 토픽의 수 t × 단어의 수의 크기를 가지고 있다."
      ],
      "metadata": {
        "colab": {
          "base_uri": "https://localhost:8080/"
        },
        "id": "Qk6hfq_g0jsz",
        "outputId": "5b7d974f-2e60-4132-9f02-d109aa79d6e0"
      },
      "execution_count": null,
      "outputs": [
        {
          "output_type": "execute_result",
          "data": {
            "text/plain": [
              "(20, 1000)"
            ]
          },
          "metadata": {},
          "execution_count": 33
        }
      ]
    },
    {
      "cell_type": "markdown",
      "source": [
        "- 각 20개의 행 (topics)에 대해 각 1,000개의 열 (words) 중 가장 값이 큰 5개의 값을 찾아서 단어로 출력."
      ],
      "metadata": {
        "id": "xeZpjEyI1Ngq"
      }
    },
    {
      "cell_type": "code",
      "source": [
        "# first row 에 대해 먼저 확인\n",
        "idx_5 = svd_model.components_[0].argsort()[-5:]\n",
        "idx_5"
      ],
      "metadata": {
        "colab": {
          "base_uri": "https://localhost:8080/"
        },
        "id": "LSJBUxzKiiOM",
        "outputId": "ce2b7225-f8d5-4b92-f666-05947ffd14ca"
      },
      "execution_count": null,
      "outputs": [
        {
          "output_type": "execute_result",
          "data": {
            "text/plain": [
              "array([365, 894, 626, 456, 481])"
            ]
          },
          "metadata": {},
          "execution_count": 34
        }
      ]
    },
    {
      "cell_type": "code",
      "source": [
        "[vectorizer.get_feature_names_out()[i] for i in idx_5][::-1]"
      ],
      "metadata": {
        "colab": {
          "base_uri": "https://localhost:8080/"
        },
        "id": "dQUsaPrajENN",
        "outputId": "a5e93952-830a-42e7-8e1c-85e33243b161"
      },
      "execution_count": null,
      "outputs": [
        {
          "output_type": "execute_result",
          "data": {
            "text/plain": [
              "['like', 'know', 'people', 'think', 'good']"
            ]
          },
          "metadata": {},
          "execution_count": 35
        }
      ]
    },
    {
      "cell_type": "code",
      "source": [
        "# 모든 row 에 대해 확인\n",
        "terms = vectorizer.get_feature_names_out()       # 단어 집합. 1,000개의 단어가 저장됨.\n",
        "\n",
        "def get_topics(components, feature_names, n=5):\n",
        "    for idx, topic in enumerate(components, 1):\n",
        "        # print(\"Topic %d:\" % (idx), [(feature_names[i], topic[i].round(5)) for i in topic.argsort()[:-n - 1:-1]])\n",
        "        print(\"Topic %d:\" % (idx), [(feature_names[i], topic[i].round(5)) for i in topic.argsort()[-n:][::-1]])\n",
        "\n",
        "get_topics(svd_model.components_, terms)"
      ],
      "metadata": {
        "colab": {
          "base_uri": "https://localhost:8080/"
        },
        "id": "pDYowmXP0xdk",
        "outputId": "8a5665aa-1604-4ac0-f72b-7edfaa391de7"
      },
      "execution_count": null,
      "outputs": [
        {
          "output_type": "stream",
          "name": "stdout",
          "text": [
            "Topic 1: [('like', 0.21386), ('know', 0.20046), ('people', 0.19293), ('think', 0.17805), ('good', 0.15128)]\n",
            "Topic 2: [('thanks', 0.32888), ('windows', 0.29088), ('card', 0.18069), ('drive', 0.17455), ('mail', 0.15111)]\n",
            "Topic 3: [('game', 0.37064), ('team', 0.32443), ('year', 0.28154), ('games', 0.2537), ('season', 0.18419)]\n",
            "Topic 4: [('drive', 0.53324), ('scsi', 0.20165), ('hard', 0.15628), ('disk', 0.15578), ('card', 0.13994)]\n",
            "Topic 5: [('windows', 0.40399), ('file', 0.25436), ('window', 0.18044), ('files', 0.16078), ('program', 0.13894)]\n",
            "Topic 6: [('chip', 0.16114), ('government', 0.16009), ('mail', 0.15625), ('space', 0.1507), ('information', 0.13562)]\n",
            "Topic 7: [('like', 0.67086), ('bike', 0.14236), ('chip', 0.11169), ('know', 0.11139), ('sounds', 0.10371)]\n",
            "Topic 8: [('card', 0.46633), ('video', 0.22137), ('sale', 0.21266), ('monitor', 0.15463), ('offer', 0.14643)]\n",
            "Topic 9: [('know', 0.46047), ('card', 0.33605), ('chip', 0.17558), ('government', 0.1522), ('video', 0.14356)]\n",
            "Topic 10: [('good', 0.42756), ('know', 0.23039), ('time', 0.1882), ('bike', 0.11406), ('jesus', 0.09027)]\n",
            "Topic 11: [('think', 0.78469), ('chip', 0.10899), ('good', 0.10635), ('thanks', 0.09123), ('clipper', 0.07946)]\n",
            "Topic 12: [('thanks', 0.36824), ('good', 0.22729), ('right', 0.21559), ('bike', 0.21037), ('problem', 0.20894)]\n",
            "Topic 13: [('good', 0.36212), ('people', 0.33985), ('windows', 0.28385), ('know', 0.26232), ('file', 0.18422)]\n",
            "Topic 14: [('space', 0.39946), ('think', 0.23258), ('know', 0.18074), ('nasa', 0.15174), ('problem', 0.12957)]\n",
            "Topic 15: [('space', 0.31613), ('good', 0.3094), ('card', 0.22603), ('people', 0.17476), ('time', 0.14496)]\n",
            "Topic 16: [('people', 0.48156), ('problem', 0.19961), ('window', 0.15281), ('time', 0.14664), ('game', 0.12871)]\n",
            "Topic 17: [('time', 0.34465), ('bike', 0.27303), ('right', 0.25557), ('windows', 0.1997), ('file', 0.19118)]\n",
            "Topic 18: [('time', 0.5973), ('problem', 0.15504), ('file', 0.14956), ('think', 0.12847), ('israel', 0.10903)]\n",
            "Topic 19: [('file', 0.44163), ('need', 0.26633), ('card', 0.18388), ('files', 0.17453), ('right', 0.15448)]\n",
            "Topic 20: [('problem', 0.33006), ('file', 0.27651), ('thanks', 0.23578), ('used', 0.19206), ('space', 0.13185)]\n"
          ]
        }
      ]
    },
    {
      "cell_type": "markdown",
      "source": [
        "- Pros and Cons of LSA:\n",
        "  - can be implemented easily and quickly.\n",
        "  - good performance in calculating the similarity of documents as it can derive the potential meaning of word\n",
        "  - But, if you add new data, you should recalculate it (difficult to update)\n",
        "  - that is why word embedding (like Word2Vec) is in the spotlight."
      ],
      "metadata": {
        "id": "iXTTWi-R1Zka"
      }
    },
    {
      "cell_type": "markdown",
      "source": [
        "## LDA in sklearn"
      ],
      "metadata": {
        "id": "BuRCWM-qQBhm"
      }
    },
    {
      "cell_type": "code",
      "source": [
        "lda = LatentDirichletAllocation(n_components=20, learning_method=\"batch\",\n",
        "                                max_iter=100, random_state=0)\n",
        "\n",
        "document_topics = lda.fit_transform(X)\n",
        "len(lda.components_)"
      ],
      "metadata": {
        "colab": {
          "base_uri": "https://localhost:8080/"
        },
        "id": "ByNnc-AEQEOr",
        "outputId": "c7ec75e7-31fc-4b13-f8ce-61ca8d7585c3"
      },
      "execution_count": null,
      "outputs": [
        {
          "output_type": "execute_result",
          "data": {
            "text/plain": [
              "20"
            ]
          },
          "metadata": {},
          "execution_count": 45
        }
      ]
    },
    {
      "cell_type": "code",
      "source": [
        "lda.get_params()   # doc_topic_prior = alpha, topic_word_prior = beta\n",
        "                   # both are by default 1/n_components"
      ],
      "metadata": {
        "colab": {
          "base_uri": "https://localhost:8080/"
        },
        "id": "JWMajngQVHL6",
        "outputId": "f833b178-aeaa-4404-97c0-145d1dced51b"
      },
      "execution_count": null,
      "outputs": [
        {
          "output_type": "execute_result",
          "data": {
            "text/plain": [
              "{'batch_size': 128,\n",
              " 'doc_topic_prior': None,\n",
              " 'evaluate_every': -1,\n",
              " 'learning_decay': 0.7,\n",
              " 'learning_method': 'batch',\n",
              " 'learning_offset': 10.0,\n",
              " 'max_doc_update_iter': 100,\n",
              " 'max_iter': 100,\n",
              " 'mean_change_tol': 0.001,\n",
              " 'n_components': 20,\n",
              " 'n_jobs': None,\n",
              " 'perp_tol': 0.1,\n",
              " 'random_state': 0,\n",
              " 'topic_word_prior': None,\n",
              " 'total_samples': 1000000.0,\n",
              " 'verbose': 0}"
            ]
          },
          "metadata": {},
          "execution_count": 54
        }
      ]
    },
    {
      "cell_type": "code",
      "source": [
        "X.shape"
      ],
      "metadata": {
        "colab": {
          "base_uri": "https://localhost:8080/"
        },
        "id": "Sd6inDwCTulU",
        "outputId": "58dcfc9e-3702-4ef5-cc42-5381f87d2d42"
      },
      "execution_count": null,
      "outputs": [
        {
          "output_type": "execute_result",
          "data": {
            "text/plain": [
              "(11314, 1000)"
            ]
          },
          "metadata": {},
          "execution_count": 52
        }
      ]
    },
    {
      "cell_type": "code",
      "source": [
        "np.shape(lda.components_)"
      ],
      "metadata": {
        "colab": {
          "base_uri": "https://localhost:8080/"
        },
        "id": "0Zejbtu3Qf6N",
        "outputId": "acecd9f6-a7b1-4d04-f56c-34cf3bc2a2a6"
      },
      "execution_count": null,
      "outputs": [
        {
          "output_type": "execute_result",
          "data": {
            "text/plain": [
              "(20, 1000)"
            ]
          },
          "metadata": {},
          "execution_count": 46
        }
      ]
    },
    {
      "cell_type": "code",
      "source": [
        "np.shape(document_topics)"
      ],
      "metadata": {
        "colab": {
          "base_uri": "https://localhost:8080/"
        },
        "id": "-EX956osTfqj",
        "outputId": "efbe73e8-7f55-43e8-982e-7b25bb168122"
      },
      "execution_count": null,
      "outputs": [
        {
          "output_type": "execute_result",
          "data": {
            "text/plain": [
              "(11314, 20)"
            ]
          },
          "metadata": {},
          "execution_count": 51
        }
      ]
    },
    {
      "cell_type": "code",
      "source": [
        "document_topics[0]  # document1 -> mixed multiple topics"
      ],
      "metadata": {
        "colab": {
          "base_uri": "https://localhost:8080/"
        },
        "id": "FSGVTQAqT7GC",
        "outputId": "40b60b7d-6b51-4498-bebd-312990973e02"
      },
      "execution_count": null,
      "outputs": [
        {
          "output_type": "execute_result",
          "data": {
            "text/plain": [
              "array([0.43689302, 0.00993009, 0.00993009, 0.00993009, 0.00993009,\n",
              "       0.00993009, 0.00993009, 0.00993009, 0.00993009, 0.00993009,\n",
              "       0.00993009, 0.00993009, 0.00993009, 0.00993009, 0.00993009,\n",
              "       0.3843653 , 0.00993009, 0.00993009, 0.00993009, 0.00993009])"
            ]
          },
          "metadata": {},
          "execution_count": 53
        }
      ]
    },
    {
      "cell_type": "code",
      "source": [
        "# 모든 row 에 대해 확인\n",
        "get_topics(lda.components_, terms)"
      ],
      "metadata": {
        "colab": {
          "base_uri": "https://localhost:8080/"
        },
        "id": "AfKFGVz6Qrzt",
        "outputId": "60414c25-81c3-4c77-87eb-22c79d652de7"
      },
      "execution_count": null,
      "outputs": [
        {
          "output_type": "stream",
          "name": "stdout",
          "text": [
            "Topic 1: [('israel', 55.37531), ('israeli', 37.07113), ('jews', 34.14804), ('jewish', 30.62082), ('arab', 22.74232)]\n",
            "Topic 2: [('david', 21.78632), ('michael', 20.14385), ('keyboard', 15.99996), ('hell', 11.85443), ('wife', 10.19585)]\n",
            "Topic 3: [('armenian', 29.4585), ('armenians', 27.88309), ('turkish', 25.01496), ('turkey', 20.68642), ('greek', 15.39845)]\n",
            "Topic 4: [('thanks', 84.69616), ('advance', 40.68202), ('mail', 37.54933), ('looking', 35.86392), ('info', 33.36252)]\n",
            "Topic 5: [('sale', 61.28771), ('offer', 46.43454), ('bike', 44.62347), ('condition', 38.64548), ('shipping', 37.77755)]\n",
            "Topic 6: [('windows', 98.96698), ('file', 88.71622), ('window', 72.59648), ('program', 72.05492), ('files', 71.72221)]\n",
            "Topic 7: [('game', 64.33812), ('team', 59.51838), ('year', 48.0801), ('games', 37.10433), ('play', 35.982)]\n",
            "Topic 8: [('drivers', 29.69715), ('printer', 28.6972), ('cards', 25.22757), ('print', 18.87286), ('yeah', 18.72474)]\n",
            "Topic 9: [('games', 33.2758), ('game', 27.26833), ('year', 27.02055), ('team', 23.49603), ('trade', 17.95282)]\n",
            "Topic 10: [('chip', 49.62921), ('encryption', 43.02628), ('clipper', 42.26753), ('keys', 36.14626), ('government', 25.63252)]\n",
            "Topic 11: [('deleted', 31.20541), ('stuff', 20.0889), ('products', 11.48039), ('page', 10.17782), ('works', 9.87801)]\n",
            "Topic 12: [('article', 28.08721), ('clinton', 17.72071), ('orbit', 12.59167), ('wanted', 11.67113), ('issue', 11.0285)]\n",
            "Topic 13: [('version', 20.66897), ('love', 18.23016), ('heard', 18.06854), ('sound', 17.10441), ('hear', 16.90497)]\n",
            "Topic 14: [('drive', 109.07745), ('card', 67.0913), ('scsi', 56.19667), ('video', 46.82354), ('power', 46.18144)]\n",
            "Topic 15: [('space', 58.70442), ('cars', 25.43998), ('nasa', 23.34254), ('moon', 21.56344), ('launch', 21.39222)]\n",
            "Topic 16: [('people', 88.10437), ('jesus', 70.57993), ('think', 66.84515), ('believe', 57.16897), ('bible', 51.71985)]\n",
            "Topic 17: [('soon', 32.356), ('know', 23.07267), ('posting', 22.81079), ('says', 22.27996), ('mike', 18.04076)]\n",
            "Topic 18: [('people', 87.79561), ('like', 55.28481), ('think', 52.15579), ('government', 49.16714), ('right', 47.12016)]\n",
            "Topic 19: [('address', 35.90471), ('list', 31.67791), ('mail', 30.25347), ('university', 26.4797), ('send', 24.64665)]\n",
            "Topic 20: [('sorry', 19.20257), ('test', 13.15267), ('like', 12.89503), ('wire', 12.62927), ('line', 12.10765)]\n"
          ]
        }
      ]
    },
    {
      "cell_type": "markdown",
      "source": [
        "- try to compare the results with the target"
      ],
      "metadata": {
        "id": "EEEJnTqXRMKq"
      }
    },
    {
      "cell_type": "code",
      "source": [
        "dataset.target_names      #  20개의 뉴스그룹 카테고리"
      ],
      "metadata": {
        "colab": {
          "base_uri": "https://localhost:8080/"
        },
        "id": "c0QxrkGURKdj",
        "outputId": "ed7906b7-a147-4017-a833-efcb8d6e6548"
      },
      "execution_count": null,
      "outputs": [
        {
          "output_type": "execute_result",
          "data": {
            "text/plain": [
              "['alt.atheism',\n",
              " 'comp.graphics',\n",
              " 'comp.os.ms-windows.misc',\n",
              " 'comp.sys.ibm.pc.hardware',\n",
              " 'comp.sys.mac.hardware',\n",
              " 'comp.windows.x',\n",
              " 'misc.forsale',\n",
              " 'rec.autos',\n",
              " 'rec.motorcycles',\n",
              " 'rec.sport.baseball',\n",
              " 'rec.sport.hockey',\n",
              " 'sci.crypt',\n",
              " 'sci.electronics',\n",
              " 'sci.med',\n",
              " 'sci.space',\n",
              " 'soc.religion.christian',\n",
              " 'talk.politics.guns',\n",
              " 'talk.politics.mideast',\n",
              " 'talk.politics.misc',\n",
              " 'talk.religion.misc']"
            ]
          },
          "metadata": {},
          "execution_count": 44
        }
      ]
    },
    {
      "cell_type": "markdown",
      "source": [
        "# LDA(Latent Dirichlet Allocation)\n",
        "- gensim:\n",
        "  - Topic Modeling Focus: designed for natural language processing and topic modeling. It is well-suited for text data and is optimized for large text corpora.\n",
        "  - Incremental Training: it allows for incremental training of LDA models, which can be useful if you want to update your model over time without reprocessing the entire dataset.\n",
        "  - Efficiency: known for its memory efficiency and scalability. It can handle very large text corpora efficiently.\n",
        "  - Customization: provides more flexibility in customizing LDA parameters and fine-tuning the model to suit your specific needs.\n",
        "- sklearn:\n",
        "  - General Machine Learning Focus: Scikit-learn is a general-purpose machine learning library. Its LDA implementation is part of its broader suite of machine learning algorithms and is designed for general data analysis tasks.\n",
        "  - Ease of Use: If you are already familiar with scikit-learn for other machine learning tasks, using scikit-learn's LDA can be convenient and consistent with your existing workflow.\n",
        "  - Integration with Other Machine Learning Algorithms: Scikit-learn allows for easy integration of LDA with other machine learning techniques and provides a consistent API for various algorithms."
      ],
      "metadata": {
        "id": "Pd9P8hzNvDK7"
      }
    },
    {
      "cell_type": "markdown",
      "source": [
        "## Gensim LDA example\n",
        "- LDA는 문서들은 토픽들의 혼합으로 구성되어져 있으며, 토픽들은 확률 분포에 기반하여 단어들을 생성한다고 가정.\n",
        "- 데이터가 주어지면, LDA는 문서가 생성되던 과정을 역추적\n",
        "- https://wikidocs.net/30708"
      ],
      "metadata": {
        "id": "jFDv9L8j8MJo"
      }
    },
    {
      "cell_type": "markdown",
      "source": [
        "- LDA algorithm:\n",
        "  - (1) hyperparameter k is given\n",
        "  - (2) assign all words to one of k topics\n",
        "  - (3) iterate followings:\n",
        "     - assume the word w is mis-assigned and all others are well- assigned\n",
        "     - re-assign w based on:\n",
        "        - p(topic t | document d) : 문서 d의 단어들 중 토픽 t에 해당하는 단어들의 비율\n",
        "        - p(word w | topic t) : 각 토픽들 t에서 해당 단어 w의 분포\n",
        "- LSA and LDA\n",
        "  - LSA: DTM (document term matrix)을 차원 축소 하여 축소 차원에서 근접 단어들을 토픽으로 묶는다\n",
        "  - LDA: 단어가 특정 토픽에 존재할 확률과 문서에 특정 토픽이 존재할 확률을 결합확률로 추정하여 토픽을 추출"
      ],
      "metadata": {
        "id": "TzeM9JV59MKR"
      }
    },
    {
      "cell_type": "code",
      "source": [
        "# let's use the same dataset as we used in LSA\n",
        "print(tokenized_doc.shape)\n",
        "tokenized_doc[:5]"
      ],
      "metadata": {
        "colab": {
          "base_uri": "https://localhost:8080/"
        },
        "id": "sKxjkgLd83wY",
        "outputId": "cf2fd01a-f5c1-4065-d84a-490cd1d2ac6a"
      },
      "execution_count": null,
      "outputs": [
        {
          "output_type": "stream",
          "name": "stdout",
          "text": [
            "(11314,)\n"
          ]
        },
        {
          "output_type": "execute_result",
          "data": {
            "text/plain": [
              "0    [well, sure, story, seem, biased, disagree, st...\n",
              "1    [yeah, expect, people, read, actually, accept,...\n",
              "2    [although, realize, principle, strongest, poin...\n",
              "3    [notwithstanding, legitimate, fuss, proposal, ...\n",
              "4    [well, change, scoring, playoff, pool, unfortu...\n",
              "Name: clean_doc, dtype: object"
            ]
          },
          "metadata": {},
          "execution_count": 48
        }
      ]
    },
    {
      "cell_type": "markdown",
      "source": [
        "- record word frequency (word_id, word_freq)"
      ],
      "metadata": {
        "id": "hjIB7A8p_eDK"
      }
    },
    {
      "cell_type": "code",
      "source": [
        "from gensim import corpora\n",
        "\n",
        "dictionary = corpora.Dictionary(tokenized_doc)\n",
        "corpus = [dictionary.doc2bow(text) for text in tokenized_doc]\n",
        "print(corpus[:2])"
      ],
      "metadata": {
        "colab": {
          "base_uri": "https://localhost:8080/"
        },
        "id": "CfOH_jbn_RKP",
        "outputId": "416d7d32-4ecf-454a-d4d0-acad71a094e0"
      },
      "execution_count": null,
      "outputs": [
        {
          "output_type": "stream",
          "name": "stdout",
          "text": [
            "[[(0, 1), (1, 1), (2, 1), (3, 1), (4, 1), (5, 1), (6, 1), (7, 1), (8, 1), (9, 1), (10, 1), (11, 1), (12, 1), (13, 1), (14, 1), (15, 1), (16, 1), (17, 1), (18, 1), (19, 1), (20, 1), (21, 2), (22, 2), (23, 1), (24, 1), (25, 1), (26, 1), (27, 1), (28, 1), (29, 4), (30, 1), (31, 1), (32, 1), (33, 1), (34, 1), (35, 1), (36, 1), (37, 1), (38, 1), (39, 1), (40, 1), (41, 1), (42, 2), (43, 1), (44, 1), (45, 1), (46, 1), (47, 1), (48, 1), (49, 1), (50, 1), (51, 1), (52, 1), (53, 1), (54, 1)], [(52, 1), (55, 1), (56, 1), (57, 1), (58, 1), (59, 1), (60, 1), (61, 1), (62, 1), (63, 1), (64, 1), (65, 1), (66, 2), (67, 1), (68, 1), (69, 1), (70, 1), (71, 2), (72, 1), (73, 1), (74, 1), (75, 1), (76, 1), (77, 1), (78, 2), (79, 1), (80, 1), (81, 1), (82, 1), (83, 1), (84, 1), (85, 2), (86, 1), (87, 1), (88, 1), (89, 1)]]\n"
          ]
        }
      ]
    },
    {
      "cell_type": "code",
      "source": [
        "# LDA train\n",
        "import gensim\n",
        "\n",
        "NUM_TOPICS = 20      # 20개의 토픽, k=20\n",
        "# train the model\n",
        "ldamodel = gensim.models.ldamodel.LdaModel(corpus,\n",
        "                                           num_topics = NUM_TOPICS,\n",
        "                                           id2word=dictionary,\n",
        "                                           passes=15)      # no. of passes through the corpus during training.\n",
        "\n",
        "topics = ldamodel.print_topics(num_words=5)  # 5 개의 단어만 출력\n",
        "for topic in topics:\n",
        "    print(topic)"
      ],
      "metadata": {
        "colab": {
          "base_uri": "https://localhost:8080/"
        },
        "id": "pglBZHme_0Ph",
        "outputId": "74493ddf-3837-4c35-da85-88f5b4488b0d"
      },
      "execution_count": null,
      "outputs": [
        {
          "output_type": "stream",
          "name": "stdout",
          "text": [
            "(0, '0.016*\"government\" + 0.010*\"public\" + 0.009*\"encryption\" + 0.008*\"security\" + 0.006*\"clipper\"')\n",
            "(1, '0.029*\"game\" + 0.028*\"team\" + 0.023*\"year\" + 0.021*\"games\" + 0.016*\"season\"')\n",
            "(2, '0.015*\"israel\" + 0.009*\"israeli\" + 0.006*\"jews\" + 0.006*\"arab\" + 0.005*\"would\"')\n",
            "(3, '0.016*\"period\" + 0.013*\"play\" + 0.009*\"power\" + 0.008*\"goal\" + 0.008*\"detroit\"')\n",
            "(4, '0.030*\"president\" + 0.014*\"jobs\" + 0.010*\"going\" + 0.009*\"said\" + 0.009*\"package\"')\n",
            "(5, '0.016*\"unit\" + 0.009*\"bits\" + 0.009*\"picture\" + 0.008*\"serial\" + 0.007*\"compass\"')\n",
            "(6, '0.023*\"would\" + 0.016*\"like\" + 0.013*\"know\" + 0.012*\"think\" + 0.010*\"good\"')\n",
            "(7, '0.011*\"people\" + 0.008*\"would\" + 0.006*\"jesus\" + 0.006*\"many\" + 0.006*\"believe\"')\n",
            "(8, '0.025*\"water\" + 0.015*\"insurance\" + 0.015*\"cubs\" + 0.009*\"outlets\" + 0.009*\"phillies\"')\n",
            "(9, '0.006*\"power\" + 0.006*\"bike\" + 0.006*\"used\" + 0.005*\"high\" + 0.004*\"speed\"')\n",
            "(10, '0.021*\"armenian\" + 0.018*\"turkish\" + 0.016*\"armenians\" + 0.011*\"turkey\" + 0.010*\"jews\"')\n",
            "(11, '0.009*\"health\" + 0.007*\"space\" + 0.007*\"research\" + 0.007*\"medical\" + 0.006*\"center\"')\n",
            "(12, '0.023*\"drive\" + 0.018*\"card\" + 0.014*\"disk\" + 0.014*\"scsi\" + 0.014*\"system\"')\n",
            "(13, '0.017*\"food\" + 0.008*\"diet\" + 0.007*\"homosexual\" + 0.007*\"homosexuals\" + 0.006*\"homosexuality\"')\n",
            "(14, '0.017*\"mail\" + 0.013*\"information\" + 0.012*\"list\" + 0.012*\"available\" + 0.011*\"send\"')\n",
            "(15, '0.012*\"expose\" + 0.012*\"yankees\" + 0.010*\"plane\" + 0.010*\"handler\" + 0.009*\"obfuscate\"')\n",
            "(16, '0.020*\"said\" + 0.013*\"people\" + 0.010*\"went\" + 0.010*\"children\" + 0.008*\"women\"')\n",
            "(17, '0.016*\"guns\" + 0.011*\"control\" + 0.010*\"wire\" + 0.010*\"crime\" + 0.009*\"ground\"')\n",
            "(18, '0.050*\"space\" + 0.022*\"nasa\" + 0.014*\"sale\" + 0.013*\"char\" + 0.013*\"offer\"')\n",
            "(19, '0.017*\"file\" + 0.012*\"program\" + 0.009*\"windows\" + 0.008*\"output\" + 0.008*\"files\"')\n"
          ]
        }
      ]
    },
    {
      "cell_type": "code",
      "source": [
        "# see the topics as a list of words\n",
        "# - no natural ordering between the topics in LDA.\n",
        "\n",
        "ldamodel.show_topics(num_topics=10, num_words=10, log=False, formatted=True)   # 10 개 단어 출력"
      ],
      "metadata": {
        "colab": {
          "base_uri": "https://localhost:8080/"
        },
        "id": "bgs6524Dgdss",
        "outputId": "92b274e8-4dfe-43fb-bf4b-32a10b1d6039"
      },
      "execution_count": null,
      "outputs": [
        {
          "output_type": "execute_result",
          "data": {
            "text/plain": [
              "[(15,\n",
              "  '0.019*\"drive\" + 0.013*\"card\" + 0.012*\"system\" + 0.011*\"disk\" + 0.011*\"scsi\" + 0.010*\"know\" + 0.010*\"anyone\" + 0.010*\"thanks\" + 0.008*\"would\" + 0.008*\"problem\"'),\n",
              " (18,\n",
              "  '0.011*\"government\" + 0.008*\"encryption\" + 0.008*\"public\" + 0.007*\"security\" + 0.007*\"system\" + 0.007*\"chip\" + 0.007*\"keys\" + 0.006*\"clipper\" + 0.006*\"information\" + 0.005*\"used\"'),\n",
              " (1,\n",
              "  '0.011*\"armenian\" + 0.011*\"jews\" + 0.009*\"turkish\" + 0.008*\"armenians\" + 0.007*\"world\" + 0.006*\"turkey\" + 0.006*\"jewish\" + 0.006*\"people\" + 0.006*\"history\" + 0.005*\"greek\"'),\n",
              " (9,\n",
              "  '0.022*\"ground\" + 0.021*\"wire\" + 0.014*\"circuit\" + 0.013*\"neutral\" + 0.012*\"wiring\" + 0.011*\"panel\" + 0.010*\"voltage\" + 0.010*\"connected\" + 0.009*\"navy\" + 0.009*\"cable\"'),\n",
              " (6,\n",
              "  '0.011*\"printer\" + 0.007*\"candida\" + 0.006*\"sabbath\" + 0.006*\"auto\" + 0.006*\"autos\" + 0.005*\"print\" + 0.005*\"laser\" + 0.005*\"points\" + 0.004*\"polygon\" + 0.004*\"prophecy\"'),\n",
              " (7,\n",
              "  '0.017*\"available\" + 0.013*\"software\" + 0.013*\"mail\" + 0.011*\"information\" + 0.010*\"version\" + 0.009*\"list\" + 0.009*\"also\" + 0.008*\"send\" + 0.008*\"graphics\" + 0.008*\"image\"'),\n",
              " (0,\n",
              "  '0.009*\"henrik\" + 0.005*\"canada\" + 0.005*\"compass\" + 0.005*\"average\" + 0.004*\"sweden\" + 0.004*\"april\" + 0.004*\"roger\" + 0.004*\"plate\" + 0.004*\"jack\" + 0.003*\"cooper\"'),\n",
              " (8,\n",
              "  '0.017*\"file\" + 0.012*\"program\" + 0.009*\"windows\" + 0.008*\"output\" + 0.008*\"window\" + 0.008*\"using\" + 0.007*\"files\" + 0.007*\"entry\" + 0.006*\"line\" + 0.005*\"display\"'),\n",
              " (17,\n",
              "  '0.020*\"gordon\" + 0.019*\"banks\" + 0.019*\"pitt\" + 0.017*\"soon\" + 0.017*\"surrender\" + 0.017*\"skepticism\" + 0.015*\"intellect\" + 0.015*\"shameful\" + 0.015*\"cadre\" + 0.014*\"chastity\"'),\n",
              " (2,\n",
              "  '0.020*\"would\" + 0.013*\"people\" + 0.011*\"think\" + 0.010*\"like\" + 0.009*\"know\" + 0.008*\"even\" + 0.007*\"time\" + 0.007*\"well\" + 0.007*\"could\" + 0.007*\"much\"')]"
            ]
          },
          "metadata": {},
          "execution_count": 36
        }
      ]
    },
    {
      "cell_type": "code",
      "source": [
        "ldamodel.print_topics(10)  # alias of show_topics (10 words per topic, by default)"
      ],
      "metadata": {
        "colab": {
          "base_uri": "https://localhost:8080/"
        },
        "id": "F8Tp6QzyADDw",
        "outputId": "7e812c4f-aec3-403a-8fc9-f1e4f2c8c491"
      },
      "execution_count": null,
      "outputs": [
        {
          "output_type": "execute_result",
          "data": {
            "text/plain": [
              "[(17,\n",
              "  '0.020*\"gordon\" + 0.019*\"banks\" + 0.019*\"pitt\" + 0.017*\"soon\" + 0.017*\"surrender\" + 0.017*\"skepticism\" + 0.015*\"intellect\" + 0.015*\"shameful\" + 0.015*\"cadre\" + 0.014*\"chastity\"'),\n",
              " (12,\n",
              "  '0.013*\"exist\" + 0.012*\"atheism\" + 0.011*\"atheists\" + 0.010*\"existence\" + 0.008*\"belief\" + 0.008*\"argument\" + 0.008*\"science\" + 0.008*\"atheist\" + 0.007*\"universe\" + 0.007*\"religious\"'),\n",
              " (2,\n",
              "  '0.020*\"would\" + 0.013*\"people\" + 0.011*\"think\" + 0.010*\"like\" + 0.009*\"know\" + 0.008*\"even\" + 0.007*\"time\" + 0.007*\"well\" + 0.007*\"could\" + 0.007*\"much\"'),\n",
              " (19,\n",
              "  '0.016*\"goal\" + 0.016*\"pittsburgh\" + 0.012*\"flames\" + 0.012*\"kings\" + 0.012*\"puck\" + 0.011*\"calgary\" + 0.011*\"play\" + 0.010*\"wings\" + 0.009*\"game\" + 0.009*\"quebec\"'),\n",
              " (1,\n",
              "  '0.011*\"armenian\" + 0.011*\"jews\" + 0.009*\"turkish\" + 0.008*\"armenians\" + 0.007*\"world\" + 0.006*\"turkey\" + 0.006*\"jewish\" + 0.006*\"people\" + 0.006*\"history\" + 0.005*\"greek\"'),\n",
              " (14,\n",
              "  '0.009*\"state\" + 0.008*\"states\" + 0.008*\"health\" + 0.008*\"guns\" + 0.007*\"control\" + 0.006*\"weapons\" + 0.006*\"government\" + 0.006*\"crime\" + 0.006*\"national\" + 0.006*\"police\"'),\n",
              " (8,\n",
              "  '0.017*\"file\" + 0.012*\"program\" + 0.009*\"windows\" + 0.008*\"output\" + 0.008*\"window\" + 0.008*\"using\" + 0.007*\"files\" + 0.007*\"entry\" + 0.006*\"line\" + 0.005*\"display\"'),\n",
              " (6,\n",
              "  '0.011*\"printer\" + 0.007*\"candida\" + 0.006*\"sabbath\" + 0.006*\"auto\" + 0.006*\"autos\" + 0.005*\"print\" + 0.005*\"laser\" + 0.005*\"points\" + 0.004*\"polygon\" + 0.004*\"prophecy\"'),\n",
              " (11,\n",
              "  '0.014*\"said\" + 0.010*\"people\" + 0.007*\"president\" + 0.007*\"going\" + 0.007*\"know\" + 0.006*\"went\" + 0.006*\"back\" + 0.005*\"time\" + 0.005*\"israel\" + 0.005*\"told\"'),\n",
              " (15,\n",
              "  '0.019*\"drive\" + 0.013*\"card\" + 0.012*\"system\" + 0.011*\"disk\" + 0.011*\"scsi\" + 0.010*\"know\" + 0.010*\"anyone\" + 0.010*\"thanks\" + 0.008*\"would\" + 0.008*\"problem\"')]"
            ]
          },
          "metadata": {},
          "execution_count": 37
        }
      ]
    },
    {
      "cell_type": "markdown",
      "source": [
        "- visualize LDA"
      ],
      "metadata": {
        "id": "qAmZyMvWAFkB"
      }
    },
    {
      "cell_type": "code",
      "source": [
        "!pip install pyLDAvis"
      ],
      "metadata": {
        "id": "Ka7QxIfCAMuR",
        "colab": {
          "base_uri": "https://localhost:8080/",
          "height": 845
        },
        "outputId": "ea20d81d-f313-41f3-b4c4-cfb7298e8517"
      },
      "execution_count": null,
      "outputs": [
        {
          "output_type": "stream",
          "name": "stdout",
          "text": [
            "Collecting pyLDAvis\n",
            "  Downloading pyLDAvis-3.4.1-py3-none-any.whl (2.6 MB)\n",
            "\u001b[2K     \u001b[90m━━━━━━━━━━━━━━━━━━━━━━━━━━━━━━━━━━━━━━━━\u001b[0m \u001b[32m2.6/2.6 MB\u001b[0m \u001b[31m19.7 MB/s\u001b[0m eta \u001b[36m0:00:00\u001b[0m\n",
            "\u001b[?25hCollecting numpy>=1.24.2 (from pyLDAvis)\n",
            "  Downloading numpy-1.25.2-cp310-cp310-manylinux_2_17_x86_64.manylinux2014_x86_64.whl (18.2 MB)\n",
            "\u001b[2K     \u001b[90m━━━━━━━━━━━━━━━━━━━━━━━━━━━━━━━━━━━━━━━━\u001b[0m \u001b[32m18.2/18.2 MB\u001b[0m \u001b[31m69.8 MB/s\u001b[0m eta \u001b[36m0:00:00\u001b[0m\n",
            "\u001b[?25hRequirement already satisfied: scipy in /usr/local/lib/python3.10/dist-packages (from pyLDAvis) (1.10.1)\n",
            "Collecting pandas>=2.0.0 (from pyLDAvis)\n",
            "  Downloading pandas-2.1.0-cp310-cp310-manylinux_2_17_x86_64.manylinux2014_x86_64.whl (12.7 MB)\n",
            "\u001b[2K     \u001b[90m━━━━━━━━━━━━━━━━━━━━━━━━━━━━━━━━━━━━━━━━\u001b[0m \u001b[32m12.7/12.7 MB\u001b[0m \u001b[31m80.4 MB/s\u001b[0m eta \u001b[36m0:00:00\u001b[0m\n",
            "\u001b[?25hRequirement already satisfied: joblib>=1.2.0 in /usr/local/lib/python3.10/dist-packages (from pyLDAvis) (1.3.2)\n",
            "Requirement already satisfied: jinja2 in /usr/local/lib/python3.10/dist-packages (from pyLDAvis) (3.1.2)\n",
            "Requirement already satisfied: numexpr in /usr/local/lib/python3.10/dist-packages (from pyLDAvis) (2.8.5)\n",
            "Collecting funcy (from pyLDAvis)\n",
            "  Downloading funcy-2.0-py2.py3-none-any.whl (30 kB)\n",
            "Requirement already satisfied: scikit-learn>=1.0.0 in /usr/local/lib/python3.10/dist-packages (from pyLDAvis) (1.2.2)\n",
            "Requirement already satisfied: gensim in /usr/local/lib/python3.10/dist-packages (from pyLDAvis) (4.3.2)\n",
            "Requirement already satisfied: setuptools in /usr/local/lib/python3.10/dist-packages (from pyLDAvis) (67.7.2)\n",
            "Requirement already satisfied: python-dateutil>=2.8.2 in /usr/local/lib/python3.10/dist-packages (from pandas>=2.0.0->pyLDAvis) (2.8.2)\n",
            "Requirement already satisfied: pytz>=2020.1 in /usr/local/lib/python3.10/dist-packages (from pandas>=2.0.0->pyLDAvis) (2023.3.post1)\n",
            "Collecting tzdata>=2022.1 (from pandas>=2.0.0->pyLDAvis)\n",
            "  Downloading tzdata-2023.3-py2.py3-none-any.whl (341 kB)\n",
            "\u001b[2K     \u001b[90m━━━━━━━━━━━━━━━━━━━━━━━━━━━━━━━━━━━━━━\u001b[0m \u001b[32m341.8/341.8 kB\u001b[0m \u001b[31m29.4 MB/s\u001b[0m eta \u001b[36m0:00:00\u001b[0m\n",
            "\u001b[?25hRequirement already satisfied: threadpoolctl>=2.0.0 in /usr/local/lib/python3.10/dist-packages (from scikit-learn>=1.0.0->pyLDAvis) (3.2.0)\n",
            "Requirement already satisfied: smart-open>=1.8.1 in /usr/local/lib/python3.10/dist-packages (from gensim->pyLDAvis) (6.3.0)\n",
            "Requirement already satisfied: MarkupSafe>=2.0 in /usr/local/lib/python3.10/dist-packages (from jinja2->pyLDAvis) (2.1.3)\n",
            "Requirement already satisfied: six>=1.5 in /usr/local/lib/python3.10/dist-packages (from python-dateutil>=2.8.2->pandas>=2.0.0->pyLDAvis) (1.16.0)\n",
            "Installing collected packages: funcy, tzdata, numpy, pandas, pyLDAvis\n",
            "  Attempting uninstall: numpy\n",
            "    Found existing installation: numpy 1.23.5\n",
            "    Uninstalling numpy-1.23.5:\n",
            "      Successfully uninstalled numpy-1.23.5\n",
            "  Attempting uninstall: pandas\n",
            "    Found existing installation: pandas 1.5.3\n",
            "    Uninstalling pandas-1.5.3:\n",
            "      Successfully uninstalled pandas-1.5.3\n",
            "\u001b[31mERROR: pip's dependency resolver does not currently take into account all the packages that are installed. This behaviour is the source of the following dependency conflicts.\n",
            "google-colab 1.0.0 requires pandas==1.5.3, but you have pandas 2.1.0 which is incompatible.\n",
            "numba 0.56.4 requires numpy<1.24,>=1.18, but you have numpy 1.25.2 which is incompatible.\n",
            "tensorflow 2.13.0 requires numpy<=1.24.3,>=1.22, but you have numpy 1.25.2 which is incompatible.\u001b[0m\u001b[31m\n",
            "\u001b[0mSuccessfully installed funcy-2.0 numpy-1.25.2 pandas-2.1.0 pyLDAvis-3.4.1 tzdata-2023.3\n"
          ]
        },
        {
          "output_type": "display_data",
          "data": {
            "application/vnd.colab-display-data+json": {
              "pip_warning": {
                "packages": [
                  "numpy"
                ]
              }
            }
          },
          "metadata": {}
        }
      ]
    },
    {
      "cell_type": "code",
      "source": [
        "import pyLDAvis\n",
        "import pyLDAvis.gensim_models  # Only needed if using gensim for LDA\n",
        "\n",
        "pyLDAvis.enable_notebook()     # to enable the display in notebooks\n",
        "vis = pyLDAvis.gensim_models.prepare(ldamodel, corpus, dictionary)\n",
        "pyLDAvis.display(vis)"
      ],
      "metadata": {
        "colab": {
          "base_uri": "https://localhost:8080/",
          "height": 599
        },
        "id": "jMmY2smVAQpq",
        "outputId": "9623590f-e0c6-4687-8f79-94f9697dcccf"
      },
      "execution_count": null,
      "outputs": [
        {
          "output_type": "error",
          "ename": "BrokenProcessPool",
          "evalue": "ignored",
          "traceback": [
            "\u001b[0;31m---------------------------------------------------------------------------\u001b[0m",
            "\u001b[0;31m_RemoteTraceback\u001b[0m                          Traceback (most recent call last)",
            "\u001b[0;31m_RemoteTraceback\u001b[0m: \n\"\"\"\nTraceback (most recent call last):\n  File \"/usr/local/lib/python3.10/dist-packages/joblib/externals/loky/process_executor.py\", line 426, in _process_worker\n    call_item = call_queue.get(block=True, timeout=timeout)\n  File \"/usr/lib/python3.10/multiprocessing/queues.py\", line 122, in get\n    return _ForkingPickler.loads(res)\nModuleNotFoundError: No module named 'pandas.core.indexes.numeric'\n\"\"\"",
            "\nThe above exception was the direct cause of the following exception:\n",
            "\u001b[0;31mBrokenProcessPool\u001b[0m                         Traceback (most recent call last)",
            "\u001b[0;32m<ipython-input-39-81b5165a8006>\u001b[0m in \u001b[0;36m<cell line: 5>\u001b[0;34m()\u001b[0m\n\u001b[1;32m      3\u001b[0m \u001b[0;34m\u001b[0m\u001b[0m\n\u001b[1;32m      4\u001b[0m \u001b[0mpyLDAvis\u001b[0m\u001b[0;34m.\u001b[0m\u001b[0menable_notebook\u001b[0m\u001b[0;34m(\u001b[0m\u001b[0;34m)\u001b[0m     \u001b[0;31m# to enable the display in notebooks\u001b[0m\u001b[0;34m\u001b[0m\u001b[0;34m\u001b[0m\u001b[0m\n\u001b[0;32m----> 5\u001b[0;31m \u001b[0mvis\u001b[0m \u001b[0;34m=\u001b[0m \u001b[0mpyLDAvis\u001b[0m\u001b[0;34m.\u001b[0m\u001b[0mgensim_models\u001b[0m\u001b[0;34m.\u001b[0m\u001b[0mprepare\u001b[0m\u001b[0;34m(\u001b[0m\u001b[0mldamodel\u001b[0m\u001b[0;34m,\u001b[0m \u001b[0mcorpus\u001b[0m\u001b[0;34m,\u001b[0m \u001b[0mdictionary\u001b[0m\u001b[0;34m)\u001b[0m\u001b[0;34m\u001b[0m\u001b[0;34m\u001b[0m\u001b[0m\n\u001b[0m\u001b[1;32m      6\u001b[0m \u001b[0mpyLDAvis\u001b[0m\u001b[0;34m.\u001b[0m\u001b[0mdisplay\u001b[0m\u001b[0;34m(\u001b[0m\u001b[0mvis\u001b[0m\u001b[0;34m)\u001b[0m\u001b[0;34m\u001b[0m\u001b[0;34m\u001b[0m\u001b[0m\n",
            "\u001b[0;32m/usr/local/lib/python3.10/dist-packages/pyLDAvis/gensim_models.py\u001b[0m in \u001b[0;36mprepare\u001b[0;34m(topic_model, corpus, dictionary, doc_topic_dist, **kwargs)\u001b[0m\n\u001b[1;32m    121\u001b[0m     \"\"\"\n\u001b[1;32m    122\u001b[0m     \u001b[0mopts\u001b[0m \u001b[0;34m=\u001b[0m \u001b[0mfp\u001b[0m\u001b[0;34m.\u001b[0m\u001b[0mmerge\u001b[0m\u001b[0;34m(\u001b[0m\u001b[0m_extract_data\u001b[0m\u001b[0;34m(\u001b[0m\u001b[0mtopic_model\u001b[0m\u001b[0;34m,\u001b[0m \u001b[0mcorpus\u001b[0m\u001b[0;34m,\u001b[0m \u001b[0mdictionary\u001b[0m\u001b[0;34m,\u001b[0m \u001b[0mdoc_topic_dist\u001b[0m\u001b[0;34m)\u001b[0m\u001b[0;34m,\u001b[0m \u001b[0mkwargs\u001b[0m\u001b[0;34m)\u001b[0m\u001b[0;34m\u001b[0m\u001b[0;34m\u001b[0m\u001b[0m\n\u001b[0;32m--> 123\u001b[0;31m     \u001b[0;32mreturn\u001b[0m \u001b[0mpyLDAvis\u001b[0m\u001b[0;34m.\u001b[0m\u001b[0mprepare\u001b[0m\u001b[0;34m(\u001b[0m\u001b[0;34m**\u001b[0m\u001b[0mopts\u001b[0m\u001b[0;34m)\u001b[0m\u001b[0;34m\u001b[0m\u001b[0;34m\u001b[0m\u001b[0m\n\u001b[0m",
            "\u001b[0;32m/usr/local/lib/python3.10/dist-packages/pyLDAvis/_prepare.py\u001b[0m in \u001b[0;36mprepare\u001b[0;34m(topic_term_dists, doc_topic_dists, doc_lengths, vocab, term_frequency, R, lambda_step, mds, n_jobs, plot_opts, sort_topics, start_index)\u001b[0m\n\u001b[1;32m    430\u001b[0m     \u001b[0mterm_frequency\u001b[0m \u001b[0;34m=\u001b[0m \u001b[0mnp\u001b[0m\u001b[0;34m.\u001b[0m\u001b[0msum\u001b[0m\u001b[0;34m(\u001b[0m\u001b[0mterm_topic_freq\u001b[0m\u001b[0;34m,\u001b[0m \u001b[0maxis\u001b[0m\u001b[0;34m=\u001b[0m\u001b[0;36m0\u001b[0m\u001b[0;34m)\u001b[0m\u001b[0;34m\u001b[0m\u001b[0;34m\u001b[0m\u001b[0m\n\u001b[1;32m    431\u001b[0m \u001b[0;34m\u001b[0m\u001b[0m\n\u001b[0;32m--> 432\u001b[0;31m     topic_info = _topic_info(topic_term_dists, topic_proportion,\n\u001b[0m\u001b[1;32m    433\u001b[0m                              \u001b[0mterm_frequency\u001b[0m\u001b[0;34m,\u001b[0m \u001b[0mterm_topic_freq\u001b[0m\u001b[0;34m,\u001b[0m \u001b[0mvocab\u001b[0m\u001b[0;34m,\u001b[0m \u001b[0mlambda_step\u001b[0m\u001b[0;34m,\u001b[0m \u001b[0mR\u001b[0m\u001b[0;34m,\u001b[0m\u001b[0;34m\u001b[0m\u001b[0;34m\u001b[0m\u001b[0m\n\u001b[1;32m    434\u001b[0m                              n_jobs, start_index)\n",
            "\u001b[0;32m/usr/local/lib/python3.10/dist-packages/pyLDAvis/_prepare.py\u001b[0m in \u001b[0;36m_topic_info\u001b[0;34m(topic_term_dists, topic_proportion, term_frequency, term_topic_freq, vocab, lambda_step, R, n_jobs, start_index)\u001b[0m\n\u001b[1;32m    271\u001b[0m         ])\n\u001b[1;32m    272\u001b[0m \u001b[0;34m\u001b[0m\u001b[0m\n\u001b[0;32m--> 273\u001b[0;31m     top_terms = pd.concat(Parallel(n_jobs=n_jobs)\n\u001b[0m\u001b[1;32m    274\u001b[0m                           (delayed(_find_relevance_chunks)(log_ttd, log_lift, R, ls)\n\u001b[1;32m    275\u001b[0m                           for ls in _job_chunks(lambda_seq, n_jobs)))\n",
            "\u001b[0;32m/usr/local/lib/python3.10/dist-packages/joblib/parallel.py\u001b[0m in \u001b[0;36m__call__\u001b[0;34m(self, iterable)\u001b[0m\n\u001b[1;32m   1950\u001b[0m         \u001b[0mnext\u001b[0m\u001b[0;34m(\u001b[0m\u001b[0moutput\u001b[0m\u001b[0;34m)\u001b[0m\u001b[0;34m\u001b[0m\u001b[0;34m\u001b[0m\u001b[0m\n\u001b[1;32m   1951\u001b[0m \u001b[0;34m\u001b[0m\u001b[0m\n\u001b[0;32m-> 1952\u001b[0;31m         \u001b[0;32mreturn\u001b[0m \u001b[0moutput\u001b[0m \u001b[0;32mif\u001b[0m \u001b[0mself\u001b[0m\u001b[0;34m.\u001b[0m\u001b[0mreturn_generator\u001b[0m \u001b[0;32melse\u001b[0m \u001b[0mlist\u001b[0m\u001b[0;34m(\u001b[0m\u001b[0moutput\u001b[0m\u001b[0;34m)\u001b[0m\u001b[0;34m\u001b[0m\u001b[0;34m\u001b[0m\u001b[0m\n\u001b[0m\u001b[1;32m   1953\u001b[0m \u001b[0;34m\u001b[0m\u001b[0m\n\u001b[1;32m   1954\u001b[0m     \u001b[0;32mdef\u001b[0m \u001b[0m__repr__\u001b[0m\u001b[0;34m(\u001b[0m\u001b[0mself\u001b[0m\u001b[0;34m)\u001b[0m\u001b[0;34m:\u001b[0m\u001b[0;34m\u001b[0m\u001b[0;34m\u001b[0m\u001b[0m\n",
            "\u001b[0;32m/usr/local/lib/python3.10/dist-packages/joblib/parallel.py\u001b[0m in \u001b[0;36m_get_outputs\u001b[0;34m(self, iterator, pre_dispatch)\u001b[0m\n\u001b[1;32m   1593\u001b[0m \u001b[0;34m\u001b[0m\u001b[0m\n\u001b[1;32m   1594\u001b[0m             \u001b[0;32mwith\u001b[0m \u001b[0mself\u001b[0m\u001b[0;34m.\u001b[0m\u001b[0m_backend\u001b[0m\u001b[0;34m.\u001b[0m\u001b[0mretrieval_context\u001b[0m\u001b[0;34m(\u001b[0m\u001b[0;34m)\u001b[0m\u001b[0;34m:\u001b[0m\u001b[0;34m\u001b[0m\u001b[0;34m\u001b[0m\u001b[0m\n\u001b[0;32m-> 1595\u001b[0;31m                 \u001b[0;32myield\u001b[0m \u001b[0;32mfrom\u001b[0m \u001b[0mself\u001b[0m\u001b[0;34m.\u001b[0m\u001b[0m_retrieve\u001b[0m\u001b[0;34m(\u001b[0m\u001b[0;34m)\u001b[0m\u001b[0;34m\u001b[0m\u001b[0;34m\u001b[0m\u001b[0m\n\u001b[0m\u001b[1;32m   1596\u001b[0m \u001b[0;34m\u001b[0m\u001b[0m\n\u001b[1;32m   1597\u001b[0m         \u001b[0;32mexcept\u001b[0m \u001b[0mGeneratorExit\u001b[0m\u001b[0;34m:\u001b[0m\u001b[0;34m\u001b[0m\u001b[0;34m\u001b[0m\u001b[0m\n",
            "\u001b[0;32m/usr/local/lib/python3.10/dist-packages/joblib/parallel.py\u001b[0m in \u001b[0;36m_retrieve\u001b[0;34m(self)\u001b[0m\n\u001b[1;32m   1697\u001b[0m             \u001b[0;31m# worker traceback.\u001b[0m\u001b[0;34m\u001b[0m\u001b[0;34m\u001b[0m\u001b[0m\n\u001b[1;32m   1698\u001b[0m             \u001b[0;32mif\u001b[0m \u001b[0mself\u001b[0m\u001b[0;34m.\u001b[0m\u001b[0m_aborting\u001b[0m\u001b[0;34m:\u001b[0m\u001b[0;34m\u001b[0m\u001b[0;34m\u001b[0m\u001b[0m\n\u001b[0;32m-> 1699\u001b[0;31m                 \u001b[0mself\u001b[0m\u001b[0;34m.\u001b[0m\u001b[0m_raise_error_fast\u001b[0m\u001b[0;34m(\u001b[0m\u001b[0;34m)\u001b[0m\u001b[0;34m\u001b[0m\u001b[0;34m\u001b[0m\u001b[0m\n\u001b[0m\u001b[1;32m   1700\u001b[0m                 \u001b[0;32mbreak\u001b[0m\u001b[0;34m\u001b[0m\u001b[0;34m\u001b[0m\u001b[0m\n\u001b[1;32m   1701\u001b[0m \u001b[0;34m\u001b[0m\u001b[0m\n",
            "\u001b[0;32m/usr/local/lib/python3.10/dist-packages/joblib/parallel.py\u001b[0m in \u001b[0;36m_raise_error_fast\u001b[0;34m(self)\u001b[0m\n\u001b[1;32m   1732\u001b[0m         \u001b[0;31m# called directly or if the generator is gc'ed.\u001b[0m\u001b[0;34m\u001b[0m\u001b[0;34m\u001b[0m\u001b[0m\n\u001b[1;32m   1733\u001b[0m         \u001b[0;32mif\u001b[0m \u001b[0merror_job\u001b[0m \u001b[0;32mis\u001b[0m \u001b[0;32mnot\u001b[0m \u001b[0;32mNone\u001b[0m\u001b[0;34m:\u001b[0m\u001b[0;34m\u001b[0m\u001b[0;34m\u001b[0m\u001b[0m\n\u001b[0;32m-> 1734\u001b[0;31m             \u001b[0merror_job\u001b[0m\u001b[0;34m.\u001b[0m\u001b[0mget_result\u001b[0m\u001b[0;34m(\u001b[0m\u001b[0mself\u001b[0m\u001b[0;34m.\u001b[0m\u001b[0mtimeout\u001b[0m\u001b[0;34m)\u001b[0m\u001b[0;34m\u001b[0m\u001b[0;34m\u001b[0m\u001b[0m\n\u001b[0m\u001b[1;32m   1735\u001b[0m \u001b[0;34m\u001b[0m\u001b[0m\n\u001b[1;32m   1736\u001b[0m     \u001b[0;32mdef\u001b[0m \u001b[0m_warn_exit_early\u001b[0m\u001b[0;34m(\u001b[0m\u001b[0mself\u001b[0m\u001b[0;34m)\u001b[0m\u001b[0;34m:\u001b[0m\u001b[0;34m\u001b[0m\u001b[0;34m\u001b[0m\u001b[0m\n",
            "\u001b[0;32m/usr/local/lib/python3.10/dist-packages/joblib/parallel.py\u001b[0m in \u001b[0;36mget_result\u001b[0;34m(self, timeout)\u001b[0m\n\u001b[1;32m    734\u001b[0m             \u001b[0;31m# callback thread, and is stored internally. It's just waiting to\u001b[0m\u001b[0;34m\u001b[0m\u001b[0;34m\u001b[0m\u001b[0m\n\u001b[1;32m    735\u001b[0m             \u001b[0;31m# be returned.\u001b[0m\u001b[0;34m\u001b[0m\u001b[0;34m\u001b[0m\u001b[0m\n\u001b[0;32m--> 736\u001b[0;31m             \u001b[0;32mreturn\u001b[0m \u001b[0mself\u001b[0m\u001b[0;34m.\u001b[0m\u001b[0m_return_or_raise\u001b[0m\u001b[0;34m(\u001b[0m\u001b[0;34m)\u001b[0m\u001b[0;34m\u001b[0m\u001b[0;34m\u001b[0m\u001b[0m\n\u001b[0m\u001b[1;32m    737\u001b[0m \u001b[0;34m\u001b[0m\u001b[0m\n\u001b[1;32m    738\u001b[0m         \u001b[0;31m# For other backends, the main thread needs to run the retrieval step.\u001b[0m\u001b[0;34m\u001b[0m\u001b[0;34m\u001b[0m\u001b[0m\n",
            "\u001b[0;32m/usr/local/lib/python3.10/dist-packages/joblib/parallel.py\u001b[0m in \u001b[0;36m_return_or_raise\u001b[0;34m(self)\u001b[0m\n\u001b[1;32m    752\u001b[0m         \u001b[0;32mtry\u001b[0m\u001b[0;34m:\u001b[0m\u001b[0;34m\u001b[0m\u001b[0;34m\u001b[0m\u001b[0m\n\u001b[1;32m    753\u001b[0m             \u001b[0;32mif\u001b[0m \u001b[0mself\u001b[0m\u001b[0;34m.\u001b[0m\u001b[0mstatus\u001b[0m \u001b[0;34m==\u001b[0m \u001b[0mTASK_ERROR\u001b[0m\u001b[0;34m:\u001b[0m\u001b[0;34m\u001b[0m\u001b[0;34m\u001b[0m\u001b[0m\n\u001b[0;32m--> 754\u001b[0;31m                 \u001b[0;32mraise\u001b[0m \u001b[0mself\u001b[0m\u001b[0;34m.\u001b[0m\u001b[0m_result\u001b[0m\u001b[0;34m\u001b[0m\u001b[0;34m\u001b[0m\u001b[0m\n\u001b[0m\u001b[1;32m    755\u001b[0m             \u001b[0;32mreturn\u001b[0m \u001b[0mself\u001b[0m\u001b[0;34m.\u001b[0m\u001b[0m_result\u001b[0m\u001b[0;34m\u001b[0m\u001b[0;34m\u001b[0m\u001b[0m\n\u001b[1;32m    756\u001b[0m         \u001b[0;32mfinally\u001b[0m\u001b[0;34m:\u001b[0m\u001b[0;34m\u001b[0m\u001b[0;34m\u001b[0m\u001b[0m\n",
            "\u001b[0;31mBrokenProcessPool\u001b[0m: A task has failed to un-serialize. Please ensure that the arguments of the function are all picklable."
          ]
        }
      ]
    },
    {
      "cell_type": "markdown",
      "source": [
        "- 문서 별 토픽 분포 보기"
      ],
      "metadata": {
        "id": "ARWlLKqPAbJZ"
      }
    },
    {
      "cell_type": "code",
      "source": [
        "len(ldamodel[corpus])"
      ],
      "metadata": {
        "id": "wQ2fQdl8rPtB"
      },
      "execution_count": null,
      "outputs": []
    },
    {
      "cell_type": "code",
      "source": [
        "ldamodel[corpus][0]"
      ],
      "metadata": {
        "id": "3xaeu2Ajro6N"
      },
      "execution_count": null,
      "outputs": []
    },
    {
      "cell_type": "code",
      "source": [
        "for i, topic_list in enumerate(ldamodel[corpus]):\n",
        "    if i==10:\n",
        "        break\n",
        "    print(i,'번째 문서의 topic 비율은',topic_list)"
      ],
      "metadata": {
        "id": "C2z0uU5CAZOn"
      },
      "execution_count": null,
      "outputs": []
    },
    {
      "cell_type": "code",
      "source": [
        "ldamodel.per_word_topics"
      ],
      "metadata": {
        "id": "7aUyAQGEsMWZ"
      },
      "execution_count": null,
      "outputs": []
    },
    {
      "cell_type": "code",
      "source": [
        "ldamodel[corpus][0]"
      ],
      "metadata": {
        "id": "JdWUYiQnvVuH"
      },
      "execution_count": null,
      "outputs": []
    },
    {
      "cell_type": "code",
      "source": [
        "doc = ldamodel[corpus][0]\n",
        "doc = sorted(doc, key=lambda x: (x[1]), reverse=True) # topic ratio value 값으로 정렬\n",
        "doc"
      ],
      "metadata": {
        "id": "w_QSEjdHumtg"
      },
      "execution_count": null,
      "outputs": []
    },
    {
      "cell_type": "code",
      "source": [
        "def make_topictable_per_doc(ldamodel, corpus):\n",
        "    topic_table = pd.DataFrame()\n",
        "\n",
        "    # 몇 번째 문서인지를 의미하는 문서 번호와 해당 문서의 토픽 비중을 한 줄씩 꺼내온다.\n",
        "    for i, topic_list in enumerate(ldamodel[corpus]):\n",
        "        doc = topic_list[0] if ldamodel.per_word_topics else topic_list\n",
        "        doc = sorted(doc, key=lambda x: (x[1]), reverse=True)\n",
        "        # 각 문서에 대해서 비중이 높은 토픽순으로 토픽을 정렬한다.\n",
        "        # EX) 정렬 전 0번 문서 : (2번 토픽, 48.5%), (8번 토픽, 25%), (10번 토픽, 5%), (12번 토픽, 21.5%),\n",
        "        # Ex) 정렬 후 0번 문서 : (2번 토픽, 48.5%), (8번 토픽, 25%), (12번 토픽, 21.5%), (10번 토픽, 5%)\n",
        "        # 48 > 25 > 21 > 5 순으로 정렬이 된 것.\n",
        "\n",
        "        # 모든 문서에 대해서 각각 아래를 수행\n",
        "        for j, (topic_num, prop_topic) in enumerate(doc): #  몇 번 토픽인지와 비중을 나눠서 저장한다.\n",
        "            if j == 0:  # 정렬을 한 상태이므로 가장 앞에 있는 것이 가장 비중이 높은 토픽\n",
        "                # topic_table = topic_table.append(pd.Series([int(topic_num), round(prop_topic,4), topic_list]), ignore_index=True)\n",
        "                new_data = pd.Series([int(topic_num), round(prop_topic,4), topic_list])\n",
        "                # print(new_data)\n",
        "                topic_table = pd.concat([topic_table, new_data.to_frame().T], ignore_index=True)\n",
        "                # 가장 비중이 높은 토픽과, 가장 비중이 높은 토픽의 비중과, 전체 토픽의 비중을 저장한다.\n",
        "            else:\n",
        "                break\n",
        "        # break\n",
        "    return(topic_table)"
      ],
      "metadata": {
        "id": "WWyODIC4BHuy"
      },
      "execution_count": null,
      "outputs": []
    },
    {
      "cell_type": "code",
      "source": [
        "topictable = make_topictable_per_doc(ldamodel, corpus)\n",
        "topictable.head()"
      ],
      "metadata": {
        "id": "2NDJK_PiBNQo"
      },
      "execution_count": null,
      "outputs": []
    },
    {
      "cell_type": "code",
      "source": [
        "topictable = topictable.reset_index() # 문서 번호을 의미하는 열(column)로 사용하기 위해서 인덱스 열을 하나 더 만든다.\n",
        "topictable.columns = ['문서 번호', '가장 비중이 높은 토픽', '가장 높은 토픽의 비중', '각 토픽의 비중']\n",
        "topictable[:10]"
      ],
      "metadata": {
        "id": "ednR52hmzWwT"
      },
      "execution_count": null,
      "outputs": []
    },
    {
      "cell_type": "code",
      "source": [],
      "metadata": {
        "id": "xK_QAZzn06jl"
      },
      "execution_count": null,
      "outputs": []
    },
    {
      "cell_type": "markdown",
      "source": [
        "## Sklearn LDA - a simple example"
      ],
      "metadata": {
        "id": "zcGptCJfxvGO"
      }
    },
    {
      "cell_type": "code",
      "source": [
        "!pip install konlpy"
      ],
      "metadata": {
        "id": "YCR2yPYMyGb0"
      },
      "execution_count": null,
      "outputs": []
    },
    {
      "cell_type": "code",
      "source": [
        "import konlpy\n",
        "import numpy as np\n",
        "import pandas as pd\n",
        "import sklearn\n",
        "from sklearn.feature_extraction.text import CountVectorizer\n",
        "from sklearn.decomposition import LatentDirichletAllocation\n",
        "from konlpy.tag import Okt"
      ],
      "metadata": {
        "id": "qcpp7MrWyQs2"
      },
      "execution_count": null,
      "outputs": []
    },
    {
      "cell_type": "code",
      "metadata": {
        "id": "ARdial6_xvGP"
      },
      "source": [
        "list_doc = [\"나는 학교에 갑니다.\",\n",
        "      \"우리는 학교에서 공부를 합니다.\",\n",
        "      \"학교에서는 운동도 합니다.\",\n",
        "      \"지금은 골프하기에 아주 좋은 날씨입니다.\",\n",
        "      \"축구를 학교에서 시청하기도 합니다.\",\n",
        "      \"공부를 열시히 해서 좋은 데이터 엔지니어가 될 것입니다.\",\n",
        "      \"학교에서는 많은 친구를 사귑니다.\"]\n",
        "\n",
        "okt = Okt()\n",
        "results = []\n",
        "for line in list_doc:\n",
        "    word_list = okt.pos(line, norm=True, stem=True)\n",
        "    words = []\n",
        "    for word in word_list:\n",
        "        if not word[1] in [\"Josa\", \"eomi\", \"Punctuation\", \"Verb\"]:\n",
        "            words.append(word[0])\n",
        "    words = (\" \".join(words)).strip()\n",
        "    results.append(words)\n"
      ],
      "execution_count": null,
      "outputs": []
    },
    {
      "cell_type": "code",
      "source": [
        "results"
      ],
      "metadata": {
        "id": "jArHacpsyaXM"
      },
      "execution_count": null,
      "outputs": []
    },
    {
      "cell_type": "code",
      "metadata": {
        "id": "ftOe9f8GxvGQ"
      },
      "source": [
        "vect = CountVectorizer(max_features=10)\n",
        "X = vect.fit_transform(results)\n",
        "\n",
        "lda = LatentDirichletAllocation(n_components=5, learning_method=\"batch\",\n",
        "                                max_iter=25, random_state=0)\n",
        "\n",
        "document_topics = lda.fit_transform(X)"
      ],
      "execution_count": null,
      "outputs": []
    },
    {
      "cell_type": "code",
      "metadata": {
        "id": "VIDV5tSgxvGR"
      },
      "source": [
        "X.toarray().shape        # no_documents x no_words"
      ],
      "execution_count": null,
      "outputs": []
    },
    {
      "cell_type": "code",
      "source": [
        " document_topics.shape   # no_documents x no_topics"
      ],
      "metadata": {
        "id": "Zed156ZkxvGS"
      },
      "execution_count": null,
      "outputs": []
    },
    {
      "cell_type": "code",
      "source": [
        "lda.components_.shape    # no_topics x no_words"
      ],
      "metadata": {
        "id": "FXFgwCX3xvGS"
      },
      "execution_count": null,
      "outputs": []
    },
    {
      "cell_type": "code",
      "metadata": {
        "id": "l6gUqwBAxvGT"
      },
      "source": [
        "lda.components_.round(2)    # no of topics x number of words"
      ],
      "execution_count": null,
      "outputs": []
    },
    {
      "cell_type": "code",
      "metadata": {
        "id": "U6D8yUY0xvGU"
      },
      "source": [
        "feature_names = np.array(vect.get_feature_names_out())\n",
        "N=7\n",
        "for i in range(0, lda.components_.shape[0]):\n",
        "    print (\"topic {}:\".format(i))\n",
        "    topic_idx = lda.components_.argsort(axis=1)[:,::-1][i]\n",
        "    print(topic_idx)\n",
        "    topic_words = [topic_idx[j] for j in range(0,N)]\n",
        "    print (feature_names[topic_words])"
      ],
      "execution_count": null,
      "outputs": []
    },
    {
      "cell_type": "code",
      "metadata": {
        "id": "3wsx49RTxvGV"
      },
      "source": [
        "import matplotlib.pyplot as plt\n",
        "plt.bar(np.arange(5), np.sum(document_topics, axis=0), width=0.5)"
      ],
      "execution_count": null,
      "outputs": []
    },
    {
      "cell_type": "markdown",
      "metadata": {
        "id": "3BsFbov-mYgH"
      },
      "source": [
        "## Sklearn LDA - Korean documents\n",
        "- 한국어 기사 예제\n",
        "- 주어진 문서의 주제(카테고리)를 구분 - 비지도 학습\n",
        "- 빅카인즈 뉴스기사 데이터 활용(https://www.bigkinds.or.kr/)\n",
        "- LDA(Latent Dirichlet Allocation) 사용하여 관련된 단어나 문서의 집합을 찾는다. 관련성이 높은 단어들이 발생하면 같은 토픽으로 분류.\n",
        "- 각 문서들의 토픽들이 디리클레 분포를 따른다고 가정.\n",
        "- 문서마다 토픽이 어떻게 분포되어 있는지, 그리고 토픽마다 단어의 분포가 어떻게 되어 있는지 파악, 토픽에 따라 단어의 분포를 결정하고 그 중 가장 확률이 높은 단어를 선택.\n",
        "- LDA:\n",
        "  - 말뭉치로부터 대표적인 토픽 선정\n",
        "  - 해당 토픽으로부터 단어들을 뽑아 문서를 생성\n"
      ]
    },
    {
      "cell_type": "code",
      "metadata": {
        "id": "jwLxNFThoTc9"
      },
      "source": [
        "!pip install konlpy"
      ],
      "execution_count": null,
      "outputs": []
    },
    {
      "cell_type": "code",
      "metadata": {
        "id": "RAKKV201mYgJ"
      },
      "source": [
        "import konlpy\n",
        "import numpy as np\n",
        "import pandas as pd\n",
        "import sklearn\n",
        "from sklearn.feature_extraction.text import CountVectorizer\n",
        "from sklearn.decomposition import LatentDirichletAllocation\n",
        "from konlpy.tag import Okt"
      ],
      "execution_count": null,
      "outputs": []
    },
    {
      "cell_type": "code",
      "metadata": {
        "id": "ohsJ-x4nnakl",
        "scrolled": true
      },
      "source": [
        "!wget https://bit.ly/2QA9xhg -O news_1500.xlsx"
      ],
      "execution_count": null,
      "outputs": []
    },
    {
      "cell_type": "code",
      "metadata": {
        "id": "NWAqESDNmYgM"
      },
      "source": [
        "df_train = pd.read_excel('news_1500.xlsx', names=['기사'],\n",
        "                         keep_default_na=False) # no strings parsed as NaN values\n",
        "#Countvectorizer적용을 위해 list로 변환\n",
        "list_train = df_train['기사'].tolist()"
      ],
      "execution_count": null,
      "outputs": []
    },
    {
      "cell_type": "code",
      "metadata": {
        "id": "Zmxak2j1_CwW"
      },
      "source": [
        "df_train.head(3)"
      ],
      "execution_count": null,
      "outputs": []
    },
    {
      "cell_type": "code",
      "metadata": {
        "id": "F-9QTOBPn0wS"
      },
      "source": [
        "list_train[:5], len(list_train)"
      ],
      "execution_count": null,
      "outputs": []
    },
    {
      "cell_type": "code",
      "metadata": {
        "id": "fiT5TWoImYgQ"
      },
      "source": [
        "okt = Okt()\n",
        "results = []\n",
        "for line in list_train:\n",
        "    word_list = okt.pos(line, norm=True, stem=True)  # part of speech (품사)\n",
        "    words = []\n",
        "    for word in word_list:\n",
        "        if not word[1] in [\"Josa\", \"eomi\", \"Punctuation\", \"Verb\"]:\n",
        "            words.append(word[0])\n",
        "    words = (\" \".join(words)).strip()\n",
        "    results.append(words)"
      ],
      "execution_count": null,
      "outputs": []
    },
    {
      "cell_type": "code",
      "metadata": {
        "id": "jNjcdbhL_gYx"
      },
      "source": [
        "results[:5]"
      ],
      "execution_count": null,
      "outputs": []
    },
    {
      "cell_type": "markdown",
      "source": [
        "- LDA"
      ],
      "metadata": {
        "id": "6Dh1-cSFRoLP"
      }
    },
    {
      "cell_type": "code",
      "metadata": {
        "id": "fOJsf8t2mYgT"
      },
      "source": [
        "# max_df = 0.50 means \"ignore terms that appear in more than 50% of the documents\".\n",
        "# max_df = 25 means \"ignore terms that appear in more than 25 documents\".\n",
        "\n",
        "vect = CountVectorizer(max_features=10000, max_df=.10)\n",
        "X = vect.fit_transform(results)\n",
        "\n",
        "# n_components: number of topics\n",
        "lda = LatentDirichletAllocation(n_components=10, learning_method=\"batch\",\n",
        "                                max_iter=25, random_state=0)\n",
        "\n",
        "document_topics = lda.fit_transform(X)    # need to fit and transform in sklearn"
      ],
      "execution_count": null,
      "outputs": []
    },
    {
      "cell_type": "code",
      "source": [
        "X.shape, document_topics.shape    # no_documents x no_topics"
      ],
      "metadata": {
        "id": "uztqlxIWSC7N"
      },
      "execution_count": null,
      "outputs": []
    },
    {
      "cell_type": "code",
      "metadata": {
        "id": "ok1qMP4NSTcy"
      },
      "source": [
        "document_topics[0]"
      ],
      "execution_count": null,
      "outputs": []
    },
    {
      "cell_type": "markdown",
      "metadata": {
        "id": "1yCBOQqP2HOJ"
      },
      "source": [
        "- components_[i, j] can be viewed as pseudocount that represents the number of times (word j was assigned to topic i).\n",
        "-  It can also be viewed as distribution over the words for each topic after normalization:"
      ]
    },
    {
      "cell_type": "code",
      "metadata": {
        "id": "6y4q5t_S6PoQ"
      },
      "source": [
        "lda.components_.shape     # no_topics x no_vocabularies"
      ],
      "execution_count": null,
      "outputs": []
    },
    {
      "cell_type": "code",
      "metadata": {
        "id": "9CDlvyGlmYgV"
      },
      "source": [
        "lda.components_[0]"
      ],
      "execution_count": null,
      "outputs": []
    },
    {
      "cell_type": "code",
      "metadata": {
        "id": "W7dVkl142HOK"
      },
      "source": [
        "lda.components_.argsort(axis=1)[:,::-1]"
      ],
      "execution_count": null,
      "outputs": []
    },
    {
      "cell_type": "code",
      "metadata": {
        "id": "Xwof2b3HmYgZ"
      },
      "source": [
        "# 토픽마다(components_의 행) 특성을 오름차순으로 정렬합니다\n",
        "# 내림차순이 되도록 [:, ::-1] 사용해 행의 정렬을 반대로 바꿉니다\n",
        "sorting = np.argsort(lda.components_, axis=1)[:, ::-1]\n",
        "\n",
        "# CountVectorizer 객체에서 특성 이름을 구합니다.\n",
        "feature_names = np.array(vect.get_feature_names_out())"
      ],
      "execution_count": null,
      "outputs": []
    },
    {
      "cell_type": "code",
      "metadata": {
        "scrolled": true,
        "id": "ElzlUCPT2HON"
      },
      "source": [
        "N = 10 # number of words to print for each topic\n",
        "for i in range(0, lda.components_.shape[0]):\n",
        "    print (\"topic {}:\".format(i))\n",
        "    topic_idx = lda.components_.argsort(axis=1)[:,::-1][i]\n",
        "    topic_words = [topic_idx[j] for j in range(0,N)]\n",
        "    print (feature_names[topic_words])"
      ],
      "execution_count": null,
      "outputs": []
    },
    {
      "cell_type": "code",
      "metadata": {
        "id": "XOiDo2XumYgc",
        "scrolled": true
      },
      "source": [
        "### text 에 있는 포맷 (위와 동일한 정보) ###\n",
        "\n",
        "%matplotlib inline\n",
        "import matplotlib.pyplot as plt\n",
        "\n",
        "def print_topics(topics, feature_names, sorting, topics_per_chunk=6, n_words=20):\n",
        "    for i in range(0, len(topics), topics_per_chunk):\n",
        "        # for each chunk:\n",
        "        these_topics = topics[i: i + topics_per_chunk]\n",
        "        # maybe we have less than topics_per_chunk left\n",
        "        len_this_chunk = len(these_topics)\n",
        "        # print topic headers\n",
        "        print((\"topic {:<8}\" * len_this_chunk).format(*these_topics))\n",
        "        print((\"-------- {0:<5}\" * len_this_chunk).format(\"\"))\n",
        "        # print top n_words frequent words\n",
        "        for i in range(n_words):\n",
        "            try:\n",
        "                print((\"{:<14}\" * len_this_chunk).format(\n",
        "                    *feature_names[sorting[these_topics, i]]))\n",
        "            except:\n",
        "                pass\n",
        "        print(\"\\n\")\n"
      ],
      "execution_count": null,
      "outputs": []
    },
    {
      "cell_type": "code",
      "metadata": {
        "id": "rfk58_4C-Ds4"
      },
      "source": [
        "print_topics(topics=range(10), feature_names=feature_names, sorting=sorting,\n",
        "             topics_per_chunk=4, n_words=10)"
      ],
      "execution_count": null,
      "outputs": []
    },
    {
      "cell_type": "code",
      "metadata": {
        "id": "ybisFleNmYgf"
      },
      "source": [
        "# 100개 토픽으로 학습\n",
        "lda100 = LatentDirichletAllocation(n_components=100, learning_method=\"batch\",\n",
        "                                   max_iter=25, random_state=0)\n",
        "document_topics100 = lda100.fit_transform(X)"
      ],
      "execution_count": null,
      "outputs": []
    },
    {
      "cell_type": "code",
      "metadata": {
        "id": "j1LVxI1PmYgi"
      },
      "source": [
        "topics = np.array([7, 16, 24, 41, 45, 51, 54, 81, 89, 97])"
      ],
      "execution_count": null,
      "outputs": []
    },
    {
      "cell_type": "code",
      "metadata": {
        "id": "aXLkPbtdmYgk"
      },
      "source": [
        "sorting = np.argsort(lda100.components_, axis=1)[:, ::-1]\n",
        "feature_names = np.array(vect.get_feature_names_out())\n",
        "print_topics(topics=topics, feature_names=feature_names,\n",
        "                           sorting=sorting, topics_per_chunk=5, n_words=10)"
      ],
      "execution_count": null,
      "outputs": []
    },
    {
      "cell_type": "code",
      "metadata": {
        "id": "QUuY_Ge82HOW"
      },
      "source": [
        "document_topics100.shape"
      ],
      "execution_count": null,
      "outputs": []
    },
    {
      "cell_type": "code",
      "metadata": {
        "id": "ExxK6n7P2HOX"
      },
      "source": [
        "np.argsort(document_topics100[:, 77])[::-1]"
      ],
      "execution_count": null,
      "outputs": []
    },
    {
      "cell_type": "code",
      "metadata": {
        "id": "lkML7dNemYgo"
      },
      "source": [
        "# 관련 토픽 77를 가중치로 정렬\n",
        "topic77 = np.argsort(document_topics100[:, 77])[::-1]\n",
        "\n",
        "# 이 토픽이 가장 비중이 큰 문서 다섯개를 출력\n",
        "for i in topic77[:5]:\n",
        "    # 첫 두 문장을 출력합니다\n",
        "    print(list_train[i], \"\\n\")\n",
        "    print(\"***\")"
      ],
      "execution_count": null,
      "outputs": []
    },
    {
      "cell_type": "code",
      "metadata": {
        "id": "wWD5U4a-tDyp"
      },
      "source": [
        "#한글 폰트 설치 (should restart the kernel after installing)\n",
        "\n",
        "import matplotlib\n",
        "!apt-get install fonts-nanum*\n",
        "!apt-get install fontconfig\n",
        "!fc-cache -fv\n",
        "!cp /usr/share/fonts/truetype/nanum/Nanum* /usr/local/lib/python3.6/dist-packages/matplotlib/mpl-data/fonts/ttf/\n",
        "!rm -rf /content/.cache/matplotlib/*\n",
        "import matplotlib.font_manager\n",
        "matplotlib.font_manager._load_fontmanager(try_read_cache=False)\n",
        "# matplotlib.font_manager._rebuild()\n"
      ],
      "execution_count": null,
      "outputs": []
    },
    {
      "cell_type": "code",
      "metadata": {
        "id": "zgdc2cEtmYgs"
      },
      "source": [
        "import platform\n",
        "from matplotlib import font_manager, rc\n",
        "\n",
        "import matplotlib.pyplot as plt\n",
        "import matplotlib\n",
        "\n",
        "if platform.system() == 'Windows':\n",
        "    path = \"c:\\Windows\\Fonts\\malgun.ttf\"\n",
        "    font_name = font_manager.FontProperties(fname=path).get_name()\n",
        "    rc('font', family=font_name)\n",
        "# 맥\n",
        "elif platform.system() == 'Darwin':\n",
        "    rc('font', family='AppleGothic')\n",
        "# 리눅스\n",
        "elif platform.system() == 'Linux':\n",
        "    # rc('font', family='NanumBarunGothic')\n",
        "    rc('font', family='NanumBarunGothic')\n",
        "else:\n",
        "    print('system error...')"
      ],
      "execution_count": null,
      "outputs": []
    },
    {
      "cell_type": "code",
      "metadata": {
        "id": "pTkre3cNVSJe"
      },
      "source": [
        "sorting"
      ],
      "execution_count": null,
      "outputs": []
    },
    {
      "cell_type": "code",
      "source": [
        "feature_names.shape, feature_names[:10]"
      ],
      "metadata": {
        "id": "BqkjitjFW3qd"
      },
      "execution_count": null,
      "outputs": []
    },
    {
      "cell_type": "code",
      "source": [
        "feature_names[sorting[:, :2]].shape   # 각 topic 별 가장 많이 할당된 단어 2개씩"
      ],
      "metadata": {
        "id": "5Px-efecXeGE"
      },
      "execution_count": null,
      "outputs": []
    },
    {
      "cell_type": "code",
      "metadata": {
        "id": "aeAikJ2a2HOb"
      },
      "source": [
        "fig, ax = plt.subplots(1, 2, figsize=(10, 10))\n",
        "topic_names = [\"{:>2} \".format(i) + \" \".join(words)\n",
        "               for i, words in enumerate(feature_names[sorting[:, :2]])]\n",
        "\n",
        "# 두 개의 열이 있는 막대 그래프\n",
        "for col in [0, 1]:\n",
        "    start = col * 50\n",
        "    end = (col + 1) * 50\n",
        "    ax[col].barh(np.arange(50), np.sum(document_topics100, axis=0)[start:end])\n",
        "    ax[col].set_yticks(np.arange(50))\n",
        "    ax[col].set_yticklabels(topic_names[start:end], ha=\"left\", va=\"top\")\n",
        "    ax[col].invert_yaxis()\n",
        "    ax[col].set_xlim(0, 100)\n",
        "    yax = ax[col].get_yaxis()\n",
        "    yax.set_tick_params(pad=130)\n",
        "plt.tight_layout()"
      ],
      "execution_count": null,
      "outputs": []
    },
    {
      "cell_type": "markdown",
      "source": [
        "# Exercise"
      ],
      "metadata": {
        "id": "Y0Fcg1mcZlMc"
      }
    },
    {
      "cell_type": "markdown",
      "source": [
        "## string replacement"
      ],
      "metadata": {
        "id": "EvNu9vBAWF1q"
      }
    },
    {
      "cell_type": "code",
      "source": [
        "# for reference\n",
        "# in Pandas dataframes, it support regular expressions in the first argument.\n",
        "# But, in regular Python strings, str.replace() method does not directly support regular expressions in its first argument.\n",
        "# - you will have to use re.sub()\n",
        "\n",
        "x = \"aa kk3abb bc'cc cdddd\"\n",
        "print(x.replace(\"[^a-zA-Z]\", \" \"))\n",
        "\n",
        "import re\n",
        "\n",
        "x2 = re.sub(r'[^a-zA-Z]', ' ', x)\n",
        "print(x2)\n",
        "\n",
        "df = pd.DataFrame(columns=['a'])\n",
        "\n",
        "df['a'] = [x]\n",
        "df['a'] = df['a'].str.replace(\"[^a-zA-Z]\", \" \", regex=True)  # default: True will change to False in the futue version.\n",
        "df\n"
      ],
      "metadata": {
        "id": "Qw4Yb-k7WGPQ"
      },
      "execution_count": null,
      "outputs": []
    },
    {
      "cell_type": "markdown",
      "source": [
        "## corpora.dictionary:\n",
        "- it implements the concept of a Dictionary – a mapping between words and their integer ids."
      ],
      "metadata": {
        "id": "HFlouckhmMG0"
      }
    },
    {
      "cell_type": "code",
      "source": [
        "from gensim.corpora import Dictionary\n",
        "\n",
        "texts = [['human', 'interface', 'computer', 'play'],\n",
        "         ['men', 'data', 'science']]\n",
        "dct = Dictionary(texts)  # initialize a Dictionary"
      ],
      "metadata": {
        "id": "7q_cC0lSl0H7"
      },
      "execution_count": null,
      "outputs": []
    },
    {
      "cell_type": "code",
      "source": [
        "dct.token2id    # token -> token_id"
      ],
      "metadata": {
        "id": "L2yQc7qdmbuC"
      },
      "execution_count": null,
      "outputs": []
    },
    {
      "cell_type": "code",
      "source": [
        "dct.add_documents([[\"cat\", \"say\", \"meow\"],\n",
        "                   [\"dog\", \"say\", \"walwal\"],\n",
        "                   ['rabbit']])  # add more document (extend the vocabulary)\n",
        "dct.token2id"
      ],
      "metadata": {
        "id": "AxR9HTW0l5FV"
      },
      "execution_count": null,
      "outputs": []
    },
    {
      "cell_type": "code",
      "source": [
        "len(dct)"
      ],
      "metadata": {
        "id": "VKOEZf-atNTo"
      },
      "execution_count": null,
      "outputs": []
    },
    {
      "cell_type": "code",
      "source": [
        "# convert document into BoW format(id, counts)\n",
        "dct.doc2bow([\"dog\", \"play\", \"computer\", \"computer\", \"any_non_existent_word\"])"
      ],
      "metadata": {
        "id": "NF7DyH96nIw6"
      },
      "execution_count": null,
      "outputs": []
    },
    {
      "cell_type": "markdown",
      "source": [
        "## some python gramma exercises"
      ],
      "metadata": {
        "id": "66QFysy3pSMC"
      }
    },
    {
      "cell_type": "code",
      "metadata": {
        "id": "nTQeGHQ78fLS"
      },
      "source": [
        "try:\n",
        "    for i in range(5,-1,-1):\n",
        "        print (5 // i)\n",
        "except ZeroDivisionError:\n",
        "    print(\"divide-by-zero error.\")\n",
        "finally:\n",
        "    print(\"Done...\")"
      ],
      "execution_count": null,
      "outputs": []
    },
    {
      "cell_type": "code",
      "metadata": {
        "id": "3-DNRMoy88el"
      },
      "source": [
        "list(range(10,-1,-1))"
      ],
      "execution_count": null,
      "outputs": []
    },
    {
      "cell_type": "code",
      "source": [
        "(\"{}\").format(list(range(5)))"
      ],
      "metadata": {
        "id": "GhWmM51VcF4A"
      },
      "execution_count": null,
      "outputs": []
    },
    {
      "cell_type": "code",
      "source": [
        "(\"{}\").format(*range(5))"
      ],
      "metadata": {
        "id": "j108My_QcT__"
      },
      "execution_count": null,
      "outputs": []
    },
    {
      "cell_type": "code",
      "metadata": {
        "id": "_mLNIx3d9SBz"
      },
      "source": [
        "(\"{}\" * 5).format(*range(5))"
      ],
      "execution_count": null,
      "outputs": []
    },
    {
      "cell_type": "code",
      "source": [
        "(\"{:<5}\" * 5).format(*range(5))"
      ],
      "metadata": {
        "id": "IPLB_eO8MQcO"
      },
      "execution_count": null,
      "outputs": []
    },
    {
      "cell_type": "code",
      "source": [
        "a = [1,2,3]\n",
        "print(a)\n",
        "print(*a)"
      ],
      "metadata": {
        "id": "PXhFCwPjJheE"
      },
      "execution_count": null,
      "outputs": []
    },
    {
      "cell_type": "code",
      "source": [
        "d = {\"A\":12, \"B\": 56}\n",
        "print(d)\n",
        "print(*d)"
      ],
      "metadata": {
        "id": "0ObD58q2MxB-"
      },
      "execution_count": null,
      "outputs": []
    },
    {
      "cell_type": "markdown",
      "source": [
        "## Dirichlet distribution\n",
        "- can be seen as a multivariate generalization of a Beta distribution"
      ],
      "metadata": {
        "id": "rmgZ68CuhSnL"
      }
    },
    {
      "cell_type": "markdown",
      "source": [
        "- (Example) [Wikipedia] this distribution can be used if one wanted to cut strings (each of initial length 1.0) into K pieces with different lengths, where each piece had a designated average length (on average), but allowing some variation in the relative sizes of the pieces.\n",
        "- Let's draw some samples from Dirichlet distribution based on some belief.\n",
        "- **alpha**: Higher alpha values concentrate the distribution more around the mean, while lower alpha values result in a more spread-out distribution"
      ],
      "metadata": {
        "id": "_ZPxecqd3KO-"
      }
    },
    {
      "cell_type": "code",
      "source": [
        "import matplotlib.pyplot as plt\n",
        "%matplotlib inline\n",
        "\n",
        "alpha = (10, 10, 10)       # your belief\n",
        "\n",
        "s = np.random.dirichlet(alpha, 20).transpose()\n",
        "print('average length per class:', s.mean(axis=1))\n",
        "\n",
        "plt.barh(range(20), s[0])\n",
        "plt.barh(range(20), s[1], left=s[0], color='g')\n",
        "plt.barh(range(20), s[2], left=s[0]+s[1], color='r')\n",
        "plt.title(\"Lengths of Strings\")\n",
        "plt.plot()"
      ],
      "metadata": {
        "id": "g8oDb2aG7kst"
      },
      "execution_count": null,
      "outputs": []
    },
    {
      "cell_type": "code",
      "source": [
        "alpha = (6, 3, 1)       # your belief\n",
        "\n",
        "s = np.random.dirichlet(alpha, 20).transpose()\n",
        "print('average length per class:', s.mean(axis=1))\n",
        "\n",
        "plt.barh(range(20), s[0])\n",
        "plt.barh(range(20), s[1], left=s[0], color='g')\n",
        "plt.barh(range(20), s[2], left=s[0]+s[1], color='r')\n",
        "plt.title(\"Lengths of Strings\")\n",
        "plt.plot()"
      ],
      "metadata": {
        "id": "UGxzu1_I23uW"
      },
      "execution_count": null,
      "outputs": []
    },
    {
      "cell_type": "markdown",
      "source": [
        "- Let's plot the distribution of samples.\n",
        "  - The distribution of each class or category in a Dirichlet distribution is not normally distributed.\n",
        "  - The Dirichlet distribution is appropriate for modeling probabilities or proportions in a constrained space."
      ],
      "metadata": {
        "id": "iJNWSySx46uw"
      }
    },
    {
      "cell_type": "code",
      "source": [
        "import numpy as np\n",
        "import matplotlib.pyplot as plt\n",
        "import seaborn as sns\n",
        "\n",
        "# Define the parameters (alpha values)\n",
        "alpha = [6, 3, 1]             # your belief\n",
        "\n",
        "num_samples = 100000           # Number of samples to generate\n",
        "\n",
        "# Generate multiple random samples from the Dirichlet distribution\n",
        "samples = np.random.dirichlet(alpha, size=num_samples)\n",
        "print('average length per class:', samples.mean(axis=0))\n",
        "\n",
        "# Plot the distribution of samples\n",
        "plt.figure(figsize=(5, 3))\n",
        "\n",
        "# For each category, create a histogram\n",
        "sns.displot(samples, kde=True)\n",
        "\n",
        "plt.xlabel('Probability')\n",
        "plt.ylabel('Frequency')\n",
        "plt.title('Distribution of Dirichlet Samples')\n",
        "plt.legend()\n",
        "plt.show()\n"
      ],
      "metadata": {
        "id": "VgMwhLMl4UD0"
      },
      "execution_count": null,
      "outputs": []
    },
    {
      "cell_type": "code",
      "source": [
        "labels = ['class 1', 'class 2', 'class 3']\n",
        "plt.boxplot(samples, labels=labels)\n",
        "plt.legend()"
      ],
      "metadata": {
        "id": "Ix_x4a409nW2"
      },
      "execution_count": null,
      "outputs": []
    },
    {
      "cell_type": "code",
      "source": [
        "num_samples = 100000           # Number of samples to generate\n",
        "alphas = [[1,1,1], [50,50,50], [1,5,10], [10,50,100]]\n",
        "samples = np.random.dirichlet(alphas[0], size=num_samples)\n",
        "sns.displot(samples, kde=True)"
      ],
      "metadata": {
        "id": "jNbLdkUcL5Cr"
      },
      "execution_count": null,
      "outputs": []
    },
    {
      "cell_type": "code",
      "source": [
        "num_samples = 100000           # Number of samples to generate\n",
        "alphas = [[1,1,1], [50,50,50], [1,5,10], [10,50,100]]\n",
        "\n",
        "samples = np.random.dirichlet(alphas[1], size=num_samples)\n",
        "plt.figure(figsize=(4,4))\n",
        "sns.displot(samples, kde=True)"
      ],
      "metadata": {
        "id": "pfzBBE8UFYnr"
      },
      "execution_count": null,
      "outputs": []
    },
    {
      "cell_type": "code",
      "source": [
        "samples = np.random.dirichlet(alphas[2], size=num_samples)\n",
        "plt.figure(figsize=(4,4))\n",
        "sns.displot(samples, kde=True)"
      ],
      "metadata": {
        "id": "j115UAIvPdR6"
      },
      "execution_count": null,
      "outputs": []
    },
    {
      "cell_type": "markdown",
      "source": [
        "- nice Visualization of the Drichlet Distribution\n",
        "  - https://blog.bogatron.net/blog/2014/02/02/visualizing-dirichlet-distributions/"
      ],
      "metadata": {
        "id": "ImKkiyY4DB8S"
      }
    },
    {
      "cell_type": "code",
      "source": [
        "%matplotlib inline\n",
        "import numpy as np\n",
        "import matplotlib.pyplot as plt\n",
        "import matplotlib.tri as tri\n",
        "\n",
        "corners = np.array([[0, 0], [1, 0], [0.5, 0.75**0.5]])\n",
        "AREA = 0.5 * 1 * 0.75**0.5\n",
        "triangle = tri.Triangulation(corners[:, 0], corners[:, 1])"
      ],
      "metadata": {
        "id": "w7lDEXO-DBbD"
      },
      "execution_count": null,
      "outputs": []
    },
    {
      "cell_type": "code",
      "source": [
        "refiner = tri.UniformTriRefiner(triangle)\n",
        "trimesh = refiner.refine_triangulation(subdiv=4)\n",
        "\n",
        "plt.figure(figsize=(8, 4))\n",
        "for (i, mesh) in enumerate((triangle, trimesh)):\n",
        "    plt.subplot(1, 2, i+ 1)\n",
        "    plt.triplot(mesh)\n",
        "    plt.axis('off')\n",
        "    plt.axis('equal')"
      ],
      "metadata": {
        "id": "hbPn867xDMFb"
      },
      "execution_count": null,
      "outputs": []
    },
    {
      "cell_type": "code",
      "source": [
        "# For each corner of the triangle, the pair of other corners\n",
        "pairs = [corners[np.roll(range(3), -i)[1:]] for i in range(3)]\n",
        "# The area of the triangle formed by point xy and another pair or points\n",
        "tri_area = lambda xy, pair: 0.5 * np.linalg.norm(np.cross(*(pair - xy)))\n",
        "\n",
        "def xy2bc(xy, tol=1.e-4):\n",
        "    '''Converts 2D Cartesian coordinates to barycentric.'''\n",
        "    coords = np.array([tri_area(xy, p) for p in pairs]) / AREA\n",
        "    return np.clip(coords, tol, 1.0 - tol)"
      ],
      "metadata": {
        "id": "NDF-FNFqDPUG"
      },
      "execution_count": null,
      "outputs": []
    },
    {
      "cell_type": "code",
      "source": [
        "class Dirichlet(object):\n",
        "    def __init__(self, alpha):\n",
        "        from math import gamma\n",
        "        from operator import mul\n",
        "        self._alpha = np.array(alpha)\n",
        "        self._coef = gamma(np.sum(self._alpha)) / \\\n",
        "                           np.multiply.reduce([gamma(a) for a in self._alpha])\n",
        "    def pdf(self, x):\n",
        "        '''Returns pdf value for `x`.'''\n",
        "        from operator import mul\n",
        "        return self._coef * np.multiply.reduce([xx ** (aa - 1)\n",
        "                                               for (xx, aa)in zip(x, self._alpha)])"
      ],
      "metadata": {
        "id": "kZLm3719DSdl"
      },
      "execution_count": null,
      "outputs": []
    },
    {
      "cell_type": "code",
      "source": [
        "def draw_pdf_contours(dist, nlevels=200, subdiv=8, **kwargs):\n",
        "    import math\n",
        "\n",
        "    refiner = tri.UniformTriRefiner(triangle)\n",
        "    trimesh = refiner.refine_triangulation(subdiv=subdiv)\n",
        "    pvals = [dist.pdf(xy2bc(xy)) for xy in zip(trimesh.x, trimesh.y)]\n",
        "\n",
        "    plt.tricontourf(trimesh, pvals, nlevels, cmap='jet', **kwargs)\n",
        "    plt.axis('equal')\n",
        "    plt.xlim(0, 1)\n",
        "    plt.ylim(0, 0.75**0.5)\n",
        "    plt.axis('off')"
      ],
      "metadata": {
        "id": "SV12sP_eDVbm"
      },
      "execution_count": null,
      "outputs": []
    },
    {
      "cell_type": "code",
      "source": [
        "draw_pdf_contours(Dirichlet([1, 1, 1]))"
      ],
      "metadata": {
        "id": "8yjq0vopDXzj"
      },
      "execution_count": null,
      "outputs": []
    },
    {
      "cell_type": "code",
      "source": [
        "draw_pdf_contours(Dirichlet([0.999, 0.999, 0.999]))"
      ],
      "metadata": {
        "id": "lXsQQw2pDZ7l"
      },
      "execution_count": null,
      "outputs": []
    },
    {
      "cell_type": "code",
      "source": [
        "draw_pdf_contours(Dirichlet([5, 5, 5]))"
      ],
      "metadata": {
        "id": "EqP0HjNADcbU"
      },
      "execution_count": null,
      "outputs": []
    },
    {
      "cell_type": "code",
      "source": [
        "draw_pdf_contours(Dirichlet([50, 50, 50]))"
      ],
      "metadata": {
        "id": "QeU23WosDef1"
      },
      "execution_count": null,
      "outputs": []
    },
    {
      "cell_type": "code",
      "source": [
        "draw_pdf_contours(Dirichlet([6, 3, 1]))"
      ],
      "metadata": {
        "id": "p7L9dq07EAHv"
      },
      "execution_count": null,
      "outputs": []
    },
    {
      "cell_type": "code",
      "source": [
        "draw_pdf_contours(Dirichlet([10, 1, 1]))"
      ],
      "metadata": {
        "id": "kwHkYf8SEh7L"
      },
      "execution_count": null,
      "outputs": []
    }
  ]
}